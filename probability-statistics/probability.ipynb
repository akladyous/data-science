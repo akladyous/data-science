{
 "cells": [
  {
   "cell_type": "code",
   "execution_count": 2,
   "id": "1e57f248-e235-4606-a95c-f9f5e219a306",
   "metadata": {},
   "outputs": [],
   "source": [
    "import numpy as np"
   ]
  },
  {
   "cell_type": "code",
   "execution_count": 1,
   "id": "883b3229-bc0a-44c8-9da1-8b8eccb92fc0",
   "metadata": {},
   "outputs": [],
   "source": [
    "a = set(range(1,11))\n",
    "possible_outcomes = 0\n",
    "for x in range(len(a)):\n",
    "    if a[x] % 2 == 0:\n",
    "        possible_outcomes += 1\n",
    "print(possible_outcomes)"
   ]
  },
  {
   "cell_type": "code",
   "execution_count": 2,
   "id": "8443e8c5-42fe-475c-b2e2-d88952418e6f",
   "metadata": {},
   "outputs": [
    {
     "data": {
      "text/plain": [
       "{1, 2, 3, 4, 5, 6, 7, 8, 9, 10}"
      ]
     },
     "execution_count": 2,
     "metadata": {},
     "output_type": "execute_result"
    }
   ],
   "source": [
    "a"
   ]
  },
  {
   "cell_type": "code",
   "execution_count": 9,
   "id": "735841e5-4647-414d-81df-3614dda258eb",
   "metadata": {},
   "outputs": [
    {
     "name": "stdout",
     "output_type": "stream",
     "text": [
      "0.4\n"
     ]
    }
   ],
   "source": [
    "a = set(range(1,11))\n",
    "possible_outcomes = len([x for x in a if x%2==0])\n",
    "a_complement = - possible_outcomes\n",
    "print(a_complement)"
   ]
  },
  {
   "cell_type": "code",
   "execution_count": 11,
   "id": "86eaf393-0bc3-463a-81dc-b580562dcea4",
   "metadata": {},
   "outputs": [],
   "source": [
    "universal_set = set(range(1, 11))\n",
    "event_A = set([2, 4, 6, 8, 10])\n",
    "event_A_complement = universal_set - event_A"
   ]
  },
  {
   "cell_type": "code",
   "execution_count": 12,
   "id": "c1f7fdbc-5f1d-4bbf-80f5-dbf087bceaa9",
   "metadata": {},
   "outputs": [
    {
     "name": "stdout",
     "output_type": "stream",
     "text": [
      "universal set :  {1, 2, 3, 4, 5, 6, 7, 8, 9, 10}\n",
      "Event A: {2, 4, 6, 8, 10}\n",
      "Complement of A: {1, 3, 5, 7, 9}\n",
      "Probability of A: 0.5\n",
      "Probability of A complement: 0.5\n"
     ]
    }
   ],
   "source": [
    "probability_A = len(event_A) / len(universal_set)\n",
    "probability_A_complement = 1 - probability_A\n",
    "\n",
    "# Print the results\n",
    "print(\"universal set : \", universal_set)\n",
    "print(\"Event A:\", event_A)\n",
    "print(\"Complement of A:\", event_A_complement)\n",
    "print(\"Probability of A:\", probability_A)\n",
    "print(\"Probability of A complement:\", probability_A_complement)\n"
   ]
  },
  {
   "cell_type": "code",
   "execution_count": 1,
   "id": "698370e1-b866-4549-848b-7c1dc94a208c",
   "metadata": {},
   "outputs": [],
   "source": [
    "import matplotlib.pyplot as plt\n",
    "from matplotlib_venn import venn2, venn3"
   ]
  },
  {
   "cell_type": "markdown",
   "id": "99313db1-91fc-485c-bb77-9c87c4895ff7",
   "metadata": {},
   "source": [
    "# Sample space for the outcomes of two independent events A and B"
   ]
  },
  {
   "cell_type": "markdown",
   "id": "fc25bae8-dc78-4719-88b3-e524f14e6ce3",
   "metadata": {},
   "source": [
    "# Addition Rule of Probability\n",
    "\n",
    "The addition rule of probability is a fundamental concept in probability theory that deals with the probability of the union of two events. It is expressed mathematically as:\n",
    "\n",
    "$ P(A \\cup B) = P(A) + P(B) - P(A \\cap B) $\n",
    "\n",
    "Here:\n",
    "- ( $P(A \\cup  B) )$ is the probability of the union of events A and B.\n",
    "- ( $P(A) )$ is the probability of event A.\n",
    "- ( $P(B) )$ is the probability of event B.\n",
    "- ( $P(A \\cap B))$ is the probability of the intersection of events A and B.\n",
    "\n",
    "The addition rule accounts for the fact that when events A and B are not mutually exclusive (i.e., they can both occur), the probability of their union is the sum of their individual probabilities minus the probability of their intersection."
   ]
  },
  {
   "cell_type": "markdown",
   "id": "510f8149-ff21-4295-8af5-e706a72d1cc3",
   "metadata": {},
   "source": [
    "# Mutually Exclusive and Not Mutually Exclusive Events in the Addition Rule\n",
    "\n",
    "In the context of the addition rule of probability, the distinction between mutually exclusive and not mutually exclusive events is crucial.\n",
    "\n",
    "## Mutually Exclusive Events\n",
    "\n",
    "Mutually exclusive events are those where the occurrence of one event excludes the occurrence of the other. In the addition rule, this translates to:\n",
    "\n",
    "- **Mathematical Condition:**\n",
    "  - If events A and B are mutually exclusive, the probability of their intersection $((P(A \\cap B)))$ is zero.\n",
    "  \n",
    "- **Addition Rule for Mutually Exclusive Events:**\n",
    "  - The addition rule simplifies to: $ P(A \\cup B) = P(A) + P(B) $\n",
    "\n",
    "## Not Mutually Exclusive Events\n",
    "\n",
    "Not mutually exclusive events are those where the occurrence of one event does not preclude the occurrence of the other. In the addition rule, this implies:\n",
    "\n",
    "- **Mathematical Condition:**\n",
    "  - If events A and B are not mutually exclusive, there is a possibility of overlap, and the probability of their\n",
    "    intersection $(P(A \\cap B))$ is greater than zero.\n",
    "\n",
    "- **Addition Rule for Not Mutually Exclusive Events:**\n",
    "  - The addition rule is adjusted to avoid double-counting the overlapping part: $ P(A \\cup B) = P(A) + P(B) - P(A \\cap B) $\n",
    "\n",
    "## Summary\n",
    "\n",
    "- **Mutual Exclusivity:**\n",
    "  - Events A and B are mutually exclusive if $(P(A \\cap B) = 0)$.\n",
    "  - The addition rule simplifies to $(P(A \\cup B) = P(A) + P(B))$.\n",
    "\n",
    "- **Not Mutual Exclusivity:**\n",
    "  - Events A and B are not mutually exclusive if $(P(A \\cap B) > 0)$.\n",
    "  - The addition rule includes a correction term to account for the overlap: $(P(A \\cup B) = P(A) + P(B) - P(A \\cap B))$.\n",
    "\n",
    "\n",
    "## Example in Python\n",
    "\n",
    "Let's consider an example where we have two events A and B. The probability of event A is 0.4, the probability of event B is 0.3, and the probability of their intersection is 0.1.\n",
    "\n",
    "```python\n",
    "# Given probabilities\n",
    "probability_A = 0.4\n",
    "probability_B = 0.3\n",
    "probability_intersection = 0.1\n",
    "\n",
    "# Calculate the probability of the union using the addition rule\n",
    "probability_union = probability_A + probability_B - probability_intersection\n",
    "\n",
    "# Display the result\n",
    "print(f\"Probability of A ∪ B: {probability_union}\")\n"
   ]
  },
  {
   "cell_type": "code",
   "execution_count": null,
   "id": "114d1183-42c0-4d8e-abb2-0fd2ee15cb14",
   "metadata": {},
   "outputs": [],
   "source": []
  },
  {
   "cell_type": "markdown",
   "id": "3841330e-761e-40f1-af18-7f8ce06ce877",
   "metadata": {},
   "source": [
    "## Multiplication Rule "
   ]
  },
  {
   "cell_type": "markdown",
   "id": "c2465601-6fc9-4064-8a71-da2531e4a9ed",
   "metadata": {},
   "source": [
    "$ P(A \\cap B) = P(A) \\times P(B) $"
   ]
  },
  {
   "cell_type": "code",
   "execution_count": 38,
   "id": "6f12b3ea-9deb-46fd-bb9e-7a168212f385",
   "metadata": {},
   "outputs": [
    {
     "name": "stdout",
     "output_type": "stream",
     "text": [
      "Probability of A: 0.5\n",
      "Probability of B: 0.5\n",
      "P(A) * P(B): 0.25\n",
      "Probability of A ∩ B: 0.0\n"
     ]
    }
   ],
   "source": [
    "sample_space = {'Head', 'Tail'}\n",
    "event_a = {'Head'}  # Event A: getting a head in a coin toss\n",
    "event_b = {'Tail'}  # Event B: getting a tail in a coin toss\n",
    "\n",
    "# Calculate the probabilities of events A and B\n",
    "probability_a = len(event_a) / len(sample_space)\n",
    "probability_b = len(event_b) / len(sample_space)\n",
    "\n",
    "# Calculate the product of individual probabilities P(A) * P(B)\n",
    "product_of_probabilities = probability_a * probability_b\n",
    "\n",
    "# Calculate the probability of the intersection P(A ∩ B)\n",
    "intersection_probability = len(event_a.intersection(event_b)) / len(sample_space)\n",
    "\n",
    "print(f\"Probability of A: {probability_a}\")\n",
    "print(f\"Probability of B: {probability_b}\")\n",
    "print(f\"P(A) * P(B): {product_of_probabilities}\")\n",
    "print(f\"Probability of A ∩ B: {intersection_probability}\")\n"
   ]
  },
  {
   "cell_type": "markdown",
   "id": "d0950dc3-e420-4553-9bd4-560d16f40201",
   "metadata": {},
   "source": [
    "# Mutually Exclusive and Not Mutually Exclusive Events in the Multiplication Rule\n",
    "\n",
    "In the context of the multiplication rule of probability, the distinction between mutually exclusive and not mutually exclusive events is essential.\n",
    "\n",
    "## Mutually Exclusive Events\n",
    "\n",
    "Mutually exclusive events are those where the occurrence of one event implies that the other cannot occur. In the multiplication rule, this translates to:\n",
    "\n",
    "- **Mathematical Condition:**\n",
    "  - If events A and B are mutually exclusive, the probability of their intersection $(P(A \\cap B))$ is zero.\n",
    "\n",
    "- **Multiplication Rule for Mutually Exclusive Events:**\n",
    "  - The multiplication rule simplifies to: $[ P(A \\cap B) = P(A) \\times P(B) ]$\n",
    "\n",
    "## Not Mutually Exclusive Events\n",
    "\n",
    "Not mutually exclusive events are those where the occurrence of one event does not preclude the occurrence of the other. In the multiplication rule, this implies:\n",
    "\n",
    "- **Mathematical Condition:**\n",
    "  - If events A and B are not mutually exclusive, there is a possibility of overlap, and the probability of their intersection\n",
    "    $(P(A \\cap B))$ is greater than zero.\n",
    "\n",
    "- **Multiplication Rule for Not Mutually Exclusive Events:**\n",
    "  - The multiplication rule is adjusted to account for the overlap: $[ P(A \\cap B) = P(A) \\times P(B|A) ]$\n",
    "    - $( P(B|A) )$ is the conditional probability of event B given that event A has occurred.\n",
    "\n",
    "## Summary\n",
    "\n",
    "- **Mutual Exclusivity:**\n",
    "  - Events A and B are mutually exclusive if $(P(A \\cap B) = 0)$.\n",
    "  - The multiplication rule simplifies to $(P(A \\cap B) = P(A) \\times P(B))$.\n",
    "\n",
    "- **Not Mutual Exclusivity:**\n",
    "  - Events A and B are not mutually exclusive if $(P(A \\cap B) > 0)$.\n",
    "  - The multiplication rule considers the conditional probability of B given A: $(P(A \\cap B) = P(A) \\times P(B|A))$.\n",
    "\n",
    "This understanding is crucial for correctly applying the multiplication rule in scenarios involving dependent events.\n"
   ]
  },
  {
   "cell_type": "markdown",
   "id": "d9a28ab0-4af9-4d31-9b86-c3235638939a",
   "metadata": {},
   "source": [
    "# Conditional Probability\n",
    "\n",
    "Conditional probability is a concept in probability theory that deals with the likelihood of one event occurring given that another event has already occurred. It is denoted as \\(P(A|B)\\) and is calculated as:\n",
    "\n",
    "$ P(A|B) = \\frac{P(A \\cap B)}{P(B)} $\n",
    "\n",
    "Here:\n",
    "- \\(P(A|B)\\) is the conditional probability of event A given event B.\n",
    "- \\(P(A \\cap B)\\) is the probability of the intersection of events A and B.\n",
    "- \\(P(B)\\) is the probability of event B.\n",
    "\n",
    "The concept of conditional probability assumes a dependence between the two events. If events A and B are independent, then \\(P(A|B) = P(A)\\), indicating that the occurrence of event B does not provide additional information about the occurrence of event A.\n",
    "\n",
    "Conditional probability is a fundamental concept in probability theory and has applications in various fields, including statistics, machine learning, and data analysis.\n"
   ]
  },
  {
   "cell_type": "code",
   "execution_count": null,
   "id": "5aaf798c-a673-4a39-8f88-90f789953b5d",
   "metadata": {},
   "outputs": [],
   "source": []
  },
  {
   "cell_type": "code",
   "execution_count": 27,
   "id": "862abdf5-eccc-4265-a8d0-a674d5da8c3a",
   "metadata": {},
   "outputs": [
    {
     "name": "stdout",
     "output_type": "stream",
     "text": [
      "Simulated Conditional Probability: 0.5100\n",
      "Theoretical Conditional Probability: 0.5100\n"
     ]
    }
   ],
   "source": [
    "# Number of simulations\n",
    "num_simulations = 1000\n",
    "\n",
    "# Simulate two coin flips\n",
    "coin_flips = np.random.choice(['Heads', 'Tails'], size=(num_simulations, 2))\n",
    "\n",
    "first_flip_outcomes = coin_flips[:, 0]\n",
    "second_flip_outcomes = coin_flips[:, 1]\n",
    "\n",
    "# Count the occurrences of at least one Tails given the first flip is Heads\n",
    "# P(A ∩ B)\n",
    "at_least_one_tails_given_heads = np.sum((first_flip_outcomes == 'Heads') & (second_flip_outcomes == 'Tails'))\n",
    "\n",
    "# Count the occurrences of Heads in the first flip\n",
    "heads_in_first_flip = np.sum(first_flip_outcomes == 'Heads')\n",
    "\n",
    "# Calculate simulated conditional probability\n",
    "simulated_conditional_probability = at_least_one_tails_given_heads / heads_in_first_flip\n",
    "\n",
    "# Calculate theoretical conditional probability\n",
    "theoretical_conditional_probability = np.sum((first_flip_outcomes == 'Heads') & (second_flip_outcomes == 'Tails')) / np.sum(first_flip_outcomes == 'Heads')\n",
    "\n",
    "print(f\"Simulated Conditional Probability: {simulated_conditional_probability:.4f}\")\n",
    "print(f\"Theoretical Conditional Probability: {theoretical_conditional_probability:.4f}\")\n"
   ]
  },
  {
   "cell_type": "code",
   "execution_count": 28,
   "id": "2ce7a62e-dce3-4425-99dc-07439dece4bb",
   "metadata": {},
   "outputs": [
    {
     "data": {
      "text/plain": [
       "array([['Heads', 'Tails'],\n",
       "       ['Tails', 'Heads'],\n",
       "       ['Tails', 'Tails'],\n",
       "       ['Tails', 'Tails'],\n",
       "       ['Tails', 'Tails']], dtype='<U5')"
      ]
     },
     "execution_count": 28,
     "metadata": {},
     "output_type": "execute_result"
    }
   ],
   "source": [
    "coin_flips[:5]"
   ]
  },
  {
   "cell_type": "markdown",
   "id": "49dbbfce-3d1c-4d8f-ac84-892faa0ff951",
   "metadata": {},
   "source": [
    "$ P(A|B) = \\frac{P(A \\cap B)}{P(B)} $"
   ]
  },
  {
   "cell_type": "code",
   "execution_count": null,
   "id": "dbc11fa5-c2ba-4c79-a0ec-b4b24b1d5e39",
   "metadata": {},
   "outputs": [],
   "source": []
  },
  {
   "cell_type": "code",
   "execution_count": 32,
   "id": "ebaa7a45-d547-4d17-9516-bbb5a323d4c9",
   "metadata": {},
   "outputs": [
    {
     "data": {
      "text/plain": [
       "{1, 2, 3, 4, 5, 6, 7, 8, 9, 10}"
      ]
     },
     "execution_count": 32,
     "metadata": {},
     "output_type": "execute_result"
    }
   ],
   "source": [
    "sample_space_1 = {1,2,3,4,5,6,7,8,9,10}\n",
    "sample_space_1"
   ]
  },
  {
   "cell_type": "code",
   "execution_count": 35,
   "id": "4d904d01-fa57-4ec2-a50a-fc32be0a6b3f",
   "metadata": {},
   "outputs": [],
   "source": [
    "a_1 = {1,2,3, 4,5,6}\n",
    "b_1 = {4,5,6}"
   ]
  },
  {
   "cell_type": "code",
   "execution_count": 36,
   "id": "231489e8-b964-47d2-abb8-e2850f755a07",
   "metadata": {},
   "outputs": [
    {
     "data": {
      "text/plain": [
       "{1, 2, 3, 4, 5, 6}"
      ]
     },
     "execution_count": 36,
     "metadata": {},
     "output_type": "execute_result"
    }
   ],
   "source": [
    "a_1.union(b_1)"
   ]
  },
  {
   "cell_type": "code",
   "execution_count": 37,
   "id": "0a14508d-26f8-425a-abe3-f500c896b87b",
   "metadata": {},
   "outputs": [
    {
     "data": {
      "image/png": "[encoded data removed]",
      "text/plain": [
       "<Figure size 640x480 with 1 Axes>"
      ]
     },
     "metadata": {},
     "output_type": "display_data"
    }
   ],
   "source": [
    "import matplotlib.pyplot as plt\n",
    "\n",
    "def calculate_no_match_probability(k):\n",
    "    numerator = 1\n",
    "    denominator = 365\n",
    "    for i in range(k):\n",
    "        numerator *= denominator - i\n",
    "    return numerator / (365 ** k)\n",
    "\n",
    "# Calculate probabilities for various group sizes\n",
    "group_sizes = range(1, 101)\n",
    "probabilities = [1 - calculate_no_match_probability(k) for k in group_sizes]\n",
    "\n",
    "# Plot the results\n",
    "plt.plot(group_sizes, probabilities, marker='o')\n",
    "plt.title('Probability of at Least One Shared Birthday')\n",
    "plt.xlabel('Group Size')\n",
    "plt.ylabel('Probability')\n",
    "plt.grid(True)\n",
    "plt.show()\n"
   ]
  },
  {
   "cell_type": "code",
   "execution_count": null,
   "id": "d1b9e7fd-0ee2-4708-ae06-c71387fa7bfe",
   "metadata": {},
   "outputs": [],
   "source": []
  },
  {
   "cell_type": "code",
   "execution_count": null,
   "id": "5cbc8a0e-9299-45d5-b391-c666f69c21d7",
   "metadata": {},
   "outputs": [],
   "source": []
  }
 ],
 "metadata": {
  "kernelspec": {
   "display_name": "Python 3 (ipykernel)",
   "language": "python",
   "name": "python3"
  },
  "language_info": {
   "codemirror_mode": {
    "name": "ipython",
    "version": 3
   },
   "file_extension": ".py",
   "mimetype": "text/x-python",
   "name": "python",
   "nbconvert_exporter": "python",
   "pygments_lexer": "ipython3",
   "version": "3.11.7"
  }
 },
 "nbformat": 4,
 "nbformat_minor": 5
}
