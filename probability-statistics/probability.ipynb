{
 "cells": [
  {
   "cell_type": "code",
   "execution_count": 1,
   "id": "698370e1-b866-4549-848b-7c1dc94a208c",
   "metadata": {},
   "outputs": [],
   "source": [
    "import matplotlib.pyplot as plt\n",
    "from matplotlib_venn import venn2, venn3"
   ]
  },
  {
   "cell_type": "markdown",
   "id": "99313db1-91fc-485c-bb77-9c87c4895ff7",
   "metadata": {},
   "source": [
    "# Sample space for the outcomes of two independent events A and B"
   ]
  },
  {
   "cell_type": "markdown",
   "id": "fc25bae8-dc78-4719-88b3-e524f14e6ce3",
   "metadata": {},
   "source": [
    "# Addition Rule of Probability\n",
    "\n",
    "The addition rule of probability is a fundamental concept in probability theory that deals with the probability of the union of two events. It is expressed mathematically as:\n",
    "\n",
    "$ P(A \\cup B) = P(A) + P(B) - P(A \\cap B) $\n",
    "\n",
    "Here:\n",
    "- ( $P(A \\cup  B) )$ is the probability of the union of events A and B.\n",
    "- ( $P(A) )$ is the probability of event A.\n",
    "- ( $P(B) )$ is the probability of event B.\n",
    "- ( $P(A \\cap B))$ is the probability of the intersection of events A and B.\n",
    "\n",
    "The addition rule accounts for the fact that when events A and B are not mutually exclusive (i.e., they can both occur), the probability of their union is the sum of their individual probabilities minus the probability of their intersection."
   ]
  },
  {
   "cell_type": "markdown",
   "id": "510f8149-ff21-4295-8af5-e706a72d1cc3",
   "metadata": {},
   "source": [
    "# Mutually Exclusive and Not Mutually Exclusive Events in the Addition Rule\n",
    "\n",
    "In the context of the addition rule of probability, the distinction between mutually exclusive and not mutually exclusive events is crucial.\n",
    "\n",
    "## Mutually Exclusive Events\n",
    "\n",
    "Mutually exclusive events are those where the occurrence of one event excludes the occurrence of the other. In the addition rule, this translates to:\n",
    "\n",
    "- **Mathematical Condition:**\n",
    "  - If events A and B are mutually exclusive, the probability of their intersection $((P(A \\cap B)))$ is zero.\n",
    "  \n",
    "- **Addition Rule for Mutually Exclusive Events:**\n",
    "  - The addition rule simplifies to: $ P(A \\cup B) = P(A) + P(B) $\n",
    "\n",
    "## Not Mutually Exclusive Events\n",
    "\n",
    "Not mutually exclusive events are those where the occurrence of one event does not preclude the occurrence of the other. In the addition rule, this implies:\n",
    "\n",
    "- **Mathematical Condition:**\n",
    "  - If events A and B are not mutually exclusive, there is a possibility of overlap, and the probability of their\n",
    "    intersection $(P(A \\cap B))$ is greater than zero.\n",
    "\n",
    "- **Addition Rule for Not Mutually Exclusive Events:**\n",
    "  - The addition rule is adjusted to avoid double-counting the overlapping part: $ P(A \\cup B) = P(A) + P(B) - P(A \\cap B) $\n",
    "\n",
    "## Summary\n",
    "\n",
    "- **Mutual Exclusivity:**\n",
    "  - Events A and B are mutually exclusive if $(P(A \\cap B) = 0)$.\n",
    "  - The addition rule simplifies to $(P(A \\cup B) = P(A) + P(B))$.\n",
    "\n",
    "- **Not Mutual Exclusivity:**\n",
    "  - Events A and B are not mutually exclusive if $(P(A \\cap B) > 0)$.\n",
    "  - The addition rule includes a correction term to account for the overlap: $(P(A \\cup B) = P(A) + P(B) - P(A \\cap B))$.\n",
    "\n",
    "\n",
    "## Example in Python\n",
    "\n",
    "Let's consider an example where we have two events A and B. The probability of event A is 0.4, the probability of event B is 0.3, and the probability of their intersection is 0.1.\n",
    "\n",
    "```python\n",
    "# Given probabilities\n",
    "probability_A = 0.4\n",
    "probability_B = 0.3\n",
    "probability_intersection = 0.1\n",
    "\n",
    "# Calculate the probability of the union using the addition rule\n",
    "probability_union = probability_A + probability_B - probability_intersection\n",
    "\n",
    "# Display the result\n",
    "print(f\"Probability of A ∪ B: {probability_union}\")\n"
   ]
  },
  {
   "cell_type": "code",
   "execution_count": null,
   "id": "114d1183-42c0-4d8e-abb2-0fd2ee15cb14",
   "metadata": {},
   "outputs": [],
   "source": []
  },
  {
   "cell_type": "markdown",
   "id": "3841330e-761e-40f1-af18-7f8ce06ce877",
   "metadata": {},
   "source": [
    "## Multiplication Rule "
   ]
  },
  {
   "cell_type": "markdown",
   "id": "c2465601-6fc9-4064-8a71-da2531e4a9ed",
   "metadata": {},
   "source": [
    "$ P(A \\cap B) = P(A) \\times P(B) $$"
   ]
  },
  {
   "cell_type": "code",
   "execution_count": 38,
   "id": "6f12b3ea-9deb-46fd-bb9e-7a168212f385",
   "metadata": {},
   "outputs": [
    {
     "name": "stdout",
     "output_type": "stream",
     "text": [
      "Probability of A: 0.5\n",
      "Probability of B: 0.5\n",
      "P(A) * P(B): 0.25\n",
      "Probability of A ∩ B: 0.0\n"
     ]
    }
   ],
   "source": [
    "sample_space = {'Head', 'Tail'}\n",
    "event_a = {'Head'}  # Event A: getting a head in a coin toss\n",
    "event_b = {'Tail'}  # Event B: getting a tail in a coin toss\n",
    "\n",
    "# Calculate the probabilities of events A and B\n",
    "probability_a = len(event_a) / len(sample_space)\n",
    "probability_b = len(event_b) / len(sample_space)\n",
    "\n",
    "# Calculate the product of individual probabilities P(A) * P(B)\n",
    "product_of_probabilities = probability_a * probability_b\n",
    "\n",
    "# Calculate the probability of the intersection P(A ∩ B)\n",
    "intersection_probability = len(event_a.intersection(event_b)) / len(sample_space)\n",
    "\n",
    "print(f\"Probability of A: {probability_a}\")\n",
    "print(f\"Probability of B: {probability_b}\")\n",
    "print(f\"P(A) * P(B): {product_of_probabilities}\")\n",
    "print(f\"Probability of A ∩ B: {intersection_probability}\")\n"
   ]
  },
  {
   "cell_type": "markdown",
   "id": "d9a28ab0-4af9-4d31-9b86-c3235638939a",
   "metadata": {},
   "source": [
    "# Conditional Probability\n",
    "\n",
    "Conditional probability is a concept in probability theory that deals with the likelihood of one event occurring given that another event has already occurred. It is denoted as \\(P(A|B)\\) and is calculated as:\n",
    "\n",
    "$ P(A|B) = \\frac{P(A \\cap B)}{P(B)} $\n",
    "\n",
    "Here:\n",
    "- \\(P(A|B)\\) is the conditional probability of event A given event B.\n",
    "- \\(P(A \\cap B)\\) is the probability of the intersection of events A and B.\n",
    "- \\(P(B)\\) is the probability of event B.\n",
    "\n",
    "The concept of conditional probability assumes a dependence between the two events. If events A and B are independent, then \\(P(A|B) = P(A)\\), indicating that the occurrence of event B does not provide additional information about the occurrence of event A.\n",
    "\n",
    "Conditional probability is a fundamental concept in probability theory and has applications in various fields, including statistics, machine learning, and data analysis.\n"
   ]
  },
  {
   "cell_type": "code",
   "execution_count": null,
   "id": "862abdf5-eccc-4265-a8d0-a674d5da8c3a",
   "metadata": {},
   "outputs": [],
   "source": []
  }
 ],
 "metadata": {
  "kernelspec": {
   "display_name": "Python 3 (ipykernel)",
   "language": "python",
   "name": "python3"
  },
  "language_info": {
   "codemirror_mode": {
    "name": "ipython",
    "version": 3
   },
   "file_extension": ".py",
   "mimetype": "text/x-python",
   "name": "python",
   "nbconvert_exporter": "python",
   "pygments_lexer": "ipython3",
   "version": "3.11.5"
  }
 },
 "nbformat": 4,
 "nbformat_minor": 5
}
