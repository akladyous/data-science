{
 "cells": [
  {
   "cell_type": "markdown",
   "id": "99313db1-91fc-485c-bb77-9c87c4895ff7",
   "metadata": {},
   "source": [
    "# Sample space for the outcomes of two independent events A and B"
   ]
  },
  {
   "cell_type": "markdown",
   "id": "3841330e-761e-40f1-af18-7f8ce06ce877",
   "metadata": {},
   "source": [
    "## Multiplication Rule "
   ]
  },
  {
   "cell_type": "markdown",
   "id": "c2465601-6fc9-4064-8a71-da2531e4a9ed",
   "metadata": {},
   "source": [
    "$ P(A \\cap B) = P(A) \\times P(B) $$"
   ]
  },
  {
   "cell_type": "code",
   "execution_count": 4,
   "id": "6f12b3ea-9deb-46fd-bb9e-7a168212f385",
   "metadata": {},
   "outputs": [
    {
     "name": "stdout",
     "output_type": "stream",
     "text": [
      "Probability of A: 0.5\n",
      "Probability of B: 0.5\n",
      "P(A) * P(B): 0.25\n",
      "Probability of A ∩ B: 0.0\n"
     ]
    }
   ],
   "source": [
    "sample_space = {'Head', 'Tail'}\n",
    "event_a = {'Head'}  # Event A: getting a head in a coin toss\n",
    "event_b = {'Tail'}  # Event B: getting a tail in a coin toss\n",
    "\n",
    "# Calculate the probabilities of events A and B\n",
    "probability_a = len(event_a) / len(sample_space)\n",
    "probability_b = len(event_b) / len(sample_space)\n",
    "\n",
    "# Calculate the product of individual probabilities P(A) * P(B)\n",
    "product_of_probabilities = probability_a * probability_b\n",
    "\n",
    "# Calculate the probability of the intersection P(A ∩ B)\n",
    "intersection_probability = len(event_a.intersection(event_b)) / len(sample_space)\n",
    "\n",
    "print(f\"Probability of A: {probability_a}\")\n",
    "print(f\"Probability of B: {probability_b}\")\n",
    "print(f\"P(A) * P(B): {product_of_probabilities}\")\n",
    "print(f\"Probability of A ∩ B: {intersection_probability}\")\n"
   ]
  },
  {
   "cell_type": "code",
   "execution_count": null,
   "id": "40198ab1-a72c-4b0d-8f60-c9f77af86f98",
   "metadata": {},
   "outputs": [],
   "source": []
  },
  {
   "cell_type": "code",
   "execution_count": null,
   "id": "446be675-3614-447e-bb01-b32d4edd3c80",
   "metadata": {},
   "outputs": [],
   "source": []
  }
 ],
 "metadata": {
  "kernelspec": {
   "display_name": "Python 3 (ipykernel)",
   "language": "python",
   "name": "python3"
  },
  "language_info": {
   "codemirror_mode": {
    "name": "ipython",
    "version": 3
   },
   "file_extension": ".py",
   "mimetype": "text/x-python",
   "name": "python",
   "nbconvert_exporter": "python",
   "pygments_lexer": "ipython3",
   "version": "3.11.5"
  }
 },
 "nbformat": 4,
 "nbformat_minor": 5
}
