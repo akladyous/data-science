{
 "cells": [
  {
   "cell_type": "code",
   "execution_count": 1,
   "id": "1e57f248-e235-4606-a95c-f9f5e219a306",
   "metadata": {},
   "outputs": [],
   "source": [
    "import numpy as np\n",
    "import pandas as pd\n",
    "import matplotlib.pyplot as plt\n",
    "\n",
    "from matplotlib_venn import venn2, venn3"
   ]
  },
  {
   "cell_type": "markdown",
   "id": "99313db1-91fc-485c-bb77-9c87c4895ff7",
   "metadata": {},
   "source": [
    "# Sample space for the outcomes of two independent events A and B"
   ]
  },
  {
   "cell_type": "markdown",
   "id": "fc25bae8-dc78-4719-88b3-e524f14e6ce3",
   "metadata": {},
   "source": [
    "# Addition Rule of Probability\n",
    "\n",
    "The addition rule of probability is a fundamental concept in probability theory that deals with the probability of the union of two events. It is expressed mathematically as:\n",
    "\n",
    "$ P(A \\cup B) = P(A) + P(B) - P(A \\cap B) $\n",
    "\n",
    "Here:\n",
    "- ( $P(A \\cup  B) )$ is the probability of the union of events A and B.\n",
    "- ( $P(A) )$ is the probability of event A.\n",
    "- ( $P(B) )$ is the probability of event B.\n",
    "- ( $P(A \\cap B))$ is the probability of the intersection of events A and B.\n",
    "\n",
    "The addition rule accounts for the fact that when events A and B are not mutually exclusive (i.e., they can both occur), the probability of their union is the sum of their individual probabilities minus the probability of their intersection."
   ]
  },
  {
   "cell_type": "markdown",
   "id": "510f8149-ff21-4295-8af5-e706a72d1cc3",
   "metadata": {
    "jp-MarkdownHeadingCollapsed": true
   },
   "source": [
    "# Probability of Mutually Exclusive Events\n",
    "\n",
    "Mutually exclusive events are those where the occurrence of one event excludes the occurrence of the other. In the addition rule, this translates to:\n",
    "\n",
    "- **Mathematical formula**\n",
    "  - $ P(A \\cup B) $\n",
    "  - If events A and B are mutually exclusive, the probability of their intersection $((P(A \\cap B)))$ is zero."
   ]
  },
  {
   "cell_type": "markdown",
   "id": "3257dc6a-6b16-4e7c-8859-2aecad1feeb4",
   "metadata": {},
   "source": [
    "# Probability of Not Mutually Exclusive Events:\n",
    "\n",
    "- **Characteristics of Not Mutually Exclusive Events**\n",
    "    - Not mutually exclusive events, also known as non-exclusive or overlapping events, are events that can occur at the same time or share common outcomes. In other words, the occurrence of one event does not preclude the occurrence of the other. In contrast to mutually exclusive events, where the events cannot happen simultaneously, non-mutually exclusive events have overlapping outcomes.\n",
    "\n",
    "\n",
    "1. **Overlap of Outcomes:**\n",
    "   - Not mutually exclusive events share common outcomes. It's possible for both events to occur simultaneously or for the occurrence of one event to include the occurrence of the other.\n",
    "\n",
    "2. **Intersection is Non-Empty:**\n",
    "   - The intersection of non-mutually exclusive events $ A (\\cap B)$ is non-empty, meaning there are outcomes that belong to both events."
   ]
  },
  {
   "cell_type": "markdown",
   "id": "3841330e-761e-40f1-af18-7f8ce06ce877",
   "metadata": {},
   "source": [
    "# Multiplication Rule "
   ]
  },
  {
   "cell_type": "code",
   "execution_count": 2,
   "id": "6f12b3ea-9deb-46fd-bb9e-7a168212f385",
   "metadata": {},
   "outputs": [
    {
     "name": "stdout",
     "output_type": "stream",
     "text": [
      "Probability of A: 0.5\n",
      "Probability of B: 0.5\n",
      "P(A) * P(B): 0.25\n",
      "Probability of A ∩ B: 0.0\n"
     ]
    }
   ],
   "source": [
    "sample_space = {'Head', 'Tail'}\n",
    "event_a = {'Head'}  # Event A: getting a head in a coin toss\n",
    "event_b = {'Tail'}  # Event B: getting a tail in a coin toss\n",
    "\n",
    "# Calculate the probabilities of events A and B\n",
    "probability_a = len(event_a) / len(sample_space)\n",
    "probability_b = len(event_b) / len(sample_space)\n",
    "\n",
    "# Calculate the product of individual probabilities P(A) * P(B)\n",
    "product_of_probabilities = probability_a * probability_b\n",
    "\n",
    "# Calculate the probability of the intersection P(A ∩ B)\n",
    "intersection_probability = len(event_a.intersection(event_b)) / len(sample_space)\n",
    "\n",
    "print(f\"Probability of A: {probability_a}\")\n",
    "print(f\"Probability of B: {probability_b}\")\n",
    "print(f\"P(A) * P(B): {product_of_probabilities}\")\n",
    "print(f\"Probability of A ∩ B: {intersection_probability}\")\n"
   ]
  },
  {
   "cell_type": "code",
   "execution_count": 3,
   "id": "5905e457-8f2f-42ac-a137-69ac9684c4d4",
   "metadata": {},
   "outputs": [
    {
     "data": {
      "text/plain": [
       "{1, 2, 3, 4}"
      ]
     },
     "execution_count": 3,
     "metadata": {},
     "output_type": "execute_result"
    }
   ],
   "source": [
    "a = {1,2,3}\n",
    "b = {1,2,3,4}\n",
    "a.union(b)"
   ]
  },
  {
   "cell_type": "code",
   "execution_count": 4,
   "id": "23ae7694-a93a-4037-bbfb-91afb26abed6",
   "metadata": {},
   "outputs": [
    {
     "data": {
      "text/plain": [
       "[1, 2, 3, 1, 2, 3]"
      ]
     },
     "execution_count": 4,
     "metadata": {},
     "output_type": "execute_result"
    }
   ],
   "source": [
    "l1=[1,2,3]\n",
    "l2=[1,2,3]\n",
    "l1+l2"
   ]
  },
  {
   "cell_type": "code",
   "execution_count": 5,
   "id": "bdff9247-84f3-4e46-a598-1d5a985bc080",
   "metadata": {},
   "outputs": [
    {
     "name": "stdout",
     "output_type": "stream",
     "text": [
      "[[4 5 3 5 5 2 3 3 3 5]\n",
      " [4 3 6 5 2 4 6 6 2 4]]\n"
     ]
    }
   ],
   "source": [
    "np.random.seed(42)\n",
    "\n",
    "# Simulate rolling two dice 10 times\n",
    "simulation_data = np.random.randint(1, 7, size=(2, 10))\n",
    "\n",
    "# Display the simulated data\n",
    "print(simulation_data)"
   ]
  },
  {
   "cell_type": "markdown",
   "id": "d9a28ab0-4af9-4d31-9b86-c3235638939a",
   "metadata": {},
   "source": [
    "# Conditional Probability\n",
    "\n",
    "Conditional probability is a concept in probability theory that deals with the likelihood of one event occurring given that another event has already occurred. It is denoted as \\(P(A|B)\\) and is calculated as:\n",
    "\n",
    "$ P(A|B) = \\frac{P(A \\cap B)}{P(B)} $\n",
    "\n",
    "By rearranging this equation, you get:\n",
    "\n",
    "$ P(A \\cap B) = P(A | B) \\cdot P(B) $\n",
    "\n",
    "Here:\n",
    "- \\(P(A|B)\\) is the conditional probability of event A given event B.\n",
    "- \\(P(A \\cap B)\\) is the probability of the intersection of events A and B.\n",
    "- \\(P(B)\\) is the probability of event B.\n",
    "\n",
    "The concept of conditional probability assumes a dependence between the two events. If events A and B are independent, then \\(P(A|B) = P(A)\\), indicating that the occurrence of event B does not provide additional information about the occurrence of event A.\n",
    "\n",
    "Conditional probability is a fundamental concept in probability theory and has applications in various fields, including statistics, machine learning, and data analysis.\n"
   ]
  },
  {
   "cell_type": "code",
   "execution_count": 6,
   "id": "5aaf798c-a673-4a39-8f88-90f789953b5d",
   "metadata": {},
   "outputs": [
    {
     "name": "stdout",
     "output_type": "stream",
     "text": [
      "Random Numbers: {33, 59, 42, 76, 49, 21, 22, 89, 58, 91}\n",
      "Event A (even numbers): [42, 76, 22, 58]\n",
      "Event B (odd numbers): [33, 59, 49, 21, 89, 91]\n",
      "Probability of A given B: 0.00\n",
      "Probability of B: 0.60\n",
      "Probability of A and B: 0.00\n"
     ]
    }
   ],
   "source": [
    "import random\n",
    "# Generate a small set of 10 unique random numbers\n",
    "random_numbers = set(random.sample(range(1, 101), 10))\n",
    "random_numbers = set(np.random.choice(np.arange(1,101), 10))\n",
    "print(f\"Random Numbers: {random_numbers}\")\n",
    "\n",
    "# Define events A and B\n",
    "event_A = [num for num in random_numbers if num % 2 == 0]  # Even numbers\n",
    "event_B = [num for num in random_numbers if num % 2 != 0]  # Odd numbers\n",
    "\n",
    "# Calculate probabilities\n",
    "P_A_given_B = sum(x in event_B for x in event_A) / len(event_B)  # P(A | B)\n",
    "P_B = len(event_B) / len(random_numbers)  # P(B)\n",
    "P_A_and_B = P_A_given_B * P_B  # P(A ∩ B)\n",
    "\n",
    "# Display the results\n",
    "print(f\"Event A (even numbers): {event_A}\")\n",
    "print(f\"Event B (odd numbers): {event_B}\")\n",
    "print(f\"Probability of A given B: {P_A_given_B:.2f}\")\n",
    "print(f\"Probability of B: {P_B:.2f}\")\n",
    "print(f\"Probability of A and B: {P_A_and_B:.2f}\")"
   ]
  },
  {
   "cell_type": "code",
   "execution_count": 7,
   "id": "862abdf5-eccc-4265-a8d0-a674d5da8c3a",
   "metadata": {},
   "outputs": [
    {
     "name": "stdout",
     "output_type": "stream",
     "text": [
      "Simulated Conditional Probability: 0.4571\n",
      "Theoretical Conditional Probability: 0.4571\n"
     ]
    }
   ],
   "source": [
    "# Number of simulations\n",
    "num_simulations = 1000\n",
    "\n",
    "# Simulate two coin flips\n",
    "coin_flips = np.random.choice(['Heads', 'Tails'], size=(num_simulations, 2))\n",
    "\n",
    "first_flip_outcomes = coin_flips[:, 0]\n",
    "second_flip_outcomes = coin_flips[:, 1]\n",
    "\n",
    "# Count the occurrences of at least one Tails given the first flip is Heads\n",
    "# P(A ∩ B)\n",
    "at_least_one_tails_given_heads = np.sum((first_flip_outcomes == 'Heads') & (second_flip_outcomes == 'Tails'))\n",
    "\n",
    "# Count the occurrences of Heads in the first flip\n",
    "heads_in_first_flip = np.sum(first_flip_outcomes == 'Heads')\n",
    "\n",
    "# Calculate simulated conditional probability\n",
    "simulated_conditional_probability = at_least_one_tails_given_heads / heads_in_first_flip\n",
    "\n",
    "# Calculate theoretical conditional probability\n",
    "theoretical_conditional_probability = np.sum((first_flip_outcomes == 'Heads') & (second_flip_outcomes == 'Tails')) / np.sum(first_flip_outcomes == 'Heads')\n",
    "\n",
    "print(f\"Simulated Conditional Probability: {simulated_conditional_probability:.4f}\")\n",
    "print(f\"Theoretical Conditional Probability: {theoretical_conditional_probability:.4f}\")\n"
   ]
  },
  {
   "cell_type": "code",
   "execution_count": 8,
   "id": "2ce7a62e-dce3-4425-99dc-07439dece4bb",
   "metadata": {},
   "outputs": [
    {
     "data": {
      "text/plain": [
       "array([['Tails', 'Tails'],\n",
       "       ['Tails', 'Tails'],\n",
       "       ['Heads', 'Tails'],\n",
       "       ['Tails', 'Heads'],\n",
       "       ['Tails', 'Heads']], dtype='<U5')"
      ]
     },
     "execution_count": 8,
     "metadata": {},
     "output_type": "execute_result"
    }
   ],
   "source": [
    "coin_flips[:5]"
   ]
  },
  {
   "cell_type": "markdown",
   "id": "49dbbfce-3d1c-4d8f-ac84-892faa0ff951",
   "metadata": {},
   "source": [
    "$ P(A|B) = \\frac{P(A \\cap B)}{P(B)} $"
   ]
  },
  {
   "cell_type": "code",
   "execution_count": 9,
   "id": "0a14508d-26f8-425a-abe3-f500c896b87b",
   "metadata": {},
   "outputs": [
    {
     "data": {
      "image/png": "[encoded data removed]",
      "text/plain": [
       "<Figure size 640x480 with 1 Axes>"
      ]
     },
     "metadata": {},
     "output_type": "display_data"
    }
   ],
   "source": [
    "def calculate_no_match_probability(k):\n",
    "    numerator = 1\n",
    "    denominator = 365\n",
    "    for i in range(k):\n",
    "        numerator *= denominator - i\n",
    "    return numerator / (365 ** k)\n",
    "\n",
    "# Calculate probabilities for various group sizes\n",
    "group_sizes = range(1, 101)\n",
    "probabilities = [1 - calculate_no_match_probability(k) for k in group_sizes]\n",
    "\n",
    "# Plot the results\n",
    "plt.plot(group_sizes, probabilities)\n",
    "plt.title('Probability of at Least One Shared Birthday')\n",
    "plt.xlabel('Group Size')\n",
    "plt.ylabel('Probability')\n",
    "plt.grid(True)\n",
    "plt.show()\n"
   ]
  },
  {
   "cell_type": "code",
   "execution_count": null,
   "id": "d1b9e7fd-0ee2-4708-ae06-c71387fa7bfe",
   "metadata": {},
   "outputs": [],
   "source": []
  },
  {
   "cell_type": "markdown",
   "id": "7b3f0acf-3314-4d85-8054-e64e135bb413",
   "metadata": {},
   "source": [
    "# Law of Total Probability\n",
    "\n",
    "The Law of Total Probability is a fundamental rule in probability theory that expresses the probability of an event as the sum of the probabilities of that event given different conditions, each multiplied by the probability of those conditions. Mathematically, it is often stated as:\n",
    "\n",
    "\\[ P(A) = \\sum_{i} P(A | B_i) \\cdot P(B_i) \\]\n",
    "\n",
    "where \\( B_i \\) forms a partition of the sample space, and \\( P(A | B_i) \\) is the conditional probability of \\( A \\) given \\( B_i \\).\n",
    "\n",
    "## Python Example\n",
    "\n",
    "Let's consider a simple example involving the toss of two dice. We want to find the probability of getting a sum of 7. The total probability can be expressed as the sum of the probabilities of getting a sum of 7 given each possible value on the first die.\n"
   ]
  },
  {
   "cell_type": "code",
   "execution_count": 10,
   "id": "9da98290-3daa-4528-bc42-e42ee238e7ab",
   "metadata": {},
   "outputs": [
    {
     "name": "stdout",
     "output_type": "stream",
     "text": [
      "The probability of getting a sum of 7 is approximately 0.17\n"
     ]
    }
   ],
   "source": [
    "# Define the sample space (outcomes of two dice)\n",
    "sample_space = [(i, j) for i in range(1, 7) for j in range(1, 7)]\n",
    "\n",
    "# Define the event A (sum of two dice is 7)\n",
    "event_A = []\n",
    "for i, j in sample_space:\n",
    "    if i + j == 7:\n",
    "        event_A.append((i, j))\n",
    "\n",
    "# Define the partition B_i (possible values on the first die)\n",
    "partition_B = {}\n",
    "for i_value in range(1, 7):\n",
    "    partition_B[i_value] = []\n",
    "    for i, j in sample_space:\n",
    "        if i == i_value:\n",
    "            partition_B[i_value].append((i, j))\n",
    "\n",
    "# Calculate the total probability using the Law of Total Probability\n",
    "total_probability = 0\n",
    "for i_value in range(1, 7):\n",
    "    total_probability += len(partition_B[i_value]) / len(sample_space) * len(set(event_A) & set(partition_B[i_value])) / len(partition_B[i_value])\n",
    "\n",
    "print(f\"The probability of getting a sum of 7 is approximately {total_probability:.2f}\")\n"
   ]
  },
  {
   "cell_type": "code",
   "execution_count": 11,
   "id": "8b2929f6-49ff-4388-9be5-ff5ebdc861df",
   "metadata": {},
   "outputs": [
    {
     "data": {
      "text/plain": [
       "[(1, 6), (2, 5), (3, 4), (4, 3), (5, 2), (6, 1)]"
      ]
     },
     "execution_count": 11,
     "metadata": {},
     "output_type": "execute_result"
    }
   ],
   "source": [
    "event_A"
   ]
  },
  {
   "cell_type": "code",
   "execution_count": 12,
   "id": "f4cf4c79-3cce-45dc-8083-39de40c537b7",
   "metadata": {},
   "outputs": [
    {
     "name": "stdout",
     "output_type": "stream",
     "text": [
      "The probability of getting a sum of 7 is approximately 0.14\n"
     ]
    }
   ],
   "source": [
    "# Set the seed for reproducibility\n",
    "np.random.seed(42)\n",
    "\n",
    "# Define the sample space (outcomes of two dice) using Pandas DataFrame with random values\n",
    "dice_outcomes = pd.DataFrame({\n",
    "    'Die1': np.random.randint(1, 7, size=(36)),\n",
    "    'Die2': np.random.randint(1, 7, size=(36))\n",
    "})\n",
    "\n",
    "# Define the event A (sum of two dice is 7)\n",
    "event_A = dice_outcomes[(dice_outcomes['Die1'] + dice_outcomes['Die2']) == 7]\n",
    "\n",
    "# Define the partition B_i (possible values on the first die)\n",
    "partition_B = {i: dice_outcomes[dice_outcomes['Die1'] == i] for i in range(1, 7)}\n",
    "\n",
    "# Calculate the total probability using the Law of Total Probability\n",
    "total_probability = 0\n",
    "for i_value in range(1, 7):\n",
    "    total_probability += len(partition_B[i_value]) / len(dice_outcomes) * len(set(map(tuple, event_A.values)) & set(map(tuple, partition_B[i_value].values))) / len(partition_B[i_value])\n",
    "\n",
    "print(f\"The probability of getting a sum of 7 is approximately {total_probability:.2f}\")\n"
   ]
  },
  {
   "cell_type": "code",
   "execution_count": 13,
   "id": "0802cfab-7692-4277-bcb4-b6de0ac6045e",
   "metadata": {},
   "outputs": [
    {
     "data": {
      "text/html": [
       "<div>\n",
       "<style scoped>\n",
       "    .dataframe tbody tr th:only-of-type {\n",
       "        vertical-align: middle;\n",
       "    }\n",
       "\n",
       "    .dataframe tbody tr th {\n",
       "        vertical-align: top;\n",
       "    }\n",
       "\n",
       "    .dataframe thead th {\n",
       "        text-align: right;\n",
       "    }\n",
       "</style>\n",
       "<table border=\"1\" class=\"dataframe\">\n",
       "  <thead>\n",
       "    <tr style=\"text-align: right;\">\n",
       "      <th></th>\n",
       "      <th>Die1</th>\n",
       "      <th>Die2</th>\n",
       "    </tr>\n",
       "  </thead>\n",
       "  <tbody>\n",
       "    <tr>\n",
       "      <th>2</th>\n",
       "      <td>3</td>\n",
       "      <td>4</td>\n",
       "    </tr>\n",
       "    <tr>\n",
       "      <th>11</th>\n",
       "      <td>3</td>\n",
       "      <td>4</td>\n",
       "    </tr>\n",
       "    <tr>\n",
       "      <th>12</th>\n",
       "      <td>6</td>\n",
       "      <td>1</td>\n",
       "    </tr>\n",
       "    <tr>\n",
       "      <th>17</th>\n",
       "      <td>6</td>\n",
       "      <td>1</td>\n",
       "    </tr>\n",
       "    <tr>\n",
       "      <th>20</th>\n",
       "      <td>5</td>\n",
       "      <td>2</td>\n",
       "    </tr>\n",
       "    <tr>\n",
       "      <th>26</th>\n",
       "      <td>4</td>\n",
       "      <td>3</td>\n",
       "    </tr>\n",
       "    <tr>\n",
       "      <th>27</th>\n",
       "      <td>1</td>\n",
       "      <td>6</td>\n",
       "    </tr>\n",
       "    <tr>\n",
       "      <th>29</th>\n",
       "      <td>3</td>\n",
       "      <td>4</td>\n",
       "    </tr>\n",
       "  </tbody>\n",
       "</table>\n",
       "</div>"
      ],
      "text/plain": [
       "    Die1  Die2\n",
       "2      3     4\n",
       "11     3     4\n",
       "12     6     1\n",
       "17     6     1\n",
       "20     5     2\n",
       "26     4     3\n",
       "27     1     6\n",
       "29     3     4"
      ]
     },
     "execution_count": 13,
     "metadata": {},
     "output_type": "execute_result"
    }
   ],
   "source": [
    "event_A"
   ]
  },
  {
   "cell_type": "code",
   "execution_count": 14,
   "id": "40d72425-1739-4444-b861-0b18f9f85b2c",
   "metadata": {},
   "outputs": [
    {
     "data": {
      "text/plain": [
       "{1:     Die1  Die2\n",
       " 21     1     4\n",
       " 27     1     6\n",
       " 28     1     1,\n",
       " 2:     Die1  Die2\n",
       " 5      2     3\n",
       " 14     2     6\n",
       " 18     2     2\n",
       " 23     2     4\n",
       " 31     2     4,\n",
       " 3:     Die1  Die2\n",
       " 2      3     4\n",
       " 6      3     5\n",
       " 7      3     3\n",
       " 8      3     5\n",
       " 11     3     4\n",
       " 29     3     4\n",
       " 30     3     2,\n",
       " 4:     Die1  Die2\n",
       " 0      4     6\n",
       " 10     4     2\n",
       " 15     4     2\n",
       " 19     4     5\n",
       " 22     4     4\n",
       " 26     4     3\n",
       " 32     4     2\n",
       " 33     4     6,\n",
       " 5:     Die1  Die2\n",
       " 1      5     3\n",
       " 3      5     4\n",
       " 4      5     1\n",
       " 9      5     1\n",
       " 13     5     4\n",
       " 20     5     2\n",
       " 25     5     5,\n",
       " 6:     Die1  Die2\n",
       " 12     6     1\n",
       " 16     6     2\n",
       " 17     6     1\n",
       " 24     6     4\n",
       " 34     6     6\n",
       " 35     6     6}"
      ]
     },
     "execution_count": 14,
     "metadata": {},
     "output_type": "execute_result"
    }
   ],
   "source": [
    "partition_B"
   ]
  },
  {
   "cell_type": "code",
   "execution_count": null,
   "id": "a9ba285c-d36f-4e7d-bf6f-76d960cd96bc",
   "metadata": {},
   "outputs": [],
   "source": []
  },
  {
   "cell_type": "code",
   "execution_count": 15,
   "id": "d82d3d4b-2810-4cd1-880a-92e956451a11",
   "metadata": {},
   "outputs": [
    {
     "data": {
      "image/png": "[encoded data removed]",
      "text/plain": [
       "<Figure size 800x400 with 1 Axes>"
      ]
     },
     "metadata": {},
     "output_type": "display_data"
    }
   ],
   "source": [
    "np.random.seed(10)\n",
    " \n",
    "data_1 = np.random.normal(100, 10, 200)\n",
    "data_2 = np.random.normal(90, 20, 200)\n",
    "data_3 = np.random.normal(80, 30, 200)\n",
    "data_4 = np.random.normal(70, 40, 200)\n",
    "data = [data_1, data_2, data_3, data_4]\n",
    " \n",
    "fig = plt.figure(figsize =(8,4))\n",
    " \n",
    "# Creating axes instance\n",
    "ax = fig.add_axes([0, 0, 1, 1])\n",
    " \n",
    "# Creating plot\n",
    "bp = ax.boxplot(data)\n",
    " \n",
    "# show plot\n",
    "plt.show()"
   ]
  },
  {
   "cell_type": "code",
   "execution_count": 20,
   "id": "291050df-2232-40ef-9f5b-8b389f0de0b5",
   "metadata": {},
   "outputs": [
    {
     "data": {
      "text/plain": [
       "(4, 200)"
      ]
     },
     "execution_count": 20,
     "metadata": {},
     "output_type": "execute_result"
    }
   ],
   "source": [
    "np.shape(data)"
   ]
  },
  {
   "cell_type": "code",
   "execution_count": 32,
   "id": "658adad6-4ba9-48d4-8013-d83f5bcde755",
   "metadata": {},
   "outputs": [
    {
     "data": {
      "text/plain": [
       "array([113.31586504, 107.15278974,  84.54599708,  99.9161615 ,\n",
       "       106.21335974,  92.79914439, 102.65511586, 101.08548526,\n",
       "       100.04291431,  98.25399789])"
      ]
     },
     "execution_count": 32,
     "metadata": {},
     "output_type": "execute_result"
    }
   ],
   "source": [
    "data[0][:10]"
   ]
  },
  {
   "cell_type": "code",
   "execution_count": null,
   "id": "bb89af55-b11d-457f-bca4-9b7b450aa3dc",
   "metadata": {},
   "outputs": [],
   "source": []
  }
 ],
 "metadata": {
  "kernelspec": {
   "display_name": "Python 3 (ipykernel)",
   "language": "python",
   "name": "python3"
  },
  "language_info": {
   "codemirror_mode": {
    "name": "ipython",
    "version": 3
   },
   "file_extension": ".py",
   "mimetype": "text/x-python",
   "name": "python",
   "nbconvert_exporter": "python",
   "pygments_lexer": "ipython3",
   "version": "3.11.7"
  }
 },
 "nbformat": 4,
 "nbformat_minor": 5
}
