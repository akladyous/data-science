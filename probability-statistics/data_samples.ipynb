{
 "cells": [
  {
   "cell_type": "code",
   "execution_count": null,
   "id": "elegant-karaoke",
   "metadata": {},
   "outputs": [],
   "source": []
  },
  {
   "cell_type": "code",
   "execution_count": 126,
   "id": "yellow-seattle",
   "metadata": {},
   "outputs": [],
   "source": [
    "np.random.seed(6)"
   ]
  },
  {
   "cell_type": "code",
   "execution_count": 137,
   "id": "stone-albert",
   "metadata": {},
   "outputs": [],
   "source": [
    "rolls = np.random.randint(1, 7, 5)"
   ]
  },
  {
   "cell_type": "code",
   "execution_count": 138,
   "id": "proper-beaver",
   "metadata": {},
   "outputs": [
    {
     "data": {
      "text/plain": [
       "array([6, 3, 2, 3, 4])"
      ]
     },
     "execution_count": 138,
     "metadata": {},
     "output_type": "execute_result"
    }
   ],
   "source": [
    "rolls"
   ]
  },
  {
   "cell_type": "code",
   "execution_count": 148,
   "id": "irish-crazy",
   "metadata": {},
   "outputs": [],
   "source": [
    "die_sample_means = [np.mean(np.random.randint(1, 7, 50)) for _ in range(1000)]"
   ]
  },
  {
   "cell_type": "code",
   "execution_count": null,
   "id": "apparent-preserve",
   "metadata": {},
   "outputs": [],
   "source": []
  },
  {
   "cell_type": "code",
   "execution_count": 188,
   "id": "brazilian-keyboard",
   "metadata": {},
   "outputs": [],
   "source": [
    "\n",
    "normal_distribution_us_male_mass_pounds = np.random.normal(loc=181, scale=24, size=6000)\n",
    "normal_distribution_us_female_mass_pounds = np.random.normal(loc=132, scale=22, size=6500)\n",
    "all_mass_values = np.concatenate((normal_distribution_us_male_mass_pounds, normal_distribution_us_female_mass_pounds), axis=0)\n",
    "df_ppl_mass = pd.DataFrame(data={'us_people_mass_pounds': all_mass_values})"
   ]
  },
  {
   "cell_type": "code",
   "execution_count": 233,
   "id": "breeding-darkness",
   "metadata": {},
   "outputs": [],
   "source": [
    "np.random.seed(33)\n",
    "ages_sample_male = np.random.normal(loc=50, scale=20, size=2500)\n",
    "ages_sample_female = np.random.normal(loc=40, scale=18, size=2500)\n",
    "ages_sample = np.concatenate((ages_sample_male, ages_sample_female), axis=0)\n",
    "df = pd.DataFrame({'ages': ages_sample})"
   ]
  },
  {
   "cell_type": "code",
   "execution_count": 234,
   "id": "first-contribution",
   "metadata": {},
   "outputs": [
    {
     "data": {
      "text/plain": [
       "ages   -26.898147\n",
       "dtype: float64"
      ]
     },
     "execution_count": 234,
     "metadata": {},
     "output_type": "execute_result"
    }
   ],
   "source": [
    "df.min()"
   ]
  },
  {
   "cell_type": "code",
   "execution_count": 236,
   "id": "dangerous-illinois",
   "metadata": {},
   "outputs": [
    {
     "data": {
      "text/plain": [
       "<seaborn.axisgrid.FacetGrid at 0x7f9f38169520>"
      ]
     },
     "execution_count": 236,
     "metadata": {},
     "output_type": "execute_result"
    },
    {
     "data": {
      "image/png": "[encoded data removed]",
      "text/plain": [
       "<Figure size 519.125x360 with 1 Axes>"
      ]
     },
     "metadata": {
      "needs_background": "light"
     },
     "output_type": "display_data"
    }
   ],
   "source": [
    "sns.displot(df_ppl_mass)"
   ]
  }
 ],
 "metadata": {
  "kernelspec": {
   "display_name": "python_env",
   "language": "python",
   "name": "python_env"
  },
  "language_info": {
   "codemirror_mode": {
    "name": "ipython",
    "version": 3
   },
   "file_extension": ".py",
   "mimetype": "text/x-python",
   "name": "python",
   "nbconvert_exporter": "python",
   "pygments_lexer": "ipython3",
   "version": "3.8.5"
  }
 },
 "nbformat": 4,
 "nbformat_minor": 5
}
