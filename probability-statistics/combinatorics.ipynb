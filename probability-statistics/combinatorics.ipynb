{
 "cells": [
  {
   "cell_type": "code",
   "execution_count": 8,
   "id": "12dbe852",
   "metadata": {},
   "outputs": [],
   "source": [
    "import numpy as np\n",
    "from itertools import permutations, combinations\n",
    "from math import factorial"
   ]
  },
  {
   "cell_type": "code",
   "execution_count": null,
   "id": "ec138dde-9543-4e99-9f6a-cac76490a1cc",
   "metadata": {},
   "outputs": [],
   "source": []
  },
  {
   "cell_type": "markdown",
   "id": "18cb9e5f-be69-437e-b7e6-f168ded755f7",
   "metadata": {},
   "source": [
    "### Permutation:\n",
    "Permutation refers to the arrangement of objects in a specific order. The order in which elements are arranged is important. The number of permutations of $ (r) $ elements taken from a set of $ (n) $ distinct elements is given by $ (nPr = \\frac{n!}{(n-r)!}) $ , where $ (n!) $ denotes the factorial of $ (n) $.\n",
    "\n",
    "### Combination:\n",
    "Combination refers to the selection of objects without considering the order. The order in which the elements are selected is not important. The number of combinations of $ (r) $ elements taken from a set of $ (n) $ distinct elements is given by $ (nCr = \\frac{n!}{r!(n-r)!}) $.\n",
    "\n",
    "In summary:\n",
    "\n",
    "- **Permutation:** Cares about the order of arrangement.\n",
    "- **Combination:** Concerned only with the selection of elements, and the order is not considered.\n",
    "\n",
    "Key Formulas:\n",
    "\n",
    "- **Permutation:** $ (nPr = \\frac{n!}{(n-r)!}) $\n",
    "- **Combination:** $ (nCr = \\frac{n!}{r!(n-r)!}) $\n"
   ]
  },
  {
   "cell_type": "code",
   "execution_count": 14,
   "id": "f53cdcff-2be4-4cfc-b839-e18a401f3400",
   "metadata": {},
   "outputs": [],
   "source": []
  },
  {
   "cell_type": "markdown",
   "id": "07da43f7-5ffb-44aa-9e8e-f9b0a4b9a688",
   "metadata": {},
   "source": []
  },
  {
   "cell_type": "code",
   "execution_count": 9,
   "id": "ff96da59",
   "metadata": {},
   "outputs": [
    {
     "name": "stdout",
     "output_type": "stream",
     "text": [
      "Permutations of 3 items:\n",
      "[['a' 'b']\n",
      " ['a' 'c']\n",
      " ['b' 'a']\n",
      " ['b' 'c']\n",
      " ['c' 'a']\n",
      " ['c' 'b']]\n",
      "\n",
      "Combinations of 3 items:\n",
      "[['a' 'b']\n",
      " ['a' 'c']\n",
      " ['b' 'c']]\n"
     ]
    }
   ],
   "source": [
    "\n",
    "\n",
    "# Permutations of 3 items\n",
    "perm_3 = list(permutations(items, 2))\n",
    "\n",
    "# Combinations of 3 items\n",
    "comb_3 = list(combinations(items, 2))\n",
    "\n",
    "# Convert the results to NumPy arrays for better display\n",
    "perm_3_np = np.array(perm_3)\n",
    "comb_3_np = np.array(comb_3)\n",
    "\n",
    "# Display the results\n",
    "print(\"Permutations of 3 items:\")\n",
    "print(perm_3_np)\n",
    "\n",
    "print(\"\\nCombinations of 3 items:\")\n",
    "print(comb_3_np)\n"
   ]
  },
  {
   "cell_type": "code",
   "execution_count": 13,
   "id": "77bf2b40",
   "metadata": {},
   "outputs": [
    {
     "data": {
      "text/plain": [
       "24"
      ]
     },
     "execution_count": 13,
     "metadata": {},
     "output_type": "execute_result"
    }
   ],
   "source": [
    "factorial(4)"
   ]
  }
 ],
 "metadata": {
  "kernelspec": {
   "display_name": "Python 3 (ipykernel)",
   "language": "python",
   "name": "python3"
  },
  "language_info": {
   "codemirror_mode": {
    "name": "ipython",
    "version": 3
   },
   "file_extension": ".py",
   "mimetype": "text/x-python",
   "name": "python",
   "nbconvert_exporter": "python",
   "pygments_lexer": "ipython3",
   "version": "3.11.7"
  }
 },
 "nbformat": 4,
 "nbformat_minor": 5
}
