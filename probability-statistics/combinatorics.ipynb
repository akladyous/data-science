{
 "cells": [
  {
   "cell_type": "code",
   "execution_count": 25,
   "id": "12dbe852",
   "metadata": {},
   "outputs": [],
   "source": [
    "import numpy as np\n",
    "from itertools import permutations, combinations"
   ]
  },
  {
   "cell_type": "code",
   "execution_count": 26,
   "id": "ff96da59",
   "metadata": {},
   "outputs": [
    {
     "name": "stdout",
     "output_type": "stream",
     "text": [
      "Permutations of 3 items:\n",
      "[['a' 'b']\n",
      " ['a' 'c']\n",
      " ['b' 'a']\n",
      " ['b' 'c']\n",
      " ['c' 'a']\n",
      " ['c' 'b']]\n",
      "\n",
      "Combinations of 3 items:\n",
      "[['a' 'b']\n",
      " ['a' 'c']\n",
      " ['b' 'c']]\n"
     ]
    }
   ],
   "source": [
    "\n",
    "# Original list of items\n",
    "items = ['a', 'b', 'c']\n",
    "\n",
    "# Permutations of 3 items\n",
    "perm_3 = list(permutations(items, 2))\n",
    "\n",
    "# Combinations of 3 items\n",
    "comb_3 = list(combinations(items, 2))\n",
    "\n",
    "# Convert the results to NumPy arrays for better display\n",
    "perm_3_np = np.array(perm_3)\n",
    "comb_3_np = np.array(comb_3)\n",
    "\n",
    "# Display the results\n",
    "print(\"Permutations of 3 items:\")\n",
    "print(perm_3_np)\n",
    "\n",
    "print(\"\\nCombinations of 3 items:\")\n",
    "print(comb_3_np)\n"
   ]
  },
  {
   "cell_type": "code",
   "execution_count": 27,
   "id": "77bf2b40",
   "metadata": {},
   "outputs": [
    {
     "data": {
      "text/plain": [
       "24"
      ]
     },
     "execution_count": 27,
     "metadata": {},
     "output_type": "execute_result"
    }
   ],
   "source": [
    "factorial(4)"
   ]
  },
  {
   "cell_type": "code",
   "execution_count": null,
   "id": "a29f528e-6694-47dd-b9d1-7b619684b95c",
   "metadata": {},
   "outputs": [],
   "source": []
  }
 ],
 "metadata": {
  "kernelspec": {
   "display_name": "Python 3 (ipykernel)",
   "language": "python",
   "name": "python3"
  },
  "language_info": {
   "codemirror_mode": {
    "name": "ipython",
    "version": 3
   },
   "file_extension": ".py",
   "mimetype": "text/x-python",
   "name": "python",
   "nbconvert_exporter": "python",
   "pygments_lexer": "ipython3",
   "version": "3.11.5"
  }
 },
 "nbformat": 4,
 "nbformat_minor": 5
}
