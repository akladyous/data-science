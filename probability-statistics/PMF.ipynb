{
 "cells": [
  {
   "cell_type": "markdown",
   "id": "vital-france",
   "metadata": {},
   "source": [
    "## Probability Mass Function (PMF)"
   ]
  },
  {
   "cell_type": "code",
   "execution_count": 1,
   "id": "favorite-kitchen",
   "metadata": {
    "ExecuteTime": {
     "end_time": "2021-02-16T05:12:52.348990Z",
     "start_time": "2021-02-16T05:12:52.159912Z"
    }
   },
   "outputs": [],
   "source": [
    "import matplotlib.pyplot as plt\n",
    "import numpy as np\n",
    "import collections"
   ]
  },
  {
   "cell_type": "code",
   "execution_count": 2,
   "id": "humanitarian-slovak",
   "metadata": {
    "ExecuteTime": {
     "end_time": "2021-02-16T05:12:52.410819Z",
     "start_time": "2021-02-16T05:12:52.386588Z"
    }
   },
   "outputs": [
    {
     "name": "stdout",
     "output_type": "stream",
     "text": [
      "class size: \t [17, 22, 27, 32, 37, 42, 47, 52, 57]\n",
      "class count: \t [10, 10, 18, 6, 8, 10, 5, 3, 4]\n",
      "class pmf: \t [0.135, 0.135, 0.243, 0.081, 0.108, 0.135, 0.068, 0.041, 0.054]\n",
      "probability :\t 1.0\n",
      "Mean: \t\t 32.49\n"
     ]
    }
   ],
   "source": [
    "\n",
    "\n",
    "size_and_count = { 17: 10, 22: 10, 27: 18, 32: 6, 37: 8, 42: 10, 47: 5, 52: 3, 57: 4 }\n",
    "\n",
    "\n",
    "class_size  = [k for k,v in size_and_count.items()]\n",
    "class_count = [v for k,v in size_and_count.items()]\n",
    "class_pmf   = [round(v/sum(class_count),3) for k,v in size_and_count.items()]\n",
    "class_mean  = np.round(np.array(class_pmf).mean(), 2)\n",
    "\n",
    "mean=round(sum(list(map(lambda x,y: x*y,class_size,class_pmf))),2)\n",
    "\n",
    "\n",
    "# ∑𝑥𝑖𝑝(𝑥𝑖)=𝑝(𝑥1)+𝑝(𝑥2)+⋯=1\n",
    "class_probability = sum(class_pmf)\n",
    "\n",
    "\n",
    "print(\"class size: \\t\", class_size)\n",
    "print(\"class count: \\t\", class_count)\n",
    "print(\"class pmf: \\t\", class_pmf)\n",
    "print(\"probability :\\t\", class_probability)\n",
    "print(\"Mean: \\t\\t\",mean)\n"
   ]
  },
  {
   "cell_type": "markdown",
   "id": "average-house",
   "metadata": {},
   "source": [
    "$$ E(X) = \\mu = \\sum_i p(x_i)x_i$$"
   ]
  },
  {
   "cell_type": "markdown",
   "id": "scientific-detective",
   "metadata": {},
   "source": [
    "$$ \\sum_{x_i}^\\infty p(x_i)=p(x_1)  $$"
   ]
  },
  {
   "cell_type": "code",
   "execution_count": 3,
   "id": "changed-adrian",
   "metadata": {
    "ExecuteTime": {
     "end_time": "2021-02-16T05:12:54.039692Z",
     "start_time": "2021-02-16T05:12:53.896971Z"
    }
   },
   "outputs": [
    {
     "data": {
      "image/png": "[encoded data removed]",
      "text/plain": [
       "<Figure size 360x360 with 1 Axes>"
      ]
     },
     "metadata": {},
     "output_type": "display_data"
    }
   ],
   "source": [
    "plt.style.use('ggplot')\n",
    "plt.figure(figsize=(5,5))\n",
    "plt.title(\"A Probability Mass Function\")\n",
    "plt.bar(class_count,class_pmf)\n",
    "plt.show()"
   ]
  },
  {
   "cell_type": "markdown",
   "id": "trained-aspect",
   "metadata": {},
   "source": []
  },
  {
   "cell_type": "code",
   "execution_count": 315,
   "id": "minus-moldova",
   "metadata": {},
   "outputs": [],
   "source": [
    "# np.random.seed(0)\n",
    "\n",
    "sample_space=np.random.choice(np.random.randint(15,60),30, replace=True) \n",
    "# sample_space=np.tile(sample_space,2)"
   ]
  },
  {
   "cell_type": "code",
   "execution_count": 316,
   "id": "prepared-lottery",
   "metadata": {},
   "outputs": [],
   "source": [
    "u=collections.Counter(sample_space)"
   ]
  },
  {
   "cell_type": "code",
   "execution_count": 317,
   "id": "collect-consideration",
   "metadata": {},
   "outputs": [
    {
     "data": {
      "text/plain": [
       "[0.03333333333333333,\n",
       " 0.13333333333333333,\n",
       " 0.13333333333333333,\n",
       " 0.03333333333333333,\n",
       " 0.13333333333333333,\n",
       " 0.06666666666666667,\n",
       " 0.16666666666666666,\n",
       " 0.03333333333333333,\n",
       " 0.06666666666666667,\n",
       " 0.06666666666666667,\n",
       " 0.03333333333333333,\n",
       " 0.06666666666666667,\n",
       " 0.03333333333333333]"
      ]
     },
     "execution_count": 317,
     "metadata": {},
     "output_type": "execute_result"
    }
   ],
   "source": [
    "pmf=[v/sample_space.size for k,v in u.items()]\n",
    "pmf"
   ]
  },
  {
   "cell_type": "code",
   "execution_count": 318,
   "id": "respective-savage",
   "metadata": {},
   "outputs": [
    {
     "data": {
      "text/plain": [
       "1.0"
      ]
     },
     "execution_count": 318,
     "metadata": {},
     "output_type": "execute_result"
    }
   ],
   "source": [
    "np.array(pmf).sum()"
   ]
  },
  {
   "cell_type": "code",
   "execution_count": 319,
   "id": "spare-madison",
   "metadata": {},
   "outputs": [
    {
     "data": {
      "text/plain": [
       "(13, 13)"
      ]
     },
     "execution_count": 319,
     "metadata": {},
     "output_type": "execute_result"
    }
   ],
   "source": [
    "len(pmf),len(u),"
   ]
  },
  {
   "cell_type": "code",
   "execution_count": 320,
   "id": "casual-success",
   "metadata": {},
   "outputs": [
    {
     "data": {
      "image/png": "[encoded data removed]",
      "text/plain": [
       "<Figure size 432x288 with 1 Axes>"
      ]
     },
     "metadata": {},
     "output_type": "display_data"
    }
   ],
   "source": [
    "plt.style.use('ggplot')\n",
    "\n",
    "plt.bar(u.keys(), pmf);\n",
    "plt.title(\"A Probability Mass Function\");"
   ]
  },
  {
   "cell_type": "code",
   "execution_count": null,
   "id": "acceptable-maple",
   "metadata": {},
   "outputs": [],
   "source": []
  },
  {
   "cell_type": "code",
   "execution_count": null,
   "id": "experienced-potter",
   "metadata": {},
   "outputs": [],
   "source": []
  }
 ],
 "metadata": {
  "kernelspec": {
   "display_name": "python_env",
   "language": "python",
   "name": "python_env"
  },
  "language_info": {
   "codemirror_mode": {
    "name": "ipython",
    "version": 3
   },
   "file_extension": ".py",
   "mimetype": "text/x-python",
   "name": "python",
   "nbconvert_exporter": "python",
   "pygments_lexer": "ipython3",
   "version": "3.8.5"
  },
  "varInspector": {
   "cols": {
    "lenName": 16,
    "lenType": 16,
    "lenVar": 40
   },
   "kernels_config": {
    "python": {
     "delete_cmd_postfix": "",
     "delete_cmd_prefix": "del ",
     "library": "var_list.py",
     "varRefreshCmd": "print(var_dic_list())"
    },
    "r": {
     "delete_cmd_postfix": ") ",
     "delete_cmd_prefix": "rm(",
     "library": "var_list.r",
     "varRefreshCmd": "cat(var_dic_list()) "
    }
   },
   "types_to_exclude": [
    "module",
    "function",
    "builtin_function_or_method",
    "instance",
    "_Feature"
   ],
   "window_display": false
  }
 },
 "nbformat": 4,
 "nbformat_minor": 5
}
