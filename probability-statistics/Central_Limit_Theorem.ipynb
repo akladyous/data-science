{
 "cells": [
  {
   "cell_type": "code",
   "execution_count": 1,
   "id": "processed-payday",
   "metadata": {
    "tags": []
   },
   "outputs": [],
   "source": [
    "import pandas as pd\n",
    "import numpy as np\n",
    "import seaborn as sns\n",
    "import matplotlib.pyplot as plt\n",
    "from IPython.display import display, Math, Latex"
   ]
  },
  {
   "cell_type": "code",
   "execution_count": 2,
   "id": "frequent-antibody",
   "metadata": {
    "tags": []
   },
   "outputs": [],
   "source": [
    "data = pd.read_csv(\"../data/heightWeight.csv\")"
   ]
  },
  {
   "cell_type": "code",
   "execution_count": 3,
   "id": "electrical-spanking",
   "metadata": {
    "tags": []
   },
   "outputs": [],
   "source": [
    "titanic = pd.read_csv(\"../data/titanic.csv.gz\")"
   ]
  },
  {
   "cell_type": "code",
   "execution_count": 4,
   "id": "convinced-isaac",
   "metadata": {
    "tags": []
   },
   "outputs": [
    {
     "data": {
      "text/html": [
       "<div>\n",
       "<style scoped>\n",
       "    .dataframe tbody tr th:only-of-type {\n",
       "        vertical-align: middle;\n",
       "    }\n",
       "\n",
       "    .dataframe tbody tr th {\n",
       "        vertical-align: top;\n",
       "    }\n",
       "\n",
       "    .dataframe thead th {\n",
       "        text-align: right;\n",
       "    }\n",
       "</style>\n",
       "<table border=\"1\" class=\"dataframe\">\n",
       "  <thead>\n",
       "    <tr style=\"text-align: right;\">\n",
       "      <th></th>\n",
       "      <th>Unnamed: 0</th>\n",
       "      <th>PassengerId</th>\n",
       "      <th>Survived</th>\n",
       "      <th>Pclass</th>\n",
       "      <th>Name</th>\n",
       "      <th>Sex</th>\n",
       "      <th>Age</th>\n",
       "      <th>SibSp</th>\n",
       "      <th>Parch</th>\n",
       "      <th>Ticket</th>\n",
       "      <th>Fare</th>\n",
       "      <th>Cabin</th>\n",
       "      <th>Embarked</th>\n",
       "    </tr>\n",
       "  </thead>\n",
       "  <tbody>\n",
       "    <tr>\n",
       "      <th>0</th>\n",
       "      <td>0</td>\n",
       "      <td>1</td>\n",
       "      <td>0</td>\n",
       "      <td>3</td>\n",
       "      <td>Braund, Mr. Owen Harris</td>\n",
       "      <td>male</td>\n",
       "      <td>22.0</td>\n",
       "      <td>1</td>\n",
       "      <td>0</td>\n",
       "      <td>A/5 21171</td>\n",
       "      <td>7.2500</td>\n",
       "      <td>NaN</td>\n",
       "      <td>S</td>\n",
       "    </tr>\n",
       "    <tr>\n",
       "      <th>1</th>\n",
       "      <td>1</td>\n",
       "      <td>2</td>\n",
       "      <td>1</td>\n",
       "      <td>1</td>\n",
       "      <td>Cumings, Mrs. John Bradley (Florence Briggs Th...</td>\n",
       "      <td>female</td>\n",
       "      <td>38.0</td>\n",
       "      <td>1</td>\n",
       "      <td>0</td>\n",
       "      <td>PC 17599</td>\n",
       "      <td>71.2833</td>\n",
       "      <td>C85</td>\n",
       "      <td>C</td>\n",
       "    </tr>\n",
       "    <tr>\n",
       "      <th>2</th>\n",
       "      <td>2</td>\n",
       "      <td>3</td>\n",
       "      <td>1</td>\n",
       "      <td>3</td>\n",
       "      <td>Heikkinen, Miss. Laina</td>\n",
       "      <td>female</td>\n",
       "      <td>26.0</td>\n",
       "      <td>0</td>\n",
       "      <td>0</td>\n",
       "      <td>STON/O2. 3101282</td>\n",
       "      <td>7.9250</td>\n",
       "      <td>NaN</td>\n",
       "      <td>S</td>\n",
       "    </tr>\n",
       "    <tr>\n",
       "      <th>3</th>\n",
       "      <td>3</td>\n",
       "      <td>4</td>\n",
       "      <td>1</td>\n",
       "      <td>1</td>\n",
       "      <td>Futrelle, Mrs. Jacques Heath (Lily May Peel)</td>\n",
       "      <td>female</td>\n",
       "      <td>35.0</td>\n",
       "      <td>1</td>\n",
       "      <td>0</td>\n",
       "      <td>113803</td>\n",
       "      <td>53.1000</td>\n",
       "      <td>C123</td>\n",
       "      <td>S</td>\n",
       "    </tr>\n",
       "    <tr>\n",
       "      <th>4</th>\n",
       "      <td>4</td>\n",
       "      <td>5</td>\n",
       "      <td>0</td>\n",
       "      <td>3</td>\n",
       "      <td>Allen, Mr. William Henry</td>\n",
       "      <td>male</td>\n",
       "      <td>35.0</td>\n",
       "      <td>0</td>\n",
       "      <td>0</td>\n",
       "      <td>373450</td>\n",
       "      <td>8.0500</td>\n",
       "      <td>NaN</td>\n",
       "      <td>S</td>\n",
       "    </tr>\n",
       "  </tbody>\n",
       "</table>\n",
       "</div>"
      ],
      "text/plain": [
       "   Unnamed: 0  PassengerId  Survived Pclass  \\\n",
       "0           0            1         0      3   \n",
       "1           1            2         1      1   \n",
       "2           2            3         1      3   \n",
       "3           3            4         1      1   \n",
       "4           4            5         0      3   \n",
       "\n",
       "                                                Name     Sex   Age  SibSp  \\\n",
       "0                            Braund, Mr. Owen Harris    male  22.0      1   \n",
       "1  Cumings, Mrs. John Bradley (Florence Briggs Th...  female  38.0      1   \n",
       "2                             Heikkinen, Miss. Laina  female  26.0      0   \n",
       "3       Futrelle, Mrs. Jacques Heath (Lily May Peel)  female  35.0      1   \n",
       "4                           Allen, Mr. William Henry    male  35.0      0   \n",
       "\n",
       "   Parch            Ticket     Fare Cabin Embarked  \n",
       "0      0         A/5 21171   7.2500   NaN        S  \n",
       "1      0          PC 17599  71.2833   C85        C  \n",
       "2      0  STON/O2. 3101282   7.9250   NaN        S  \n",
       "3      0            113803  53.1000  C123        S  \n",
       "4      0            373450   8.0500   NaN        S  "
      ]
     },
     "execution_count": 4,
     "metadata": {},
     "output_type": "execute_result"
    }
   ],
   "source": [
    "ages = titanic['Age'].dropna()\n",
    "titanic.head()"
   ]
  },
  {
   "cell_type": "code",
   "execution_count": 5,
   "id": "quick-sheriff",
   "metadata": {
    "tags": []
   },
   "outputs": [],
   "source": [
    "ages_mean = titanic['Age'].mean()\n",
    "ages_median = titanic['Age'].median()\n",
    "ages_std = np.std(titanic['Age'])"
   ]
  },
  {
   "cell_type": "code",
   "execution_count": 6,
   "id": "framed-height",
   "metadata": {
    "tags": []
   },
   "outputs": [
    {
     "data": {
      "text/plain": [
       "<matplotlib.lines.Line2D at 0x111237f10>"
      ]
     },
     "execution_count": 6,
     "metadata": {},
     "output_type": "execute_result"
    },
    {
     "data": {
      "image/png": "[encoded data removed]",
      "text/plain": [
       "<Figure size 640x480 with 1 Axes>"
      ]
     },
     "metadata": {},
     "output_type": "display_data"
    }
   ],
   "source": [
    "titanic.Age.hist()\n",
    "plt.axvline(x=np.mean(ages_mean), linewidth=2.5, c='red')"
   ]
  },
  {
   "cell_type": "markdown",
   "id": "empty-riding",
   "metadata": {},
   "source": [
    "## Central Limit Theorem\n",
    ">Worked Example with Dice\n",
    "We can make the central limit theorem concrete with a worked example involving the rolling of die.\n",
    "\n",
    ">Remember that a die is a cube with a different number on each side from 1-to-6. Each number has a 1-in-6 likelihood to turn up from a roll. The distribution of the numbers that turn up from a dice roll is uniform given the equal likelihood."
   ]
  },
  {
   "cell_type": "code",
   "execution_count": 7,
   "id": "loved-riverside",
   "metadata": {},
   "outputs": [
    {
     "name": "stdout",
     "output_type": "stream",
     "text": [
      "Ages Mean:\t\t 29.69911764705882 \n",
      "Ages Median:\t\t 28.0 \n",
      "Standard Deviation:\t 14.516321150817317\n"
     ]
    }
   ],
   "source": [
    "print('Ages Mean:\\t\\t' , ages_mean, '\\nAges Median:\\t\\t', ages_median, '\\nStandard Deviation:\\t', ages_std)"
   ]
  },
  {
   "cell_type": "markdown",
   "id": "nervous-shirt",
   "metadata": {},
   "source": [
    "## Sampling distribution \n",
    ">\n",
    "The variability of a sampling distribution is measured by its variance or its standard deviation. The variability of a sampling distribution depends on three factors:\n",
    "\n",
    ">>N: The number of observations in the population.\n",
    "\n",
    ">>n The number of observations in the sample.\n",
    "\n",
    ">>The way that the random sample is chosen.\n",
    "\n",
    ">If the population size is much larger than the sample size, then the sampling distribution has roughly the same standard error, whether we sample with or without replacement. On the other hand, if the sample represents a significant fraction (say, 1/20) of the population size, the standard error will be meaningfully smaller, when we sample without replacement."
   ]
  },
  {
   "cell_type": "code",
   "execution_count": 8,
   "id": "piano-theta",
   "metadata": {},
   "outputs": [],
   "source": [
    "sample_size = 90 # roughly 10% of the population\n",
    "sample = ages.sample(n=sample_size, replace=True, random_state=10 )\n",
    "sample_mean = sample.mean()"
   ]
  },
  {
   "cell_type": "code",
   "execution_count": 9,
   "id": "automated-russia",
   "metadata": {},
   "outputs": [
    {
     "data": {
      "text/plain": [
       "32.977777777777774"
      ]
     },
     "execution_count": 9,
     "metadata": {},
     "output_type": "execute_result"
    }
   ],
   "source": [
    "sample_mean"
   ]
  },
  {
   "cell_type": "code",
   "execution_count": 10,
   "id": "optical-artist",
   "metadata": {},
   "outputs": [
    {
     "name": "stdout",
     "output_type": "stream",
     "text": [
      "Population Mean: 29.699 Sample Mean 32.978 Error Percentage 3.28%\n"
     ]
    }
   ],
   "source": [
    "percent_error = lambda population_mean, sample_mean: np.abs(population_mean - sample_mean)/100\n",
    "p=percent_error(ages_mean, sample_mean)\n",
    "print(f\"Population Mean: {round(ages_mean, 3)} Sample Mean {round(sample_mean,3)} Error Percentage {p*100:.2f}%\")"
   ]
  },
  {
   "cell_type": "code",
   "execution_count": 12,
   "id": "narrative-outreach",
   "metadata": {},
   "outputs": [],
   "source": [
    "sample_means = []\n",
    "for x in range(10**3):\n",
    "    sample = ages.sample(sample_size, replace=True)\n",
    "    #sample = np.random.choice(a=titanic['Age'], replace=True)\n",
    "    sample_means.append(sample.mean())"
   ]
  },
  {
   "cell_type": "code",
   "execution_count": 13,
   "id": "chief-gender",
   "metadata": {},
   "outputs": [
    {
     "name": "stdout",
     "output_type": "stream",
     "text": [
      "Population Mean: 29.699 Sample Mean 32.978 Error Percentage 3.28%\n"
     ]
    }
   ],
   "source": [
    "print(f\"Population Mean: {round(ages_mean, 3)} Sample Mean {round(sample_mean,3)} Error Percentage {p*100:.2f}%\")"
   ]
  },
  {
   "cell_type": "markdown",
   "id": "above-water",
   "metadata": {},
   "source": [
    "## Compare Population Mean to our Sampling Distribution¶\n"
   ]
  },
  {
   "cell_type": "code",
   "execution_count": 14,
   "id": "superb-salem",
   "metadata": {},
   "outputs": [
    {
     "data": {
      "text/plain": [
       "Text(0.5, 1.0, 'Sampling Distribution Mean')"
      ]
     },
     "execution_count": 14,
     "metadata": {},
     "output_type": "execute_result"
    },
    {
     "data": {
      "image/png": "[encoded data removed]",
      "text/plain": [
       "<Figure size 1000x500 with 2 Axes>"
      ]
     },
     "metadata": {},
     "output_type": "display_data"
    }
   ],
   "source": [
    "fig = plt.figure(figsize=[10,5])\n",
    "\n",
    "ax1=fig.add_subplot(211)\n",
    "ax1.set_title('Population Mean')\n",
    "ax1.hist(sample_means, bins=200);\n",
    "ax1.axvline(x=ages_mean, linestyle='--', linewidth=2.5, c='red')\n",
    "\n",
    "ax2=fig.add_subplot(212)\n",
    "ax2.hist(sample_means, bins=200);\n",
    "ax2.axvline(x=np.mean(sample_means), linestyle='--', linewidth=2.5, c='orange')\n",
    "ax2.set_title('Sampling Distribution Mean')"
   ]
  },
  {
   "cell_type": "code",
   "execution_count": null,
   "id": "embedded-session",
   "metadata": {},
   "outputs": [],
   "source": []
  },
  {
   "cell_type": "code",
   "execution_count": 15,
   "id": "exciting-peripheral",
   "metadata": {},
   "outputs": [
    {
     "name": "stdout",
     "output_type": "stream",
     "text": [
      "Population Mean: 29.6991, Sample Mean: 29.6911\n"
     ]
    }
   ],
   "source": [
    "print(f'Population Mean: {ages.mean():.4f}, Sample Mean: {np.mean(sample_means):.4f}')"
   ]
  },
  {
   "cell_type": "code",
   "execution_count": null,
   "id": "early-possibility",
   "metadata": {},
   "outputs": [],
   "source": []
  },
  {
   "cell_type": "code",
   "execution_count": 16,
   "id": "naval-guide",
   "metadata": {},
   "outputs": [],
   "source": [
    "sample_standard_error = ages_std/np.sqrt(sample_size)"
   ]
  },
  {
   "cell_type": "code",
   "execution_count": 17,
   "id": "ruled-local",
   "metadata": {},
   "outputs": [
    {
     "data": {
      "text/plain": [
       "1.5301546027686448"
      ]
     },
     "execution_count": 17,
     "metadata": {},
     "output_type": "execute_result"
    }
   ],
   "source": [
    "sample_standard_error"
   ]
  },
  {
   "cell_type": "markdown",
   "id": "threaded-optics",
   "metadata": {},
   "source": [
    "## Sampling from Finite Populations\n",
    ">finite population correction (fpc) factor\n",
    ">>The Central Limit Theorem and the standard errors of the mean and of the proportion are based on samples selected with replacement.\n",
    "This does not present much of a problem when the sample size (n) is small relative to the population size (N); that is, when the sample is less than 5% of the population. However, In most actual surveys research, you sample without replacement from populations that are of a finite size, N. In these cases, particularly when the sample size, n, is more than 5% of the population size, N (i.e.n/N > 0.05 ), you use a finite population correction (fpc).\n",
    "\n",
    ">>fpc = sqrt [ (N - n) / (N - 1) ]"
   ]
  },
  {
   "cell_type": "markdown",
   "id": "dutch-syria",
   "metadata": {},
   "source": [
    "## How to Calculate Z-Scores in Python"
   ]
  },
  {
   "attachments": {
    "450ca3fa-6359-4b54-b688-8ccf09abb6ee.png": {
     "image/png": "[encoded data removed]"
    }
   },
   "cell_type": "markdown",
   "id": "structured-tattoo",
   "metadata": {},
   "source": [
    ">![image.png](attachment:450ca3fa-6359-4b54-b688-8ccf09abb6ee.png)\n",
    "\n",
    ">x is a score\\\n",
    ">σ is the population standard deviation\\\n",
    ">μ is the population mean"
   ]
  },
  {
   "cell_type": "code",
   "execution_count": 18,
   "id": "jewish-color",
   "metadata": {},
   "outputs": [],
   "source": [
    "def z_score(value, mean, std):\n",
    "    return (value - mean) / std"
   ]
  },
  {
   "cell_type": "code",
   "execution_count": 19,
   "id": "professional-taiwan",
   "metadata": {},
   "outputs": [],
   "source": [
    "z_scores=(ages-ages_mean)/ages_std\n",
    "titanic['z_scores']=(ages-ages_mean)/ages_std"
   ]
  },
  {
   "cell_type": "code",
   "execution_count": 20,
   "id": "higher-split",
   "metadata": {},
   "outputs": [],
   "source": [
    "titanic['z_scores'] = (titanic['Age'] - titanic['Age'].mean())/titanic['Age'].std() #std(ddof=0)"
   ]
  },
  {
   "cell_type": "code",
   "execution_count": 21,
   "id": "miniature-civilization",
   "metadata": {},
   "outputs": [
    {
     "data": {
      "text/plain": [
       "0     -0.530377\n",
       "1      0.571831\n",
       "2     -0.254825\n",
       "3      0.365167\n",
       "4      0.365167\n",
       "         ...   \n",
       "885    0.640719\n",
       "886   -0.185937\n",
       "887   -0.737041\n",
       "889   -0.254825\n",
       "890    0.158503\n",
       "Name: Age, Length: 714, dtype: float64"
      ]
     },
     "execution_count": 21,
     "metadata": {},
     "output_type": "execute_result"
    }
   ],
   "source": [
    "z_scores"
   ]
  },
  {
   "cell_type": "code",
   "execution_count": 22,
   "id": "current-agency",
   "metadata": {},
   "outputs": [],
   "source": [
    "x=titanic[:5]"
   ]
  },
  {
   "cell_type": "code",
   "execution_count": 23,
   "id": "dental-muscle",
   "metadata": {},
   "outputs": [
    {
     "name": "stdout",
     "output_type": "stream",
     "text": [
      "1\n",
      "2\n",
      "3\n",
      "4\n",
      "5\n"
     ]
    }
   ],
   "source": [
    "for x in x.itertuples(index=False):\n",
    "    print(x.PassengerId)"
   ]
  },
  {
   "cell_type": "code",
   "execution_count": 24,
   "id": "affected-costume",
   "metadata": {},
   "outputs": [],
   "source": [
    "postive_1st_sd = len(titanic[titanic['z_scores'].between(0, 1)==True])\n",
    "postive_2st_sd = len(titanic[titanic['z_scores'].between(0, 2)==True])\n",
    "postive_3st_sd = len(titanic[titanic['z_scores'].between(0, 3)==True])\n",
    "\n",
    "negative_1st_sd = len(titanic[titanic['z_scores'].between(0, -1)==True])\n",
    "negative_2st_sd = len(titanic[titanic['z_scores'].between(0, -2)==True])\n",
    "negative_3st_sd = len(titanic[titanic['z_scores'].between(0, -3)==True])\n",
    "\n",
    "first_sd = len(titanic[titanic['z_scores'].between(-1, 1)==True])\n",
    "second_sd = len(titanic[titanic['z_scores'].between(-2, 3)==True])\n",
    "third_sd = len(titanic[titanic['z_scores'].between(-3, 3)==True])\n",
    "\n",
    "\n",
    "first_sd_p  = first_sd/len(titanic)*100\n",
    "second_sd_p  = second_sd/len(titanic)*100\n",
    "third_sd_p  = third_sd/len(titanic)*100"
   ]
  },
  {
   "cell_type": "code",
   "execution_count": 26,
   "id": "detected-marshall",
   "metadata": {},
   "outputs": [
    {
     "data": {
      "text/plain": [
       "215"
      ]
     },
     "execution_count": 26,
     "metadata": {},
     "output_type": "execute_result"
    }
   ],
   "source": [
    "len(titanic[titanic['z_scores'].between(0,1)])"
   ]
  },
  {
   "cell_type": "code",
   "execution_count": 27,
   "id": "electric-leone",
   "metadata": {},
   "outputs": [
    {
     "data": {
      "text/plain": [
       "516"
      ]
     },
     "execution_count": 27,
     "metadata": {},
     "output_type": "execute_result"
    }
   ],
   "source": [
    "first_sd"
   ]
  }
 ],
 "metadata": {
  "kernelspec": {
   "display_name": "Python 3 (ipykernel)",
   "language": "python",
   "name": "python3"
  },
  "language_info": {
   "codemirror_mode": {
    "name": "ipython",
    "version": 3
   },
   "file_extension": ".py",
   "mimetype": "text/x-python",
   "name": "python",
   "nbconvert_exporter": "python",
   "pygments_lexer": "ipython3",
   "version": "3.11.7"
  }
 },
 "nbformat": 4,
 "nbformat_minor": 5
}
