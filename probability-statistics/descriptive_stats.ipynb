{
 "cells": [
  {
   "cell_type": "code",
   "execution_count": null,
   "id": "7a731d7f-5592-40ff-8e8f-e325748fd0b7",
   "metadata": {},
   "outputs": [],
   "source": [
    "import numpy as np"
   ]
  },
  {
   "cell_type": "code",
   "execution_count": null,
   "id": "890090e5-78a3-4d58-9400-35a8d1d28cf4",
   "metadata": {},
   "outputs": [
    {
     "name": "stdout",
     "output_type": "stream",
     "text": [
      "[ 0  1  2  3  4  5  6  7  8  9 10 11 12 13 14 15 16 17 18 19]\n"
     ]
    }
   ],
   "source": [
    "range1 = np.arange(20)\n",
    "print(range1)"
   ]
  },
  {
   "cell_type": "code",
   "execution_count": 10,
   "id": "bdc5f389-e154-450a-ac2d-4d6a3ff89c0d",
   "metadata": {},
   "outputs": [
    {
     "data": {
      "text/plain": [
       "array([ 4.75,  9.5 , 14.25])"
      ]
     },
     "execution_count": 10,
     "metadata": {},
     "output_type": "execute_result"
    }
   ],
   "source": [
    "np.percentile(range1, [25, 50, 75])"
   ]
  },
  {
   "cell_type": "code",
   "execution_count": 21,
   "id": "cf701e0d-c579-4672-9c30-7f4f25f0f3ee",
   "metadata": {},
   "outputs": [
    {
     "name": "stdout",
     "output_type": "stream",
     "text": [
      "IQR 25 Percentile : 4.75\n"
     ]
    }
   ],
   "source": [
    "iqr_25th = np.percentile(range1, 25)\n",
    "print(f\"IQR 25 Percentile : {iqr_25th:.2f}\")"
   ]
  },
  {
   "cell_type": "code",
   "execution_count": null,
   "id": "d85cacba-1145-4220-9bb6-8174496f730b",
   "metadata": {},
   "outputs": [],
   "source": []
  }
 ],
 "metadata": {
  "kernelspec": {
   "display_name": "Python 3 (ipykernel)",
   "language": "python",
   "name": "python3"
  },
  "language_info": {
   "codemirror_mode": {
    "name": "ipython",
    "version": 3
   },
   "file_extension": ".py",
   "mimetype": "text/x-python",
   "name": "python",
   "nbconvert_exporter": "python",
   "pygments_lexer": "ipython3",
   "version": "3.11.5"
  }
 },
 "nbformat": 4,
 "nbformat_minor": 5
}
