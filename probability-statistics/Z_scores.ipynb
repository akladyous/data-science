{
 "cells": [
  {
   "cell_type": "code",
   "execution_count": 1,
   "id": "humanitarian-perspective",
   "metadata": {},
   "outputs": [],
   "source": [
    "import pandas as pd\n",
    "import numpy as np\n",
    "import seaborn as sns\n",
    "import matplotlib.pyplot as plt\n",
    "\n",
    "# from scipy import stats\n",
    "from scipy.stats import norm, kurtosis, skew, normaltest\n",
    "from IPython.display import display, Math, Latex"
   ]
  },
  {
   "cell_type": "code",
   "execution_count": 2,
   "id": "assumed-ecology",
   "metadata": {},
   "outputs": [],
   "source": [
    "data = pd.read_csv(\"./../data/weight-height.csv\")"
   ]
  },
  {
   "cell_type": "code",
   "execution_count": 3,
   "id": "blond-owner",
   "metadata": {},
   "outputs": [],
   "source": [
    "titanic = pd.read_csv('./../data/titanic.csv')"
   ]
  },
  {
   "cell_type": "code",
   "execution_count": 4,
   "id": "several-speech",
   "metadata": {},
   "outputs": [
    {
     "data": {
      "text/html": [
       "<div>\n",
       "<style scoped>\n",
       "    .dataframe tbody tr th:only-of-type {\n",
       "        vertical-align: middle;\n",
       "    }\n",
       "\n",
       "    .dataframe tbody tr th {\n",
       "        vertical-align: top;\n",
       "    }\n",
       "\n",
       "    .dataframe thead th {\n",
       "        text-align: right;\n",
       "    }\n",
       "</style>\n",
       "<table border=\"1\" class=\"dataframe\">\n",
       "  <thead>\n",
       "    <tr style=\"text-align: right;\">\n",
       "      <th></th>\n",
       "      <th>Unnamed: 0</th>\n",
       "      <th>PassengerId</th>\n",
       "      <th>Survived</th>\n",
       "      <th>Pclass</th>\n",
       "      <th>Name</th>\n",
       "      <th>Sex</th>\n",
       "      <th>Age</th>\n",
       "      <th>SibSp</th>\n",
       "      <th>Parch</th>\n",
       "      <th>Ticket</th>\n",
       "      <th>Fare</th>\n",
       "      <th>Cabin</th>\n",
       "      <th>Embarked</th>\n",
       "    </tr>\n",
       "  </thead>\n",
       "  <tbody>\n",
       "    <tr>\n",
       "      <th>0</th>\n",
       "      <td>0</td>\n",
       "      <td>1</td>\n",
       "      <td>0</td>\n",
       "      <td>3</td>\n",
       "      <td>Braund, Mr. Owen Harris</td>\n",
       "      <td>male</td>\n",
       "      <td>22.0</td>\n",
       "      <td>1</td>\n",
       "      <td>0</td>\n",
       "      <td>A/5 21171</td>\n",
       "      <td>7.2500</td>\n",
       "      <td>NaN</td>\n",
       "      <td>S</td>\n",
       "    </tr>\n",
       "    <tr>\n",
       "      <th>1</th>\n",
       "      <td>1</td>\n",
       "      <td>2</td>\n",
       "      <td>1</td>\n",
       "      <td>1</td>\n",
       "      <td>Cumings, Mrs. John Bradley (Florence Briggs Th...</td>\n",
       "      <td>female</td>\n",
       "      <td>38.0</td>\n",
       "      <td>1</td>\n",
       "      <td>0</td>\n",
       "      <td>PC 17599</td>\n",
       "      <td>71.2833</td>\n",
       "      <td>C85</td>\n",
       "      <td>C</td>\n",
       "    </tr>\n",
       "    <tr>\n",
       "      <th>2</th>\n",
       "      <td>2</td>\n",
       "      <td>3</td>\n",
       "      <td>1</td>\n",
       "      <td>3</td>\n",
       "      <td>Heikkinen, Miss. Laina</td>\n",
       "      <td>female</td>\n",
       "      <td>26.0</td>\n",
       "      <td>0</td>\n",
       "      <td>0</td>\n",
       "      <td>STON/O2. 3101282</td>\n",
       "      <td>7.9250</td>\n",
       "      <td>NaN</td>\n",
       "      <td>S</td>\n",
       "    </tr>\n",
       "    <tr>\n",
       "      <th>3</th>\n",
       "      <td>3</td>\n",
       "      <td>4</td>\n",
       "      <td>1</td>\n",
       "      <td>1</td>\n",
       "      <td>Futrelle, Mrs. Jacques Heath (Lily May Peel)</td>\n",
       "      <td>female</td>\n",
       "      <td>35.0</td>\n",
       "      <td>1</td>\n",
       "      <td>0</td>\n",
       "      <td>113803</td>\n",
       "      <td>53.1000</td>\n",
       "      <td>C123</td>\n",
       "      <td>S</td>\n",
       "    </tr>\n",
       "    <tr>\n",
       "      <th>4</th>\n",
       "      <td>4</td>\n",
       "      <td>5</td>\n",
       "      <td>0</td>\n",
       "      <td>3</td>\n",
       "      <td>Allen, Mr. William Henry</td>\n",
       "      <td>male</td>\n",
       "      <td>35.0</td>\n",
       "      <td>0</td>\n",
       "      <td>0</td>\n",
       "      <td>373450</td>\n",
       "      <td>8.0500</td>\n",
       "      <td>NaN</td>\n",
       "      <td>S</td>\n",
       "    </tr>\n",
       "  </tbody>\n",
       "</table>\n",
       "</div>"
      ],
      "text/plain": [
       "   Unnamed: 0  PassengerId  Survived Pclass  \\\n",
       "0           0            1         0      3   \n",
       "1           1            2         1      1   \n",
       "2           2            3         1      3   \n",
       "3           3            4         1      1   \n",
       "4           4            5         0      3   \n",
       "\n",
       "                                                Name     Sex   Age  SibSp  \\\n",
       "0                            Braund, Mr. Owen Harris    male  22.0      1   \n",
       "1  Cumings, Mrs. John Bradley (Florence Briggs Th...  female  38.0      1   \n",
       "2                             Heikkinen, Miss. Laina  female  26.0      0   \n",
       "3       Futrelle, Mrs. Jacques Heath (Lily May Peel)  female  35.0      1   \n",
       "4                           Allen, Mr. William Henry    male  35.0      0   \n",
       "\n",
       "   Parch            Ticket     Fare Cabin Embarked  \n",
       "0      0         A/5 21171   7.2500   NaN        S  \n",
       "1      0          PC 17599  71.2833   C85        C  \n",
       "2      0  STON/O2. 3101282   7.9250   NaN        S  \n",
       "3      0            113803  53.1000  C123        S  \n",
       "4      0            373450   8.0500   NaN        S  "
      ]
     },
     "execution_count": 4,
     "metadata": {},
     "output_type": "execute_result"
    }
   ],
   "source": [
    "ages = titanic['Age'].dropna()\n",
    "titanic.head()"
   ]
  },
  {
   "cell_type": "code",
   "execution_count": 5,
   "id": "colored-survival",
   "metadata": {},
   "outputs": [],
   "source": [
    "ages_mean = titanic['Age'].mean()\n",
    "ages_median = titanic['Age'].median()\n",
    "ages_std = np.std(titanic['Age'])"
   ]
  },
  {
   "cell_type": "code",
   "execution_count": null,
   "id": "lonely-animation",
   "metadata": {},
   "outputs": [],
   "source": []
  },
  {
   "attachments": {
    "450ca3fa-6359-4b54-b688-8ccf09abb6ee.png": {
     "image/png": "[encoded data removed]"
    }
   },
   "cell_type": "markdown",
   "id": "spiritual-sugar",
   "metadata": {},
   "source": [
    ">![image.png](attachment:450ca3fa-6359-4b54-b688-8ccf09abb6ee.png)\n",
    "\n",
    ">x is a score\\\n",
    ">σ is the population standard deviation\\\n",
    ">μ is the population mean"
   ]
  },
  {
   "cell_type": "code",
   "execution_count": 6,
   "id": "absent-surface",
   "metadata": {},
   "outputs": [],
   "source": [
    "def z_score(value, mean, std):\n",
    "    return (value - mean) / std"
   ]
  },
  {
   "cell_type": "code",
   "execution_count": 7,
   "id": "similar-layer",
   "metadata": {},
   "outputs": [],
   "source": [
    "z_scores=(ages-ages_mean)/ages_std\n",
    "# titanic['z_scores']=(ages-ages_mean)/ages_std\n",
    "titanic['z_scores'] = (titanic['Age'] - titanic['Age'].mean())/titanic['Age'].std() #std(ddof=0)"
   ]
  },
  {
   "cell_type": "code",
   "execution_count": 8,
   "id": "satellite-award",
   "metadata": {},
   "outputs": [
    {
     "data": {
      "text/plain": [
       "0     -0.530005\n",
       "1      0.571430\n",
       "2     -0.254646\n",
       "3      0.364911\n",
       "4      0.364911\n",
       "         ...   \n",
       "886   -0.185807\n",
       "887   -0.736524\n",
       "888         NaN\n",
       "889   -0.254646\n",
       "890    0.158392\n",
       "Name: z_scores, Length: 891, dtype: float64"
      ]
     },
     "execution_count": 8,
     "metadata": {},
     "output_type": "execute_result"
    }
   ],
   "source": [
    "titanic['z_scores']"
   ]
  },
  {
   "cell_type": "code",
   "execution_count": 9,
   "id": "compact-evans",
   "metadata": {},
   "outputs": [
    {
     "data": {
      "text/plain": [
       "215"
      ]
     },
     "execution_count": 9,
     "metadata": {},
     "output_type": "execute_result"
    }
   ],
   "source": [
    "titanic[(titanic.z_scores.between(0,1)==True)].shape[0]"
   ]
  },
  {
   "cell_type": "code",
   "execution_count": 10,
   "id": "proprietary-arthur",
   "metadata": {},
   "outputs": [],
   "source": [
    "postive_1st_sd = len(titanic[titanic['z_scores'].between(0, 1)==True])\n",
    "postive_2st_sd = len(titanic[titanic['z_scores'].between(0, 2)==True])\n",
    "postive_3st_sd = len(titanic[titanic['z_scores'].between(0, 3)==True])\n",
    "\n",
    "negative_1st_sd = len(titanic[titanic['z_scores'].between(0, -1)==True])\n",
    "negative_2st_sd = len(titanic[titanic['z_scores'].between(0, -2)==True])\n",
    "negative_3st_sd = len(titanic[titanic['z_scores'].between(0, -3)==True])\n",
    "\n",
    "first_sd = len(titanic[titanic['z_scores'].between(-1, 1)==True])\n",
    "second_sd = len(titanic[titanic['z_scores'].between(-2, 3)==True])\n",
    "third_sd = len(titanic[titanic['z_scores'].between(-3, 3)==True])\n",
    "\n",
    "\n",
    "first_sd_p  = first_sd/len(titanic)*100\n",
    "second_sd_p  = second_sd/len(titanic)*100\n",
    "third_sd_p  = third_sd/len(titanic)*100"
   ]
  },
  {
   "cell_type": "code",
   "execution_count": 11,
   "id": "identical-queue",
   "metadata": {},
   "outputs": [
    {
     "data": {
      "text/plain": [
       "215"
      ]
     },
     "execution_count": 11,
     "metadata": {},
     "output_type": "execute_result"
    }
   ],
   "source": [
    "len(titanic[titanic['z_scores'].between(0,1)])"
   ]
  },
  {
   "cell_type": "code",
   "execution_count": 12,
   "id": "middle-filter",
   "metadata": {},
   "outputs": [
    {
     "data": {
      "text/plain": [
       "215"
      ]
     },
     "execution_count": 12,
     "metadata": {},
     "output_type": "execute_result"
    }
   ],
   "source": [
    "postive_1st_sd"
   ]
  },
  {
   "cell_type": "code",
   "execution_count": 13,
   "id": "portable-replication",
   "metadata": {},
   "outputs": [
    {
     "data": {
      "text/plain": [
       "302"
      ]
     },
     "execution_count": 13,
     "metadata": {},
     "output_type": "execute_result"
    }
   ],
   "source": [
    "postive_2st_sd"
   ]
  },
  {
   "cell_type": "code",
   "execution_count": 14,
   "id": "sudden-revelation",
   "metadata": {},
   "outputs": [
    {
     "data": {
      "text/plain": [
       "328"
      ]
     },
     "execution_count": 14,
     "metadata": {},
     "output_type": "execute_result"
    }
   ],
   "source": [
    "postive_3st_sd"
   ]
  },
  {
   "cell_type": "markdown",
   "id": "alive-damage",
   "metadata": {},
   "source": [
    "## Measuring Skewness\n",
    "\n",
    "The rule of thumb seems to be:\n",
    "\n",
    "A skewness between -0.5 and 0.5 means that the data are pretty symmetrical\n",
    "A skewness between -1 and -0.5 (negatively skewed) or between 0.5 and 1 (positively skewed) means that the data are moderately skewed.\n",
    "A skewness smaller than -1 (negatively skewed) or bigger than 1 (positively skewed) means that the data are highly skewed."
   ]
  },
  {
   "cell_type": "code",
   "execution_count": 15,
   "id": "competent-virtue",
   "metadata": {},
   "outputs": [
    {
     "data": {
      "text/plain": [
       "0.3882898514698657"
      ]
     },
     "execution_count": 15,
     "metadata": {},
     "output_type": "execute_result"
    }
   ],
   "source": [
    "skew(ages)"
   ]
  },
  {
   "cell_type": "markdown",
   "id": "imported-upset",
   "metadata": {},
   "source": [
    "## Measuring Kurtosis"
   ]
  },
  {
   "cell_type": "code",
   "execution_count": 16,
   "id": "blank-updating",
   "metadata": {},
   "outputs": [
    {
     "data": {
      "text/plain": [
       "0.16863657224286044"
      ]
     },
     "execution_count": 16,
     "metadata": {},
     "output_type": "execute_result"
    }
   ],
   "source": [
    "kurtosis(ages)"
   ]
  },
  {
   "cell_type": "code",
   "execution_count": 17,
   "id": "white-prevention",
   "metadata": {},
   "outputs": [
    {
     "data": {
      "text/plain": [
       "NormaltestResult(statistic=18.105032952089758, pvalue=0.00011709599657350757)"
      ]
     },
     "execution_count": 17,
     "metadata": {},
     "output_type": "execute_result"
    }
   ],
   "source": [
    "normaltest(ages)"
   ]
  },
  {
   "cell_type": "code",
   "execution_count": null,
   "id": "dependent-poison",
   "metadata": {},
   "outputs": [],
   "source": []
  },
  {
   "cell_type": "code",
   "execution_count": null,
   "id": "brown-notion",
   "metadata": {},
   "outputs": [],
   "source": []
  }
 ],
 "metadata": {
  "kernelspec": {
   "display_name": "Python 3 (ipykernel)",
   "language": "python",
   "name": "python3"
  },
  "language_info": {
   "codemirror_mode": {
    "name": "ipython",
    "version": 3
   },
   "file_extension": ".py",
   "mimetype": "text/x-python",
   "name": "python",
   "nbconvert_exporter": "python",
   "pygments_lexer": "ipython3",
   "version": "3.11.7"
  }
 },
 "nbformat": 4,
 "nbformat_minor": 5
}
