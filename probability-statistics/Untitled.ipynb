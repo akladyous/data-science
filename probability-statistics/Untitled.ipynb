{
 "cells": [
  {
   "cell_type": "code",
   "execution_count": 1,
   "id": "f8790fff-d6ad-4388-a0c1-5d90fbfced08",
   "metadata": {},
   "outputs": [],
   "source": [
    "import requests"
   ]
  },
  {
   "cell_type": "code",
   "execution_count": 7,
   "id": "b14ed0d0-536e-436c-bcba-94a1d824b1a4",
   "metadata": {},
   "outputs": [],
   "source": [
    "username = 'gadamico'\n",
    "url = f'https://api.github.com/users/{username}/events'"
   ]
  },
  {
   "cell_type": "code",
   "execution_count": 14,
   "id": "5460216e-a627-49cb-a042-a9b82c84ad93",
   "metadata": {},
   "outputs": [],
   "source": [
    "def get_repositories(username):\n",
    "    # Get repositories where the user has committed\n",
    "    commits_url = f'https://api.github.com/users/{username}/events'\n",
    "    response = requests.get(commits_url)\n",
    "    events = response.json()\n",
    "\n",
    "    repositories = set()\n",
    "\n",
    "    # Extract repository names from commit events\n",
    "    for event in events:\n",
    "        if 'repo' in event and 'name' in event['repo']:\n",
    "            repositories.add(event['repo']['name'])\n",
    "\n",
    "    # Get repositories where the user has pushed\n",
    "    push_url = f'https://api.github.com/users/{username}/repos?type=owner'\n",
    "    response = requests.get(push_url)\n",
    "    owned_repos = response.json()\n",
    "\n",
    "    for repo in owned_repos:\n",
    "        repositories.add(repo['name'])\n",
    "\n",
    "    return list(repositories)\n"
   ]
  },
  {
   "cell_type": "code",
   "execution_count": 15,
   "id": "3aa536f7-a22b-4e63-acdd-5ca12f805d81",
   "metadata": {},
   "outputs": [],
   "source": [
    "repos = get_repositories('gadamico')"
   ]
  },
  {
   "cell_type": "code",
   "execution_count": 16,
   "id": "22108698-cf52-44a4-852a-bde483b001d0",
   "metadata": {},
   "outputs": [
    {
     "data": {
      "text/plain": [
       "['bias_variance',\n",
       " 'additional-topics-dash-lesson',\n",
       " '30-Days-Of-Python',\n",
       " 'demo',\n",
       " 'dsc-2-15-07-apis-and-oauth-seattle-ds-career-040119',\n",
       " 'chi_squared_testing',\n",
       " 'gadamico/Sports-Data',\n",
       " 'localsend/localsend',\n",
       " 'AMATH583first',\n",
       " 'Code-Snippets',\n",
       " 'dash-tutorial',\n",
       " 'dsc-1-09-03-statistical-distributions-and-their-use-cases-seattle-ds-career-040119',\n",
       " 'flatiron-school/ds-short_video_notebooks',\n",
       " 'datasets',\n",
       " 'gadamico/Code-Snippets',\n",
       " 'CalculatorLibrary',\n",
       " 'gadamico/new_repository',\n",
       " 'data_analysis_built_in_types',\n",
       " 'dsc-2-17-09-reading-api-documentation-seattle-ds-career-040119',\n",
       " 'ds-data_visualization-bvh32',\n",
       " 'apis_and_mongo_seattle-ds',\n",
       " 'ds-challenge-08_boostrapping_seattle-ds-career-040119',\n",
       " 'dsc-2-15-05-http-request-response-cycle-seattle-ds-career-040119',\n",
       " 'DataandMetadata',\n",
       " 'dsc-2-19-01-introduction-seattle-ds-career-040119',\n",
       " 'cloud-services-and-deployment-012720',\n",
       " 'daily_challenges_seattle-ds-102819',\n",
       " 'capstone-flask-app-template-seattle-ds-062419',\n",
       " 'spdustin/ChatGPT-AutoExpert',\n",
       " 'binder-test',\n",
       " 'Chicago-ds-012720',\n",
       " 'data',\n",
       " 'Disease-Modeling',\n",
       " 'data_types',\n",
       " 'DS-Live-062722-Streamlit-Practice',\n",
       " 'big_data_seattle-ds',\n",
       " 'gadamico/new_repo']"
      ]
     },
     "execution_count": 16,
     "metadata": {},
     "output_type": "execute_result"
    }
   ],
   "source": [
    "repos"
   ]
  },
  {
   "cell_type": "code",
   "execution_count": null,
   "id": "8d89e986-d05e-4b48-b396-9c9bc7376357",
   "metadata": {},
   "outputs": [],
   "source": []
  }
 ],
 "metadata": {
  "kernelspec": {
   "display_name": "Python 3 (ipykernel)",
   "language": "python",
   "name": "python3"
  },
  "language_info": {
   "codemirror_mode": {
    "name": "ipython",
    "version": 3
   },
   "file_extension": ".py",
   "mimetype": "text/x-python",
   "name": "python",
   "nbconvert_exporter": "python",
   "pygments_lexer": "ipython3",
   "version": "3.11.5"
  }
 },
 "nbformat": 4,
 "nbformat_minor": 5
}
