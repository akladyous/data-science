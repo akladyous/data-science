{
 "cells": [
  {
   "cell_type": "code",
   "execution_count": 1,
   "id": "0ffbcb1d",
   "metadata": {},
   "outputs": [],
   "source": [
    "import numpy as np\n",
    "from itertools import permutations, combinations\n"
   ]
  },
  {
   "cell_type": "code",
   "execution_count": 5,
   "id": "07b1a512",
   "metadata": {},
   "outputs": [
    {
     "name": "stdout",
     "output_type": "stream",
     "text": [
      "Permutations of 3 items:\n",
      "[['a' 'b']\n",
      " ['a' 'c']\n",
      " ['b' 'a']\n",
      " ['b' 'c']\n",
      " ['c' 'a']\n",
      " ['c' 'b']]\n",
      "\n",
      "Combinations of 3 items:\n",
      "[['a' 'b']\n",
      " ['a' 'c']\n",
      " ['b' 'c']]\n"
     ]
    }
   ],
   "source": [
    "\n",
    "# Original list of items\n",
    "items = ['a', 'b', 'c']\n",
    "\n",
    "# Permutations of 3 items\n",
    "perm_3 = list(permutations(items, 2))\n",
    "\n",
    "# Combinations of 3 items\n",
    "comb_3 = list(combinations(items, 2))\n",
    "\n",
    "# Convert the results to NumPy arrays for better display\n",
    "perm_3_np = np.array(perm_3)\n",
    "comb_3_np = np.array(comb_3)\n",
    "\n",
    "# Display the results\n",
    "print(\"Permutations of 3 items:\")\n",
    "print(perm_3_np)\n",
    "\n",
    "print(\"\\nCombinations of 3 items:\")\n",
    "print(comb_3_np)\n"
   ]
  },
  {
   "cell_type": "code",
   "execution_count": null,
   "id": "f9a84fe8",
   "metadata": {},
   "outputs": [],
   "source": []
  }
 ],
 "metadata": {
  "kernelspec": {
   "display_name": "Python 3 (ipykernel)",
   "language": "python",
   "name": "python3"
  },
  "language_info": {
   "codemirror_mode": {
    "name": "ipython",
    "version": 3
   },
   "file_extension": ".py",
   "mimetype": "text/x-python",
   "name": "python",
   "nbconvert_exporter": "python",
   "pygments_lexer": "ipython3",
   "version": "3.11.5"
  }
 },
 "nbformat": 4,
 "nbformat_minor": 5
}
