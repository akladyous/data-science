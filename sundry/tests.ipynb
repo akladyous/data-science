{
 "cells": [
  {
   "cell_type": "code",
   "execution_count": 5,
   "metadata": {},
   "outputs": [],
   "source": [
    "from inspect import getsource"
   ]
  },
  {
   "cell_type": "code",
   "execution_count": 6,
   "metadata": {},
   "outputs": [],
   "source": [
    "import matplotlib as plt\n",
    "import numpy as np"
   ]
  },
  {
   "cell_type": "code",
   "execution_count": 7,
   "metadata": {},
   "outputs": [
    {
     "data": {
      "text/plain": [
       "array([[1, 1, 1],\n",
       "       [1, 1, 1],\n",
       "       [1, 1, 1]])"
      ]
     },
     "execution_count": 7,
     "metadata": {},
     "output_type": "execute_result"
    }
   ],
   "source": [
    "x=np.full((3,3),1)\n",
    "x"
   ]
  },
  {
   "cell_type": "code",
   "execution_count": 11,
   "metadata": {},
   "outputs": [
    {
     "ename": "AttributeError",
     "evalue": "'numpy._ArrayFunctionDispatcher' object has no attribute '__code__'",
     "output_type": "error",
     "traceback": [
      "\u001b[0;31m---------------------------------------------------------------------------\u001b[0m",
      "\u001b[0;31mAttributeError\u001b[0m                            Traceback (most recent call last)",
      "Cell \u001b[0;32mIn[11], line 1\u001b[0m\n\u001b[0;32m----> 1\u001b[0m np\u001b[38;5;241m.\u001b[39msort\u001b[38;5;241m.\u001b[39m\u001b[38;5;18m__code__\u001b[39m\u001b[38;5;241m.\u001b[39mco_varnames\n",
      "\u001b[0;31mAttributeError\u001b[0m: 'numpy._ArrayFunctionDispatcher' object has no attribute '__code__'"
     ]
    }
   ],
   "source": [
    "np.sort.__code__.co_varnames"
   ]
  },
  {
   "cell_type": "code",
   "execution_count": null,
   "metadata": {},
   "outputs": [
    {
     "data": {
      "text/plain": [
       "'sort'"
      ]
     },
     "execution_count": 5,
     "metadata": {},
     "output_type": "execute_result"
    }
   ],
   "source": [
    "np.sort.__code__.co_name"
   ]
  },
  {
   "cell_type": "code",
   "execution_count": 12,
   "metadata": {
    "scrolled": true
   },
   "outputs": [
    {
     "data": {
      "text/plain": [
       "'@array_function_dispatch(_sort_dispatcher)\\ndef sort(a, axis=-1, kind=None, order=None):\\n    \"\"\"\\n    Return a sorted copy of an array.\\n\\n    Parameters\\n    ----------\\n    a : array_like\\n        Array to be sorted.\\n    axis : int or None, optional\\n        Axis along which to sort. If None, the array is flattened before\\n        sorting. The default is -1, which sorts along the last axis.\\n    kind : {\\'quicksort\\', \\'mergesort\\', \\'heapsort\\', \\'stable\\'}, optional\\n        Sorting algorithm. The default is \\'quicksort\\'. Note that both \\'stable\\'\\n        and \\'mergesort\\' use timsort or radix sort under the covers and, in general,\\n        the actual implementation will vary with data type. The \\'mergesort\\' option\\n        is retained for backwards compatibility.\\n\\n        .. versionchanged:: 1.15.0.\\n           The \\'stable\\' option was added.\\n\\n    order : str or list of str, optional\\n        When `a` is an array with fields defined, this argument specifies\\n        which fields to compare first, second, etc.  A single field can\\n        be specified as a string, and not all fields need be specified,\\n        but unspecified fields will still be used, in the order in which\\n        they come up in the dtype, to break ties.\\n\\n    Returns\\n    -------\\n    sorted_array : ndarray\\n        Array of the same type and shape as `a`.\\n\\n    See Also\\n    --------\\n    ndarray.sort : Method to sort an array in-place.\\n    argsort : Indirect sort.\\n    lexsort : Indirect stable sort on multiple keys.\\n    searchsorted : Find elements in a sorted array.\\n    partition : Partial sort.\\n\\n    Notes\\n    -----\\n    The various sorting algorithms are characterized by their average speed,\\n    worst case performance, work space size, and whether they are stable. A\\n    stable sort keeps items with the same key in the same relative\\n    order. The four algorithms implemented in NumPy have the following\\n    properties:\\n\\n    =========== ======= ============= ============ ========\\n       kind      speed   worst case    work space   stable\\n    =========== ======= ============= ============ ========\\n    \\'quicksort\\'    1     O(n^2)            0          no\\n    \\'heapsort\\'     3     O(n*log(n))       0          no\\n    \\'mergesort\\'    2     O(n*log(n))      ~n/2        yes\\n    \\'timsort\\'      2     O(n*log(n))      ~n/2        yes\\n    =========== ======= ============= ============ ========\\n\\n    .. note:: The datatype determines which of \\'mergesort\\' or \\'timsort\\'\\n       is actually used, even if \\'mergesort\\' is specified. User selection\\n       at a finer scale is not currently available.\\n\\n    All the sort algorithms make temporary copies of the data when\\n    sorting along any but the last axis.  Consequently, sorting along\\n    the last axis is faster and uses less space than sorting along\\n    any other axis.\\n\\n    The sort order for complex numbers is lexicographic. If both the real\\n    and imaginary parts are non-nan then the order is determined by the\\n    real parts except when they are equal, in which case the order is\\n    determined by the imaginary parts.\\n\\n    Previous to numpy 1.4.0 sorting real and complex arrays containing nan\\n    values led to undefined behaviour. In numpy versions >= 1.4.0 nan\\n    values are sorted to the end. The extended sort order is:\\n\\n      * Real: [R, nan]\\n      * Complex: [R + Rj, R + nanj, nan + Rj, nan + nanj]\\n\\n    where R is a non-nan real value. Complex values with the same nan\\n    placements are sorted according to the non-nan part if it exists.\\n    Non-nan values are sorted as before.\\n\\n    .. versionadded:: 1.12.0\\n\\n    quicksort has been changed to `introsort <https://en.wikipedia.org/wiki/Introsort>`_.\\n    When sorting does not make enough progress it switches to\\n    `heapsort <https://en.wikipedia.org/wiki/Heapsort>`_.\\n    This implementation makes quicksort O(n*log(n)) in the worst case.\\n\\n    \\'stable\\' automatically chooses the best stable sorting algorithm\\n    for the data type being sorted.\\n    It, along with \\'mergesort\\' is currently mapped to\\n    `timsort <https://en.wikipedia.org/wiki/Timsort>`_\\n    or `radix sort <https://en.wikipedia.org/wiki/Radix_sort>`_\\n    depending on the data type.\\n    API forward compatibility currently limits the\\n    ability to select the implementation and it is hardwired for the different\\n    data types.\\n\\n    .. versionadded:: 1.17.0\\n\\n    Timsort is added for better performance on already or nearly\\n    sorted data. On random data timsort is almost identical to\\n    mergesort. It is now used for stable sort while quicksort is still the\\n    default sort if none is chosen. For timsort details, refer to\\n    `CPython listsort.txt <https://github.com/python/cpython/blob/3.7/Objects/listsort.txt>`_.\\n    \\'mergesort\\' and \\'stable\\' are mapped to radix sort for integer data types. Radix sort is an\\n    O(n) sort instead of O(n log n).\\n\\n    .. versionchanged:: 1.18.0\\n\\n    NaT now sorts to the end of arrays for consistency with NaN.\\n\\n    Examples\\n    --------\\n    >>> a = np.array([[1,4],[3,1]])\\n    >>> np.sort(a)                # sort along the last axis\\n    array([[1, 4],\\n           [1, 3]])\\n    >>> np.sort(a, axis=None)     # sort the flattened array\\n    array([1, 1, 3, 4])\\n    >>> np.sort(a, axis=0)        # sort along the first axis\\n    array([[1, 1],\\n           [3, 4]])\\n\\n    Use the `order` keyword to specify a field to use when sorting a\\n    structured array:\\n\\n    >>> dtype = [(\\'name\\', \\'S10\\'), (\\'height\\', float), (\\'age\\', int)]\\n    >>> values = [(\\'Arthur\\', 1.8, 41), (\\'Lancelot\\', 1.9, 38),\\n    ...           (\\'Galahad\\', 1.7, 38)]\\n    >>> a = np.array(values, dtype=dtype)       # create a structured array\\n    >>> np.sort(a, order=\\'height\\')                        # doctest: +SKIP\\n    array([(\\'Galahad\\', 1.7, 38), (\\'Arthur\\', 1.8, 41),\\n           (\\'Lancelot\\', 1.8999999999999999, 38)],\\n          dtype=[(\\'name\\', \\'|S10\\'), (\\'height\\', \\'<f8\\'), (\\'age\\', \\'<i4\\')])\\n\\n    Sort by age, then height if ages are equal:\\n\\n    >>> np.sort(a, order=[\\'age\\', \\'height\\'])               # doctest: +SKIP\\n    array([(\\'Galahad\\', 1.7, 38), (\\'Lancelot\\', 1.8999999999999999, 38),\\n           (\\'Arthur\\', 1.8, 41)],\\n          dtype=[(\\'name\\', \\'|S10\\'), (\\'height\\', \\'<f8\\'), (\\'age\\', \\'<i4\\')])\\n\\n    \"\"\"\\n    if axis is None:\\n        # flatten returns (1, N) for np.matrix, so always use the last axis\\n        a = asanyarray(a).flatten()\\n        axis = -1\\n    else:\\n        a = asanyarray(a).copy(order=\"K\")\\n    a.sort(axis=axis, kind=kind, order=order)\\n    return a\\n'"
      ]
     },
     "execution_count": 12,
     "metadata": {},
     "output_type": "execute_result"
    }
   ],
   "source": [
    "getsource(np.sort)"
   ]
  },
  {
   "cell_type": "code",
   "execution_count": 21,
   "metadata": {},
   "outputs": [],
   "source": [
    "x = input(\"insert value :\")\n",
    "assert x == \"y\" or x== \"n\", \"wrong answer\""
   ]
  },
  {
   "cell_type": "code",
   "execution_count": 14,
   "metadata": {},
   "outputs": [],
   "source": [
    "def f1(*args):\n",
    "    print(type(args))"
   ]
  },
  {
   "cell_type": "code",
   "execution_count": 15,
   "metadata": {},
   "outputs": [
    {
     "name": "stdout",
     "output_type": "stream",
     "text": [
      "<class 'tuple'>\n"
     ]
    }
   ],
   "source": [
    "f1(1,2,3)"
   ]
  },
  {
   "cell_type": "code",
   "execution_count": null,
   "metadata": {},
   "outputs": [],
   "source": []
  },
  {
   "cell_type": "code",
   "execution_count": null,
   "metadata": {},
   "outputs": [],
   "source": []
  },
  {
   "cell_type": "code",
   "execution_count": 106,
   "metadata": {},
   "outputs": [],
   "source": [
    "def exponent(base):\n",
    "    def inner(power):\n",
    "        return base**power\n",
    "    return inner"
   ]
  },
  {
   "cell_type": "code",
   "execution_count": 107,
   "metadata": {},
   "outputs": [],
   "source": [
    "num1 = exponent(2)"
   ]
  },
  {
   "cell_type": "code",
   "execution_count": 110,
   "metadata": {},
   "outputs": [],
   "source": [
    "num1_powre = coefficient(5)"
   ]
  },
  {
   "cell_type": "code",
   "execution_count": 111,
   "metadata": {},
   "outputs": [
    {
     "name": "stdout",
     "output_type": "stream",
     "text": [
      "32\n"
     ]
    }
   ],
   "source": [
    "print(num1_powre)"
   ]
  },
  {
   "cell_type": "code",
   "execution_count": 175,
   "metadata": {},
   "outputs": [],
   "source": [
    "l1=list(range(1,11))\n",
    "l2=list(range(100,110))"
   ]
  },
  {
   "cell_type": "code",
   "execution_count": 176,
   "metadata": {},
   "outputs": [
    {
     "data": {
      "text/plain": [
       "10"
      ]
     },
     "execution_count": 176,
     "metadata": {},
     "output_type": "execute_result"
    }
   ],
   "source": [
    "len(l1)"
   ]
  },
  {
   "cell_type": "code",
   "execution_count": 177,
   "metadata": {},
   "outputs": [
    {
     "data": {
      "text/plain": [
       "10"
      ]
     },
     "execution_count": 177,
     "metadata": {},
     "output_type": "execute_result"
    }
   ],
   "source": [
    "len(l2)"
   ]
  },
  {
   "cell_type": "code",
   "execution_count": 182,
   "metadata": {},
   "outputs": [],
   "source": [
    "def dict_generator(list1, list2):\n",
    "    counter = 0\n",
    "    dictionary = dict()\n",
    "    while len(list1) == len(list2):\n",
    "        print(counter)\n",
    "        dictionary[str(list1[counter])] = int(list2[counter])\n",
    "        counter += 1\n",
    "        print(dictionary)\n",
    "    return dictionary\n"
   ]
  },
  {
   "cell_type": "code",
   "execution_count": null,
   "metadata": {},
   "outputs": [],
   "source": []
  },
  {
   "cell_type": "code",
   "execution_count": 184,
   "metadata": {},
   "outputs": [],
   "source": [
    "def deco(func):\n",
    "    def wrapper():\n",
    "        print(\"before\")\n",
    "        func()\n",
    "        print(\"after\")\n",
    "    return wrapper\n"
   ]
  },
  {
   "cell_type": "code",
   "execution_count": 185,
   "metadata": {},
   "outputs": [],
   "source": [
    "\n",
    "@deco\n",
    "def f1():\n",
    "    print(\"hello\")"
   ]
  },
  {
   "cell_type": "code",
   "execution_count": 186,
   "metadata": {},
   "outputs": [
    {
     "name": "stdout",
     "output_type": "stream",
     "text": [
      "before\n",
      "hello\n",
      "after\n"
     ]
    }
   ],
   "source": [
    "f1()"
   ]
  },
  {
   "cell_type": "code",
   "execution_count": 1,
   "metadata": {},
   "outputs": [],
   "source": [
    "l1=[1,2,3]"
   ]
  },
  {
   "cell_type": "code",
   "execution_count": 2,
   "metadata": {},
   "outputs": [],
   "source": [
    "l1it=iter(l1)"
   ]
  },
  {
   "cell_type": "code",
   "execution_count": null,
   "metadata": {},
   "outputs": [],
   "source": []
  }
 ],
 "metadata": {
  "kernelspec": {
   "display_name": "Python 3",
   "language": "python",
   "name": "python3"
  },
  "language_info": {
   "codemirror_mode": {
    "name": "ipython",
    "version": 3
   },
   "file_extension": ".py",
   "mimetype": "text/x-python",
   "name": "python",
   "nbconvert_exporter": "python",
   "pygments_lexer": "ipython3",
   "version": "3.11.7"
  }
 },
 "nbformat": 4,
 "nbformat_minor": 4
}
