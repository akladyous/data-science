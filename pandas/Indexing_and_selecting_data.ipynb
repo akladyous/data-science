{
 "cells": [
  {
   "cell_type": "code",
   "execution_count": 1,
   "id": "8fd8e991-2c0e-4685-a987-6d84b06e6484",
   "metadata": {},
   "outputs": [],
   "source": [
    "import numpy as np\n",
    "import pandas as pd"
   ]
  },
  {
   "cell_type": "code",
   "execution_count": null,
   "id": "99830134-4901-4d41-80a9-0993dc6fdc90",
   "metadata": {},
   "outputs": [],
   "source": []
  },
  {
   "cell_type": "code",
   "execution_count": 51,
   "id": "24d9a3a6-4491-404f-9d29-ec1e18296b36",
   "metadata": {},
   "outputs": [
    {
     "data": {
      "text/html": [
       "<div>\n",
       "<style scoped>\n",
       "    .dataframe tbody tr th:only-of-type {\n",
       "        vertical-align: middle;\n",
       "    }\n",
       "\n",
       "    .dataframe tbody tr th {\n",
       "        vertical-align: top;\n",
       "    }\n",
       "\n",
       "    .dataframe thead th {\n",
       "        text-align: right;\n",
       "    }\n",
       "</style>\n",
       "<table border=\"1\" class=\"dataframe\">\n",
       "  <thead>\n",
       "    <tr style=\"text-align: right;\">\n",
       "      <th></th>\n",
       "      <th>a</th>\n",
       "      <th>b</th>\n",
       "      <th>c</th>\n",
       "    </tr>\n",
       "  </thead>\n",
       "  <tbody>\n",
       "    <tr>\n",
       "      <th>a</th>\n",
       "      <td>30</td>\n",
       "      <td>71</td>\n",
       "      <td>86</td>\n",
       "    </tr>\n",
       "    <tr>\n",
       "      <th>b</th>\n",
       "      <td>85</td>\n",
       "      <td>77</td>\n",
       "      <td>98</td>\n",
       "    </tr>\n",
       "    <tr>\n",
       "      <th>c</th>\n",
       "      <td>12</td>\n",
       "      <td>44</td>\n",
       "      <td>83</td>\n",
       "    </tr>\n",
       "    <tr>\n",
       "      <th>d</th>\n",
       "      <td>38</td>\n",
       "      <td>38</td>\n",
       "      <td>77</td>\n",
       "    </tr>\n",
       "    <tr>\n",
       "      <th>e</th>\n",
       "      <td>93</td>\n",
       "      <td>50</td>\n",
       "      <td>33</td>\n",
       "    </tr>\n",
       "  </tbody>\n",
       "</table>\n",
       "</div>"
      ],
      "text/plain": [
       "    a   b   c\n",
       "a  30  71  86\n",
       "b  85  77  98\n",
       "c  12  44  83\n",
       "d  38  38  77\n",
       "e  93  50  33"
      ]
     },
     "execution_count": 51,
     "metadata": {},
     "output_type": "execute_result"
    }
   ],
   "source": [
    "df1 = pd.DataFrame(data=np.random.randint(1, 100, 15).reshape(5,3), columns=['a','b','c'], index=[chr(97+x) for x in range(5)])\n",
    "df1"
   ]
  },
  {
   "cell_type": "code",
   "execution_count": 119,
   "id": "fa5814b7-38eb-4491-9c8f-e5d5dab25abe",
   "metadata": {},
   "outputs": [
    {
     "data": {
      "text/html": [
       "<div>\n",
       "<style scoped>\n",
       "    .dataframe tbody tr th:only-of-type {\n",
       "        vertical-align: middle;\n",
       "    }\n",
       "\n",
       "    .dataframe tbody tr th {\n",
       "        vertical-align: top;\n",
       "    }\n",
       "\n",
       "    .dataframe thead th {\n",
       "        text-align: right;\n",
       "    }\n",
       "</style>\n",
       "<table border=\"1\" class=\"dataframe\">\n",
       "  <thead>\n",
       "    <tr style=\"text-align: right;\">\n",
       "      <th></th>\n",
       "      <th>a</th>\n",
       "      <th>b</th>\n",
       "      <th>c</th>\n",
       "    </tr>\n",
       "  </thead>\n",
       "  <tbody>\n",
       "    <tr>\n",
       "      <th>0</th>\n",
       "      <td>0.669656</td>\n",
       "      <td>0.746009</td>\n",
       "      <td>0.552525</td>\n",
       "    </tr>\n",
       "    <tr>\n",
       "      <th>1</th>\n",
       "      <td>0.519498</td>\n",
       "      <td>0.426713</td>\n",
       "      <td>0.820961</td>\n",
       "    </tr>\n",
       "    <tr>\n",
       "      <th>2</th>\n",
       "      <td>0.217211</td>\n",
       "      <td>0.758910</td>\n",
       "      <td>0.321097</td>\n",
       "    </tr>\n",
       "    <tr>\n",
       "      <th>3</th>\n",
       "      <td>0.379349</td>\n",
       "      <td>0.082811</td>\n",
       "      <td>0.592542</td>\n",
       "    </tr>\n",
       "    <tr>\n",
       "      <th>4</th>\n",
       "      <td>0.593676</td>\n",
       "      <td>0.993570</td>\n",
       "      <td>0.565677</td>\n",
       "    </tr>\n",
       "    <tr>\n",
       "      <th>5</th>\n",
       "      <td>0.271391</td>\n",
       "      <td>0.799100</td>\n",
       "      <td>0.681954</td>\n",
       "    </tr>\n",
       "    <tr>\n",
       "      <th>6</th>\n",
       "      <td>0.063275</td>\n",
       "      <td>0.275124</td>\n",
       "      <td>0.832579</td>\n",
       "    </tr>\n",
       "    <tr>\n",
       "      <th>7</th>\n",
       "      <td>0.261151</td>\n",
       "      <td>0.171696</td>\n",
       "      <td>0.814962</td>\n",
       "    </tr>\n",
       "    <tr>\n",
       "      <th>8</th>\n",
       "      <td>0.308813</td>\n",
       "      <td>0.783785</td>\n",
       "      <td>0.311892</td>\n",
       "    </tr>\n",
       "    <tr>\n",
       "      <th>9</th>\n",
       "      <td>0.466974</td>\n",
       "      <td>0.190239</td>\n",
       "      <td>0.110671</td>\n",
       "    </tr>\n",
       "  </tbody>\n",
       "</table>\n",
       "</div>"
      ],
      "text/plain": [
       "          a         b         c\n",
       "0  0.669656  0.746009  0.552525\n",
       "1  0.519498  0.426713  0.820961\n",
       "2  0.217211  0.758910  0.321097\n",
       "3  0.379349  0.082811  0.592542\n",
       "4  0.593676  0.993570  0.565677\n",
       "5  0.271391  0.799100  0.681954\n",
       "6  0.063275  0.275124  0.832579\n",
       "7  0.261151  0.171696  0.814962\n",
       "8  0.308813  0.783785  0.311892\n",
       "9  0.466974  0.190239  0.110671"
      ]
     },
     "execution_count": 119,
     "metadata": {},
     "output_type": "execute_result"
    }
   ],
   "source": [
    "df2 = pd.DataFrame(np.random.rand(n, 3), columns=list('abc'))\n",
    "df2"
   ]
  },
  {
   "cell_type": "code",
   "execution_count": 56,
   "id": "83530d34-0427-4a42-975d-df07e9197c86",
   "metadata": {},
   "outputs": [
    {
     "data": {
      "text/html": [
       "<div>\n",
       "<style scoped>\n",
       "    .dataframe tbody tr th:only-of-type {\n",
       "        vertical-align: middle;\n",
       "    }\n",
       "\n",
       "    .dataframe tbody tr th {\n",
       "        vertical-align: top;\n",
       "    }\n",
       "\n",
       "    .dataframe thead th {\n",
       "        text-align: right;\n",
       "    }\n",
       "</style>\n",
       "<table border=\"1\" class=\"dataframe\">\n",
       "  <thead>\n",
       "    <tr style=\"text-align: right;\">\n",
       "      <th></th>\n",
       "      <th>b</th>\n",
       "      <th>c</th>\n",
       "    </tr>\n",
       "  </thead>\n",
       "  <tbody>\n",
       "    <tr>\n",
       "      <th>a</th>\n",
       "      <td>71</td>\n",
       "      <td>86</td>\n",
       "    </tr>\n",
       "    <tr>\n",
       "      <th>b</th>\n",
       "      <td>77</td>\n",
       "      <td>98</td>\n",
       "    </tr>\n",
       "    <tr>\n",
       "      <th>c</th>\n",
       "      <td>44</td>\n",
       "      <td>83</td>\n",
       "    </tr>\n",
       "  </tbody>\n",
       "</table>\n",
       "</div>"
      ],
      "text/plain": [
       "    b   c\n",
       "a  71  86\n",
       "b  77  98\n",
       "c  44  83"
      ]
     },
     "execution_count": 56,
     "metadata": {},
     "output_type": "execute_result"
    }
   ],
   "source": [
    "df1.loc['a':'c',['b', 'c']]"
   ]
  },
  {
   "cell_type": "code",
   "execution_count": null,
   "id": "da0e32d2-3ed1-4860-ba21-1ced805f7ab6",
   "metadata": {},
   "outputs": [],
   "source": []
  },
  {
   "cell_type": "code",
   "execution_count": 61,
   "id": "2e81078e-b277-4dad-a140-07449a3ee357",
   "metadata": {},
   "outputs": [
    {
     "data": {
      "text/plain": [
       "a    89\n",
       "b    47\n",
       "c    28\n",
       "d    60\n",
       "e    46\n",
       "f    77\n",
       "g    19\n",
       "h    37\n",
       "i    32\n",
       "j    10\n",
       "Name: Labled Series, dtype: int8"
      ]
     },
     "execution_count": 61,
     "metadata": {},
     "output_type": "execute_result"
    }
   ],
   "source": [
    "s1 = pd.Series(\n",
    "    data=np.random.randint(1, 100, 10), \n",
    "    dtype=np.int8, name=\"Labled Series\", \n",
    "    index=[chr(97+x) for x in range(10)]\n",
    ")\n",
    "s1"
   ]
  },
  {
   "cell_type": "code",
   "execution_count": null,
   "id": "a8662505-5e4b-45d3-96c3-9f3ce5364826",
   "metadata": {},
   "outputs": [],
   "source": []
  },
  {
   "cell_type": "code",
   "execution_count": 63,
   "id": "509bc1e2-d806-4ddd-9b8f-6a37655fbbce",
   "metadata": {},
   "outputs": [
    {
     "data": {
      "text/plain": [
       "0     8\n",
       "1    74\n",
       "2    65\n",
       "3    76\n",
       "4    79\n",
       "5    49\n",
       "6    27\n",
       "7    15\n",
       "8    52\n",
       "9    12\n",
       "Name: Numeric Index, dtype: int8"
      ]
     },
     "execution_count": 63,
     "metadata": {},
     "output_type": "execute_result"
    }
   ],
   "source": [
    "s2 = pd.Series(np.random.randint(1, 100, 10), name=\"Numeric Index\", dtype=np.int8)\n",
    "s2"
   ]
  },
  {
   "cell_type": "code",
   "execution_count": 64,
   "id": "00f27735-9ef4-4f04-9e75-800736fbc583",
   "metadata": {},
   "outputs": [
    {
     "data": {
      "text/plain": [
       "a    89\n",
       "b    47\n",
       "c    28\n",
       "Name: Labled Series, dtype: int8"
      ]
     },
     "execution_count": 64,
     "metadata": {},
     "output_type": "execute_result"
    }
   ],
   "source": [
    "s1.loc['a':'c',]"
   ]
  },
  {
   "cell_type": "code",
   "execution_count": 65,
   "id": "e7b78cb2-38aa-4885-8bdb-0b75368acb73",
   "metadata": {},
   "outputs": [
    {
     "data": {
      "text/plain": [
       "Index(['b', 'e', 'i'], dtype='object')"
      ]
     },
     "execution_count": 65,
     "metadata": {},
     "output_type": "execute_result"
    }
   ],
   "source": [
    "s1.index.intersection(['b','e','i'])"
   ]
  },
  {
   "cell_type": "code",
   "execution_count": 66,
   "id": "dafd80d9-381d-4771-873a-9fa442f2112f",
   "metadata": {},
   "outputs": [
    {
     "data": {
      "text/plain": [
       "e    46\n",
       "f    77\n",
       "Name: Labled Series, dtype: int8"
      ]
     },
     "execution_count": 66,
     "metadata": {},
     "output_type": "execute_result"
    }
   ],
   "source": [
    "s1.sample(frac=.2)"
   ]
  },
  {
   "cell_type": "code",
   "execution_count": 76,
   "id": "5bc445df-c401-4d4c-8974-d18830222ebe",
   "metadata": {},
   "outputs": [
    {
     "data": {
      "text/plain": [
       "f    77\n",
       "a    89\n",
       "c    28\n",
       "h    37\n",
       "g    19\n",
       "Name: Labled Series, dtype: int8"
      ]
     },
     "execution_count": 76,
     "metadata": {},
     "output_type": "execute_result"
    }
   ],
   "source": [
    "s1.sample(n=5, replace=False)"
   ]
  },
  {
   "cell_type": "code",
   "execution_count": null,
   "id": "0ffc89c3-b87f-44ad-95e7-c3f012ff0b2b",
   "metadata": {},
   "outputs": [],
   "source": []
  },
  {
   "cell_type": "code",
   "execution_count": 89,
   "id": "a498b019-1fbd-4118-a064-7a0a4ff7222a",
   "metadata": {},
   "outputs": [
    {
     "data": {
      "text/plain": [
       "a    89\n",
       "d    60\n",
       "f    77\n",
       "Name: Labled Series, dtype: int8"
      ]
     },
     "execution_count": 89,
     "metadata": {},
     "output_type": "execute_result"
    }
   ],
   "source": [
    "s1[s1 > 50]"
   ]
  },
  {
   "cell_type": "code",
   "execution_count": 102,
   "id": "654d69dd-e0e6-4bca-aaf9-cf68c42912ff",
   "metadata": {},
   "outputs": [
    {
     "data": {
      "text/plain": [
       "a    89\n",
       "g    19\n",
       "j    10\n",
       "Name: Labled Series, dtype: int8"
      ]
     },
     "execution_count": 102,
     "metadata": {},
     "output_type": "execute_result"
    }
   ],
   "source": [
    "s1.get( (s1 > 80) | (s1 < 20) )"
   ]
  },
  {
   "cell_type": "code",
   "execution_count": null,
   "id": "b677d50e-8b33-4391-8b62-b13df8f441fd",
   "metadata": {},
   "outputs": [],
   "source": []
  },
  {
   "cell_type": "code",
   "execution_count": 108,
   "id": "c33ee9b3-87a3-4952-bff9-350f95c7cf83",
   "metadata": {},
   "outputs": [
    {
     "data": {
      "text/plain": [
       "a    89\n",
       "b    47\n",
       "c    28\n",
       "d    60\n",
       "e    46\n",
       "f    77\n",
       "g    19\n",
       "h    37\n",
       "i    32\n",
       "j    10\n",
       "Name: Labled Series, dtype: int8"
      ]
     },
     "execution_count": 108,
     "metadata": {},
     "output_type": "execute_result"
    }
   ],
   "source": [
    "s1"
   ]
  },
  {
   "cell_type": "code",
   "execution_count": 113,
   "id": "118ce5f6-bd94-426d-92b1-909f14958103",
   "metadata": {},
   "outputs": [
    {
     "data": {
      "text/plain": [
       "a    89\n",
       "b    47\n",
       "c    28\n",
       "d    60\n",
       "e    46\n",
       "f    77\n",
       "h    37\n",
       "i    32\n",
       "Name: Labled Series, dtype: int8"
      ]
     },
     "execution_count": 113,
     "metadata": {},
     "output_type": "execute_result"
    }
   ],
   "source": [
    "s1[ ~ ( s1 < 20 ) ]"
   ]
  },
  {
   "cell_type": "code",
   "execution_count": null,
   "id": "c5889a58-95f3-4956-8990-349794b4f84b",
   "metadata": {},
   "outputs": [],
   "source": []
  },
  {
   "cell_type": "code",
   "execution_count": 114,
   "id": "a582e4ba-3814-482e-964c-b3c8516ae564",
   "metadata": {},
   "outputs": [
    {
     "data": {
      "text/plain": [
       "a     NaN\n",
       "b     NaN\n",
       "c     NaN\n",
       "d     NaN\n",
       "e     NaN\n",
       "f     NaN\n",
       "g    19.0\n",
       "h     NaN\n",
       "i     NaN\n",
       "j    10.0\n",
       "Name: Labled Series, dtype: float64"
      ]
     },
     "execution_count": 114,
     "metadata": {},
     "output_type": "execute_result"
    }
   ],
   "source": [
    "s1.mask( s1 > 20 )"
   ]
  },
  {
   "cell_type": "code",
   "execution_count": 115,
   "id": "0e741f15-2a2f-4d6e-b77e-31467b01973d",
   "metadata": {},
   "outputs": [
    {
     "data": {
      "text/plain": [
       "a    89\n",
       "b    47\n",
       "c    28\n",
       "d    60\n",
       "e    46\n",
       "f    77\n",
       "g    19\n",
       "h    37\n",
       "i    32\n",
       "j    10\n",
       "Name: Labled Series, dtype: int8"
      ]
     },
     "execution_count": 115,
     "metadata": {},
     "output_type": "execute_result"
    }
   ],
   "source": [
    "s1"
   ]
  },
  {
   "cell_type": "code",
   "execution_count": null,
   "id": "655af08e-ddad-4c99-877f-5ea21808e124",
   "metadata": {},
   "outputs": [],
   "source": []
  },
  {
   "cell_type": "code",
   "execution_count": 120,
   "id": "867136d3-66f3-47d6-b5f5-651f973e18af",
   "metadata": {},
   "outputs": [
    {
     "data": {
      "text/plain": [
       "a    89\n",
       "b    47\n",
       "c    28\n",
       "d    60\n",
       "e    46\n",
       "f    77\n",
       "g    19\n",
       "h    37\n",
       "i    32\n",
       "j    10\n",
       "Name: Labled Series, dtype: int8"
      ]
     },
     "execution_count": 120,
     "metadata": {},
     "output_type": "execute_result"
    }
   ],
   "source": [
    "s1"
   ]
  },
  {
   "cell_type": "code",
   "execution_count": null,
   "id": "32ff3fa4-0560-42c6-a9d2-464fb74f52a1",
   "metadata": {},
   "outputs": [],
   "source": []
  }
 ],
 "metadata": {
  "kernelspec": {
   "display_name": "Python 3 (ipykernel)",
   "language": "python",
   "name": "python3"
  },
  "language_info": {
   "codemirror_mode": {
    "name": "ipython",
    "version": 3
   },
   "file_extension": ".py",
   "mimetype": "text/x-python",
   "name": "python",
   "nbconvert_exporter": "python",
   "pygments_lexer": "ipython3",
   "version": "3.10.8"
  }
 },
 "nbformat": 4,
 "nbformat_minor": 5
}
