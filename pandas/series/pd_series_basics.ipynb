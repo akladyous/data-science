{
 "cells": [
  {
   "cell_type": "code",
   "execution_count": 84,
   "id": "5acd404c-77ad-4d45-bb45-26a14ee898f0",
   "metadata": {},
   "outputs": [],
   "source": [
    "import numpy as np\n",
    "import pandas as pd"
   ]
  },
  {
   "cell_type": "code",
   "execution_count": 85,
   "id": "822a329e-06dd-42b7-b42c-8bc479a991eb",
   "metadata": {},
   "outputs": [],
   "source": [
    "rng = np.random.default_rng(123)"
   ]
  },
  {
   "cell_type": "code",
   "execution_count": 86,
   "id": "92c79827-9d08-441a-a216-b4c0666012d2",
   "metadata": {},
   "outputs": [],
   "source": [
    "countries = [\"United States\", \"Canada\", \"United Kingdom\", \"Germany\", \"France\", \"Japan\", \"Australia\", \"Brazil\", \"India\", \"China\", \"Russia\", \"South Africa\", \"Mexico\", \"Argentina\", \"Spain\", \"Italy\", \"Sweden\", \"Netherlands\", \"Switzerland\", \"South Korea\"]"
   ]
  },
  {
   "cell_type": "code",
   "execution_count": 87,
   "id": "af9e93ba-5a21-40ef-bbf7-72afe02b01fc",
   "metadata": {},
   "outputs": [
    {
     "data": {
      "text/plain": [
       "0    0\n",
       "1    1\n",
       "2    2\n",
       "3    3\n",
       "4    4\n",
       "Name: price_list, dtype: int64"
      ]
     },
     "execution_count": 87,
     "metadata": {},
     "output_type": "execute_result"
    }
   ],
   "source": [
    "rng_price_list = rng.random(20).round(3) * 10\n",
    "price_list = pd.Series(np.arange(20),name=\"price_list\")\n",
    "price_list.head()"
   ]
  },
  {
   "cell_type": "code",
   "execution_count": 88,
   "id": "7fe67f39-6d7a-4c91-9df5-9bf5ab7709b8",
   "metadata": {},
   "outputs": [
    {
     "data": {
      "text/plain": [
       "RangeIndex(start=0, stop=20, step=1)"
      ]
     },
     "execution_count": 88,
     "metadata": {},
     "output_type": "execute_result"
    }
   ],
   "source": [
    "price_list.index"
   ]
  },
  {
   "cell_type": "code",
   "execution_count": 89,
   "id": "1ffa3a12-21df-40a9-a538-260ef227782e",
   "metadata": {},
   "outputs": [
    {
     "data": {
      "text/plain": [
       "20"
      ]
     },
     "execution_count": 89,
     "metadata": {},
     "output_type": "execute_result"
    }
   ],
   "source": [
    "price_list.size"
   ]
  },
  {
   "cell_type": "code",
   "execution_count": 90,
   "id": "cf894b6e-1017-4abb-80b4-8cf8a1309480",
   "metadata": {},
   "outputs": [
    {
     "data": {
      "text/plain": [
       "(20,)"
      ]
     },
     "execution_count": 90,
     "metadata": {},
     "output_type": "execute_result"
    }
   ],
   "source": [
    "price_list.shape"
   ]
  },
  {
   "cell_type": "code",
   "execution_count": 91,
   "id": "7d2c8be1-9e5c-4371-a147-d0ec5c0830d3",
   "metadata": {},
   "outputs": [
    {
     "data": {
      "text/plain": [
       "1"
      ]
     },
     "execution_count": 91,
     "metadata": {},
     "output_type": "execute_result"
    }
   ],
   "source": [
    "price_list.ndim"
   ]
  },
  {
   "cell_type": "code",
   "execution_count": 92,
   "id": "2b0de51f-864b-4e25-9841-fef776e16bc4",
   "metadata": {},
   "outputs": [
    {
     "data": {
      "text/plain": [
       "False"
      ]
     },
     "execution_count": 92,
     "metadata": {},
     "output_type": "execute_result"
    }
   ],
   "source": [
    "price_list.hasnans"
   ]
  },
  {
   "cell_type": "code",
   "execution_count": 93,
   "id": "e79f0ff8-9317-420f-8651-b5f88c4c5004",
   "metadata": {},
   "outputs": [
    {
     "data": {
      "text/plain": [
       "'price_list'"
      ]
     },
     "execution_count": 93,
     "metadata": {},
     "output_type": "execute_result"
    }
   ],
   "source": [
    "price_list.name"
   ]
  },
  {
   "cell_type": "code",
   "execution_count": 94,
   "id": "09b86586-c470-498a-87af-c82ef8d3e0d8",
   "metadata": {},
   "outputs": [
    {
     "data": {
      "text/plain": [
       "dtype('int64')"
      ]
     },
     "execution_count": 94,
     "metadata": {},
     "output_type": "execute_result"
    }
   ],
   "source": [
    "price_list.dtype"
   ]
  },
  {
   "cell_type": "code",
   "execution_count": 95,
   "id": "f4d58855-fdcc-48ee-adb3-cf6e33ac7597",
   "metadata": {},
   "outputs": [
    {
     "data": {
      "text/plain": [
       "<Flags(allows_duplicate_labels=True)>"
      ]
     },
     "execution_count": 95,
     "metadata": {},
     "output_type": "execute_result"
    }
   ],
   "source": [
    "price_list.flags"
   ]
  },
  {
   "cell_type": "code",
   "execution_count": 96,
   "id": "4c0220e7-bca6-487e-be1a-2b6034f88506",
   "metadata": {},
   "outputs": [
    {
     "data": {
      "text/plain": [
       "<PandasArray>\n",
       "[0, 1, 2, 3, 4]\n",
       "Length: 5, dtype: int64"
      ]
     },
     "execution_count": 96,
     "metadata": {},
     "output_type": "execute_result"
    }
   ],
   "source": [
    "price_list.array[:5]"
   ]
  },
  {
   "cell_type": "code",
   "execution_count": 97,
   "id": "0567e8e4-8da1-4296-b97b-6de2b5851d2a",
   "metadata": {},
   "outputs": [
    {
     "data": {
      "text/plain": [
       "0    0\n",
       "1    1\n",
       "2    2\n",
       "3    3\n",
       "4    4\n",
       "Name: price_list, dtype: int64"
      ]
     },
     "execution_count": 97,
     "metadata": {},
     "output_type": "execute_result"
    }
   ],
   "source": [
    "price_list.head()"
   ]
  },
  {
   "cell_type": "code",
   "execution_count": 98,
   "id": "3df4c093-94c5-4df8-9975-9cb6900e8471",
   "metadata": {},
   "outputs": [
    {
     "data": {
      "text/plain": [
       "array([ 0,  1,  2,  3,  4,  5,  6,  7,  8,  9, 10, 11, 12, 13, 14, 15, 16,\n",
       "       17, 18, 19])"
      ]
     },
     "execution_count": 98,
     "metadata": {},
     "output_type": "execute_result"
    }
   ],
   "source": [
    "price_list.values"
   ]
  },
  {
   "cell_type": "code",
   "execution_count": 99,
   "id": "143880f5-4608-430b-95b7-fe68786950c3",
   "metadata": {},
   "outputs": [
    {
     "data": {
      "text/plain": [
       "0    0\n",
       "1    1\n",
       "2    2\n",
       "3    3\n",
       "4    4\n",
       "Name: price_list, dtype: int64"
      ]
     },
     "execution_count": 99,
     "metadata": {},
     "output_type": "execute_result"
    }
   ],
   "source": [
    "price_list.head()"
   ]
  },
  {
   "cell_type": "code",
   "execution_count": 100,
   "id": "893beb61-5c12-4c03-92a8-0d2d7f279ac5",
   "metadata": {},
   "outputs": [
    {
     "data": {
      "text/plain": [
       "0    0\n",
       "1    1\n",
       "2    2\n",
       "3    3\n",
       "4    4\n",
       "Name: price_list, dtype: string"
      ]
     },
     "execution_count": 100,
     "metadata": {},
     "output_type": "execute_result"
    }
   ],
   "source": [
    "price_list.astype('string').iloc[:5]"
   ]
  },
  {
   "cell_type": "code",
   "execution_count": 101,
   "id": "b19f4a46-f3ab-4b1b-ad58-68dfa97e76b4",
   "metadata": {},
   "outputs": [
    {
     "data": {
      "text/plain": [
       "0    0.0\n",
       "1    1.0\n",
       "2    2.0\n",
       "3    3.0\n",
       "4    4.0\n",
       "Name: price_list, dtype: float64"
      ]
     },
     "execution_count": 101,
     "metadata": {},
     "output_type": "execute_result"
    }
   ],
   "source": [
    "price_list.astype('float').iloc[:5]"
   ]
  },
  {
   "cell_type": "code",
   "execution_count": 102,
   "id": "c28ee3bf-49ff-4c43-960e-af97824fed36",
   "metadata": {},
   "outputs": [
    {
     "data": {
      "text/plain": [
       "RangeIndex(start=0, stop=20, step=1)"
      ]
     },
     "execution_count": 102,
     "metadata": {},
     "output_type": "execute_result"
    }
   ],
   "source": [
    "price_list.index"
   ]
  },
  {
   "cell_type": "code",
   "execution_count": 103,
   "id": "d38f2a7f-5802-4b2e-b159-11f39d1bf3b1",
   "metadata": {},
   "outputs": [
    {
     "data": {
      "text/plain": [
       "0    0\n",
       "1    1\n",
       "2    2\n",
       "3    3\n",
       "4    4\n",
       "Name: price_list, dtype: int64"
      ]
     },
     "execution_count": 103,
     "metadata": {},
     "output_type": "execute_result"
    }
   ],
   "source": [
    "price_list.head()"
   ]
  },
  {
   "cell_type": "code",
   "execution_count": 104,
   "id": "98372aac-a706-4792-905c-e63153676976",
   "metadata": {},
   "outputs": [
    {
     "data": {
      "text/plain": [
       "num_0    0\n",
       "num_1    1\n",
       "num_2    2\n",
       "num_3    3\n",
       "num_4    4\n",
       "Name: price_list, dtype: int64"
      ]
     },
     "execution_count": 104,
     "metadata": {},
     "output_type": "execute_result"
    }
   ],
   "source": [
    "price_list_indices = ['num_' + str(x) for x in range(rng_price_list.size)]\n",
    "price_list.index = price_list_indices\n",
    "price_list.iloc[:5]"
   ]
  },
  {
   "cell_type": "code",
   "execution_count": 105,
   "id": "347aaf11-089f-47f2-989c-d5d35421cfd7",
   "metadata": {},
   "outputs": [
    {
     "data": {
      "text/plain": [
       "num_0    0\n",
       "num_1    1\n",
       "num_2    2\n",
       "num_3    3\n",
       "num_4    4\n",
       "num_5    5\n",
       "num_6    6\n",
       "num_7    7\n",
       "num_8    8\n",
       "num_9    9\n",
       "Name: price_list, dtype: int64"
      ]
     },
     "execution_count": 105,
     "metadata": {},
     "output_type": "execute_result"
    }
   ],
   "source": [
    "price_list.iloc[0:10]"
   ]
  },
  {
   "cell_type": "code",
   "execution_count": 106,
   "id": "6fb9f955-091b-4dbc-9419-015da3d14da8",
   "metadata": {},
   "outputs": [
    {
     "data": {
      "text/plain": [
       "num_1    1\n",
       "num_3    3\n",
       "num_4    4\n",
       "Name: price_list, dtype: int64"
      ]
     },
     "execution_count": 106,
     "metadata": {},
     "output_type": "execute_result"
    }
   ],
   "source": [
    "price_list.iloc[[1,3,4]]"
   ]
  },
  {
   "cell_type": "code",
   "execution_count": 107,
   "id": "9928f33a-7c5a-4a4c-b334-942a3a2a7a27",
   "metadata": {},
   "outputs": [
    {
     "data": {
      "text/plain": [
       "num_1    1\n",
       "num_2    2\n",
       "num_3    3\n",
       "num_4    4\n",
       "num_5    5\n",
       "Name: price_list, dtype: int64"
      ]
     },
     "execution_count": 107,
     "metadata": {},
     "output_type": "execute_result"
    }
   ],
   "source": [
    "price_list['num_1': 'num_5']"
   ]
  },
  {
   "cell_type": "code",
   "execution_count": 108,
   "id": "65f3f514-594a-45c0-b7a4-6fb2ad2f893d",
   "metadata": {},
   "outputs": [
    {
     "data": {
      "text/plain": [
       "num_1      1\n",
       "num_2      2\n",
       "num_10    10\n",
       "Name: price_list, dtype: int64"
      ]
     },
     "execution_count": 108,
     "metadata": {},
     "output_type": "execute_result"
    }
   ],
   "source": [
    "price_list.loc[['num_1', 'num_2', 'num_10']]"
   ]
  },
  {
   "cell_type": "code",
   "execution_count": 109,
   "id": "eb9c8dc0-afcd-48a3-961c-8e404fbb1dd0",
   "metadata": {},
   "outputs": [
    {
     "data": {
      "text/plain": [
       "num_0    0\n",
       "num_1    1\n",
       "num_2    2\n",
       "num_3    3\n",
       "num_4    4\n",
       "num_5    5\n",
       "Name: price_list, dtype: int64"
      ]
     },
     "execution_count": 109,
     "metadata": {},
     "output_type": "execute_result"
    }
   ],
   "source": [
    "price_list.loc[:'num_5']"
   ]
  },
  {
   "cell_type": "code",
   "execution_count": 110,
   "id": "37a72f4a-3f2a-4f6b-9a20-f44fcc5c970d",
   "metadata": {},
   "outputs": [
    {
     "data": {
      "text/plain": [
       "1"
      ]
     },
     "execution_count": 110,
     "metadata": {},
     "output_type": "execute_result"
    }
   ],
   "source": [
    "price_list.loc['num_1']"
   ]
  },
  {
   "cell_type": "code",
   "execution_count": 111,
   "id": "b3edb712-3273-49e8-8dfe-303ab72c5fd8",
   "metadata": {},
   "outputs": [
    {
     "data": {
      "text/plain": [
       "19    0\n",
       "18    1\n",
       "17    2\n",
       "16    3\n",
       "15    4\n",
       "Name: price_list, dtype: int64"
      ]
     },
     "execution_count": 111,
     "metadata": {},
     "output_type": "execute_result"
    }
   ],
   "source": [
    "price_list.index = [x for x in range(19, -1, -1)] \n",
    "price_list.iloc[:5]"
   ]
  },
  {
   "cell_type": "code",
   "execution_count": 112,
   "id": "74864b55-c19a-4620-90ba-cef60b94ec12",
   "metadata": {},
   "outputs": [
    {
     "data": {
      "text/plain": [
       "19    0\n",
       "18    1\n",
       "17    2\n",
       "16    3\n",
       "15    4\n",
       "Name: price_list, dtype: int64"
      ]
     },
     "execution_count": 112,
     "metadata": {},
     "output_type": "execute_result"
    }
   ],
   "source": [
    "price_list.iloc[:5]"
   ]
  },
  {
   "cell_type": "code",
   "execution_count": 113,
   "id": "fab6febe-789f-4a03-9c98-fe596923732e",
   "metadata": {},
   "outputs": [
    {
     "data": {
      "text/plain": [
       "19    0\n",
       "18    1\n",
       "17    2\n",
       "16    3\n",
       "15    4\n",
       "14    5\n",
       "13    6\n",
       "12    7\n",
       "11    8\n",
       "10    9\n",
       "Name: price_list, dtype: int64"
      ]
     },
     "execution_count": 113,
     "metadata": {},
     "output_type": "execute_result"
    }
   ],
   "source": [
    "price_list.iloc[:10]"
   ]
  },
  {
   "cell_type": "code",
   "execution_count": 114,
   "id": "ab990f41-4f50-4b7e-b200-6f03f9d89d10",
   "metadata": {},
   "outputs": [
    {
     "data": {
      "text/plain": [
       "Series([], Name: price_list, dtype: int64)"
      ]
     },
     "execution_count": 114,
     "metadata": {},
     "output_type": "execute_result"
    }
   ],
   "source": [
    "price_list.loc[1:5] # return empty series"
   ]
  },
  {
   "cell_type": "code",
   "execution_count": 115,
   "id": "66c83a5a",
   "metadata": {},
   "outputs": [
    {
     "data": {
      "text/plain": [
       "0    19\n",
       "1    18\n",
       "2    17\n",
       "3    16\n",
       "Name: price_list, dtype: int64"
      ]
     },
     "execution_count": 115,
     "metadata": {},
     "output_type": "execute_result"
    }
   ],
   "source": [
    "price_list.iloc[19:15:-1]"
   ]
  },
  {
   "cell_type": "code",
   "execution_count": 116,
   "id": "64177d7c",
   "metadata": {},
   "outputs": [
    {
     "data": {
      "text/plain": [
       "19    0\n",
       "18    1\n",
       "17    2\n",
       "16    3\n",
       "Name: price_list, dtype: int64"
      ]
     },
     "execution_count": 116,
     "metadata": {},
     "output_type": "execute_result"
    }
   ],
   "source": [
    "price_list.iloc[:4]"
   ]
  },
  {
   "cell_type": "code",
   "execution_count": 117,
   "id": "bddad719",
   "metadata": {},
   "outputs": [
    {
     "data": {
      "text/plain": [
       "19     0\n",
       "18     1\n",
       "17     2\n",
       "16     3\n",
       "15     4\n",
       "14     5\n",
       "13     6\n",
       "12     7\n",
       "11     8\n",
       "10     9\n",
       "9     10\n",
       "8     11\n",
       "7     12\n",
       "6     13\n",
       "5     14\n",
       "4     15\n",
       "3     16\n",
       "2     17\n",
       "1     18\n",
       "0     19\n",
       "Name: price_list, dtype: int64"
      ]
     },
     "execution_count": 117,
     "metadata": {},
     "output_type": "execute_result"
    }
   ],
   "source": [
    "price_list"
   ]
  },
  {
   "cell_type": "code",
   "execution_count": 118,
   "id": "332584d1-14e2-44cc-8201-c6626a59f2f2",
   "metadata": {},
   "outputs": [
    {
     "data": {
      "text/plain": [
       "5    14\n",
       "4    15\n",
       "3    16\n",
       "2    17\n",
       "1    18\n",
       "Name: price_list, dtype: int64"
      ]
     },
     "execution_count": 118,
     "metadata": {},
     "output_type": "execute_result"
    }
   ],
   "source": [
    "price_list.loc[5:1]"
   ]
  },
  {
   "cell_type": "code",
   "execution_count": 119,
   "id": "b9acaa29-8bb1-42d9-84bb-4ab239f3650c",
   "metadata": {},
   "outputs": [
    {
     "data": {
      "text/plain": [
       "19     0\n",
       "18     1\n",
       "17     2\n",
       "16     3\n",
       "15     4\n",
       "14     5\n",
       "13     6\n",
       "12     7\n",
       "11     8\n",
       "10     9\n",
       "9     10\n",
       "8     11\n",
       "7     12\n",
       "6     13\n",
       "5     14\n",
       "4     15\n",
       "3     16\n",
       "2     17\n",
       "1     18\n",
       "0     19\n",
       "Name: price_list, dtype: int64"
      ]
     },
     "execution_count": 119,
     "metadata": {},
     "output_type": "execute_result"
    }
   ],
   "source": [
    "price_list.reset_index()\n",
    "price_list"
   ]
  },
  {
   "cell_type": "code",
   "execution_count": 121,
   "id": "07718de7-f4a4-4023-b509-6d7c6d030950",
   "metadata": {},
   "outputs": [
    {
     "data": {
      "text/plain": [
       "0    0\n",
       "1    1\n",
       "2    2\n",
       "3    3\n",
       "4    4\n",
       "Name: price_list, dtype: int64"
      ]
     },
     "execution_count": 121,
     "metadata": {},
     "output_type": "execute_result"
    }
   ],
   "source": [
    "price_list.index = [x for x in range(price_list.size)]\n",
    "price_list.iloc[:5]"
   ]
  },
  {
   "cell_type": "code",
   "execution_count": null,
   "id": "1076c66a-d007-49df-9573-221a3d50e54f",
   "metadata": {},
   "outputs": [],
   "source": []
  },
  {
   "cell_type": "code",
   "execution_count": null,
   "id": "e3dfb14c-16cb-4c49-b349-a5506cf186a0",
   "metadata": {},
   "outputs": [],
   "source": []
  }
 ],
 "metadata": {
  "kernelspec": {
   "display_name": "Python 3 (ipykernel)",
   "language": "python",
   "name": "python3"
  },
  "language_info": {
   "codemirror_mode": {
    "name": "ipython",
    "version": 3
   },
   "file_extension": ".py",
   "mimetype": "text/x-python",
   "name": "python",
   "nbconvert_exporter": "python",
   "pygments_lexer": "ipython3",
   "version": "3.10.9"
  }
 },
 "nbformat": 4,
 "nbformat_minor": 5
}
