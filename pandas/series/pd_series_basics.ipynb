{
 "cells": [
  {
   "cell_type": "code",
   "execution_count": 1,
   "id": "5acd404c-77ad-4d45-bb45-26a14ee898f0",
   "metadata": {},
   "outputs": [],
   "source": [
    "import numpy as np\n",
    "import pandas as pd"
   ]
  },
  {
   "cell_type": "code",
   "execution_count": 2,
   "id": "822a329e-06dd-42b7-b42c-8bc479a991eb",
   "metadata": {},
   "outputs": [],
   "source": [
    "rng = np.random.default_rng(123)"
   ]
  },
  {
   "cell_type": "code",
   "execution_count": 3,
   "id": "92c79827-9d08-441a-a216-b4c0666012d2",
   "metadata": {},
   "outputs": [],
   "source": [
    "countries = [\"United States\", \"Canada\", \"United Kingdom\", \"Germany\", \"France\", \"Japan\", \"Australia\", \"Brazil\", \"India\", \"China\", \"Russia\", \"South Africa\", \"Mexico\", \"Argentina\", \"Spain\", \"Italy\", \"Sweden\", \"Netherlands\", \"Switzerland\", \"South Korea\"]"
   ]
  },
  {
   "cell_type": "code",
   "execution_count": 4,
   "id": "af9e93ba-5a21-40ef-bbf7-72afe02b01fc",
   "metadata": {},
   "outputs": [
    {
     "data": {
      "text/plain": [
       "0    6.82\n",
       "1    0.54\n",
       "2    2.20\n",
       "3    1.84\n",
       "4    1.76\n",
       "Name: price_list, dtype: float64"
      ]
     },
     "execution_count": 4,
     "metadata": {},
     "output_type": "execute_result"
    }
   ],
   "source": [
    "rng_price_list = rng.random(20).round(3) * 10\n",
    "price_list = pd.Series(rng_price_list,name=\"price_list\")\n",
    "price_list.head()"
   ]
  },
  {
   "cell_type": "code",
   "execution_count": 5,
   "id": "7fe67f39-6d7a-4c91-9df5-9bf5ab7709b8",
   "metadata": {},
   "outputs": [
    {
     "data": {
      "text/plain": [
       "RangeIndex(start=0, stop=20, step=1)"
      ]
     },
     "execution_count": 5,
     "metadata": {},
     "output_type": "execute_result"
    }
   ],
   "source": [
    "price_list.index"
   ]
  },
  {
   "cell_type": "code",
   "execution_count": 6,
   "id": "1ffa3a12-21df-40a9-a538-260ef227782e",
   "metadata": {},
   "outputs": [
    {
     "data": {
      "text/plain": [
       "20"
      ]
     },
     "execution_count": 6,
     "metadata": {},
     "output_type": "execute_result"
    }
   ],
   "source": [
    "price_list.size"
   ]
  },
  {
   "cell_type": "code",
   "execution_count": 7,
   "id": "cf894b6e-1017-4abb-80b4-8cf8a1309480",
   "metadata": {},
   "outputs": [
    {
     "data": {
      "text/plain": [
       "(20,)"
      ]
     },
     "execution_count": 7,
     "metadata": {},
     "output_type": "execute_result"
    }
   ],
   "source": [
    "price_list.shape"
   ]
  },
  {
   "cell_type": "code",
   "execution_count": 8,
   "id": "7d2c8be1-9e5c-4371-a147-d0ec5c0830d3",
   "metadata": {},
   "outputs": [
    {
     "data": {
      "text/plain": [
       "1"
      ]
     },
     "execution_count": 8,
     "metadata": {},
     "output_type": "execute_result"
    }
   ],
   "source": [
    "price_list.ndim"
   ]
  },
  {
   "cell_type": "code",
   "execution_count": 9,
   "id": "2b0de51f-864b-4e25-9841-fef776e16bc4",
   "metadata": {},
   "outputs": [
    {
     "data": {
      "text/plain": [
       "False"
      ]
     },
     "execution_count": 9,
     "metadata": {},
     "output_type": "execute_result"
    }
   ],
   "source": [
    "price_list.hasnans"
   ]
  },
  {
   "cell_type": "code",
   "execution_count": 10,
   "id": "e79f0ff8-9317-420f-8651-b5f88c4c5004",
   "metadata": {},
   "outputs": [
    {
     "data": {
      "text/plain": [
       "'price_list'"
      ]
     },
     "execution_count": 10,
     "metadata": {},
     "output_type": "execute_result"
    }
   ],
   "source": [
    "price_list.name"
   ]
  },
  {
   "cell_type": "code",
   "execution_count": 11,
   "id": "09b86586-c470-498a-87af-c82ef8d3e0d8",
   "metadata": {},
   "outputs": [
    {
     "data": {
      "text/plain": [
       "dtype('float64')"
      ]
     },
     "execution_count": 11,
     "metadata": {},
     "output_type": "execute_result"
    }
   ],
   "source": [
    "price_list.dtype"
   ]
  },
  {
   "cell_type": "code",
   "execution_count": 12,
   "id": "f4d58855-fdcc-48ee-adb3-cf6e33ac7597",
   "metadata": {},
   "outputs": [
    {
     "data": {
      "text/plain": [
       "<Flags(allows_duplicate_labels=True)>"
      ]
     },
     "execution_count": 12,
     "metadata": {},
     "output_type": "execute_result"
    }
   ],
   "source": [
    "price_list.flags"
   ]
  },
  {
   "cell_type": "code",
   "execution_count": 13,
   "id": "4c0220e7-bca6-487e-be1a-2b6034f88506",
   "metadata": {},
   "outputs": [
    {
     "data": {
      "text/plain": [
       "<PandasArray>\n",
       "[6.82, 0.54, 2.2, 1.8399999999999999, 1.7599999999999998]\n",
       "Length: 5, dtype: float64"
      ]
     },
     "execution_count": 13,
     "metadata": {},
     "output_type": "execute_result"
    }
   ],
   "source": [
    "price_list.array[:5]"
   ]
  },
  {
   "cell_type": "code",
   "execution_count": 14,
   "id": "0567e8e4-8da1-4296-b97b-6de2b5851d2a",
   "metadata": {},
   "outputs": [
    {
     "data": {
      "text/plain": [
       "0    6.82\n",
       "1    0.54\n",
       "2    2.20\n",
       "3    1.84\n",
       "4    1.76\n",
       "Name: price_list, dtype: float64"
      ]
     },
     "execution_count": 14,
     "metadata": {},
     "output_type": "execute_result"
    }
   ],
   "source": [
    "price_list.head()"
   ]
  },
  {
   "cell_type": "code",
   "execution_count": 15,
   "id": "3df4c093-94c5-4df8-9975-9cb6900e8471",
   "metadata": {},
   "outputs": [
    {
     "data": {
      "text/plain": [
       "array([6.82, 0.54, 2.2 , 1.84, 1.76, 8.12, 9.23, 2.77, 8.2 , 8.9 , 5.13,\n",
       "       2.45, 8.24, 2.14, 7.41, 6.3 , 9.27, 2.32, 7.99, 5.18])"
      ]
     },
     "execution_count": 15,
     "metadata": {},
     "output_type": "execute_result"
    }
   ],
   "source": [
    "price_list.values"
   ]
  },
  {
   "cell_type": "code",
   "execution_count": 16,
   "id": "143880f5-4608-430b-95b7-fe68786950c3",
   "metadata": {},
   "outputs": [
    {
     "data": {
      "text/plain": [
       "0    6.82\n",
       "1    0.54\n",
       "2    2.20\n",
       "3    1.84\n",
       "4    1.76\n",
       "Name: price_list, dtype: float64"
      ]
     },
     "execution_count": 16,
     "metadata": {},
     "output_type": "execute_result"
    }
   ],
   "source": [
    "price_list.head()"
   ]
  },
  {
   "cell_type": "code",
   "execution_count": 17,
   "id": "893beb61-5c12-4c03-92a8-0d2d7f279ac5",
   "metadata": {},
   "outputs": [
    {
     "data": {
      "text/plain": [
       "0                  6.82\n",
       "1                  0.54\n",
       "2                   2.2\n",
       "3    1.8399999999999999\n",
       "4    1.7599999999999998\n",
       "Name: price_list, dtype: string"
      ]
     },
     "execution_count": 17,
     "metadata": {},
     "output_type": "execute_result"
    }
   ],
   "source": [
    "price_list.astype('string').head()"
   ]
  },
  {
   "cell_type": "code",
   "execution_count": 18,
   "id": "b19f4a46-f3ab-4b1b-ad58-68dfa97e76b4",
   "metadata": {},
   "outputs": [
    {
     "data": {
      "text/plain": [
       "0    6.82\n",
       "1    0.54\n",
       "2    2.20\n",
       "3    1.84\n",
       "4    1.76\n",
       "Name: price_list, dtype: float64"
      ]
     },
     "execution_count": 18,
     "metadata": {},
     "output_type": "execute_result"
    }
   ],
   "source": [
    "price_list.astype('float').head()"
   ]
  },
  {
   "cell_type": "code",
   "execution_count": 19,
   "id": "c28ee3bf-49ff-4c43-960e-af97824fed36",
   "metadata": {},
   "outputs": [
    {
     "data": {
      "text/plain": [
       "RangeIndex(start=0, stop=20, step=1)"
      ]
     },
     "execution_count": 19,
     "metadata": {},
     "output_type": "execute_result"
    }
   ],
   "source": [
    "price_list.index"
   ]
  },
  {
   "cell_type": "code",
   "execution_count": 20,
   "id": "98372aac-a706-4792-905c-e63153676976",
   "metadata": {},
   "outputs": [
    {
     "data": {
      "text/plain": [
       "num_1    6.82\n",
       "num_2    0.54\n",
       "num_3    2.20\n",
       "num_4    1.84\n",
       "num_5    1.76\n",
       "Name: price_list, dtype: float64"
      ]
     },
     "execution_count": 20,
     "metadata": {},
     "output_type": "execute_result"
    }
   ],
   "source": [
    "price_list_indices = ['num_' + str(x+1) for x in range(rng_price_list.size)]\n",
    "price_list.index = price_list_indices\n",
    "price_list[:5]"
   ]
  },
  {
   "cell_type": "code",
   "execution_count": 21,
   "id": "9928f33a-7c5a-4a4c-b334-942a3a2a7a27",
   "metadata": {},
   "outputs": [
    {
     "data": {
      "text/plain": [
       "num_1    6.82\n",
       "num_2    0.54\n",
       "num_3    2.20\n",
       "num_4    1.84\n",
       "num_5    1.76\n",
       "Name: price_list, dtype: float64"
      ]
     },
     "execution_count": 21,
     "metadata": {},
     "output_type": "execute_result"
    }
   ],
   "source": [
    "price_list['num_1': 'num_5']"
   ]
  },
  {
   "cell_type": "code",
   "execution_count": 22,
   "id": "347aaf11-089f-47f2-989c-d5d35421cfd7",
   "metadata": {},
   "outputs": [
    {
     "data": {
      "text/plain": [
       "num_1    6.82\n",
       "num_2    0.54\n",
       "num_3    2.20\n",
       "num_4    1.84\n",
       "Name: price_list, dtype: float64"
      ]
     },
     "execution_count": 22,
     "metadata": {},
     "output_type": "execute_result"
    }
   ],
   "source": [
    "price_list.iloc[0:4]"
   ]
  },
  {
   "cell_type": "code",
   "execution_count": 23,
   "id": "eb9c8dc0-afcd-48a3-961c-8e404fbb1dd0",
   "metadata": {},
   "outputs": [
    {
     "data": {
      "text/plain": [
       "num_1    6.82\n",
       "num_2    0.54\n",
       "num_3    2.20\n",
       "num_4    1.84\n",
       "num_5    1.76\n",
       "Name: price_list, dtype: float64"
      ]
     },
     "execution_count": 23,
     "metadata": {},
     "output_type": "execute_result"
    }
   ],
   "source": [
    "price_list.loc[:'num_5']"
   ]
  },
  {
   "cell_type": "code",
   "execution_count": 24,
   "id": "37a72f4a-3f2a-4f6b-9a20-f44fcc5c970d",
   "metadata": {},
   "outputs": [
    {
     "data": {
      "text/plain": [
       "6.82"
      ]
     },
     "execution_count": 24,
     "metadata": {},
     "output_type": "execute_result"
    }
   ],
   "source": [
    "price_list.loc['num_1']"
   ]
  },
  {
   "cell_type": "code",
   "execution_count": 25,
   "id": "b3edb712-3273-49e8-8dfe-303ab72c5fd8",
   "metadata": {},
   "outputs": [
    {
     "data": {
      "text/plain": [
       "19    6.82\n",
       "18    0.54\n",
       "17    2.20\n",
       "16    1.84\n",
       "15    1.76\n",
       "Name: price_list, dtype: float64"
      ]
     },
     "execution_count": 25,
     "metadata": {},
     "output_type": "execute_result"
    }
   ],
   "source": [
    "price_list.index = [x for x in range(19, -1, -1)] \n",
    "price_list[:5]"
   ]
  },
  {
   "cell_type": "code",
   "execution_count": 26,
   "id": "74864b55-c19a-4620-90ba-cef60b94ec12",
   "metadata": {},
   "outputs": [
    {
     "data": {
      "text/plain": [
       "19    6.82\n",
       "18    0.54\n",
       "17    2.20\n",
       "16    1.84\n",
       "15    1.76\n",
       "Name: price_list, dtype: float64"
      ]
     },
     "execution_count": 26,
     "metadata": {},
     "output_type": "execute_result"
    }
   ],
   "source": [
    "price_list[:5]"
   ]
  },
  {
   "cell_type": "code",
   "execution_count": 27,
   "id": "fab6febe-789f-4a03-9c98-fe596923732e",
   "metadata": {},
   "outputs": [
    {
     "data": {
      "text/plain": [
       "19    6.82\n",
       "18    0.54\n",
       "17    2.20\n",
       "16    1.84\n",
       "15    1.76\n",
       "Name: price_list, dtype: float64"
      ]
     },
     "execution_count": 27,
     "metadata": {},
     "output_type": "execute_result"
    }
   ],
   "source": [
    "price_list.iloc[:5]"
   ]
  },
  {
   "cell_type": "code",
   "execution_count": 28,
   "id": "03d1ae3d-f5f9-4596-a68a-c20f1936dab4",
   "metadata": {},
   "outputs": [
    {
     "data": {
      "text/plain": [
       "19    6.82\n",
       "18    0.54\n",
       "17    2.20\n",
       "16    1.84\n",
       "15    1.76\n",
       "14    8.12\n",
       "13    9.23\n",
       "12    2.77\n",
       "11    8.20\n",
       "10    8.90\n",
       "Name: price_list, dtype: float64"
      ]
     },
     "execution_count": 28,
     "metadata": {},
     "output_type": "execute_result"
    }
   ],
   "source": [
    "price_list.loc[:10]"
   ]
  },
  {
   "cell_type": "code",
   "execution_count": 29,
   "id": "ab990f41-4f50-4b7e-b200-6f03f9d89d10",
   "metadata": {},
   "outputs": [
    {
     "data": {
      "text/plain": [
       "Series([], Name: price_list, dtype: float64)"
      ]
     },
     "execution_count": 29,
     "metadata": {},
     "output_type": "execute_result"
    }
   ],
   "source": [
    "price_list.loc[1:5]"
   ]
  },
  {
   "cell_type": "code",
   "execution_count": 30,
   "id": "332584d1-14e2-44cc-8201-c6626a59f2f2",
   "metadata": {},
   "outputs": [
    {
     "data": {
      "text/plain": [
       "5    7.41\n",
       "4    6.30\n",
       "3    9.27\n",
       "2    2.32\n",
       "1    7.99\n",
       "Name: price_list, dtype: float64"
      ]
     },
     "execution_count": 30,
     "metadata": {},
     "output_type": "execute_result"
    }
   ],
   "source": [
    "price_list.loc[5:1]"
   ]
  },
  {
   "cell_type": "code",
   "execution_count": 31,
   "id": "b9acaa29-8bb1-42d9-84bb-4ab239f3650c",
   "metadata": {},
   "outputs": [
    {
     "data": {
      "text/plain": [
       "19    6.82\n",
       "18    0.54\n",
       "17    2.20\n",
       "16    1.84\n",
       "15    1.76\n",
       "14    8.12\n",
       "13    9.23\n",
       "12    2.77\n",
       "11    8.20\n",
       "10    8.90\n",
       "9     5.13\n",
       "8     2.45\n",
       "7     8.24\n",
       "6     2.14\n",
       "5     7.41\n",
       "4     6.30\n",
       "3     9.27\n",
       "2     2.32\n",
       "1     7.99\n",
       "0     5.18\n",
       "Name: price_list, dtype: float64"
      ]
     },
     "execution_count": 31,
     "metadata": {},
     "output_type": "execute_result"
    }
   ],
   "source": [
    "price_list.reset_index()\n",
    "price_list"
   ]
  },
  {
   "cell_type": "code",
   "execution_count": 38,
   "id": "07718de7-f4a4-4023-b509-6d7c6d030950",
   "metadata": {},
   "outputs": [
    {
     "data": {
      "text/plain": [
       "0     6.82\n",
       "1     0.54\n",
       "2     2.20\n",
       "3     1.84\n",
       "4     1.76\n",
       "5     8.12\n",
       "6     9.23\n",
       "7     2.77\n",
       "8     8.20\n",
       "9     8.90\n",
       "10    5.13\n",
       "11    2.45\n",
       "12    8.24\n",
       "13    2.14\n",
       "14    7.41\n",
       "15    6.30\n",
       "16    9.27\n",
       "17    2.32\n",
       "18    7.99\n",
       "19    5.18\n",
       "Name: price_list, dtype: float64"
      ]
     },
     "execution_count": 38,
     "metadata": {},
     "output_type": "execute_result"
    }
   ],
   "source": [
    "price_list.index = [x for x in range(price_list.size)]\n",
    "price_list"
   ]
  },
  {
   "cell_type": "code",
   "execution_count": 39,
   "id": "b8b25b47-19bf-4505-bed0-fcee058454d9",
   "metadata": {},
   "outputs": [
    {
     "data": {
      "text/plain": [
       "0    6.82\n",
       "2    2.20\n",
       "4    1.76\n",
       "Name: price_list, dtype: float64"
      ]
     },
     "execution_count": 39,
     "metadata": {},
     "output_type": "execute_result"
    }
   ],
   "source": [
    "price_list.iloc[[0,2,4]]"
   ]
  },
  {
   "cell_type": "code",
   "execution_count": null,
   "id": "57eb03f4-ed36-4223-acbb-5219d1c1404a",
   "metadata": {},
   "outputs": [],
   "source": []
  },
  {
   "cell_type": "code",
   "execution_count": null,
   "id": "d9565b5e-e373-46e3-8121-ad112a5caf81",
   "metadata": {},
   "outputs": [],
   "source": []
  },
  {
   "cell_type": "code",
   "execution_count": null,
   "id": "327ea403-a15a-4b86-9f2c-e95ee62d6c93",
   "metadata": {},
   "outputs": [],
   "source": []
  },
  {
   "cell_type": "code",
   "execution_count": null,
   "id": "1076c66a-d007-49df-9573-221a3d50e54f",
   "metadata": {},
   "outputs": [],
   "source": []
  },
  {
   "cell_type": "code",
   "execution_count": null,
   "id": "e3dfb14c-16cb-4c49-b349-a5506cf186a0",
   "metadata": {},
   "outputs": [],
   "source": []
  }
 ],
 "metadata": {
  "kernelspec": {
   "display_name": "Python 3 (ipykernel)",
   "language": "python",
   "name": "python3"
  },
  "language_info": {
   "codemirror_mode": {
    "name": "ipython",
    "version": 3
   },
   "file_extension": ".py",
   "mimetype": "text/x-python",
   "name": "python",
   "nbconvert_exporter": "python",
   "pygments_lexer": "ipython3",
   "version": "3.10.9"
  }
 },
 "nbformat": 4,
 "nbformat_minor": 5
}
