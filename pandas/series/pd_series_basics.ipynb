{
 "cells": [
  {
   "cell_type": "code",
   "execution_count": 66,
   "id": "5acd404c-77ad-4d45-bb45-26a14ee898f0",
   "metadata": {},
   "outputs": [],
   "source": [
    "import numpy as np\n",
    "import pandas as pd"
   ]
  },
  {
   "cell_type": "code",
   "execution_count": 123,
   "id": "822a329e-06dd-42b7-b42c-8bc479a991eb",
   "metadata": {},
   "outputs": [],
   "source": [
    "rng = np.random.default_rng(123)"
   ]
  },
  {
   "cell_type": "code",
   "execution_count": 124,
   "id": "92c79827-9d08-441a-a216-b4c0666012d2",
   "metadata": {},
   "outputs": [],
   "source": [
    "countries = [\"United States\", \"Canada\", \"United Kingdom\", \"Germany\", \"France\", \"Japan\", \"Australia\", \"Brazil\", \"India\", \"China\", \"Russia\", \"South Africa\", \"Mexico\", \"Argentina\", \"Spain\", \"Italy\", \"Sweden\", \"Netherlands\", \"Switzerland\", \"South Korea\"]"
   ]
  },
  {
   "cell_type": "code",
   "execution_count": 165,
   "id": "af9e93ba-5a21-40ef-bbf7-72afe02b01fc",
   "metadata": {},
   "outputs": [
    {
     "data": {
      "text/plain": [
       "0    1.28\n",
       "1    2.58\n",
       "2    0.03\n",
       "3    3.81\n",
       "4    5.76\n",
       "Name: price_list, dtype: float64"
      ]
     },
     "execution_count": 165,
     "metadata": {},
     "output_type": "execute_result"
    }
   ],
   "source": [
    "rng_price_list = rng.random(20).round(3) * 10\n",
    "price_list = pd.Series(rng_price_list,name=\"price_list\")\n",
    "price_list.head()"
   ]
  },
  {
   "cell_type": "code",
   "execution_count": 166,
   "id": "7fe67f39-6d7a-4c91-9df5-9bf5ab7709b8",
   "metadata": {},
   "outputs": [
    {
     "data": {
      "text/plain": [
       "RangeIndex(start=0, stop=20, step=1)"
      ]
     },
     "execution_count": 166,
     "metadata": {},
     "output_type": "execute_result"
    }
   ],
   "source": [
    "price_list.index"
   ]
  },
  {
   "cell_type": "code",
   "execution_count": 167,
   "id": "1ffa3a12-21df-40a9-a538-260ef227782e",
   "metadata": {},
   "outputs": [
    {
     "data": {
      "text/plain": [
       "20"
      ]
     },
     "execution_count": 167,
     "metadata": {},
     "output_type": "execute_result"
    }
   ],
   "source": [
    "price_list.size"
   ]
  },
  {
   "cell_type": "code",
   "execution_count": 168,
   "id": "cf894b6e-1017-4abb-80b4-8cf8a1309480",
   "metadata": {},
   "outputs": [
    {
     "data": {
      "text/plain": [
       "(20,)"
      ]
     },
     "execution_count": 168,
     "metadata": {},
     "output_type": "execute_result"
    }
   ],
   "source": [
    "price_list.shape"
   ]
  },
  {
   "cell_type": "code",
   "execution_count": 169,
   "id": "7d2c8be1-9e5c-4371-a147-d0ec5c0830d3",
   "metadata": {},
   "outputs": [
    {
     "data": {
      "text/plain": [
       "1"
      ]
     },
     "execution_count": 169,
     "metadata": {},
     "output_type": "execute_result"
    }
   ],
   "source": [
    "price_list.ndim"
   ]
  },
  {
   "cell_type": "code",
   "execution_count": 170,
   "id": "2b0de51f-864b-4e25-9841-fef776e16bc4",
   "metadata": {},
   "outputs": [
    {
     "data": {
      "text/plain": [
       "False"
      ]
     },
     "execution_count": 170,
     "metadata": {},
     "output_type": "execute_result"
    }
   ],
   "source": [
    "price_list.hasnans"
   ]
  },
  {
   "cell_type": "code",
   "execution_count": 171,
   "id": "e79f0ff8-9317-420f-8651-b5f88c4c5004",
   "metadata": {},
   "outputs": [
    {
     "data": {
      "text/plain": [
       "'price_list'"
      ]
     },
     "execution_count": 171,
     "metadata": {},
     "output_type": "execute_result"
    }
   ],
   "source": [
    "price_list.name"
   ]
  },
  {
   "cell_type": "code",
   "execution_count": 172,
   "id": "09b86586-c470-498a-87af-c82ef8d3e0d8",
   "metadata": {},
   "outputs": [
    {
     "data": {
      "text/plain": [
       "dtype('float64')"
      ]
     },
     "execution_count": 172,
     "metadata": {},
     "output_type": "execute_result"
    }
   ],
   "source": [
    "price_list.dtype"
   ]
  },
  {
   "cell_type": "code",
   "execution_count": 173,
   "id": "f4d58855-fdcc-48ee-adb3-cf6e33ac7597",
   "metadata": {},
   "outputs": [
    {
     "data": {
      "text/plain": [
       "<Flags(allows_duplicate_labels=True)>"
      ]
     },
     "execution_count": 173,
     "metadata": {},
     "output_type": "execute_result"
    }
   ],
   "source": [
    "price_list.flags"
   ]
  },
  {
   "cell_type": "code",
   "execution_count": 174,
   "id": "89f6bafb-e76d-41b5-bd16-0b6ffdd68b1e",
   "metadata": {},
   "outputs": [
    {
     "data": {
      "text/plain": [
       "<PandasArray>\n",
       "[1.28, 2.58, 0.03, 3.81, 5.76]\n",
       "Length: 5, dtype: float64"
      ]
     },
     "execution_count": 174,
     "metadata": {},
     "output_type": "execute_result"
    }
   ],
   "source": [
    "price_list.array[:5]"
   ]
  },
  {
   "cell_type": "code",
   "execution_count": 175,
   "id": "0567e8e4-8da1-4296-b97b-6de2b5851d2a",
   "metadata": {},
   "outputs": [
    {
     "data": {
      "text/plain": [
       "0    1.28\n",
       "1    2.58\n",
       "2    0.03\n",
       "3    3.81\n",
       "4    5.76\n",
       "Name: price_list, dtype: float64"
      ]
     },
     "execution_count": 175,
     "metadata": {},
     "output_type": "execute_result"
    }
   ],
   "source": [
    "price_list.head()"
   ]
  },
  {
   "cell_type": "code",
   "execution_count": 176,
   "id": "3df4c093-94c5-4df8-9975-9cb6900e8471",
   "metadata": {},
   "outputs": [
    {
     "data": {
      "text/plain": [
       "array([1.28, 2.58, 0.03, 3.81, 5.76, 4.27, 8.35, 6.16, 2.66, 8.11, 4.99,\n",
       "       7.59, 5.66, 4.37, 3.96, 0.22, 4.69, 6.24, 9.46, 4.35])"
      ]
     },
     "execution_count": 176,
     "metadata": {},
     "output_type": "execute_result"
    }
   ],
   "source": [
    "price_list.values"
   ]
  },
  {
   "cell_type": "code",
   "execution_count": 177,
   "id": "143880f5-4608-430b-95b7-fe68786950c3",
   "metadata": {},
   "outputs": [
    {
     "data": {
      "text/plain": [
       "0    1.28\n",
       "1    2.58\n",
       "2    0.03\n",
       "3    3.81\n",
       "4    5.76\n",
       "Name: price_list, dtype: float64"
      ]
     },
     "execution_count": 177,
     "metadata": {},
     "output_type": "execute_result"
    }
   ],
   "source": [
    "price_list.head()"
   ]
  },
  {
   "cell_type": "code",
   "execution_count": 178,
   "id": "893beb61-5c12-4c03-92a8-0d2d7f279ac5",
   "metadata": {},
   "outputs": [
    {
     "data": {
      "text/plain": [
       "0    1.28\n",
       "1    2.58\n",
       "2    0.03\n",
       "3    3.81\n",
       "4    5.76\n",
       "Name: price_list, dtype: string"
      ]
     },
     "execution_count": 178,
     "metadata": {},
     "output_type": "execute_result"
    }
   ],
   "source": [
    "price_list.astype('string').head()"
   ]
  },
  {
   "cell_type": "code",
   "execution_count": 179,
   "id": "b19f4a46-f3ab-4b1b-ad58-68dfa97e76b4",
   "metadata": {},
   "outputs": [
    {
     "data": {
      "text/plain": [
       "0    1.28\n",
       "1    2.58\n",
       "2    0.03\n",
       "3    3.81\n",
       "4    5.76\n",
       "Name: price_list, dtype: float64"
      ]
     },
     "execution_count": 179,
     "metadata": {},
     "output_type": "execute_result"
    }
   ],
   "source": [
    "price_list.astype('float').head()"
   ]
  },
  {
   "cell_type": "code",
   "execution_count": 180,
   "id": "c28ee3bf-49ff-4c43-960e-af97824fed36",
   "metadata": {},
   "outputs": [
    {
     "data": {
      "text/plain": [
       "RangeIndex(start=0, stop=20, step=1)"
      ]
     },
     "execution_count": 180,
     "metadata": {},
     "output_type": "execute_result"
    }
   ],
   "source": [
    "price_list.index"
   ]
  },
  {
   "cell_type": "code",
   "execution_count": 181,
   "id": "90a5ec20-36b6-4a46-8907-9a6b4f6375b1",
   "metadata": {},
   "outputs": [
    {
     "data": {
      "text/plain": [
       "0    1.28\n",
       "1    2.58\n",
       "2    0.03\n",
       "3    3.81\n",
       "4    5.76\n",
       "Name: price_list, dtype: float64"
      ]
     },
     "execution_count": 181,
     "metadata": {},
     "output_type": "execute_result"
    }
   ],
   "source": [
    "price_list[:5]"
   ]
  },
  {
   "cell_type": "code",
   "execution_count": 182,
   "id": "98372aac-a706-4792-905c-e63153676976",
   "metadata": {},
   "outputs": [
    {
     "data": {
      "text/plain": [
       "num_1    1.28\n",
       "num_2    2.58\n",
       "num_3    0.03\n",
       "num_4    3.81\n",
       "num_5    5.76\n",
       "Name: price_list, dtype: float64"
      ]
     },
     "execution_count": 182,
     "metadata": {},
     "output_type": "execute_result"
    }
   ],
   "source": [
    "price_list_indices = ['num_' + str(x+1) for x in range(rng_price_list.size)]\n",
    "price_list.index = price_list_indices\n",
    "price_list[:5]"
   ]
  },
  {
   "cell_type": "code",
   "execution_count": 183,
   "id": "9928f33a-7c5a-4a4c-b334-942a3a2a7a27",
   "metadata": {},
   "outputs": [
    {
     "data": {
      "text/plain": [
       "num_1    1.28\n",
       "num_2    2.58\n",
       "num_3    0.03\n",
       "num_4    3.81\n",
       "num_5    5.76\n",
       "Name: price_list, dtype: float64"
      ]
     },
     "execution_count": 183,
     "metadata": {},
     "output_type": "execute_result"
    }
   ],
   "source": [
    "price_list['num_1': 'num_5']"
   ]
  },
  {
   "cell_type": "code",
   "execution_count": 184,
   "id": "347aaf11-089f-47f2-989c-d5d35421cfd7",
   "metadata": {},
   "outputs": [
    {
     "data": {
      "text/plain": [
       "num_1    1.28\n",
       "num_2    2.58\n",
       "num_3    0.03\n",
       "num_4    3.81\n",
       "Name: price_list, dtype: float64"
      ]
     },
     "execution_count": 184,
     "metadata": {},
     "output_type": "execute_result"
    }
   ],
   "source": [
    "price_list.iloc[0:4]"
   ]
  },
  {
   "cell_type": "code",
   "execution_count": 185,
   "id": "eb9c8dc0-afcd-48a3-961c-8e404fbb1dd0",
   "metadata": {},
   "outputs": [
    {
     "data": {
      "text/plain": [
       "num_1    1.28\n",
       "num_2    2.58\n",
       "num_3    0.03\n",
       "num_4    3.81\n",
       "num_5    5.76\n",
       "Name: price_list, dtype: float64"
      ]
     },
     "execution_count": 185,
     "metadata": {},
     "output_type": "execute_result"
    }
   ],
   "source": [
    "price_list.loc[:'num_5']"
   ]
  },
  {
   "cell_type": "code",
   "execution_count": 186,
   "id": "37a72f4a-3f2a-4f6b-9a20-f44fcc5c970d",
   "metadata": {},
   "outputs": [
    {
     "data": {
      "text/plain": [
       "1.28"
      ]
     },
     "execution_count": 186,
     "metadata": {},
     "output_type": "execute_result"
    }
   ],
   "source": [
    "price_list.loc['num_1']"
   ]
  },
  {
   "cell_type": "code",
   "execution_count": 189,
   "id": "b3edb712-3273-49e8-8dfe-303ab72c5fd8",
   "metadata": {},
   "outputs": [
    {
     "data": {
      "text/plain": [
       "19    1.28\n",
       "18    2.58\n",
       "17    0.03\n",
       "16    3.81\n",
       "15    5.76\n",
       "Name: price_list, dtype: float64"
      ]
     },
     "execution_count": 189,
     "metadata": {},
     "output_type": "execute_result"
    }
   ],
   "source": [
    "price_list.index = [x for x in range(19, -1, -1)] \n",
    "price_list[:5]"
   ]
  },
  {
   "cell_type": "code",
   "execution_count": 190,
   "id": "74864b55-c19a-4620-90ba-cef60b94ec12",
   "metadata": {},
   "outputs": [
    {
     "data": {
      "text/plain": [
       "19    1.28\n",
       "18    2.58\n",
       "17    0.03\n",
       "16    3.81\n",
       "15    5.76\n",
       "Name: price_list, dtype: float64"
      ]
     },
     "execution_count": 190,
     "metadata": {},
     "output_type": "execute_result"
    }
   ],
   "source": [
    "price_list[:5]"
   ]
  },
  {
   "cell_type": "code",
   "execution_count": 191,
   "id": "fab6febe-789f-4a03-9c98-fe596923732e",
   "metadata": {},
   "outputs": [
    {
     "data": {
      "text/plain": [
       "19    1.28\n",
       "18    2.58\n",
       "17    0.03\n",
       "16    3.81\n",
       "15    5.76\n",
       "Name: price_list, dtype: float64"
      ]
     },
     "execution_count": 191,
     "metadata": {},
     "output_type": "execute_result"
    }
   ],
   "source": [
    "price_list.iloc[:5]"
   ]
  },
  {
   "cell_type": "code",
   "execution_count": 193,
   "id": "03d1ae3d-f5f9-4596-a68a-c20f1936dab4",
   "metadata": {},
   "outputs": [
    {
     "data": {
      "text/plain": [
       "19    1.28\n",
       "18    2.58\n",
       "17    0.03\n",
       "16    3.81\n",
       "15    5.76\n",
       "14    4.27\n",
       "13    8.35\n",
       "12    6.16\n",
       "11    2.66\n",
       "10    8.11\n",
       "Name: price_list, dtype: float64"
      ]
     },
     "execution_count": 193,
     "metadata": {},
     "output_type": "execute_result"
    }
   ],
   "source": [
    "price_list.loc[:10]"
   ]
  },
  {
   "cell_type": "code",
   "execution_count": 194,
   "id": "ab990f41-4f50-4b7e-b200-6f03f9d89d10",
   "metadata": {},
   "outputs": [
    {
     "data": {
      "text/plain": [
       "Series([], Name: price_list, dtype: float64)"
      ]
     },
     "execution_count": 194,
     "metadata": {},
     "output_type": "execute_result"
    }
   ],
   "source": [
    "price_list.loc[1:5]"
   ]
  },
  {
   "cell_type": "code",
   "execution_count": 195,
   "id": "332584d1-14e2-44cc-8201-c6626a59f2f2",
   "metadata": {},
   "outputs": [
    {
     "data": {
      "text/plain": [
       "5    3.96\n",
       "4    0.22\n",
       "3    4.69\n",
       "2    6.24\n",
       "1    9.46\n",
       "Name: price_list, dtype: float64"
      ]
     },
     "execution_count": 195,
     "metadata": {},
     "output_type": "execute_result"
    }
   ],
   "source": [
    "price_list.loc[5:1]"
   ]
  },
  {
   "cell_type": "code",
   "execution_count": null,
   "id": "fa80386d-a0d7-48a2-9c37-78e6de8ad0ee",
   "metadata": {},
   "outputs": [],
   "source": []
  }
 ],
 "metadata": {
  "kernelspec": {
   "display_name": "Python 3 (ipykernel)",
   "language": "python",
   "name": "python3"
  },
  "language_info": {
   "codemirror_mode": {
    "name": "ipython",
    "version": 3
   },
   "file_extension": ".py",
   "mimetype": "text/x-python",
   "name": "python",
   "nbconvert_exporter": "python",
   "pygments_lexer": "ipython3",
   "version": "3.10.9"
  }
 },
 "nbformat": 4,
 "nbformat_minor": 5
}
