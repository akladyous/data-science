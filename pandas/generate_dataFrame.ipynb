{
 "cells": [
  {
   "cell_type": "markdown",
   "id": "ffa916b9-3f52-41f2-b931-d0c2e01965a9",
   "metadata": {},
   "source": [
    "#### generate random data"
   ]
  },
  {
   "cell_type": "code",
   "execution_count": 1,
   "id": "9e5dd9ba-ab6c-44a2-8081-2a9af0d787d3",
   "metadata": {},
   "outputs": [],
   "source": [
    "import numpy as np\n",
    "import pandas as pd"
   ]
  },
  {
   "cell_type": "code",
   "execution_count": 2,
   "id": "72ada905-4ae7-4e30-b0a6-0d65915ceb5a",
   "metadata": {},
   "outputs": [
    {
     "data": {
      "text/html": [
       "<div>\n",
       "<style scoped>\n",
       "    .dataframe tbody tr th:only-of-type {\n",
       "        vertical-align: middle;\n",
       "    }\n",
       "\n",
       "    .dataframe tbody tr th {\n",
       "        vertical-align: top;\n",
       "    }\n",
       "\n",
       "    .dataframe thead th {\n",
       "        text-align: right;\n",
       "    }\n",
       "</style>\n",
       "<table border=\"1\" class=\"dataframe\">\n",
       "  <thead>\n",
       "    <tr style=\"text-align: right;\">\n",
       "      <th></th>\n",
       "      <th>A</th>\n",
       "      <th>B</th>\n",
       "      <th>C</th>\n",
       "      <th>D</th>\n",
       "    </tr>\n",
       "  </thead>\n",
       "  <tbody>\n",
       "    <tr>\n",
       "      <th>2023-06-01</th>\n",
       "      <td>-0.836301</td>\n",
       "      <td>-0.003233</td>\n",
       "      <td>-0.525005</td>\n",
       "      <td>1.567837</td>\n",
       "    </tr>\n",
       "    <tr>\n",
       "      <th>2023-06-02</th>\n",
       "      <td>-0.075701</td>\n",
       "      <td>-1.465917</td>\n",
       "      <td>1.665394</td>\n",
       "      <td>-0.760732</td>\n",
       "    </tr>\n",
       "    <tr>\n",
       "      <th>2023-06-03</th>\n",
       "      <td>1.498362</td>\n",
       "      <td>-0.709185</td>\n",
       "      <td>0.084850</td>\n",
       "      <td>0.998877</td>\n",
       "    </tr>\n",
       "    <tr>\n",
       "      <th>2023-06-04</th>\n",
       "      <td>-1.044106</td>\n",
       "      <td>0.805032</td>\n",
       "      <td>-0.765918</td>\n",
       "      <td>-3.030538</td>\n",
       "    </tr>\n",
       "    <tr>\n",
       "      <th>2023-06-05</th>\n",
       "      <td>-0.382505</td>\n",
       "      <td>0.343869</td>\n",
       "      <td>-1.433791</td>\n",
       "      <td>-0.460858</td>\n",
       "    </tr>\n",
       "    <tr>\n",
       "      <th>2023-06-06</th>\n",
       "      <td>-0.365023</td>\n",
       "      <td>-0.465437</td>\n",
       "      <td>3.096005</td>\n",
       "      <td>1.207215</td>\n",
       "    </tr>\n",
       "    <tr>\n",
       "      <th>2023-06-07</th>\n",
       "      <td>-0.309993</td>\n",
       "      <td>-1.231109</td>\n",
       "      <td>-0.059132</td>\n",
       "      <td>-1.551027</td>\n",
       "    </tr>\n",
       "  </tbody>\n",
       "</table>\n",
       "</div>"
      ],
      "text/plain": [
       "                   A         B         C         D\n",
       "2023-06-01 -0.836301 -0.003233 -0.525005  1.567837\n",
       "2023-06-02 -0.075701 -1.465917  1.665394 -0.760732\n",
       "2023-06-03  1.498362 -0.709185  0.084850  0.998877\n",
       "2023-06-04 -1.044106  0.805032 -0.765918 -3.030538\n",
       "2023-06-05 -0.382505  0.343869 -1.433791 -0.460858\n",
       "2023-06-06 -0.365023 -0.465437  3.096005  1.207215\n",
       "2023-06-07 -0.309993 -1.231109 -0.059132 -1.551027"
      ]
     },
     "execution_count": 2,
     "metadata": {},
     "output_type": "execute_result"
    }
   ],
   "source": [
    "data7x4 = np.random.randn(7,4)\n",
    "\n",
    "column_names = [chr(x+65) for x in range(data7x4.shape[1])]\n",
    "current_date = np.datetime64('today', 'D')\n",
    "date_range = pd.date_range(current_date,periods=7)\n",
    "\n",
    "db7x4 = pd.DataFrame(data=data7x4, columns=column_names, index=date_range)\n",
    "db7x4"
   ]
  },
  {
   "cell_type": "code",
   "execution_count": 3,
   "id": "19ee8e05-66b4-4d98-a22e-45067aca9a57",
   "metadata": {},
   "outputs": [
    {
     "data": {
      "text/html": [
       "<div>\n",
       "<style scoped>\n",
       "    .dataframe tbody tr th:only-of-type {\n",
       "        vertical-align: middle;\n",
       "    }\n",
       "\n",
       "    .dataframe tbody tr th {\n",
       "        vertical-align: top;\n",
       "    }\n",
       "\n",
       "    .dataframe thead th {\n",
       "        text-align: right;\n",
       "    }\n",
       "</style>\n",
       "<table border=\"1\" class=\"dataframe\">\n",
       "  <thead>\n",
       "    <tr style=\"text-align: right;\">\n",
       "      <th></th>\n",
       "      <th>A</th>\n",
       "      <th>B</th>\n",
       "      <th>C</th>\n",
       "      <th>D</th>\n",
       "    </tr>\n",
       "  </thead>\n",
       "  <tbody>\n",
       "  </tbody>\n",
       "</table>\n",
       "</div>"
      ],
      "text/plain": [
       "Empty DataFrame\n",
       "Columns: [A, B, C, D]\n",
       "Index: []"
      ]
     },
     "execution_count": 3,
     "metadata": {},
     "output_type": "execute_result"
    }
   ],
   "source": [
    "db7x4.loc['2023-05-28': '2023-05-30']"
   ]
  },
  {
   "cell_type": "code",
   "execution_count": 4,
   "id": "09924311-a291-4b34-8d5c-03a070d64204",
   "metadata": {},
   "outputs": [
    {
     "data": {
      "text/plain": [
       "A   -0.836301\n",
       "B   -0.003233\n",
       "C   -0.525005\n",
       "D    1.567837\n",
       "Name: 2023-06-01 00:00:00, dtype: float64"
      ]
     },
     "execution_count": 4,
     "metadata": {},
     "output_type": "execute_result"
    }
   ],
   "source": [
    "db7x4.iloc[0]"
   ]
  },
  {
   "cell_type": "code",
   "execution_count": null,
   "id": "b3cd8fea-2455-42f5-9135-e3e854bcc17e",
   "metadata": {},
   "outputs": [],
   "source": []
  }
 ],
 "metadata": {
  "kernelspec": {
   "display_name": "Python 3 (ipykernel)",
   "language": "python",
   "name": "python3"
  },
  "language_info": {
   "codemirror_mode": {
    "name": "ipython",
    "version": 3
   },
   "file_extension": ".py",
   "mimetype": "text/x-python",
   "name": "python",
   "nbconvert_exporter": "python",
   "pygments_lexer": "ipython3",
   "version": "3.10.9"
  }
 },
 "nbformat": 4,
 "nbformat_minor": 5
}
