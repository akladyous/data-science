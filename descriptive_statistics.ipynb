{
 "cells": [
  {
   "cell_type": "markdown",
   "id": "8602a158-0c85-4354-8b46-42f052b45f98",
   "metadata": {
    "tags": []
   },
   "source": [
    "# Descriptive Statistics"
   ]
  },
  {
   "cell_type": "code",
   "execution_count": 2,
   "id": "8910a80f-f87e-45ec-8b3c-d535a29550e9",
   "metadata": {
    "tags": []
   },
   "outputs": [],
   "source": [
    "import numpy as np"
   ]
  },
  {
   "cell_type": "code",
   "execution_count": null,
   "id": "5225e6ae-9356-4d50-b67e-289c2c7ab8a5",
   "metadata": {},
   "outputs": [],
   "source": [
    "data = np"
   ]
  }
 ],
 "metadata": {
  "kernelspec": {
   "display_name": "Python 3 (ipykernel)",
   "language": "python",
   "name": "python3"
  },
  "language_info": {
   "codemirror_mode": {
    "name": "ipython",
    "version": 3
   },
   "file_extension": ".py",
   "mimetype": "text/x-python",
   "name": "python",
   "nbconvert_exporter": "python",
   "pygments_lexer": "ipython3",
   "version": "3.11.5"
  }
 },
 "nbformat": 4,
 "nbformat_minor": 5
}
