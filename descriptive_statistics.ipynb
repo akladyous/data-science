{
 "cells": [
  {
   "cell_type": "markdown",
   "id": "8602a158-0c85-4354-8b46-42f052b45f98",
   "metadata": {
    "tags": []
   },
   "source": [
    "# Descriptive Statistics"
   ]
  },
  {
   "cell_type": "code",
   "execution_count": 13,
   "id": "8910a80f-f87e-45ec-8b3c-d535a29550e9",
   "metadata": {
    "tags": []
   },
   "outputs": [],
   "source": [
    "import numpy as np"
   ]
  },
  {
   "cell_type": "code",
   "execution_count": 15,
   "id": "5225e6ae-9356-4d50-b67e-289c2c7ab8a5",
   "metadata": {
    "tags": []
   },
   "outputs": [
    {
     "name": "stdout",
     "output_type": "stream",
     "text": [
      "dataset [2 4 4 4 5 5 7 9]\n"
     ]
    }
   ],
   "source": [
    "# Set the mean and standard deviation of the normal distribution\n",
    "mean_value = 0\n",
    "std_deviation = 1\n",
    "\n",
    "# Set the number of samples\n",
    "num_samples = 20\n",
    "\n",
    "# Generate a dataset with random numbers from a normal distribution\n",
    "# dataset = np.random.normal(mean_value, std_deviation, num_samples)\n",
    "dataset = np.array([2, 4, 4, 4, 5, 5, 7, 9])\n",
    "print(f\"dataset {dataset}\")"
   ]
  },
  {
   "cell_type": "code",
   "execution_count": 16,
   "id": "e1e9019e-ed13-439d-ae92-912e5050032f",
   "metadata": {
    "tags": []
   },
   "outputs": [
    {
     "name": "stdout",
     "output_type": "stream",
     "text": [
      "5.0\n"
     ]
    }
   ],
   "source": [
    "mean_value = np.mean(dataset)\n",
    "mad = np.mean(np.abs(dataset - mean_value))\n",
    "\n",
    "print(mean_value)"
   ]
  },
  {
   "cell_type": "code",
   "execution_count": 18,
   "id": "c70f1256-02c6-44c2-8630-00f0f6056c3a",
   "metadata": {
    "tags": []
   },
   "outputs": [
    {
     "name": "stdout",
     "output_type": "stream",
     "text": [
      "Mean Absolute Deviation (MAD): 1.5\n"
     ]
    }
   ],
   "source": [
    "print(\"Mean Absolute Deviation (MAD):\", mad)"
   ]
  },
  {
   "cell_type": "code",
   "execution_count": null,
   "id": "7b17ba50-480d-45f3-bc56-5dcfda07ed9d",
   "metadata": {},
   "outputs": [],
   "source": []
  },
  {
   "cell_type": "code",
   "execution_count": null,
   "id": "7161be71",
   "metadata": {},
   "outputs": [],
   "source": []
  }
 ],
 "metadata": {
  "kernelspec": {
   "display_name": "Python 3 (ipykernel)",
   "language": "python",
   "name": "python3"
  },
  "language_info": {
   "codemirror_mode": {
    "name": "ipython",
    "version": 3
   },
   "file_extension": ".py",
   "mimetype": "text/x-python",
   "name": "python",
   "nbconvert_exporter": "python",
   "pygments_lexer": "ipython3",
   "version": "3.11.7"
  }
 },
 "nbformat": 4,
 "nbformat_minor": 5
}
