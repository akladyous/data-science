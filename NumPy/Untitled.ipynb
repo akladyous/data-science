{
 "cells": [
  {
   "cell_type": "code",
   "execution_count": 1,
   "id": "oriental-replication",
   "metadata": {},
   "outputs": [],
   "source": [
    "import numpy as np"
   ]
  },
  {
   "cell_type": "markdown",
   "id": "foreign-irish",
   "metadata": {},
   "source": [
    "https://stackoverflow.com/questions/33356442/when-should-i-use-hstack-vstack-vs-append-vs-concatenate-vs-column-stack/33357435"
   ]
  },
  {
   "cell_type": "code",
   "execution_count": null,
   "id": "clear-surgery",
   "metadata": {},
   "outputs": [],
   "source": []
  },
  {
   "cell_type": "markdown",
   "id": "hollow-polyester",
   "metadata": {},
   "source": [
    "## APPEND"
   ]
  },
  {
   "cell_type": "markdown",
   "id": "reserved-repeat",
   "metadata": {},
   "source": [
    "## STACK"
   ]
  },
  {
   "cell_type": "markdown",
   "id": "atomic-option",
   "metadata": {},
   "source": [
    "##  HSTACK"
   ]
  },
  {
   "cell_type": "markdown",
   "id": "visible-facing",
   "metadata": {},
   "source": [
    "##  VSTACK"
   ]
  },
  {
   "cell_type": "markdown",
   "id": "olympic-conditions",
   "metadata": {},
   "source": [
    "## numpy.insert"
   ]
  }
 ],
 "metadata": {
  "kernelspec": {
   "display_name": "Python 3 (ipykernel)",
   "language": "python",
   "name": "python3"
  },
  "language_info": {
   "codemirror_mode": {
    "name": "ipython",
    "version": 3
   },
   "file_extension": ".py",
   "mimetype": "text/x-python",
   "name": "python",
   "nbconvert_exporter": "python",
   "pygments_lexer": "ipython3",
   "version": "3.10.8"
  }
 },
 "nbformat": 4,
 "nbformat_minor": 5
}
