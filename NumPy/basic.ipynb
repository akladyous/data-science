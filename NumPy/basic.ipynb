{
 "cells": [
  {
   "cell_type": "code",
   "execution_count": 16,
   "id": "1de3cec4-3c13-400a-834d-7c544fa24c5c",
   "metadata": {},
   "outputs": [],
   "source": [
    "import numpy as np"
   ]
  },
  {
   "cell_type": "code",
   "execution_count": 17,
   "id": "54f9add4-1d12-44c3-857c-14a5c9512fb0",
   "metadata": {},
   "outputs": [
    {
     "data": {
      "text/plain": [
       "array([0, 1, 2, 3, 4])"
      ]
     },
     "execution_count": 17,
     "metadata": {},
     "output_type": "execute_result"
    }
   ],
   "source": [
    "a1 = np.array(range(5))\n",
    "a1"
   ]
  },
  {
   "cell_type": "code",
   "execution_count": 18,
   "id": "706e8f59-f39c-4fce-abfe-08a6c385e00f",
   "metadata": {},
   "outputs": [
    {
     "name": "stdout",
     "output_type": "stream",
     "text": [
      "ndim  :  1\n",
      "shape :  (5,)\n",
      "size  :  5\n",
      "dtype :  int64\n"
     ]
    }
   ],
   "source": [
    "print(\"ndim  : \", a1.ndim)\n",
    "print(\"shape : \", a1.shape)\n",
    "print(\"size  : \", a1.size)\n",
    "print(\"dtype : \", a1.dtype )"
   ]
  },
  {
   "cell_type": "code",
   "execution_count": 19,
   "id": "0c8c40e2-5771-4f98-b194-5b2844fcbd12",
   "metadata": {},
   "outputs": [
    {
     "data": {
      "text/plain": [
       "array([1., 1., 1., 1.])"
      ]
     },
     "execution_count": 19,
     "metadata": {},
     "output_type": "execute_result"
    }
   ],
   "source": [
    "np.ones(4)"
   ]
  },
  {
   "cell_type": "code",
   "execution_count": 20,
   "id": "e583b810-e49d-49a3-9dfd-52f96d9b1e50",
   "metadata": {},
   "outputs": [
    {
     "data": {
      "text/plain": [
       "array([0, 0, 0, 0, 0, 0, 0, 0, 0, 0])"
      ]
     },
     "execution_count": 20,
     "metadata": {},
     "output_type": "execute_result"
    }
   ],
   "source": [
    "np.zeros(10, dtype='int')"
   ]
  },
  {
   "cell_type": "code",
   "execution_count": 21,
   "id": "5344bcb5-04ee-4e71-b828-238123790ede",
   "metadata": {},
   "outputs": [
    {
     "data": {
      "text/plain": [
       "array([[ 0,  1,  2,  3],\n",
       "       [ 4,  5,  6,  7],\n",
       "       [ 8,  9, 10, 11]])"
      ]
     },
     "execution_count": 21,
     "metadata": {},
     "output_type": "execute_result"
    }
   ],
   "source": [
    "np.arange(12).reshape((3,4))"
   ]
  },
  {
   "cell_type": "code",
   "execution_count": 22,
   "id": "b2cfb10b-8b32-4bd0-b81c-a0a8754d856f",
   "metadata": {},
   "outputs": [
    {
     "data": {
      "text/plain": [
       "array([[ 0,  1,  2,  3],\n",
       "       [ 4,  5,  6,  7],\n",
       "       [ 8,  9, 10, 11]])"
      ]
     },
     "execution_count": 22,
     "metadata": {},
     "output_type": "execute_result"
    }
   ],
   "source": [
    "np.arange(12).reshape(3,4)"
   ]
  },
  {
   "cell_type": "code",
   "execution_count": 23,
   "id": "908f2a65-96d3-4073-a617-8814dfc0e8da",
   "metadata": {},
   "outputs": [
    {
     "data": {
      "text/plain": [
       "7.38905609893065"
      ]
     },
     "execution_count": 23,
     "metadata": {},
     "output_type": "execute_result"
    }
   ],
   "source": [
    "np.exp(2)"
   ]
  },
  {
   "cell_type": "code",
   "execution_count": 24,
   "id": "3cf280cf-077c-4972-a6b2-a6688f3f85fd",
   "metadata": {},
   "outputs": [
    {
     "data": {
      "text/plain": [
       "6.543216468462249"
      ]
     },
     "execution_count": 24,
     "metadata": {},
     "output_type": "execute_result"
    }
   ],
   "source": [
    "2**2.71"
   ]
  },
  {
   "cell_type": "code",
   "execution_count": 25,
   "id": "2ed61099-87d8-469c-9da3-36aab9ea3438",
   "metadata": {},
   "outputs": [
    {
     "data": {
      "text/plain": [
       "6.580877650466003"
      ]
     },
     "execution_count": 25,
     "metadata": {},
     "output_type": "execute_result"
    }
   ],
   "source": [
    "2**2.71828"
   ]
  },
  {
   "cell_type": "markdown",
   "id": "58ddda26-3e8b-4a1e-b430-66cfbb328fb2",
   "metadata": {},
   "source": [
    "#### Random Number Generator"
   ]
  },
  {
   "cell_type": "code",
   "execution_count": 85,
   "id": "38a8653c-9c1c-4874-b067-da8539a2ad6c",
   "metadata": {},
   "outputs": [],
   "source": [
    "rng = np.random.default_rng(123)"
   ]
  },
  {
   "cell_type": "code",
   "execution_count": 87,
   "id": "137c2a16-29c5-4570-9fd0-0f3027c8c97f",
   "metadata": {},
   "outputs": [
    {
     "data": {
      "text/plain": [
       "array([0.51297046, 0.2449646 , 0.8242416 , 0.21376296, 0.74146705,\n",
       "       0.6299402 , 0.92740726, 0.23190819, 0.79912513, 0.51816504])"
      ]
     },
     "execution_count": 87,
     "metadata": {},
     "output_type": "execute_result"
    }
   ],
   "source": [
    "rng.random(10)"
   ]
  },
  {
   "cell_type": "code",
   "execution_count": 96,
   "id": "63ebcedb-cf37-4faa-81fc-b8e88cba996e",
   "metadata": {},
   "outputs": [
    {
     "data": {
      "text/plain": [
       "array([1, 4, 5, 7, 5])"
      ]
     },
     "execution_count": 96,
     "metadata": {},
     "output_type": "execute_result"
    }
   ],
   "source": [
    "rng.integers(1, 10, size=5, endpoint=True )"
   ]
  },
  {
   "cell_type": "code",
   "execution_count": 88,
   "id": "822ede3f-1d3e-462f-9e1d-b316fb6d649a",
   "metadata": {},
   "outputs": [
    {
     "data": {
      "text/plain": [
       "array([-2.4149422 ,  3.65584288,  5.08326079,  4.25361359,  3.50953929,\n",
       "        1.70804421,  4.56380445,  4.14806124,  2.78524169,  2.01022863])"
      ]
     },
     "execution_count": 88,
     "metadata": {},
     "output_type": "execute_result"
    }
   ],
   "source": [
    "# normal (mean, std_dev, size)\n",
    "rng.normal(2, 2, 10)"
   ]
  },
  {
   "cell_type": "code",
   "execution_count": 89,
   "id": "e11bb130-9d42-477c-8ad1-ed325ded2827",
   "metadata": {},
   "outputs": [
    {
     "data": {
      "text/plain": [
       "array([51, 91, 61, 86, 46])"
      ]
     },
     "execution_count": 89,
     "metadata": {},
     "output_type": "execute_result"
    }
   ],
   "source": [
    "rng.choice(np.arange(100), 5, replace=True)"
   ]
  },
  {
   "cell_type": "markdown",
   "id": "ec807a71-e478-4f32-88f2-a57084188d44",
   "metadata": {},
   "source": [
    "### Indexing & Slicing Arrays"
   ]
  },
  {
   "cell_type": "code",
   "execution_count": 103,
   "id": "fa6f782c-680a-4e3b-9ff2-17a0d1c6d28d",
   "metadata": {},
   "outputs": [
    {
     "data": {
      "text/plain": [
       "array([['Argentina', 'Brazil', 'Canada', 'Denmark', 'Egypt'],\n",
       "       ['France', 'Germany', 'Hungary', 'India', 'Japan'],\n",
       "       ['Kenya', 'Mexico', 'Netherlands', 'Oman', 'Poland'],\n",
       "       ['Qatar', 'Russia', 'Spain', 'Thailand', 'United States'],\n",
       "       ['Vietnam', 'Wales', 'Xenobia', 'Yemen', 'Zimbabwe']], dtype='<U13')"
      ]
     },
     "execution_count": 103,
     "metadata": {},
     "output_type": "execute_result"
    }
   ],
   "source": [
    "country = np.array([\n",
    "    ['Argentina', 'Brazil', 'Canada', 'Denmark', 'Egypt'],\n",
    "    ['France', 'Germany', 'Hungary', 'India', 'Japan'],\n",
    "    ['Kenya', 'Mexico', 'Netherlands', 'Oman', 'Poland'],\n",
    "    ['Qatar', 'Russia', 'Spain', 'Thailand', 'United States'],\n",
    "    ['Vietnam', 'Wales', 'Xenobia', 'Yemen', 'Zimbabwe']\n",
    "])\n",
    "country"
   ]
  },
  {
   "cell_type": "code",
   "execution_count": 104,
   "id": "24c090af-e64b-4a6b-b1aa-79cdf11650c7",
   "metadata": {},
   "outputs": [
    {
     "data": {
      "text/plain": [
       "array([['Canada', 'Denmark'],\n",
       "       ['Hungary', 'India'],\n",
       "       ['Netherlands', 'Oman'],\n",
       "       ['Spain', 'Thailand'],\n",
       "       ['Xenobia', 'Yemen']], dtype='<U13')"
      ]
     },
     "execution_count": 104,
     "metadata": {},
     "output_type": "execute_result"
    }
   ],
   "source": [
    "country[:, 2:4]"
   ]
  },
  {
   "cell_type": "code",
   "execution_count": null,
   "id": "9ba1566a-08f1-4c72-acb0-2c397c890923",
   "metadata": {},
   "outputs": [],
   "source": []
  }
 ],
 "metadata": {
  "kernelspec": {
   "display_name": "Python 3 (ipykernel)",
   "language": "python",
   "name": "python3"
  },
  "language_info": {
   "codemirror_mode": {
    "name": "ipython",
    "version": 3
   },
   "file_extension": ".py",
   "mimetype": "text/x-python",
   "name": "python",
   "nbconvert_exporter": "python",
   "pygments_lexer": "ipython3",
   "version": "3.10.9"
  }
 },
 "nbformat": 4,
 "nbformat_minor": 5
}
