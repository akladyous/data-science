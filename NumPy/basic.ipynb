{
 "cells": [
  {
   "cell_type": "code",
   "execution_count": 1,
   "id": "1de3cec4-3c13-400a-834d-7c544fa24c5c",
   "metadata": {},
   "outputs": [],
   "source": [
    "import numpy as np"
   ]
  },
  {
   "cell_type": "code",
   "execution_count": 2,
   "id": "54f9add4-1d12-44c3-857c-14a5c9512fb0",
   "metadata": {},
   "outputs": [
    {
     "data": {
      "text/plain": [
       "array([0, 1, 2, 3, 4])"
      ]
     },
     "execution_count": 2,
     "metadata": {},
     "output_type": "execute_result"
    }
   ],
   "source": [
    "a1 = np.array(range(5))\n",
    "a1"
   ]
  },
  {
   "cell_type": "code",
   "execution_count": 3,
   "id": "706e8f59-f39c-4fce-abfe-08a6c385e00f",
   "metadata": {},
   "outputs": [
    {
     "name": "stdout",
     "output_type": "stream",
     "text": [
      "ndim  :  1\n",
      "shape :  (5,)\n",
      "size  :  5\n",
      "dtype :  int64\n"
     ]
    }
   ],
   "source": [
    "print(\"ndim  : \", a1.ndim)\n",
    "print(\"shape : \", a1.shape)\n",
    "print(\"size  : \", a1.size)\n",
    "print(\"dtype : \", a1.dtype )"
   ]
  },
  {
   "cell_type": "code",
   "execution_count": 4,
   "id": "0c8c40e2-5771-4f98-b194-5b2844fcbd12",
   "metadata": {},
   "outputs": [
    {
     "data": {
      "text/plain": [
       "array([1., 1., 1., 1.])"
      ]
     },
     "execution_count": 4,
     "metadata": {},
     "output_type": "execute_result"
    }
   ],
   "source": [
    "np.ones(4)"
   ]
  },
  {
   "cell_type": "code",
   "execution_count": 5,
   "id": "e583b810-e49d-49a3-9dfd-52f96d9b1e50",
   "metadata": {},
   "outputs": [
    {
     "data": {
      "text/plain": [
       "array([0, 0, 0, 0, 0, 0, 0, 0, 0, 0])"
      ]
     },
     "execution_count": 5,
     "metadata": {},
     "output_type": "execute_result"
    }
   ],
   "source": [
    "np.zeros(10, dtype='int')"
   ]
  },
  {
   "cell_type": "code",
   "execution_count": 6,
   "id": "5344bcb5-04ee-4e71-b828-238123790ede",
   "metadata": {},
   "outputs": [
    {
     "data": {
      "text/plain": [
       "array([[ 0,  1,  2,  3],\n",
       "       [ 4,  5,  6,  7],\n",
       "       [ 8,  9, 10, 11]])"
      ]
     },
     "execution_count": 6,
     "metadata": {},
     "output_type": "execute_result"
    }
   ],
   "source": [
    "np.arange(12).reshape((3,4))"
   ]
  },
  {
   "cell_type": "code",
   "execution_count": 7,
   "id": "b2cfb10b-8b32-4bd0-b81c-a0a8754d856f",
   "metadata": {},
   "outputs": [
    {
     "data": {
      "text/plain": [
       "array([[ 0,  1,  2,  3],\n",
       "       [ 4,  5,  6,  7],\n",
       "       [ 8,  9, 10, 11]])"
      ]
     },
     "execution_count": 7,
     "metadata": {},
     "output_type": "execute_result"
    }
   ],
   "source": [
    "np.arange(12).reshape(3,4)"
   ]
  },
  {
   "cell_type": "code",
   "execution_count": 8,
   "id": "908f2a65-96d3-4073-a617-8814dfc0e8da",
   "metadata": {},
   "outputs": [
    {
     "data": {
      "text/plain": [
       "7.38905609893065"
      ]
     },
     "execution_count": 8,
     "metadata": {},
     "output_type": "execute_result"
    }
   ],
   "source": [
    "np.exp(2)"
   ]
  },
  {
   "cell_type": "code",
   "execution_count": 9,
   "id": "3cf280cf-077c-4972-a6b2-a6688f3f85fd",
   "metadata": {},
   "outputs": [
    {
     "data": {
      "text/plain": [
       "6.543216468462249"
      ]
     },
     "execution_count": 9,
     "metadata": {},
     "output_type": "execute_result"
    }
   ],
   "source": [
    "2**2.71"
   ]
  },
  {
   "cell_type": "code",
   "execution_count": 10,
   "id": "2ed61099-87d8-469c-9da3-36aab9ea3438",
   "metadata": {},
   "outputs": [
    {
     "data": {
      "text/plain": [
       "6.580877650466003"
      ]
     },
     "execution_count": 10,
     "metadata": {},
     "output_type": "execute_result"
    }
   ],
   "source": [
    "2**2.71828"
   ]
  },
  {
   "cell_type": "markdown",
   "id": "58ddda26-3e8b-4a1e-b430-66cfbb328fb2",
   "metadata": {},
   "source": [
    "#### Random Number Generator"
   ]
  },
  {
   "cell_type": "code",
   "execution_count": 11,
   "id": "38a8653c-9c1c-4874-b067-da8539a2ad6c",
   "metadata": {},
   "outputs": [],
   "source": [
    "rng = np.random.default_rng(123)"
   ]
  },
  {
   "cell_type": "code",
   "execution_count": 16,
   "id": "137c2a16-29c5-4570-9fd0-0f3027c8c97f",
   "metadata": {},
   "outputs": [
    {
     "data": {
      "text/plain": [
       "array([0.07148681, 0.58323841, 0.2379064 , 0.76496365, 0.17363164,\n",
       "       0.31274226, 0.01447448, 0.03255192, 0.49670184, 0.46831253])"
      ]
     },
     "execution_count": 16,
     "metadata": {},
     "output_type": "execute_result"
    }
   ],
   "source": [
    "rng.random(10)"
   ]
  },
  {
   "cell_type": "code",
   "execution_count": null,
   "id": "e11bb130-9d42-477c-8ad1-ed325ded2827",
   "metadata": {},
   "outputs": [],
   "source": []
  }
 ],
 "metadata": {
  "kernelspec": {
   "display_name": "Python 3 (ipykernel)",
   "language": "python",
   "name": "python3"
  },
  "language_info": {
   "codemirror_mode": {
    "name": "ipython",
    "version": 3
   },
   "file_extension": ".py",
   "mimetype": "text/x-python",
   "name": "python",
   "nbconvert_exporter": "python",
   "pygments_lexer": "ipython3",
   "version": "3.10.9"
  }
 },
 "nbformat": 4,
 "nbformat_minor": 5
}
