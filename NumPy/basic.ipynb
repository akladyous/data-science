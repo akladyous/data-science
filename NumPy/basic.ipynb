{
 "cells": [
  {
   "cell_type": "code",
   "execution_count": 18,
   "id": "1de3cec4-3c13-400a-834d-7c544fa24c5c",
   "metadata": {},
   "outputs": [],
   "source": [
    "import numpy as np"
   ]
  },
  {
   "cell_type": "code",
   "execution_count": 19,
   "id": "54f9add4-1d12-44c3-857c-14a5c9512fb0",
   "metadata": {},
   "outputs": [
    {
     "data": {
      "text/plain": [
       "array([0, 1, 2, 3, 4])"
      ]
     },
     "execution_count": 19,
     "metadata": {},
     "output_type": "execute_result"
    }
   ],
   "source": [
    "a1 = np.array(range(5))\n",
    "a1"
   ]
  },
  {
   "cell_type": "code",
   "execution_count": 20,
   "id": "706e8f59-f39c-4fce-abfe-08a6c385e00f",
   "metadata": {},
   "outputs": [
    {
     "name": "stdout",
     "output_type": "stream",
     "text": [
      "ndim  :  1\n",
      "shape :  (5,)\n",
      "size  :  5\n",
      "dtype :  int64\n"
     ]
    }
   ],
   "source": [
    "print(\"ndim  : \", a1.ndim)\n",
    "print(\"shape : \", a1.shape)\n",
    "print(\"size  : \", a1.size)\n",
    "print(\"dtype : \", a1.dtype )"
   ]
  },
  {
   "cell_type": "code",
   "execution_count": 21,
   "id": "0c8c40e2-5771-4f98-b194-5b2844fcbd12",
   "metadata": {},
   "outputs": [
    {
     "data": {
      "text/plain": [
       "array([1., 1., 1., 1.])"
      ]
     },
     "execution_count": 21,
     "metadata": {},
     "output_type": "execute_result"
    }
   ],
   "source": [
    "np.ones(4)"
   ]
  },
  {
   "cell_type": "code",
   "execution_count": 22,
   "id": "e583b810-e49d-49a3-9dfd-52f96d9b1e50",
   "metadata": {},
   "outputs": [
    {
     "data": {
      "text/plain": [
       "array([0, 0, 0, 0, 0, 0, 0, 0, 0, 0])"
      ]
     },
     "execution_count": 22,
     "metadata": {},
     "output_type": "execute_result"
    }
   ],
   "source": [
    "np.zeros(10, dtype='int')"
   ]
  },
  {
   "cell_type": "code",
   "execution_count": 23,
   "id": "5344bcb5-04ee-4e71-b828-238123790ede",
   "metadata": {},
   "outputs": [
    {
     "data": {
      "text/plain": [
       "array([[ 0,  1,  2,  3],\n",
       "       [ 4,  5,  6,  7],\n",
       "       [ 8,  9, 10, 11]])"
      ]
     },
     "execution_count": 23,
     "metadata": {},
     "output_type": "execute_result"
    }
   ],
   "source": [
    "np.arange(12).reshape((3,4))"
   ]
  },
  {
   "cell_type": "code",
   "execution_count": 24,
   "id": "b2cfb10b-8b32-4bd0-b81c-a0a8754d856f",
   "metadata": {},
   "outputs": [
    {
     "data": {
      "text/plain": [
       "array([[ 0,  1,  2,  3],\n",
       "       [ 4,  5,  6,  7],\n",
       "       [ 8,  9, 10, 11]])"
      ]
     },
     "execution_count": 24,
     "metadata": {},
     "output_type": "execute_result"
    }
   ],
   "source": [
    "np.arange(12).reshape(3,4)"
   ]
  },
  {
   "cell_type": "code",
   "execution_count": 25,
   "id": "908f2a65-96d3-4073-a617-8814dfc0e8da",
   "metadata": {},
   "outputs": [
    {
     "data": {
      "text/plain": [
       "7.38905609893065"
      ]
     },
     "execution_count": 25,
     "metadata": {},
     "output_type": "execute_result"
    }
   ],
   "source": [
    "np.exp(2)"
   ]
  },
  {
   "cell_type": "code",
   "execution_count": 26,
   "id": "3cf280cf-077c-4972-a6b2-a6688f3f85fd",
   "metadata": {},
   "outputs": [
    {
     "data": {
      "text/plain": [
       "6.543216468462249"
      ]
     },
     "execution_count": 26,
     "metadata": {},
     "output_type": "execute_result"
    }
   ],
   "source": [
    "2**2.71"
   ]
  },
  {
   "cell_type": "code",
   "execution_count": 27,
   "id": "2ed61099-87d8-469c-9da3-36aab9ea3438",
   "metadata": {},
   "outputs": [
    {
     "data": {
      "text/plain": [
       "6.580877650466003"
      ]
     },
     "execution_count": 27,
     "metadata": {},
     "output_type": "execute_result"
    }
   ],
   "source": [
    "2**2.71828"
   ]
  },
  {
   "cell_type": "markdown",
   "id": "a930dffd-4f2c-4515-bb0c-39a886b903df",
   "metadata": {},
   "source": [
    "### Structured arrays"
   ]
  },
  {
   "cell_type": "code",
   "execution_count": 28,
   "id": "3bf3ed44-f267-4016-94e0-3923df4c8350",
   "metadata": {},
   "outputs": [
    {
     "data": {
      "text/plain": [
       "array([('Alice', 25, 62.5,  True), ('Bob', 32, 70.2, False),\n",
       "       ('Charlie', 28, 68.7,  True)],\n",
       "      dtype=[('name', '<U10'), ('age', '<i8'), ('weight', '<f8'), ('is_student', '?')])"
      ]
     },
     "execution_count": 28,
     "metadata": {},
     "output_type": "execute_result"
    }
   ],
   "source": [
    "data = np.array([('Alice', 25, 62.5, True),\n",
    "                 ('Bob', 32, 70.2, False),\n",
    "                 ('Charlie', 28, 68.7, True)],\n",
    "                dtype=[('name', 'U10'), ('age', int), ('weight', float), ('is_student', bool)])\n",
    "data"
   ]
  },
  {
   "cell_type": "markdown",
   "id": "58ddda26-3e8b-4a1e-b430-66cfbb328fb2",
   "metadata": {},
   "source": [
    "#### Random Number Generator"
   ]
  },
  {
   "cell_type": "code",
   "execution_count": 29,
   "id": "38a8653c-9c1c-4874-b067-da8539a2ad6c",
   "metadata": {},
   "outputs": [],
   "source": [
    "rng = np.random.default_rng(123)"
   ]
  },
  {
   "cell_type": "code",
   "execution_count": 30,
   "id": "137c2a16-29c5-4570-9fd0-0f3027c8c97f",
   "metadata": {},
   "outputs": [
    {
     "data": {
      "text/plain": [
       "array([0.68235186, 0.05382102, 0.22035987, 0.18437181, 0.1759059 ,\n",
       "       0.81209451, 0.923345  , 0.2765744 , 0.81975456, 0.88989269])"
      ]
     },
     "execution_count": 30,
     "metadata": {},
     "output_type": "execute_result"
    }
   ],
   "source": [
    "rng.random(10)"
   ]
  },
  {
   "cell_type": "code",
   "execution_count": 31,
   "id": "63ebcedb-cf37-4faa-81fc-b8e88cba996e",
   "metadata": {},
   "outputs": [
    {
     "data": {
      "text/plain": [
       "array([1, 6, 3, 3, 3])"
      ]
     },
     "execution_count": 31,
     "metadata": {},
     "output_type": "execute_result"
    }
   ],
   "source": [
    "rng.integers(1, 10, size=5, endpoint=True )"
   ]
  },
  {
   "cell_type": "code",
   "execution_count": 32,
   "id": "822ede3f-1d3e-462f-9e1d-b316fb6d649a",
   "metadata": {},
   "outputs": [
    {
     "data": {
      "text/plain": [
       "array([ 0.65782065,  4.00053884,  2.27264225,  5.06406616,  0.68006117,\n",
       "        1.37641029,  2.67553825, -2.4149422 ,  3.65584288,  5.08326079])"
      ]
     },
     "execution_count": 32,
     "metadata": {},
     "output_type": "execute_result"
    }
   ],
   "source": [
    "# normal (mean, std_dev, size)\n",
    "rng.normal(2, 2, 10)"
   ]
  },
  {
   "cell_type": "code",
   "execution_count": 33,
   "id": "e11bb130-9d42-477c-8ad1-ed325ded2827",
   "metadata": {},
   "outputs": [
    {
     "data": {
      "text/plain": [
       "array([82,  1, 58, 41, 18])"
      ]
     },
     "execution_count": 33,
     "metadata": {},
     "output_type": "execute_result"
    }
   ],
   "source": [
    "rng.choice(np.arange(100), 5, replace=True)"
   ]
  },
  {
   "cell_type": "markdown",
   "id": "ec807a71-e478-4f32-88f2-a57084188d44",
   "metadata": {},
   "source": [
    "### Indexing & Slicing Arrays"
   ]
  },
  {
   "cell_type": "code",
   "execution_count": 35,
   "id": "fa6f782c-680a-4e3b-9ff2-17a0d1c6d28d",
   "metadata": {},
   "outputs": [
    {
     "data": {
      "text/plain": [
       "array([['Argentina', 'Brazil', 'Canada', 'Denmark', 'Egypt'],\n",
       "       ['France', 'Germany', 'Hungary', 'India', 'Japan'],\n",
       "       ['Kenya', 'Mexico', 'Netherlands', 'Oman', 'Poland'],\n",
       "       ['Qatar', 'Russia', 'Spain', 'Thailand', 'United States'],\n",
       "       ['Vietnam', 'Wales', 'Xenobia', 'Yemen', 'Zimbabwe']], dtype='<U13')"
      ]
     },
     "execution_count": 35,
     "metadata": {},
     "output_type": "execute_result"
    }
   ],
   "source": [
    "countries = np.array([\n",
    "    ['Argentina', 'Brazil', 'Canada', 'Denmark', 'Egypt'],\n",
    "    ['France', 'Germany', 'Hungary', 'India', 'Japan'],\n",
    "    ['Kenya', 'Mexico', 'Netherlands', 'Oman', 'Poland'],\n",
    "    ['Qatar', 'Russia', 'Spain', 'Thailand', 'United States'],\n",
    "    ['Vietnam', 'Wales', 'Xenobia', 'Yemen', 'Zimbabwe']\n",
    "])\n",
    "countries"
   ]
  },
  {
   "cell_type": "code",
   "execution_count": 36,
   "id": "b1a8c765-7883-49c6-9e34-5eba6ff5b0ab",
   "metadata": {},
   "outputs": [
    {
     "data": {
      "text/plain": [
       "'United States'"
      ]
     },
     "execution_count": 36,
     "metadata": {},
     "output_type": "execute_result"
    }
   ],
   "source": [
    "countries[3,-1]"
   ]
  },
  {
   "cell_type": "code",
   "execution_count": 37,
   "id": "24c090af-e64b-4a6b-b1aa-79cdf11650c7",
   "metadata": {},
   "outputs": [
    {
     "data": {
      "text/plain": [
       "array(['Denmark', 'India', 'Oman', 'Thailand', 'Yemen'], dtype='<U13')"
      ]
     },
     "execution_count": 37,
     "metadata": {},
     "output_type": "execute_result"
    }
   ],
   "source": [
    "countries[:, 3] # all rows - column 3"
   ]
  },
  {
   "cell_type": "code",
   "execution_count": 38,
   "id": "3bc5574f-0ee1-4e5b-8102-0e698b3ad1df",
   "metadata": {},
   "outputs": [
    {
     "data": {
      "text/plain": [
       "array([['Brazil', 'Canada'],\n",
       "       ['Germany', 'Hungary'],\n",
       "       ['Mexico', 'Netherlands'],\n",
       "       ['Russia', 'Spain'],\n",
       "       ['Wales', 'Xenobia']], dtype='<U13')"
      ]
     },
     "execution_count": 38,
     "metadata": {},
     "output_type": "execute_result"
    }
   ],
   "source": [
    "countries[:, 1:3] # all rows - second and third columns"
   ]
  },
  {
   "cell_type": "code",
   "execution_count": 39,
   "id": "9ba1566a-08f1-4c72-acb0-2c397c890923",
   "metadata": {},
   "outputs": [
    {
     "data": {
      "text/plain": [
       "array([['Denmark', 'Egypt'],\n",
       "       ['India', 'Japan']], dtype='<U13')"
      ]
     },
     "execution_count": 39,
     "metadata": {},
     "output_type": "execute_result"
    }
   ],
   "source": [
    "countries[:2, 3:] # first 2 rows and columns 4 to the end"
   ]
  },
  {
   "cell_type": "code",
   "execution_count": 40,
   "id": "336d4175-45ed-4e72-8a9a-b2e713fcdecf",
   "metadata": {},
   "outputs": [
    {
     "data": {
      "text/plain": [
       "array([0, 1, 2, 3, 4, 5, 6, 7, 8, 9])"
      ]
     },
     "execution_count": 40,
     "metadata": {},
     "output_type": "execute_result"
    }
   ],
   "source": [
    "n1 = np.arange(10)\n",
    "n1"
   ]
  },
  {
   "cell_type": "code",
   "execution_count": 41,
   "id": "1bc33594-e9f9-4d6e-90a2-4fb88403a903",
   "metadata": {},
   "outputs": [],
   "source": [
    "isEven= lambda x: x%2 == 0\n",
    "isOdd = lambda n: n%2 != 0"
   ]
  },
  {
   "cell_type": "code",
   "execution_count": 42,
   "id": "e6a5e09d-fdde-408d-a86e-5882c88f887c",
   "metadata": {},
   "outputs": [
    {
     "data": {
      "text/plain": [
       "[0, 2, 4, 6, 8]"
      ]
     },
     "execution_count": 42,
     "metadata": {},
     "output_type": "execute_result"
    }
   ],
   "source": [
    "result =[]\n",
    "for x in range(n1.size):\n",
    "    if isEven(x):\n",
    "        result.append(x)\n",
    "\n",
    "result"
   ]
  },
  {
   "cell_type": "code",
   "execution_count": 43,
   "id": "46042dc0-b0e8-4043-a0bc-72ddb21aac00",
   "metadata": {},
   "outputs": [
    {
     "data": {
      "text/plain": [
       "array([36,  2, 15, 47,  8, 73, 26, 91, 17, 62])"
      ]
     },
     "execution_count": 43,
     "metadata": {},
     "output_type": "execute_result"
    }
   ],
   "source": [
    "n1 = rng.integers(1, 100, 10)\n",
    "n1"
   ]
  },
  {
   "cell_type": "code",
   "execution_count": 44,
   "id": "3caf752a-c175-4bbe-acc1-bd1700346ec7",
   "metadata": {},
   "outputs": [
    {
     "data": {
      "text/plain": [
       "array([False, False, False, False, False,  True, False,  True, False,\n",
       "        True])"
      ]
     },
     "execution_count": 44,
     "metadata": {},
     "output_type": "execute_result"
    }
   ],
   "source": [
    "n1 > 50 # return numpy.ndarray"
   ]
  },
  {
   "cell_type": "code",
   "execution_count": 45,
   "id": "b2f0dc06-cbc9-467d-8cba-46757b9c1d83",
   "metadata": {},
   "outputs": [
    {
     "data": {
      "text/plain": [
       "array([ True,  True, False, False,  True, False,  True, False, False,\n",
       "        True])"
      ]
     },
     "execution_count": 45,
     "metadata": {},
     "output_type": "execute_result"
    }
   ],
   "source": [
    "n1 % 2 == 0"
   ]
  },
  {
   "cell_type": "code",
   "execution_count": null,
   "id": "496873bb-e994-4169-a833-43a47cee05dd",
   "metadata": {},
   "outputs": [],
   "source": []
  },
  {
   "cell_type": "code",
   "execution_count": 46,
   "id": "87d49245-f090-4e9c-9895-b2798027504c",
   "metadata": {},
   "outputs": [
    {
     "data": {
      "text/plain": [
       "array([], dtype=int64)"
      ]
     },
     "execution_count": 46,
     "metadata": {},
     "output_type": "execute_result"
    }
   ],
   "source": [
    "mask_1 = np.in1d(n1, 83)\n",
    "n1[mask_1]"
   ]
  },
  {
   "cell_type": "code",
   "execution_count": 47,
   "id": "10ede957-3054-44ac-8554-ad9d675f71fd",
   "metadata": {},
   "outputs": [
    {
     "data": {
      "text/plain": [
       "array([ 1,  2,  3,  4,  5,  6,  7,  8,  9, 10, 11, 12, 13, 14, 15, 16, 17,\n",
       "       18, 19, 20])"
      ]
     },
     "execution_count": 47,
     "metadata": {},
     "output_type": "execute_result"
    }
   ],
   "source": [
    "ar1 = np.arange(1, 21)\n",
    "ar1"
   ]
  },
  {
   "cell_type": "code",
   "execution_count": 48,
   "id": "73f7078d-4d8c-487b-81ea-f9ce77a3c2d3",
   "metadata": {},
   "outputs": [
    {
     "data": {
      "text/plain": [
       "array([ 2,  4,  6,  8, 10, 12, 14, 16, 18, 20])"
      ]
     },
     "execution_count": 48,
     "metadata": {},
     "output_type": "execute_result"
    }
   ],
   "source": [
    "ar1[ar1 %2==0]"
   ]
  },
  {
   "cell_type": "code",
   "execution_count": 49,
   "id": "41f17a9b-3d59-4b9c-854c-eeaf350e57e0",
   "metadata": {},
   "outputs": [
    {
     "data": {
      "text/plain": [
       "array(['even', 'odd', 'even', 'odd', 'even', 'odd', 'even', 'odd', 'even',\n",
       "       'odd'], dtype='<U4')"
      ]
     },
     "execution_count": 49,
     "metadata": {},
     "output_type": "execute_result"
    }
   ],
   "source": [
    "even_odd = np.array(['even', 'odd'] * 5)\n",
    "even_odd"
   ]
  },
  {
   "cell_type": "code",
   "execution_count": 50,
   "id": "b0536b01-53a0-43b6-8046-c2e4c98b73a4",
   "metadata": {},
   "outputs": [
    {
     "data": {
      "text/plain": [
       "array([ True, False,  True, False,  True, False,  True, False,  True,\n",
       "       False])"
      ]
     },
     "execution_count": 50,
     "metadata": {},
     "output_type": "execute_result"
    }
   ],
   "source": [
    "even_odd != 'odd'"
   ]
  },
  {
   "cell_type": "code",
   "execution_count": 51,
   "id": "2af24ab2-05a7-4ebc-b3aa-cb1f6b3fee29",
   "metadata": {},
   "outputs": [
    {
     "data": {
      "text/plain": [
       "array([ 1,  2,  3,  4,  5,  6,  7,  8,  9, 10, 11, 12, 13, 14, 15, 16, 17,\n",
       "       18, 19, 20])"
      ]
     },
     "execution_count": 51,
     "metadata": {},
     "output_type": "execute_result"
    }
   ],
   "source": [
    "ar1"
   ]
  },
  {
   "cell_type": "code",
   "execution_count": 52,
   "id": "15f78cd2-b784-46b5-b856-f68befb02f83",
   "metadata": {},
   "outputs": [
    {
     "data": {
      "text/plain": [
       "array([ 0.33333333,  1.        ,  1.        ,  2.        ,  1.66666667,\n",
       "        3.        ,  2.33333333,  4.        ,  3.        ,  5.        ,\n",
       "        3.66666667,  6.        ,  4.33333333,  7.        ,  5.        ,\n",
       "        8.        ,  5.66666667,  9.        ,  6.33333333, 10.        ])"
      ]
     },
     "execution_count": 52,
     "metadata": {},
     "output_type": "execute_result"
    }
   ],
   "source": [
    "np.where(ar1 %2==0, ar1/2, ar1/3)"
   ]
  },
  {
   "cell_type": "code",
   "execution_count": null,
   "id": "4bc5d646-b9ea-4692-a0a6-5d1c532b3f56",
   "metadata": {},
   "outputs": [],
   "source": []
  },
  {
   "cell_type": "code",
   "execution_count": 53,
   "id": "43b43ff9-4b60-4abf-a268-b6e472975eda",
   "metadata": {},
   "outputs": [
    {
     "data": {
      "text/plain": [
       "array([ 1,  2,  3,  4,  5,  6,  7,  8,  9, 10, 11, 12, 13, 14, 15, 16, 17,\n",
       "       18, 19, 20])"
      ]
     },
     "execution_count": 53,
     "metadata": {},
     "output_type": "execute_result"
    }
   ],
   "source": [
    "ar1"
   ]
  },
  {
   "cell_type": "code",
   "execution_count": 54,
   "id": "653395a7-fd25-4244-b525-a4c279dc135d",
   "metadata": {},
   "outputs": [
    {
     "data": {
      "text/plain": [
       "array([19, 18, 17, 16, 15, 14, 13, 12, 11, 10,  9,  8,  7,  6,  5,  4,  3,\n",
       "        2,  1,  0])"
      ]
     },
     "execution_count": 54,
     "metadata": {},
     "output_type": "execute_result"
    }
   ],
   "source": [
    "ar2 = np.arange(19,-1, -1)\n",
    "ar2"
   ]
  },
  {
   "cell_type": "code",
   "execution_count": 55,
   "id": "43d3b3ba-8dfb-4e59-9926-654c0b93f22e",
   "metadata": {},
   "outputs": [
    {
     "data": {
      "text/plain": [
       "array([20, 20, 20, 20, 20, 20, 20, 20, 20, 20, 20, 20, 20, 20, 20, 20, 20,\n",
       "       20, 20, 20])"
      ]
     },
     "execution_count": 55,
     "metadata": {},
     "output_type": "execute_result"
    }
   ],
   "source": [
    "ar1 + ar2"
   ]
  },
  {
   "cell_type": "code",
   "execution_count": 56,
   "id": "628b322a-6cb4-4375-85c0-84a399d66eb2",
   "metadata": {},
   "outputs": [],
   "source": [
    "ar1.sort()"
   ]
  },
  {
   "cell_type": "code",
   "execution_count": null,
   "id": "3c6b0c24-829d-45f0-accb-dda6dff95199",
   "metadata": {},
   "outputs": [],
   "source": []
  },
  {
   "cell_type": "code",
   "execution_count": null,
   "id": "023c71d7-6533-4c97-8128-7b02fd1f3736",
   "metadata": {},
   "outputs": [],
   "source": []
  },
  {
   "cell_type": "code",
   "execution_count": 57,
   "id": "a426f077-94aa-44f7-9f19-1b473d5d5650",
   "metadata": {},
   "outputs": [
    {
     "name": "stdout",
     "output_type": "stream",
     "text": [
      "['apple' 10 list([1, 2, 3]) {'key': 'value'}]\n",
      "object\n"
     ]
    }
   ],
   "source": [
    "arr = np.array(['apple', 10, [1, 2, 3], {'key': 'value'}], dtype=object)\n",
    "\n",
    "print(arr)\n",
    "print(arr.dtype)"
   ]
  },
  {
   "cell_type": "code",
   "execution_count": null,
   "id": "71d34054-487b-4417-ae28-38e2e3ec00fd",
   "metadata": {},
   "outputs": [],
   "source": []
  },
  {
   "cell_type": "code",
   "execution_count": 81,
   "id": "5da2184c-2e80-417a-81b1-13af6b8148e4",
   "metadata": {},
   "outputs": [
    {
     "data": {
      "text/plain": [
       "array([89, 37,  8,  8, 29, 75, 46, 71, 80,  2])"
      ]
     },
     "execution_count": 81,
     "metadata": {},
     "output_type": "execute_result"
    }
   ],
   "source": [
    "unorder_arr = np.random.randint(1, 101, 10)\n",
    "unorder_arr"
   ]
  },
  {
   "cell_type": "code",
   "execution_count": 82,
   "id": "b83677cc-07da-41dd-a493-375ee7e25f54",
   "metadata": {},
   "outputs": [
    {
     "data": {
      "text/plain": [
       "array([ 2,  8,  8, 29, 37, 46, 71, 75, 80, 89])"
      ]
     },
     "execution_count": 82,
     "metadata": {},
     "output_type": "execute_result"
    }
   ],
   "source": [
    "unorder_arr.sort()\n",
    "unorder_arr"
   ]
  },
  {
   "cell_type": "code",
   "execution_count": 83,
   "id": "503b230d-12d4-4fc4-ba00-a5974122dde6",
   "metadata": {},
   "outputs": [
    {
     "data": {
      "text/plain": [
       "array([89, 80, 75, 71, 46, 37, 29,  8,  8,  2])"
      ]
     },
     "execution_count": 83,
     "metadata": {},
     "output_type": "execute_result"
    }
   ],
   "source": [
    "desc_arr = np.flip(unorder_arr)\n",
    "desc_arr"
   ]
  },
  {
   "cell_type": "code",
   "execution_count": 87,
   "id": "86498466-cd54-4078-a983-1a855c3e0e52",
   "metadata": {},
   "outputs": [],
   "source": [
    "l1=[1,2,3,4,5]\n",
    "l2=[6,7,8]"
   ]
  },
  {
   "cell_type": "code",
   "execution_count": 88,
   "id": "442d9dd4-7b89-41db-b672-2971f5049a6c",
   "metadata": {},
   "outputs": [
    {
     "data": {
      "text/plain": [
       "[(1, 6), (2, 7), (3, 8)]"
      ]
     },
     "execution_count": 88,
     "metadata": {},
     "output_type": "execute_result"
    }
   ],
   "source": [
    "list(zip(l1,l2))"
   ]
  },
  {
   "cell_type": "code",
   "execution_count": null,
   "id": "838c4477-aae7-4c2c-ab5c-bed95440d668",
   "metadata": {},
   "outputs": [],
   "source": []
  },
  {
   "cell_type": "markdown",
   "id": "e3be0e55-224a-46c6-9131-8db254d4aa75",
   "metadata": {},
   "source": [
    "### Vectorization"
   ]
  },
  {
   "cell_type": "code",
   "execution_count": 93,
   "id": "cb96ebb5-c264-40aa-a46c-37cf3e7195f6",
   "metadata": {},
   "outputs": [],
   "source": [
    "list1 = rng.integers(1, 1001, 1000)\n",
    "list2 = rng.integers(1, 1001, 1000)"
   ]
  },
  {
   "cell_type": "code",
   "execution_count": 95,
   "id": "095adefb-4d08-4c88-a7d8-ab11cfd9e598",
   "metadata": {},
   "outputs": [],
   "source": [
    "def for_loop_mutiply_arrays(array1, array2):\n",
    "    product_array = []\n",
    "    for n1, n2 in zip(array1, array2):\n",
    "        product_array.append(n1 * n2)\n",
    "    return product_array\n",
    "        "
   ]
  },
  {
   "cell_type": "code",
   "execution_count": 96,
   "id": "fcfc9c1a-127b-4286-8553-a3a9d168c985",
   "metadata": {},
   "outputs": [],
   "source": [
    "def multiply_arrays(array1, array2):\n",
    "    return array1 * array2"
   ]
  },
  {
   "cell_type": "code",
   "execution_count": 101,
   "id": "c033f8fb-db3a-48cb-b4b3-71669fb8d0c1",
   "metadata": {},
   "outputs": [
    {
     "name": "stdout",
     "output_type": "stream",
     "text": [
      "83.9 µs ± 1.78 µs per loop (mean ± std. dev. of 5 runs, 10,000 loops each)\n"
     ]
    }
   ],
   "source": [
    "%%timeit -r 5 -n 10000\n",
    "for_loop_mutiply_arrays(list1, list2)"
   ]
  },
  {
   "cell_type": "code",
   "execution_count": 102,
   "id": "21c6f64d-cdb2-425c-826c-736717501c84",
   "metadata": {},
   "outputs": [
    {
     "name": "stdout",
     "output_type": "stream",
     "text": [
      "728 ns ± 26.7 ns per loop (mean ± std. dev. of 5 runs, 10,000 loops each)\n"
     ]
    }
   ],
   "source": [
    "%%timeit -r 5 -n 10000\n",
    "multiply_arrays(list1, list2)"
   ]
  },
  {
   "cell_type": "code",
   "execution_count": null,
   "id": "1fcc9c54-6e04-4e47-8866-7e997c7a96e7",
   "metadata": {},
   "outputs": [],
   "source": []
  },
  {
   "cell_type": "markdown",
   "id": "24bc8fd6-99da-4dab-af4b-79b67b73fcc9",
   "metadata": {},
   "source": [
    "### BroadCasting"
   ]
  },
  {
   "cell_type": "code",
   "execution_count": 104,
   "id": "822ff261-9765-4894-a293-788627d08d64",
   "metadata": {},
   "outputs": [
    {
     "data": {
      "text/plain": [
       "array([[1, 2, 3],\n",
       "       [1, 2, 3],\n",
       "       [1, 2, 3]])"
      ]
     },
     "execution_count": 104,
     "metadata": {},
     "output_type": "execute_result"
    }
   ],
   "source": [
    "test_array = np.array([[1,2,3], [1,2,3], [1,2,3]])\n",
    "test_array"
   ]
  },
  {
   "cell_type": "code",
   "execution_count": 105,
   "id": "a81a281f-3c9e-49f2-847e-6e1afb177bbc",
   "metadata": {},
   "outputs": [
    {
     "data": {
      "text/plain": [
       "array([1, 2, 3])"
      ]
     },
     "execution_count": 105,
     "metadata": {},
     "output_type": "execute_result"
    }
   ],
   "source": [
    "test_array[0,:]"
   ]
  },
  {
   "cell_type": "code",
   "execution_count": 111,
   "id": "59af76a0-5204-49ee-b212-34a5a6639531",
   "metadata": {},
   "outputs": [
    {
     "data": {
      "text/plain": [
       "array([2, 2, 2])"
      ]
     },
     "execution_count": 111,
     "metadata": {},
     "output_type": "execute_result"
    }
   ],
   "source": [
    "test_array[:,1]"
   ]
  },
  {
   "cell_type": "code",
   "execution_count": 112,
   "id": "c4248f4d-9c7a-4d4a-9b43-04b01b4cc8bc",
   "metadata": {},
   "outputs": [
    {
     "data": {
      "text/plain": [
       "array([[2],\n",
       "       [2],\n",
       "       [2]])"
      ]
     },
     "execution_count": 112,
     "metadata": {},
     "output_type": "execute_result"
    }
   ],
   "source": [
    "test_array[:,1].reshape(3,1)"
   ]
  },
  {
   "cell_type": "code",
   "execution_count": 109,
   "id": "c5ecc739-19d6-4700-b43f-e26b1b391579",
   "metadata": {},
   "outputs": [
    {
     "data": {
      "text/plain": [
       "array([3, 4, 5])"
      ]
     },
     "execution_count": 109,
     "metadata": {},
     "output_type": "execute_result"
    }
   ],
   "source": [
    "test_array[0,:] + test_array[:,1]"
   ]
  },
  {
   "cell_type": "code",
   "execution_count": null,
   "id": "5e60ffcc-0c6f-4ca5-8fc5-fe82b197df8a",
   "metadata": {},
   "outputs": [],
   "source": []
  }
 ],
 "metadata": {
  "kernelspec": {
   "display_name": "Python 3 (ipykernel)",
   "language": "python",
   "name": "python3"
  },
  "language_info": {
   "codemirror_mode": {
    "name": "ipython",
    "version": 3
   },
   "file_extension": ".py",
   "mimetype": "text/x-python",
   "name": "python",
   "nbconvert_exporter": "python",
   "pygments_lexer": "ipython3",
   "version": "3.10.9"
  }
 },
 "nbformat": 4,
 "nbformat_minor": 5
}
