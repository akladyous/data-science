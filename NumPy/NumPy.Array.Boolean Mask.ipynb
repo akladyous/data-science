{
 "cells": [
  {
   "cell_type": "code",
   "execution_count": 1,
   "metadata": {},
   "outputs": [],
   "source": [
    "import numpy as np"
   ]
  },
  {
   "cell_type": "code",
   "execution_count": null,
   "metadata": {},
   "outputs": [],
   "source": []
  },
  {
   "cell_type": "code",
   "execution_count": 5,
   "metadata": {},
   "outputs": [
    {
     "name": "stdout",
     "output_type": "stream",
     "text": [
      "a1_20 :  [ 1  2  3  4  5  6  7  8  9 10 11 12 13 14 15 16 17 18 19 20]\n"
     ]
    }
   ],
   "source": [
    "a1_20 = np.array(range(1,21))\n",
    "print(\"a1_20 : \", a1_20)"
   ]
  },
  {
   "cell_type": "code",
   "execution_count": 26,
   "metadata": {},
   "outputs": [
    {
     "name": "stdout",
     "output_type": "stream",
     "text": [
      "a1_20_mask_even\n",
      " [False  True False  True False  True False  True False  True False  True\n",
      " False  True False  True False  True False  True]\n"
     ]
    }
   ],
   "source": [
    "a1_20_mask_even = 0 == (a1_20 % 2) # create mask\n",
    "print(\"a1_20_mask_even\\n\", a1_20_mask_even)"
   ]
  },
  {
   "cell_type": "code",
   "execution_count": 7,
   "metadata": {},
   "outputs": [
    {
     "name": "stdout",
     "output_type": "stream",
     "text": [
      "a1_20_mask_greater10\n",
      " [False False False False False False False False False False  True  True\n",
      "  True  True  True  True  True  True  True  True]\n"
     ]
    }
   ],
   "source": [
    "a1_20_mask_greater10 = a1_20 > 10\n",
    "print(\"a1_20_mask_greater10\\n\", a1_20_mask_greater10)\n"
   ]
  },
  {
   "cell_type": "code",
   "execution_count": 8,
   "metadata": {},
   "outputs": [
    {
     "name": "stdout",
     "output_type": "stream",
     "text": [
      "a1_20_even_greater10_mask1\n",
      " [False False False False False False False False False False False  True\n",
      " False  True False  True False  True False  True]\n",
      "[12 14 16 18 20]\n"
     ]
    }
   ],
   "source": [
    "a1_20_even_greater10_mask1=(a1_20 %2 == 0) & (a1_20 > 10) # create mask with 2 conditions\n",
    "print(\"a1_20_even_greater10_mask1\\n\", a1_20_even_greater10_mask1)\n",
    "print(a1_20[a1_20_even_greater10_mask1])"
   ]
  },
  {
   "cell_type": "code",
   "execution_count": 9,
   "metadata": {},
   "outputs": [
    {
     "name": "stdout",
     "output_type": "stream",
     "text": [
      "a1_20_even_greater10_mask2\n",
      " [False False False False False False False False False False False  True\n",
      " False  True False  True False  True False  True]\n",
      "[12 14 16 18 20]\n"
     ]
    }
   ],
   "source": [
    "a1_20_even_greater10_mask2 = np.logical_and(a1_20_mask_even, a1_20_mask_greater10)\n",
    "print(\"a1_20_even_greater10_mask2\\n\", a1_20_even_greater10_mask2)\n",
    "print(a1_20[a1_20_even_greater10_mask2])"
   ]
  },
  {
   "cell_type": "code",
   "execution_count": 10,
   "metadata": {},
   "outputs": [
    {
     "name": "stdout",
     "output_type": "stream",
     "text": [
      "a1_20_even_greater10_mask3\n",
      " [False False False False False False False False False False False  True\n",
      " False  True False  True False  True False  True]\n",
      "[12 14 16 18 20]\n"
     ]
    }
   ],
   "source": [
    "a1_20_even_greater10_mask3 = np.logical_and((a1_20 %2 == 0), (a1_20 > 10))\n",
    "print(\"a1_20_even_greater10_mask3\\n\", a1_20_even_greater10_mask3)\n",
    "print(a1_20[a1_20_even_greater10_mask3])\n"
   ]
  },
  {
   "cell_type": "code",
   "execution_count": 11,
   "metadata": {},
   "outputs": [
    {
     "name": "stdout",
     "output_type": "stream",
     "text": [
      "nuova array applicando il primo mask\n",
      " [ 2  4  6  8 10 12 14 16 18 20]\n"
     ]
    }
   ],
   "source": [
    "a1_20_even = a1_20[a1_20_mask_even] # create array from mask\n",
    "print(\"nuova array applicando il primo mask\\n\", a1_20_even)"
   ]
  },
  {
   "cell_type": "code",
   "execution_count": 12,
   "metadata": {},
   "outputs": [
    {
     "name": "stdout",
     "output_type": "stream",
     "text": [
      "nuova array applicando il secondo mask\n",
      " [12 14 16 18 20]\n"
     ]
    }
   ],
   "source": [
    "a1_20_even_greater10_1 = a1_20_even[a1_20_even > 10] # create array from array with it's condition\n",
    "print(\"nuova array applicando il secondo mask\\n\", a1_20_even_greater10_1)\n"
   ]
  },
  {
   "cell_type": "code",
   "execution_count": 13,
   "metadata": {},
   "outputs": [
    {
     "name": "stdout",
     "output_type": "stream",
     "text": [
      "array finale con 2 masks applicate\n",
      " [12 14 16 18 20]\n"
     ]
    }
   ],
   "source": [
    "a1_20_even_and_greater10 = a1_20[a1_20_even_greater10_mask3]\n",
    "print(\"array finale con 2 masks applicate\\n\", a1_20_even_and_greater10)"
   ]
  },
  {
   "cell_type": "markdown",
   "metadata": {},
   "source": []
  },
  {
   "cell_type": "code",
   "execution_count": 15,
   "metadata": {},
   "outputs": [
    {
     "data": {
      "text/plain": [
       "array([ 1,  2,  3,  4,  5,  6,  7,  8,  9, 10, 11, 12, 13, 14, 15, 16, 17,\n",
       "       18, 19, 20])"
      ]
     },
     "execution_count": 15,
     "metadata": {},
     "output_type": "execute_result"
    }
   ],
   "source": [
    "a1_20 = np.array(range(1,21))\n",
    "a1_20"
   ]
  },
  {
   "cell_type": "code",
   "execution_count": 16,
   "metadata": {},
   "outputs": [
    {
     "data": {
      "text/plain": [
       "array([False,  True, False,  True, False,  True, False,  True, False,\n",
       "        True, False,  True, False,  True, False,  True, False,  True,\n",
       "       False,  True])"
      ]
     },
     "execution_count": 16,
     "metadata": {},
     "output_type": "execute_result"
    }
   ],
   "source": [
    "a1_20_mask1_even = 0 ==  a1_20 % 2\n",
    "a1_20_mask1_even"
   ]
  },
  {
   "cell_type": "code",
   "execution_count": 17,
   "metadata": {},
   "outputs": [
    {
     "data": {
      "text/plain": [
       "array([False, False, False, False, False, False, False, False, False,\n",
       "       False,  True,  True,  True,  True,  True,  True,  True,  True,\n",
       "        True,  True])"
      ]
     },
     "execution_count": 17,
     "metadata": {},
     "output_type": "execute_result"
    }
   ],
   "source": [
    "a1_20_mask2_greater10 = a1_20 > 10\n",
    "a1_20_mask2_greater10"
   ]
  },
  {
   "cell_type": "code",
   "execution_count": 18,
   "metadata": {},
   "outputs": [
    {
     "data": {
      "text/plain": [
       "array([False, False, False, False, False, False, False, False, False,\n",
       "       False, False,  True, False,  True, False,  True, False,  True,\n",
       "       False,  True])"
      ]
     },
     "execution_count": 18,
     "metadata": {},
     "output_type": "execute_result"
    }
   ],
   "source": [
    "a1_20_mask1_mask2_operator = (a1_20 %2 == 0) & (a1_20>10)\n",
    "a1_20_mask1_mask2_operator"
   ]
  },
  {
   "cell_type": "code",
   "execution_count": 19,
   "metadata": {},
   "outputs": [
    {
     "data": {
      "text/plain": [
       "array([12, 14, 16, 18, 20])"
      ]
     },
     "execution_count": 19,
     "metadata": {},
     "output_type": "execute_result"
    }
   ],
   "source": [
    "a1_20 [a1_20_mask1_mask2_operator]"
   ]
  },
  {
   "cell_type": "code",
   "execution_count": 20,
   "metadata": {},
   "outputs": [],
   "source": [
    "a1_20_mask1_mask2_np_logical_and1 = np.logical_and((a1_20_mask1_even),(a1_20_mask2_greater10))"
   ]
  },
  {
   "cell_type": "code",
   "execution_count": 21,
   "metadata": {},
   "outputs": [
    {
     "data": {
      "text/plain": [
       "array([12, 14, 16, 18, 20])"
      ]
     },
     "execution_count": 21,
     "metadata": {},
     "output_type": "execute_result"
    }
   ],
   "source": [
    "a1_20[a1_20_mask1_mask2_np_logical_and1]"
   ]
  },
  {
   "cell_type": "code",
   "execution_count": 22,
   "metadata": {},
   "outputs": [],
   "source": [
    "a1_20_mask1_mask2_np_logical_and2 = np.logical_and((a1_20 %2 == 0), (a1_20 > 10))"
   ]
  },
  {
   "cell_type": "code",
   "execution_count": 23,
   "metadata": {},
   "outputs": [
    {
     "data": {
      "text/plain": [
       "array([12, 14, 16, 18, 20])"
      ]
     },
     "execution_count": 23,
     "metadata": {},
     "output_type": "execute_result"
    }
   ],
   "source": [
    "a1_20[a1_20_mask1_mask2_np_logical_and2]"
   ]
  },
  {
   "cell_type": "code",
   "execution_count": 24,
   "metadata": {},
   "outputs": [
    {
     "data": {
      "text/plain": [
       "array([15, 16, 17, 18, 19, 20])"
      ]
     },
     "execution_count": 24,
     "metadata": {},
     "output_type": "execute_result"
    }
   ],
   "source": [
    "a1_20[a1_20>14]"
   ]
  },
  {
   "cell_type": "code",
   "execution_count": 25,
   "metadata": {},
   "outputs": [
    {
     "data": {
      "text/plain": [
       "array([ 1,  2,  3,  4,  5,  6,  7,  8,  9, 10, 11, 12, 13, 14, 15, 16, 17,\n",
       "       18, 19, 20])"
      ]
     },
     "execution_count": 25,
     "metadata": {},
     "output_type": "execute_result"
    }
   ],
   "source": [
    "a1_20"
   ]
  },
  {
   "cell_type": "code",
   "execution_count": null,
   "metadata": {},
   "outputs": [],
   "source": []
  }
 ],
 "metadata": {
  "kernelspec": {
   "display_name": "Python 3",
   "language": "python",
   "name": "python3"
  },
  "language_info": {
   "codemirror_mode": {
    "name": "ipython",
    "version": 3
   },
   "file_extension": ".py",
   "mimetype": "text/x-python",
   "name": "python",
   "nbconvert_exporter": "python",
   "pygments_lexer": "ipython3",
   "version": "3.8.8"
  }
 },
 "nbformat": 4,
 "nbformat_minor": 4
}
