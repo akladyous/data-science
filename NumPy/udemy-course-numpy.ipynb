{
 "cells": [
  {
   "cell_type": "code",
   "execution_count": 1,
   "id": "f5cc1722-0a19-42ac-a24f-f5c8f499d88f",
   "metadata": {},
   "outputs": [],
   "source": [
    "import numpy as np"
   ]
  },
  {
   "cell_type": "code",
   "execution_count": 2,
   "id": "79568eac-4396-4406-bb70-03df6fcda96c",
   "metadata": {},
   "outputs": [],
   "source": [
    "arr1d = np.array([x for x in range(10)])"
   ]
  },
  {
   "cell_type": "code",
   "execution_count": 3,
   "id": "ab2094d8-ad28-4f21-aa3d-65ae08e70c06",
   "metadata": {},
   "outputs": [
    {
     "data": {
      "text/plain": [
       "array([0, 1, 2, 3, 4, 5, 6, 7, 8, 9])"
      ]
     },
     "execution_count": 3,
     "metadata": {},
     "output_type": "execute_result"
    }
   ],
   "source": [
    "arr1d"
   ]
  },
  {
   "cell_type": "code",
   "execution_count": 4,
   "id": "e50bac26-1408-4074-ab9f-7ef62f0c7860",
   "metadata": {},
   "outputs": [
    {
     "data": {
      "text/plain": [
       "1"
      ]
     },
     "execution_count": 4,
     "metadata": {},
     "output_type": "execute_result"
    }
   ],
   "source": [
    "arr1d.ndim"
   ]
  },
  {
   "cell_type": "code",
   "execution_count": 5,
   "id": "233422aa-9abd-40cb-a20e-9a8553d7a6cc",
   "metadata": {},
   "outputs": [
    {
     "data": {
      "text/plain": [
       "(10,)"
      ]
     },
     "execution_count": 5,
     "metadata": {},
     "output_type": "execute_result"
    }
   ],
   "source": [
    "arr1d.shape"
   ]
  },
  {
   "cell_type": "code",
   "execution_count": 6,
   "id": "0ef41511-8ff9-4ea8-8a6b-18c857edc91b",
   "metadata": {},
   "outputs": [
    {
     "data": {
      "text/plain": [
       "10"
      ]
     },
     "execution_count": 6,
     "metadata": {},
     "output_type": "execute_result"
    }
   ],
   "source": [
    "arr1d.size"
   ]
  },
  {
   "cell_type": "code",
   "execution_count": 7,
   "id": "461730d1-98f5-46b7-aa4d-26340d9148fb",
   "metadata": {},
   "outputs": [
    {
     "data": {
      "text/plain": [
       "dtype('int64')"
      ]
     },
     "execution_count": 7,
     "metadata": {},
     "output_type": "execute_result"
    }
   ],
   "source": [
    "arr1d.dtype"
   ]
  },
  {
   "cell_type": "code",
   "execution_count": 8,
   "id": "09791d94-820d-44a3-822a-d00021bb81af",
   "metadata": {},
   "outputs": [
    {
     "data": {
      "text/plain": [
       "array([[ 1,  2,  3,  4,  5],\n",
       "       [ 6,  7,  8,  9, 10]])"
      ]
     },
     "execution_count": 8,
     "metadata": {},
     "output_type": "execute_result"
    }
   ],
   "source": [
    "arr2d =  np.array([[1,2,3,4,5], [6,7,8,9,10]])\n",
    "arr2d"
   ]
  },
  {
   "cell_type": "code",
   "execution_count": 9,
   "id": "9764fcf6-1c46-4ce1-9109-990af9ac2091",
   "metadata": {},
   "outputs": [
    {
     "data": {
      "text/plain": [
       "2"
      ]
     },
     "execution_count": 9,
     "metadata": {},
     "output_type": "execute_result"
    }
   ],
   "source": [
    "arr2d.ndim"
   ]
  },
  {
   "cell_type": "code",
   "execution_count": 10,
   "id": "5dbc5c79-2354-4089-9da2-7fe4104cb17a",
   "metadata": {},
   "outputs": [
    {
     "data": {
      "text/plain": [
       "(2, 5)"
      ]
     },
     "execution_count": 10,
     "metadata": {},
     "output_type": "execute_result"
    }
   ],
   "source": [
    "arr2d.shape"
   ]
  },
  {
   "cell_type": "code",
   "execution_count": 11,
   "id": "9b61d0a3-e79d-46ad-a7f5-ff1473b1dc42",
   "metadata": {},
   "outputs": [
    {
     "data": {
      "text/plain": [
       "10"
      ]
     },
     "execution_count": 11,
     "metadata": {},
     "output_type": "execute_result"
    }
   ],
   "source": [
    "arr2d.size"
   ]
  },
  {
   "cell_type": "code",
   "execution_count": 12,
   "id": "77fcd535-5adc-4d68-bcf1-dc1daf5830ad",
   "metadata": {},
   "outputs": [
    {
     "data": {
      "text/plain": [
       "dtype('int64')"
      ]
     },
     "execution_count": 12,
     "metadata": {},
     "output_type": "execute_result"
    }
   ],
   "source": [
    "arr2d.dtype"
   ]
  },
  {
   "cell_type": "code",
   "execution_count": 13,
   "id": "b9f0c0dd-3a69-407d-a7e0-4be64cb14ae1",
   "metadata": {},
   "outputs": [
    {
     "data": {
      "text/plain": [
       "array([[ 1,  6],\n",
       "       [ 2,  7],\n",
       "       [ 3,  8],\n",
       "       [ 4,  9],\n",
       "       [ 5, 10]])"
      ]
     },
     "execution_count": 13,
     "metadata": {},
     "output_type": "execute_result"
    }
   ],
   "source": [
    "arr2d.T"
   ]
  },
  {
   "cell_type": "code",
   "execution_count": 14,
   "id": "661cd579-4912-4658-bc37-634e93917d98",
   "metadata": {},
   "outputs": [
    {
     "data": {
      "text/plain": [
       "(5, 2)"
      ]
     },
     "execution_count": 14,
     "metadata": {},
     "output_type": "execute_result"
    }
   ],
   "source": [
    "arr2d.T.shape"
   ]
  },
  {
   "cell_type": "markdown",
   "id": "b95a3e82-92ea-4caa-a230-8b82a26d8f8e",
   "metadata": {},
   "source": [
    "## Array Creation\n",
    "\n",
    "#### ones\n",
    "#### zeros\n",
    "#### arange\n",
    "#### linspace"
   ]
  },
  {
   "cell_type": "code",
   "execution_count": 15,
   "id": "53c77094-372f-46ef-a3eb-f53e72203271",
   "metadata": {},
   "outputs": [
    {
     "data": {
      "text/plain": [
       "array([1., 1., 1., 1.])"
      ]
     },
     "execution_count": 15,
     "metadata": {},
     "output_type": "execute_result"
    }
   ],
   "source": [
    "np.ones(4)"
   ]
  },
  {
   "cell_type": "code",
   "execution_count": 16,
   "id": "8fd81859-d569-4c5a-a860-89f6b014773c",
   "metadata": {},
   "outputs": [
    {
     "data": {
      "text/plain": [
       "array([[0., 0., 0., 0., 0.],\n",
       "       [0., 0., 0., 0., 0.]])"
      ]
     },
     "execution_count": 16,
     "metadata": {},
     "output_type": "execute_result"
    }
   ],
   "source": [
    "np.zeros((2,5))"
   ]
  },
  {
   "cell_type": "code",
   "execution_count": 17,
   "id": "58c7b742-37ee-411e-b3a8-4c83e4d4294d",
   "metadata": {},
   "outputs": [
    {
     "data": {
      "text/plain": [
       "array([0, 1, 2, 3, 4, 5, 6, 7, 8, 9])"
      ]
     },
     "execution_count": 17,
     "metadata": {},
     "output_type": "execute_result"
    }
   ],
   "source": [
    "np.arange(10)"
   ]
  },
  {
   "cell_type": "code",
   "execution_count": 18,
   "id": "228318f0-dac6-4231-b3f1-f8713cbbfda7",
   "metadata": {},
   "outputs": [
    {
     "data": {
      "text/plain": [
       "array([ 1.  , 13.25, 25.5 , 37.75, 50.  ])"
      ]
     },
     "execution_count": 18,
     "metadata": {},
     "output_type": "execute_result"
    }
   ],
   "source": [
    "np.linspace(1, 50, 5)"
   ]
  },
  {
   "cell_type": "code",
   "execution_count": 19,
   "id": "3c03c86c-788d-45d8-b7da-0ebeb84f8909",
   "metadata": {},
   "outputs": [
    {
     "data": {
      "text/plain": [
       "array([[ 0,  1,  2,  3,  4],\n",
       "       [ 5,  6,  7,  8,  9],\n",
       "       [10, 11, 12, 13, 14]])"
      ]
     },
     "execution_count": 19,
     "metadata": {},
     "output_type": "execute_result"
    }
   ],
   "source": [
    "np.arange(15).reshape(3,5)"
   ]
  },
  {
   "cell_type": "code",
   "execution_count": null,
   "id": "065bfe7d-d9b9-4c06-bd87-11e2723a5056",
   "metadata": {},
   "outputs": [],
   "source": []
  },
  {
   "cell_type": "code",
   "execution_count": 33,
   "id": "c66dcd16-d75d-41a7-8675-6c0f130f68c0",
   "metadata": {},
   "outputs": [
    {
     "data": {
      "text/plain": [
       "array([0.04163222, 0.09369864, 0.10147996, 0.11112152, 0.38167364,\n",
       "       0.63360001, 0.7019312 , 0.70479605, 0.73543922, 0.79266775])"
      ]
     },
     "execution_count": 33,
     "metadata": {},
     "output_type": "execute_result"
    }
   ],
   "source": [
    "rng = np.random.default_rng(2310)\n",
    "random_10 = rng.random(10)\n",
    "np.sort(random_10)"
   ]
  },
  {
   "cell_type": "code",
   "execution_count": 39,
   "id": "d1c44919-ab10-49d5-98b6-e9c53b2ce98e",
   "metadata": {},
   "outputs": [
    {
     "data": {
      "text/plain": [
       "array([13, 36, 76, 78, 29, 95, 19, 73,  5,  3])"
      ]
     },
     "execution_count": 39,
     "metadata": {},
     "output_type": "execute_result"
    }
   ],
   "source": [
    "rng.integers(1, 100, 10)"
   ]
  },
  {
   "cell_type": "code",
   "execution_count": 64,
   "id": "62e13375-4cb8-43da-985d-f54d8f2f12df",
   "metadata": {},
   "outputs": [
    {
     "data": {
      "text/plain": [
       "array([9.67, 1.7 , 1.12, 3.55, 5.42, 4.6 , 9.51, 2.58, 7.57, 3.7 ])"
      ]
     },
     "execution_count": 64,
     "metadata": {},
     "output_type": "execute_result"
    }
   ],
   "source": [
    "price_list = ( rng.random(10) * 10 ).round(2)\n",
    "price_list"
   ]
  },
  {
   "cell_type": "code",
   "execution_count": 68,
   "id": "24850c96-0849-4181-97c7-a6a1399c8568",
   "metadata": {},
   "outputs": [
    {
     "data": {
      "text/plain": [
       "array([9.67, 5.42, 9.51, 7.57])"
      ]
     },
     "execution_count": 68,
     "metadata": {},
     "output_type": "execute_result"
    }
   ],
   "source": [
    "price_list[price_list > 5]"
   ]
  },
  {
   "cell_type": "code",
   "execution_count": 69,
   "id": "7530bf32-2454-4b8a-9680-dfadf2fdcc32",
   "metadata": {},
   "outputs": [
    {
     "data": {
      "text/plain": [
       "array([1.7 , 1.12, 3.55, 4.6 , 2.58, 3.7 ])"
      ]
     },
     "execution_count": 69,
     "metadata": {},
     "output_type": "execute_result"
    }
   ],
   "source": [
    "price_list[price_list < 5]"
   ]
  },
  {
   "cell_type": "code",
   "execution_count": 71,
   "id": "fbbdf19e-ce01-414d-b132-9c4bf5aa779b",
   "metadata": {},
   "outputs": [
    {
     "data": {
      "text/plain": [
       "array([9.67, 1.7 , 1.12, 3.55, 5.42, 4.6 , 9.51, 2.58, 7.57, 3.7 ])"
      ]
     },
     "execution_count": 71,
     "metadata": {},
     "output_type": "execute_result"
    }
   ],
   "source": [
    "price_list"
   ]
  },
  {
   "cell_type": "code",
   "execution_count": 72,
   "id": "9f5ae6c0-3cbe-41ca-bf4d-34755dc779a3",
   "metadata": {},
   "outputs": [
    {
     "data": {
      "text/plain": [
       "array([ 0,  1,  2,  3,  4,  5,  6,  7,  8,  9, 10, 11, 12, 13, 14, 15, 16,\n",
       "       17, 18, 19])"
      ]
     },
     "execution_count": 72,
     "metadata": {},
     "output_type": "execute_result"
    }
   ],
   "source": [
    "range_of_20 = np.arange(20)\n",
    "range_of_20"
   ]
  },
  {
   "cell_type": "code",
   "execution_count": 74,
   "id": "0d405151-92bb-4235-a22a-60ae5c276dc9",
   "metadata": {},
   "outputs": [
    {
     "data": {
      "text/plain": [
       "array([ True, False,  True, False,  True, False,  True, False,  True,\n",
       "       False,  True, False,  True, False,  True, False,  True, False,\n",
       "        True, False])"
      ]
     },
     "execution_count": 74,
     "metadata": {},
     "output_type": "execute_result"
    }
   ],
   "source": [
    "range_of_20 % 2 == 0"
   ]
  },
  {
   "cell_type": "code",
   "execution_count": 73,
   "id": "03365e3d-91ce-46ca-8d7a-96012fbb444f",
   "metadata": {},
   "outputs": [
    {
     "data": {
      "text/plain": [
       "array([ 0,  2,  4,  6,  8, 10, 12, 14, 16, 18])"
      ]
     },
     "execution_count": 73,
     "metadata": {},
     "output_type": "execute_result"
    }
   ],
   "source": [
    "# range_of_20_even = \n",
    "range_of_20[range_of_20 % 2 == 0]"
   ]
  },
  {
   "cell_type": "code",
   "execution_count": null,
   "id": "839de0de-a69f-4932-a4b7-00fa843b71aa",
   "metadata": {},
   "outputs": [],
   "source": []
  },
  {
   "cell_type": "code",
   "execution_count": 75,
   "id": "a950b6ad-1921-4c2c-a234-082e40fcffc4",
   "metadata": {},
   "outputs": [
    {
     "data": {
      "text/plain": [
       "array(['even', 'odd', 'even', 'odd', 'even', 'odd', 'even', 'odd', 'even',\n",
       "       'odd', 'even', 'odd', 'even', 'odd', 'even', 'odd', 'even', 'odd',\n",
       "       'even', 'odd'], dtype='<U4')"
      ]
     },
     "execution_count": 75,
     "metadata": {},
     "output_type": "execute_result"
    }
   ],
   "source": [
    "np.where(range_of_20 % 2 == 0, \"even\", \"odd\")"
   ]
  },
  {
   "cell_type": "code",
   "execution_count": null,
   "id": "8d392625-d6b7-4110-bd4a-c5672e475f19",
   "metadata": {},
   "outputs": [],
   "source": []
  },
  {
   "cell_type": "code",
   "execution_count": null,
   "id": "2adeac85-e8c0-48cd-9a2e-cfb087190d24",
   "metadata": {},
   "outputs": [],
   "source": []
  }
 ],
 "metadata": {
  "kernelspec": {
   "display_name": "Python 3 (ipykernel)",
   "language": "python",
   "name": "python3"
  },
  "language_info": {
   "codemirror_mode": {
    "name": "ipython",
    "version": 3
   },
   "file_extension": ".py",
   "mimetype": "text/x-python",
   "name": "python",
   "nbconvert_exporter": "python",
   "pygments_lexer": "ipython3",
   "version": "3.10.8"
  }
 },
 "nbformat": 4,
 "nbformat_minor": 5
}
