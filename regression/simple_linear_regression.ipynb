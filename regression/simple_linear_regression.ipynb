{
 "cells": [
  {
   "cell_type": "code",
   "execution_count": 2,
   "metadata": {},
   "outputs": [],
   "source": [
    "import numpy as np\n",
    "import pandas as pd\n",
    "import matplotlib.pyplot as plt\n",
    "import seaborn as sns\n",
    "from scipy import stats\n",
    "import sklearn.metrics as metrics\n",
    "import statsmodels.api as sm\n",
    "\n",
    "%matplotlib inline"
   ]
  },
  {
   "cell_type": "code",
   "execution_count": 41,
   "metadata": {},
   "outputs": [],
   "source": [
    "def best_line(X, Y):\n",
    "    \"\"\"This function plots the best-fit line for a group of datapoints broken into\n",
    "    a set of independent variable values (X) and a set of dependent variable values (Y)\n",
    "    \"\"\"\n",
    "    import numpy as np\n",
    "    from matplotlib import pyplot as plt\n",
    "\n",
    "    X_bar = np.mean(X)\n",
    "    Y_bar = np.mean(Y)\n",
    "\n",
    "    X_diffs = np.asarray([i - X_bar for i in X])\n",
    "    Y_diffs = np.asarray([i - Y_bar for i in Y])\n",
    "\n",
    "    num = X_diffs.dot(Y_diffs)\n",
    "\n",
    "    denom = np.sqrt((X_diffs**2).sum() * (Y_diffs**2).sum())\n",
    "\n",
    "    r_pearson = num / denom\n",
    "\n",
    "    beta_1 = r_pearson * Y_diffs.std() / X_diffs.std()\n",
    "\n",
    "    beta_0 = Y_bar - beta_1 * X_bar\n",
    "\n",
    "    Xs = np.linspace(np.min(X), np.max(X), 100)\n",
    "    Ys = beta_1 * Xs + beta_0\n",
    "\n",
    "    fig, ax = plt.subplots()\n",
    "    ax.plot(X, Y, \"ro\", label=\"datapoints\")\n",
    "    ax.plot(Xs, Ys, \"k\", label=f\"y={round(beta_1, 2)}x+{round(beta_0, 2)}\")\n",
    "    plt.legend()\n",
    "    plt.show()"
   ]
  },
  {
   "cell_type": "code",
   "execution_count": 40,
   "metadata": {},
   "outputs": [
    {
     "data": {
      "text/html": [
       "<div>\n",
       "<style scoped>\n",
       "    .dataframe tbody tr th:only-of-type {\n",
       "        vertical-align: middle;\n",
       "    }\n",
       "\n",
       "    .dataframe tbody tr th {\n",
       "        vertical-align: top;\n",
       "    }\n",
       "\n",
       "    .dataframe thead th {\n",
       "        text-align: right;\n",
       "    }\n",
       "</style>\n",
       "<table border=\"1\" class=\"dataframe\">\n",
       "  <thead>\n",
       "    <tr style=\"text-align: right;\">\n",
       "      <th></th>\n",
       "      <th>Age</th>\n",
       "      <th>CigarettesPerDay</th>\n",
       "    </tr>\n",
       "  </thead>\n",
       "  <tbody>\n",
       "    <tr>\n",
       "      <th>0</th>\n",
       "      <td>58.0</td>\n",
       "      <td>9</td>\n",
       "    </tr>\n",
       "    <tr>\n",
       "      <th>1</th>\n",
       "      <td>44.0</td>\n",
       "      <td>12</td>\n",
       "    </tr>\n",
       "    <tr>\n",
       "      <th>2</th>\n",
       "      <td>50.0</td>\n",
       "      <td>11</td>\n",
       "    </tr>\n",
       "    <tr>\n",
       "      <th>3</th>\n",
       "      <td>62.0</td>\n",
       "      <td>6</td>\n",
       "    </tr>\n",
       "    <tr>\n",
       "      <th>4</th>\n",
       "      <td>59.0</td>\n",
       "      <td>11</td>\n",
       "    </tr>\n",
       "  </tbody>\n",
       "</table>\n",
       "</div>"
      ],
      "text/plain": [
       "    Age  CigarettesPerDay\n",
       "0  58.0                 9\n",
       "1  44.0                12\n",
       "2  50.0                11\n",
       "3  62.0                 6\n",
       "4  59.0                11"
      ]
     },
     "execution_count": 40,
     "metadata": {},
     "output_type": "execute_result"
    }
   ],
   "source": [
    "np.random.seed(0)\n",
    "\n",
    "num_samples = 100\n",
    "age = np.random.normal(loc=40, scale=10, size=num_samples).round(0)\n",
    "cigarettes_per_day = np.random.poisson(lam=10, size=num_samples)\n",
    "\n",
    "smoking_data = pd.DataFrame( {\"Age\": age, \"CigarettesPerDay\": cigarettes_per_day} )\n",
    "# smoking_data.to_csv(\"smoking_data.csv\", index=False)\n",
    "\n",
    "smoking_data.head()"
   ]
  },
  {
   "cell_type": "code",
   "execution_count": 42,
   "metadata": {},
   "outputs": [
    {
     "data": {
      "image/png": "[encoded data removed]",
      "text/plain": [
       "<Figure size 640x480 with 1 Axes>"
      ]
     },
     "metadata": {},
     "output_type": "display_data"
    }
   ],
   "source": [
    "best_line(smoking_data[\"Age\"], smoking_data[\"CigarettesPerDay\"])"
   ]
  },
  {
   "cell_type": "code",
   "execution_count": null,
   "metadata": {},
   "outputs": [],
   "source": []
  },
  {
   "cell_type": "markdown",
   "metadata": {},
   "source": [
    "Sure, let's walk through how Ordinary Least Squares (OLS) regression works mathematically using the provided data:\n",
    "\n",
    "```python\n",
    "ages = np.array([20, 25, 30, 35, 40])\n",
    "cigarettes_per_day = np.array([10, 15, 20, 25, 30])\n",
    "```\n",
    "\n",
    "1. **Define the model**: In simple linear regression, the model is represented as:\n",
    "\n",
    "   $[ Y = \\beta_0 + \\beta_1 X + \\epsilon ]$\n",
    "\n",
    "   Where:\n",
    "   - $ ( Y )$ is the dependent variable (cigarettes per day),\n",
    "   - $ ( X )$ is the independent variable (ages),\n",
    "   - $ ( \\beta_0 )$ is the y-intercept (constant term),\n",
    "   - $ ( \\beta_1 )$ is the slope (coefficient of the independent variable),\n",
    "   - $ ( \\epsilon )$ is the error term.\n",
    "\n",
    "2. **Calculate the mean of X and Y**:\n",
    "   $[ \\bar{X} = \\frac{1}{n} \\sum_{i=1}^{n} X_i ]$\n",
    "    \n",
    "   $[ \\bar{Y} = \\frac{1}{n} \\sum_{i=1}^{n} Y_i ]$\n",
    "\n",
    "   For our data:\n",
    "   \n",
    "   $[ \\bar{X} = \\frac{20 + 25 + 30 + 35 + 40}{5} = 30 ]$\n",
    "   \n",
    "   $[ \\bar{Y} = \\frac{10 + 15 + 20 + 25 + 30}{5} = 20 ]$\n",
    "\n",
    "3. **Calculate the slope (β1)**:\n",
    "\n",
    "   $[ \\beta_1 = \\frac{\\sum_{i=1}^{n} (X_i - \\bar{X})(Y_i - \\bar{Y})}{\\sum_{i=1}^{n} (X_i - \\bar{X})^2} ]$\n",
    "\n",
    "   Substituting the values:\n",
    "\n",
    "   $[ \\beta_1 = \\frac{(20-30)(10-20) + (25-30)(15-20) + (30-30)(20-20) + (35-30)(25-20) + (40-30)(30-20)}{(20-30)^2 + (25-30)^2 + (30-30)^2 + (35-30)^2 + (40-30)^2} ]$\n",
    "\n",
    "   Simplifying, we get:\n",
    "\n",
    "   $[ \\beta_1 = \\frac{-100 + (-5)(-5) + 0 + 5(5) + 100}{100 + 25 + 0 + 25 + 100} = \\frac{50}{125} = 0.4 ]$\n",
    "\n",
    "4. **Calculate the y-intercept (β0)**:\n",
    "\n",
    "   $[ \\beta_0 = \\bar{Y} - \\beta_1 \\bar{X} ]$\n",
    "\n",
    "   Substituting the values:\n",
    "   \n",
    "   $[ \\beta_0 = 20 - 0.4 \\times 30 = 20 - 12 = 8 ]$\n",
    "\n",
    "5. **Fit the regression line**:\n",
    "   Now we have the estimated values of \\( \\beta_0 \\) and \\( \\beta_1 \\), so the regression line equation is:\n",
    "   $[ \\text{Cigarettes per day} = 0.4 \\times \\text{Age} + 8 ]$\n",
    "\n",
    "   This line represents the best linear fit to the given data points."
   ]
  },
  {
   "cell_type": "code",
   "execution_count": null,
   "metadata": {},
   "outputs": [],
   "source": []
  },
  {
   "cell_type": "code",
   "execution_count": null,
   "metadata": {},
   "outputs": [],
   "source": []
  },
  {
   "cell_type": "code",
   "execution_count": null,
   "metadata": {},
   "outputs": [],
   "source": []
  }
 ],
 "metadata": {
  "kernelspec": {
   "display_name": "data-science-46F3XxfD",
   "language": "python",
   "name": "python3"
  },
  "language_info": {
   "codemirror_mode": {
    "name": "ipython",
    "version": 3
   },
   "file_extension": ".py",
   "mimetype": "text/x-python",
   "name": "python",
   "nbconvert_exporter": "python",
   "pygments_lexer": "ipython3",
   "version": "3.12.1"
  }
 },
 "nbformat": 4,
 "nbformat_minor": 2
}
