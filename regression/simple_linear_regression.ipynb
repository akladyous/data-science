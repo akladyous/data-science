{
 "cells": [
  {
   "cell_type": "code",
   "execution_count": 1,
   "metadata": {},
   "outputs": [],
   "source": [
    "import numpy as np\n",
    "import pandas as pd\n",
    "import matplotlib.pyplot as plt\n",
    "import seaborn as sns\n",
    "from scipy import stats\n",
    "import sklearn.metrics as metrics\n",
    "import statsmodels.api as sm\n",
    "\n",
    "%matplotlib inline"
   ]
  },
  {
   "cell_type": "code",
   "execution_count": 2,
   "metadata": {},
   "outputs": [],
   "source": [
    "def best_line(X, Y):\n",
    "    \"\"\"This function plots the best-fit line for a group of datapoints broken into\n",
    "    a set of independent variable values (X) and a set of dependent variable values (Y)\n",
    "    \"\"\"\n",
    "    import numpy as np\n",
    "    from matplotlib import pyplot as plt\n",
    "\n",
    "    X_bar = np.mean(X)\n",
    "    Y_bar = np.mean(Y)\n",
    "\n",
    "    X_diffs = np.asarray([i - X_bar for i in X])\n",
    "    Y_diffs = np.asarray([i - Y_bar for i in Y])\n",
    "\n",
    "    num = X_diffs.dot(Y_diffs)\n",
    "\n",
    "    denom = np.sqrt((X_diffs**2).sum() * (Y_diffs**2).sum())\n",
    "\n",
    "    r_pearson = num / denom\n",
    "\n",
    "    beta_1 = r_pearson * Y_diffs.std() / X_diffs.std()\n",
    "\n",
    "    beta_0 = Y_bar - beta_1 * X_bar\n",
    "\n",
    "    Xs = np.linspace(np.min(X), np.max(X), 100)\n",
    "    Ys = beta_1 * Xs + beta_0\n",
    "\n",
    "    fig, ax = plt.subplots()\n",
    "    ax.plot(X, Y, \"ro\", label=\"datapoints\")\n",
    "    ax.plot(Xs, Ys, \"k\", label=f\"y={round(beta_1, 2)}x+{round(beta_0, 2)}\")\n",
    "    plt.legend()\n",
    "    plt.show()"
   ]
  },
  {
   "cell_type": "markdown",
   "metadata": {},
   "source": [
    "Yes, the equations you provided are indeed related to ordinary least squares (OLS) linear regression. Let me break it down:\n",
    "\n",
    "1. **Slope (m):**\n",
    "   - The formula you provided for the slope is:\n",
    "     $[ m = r_P \\times \\frac{\\sigma_y}{\\sigma_x} = \\frac{{\\text{cov}(X, Y)}}{{\\text{var}(X)}} ]$\n",
    "   - Here, $( r_P )$ represents the Pearson correlation coefficient between the variables X and Y, while $( \\sigma_y )$ and $( \\sigma_x )$ represent the standard deviations of Y and X, respectively. \n",
    "   - This formula represents the slope of the best-fit line in terms of the relationship between the variables X and Y. In OLS regression, this slope is estimated based on the covariance and variance of the variables.\n",
    "\n",
    "2. **Y-intercept (b):**\n",
    "   - The formula you provided for the y-intercept is:\n",
    "     $[ b = \\mu_y - m\\mu_x ]$\n",
    "   - Here, $( \\mu_y )$ and $( \\mu_x )$ represent the means of Y and X, respectively. \n",
    "   - This formula represents the y-intercept of the best-fit line in terms of the means of the variables X and Y, along with the slope $( m )$ calculated previously.\n",
    "\n",
    "These equations are indeed fundamental to linear regression and are used in OLS regression to estimate the parameters of the regression line that best fits the given data points."
   ]
  },
  {
   "cell_type": "markdown",
   "metadata": {},
   "source": [
    "Sure, let's walk through how Ordinary Least Squares (OLS) regression works mathematically using the provided data:\n",
    "\n",
    "```python\n",
    "ages = np.array([20, 25, 30, 35, 40])\n",
    "cigarettes_per_day = np.array([10, 15, 20, 25, 30])\n",
    "```\n",
    "\n",
    "1. **Define the model**: In simple linear regression, the model is represented as:\n",
    "\n",
    "   $[ Y = \\beta_0 + \\beta_1 X + \\epsilon ]$\n",
    "\n",
    "   Where:\n",
    "   - $ ( Y )$ is the dependent variable (cigarettes per day),\n",
    "   - $ ( X )$ is the independent variable (ages),\n",
    "   - $ ( \\beta_0 )$ is the y-intercept (constant term),\n",
    "   - $ ( \\beta_1 )$ is the slope (coefficient of the independent variable),\n",
    "   - $ ( \\epsilon )$ is the error term.\n",
    "\n",
    "2. **Calculate the mean of X and Y**:\n",
    "   $[ \\bar{X} = \\frac{1}{n} \\sum_{i=1}^{n} X_i ]$\n",
    "    \n",
    "   $[ \\bar{Y} = \\frac{1}{n} \\sum_{i=1}^{n} Y_i ]$\n",
    "\n",
    "   For our data:\n",
    "   \n",
    "   $[ \\bar{X} = \\frac{20 + 25 + 30 + 35 + 40}{5} = 30 ]$\n",
    "   \n",
    "   $[ \\bar{Y} = \\frac{10 + 15 + 20 + 25 + 30}{5} = 20 ]$\n",
    "\n",
    "3. **Calculate the slope (β1)**:\n",
    "\n",
    "   $[ \\beta_1 = \\frac{\\sum_{i=1}^{n} (X_i - \\bar{X})(Y_i - \\bar{Y})}{\\sum_{i=1}^{n} (X_i - \\bar{X})^2} ]$\n",
    "\n",
    "   Substituting the values:\n",
    "\n",
    "   $[ \\beta_1 = \\frac{(20-30)(10-20) + (25-30)(15-20) + (30-30)(20-20) + (35-30)(25-20) + (40-30)(30-20)}{(20-30)^2 + (25-30)^2 + (30-30)^2 + (35-30)^2 + (40-30)^2} ]$\n",
    "\n",
    "   Simplifying, we get:\n",
    "\n",
    "   $[ \\beta_1 = \\frac{-100 + (-5)(-5) + 0 + 5(5) + 100}{100 + 25 + 0 + 25 + 100} = \\frac{50}{125} = 0.4 ]$\n",
    "\n",
    "4. **Calculate the y-intercept (β0)**:\n",
    "\n",
    "   $[ \\beta_0 = \\bar{Y} - \\beta_1 \\bar{X} ]$\n",
    "\n",
    "   Substituting the values:\n",
    "   \n",
    "   $[ \\beta_0 = 20 - 0.4 \\times 30 = 20 - 12 = 8 ]$\n",
    "\n",
    "5. **Fit the regression line**:\n",
    "   Now we have the estimated values of $( \\beta_0 )$ and \\( \\beta_1 \\), so the regression line equation is:\n",
    "   $[ \\text{Cigarettes per day} = 0.4 \\times \\text{Age} + 8 ]$\n",
    "\n",
    "   This line represents the best linear fit to the given data points."
   ]
  },
  {
   "cell_type": "code",
   "execution_count": 3,
   "metadata": {},
   "outputs": [
    {
     "name": "stdout",
     "output_type": "stream",
     "text": [
      "                            OLS Regression Results                            \n",
      "==============================================================================\n",
      "Dep. Variable:       CigarettesPerDay   R-squared:                       0.032\n",
      "Model:                            OLS   Adj. R-squared:                  0.022\n",
      "Method:                 Least Squares   F-statistic:                     3.271\n",
      "Date:                Thu, 22 Feb 2024   Prob (F-statistic):             0.0736\n",
      "Time:                        11:30:27   Log-Likelihood:                -246.93\n",
      "No. Observations:                 100   AIC:                             497.9\n",
      "Df Residuals:                      98   BIC:                             503.1\n",
      "Df Model:                           1                                         \n",
      "Covariance Type:            nonrobust                                         \n",
      "==============================================================================\n",
      "                 coef    std err          t      P>|t|      [0.025      0.975]\n",
      "------------------------------------------------------------------------------\n",
      "const          7.9776      1.193      6.690      0.000       5.611      10.344\n",
      "Age            0.0515      0.028      1.808      0.074      -0.005       0.108\n",
      "==============================================================================\n",
      "Omnibus:                        0.360   Durbin-Watson:                   1.948\n",
      "Prob(Omnibus):                  0.835   Jarque-Bera (JB):                0.103\n",
      "Skew:                          -0.059   Prob(JB):                        0.950\n",
      "Kurtosis:                       3.105   Cond. No.                         173.\n",
      "==============================================================================\n",
      "\n",
      "Notes:\n",
      "[1] Standard Errors assume that the covariance matrix of the errors is correctly specified.\n"
     ]
    },
    {
     "data": {
      "image/png": "[encoded data removed]",
      "text/plain": [
       "<Figure size 640x480 with 1 Axes>"
      ]
     },
     "metadata": {},
     "output_type": "display_data"
    }
   ],
   "source": [
    "np.random.seed(0)\n",
    "num_samples = 100\n",
    "age = np.random.normal(loc=40, scale=10, size=num_samples).round(0)\n",
    "cigarettes_per_day = np.random.poisson(lam=10, size=num_samples)\n",
    "smoking_data = pd.DataFrame({\"Age\": age, \"CigarettesPerDay\": cigarettes_per_day})\n",
    "\n",
    "# Perform linear regression\n",
    "X = smoking_data[\"Age\"]\n",
    "y = smoking_data[\"CigarettesPerDay\"]\n",
    "X = sm.add_constant(X)  # Add a constant term to the predictor\n",
    "model = sm.OLS(y, X).fit()  # Fit the ordinary least squares (OLS) model\n",
    "y_pred = model.predict(X)\n",
    "\n",
    "print(model.summary())  # Print the summary of the model\n",
    "\n",
    "# Plot the data and the regression line\n",
    "plt.scatter(age, cigarettes_per_day, label=\"Data\")\n",
    "plt.plot(age, y_pred, color=\"red\", label=\"OLS Regression Line\")\n",
    "plt.xlabel(\"Age\")\n",
    "plt.ylabel(\"Cigarettes Per Day\")\n",
    "plt.title(\"Linear Regression: Age vs. Cigarettes Per Day\")\n",
    "plt.legend()\n",
    "plt.show()"
   ]
  },
  {
   "cell_type": "markdown",
   "metadata": {},
   "source": [
    "In the summary table printed by `model.summary()`, there are several statistics that can be used to assess the performance and goodness of fit of the linear regression model. Here are some of the key metrics commonly used for this purpose:\n",
    "\n",
    "1. **R-squared (R²):** This statistic measures the proportion of the variance in the dependent variable (cigarettes per day) that is explained by the independent variable (age). A higher R-squared value indicates a better fit of the model to the data.\n",
    "\n",
    "2. **Adjusted R-squared:** This is a modified version of R-squared that takes into account the number of predictors in the model. It penalizes the addition of unnecessary predictors and is especially useful when comparing models with different numbers of predictors.\n",
    "\n",
    "3. **F-statistic and Prob (F-statistic):** The F-statistic tests the overall significance of the regression model. A low p-value (Prob (F-statistic)) indicates that at least one of the independent variables is significantly related to the dependent variable.\n",
    "\n",
    "4. **Root Mean Squared Error (RMSE):** This is the square root of the mean of the squared differences between the observed and predicted values. It provides a measure of the average deviation of the predicted values from the actual values. A lower RMSE indicates better model performance.\n",
    "\n",
    "5. **AIC and BIC:** Akaike Information Criterion (AIC) and Bayesian Information Criterion (BIC) are measures of the relative quality of statistical models. Lower values of AIC and BIC indicate better model fit, with penalization for model complexity.\n",
    "\n",
    "You can use these metrics to evaluate the performance of the linear regression model and determine how well it captures the relationship between age and cigarettes per day in the dataset."
   ]
  },
  {
   "cell_type": "code",
   "execution_count": null,
   "metadata": {},
   "outputs": [],
   "source": []
  },
  {
   "cell_type": "markdown",
   "metadata": {},
   "source": []
  },
  {
   "cell_type": "code",
   "execution_count": null,
   "metadata": {},
   "outputs": [],
   "source": []
  }
 ],
 "metadata": {
  "kernelspec": {
   "display_name": "data-science-46F3XxfD",
   "language": "python",
   "name": "python3"
  },
  "language_info": {
   "codemirror_mode": {
    "name": "ipython",
    "version": 3
   },
   "file_extension": ".py",
   "mimetype": "text/x-python",
   "name": "python",
   "nbconvert_exporter": "python",
   "pygments_lexer": "ipython3",
   "version": "3.12.1"
  }
 },
 "nbformat": 4,
 "nbformat_minor": 2
}
