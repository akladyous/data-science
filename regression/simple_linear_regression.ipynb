{
 "cells": [
  {
   "cell_type": "code",
   "execution_count": 2,
   "metadata": {},
   "outputs": [],
   "source": [
    "import numpy as np\n",
    "import pandas as pd\n",
    "import matplotlib.pyplot as plt\n",
    "import seaborn as sns\n",
    "from scipy import stats\n",
    "import sklearn.metrics as metrics\n",
    "import statsmodels.api as sm\n",
    "\n",
    "%matplotlib inline"
   ]
  },
  {
   "cell_type": "code",
   "execution_count": 3,
   "metadata": {},
   "outputs": [
    {
     "name": "stdout",
     "output_type": "stream",
     "text": [
      "Smoking Data:\n"
     ]
    },
    {
     "data": {
      "text/html": [
       "<div>\n",
       "<style scoped>\n",
       "    .dataframe tbody tr th:only-of-type {\n",
       "        vertical-align: middle;\n",
       "    }\n",
       "\n",
       "    .dataframe tbody tr th {\n",
       "        vertical-align: top;\n",
       "    }\n",
       "\n",
       "    .dataframe thead th {\n",
       "        text-align: right;\n",
       "    }\n",
       "</style>\n",
       "<table border=\"1\" class=\"dataframe\">\n",
       "  <thead>\n",
       "    <tr style=\"text-align: right;\">\n",
       "      <th></th>\n",
       "      <th>Gender</th>\n",
       "      <th>Age</th>\n",
       "      <th>CigarettesPerDay</th>\n",
       "    </tr>\n",
       "  </thead>\n",
       "  <tbody>\n",
       "    <tr>\n",
       "      <th>0</th>\n",
       "      <td>0</td>\n",
       "      <td>23.0</td>\n",
       "      <td>16</td>\n",
       "    </tr>\n",
       "    <tr>\n",
       "      <th>1</th>\n",
       "      <td>1</td>\n",
       "      <td>60.0</td>\n",
       "      <td>10</td>\n",
       "    </tr>\n",
       "    <tr>\n",
       "      <th>2</th>\n",
       "      <td>1</td>\n",
       "      <td>35.0</td>\n",
       "      <td>12</td>\n",
       "    </tr>\n",
       "    <tr>\n",
       "      <th>3</th>\n",
       "      <td>0</td>\n",
       "      <td>36.0</td>\n",
       "      <td>9</td>\n",
       "    </tr>\n",
       "    <tr>\n",
       "      <th>4</th>\n",
       "      <td>1</td>\n",
       "      <td>27.0</td>\n",
       "      <td>12</td>\n",
       "    </tr>\n",
       "  </tbody>\n",
       "</table>\n",
       "</div>"
      ],
      "text/plain": [
       "   Gender   Age  CigarettesPerDay\n",
       "0       0  23.0                16\n",
       "1       1  60.0                10\n",
       "2       1  35.0                12\n",
       "3       0  36.0                 9\n",
       "4       1  27.0                12"
      ]
     },
     "execution_count": 3,
     "metadata": {},
     "output_type": "execute_result"
    }
   ],
   "source": [
    "np.random.seed(0)\n",
    "\n",
    "num_samples = 100\n",
    "gender = np.random.choice([0, 1], size=num_samples)\n",
    "\n",
    "# Generate age data (assuming a normal distribution with mean 40 and standard deviation 10)\n",
    "age = np.random.normal(loc=40, scale=10, size=num_samples).round(0)\n",
    "\n",
    "# Generate number of cigarettes per day (assuming a Poisson distribution with mean 10)\n",
    "cigarettes_per_day = np.random.poisson(lam=10, size=num_samples)\n",
    "\n",
    "smoking_data = pd.DataFrame( {\"Gender\": gender, \"Age\": age, \"CigarettesPerDay\": cigarettes_per_day} )\n",
    "# np.savetxt(\"./smoking_data.csv\", smoking_data, delimiter=\",\", header=\"gender,age,cigarettesperday\", comments=\"\")\n",
    "# smoking_data.to_csv(\"smoking_data.csv\", index=False)\n",
    "\n",
    "# Print first few rows of data\n",
    "print(\"Smoking Data:\")\n",
    "smoking_data.head()"
   ]
  },
  {
   "cell_type": "code",
   "execution_count": 4,
   "metadata": {},
   "outputs": [
    {
     "data": {
      "application/javascript": "console.log('hello')\n",
      "text/plain": [
       "<IPython.core.display.Javascript object>"
      ]
     },
     "metadata": {},
     "output_type": "display_data"
    }
   ],
   "source": [
    "%%javascript\n",
    "console.log('hello')"
   ]
  },
  {
   "cell_type": "code",
   "execution_count": 8,
   "metadata": {},
   "outputs": [],
   "source": [
    "def best_line(X, Y):\n",
    "    \"\"\"This function plots the best-fit line for a group of datapoints broken into\n",
    "    a set of independent variable values (X) and a set of dependent variable values (Y)\n",
    "    \"\"\"\n",
    "    import numpy as np\n",
    "    from matplotlib import pyplot as plt\n",
    "\n",
    "    X_bar = np.mean(X)\n",
    "    Y_bar = np.mean(Y)\n",
    "\n",
    "    X_diffs = np.asarray([i - X_bar for i in X])\n",
    "    Y_diffs = np.asarray([i - Y_bar for i in Y])\n",
    "\n",
    "    num = X_diffs.dot(Y_diffs)\n",
    "\n",
    "    denom = np.sqrt((X_diffs**2).sum() * (Y_diffs**2).sum())\n",
    "\n",
    "    r_pearson = num / denom\n",
    "\n",
    "    beta_1 = r_pearson * Y_diffs.std() / X_diffs.std()\n",
    "\n",
    "    beta_0 = Y_bar - beta_1 * X_bar\n",
    "\n",
    "    Xs = np.linspace(np.min(X), np.max(X), 100)\n",
    "    Ys = beta_1 * Xs + beta_0\n",
    "\n",
    "    fig, ax = plt.subplots()\n",
    "    ax.plot(X, Y, \"ro\", label=\"datapoints\")\n",
    "    ax.plot(Xs, Ys, \"k\", label=f\"y={round(beta_1, 2)}x+{round(beta_0, 2)}\")\n",
    "    plt.legend()\n",
    "    plt.show()"
   ]
  },
  {
   "cell_type": "code",
   "execution_count": 6,
   "metadata": {},
   "outputs": [
    {
     "data": {
      "image/png": "[encoded data removed]",
      "text/plain": [
       "<Figure size 640x480 with 1 Axes>"
      ]
     },
     "metadata": {},
     "output_type": "display_data"
    }
   ],
   "source": [
    "# Hypothetical data\n",
    "x = [1, 2, 3, 4, 5]\n",
    "y = [2, 3, 5, 4, 6]\n",
    "z = [10, 20, 30, 40, 50]  # Lurking variable\n",
    "\n",
    "# Plotting\n",
    "plt.scatter(x, y, label=\"Main Variables (X and Y)\")\n",
    "plt.scatter(x, z, label=\"Lurking Variable (Z)\")\n",
    "plt.xlabel(\"X\")\n",
    "plt.ylabel(\"Y / Z\")\n",
    "plt.title(\"Lurking Variables Example\")\n",
    "plt.legend()\n",
    "plt.grid(True)\n",
    "plt.show()"
   ]
  },
  {
   "cell_type": "code",
   "execution_count": null,
   "metadata": {},
   "outputs": [],
   "source": []
  }
 ],
 "metadata": {
  "kernelspec": {
   "display_name": "data-science-46F3XxfD",
   "language": "python",
   "name": "python3"
  },
  "language_info": {
   "codemirror_mode": {
    "name": "ipython",
    "version": 3
   },
   "file_extension": ".py",
   "mimetype": "text/x-python",
   "name": "python",
   "nbconvert_exporter": "python",
   "pygments_lexer": "ipython3",
   "version": "3.12.1"
  }
 },
 "nbformat": 4,
 "nbformat_minor": 2
}
