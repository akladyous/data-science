{
 "cells": [
  {
   "cell_type": "markdown",
   "metadata": {},
   "source": [
    "# Probability Distribution Functions\n",
    "\n",
    "## 1. Probability Mass Function (PMF)\n",
    "\n",
    "### Definition:\n",
    "The Probability Mass Function (PMF) is used for discrete random variables. It gives the probability of a specific outcome.\n",
    "\n",
    "### Notation:\n",
    "\\[ P(X = x) \\]\n",
    "\n",
    "### Properties:\n",
    "- Values are non-negative.\n",
    "- The sum of all probabilities equals 1.\n",
    "- Provides the probability for each possible outcome.\n",
    "\n",
    "## 2. Probability Density Function (PDF)\n",
    "\n",
    "### Definition:\n",
    "The Probability Density Function (PDF) is used for continuous random variables. It represents the likelihood of a continuous variable falling within a particular range.\n",
    "\n",
    "### Notation:\n",
    "\\[ f(x) \\]\n",
    "\n",
    "### Properties:\n",
    "- Values are non-negative.\n",
    "- The integral over the entire range equals 1.\n",
    "- Represents the density of the variable's distribution.\n",
    "\n",
    "## 3. Cumulative Distribution Function (CDF)\n",
    "\n",
    "### Definition:\n",
    "The Cumulative Distribution Function (CDF) gives the probability that a random variable takes a value less than or equal to a given point.\n",
    "\n",
    "### Notation:\n",
    "\\[ F(x) = P(X \\leq x) \\]\n",
    "\n",
    "### Properties:\n",
    "- Monotonically non-decreasing.\n",
    "- Ranges from 0 to 1.\n",
    "- Provides cumulative probabilities for all values up to a specific point.\n"
   ]
  },
  {
   "cell_type": "markdown",
   "metadata": {},
   "source": []
  }
 ],
 "metadata": {
  "language_info": {
   "name": "python"
  }
 },
 "nbformat": 4,
 "nbformat_minor": 2
}
