{
 "cells": [
  {
   "cell_type": "code",
   "execution_count": 202,
   "id": "1de3cec4-3c13-400a-834d-7c544fa24c5c",
   "metadata": {},
   "outputs": [],
   "source": [
    "import numpy as np"
   ]
  },
  {
   "cell_type": "code",
   "execution_count": 203,
   "id": "2fab55fd-86a3-4230-9e07-242e87026ad8",
   "metadata": {},
   "outputs": [],
   "source": [
    "def nd_info(arr: np.array):\n",
    "    print(\"ndim        : \", arr.ndim)\n",
    "    print(\"shape       : \", arr.shape)\n",
    "    print(\"size        : \", arr.size)\n",
    "    print(\"dtype       : \", arr.dtype )\n",
    "    print(\"object Type : \", type(arr))"
   ]
  },
  {
   "cell_type": "markdown",
   "id": "1c897c58-0603-49b1-934f-648853077870",
   "metadata": {
    "tags": []
   },
   "source": [
    "### [Link to numpy basics types](https://numpy.org/devdocs/user/basics.types.html)"
   ]
  },
  {
   "cell_type": "code",
   "execution_count": 204,
   "id": "54f9add4-1d12-44c3-857c-14a5c9512fb0",
   "metadata": {},
   "outputs": [
    {
     "name": "stdout",
     "output_type": "stream",
     "text": [
      "[0 1 2 3 4]\n"
     ]
    }
   ],
   "source": [
    "a1: np.array = np.array(range(5))\n",
    "print(a1)"
   ]
  },
  {
   "cell_type": "markdown",
   "id": "acd040fa-c871-4394-bbdf-3453aa87d37e",
   "metadata": {},
   "source": [
    "### [Numpy Data types](https://numpy.org/devdocs/user/basics.types.html)"
   ]
  },
  {
   "cell_type": "code",
   "execution_count": 205,
   "id": "706e8f59-f39c-4fce-abfe-08a6c385e00f",
   "metadata": {},
   "outputs": [
    {
     "name": "stdout",
     "output_type": "stream",
     "text": [
      "ndim        :  1\n",
      "shape       :  (5,)\n",
      "size        :  5\n",
      "dtype       :  int64\n",
      "object Type :  <class 'numpy.ndarray'>\n"
     ]
    }
   ],
   "source": [
    "print(\"ndim        : \", a1.ndim)\n",
    "print(\"shape       : \", a1.shape)\n",
    "print(\"size        : \", a1.size)\n",
    "print(\"dtype       : \", a1.dtype )\n",
    "print(\"object Type : \", type(a1))"
   ]
  },
  {
   "cell_type": "code",
   "execution_count": 206,
   "id": "c920db1c-0990-429c-84e8-75569dd4bdea",
   "metadata": {},
   "outputs": [
    {
     "name": "stdout",
     "output_type": "stream",
     "text": [
      "[0 1 2 3 4]\n"
     ]
    }
   ],
   "source": [
    "print(a1)"
   ]
  },
  {
   "cell_type": "code",
   "execution_count": 207,
   "id": "191acd55-32e4-4c23-824a-6ea1971a5817",
   "metadata": {},
   "outputs": [
    {
     "name": "stdout",
     "output_type": "stream",
     "text": [
      "[[ 0  1  2  3]\n",
      " [ 4  5  6  7]\n",
      " [ 8  9 10 11]]\n"
     ]
    }
   ],
   "source": [
    "a2 = np.arange(12).reshape(3,4)\n",
    "print(a2)"
   ]
  },
  {
   "cell_type": "code",
   "execution_count": 208,
   "id": "eac9688a-b2a1-4d0a-8e6e-49bd833cca7c",
   "metadata": {},
   "outputs": [
    {
     "name": "stdout",
     "output_type": "stream",
     "text": [
      "ndim        :  2\n",
      "shape       :  (3, 4)\n",
      "size        :  12\n",
      "dtype       :  int64\n",
      "object Type :  <class 'numpy.ndarray'>\n"
     ]
    }
   ],
   "source": [
    "nd_info(a2)"
   ]
  },
  {
   "cell_type": "code",
   "execution_count": 209,
   "id": "908f2a65-96d3-4073-a617-8814dfc0e8da",
   "metadata": {},
   "outputs": [
    {
     "data": {
      "text/plain": [
       "7.38905609893065"
      ]
     },
     "execution_count": 209,
     "metadata": {},
     "output_type": "execute_result"
    }
   ],
   "source": [
    "np.exp(2)"
   ]
  },
  {
   "cell_type": "code",
   "execution_count": 210,
   "id": "3cf280cf-077c-4972-a6b2-a6688f3f85fd",
   "metadata": {},
   "outputs": [
    {
     "data": {
      "text/plain": [
       "6.543216468462249"
      ]
     },
     "execution_count": 210,
     "metadata": {},
     "output_type": "execute_result"
    }
   ],
   "source": [
    "2**2.71"
   ]
  },
  {
   "cell_type": "code",
   "execution_count": null,
   "id": "0b98636f-7705-42c9-9c6d-b7fd217a2af1",
   "metadata": {},
   "outputs": [],
   "source": []
  },
  {
   "cell_type": "code",
   "execution_count": 211,
   "id": "2ed61099-87d8-469c-9da3-36aab9ea3438",
   "metadata": {},
   "outputs": [
    {
     "data": {
      "text/plain": [
       "6.580877650466003"
      ]
     },
     "execution_count": 211,
     "metadata": {},
     "output_type": "execute_result"
    }
   ],
   "source": [
    "2**2.71828"
   ]
  },
  {
   "cell_type": "markdown",
   "id": "7120a5d5-9709-40f6-927f-38e345e1d2a4",
   "metadata": {
    "tags": []
   },
   "source": [
    "# Array Creation"
   ]
  },
  {
   "cell_type": "markdown",
   "id": "39dfb36c-4173-4388-89f9-812df1bfe545",
   "metadata": {},
   "source": [
    "#### .ones Method"
   ]
  },
  {
   "cell_type": "code",
   "execution_count": 212,
   "id": "e6e6668d-75e5-4eaa-a956-6b9d704ca9fe",
   "metadata": {},
   "outputs": [
    {
     "name": "stdout",
     "output_type": "stream",
     "text": [
      "[1 1 1 1 1 1 1 1 1 1]\n"
     ]
    }
   ],
   "source": [
    "ones = np.ones(10, dtype=np.int8)\n",
    "print(ones)"
   ]
  },
  {
   "cell_type": "code",
   "execution_count": 213,
   "id": "8b8b2210",
   "metadata": {},
   "outputs": [
    {
     "data": {
      "text/plain": [
       "numpy.int8"
      ]
     },
     "execution_count": 213,
     "metadata": {},
     "output_type": "execute_result"
    }
   ],
   "source": [
    "type(ones[0])"
   ]
  },
  {
   "cell_type": "code",
   "execution_count": 160,
   "id": "23cc4458-c7fe-4f80-ae08-bee79dcbabfd",
   "metadata": {},
   "outputs": [
    {
     "data": {
      "text/plain": [
       "array([[1., 1., 1., 1.],\n",
       "       [1., 1., 1., 1.],\n",
       "       [1., 1., 1., 1.]])"
      ]
     },
     "execution_count": 160,
     "metadata": {},
     "output_type": "execute_result"
    }
   ],
   "source": [
    "np.ones((3,4))"
   ]
  },
  {
   "cell_type": "markdown",
   "id": "b1fd544d-0878-4864-aa07-7d303e8f0eb0",
   "metadata": {},
   "source": [
    "#### .zeros Method"
   ]
  },
  {
   "cell_type": "code",
   "execution_count": 161,
   "id": "71a6c0d8-7cb2-49f1-85a7-02fee29641fd",
   "metadata": {},
   "outputs": [
    {
     "data": {
      "text/plain": [
       "array([[0., 0., 0., 0., 0.],\n",
       "       [0., 0., 0., 0., 0.]])"
      ]
     },
     "execution_count": 161,
     "metadata": {},
     "output_type": "execute_result"
    }
   ],
   "source": [
    "np.zeros((2,5))"
   ]
  },
  {
   "cell_type": "markdown",
   "id": "3e77b4f3-1745-4ac0-a817-71019570e6ba",
   "metadata": {},
   "source": [
    "#### .arange Method"
   ]
  },
  {
   "cell_type": "code",
   "execution_count": 162,
   "id": "dd0fa1fc-3eca-4370-8901-e11cc5e02d06",
   "metadata": {},
   "outputs": [
    {
     "data": {
      "text/plain": [
       "array([0, 1, 2, 3, 4, 5, 6, 7, 8, 9])"
      ]
     },
     "execution_count": 162,
     "metadata": {},
     "output_type": "execute_result"
    }
   ],
   "source": [
    "np.arange(10)"
   ]
  },
  {
   "cell_type": "code",
   "execution_count": 168,
   "id": "7f4b654d-9baa-416d-9e67-4c05d756c5ce",
   "metadata": {},
   "outputs": [
    {
     "data": {
      "text/plain": [
       "array([ 0,  2,  4,  6,  8, 10, 12, 14, 16, 18])"
      ]
     },
     "execution_count": 168,
     "metadata": {},
     "output_type": "execute_result"
    }
   ],
   "source": [
    "start=0\n",
    "end=20\n",
    "step=2\n",
    "np.arange(start, end, step)\n",
    "# start inclusive end exclusive"
   ]
  },
  {
   "cell_type": "markdown",
   "id": "62d49a2f-f176-4cec-80ad-fe9a053aa8fb",
   "metadata": {},
   "source": [
    "#### .linspace Method"
   ]
  },
  {
   "cell_type": "code",
   "execution_count": 169,
   "id": "32c9dab3-b679-4a4f-a0c7-f5ca3ec391df",
   "metadata": {},
   "outputs": [
    {
     "name": "stdout",
     "output_type": "stream",
     "text": [
      "[ 1.          1.47368421  1.94736842  2.42105263  2.89473684  3.36842105\n",
      "  3.84210526  4.31578947  4.78947368  5.26315789  5.73684211  6.21052632\n",
      "  6.68421053  7.15789474  7.63157895  8.10526316  8.57894737  9.05263158\n",
      "  9.52631579 10.        ]\n"
     ]
    }
   ],
   "source": [
    "linspace = np.linspace(1, 10, 20)\n",
    "print(linspace)"
   ]
  },
  {
   "cell_type": "code",
   "execution_count": 170,
   "id": "7b8e305c",
   "metadata": {},
   "outputs": [
    {
     "name": "stdout",
     "output_type": "stream",
     "text": [
      "Random Numbers: [97 94 11 12 30 85  9 79 60 65]\n",
      "Range: 88\n"
     ]
    }
   ],
   "source": [
    "# calculating the range in numpy\n",
    "random_numbers = np.random.randint(1, 100, 10)\n",
    "random_numbers_range = np.max(random_numbers) - np.min(random_numbers)\n",
    "print(\"Random Numbers:\", random_numbers)\n",
    "print(\"Range:\", random_numbers_range)"
   ]
  },
  {
   "cell_type": "code",
   "execution_count": 171,
   "id": "d53f6a42-5278-4eac-b5a3-4f26d304994a",
   "metadata": {},
   "outputs": [
    {
     "data": {
      "text/plain": [
       "array([[ 0,  1,  2,  3,  4],\n",
       "       [ 5,  6,  7,  8,  9],\n",
       "       [10, 11, 12, 13, 14],\n",
       "       [15, 16, 17, 18, 19]])"
      ]
     },
     "execution_count": 171,
     "metadata": {},
     "output_type": "execute_result"
    }
   ],
   "source": [
    "range_of_20 = np.arange(20).reshape(4,5)\n",
    "range_of_20"
   ]
  },
  {
   "cell_type": "markdown",
   "id": "8100d6fb-9557-4e81-842f-078f0e273d12",
   "metadata": {},
   "source": [
    "#### .full Method\n",
    "Return a new array of given shape and type, filled with `fill_value`."
   ]
  },
  {
   "cell_type": "code",
   "execution_count": 172,
   "id": "ad4b5a71-6a54-46fc-9608-fc3d379ce8c0",
   "metadata": {},
   "outputs": [
    {
     "data": {
      "text/plain": [
       "array([[0, 0, 0, 0],\n",
       "       [0, 0, 0, 0],\n",
       "       [0, 0, 0, 0]])"
      ]
     },
     "execution_count": 172,
     "metadata": {},
     "output_type": "execute_result"
    }
   ],
   "source": [
    "np.full((3,4), 0)"
   ]
  },
  {
   "cell_type": "code",
   "execution_count": 173,
   "id": "482a9d7f-0b71-49a2-be01-d82ad699a1ce",
   "metadata": {},
   "outputs": [
    {
     "data": {
      "text/plain": [
       "array([[3, 2, 1],\n",
       "       [3, 2, 1],\n",
       "       [3, 2, 1]])"
      ]
     },
     "execution_count": 173,
     "metadata": {},
     "output_type": "execute_result"
    }
   ],
   "source": [
    "np.full((3,3), [3,2,1])"
   ]
  },
  {
   "cell_type": "markdown",
   "id": "e7edc2f1-9c38-4225-a6f9-8b937e0f3155",
   "metadata": {},
   "source": [
    "#### .empty Method\n",
    "Return a new array of given shape and type, without initializing entries."
   ]
  },
  {
   "cell_type": "code",
   "execution_count": 174,
   "id": "15d41cdd-2e02-4862-99a9-db6ce4a8432a",
   "metadata": {},
   "outputs": [
    {
     "data": {
      "text/plain": [
       "array([[0., 0.],\n",
       "       [0., 0.],\n",
       "       [0., 0.],\n",
       "       [0., 0.]])"
      ]
     },
     "execution_count": 174,
     "metadata": {},
     "output_type": "execute_result"
    }
   ],
   "source": [
    "np.empty((4,2))"
   ]
  },
  {
   "cell_type": "code",
   "execution_count": 175,
   "id": "a992fade-b6f4-40f1-80cc-dc2a68799b3e",
   "metadata": {},
   "outputs": [
    {
     "data": {
      "text/plain": [
       "array([[1, 2, 3, 4],\n",
       "       [2, 3, 4, 5],\n",
       "       [3, 4, 5, 6],\n",
       "       [4, 5, 6, 7]])"
      ]
     },
     "execution_count": 175,
     "metadata": {},
     "output_type": "execute_result"
    }
   ],
   "source": [
    "np.array([range(i, i+4) for i in [1,2,3,4]])"
   ]
  },
  {
   "cell_type": "code",
   "execution_count": 176,
   "id": "fc1694b1-dd68-4a1f-bafb-11918648bc94",
   "metadata": {},
   "outputs": [
    {
     "data": {
      "text/plain": [
       "array([[1, 2, 3, 4, 5],\n",
       "       [2, 3, 4, 5, 6],\n",
       "       [3, 4, 5, 6, 7],\n",
       "       [4, 5, 6, 7, 8],\n",
       "       [5, 6, 7, 8, 9]])"
      ]
     },
     "execution_count": 176,
     "metadata": {},
     "output_type": "execute_result"
    }
   ],
   "source": [
    "np.array([range(i, i + 5) for i in range(1,6)])"
   ]
  },
  {
   "cell_type": "markdown",
   "id": "03d04e08-6648-40e0-8041-8517b0207052",
   "metadata": {},
   "source": [
    "# Structured arrays"
   ]
  },
  {
   "cell_type": "code",
   "execution_count": 177,
   "id": "3bf3ed44-f267-4016-94e0-3923df4c8350",
   "metadata": {},
   "outputs": [
    {
     "data": {
      "text/plain": [
       "array([('Alice', 25, 62.5,  True), ('Bob', 32, 70.2, False),\n",
       "       ('Charlie', 28, 68.7,  True)],\n",
       "      dtype=[('name', '<U10'), ('age', '<i8'), ('weight', '<f8'), ('is_student', '?')])"
      ]
     },
     "execution_count": 177,
     "metadata": {},
     "output_type": "execute_result"
    }
   ],
   "source": [
    "data = np.array([('Alice', 25, 62.5, True),\n",
    "                ('Bob', 32, 70.2, False),\n",
    "                ('Charlie', 28, 68.7, True)],\n",
    "                dtype=[('name', 'U10'), ('age', int), ('weight', float), ('is_student', bool)])\n",
    "data"
   ]
  },
  {
   "cell_type": "markdown",
   "id": "2c257a93-ffce-4e9d-ae1f-5365afbd4f82",
   "metadata": {},
   "source": [
    "# Random Number Generator"
   ]
  },
  {
   "cell_type": "code",
   "execution_count": 178,
   "id": "e96439cb-249a-4838-8c2a-b18b2cfdbed6",
   "metadata": {},
   "outputs": [],
   "source": [
    "rng = np.random.default_rng(seed=42)"
   ]
  },
  {
   "cell_type": "markdown",
   "id": "406d94b5-6823-48b9-b80a-9ce4a7c1df50",
   "metadata": {},
   "source": [
    "#### rng.integers Method\n",
    "Return random integers from the \"discrete uniform\" distribution"
   ]
  },
  {
   "cell_type": "code",
   "execution_count": 179,
   "id": "ac14a30a-fa16-464f-9600-9255169e4782",
   "metadata": {},
   "outputs": [
    {
     "data": {
      "text/plain": [
       "array([1, 7, 6, 4, 4, 8, 1, 7, 2, 1, 5, 9, 7, 7, 7, 8, 5, 2, 8, 5])"
      ]
     },
     "execution_count": 179,
     "metadata": {},
     "output_type": "execute_result"
    }
   ],
   "source": [
    "rng.integers(1,10,20)"
   ]
  },
  {
   "cell_type": "code",
   "execution_count": 180,
   "id": "92a81bac-f0c5-4981-833c-2c9862dc0d74",
   "metadata": {},
   "outputs": [
    {
     "data": {
      "text/plain": [
       "28"
      ]
     },
     "execution_count": 180,
     "metadata": {},
     "output_type": "execute_result"
    }
   ],
   "source": [
    "x1 = rng.integers(1,10,5)\n",
    "np.sum(x1)"
   ]
  },
  {
   "cell_type": "code",
   "execution_count": 121,
   "id": "7f1392b7-883a-4642-8d32-facdcf8b5937",
   "metadata": {},
   "outputs": [
    {
     "data": {
      "text/plain": [
       "array([1, 0, 1, 1, 0, 0, 0, 0, 1, 1])"
      ]
     },
     "execution_count": 121,
     "metadata": {},
     "output_type": "execute_result"
    }
   ],
   "source": [
    "rng.integers(2, size=10)"
   ]
  },
  {
   "cell_type": "markdown",
   "id": "0e457ae3-3aa6-452a-9cc3-c7c183e27fdb",
   "metadata": {
    "tags": []
   },
   "source": [
    "#### rng.random Method   \n",
    "return continuous uniform\" distribution\n",
    "\n",
    "In a continuous uniform distribution, all values within the specified interval have an equal probability of being generated.\n",
    "The interval [0, 1) means that the generated numbers will be greater than or equal to 0 and less than 1."
   ]
  },
  {
   "cell_type": "code",
   "execution_count": 122,
   "id": "605ac5f8-1eb2-459b-9e61-c876f430c084",
   "metadata": {},
   "outputs": [
    {
     "data": {
      "text/plain": [
       "array([8.27631172, 6.31664399, 7.5808774 , 3.54525968, 9.70698024,\n",
       "       8.93121121, 7.78383497, 1.94638708, 4.66721004, 0.43803766])"
      ]
     },
     "execution_count": 122,
     "metadata": {},
     "output_type": "execute_result"
    }
   ],
   "source": [
    "rand_nums =  rng.random(10) * 10\n",
    "rand_nums"
   ]
  },
  {
   "cell_type": "code",
   "execution_count": 123,
   "id": "922f9cfc-da66-4981-a7bc-38587082935b",
   "metadata": {},
   "outputs": [
    {
     "data": {
      "text/plain": [
       "array([0.43803766, 1.94638708, 3.54525968, 4.66721004, 6.31664399,\n",
       "       7.5808774 , 7.78383497, 8.27631172, 8.93121121, 9.70698024])"
      ]
     },
     "execution_count": 123,
     "metadata": {},
     "output_type": "execute_result"
    }
   ],
   "source": [
    "np.sort(rand_nums)"
   ]
  },
  {
   "cell_type": "code",
   "execution_count": 124,
   "id": "c4e44404-86ea-42ab-9aae-5edfed26c584",
   "metadata": {},
   "outputs": [
    {
     "data": {
      "text/plain": [
       "array([1, 6, 2, 8, 7])"
      ]
     },
     "execution_count": 124,
     "metadata": {},
     "output_type": "execute_result"
    }
   ],
   "source": [
    "rng.integers(1, 10, size=5, endpoint=True )"
   ]
  },
  {
   "cell_type": "markdown",
   "id": "b45c7904-6b64-44ac-b62f-a8b39e40b076",
   "metadata": {},
   "source": [
    "#### rng.normal Method\n",
    "\n",
    "normal(mean, std_dev, size)\n",
    "Draw random samples from a normal (Gaussian) distribution."
   ]
  },
  {
   "cell_type": "code",
   "execution_count": 125,
   "id": "5b85a1b0-a8f3-4a2f-af05-5a93148dc286",
   "metadata": {},
   "outputs": [
    {
     "data": {
      "text/plain": [
       "array([9.2832952 , 4.18716997, 3.97551454, 3.37245454, 6.23195885,\n",
       "       7.25794459, 4.77210508])"
      ]
     },
     "execution_count": 125,
     "metadata": {},
     "output_type": "execute_result"
    }
   ],
   "source": [
    "mean = 5\n",
    "std = 2\n",
    "sample_size_1 = 7\n",
    "rng.normal(mean, std, sample_size_1)\n",
    "# normal(loc=0.0, scale=1.0, size=None)"
   ]
  },
  {
   "cell_type": "code",
   "execution_count": 126,
   "id": "2b77aae3-b65a-487f-a694-dfc1fb30234c",
   "metadata": {},
   "outputs": [
    {
     "data": {
      "text/plain": [
       "array([0.31968705, 0.35103757, 3.30118558, 3.48650834, 3.08630854,\n",
       "       0.66898059, 2.46432265, 2.23337162, 2.43737719, 3.74285756])"
      ]
     },
     "execution_count": 126,
     "metadata": {},
     "output_type": "execute_result"
    }
   ],
   "source": [
    "rng.normal(2, 2, 10)"
   ]
  },
  {
   "cell_type": "code",
   "execution_count": 127,
   "id": "e7ed85f6-a3d3-4e34-8dc7-4a8cda0ce68e",
   "metadata": {},
   "outputs": [
    {
     "data": {
      "text/plain": [
       "array([6, 2, 8, 2, 8])"
      ]
     },
     "execution_count": 127,
     "metadata": {},
     "output_type": "execute_result"
    }
   ],
   "source": [
    "x = rng.integers(1,10,5)\n",
    "x"
   ]
  },
  {
   "cell_type": "code",
   "execution_count": 128,
   "id": "e11bb130-9d42-477c-8ad1-ed325ded2827",
   "metadata": {},
   "outputs": [
    {
     "data": {
      "text/plain": [
       "array([ 0, 79, 78, 78, 66])"
      ]
     },
     "execution_count": 128,
     "metadata": {},
     "output_type": "execute_result"
    }
   ],
   "source": [
    "rng.choice(np.arange(100), 5, replace=True)"
   ]
  },
  {
   "cell_type": "markdown",
   "id": "a3fe615c-95cd-4638-b2c5-5a618ab07bef",
   "metadata": {},
   "source": [
    "# Filtering Array"
   ]
  },
  {
   "cell_type": "markdown",
   "id": "4eced271-68c1-496e-acd7-3da8f96557cc",
   "metadata": {},
   "source": [
    "#### Boolean Indexing 'filtering'"
   ]
  },
  {
   "cell_type": "code",
   "execution_count": 55,
   "id": "0343e4e4-5b6f-41b3-851e-62657b51136c",
   "metadata": {},
   "outputs": [],
   "source": [
    "rnd = np.random.default_rng(321)"
   ]
  },
  {
   "cell_type": "code",
   "execution_count": 56,
   "id": "509544a6-089c-4109-8932-578f1c0563f0",
   "metadata": {},
   "outputs": [
    {
     "data": {
      "text/plain": [
       "array([61.94,  1.94, 27.2 , 83.31, 12.48, 12.62,  7.63, 20.98, 71.06,\n",
       "       46.04, 60.89, 78.75, 54.73, 33.43, 39.31, 43.78, 97.04,  1.8 ,\n",
       "       76.05, 17.63])"
      ]
     },
     "execution_count": 56,
     "metadata": {},
     "output_type": "execute_result"
    }
   ],
   "source": [
    "price_list = ( rng.random(20) * 100 ).round(2)\n",
    "price_list"
   ]
  },
  {
   "cell_type": "code",
   "execution_count": 57,
   "id": "109a98fd-eb72-4a30-a555-89ffd7d48d5c",
   "metadata": {},
   "outputs": [
    {
     "data": {
      "text/plain": [
       "array([ True, False,  True,  True,  True,  True,  True,  True,  True,\n",
       "        True,  True,  True,  True,  True,  True,  True,  True, False,\n",
       "        True,  True])"
      ]
     },
     "execution_count": 57,
     "metadata": {},
     "output_type": "execute_result"
    }
   ],
   "source": [
    "price_list > 5"
   ]
  },
  {
   "cell_type": "code",
   "execution_count": 58,
   "id": "0b0d9c8f-1e33-4363-9854-4aa3e50d17ed",
   "metadata": {},
   "outputs": [
    {
     "data": {
      "text/plain": [
       "array([ True,  True,  True,  True,  True,  True,  True,  True,  True,\n",
       "        True,  True,  True,  True,  True,  True,  True,  True,  True,\n",
       "        True,  True])"
      ]
     },
     "execution_count": 58,
     "metadata": {},
     "output_type": "execute_result"
    }
   ],
   "source": [
    "price_list != 0"
   ]
  },
  {
   "cell_type": "code",
   "execution_count": 59,
   "id": "75fe6228-774b-497c-b62f-6d3243106b1d",
   "metadata": {},
   "outputs": [
    {
     "data": {
      "text/plain": [
       "array([61.94, 83.31, 71.06, 60.89, 78.75, 54.73, 97.04, 76.05])"
      ]
     },
     "execution_count": 59,
     "metadata": {},
     "output_type": "execute_result"
    }
   ],
   "source": [
    "price_list[price_list > 50]"
   ]
  },
  {
   "cell_type": "code",
   "execution_count": 60,
   "id": "c38b9fa3-88e5-499c-a443-909634c49649",
   "metadata": {},
   "outputs": [
    {
     "data": {
      "text/plain": [
       "array([ 1.94, 27.2 , 12.48, 12.62,  7.63, 20.98, 46.04, 33.43, 39.31,\n",
       "       43.78,  1.8 , 17.63])"
      ]
     },
     "execution_count": 60,
     "metadata": {},
     "output_type": "execute_result"
    }
   ],
   "source": [
    "price_list[price_list < 50]"
   ]
  },
  {
   "cell_type": "code",
   "execution_count": 61,
   "id": "06b366f1-c6d6-4f20-bd2b-b78bd00121f2",
   "metadata": {},
   "outputs": [
    {
     "data": {
      "text/plain": [
       "array([False,  True,  True, False,  True,  True,  True,  True, False,\n",
       "       False, False, False, False, False, False, False, False,  True,\n",
       "       False,  True])"
      ]
     },
     "execution_count": 61,
     "metadata": {},
     "output_type": "execute_result"
    }
   ],
   "source": [
    "price_list <= 30"
   ]
  },
  {
   "cell_type": "code",
   "execution_count": 62,
   "id": "42cf2c69-f115-4e39-bc32-ed5a6babffd3",
   "metadata": {},
   "outputs": [
    {
     "data": {
      "text/plain": [
       "array([ 1.94, 27.2 , 12.48, 12.62,  7.63, 20.98,  1.8 , 17.63])"
      ]
     },
     "execution_count": 62,
     "metadata": {},
     "output_type": "execute_result"
    }
   ],
   "source": [
    "least_30_products = price_list <= 30\n",
    "\n",
    "price_list[least_30_products]"
   ]
  },
  {
   "cell_type": "code",
   "execution_count": 64,
   "id": "c6b77231-68eb-4707-be92-05a98eae75a0",
   "metadata": {},
   "outputs": [
    {
     "data": {
      "text/plain": [
       "array([False, False, False,  True, False, False, False, False,  True,\n",
       "       False, False,  True, False, False, False, False,  True, False,\n",
       "        True, False])"
      ]
     },
     "execution_count": 64,
     "metadata": {},
     "output_type": "execute_result"
    }
   ],
   "source": [
    "price_list >= 70"
   ]
  },
  {
   "cell_type": "code",
   "execution_count": 65,
   "id": "3c151450-c382-4661-965e-32871a7d0d97",
   "metadata": {},
   "outputs": [
    {
     "data": {
      "text/plain": [
       "array([83.31, 71.06, 78.75, 97.04, 76.05])"
      ]
     },
     "execution_count": 65,
     "metadata": {},
     "output_type": "execute_result"
    }
   ],
   "source": [
    "greatest_30_products = price_list >= 70\n",
    "\n",
    "price_list[greatest_30_products]"
   ]
  },
  {
   "cell_type": "code",
   "execution_count": 67,
   "id": "600d0057-15b7-4556-b2a4-b842054df85b",
   "metadata": {},
   "outputs": [
    {
     "data": {
      "text/plain": [
       "array([ 1.8 ,  1.94,  7.63, 12.48, 12.62, 17.63, 20.98, 27.2 , 71.06,\n",
       "       76.05, 78.75, 83.31, 97.04])"
      ]
     },
     "execution_count": 67,
     "metadata": {},
     "output_type": "execute_result"
    }
   ],
   "source": [
    "filtered_array = price_list[(price_list <= 30) | (price_list >= 70)]\n",
    "\n",
    "np.sort(filtered_array)"
   ]
  },
  {
   "cell_type": "code",
   "execution_count": 132,
   "id": "1d4cea30-4558-44e1-a6b0-ad94930d9b0f",
   "metadata": {},
   "outputs": [],
   "source": [
    "products = np.array([\"Apple\", \"Banana\", \"Orange\", \"Mango\", \"Grapes\",\n",
    "              \"Strawberry\", \"Watermelon\", \"Pineapple\", \"Kiwi\", \"Peach\"])\n",
    "\n",
    "prices = rng.uniform(1.00, 100.00, size=10).round(2)"
   ]
  },
  {
   "cell_type": "code",
   "execution_count": 133,
   "id": "e346669e-9f0f-4983-839a-44ca6bdb47b9",
   "metadata": {},
   "outputs": [
    {
     "name": "stdout",
     "output_type": "stream",
     "text": [
      "['Apple', 15.05]\n",
      "['Banana', 40.85]\n",
      "['Orange', 55.21]\n",
      "['Mango', 11.94]\n",
      "['Grapes', 31.85]\n",
      "['Strawberry', 86.64]\n",
      "['Watermelon', 96.78]\n",
      "['Pineapple', 37.26]\n",
      "['Kiwi', 93.61]\n",
      "['Peach', 19.84]\n"
     ]
    }
   ],
   "source": [
    "for product, price in zip(products, prices):\n",
    "    print([product, price])"
   ]
  },
  {
   "cell_type": "code",
   "execution_count": 134,
   "id": "75b7f434-3281-43d6-b12d-2b878fb9f13d",
   "metadata": {},
   "outputs": [
    {
     "data": {
      "text/plain": [
       "array(['Apple', 'Banana', 'Mango', 'Grapes', 'Pineapple', 'Peach'],\n",
       "      dtype='<U10')"
      ]
     },
     "execution_count": 134,
     "metadata": {},
     "output_type": "execute_result"
    }
   ],
   "source": [
    "products_less_than_50 = products[ prices < 50 ]\n",
    "products_less_than_50"
   ]
  },
  {
   "cell_type": "markdown",
   "id": "955c978e-3a51-4884-a74d-a19a5e6c3147",
   "metadata": {},
   "source": [
    "#### ndarray.all Method\n",
    "Returns True if all elements evaluate to True."
   ]
  },
  {
   "cell_type": "code",
   "execution_count": 137,
   "id": "efddfa82-2b31-4ded-9d14-813fc0700976",
   "metadata": {},
   "outputs": [
    {
     "name": "stdout",
     "output_type": "stream",
     "text": [
      "[0 1 2 3 4 5 6 7 8 9]\n",
      "False\n",
      "the first element in the array is evaluated to false\n"
     ]
    }
   ],
   "source": [
    "a1 = np.arange(10)\n",
    "print(a1)\n",
    "print(a1.all()) # false\n",
    "print('the first element in the array is evaluated to false')"
   ]
  },
  {
   "cell_type": "code",
   "execution_count": 151,
   "id": "3235e3a9-2e08-46e3-8112-65b52a992814",
   "metadata": {},
   "outputs": [
    {
     "name": "stdout",
     "output_type": "stream",
     "text": [
      "numbers : [ 1  2  3  4  5  6  7  8  9 10]\n",
      "match value: 33\n",
      "np.isin Method returns a boolean array of the same shape\n",
      "[False False False False False False False False False False]\n",
      "\n",
      "33 is not present in the array\n"
     ]
    }
   ],
   "source": [
    "numbers = np.array([1, 2, 3, 4, 5, 6, 7, 8, 9, 10])\n",
    "print(f\"numbers : {numbers}\")\n",
    "value = 33\n",
    "print(f\"match value: {value}\")\n",
    "booleans = np.isin(numbers, value)\n",
    "print(\"np.isin Method returns a boolean array of the same shape\")\n",
    "print(booleans)\n",
    "print()\n",
    "\n",
    "if np.all(np.isin(numbers, value)):\n",
    "    print(\"{value} is present in the array\".format(value=value))\n",
    "else:\n",
    "    print(\"{value} is not present in the array\".format(value=value))\n"
   ]
  },
  {
   "cell_type": "code",
   "execution_count": 152,
   "id": "9db73861-5b78-423d-8381-17918fb06d43",
   "metadata": {},
   "outputs": [
    {
     "data": {
      "text/plain": [
       "array([0])"
      ]
     },
     "execution_count": 152,
     "metadata": {},
     "output_type": "execute_result"
    }
   ],
   "source": [
    "# get index of not matching condition\n",
    "falsy_values_at_index = a1[np.logical_not(a1)]\n",
    "falsy_values_at_index"
   ]
  },
  {
   "cell_type": "code",
   "execution_count": 153,
   "id": "17e4b873-b38e-4c9e-9530-281e57963748",
   "metadata": {},
   "outputs": [
    {
     "data": {
      "text/plain": [
       "array([[ 0,  1,  2,  3,  4],\n",
       "       [ 5,  6,  7,  8,  9],\n",
       "       [10, 11, 12, 13, 14],\n",
       "       [15, 16, 17, 18, 19]])"
      ]
     },
     "execution_count": 153,
     "metadata": {},
     "output_type": "execute_result"
    }
   ],
   "source": [
    "a4x5 = np.arange(20).reshape(4,5)\n",
    "a4x5"
   ]
  },
  {
   "cell_type": "code",
   "execution_count": 154,
   "id": "00fefd77-4c11-4e2e-8869-7fbc5ecc6e42",
   "metadata": {},
   "outputs": [
    {
     "data": {
      "text/plain": [
       "array([[ True, False,  True, False,  True],\n",
       "       [False,  True, False,  True, False],\n",
       "       [ True, False,  True, False,  True],\n",
       "       [False,  True, False,  True, False]])"
      ]
     },
     "execution_count": 154,
     "metadata": {},
     "output_type": "execute_result"
    }
   ],
   "source": [
    "a4x5 % 2 == 0"
   ]
  },
  {
   "cell_type": "code",
   "execution_count": 155,
   "id": "dd55f2ef-6d9e-4e0b-9d5b-06874ac36968",
   "metadata": {},
   "outputs": [
    {
     "data": {
      "text/plain": [
       "array([ 0,  2,  4,  6,  8, 10, 12, 14, 16, 18])"
      ]
     },
     "execution_count": 155,
     "metadata": {},
     "output_type": "execute_result"
    }
   ],
   "source": [
    "# range_of_20_even =\n",
    "a4x5[a4x5 % 2 == 0]"
   ]
  },
  {
   "cell_type": "code",
   "execution_count": 156,
   "id": "ad6f5fff-3733-431b-836b-91c377eb7e76",
   "metadata": {},
   "outputs": [
    {
     "data": {
      "text/plain": [
       "array([['even', 'odd', 'even', 'odd', 'even'],\n",
       "       ['odd', 'even', 'odd', 'even', 'odd'],\n",
       "       ['even', 'odd', 'even', 'odd', 'even'],\n",
       "       ['odd', 'even', 'odd', 'even', 'odd']], dtype='<U4')"
      ]
     },
     "execution_count": 156,
     "metadata": {},
     "output_type": "execute_result"
    }
   ],
   "source": [
    "np.where(a4x5 % 2 == 0, \"even\", \"odd\")"
   ]
  },
  {
   "cell_type": "markdown",
   "id": "9693f47f-80b2-4095-9197-1a34602dd611",
   "metadata": {},
   "source": [
    "# Array Manipulation"
   ]
  },
  {
   "cell_type": "code",
   "execution_count": 160,
   "id": "56675ba3-44ed-4322-b943-59a41fb36a34",
   "metadata": {},
   "outputs": [
    {
     "name": "stdout",
     "output_type": "stream",
     "text": [
      "[[1. 1. 1. 1.]\n",
      " [1. 1. 1. 1.]\n",
      " [1. 1. 1. 1.]\n",
      " [1. 1. 1. 1.]]\n"
     ]
    }
   ],
   "source": [
    "ones = np.ones((4,4))\n",
    "print(ones)"
   ]
  },
  {
   "cell_type": "code",
   "execution_count": 162,
   "id": "f519df03-3c9c-4940-a598-d7424b20f1a7",
   "metadata": {},
   "outputs": [
    {
     "data": {
      "text/plain": [
       "array([1., 1., 1., 1., 1., 1., 1., 1., 1., 1., 1., 1., 1., 1., 1., 1.])"
      ]
     },
     "execution_count": 162,
     "metadata": {},
     "output_type": "execute_result"
    }
   ],
   "source": [
    "ones.ravel()"
   ]
  },
  {
   "cell_type": "code",
   "execution_count": 164,
   "id": "97253b3a-bfbd-45e9-8c04-8f5263902540",
   "metadata": {},
   "outputs": [
    {
     "data": {
      "text/plain": [
       "array([1., 1., 1., 1., 1., 1., 1., 1., 1., 1., 1., 1., 1., 1., 1., 1.])"
      ]
     },
     "execution_count": 164,
     "metadata": {},
     "output_type": "execute_result"
    }
   ],
   "source": [
    "ones.flatten()"
   ]
  },
  {
   "cell_type": "code",
   "execution_count": 187,
   "id": "5f9268a9-7ce6-4253-b37c-235a35664029",
   "metadata": {},
   "outputs": [
    {
     "data": {
      "text/plain": [
       "array([[0, 1, 2],\n",
       "       [3, 4, 5],\n",
       "       [6, 7, 8]])"
      ]
     },
     "execution_count": 187,
     "metadata": {},
     "output_type": "execute_result"
    }
   ],
   "source": [
    "arr_3x3 = np.arange(9).reshape(3,3)\n",
    "arr_3x3"
   ]
  },
  {
   "cell_type": "code",
   "execution_count": 189,
   "id": "7301c841-0aaf-4781-8933-0bd16372f9f6",
   "metadata": {},
   "outputs": [
    {
     "data": {
      "text/plain": [
       "array([[ 0,  1,  2],\n",
       "       [ 3,  4,  5],\n",
       "       [ 6,  7,  8],\n",
       "       [ 9, 10, 11]])"
      ]
     },
     "execution_count": 189,
     "metadata": {},
     "output_type": "execute_result"
    }
   ],
   "source": [
    "new_row = np.array([9, 10, 11])\n",
    "\n",
    "# Append the new values as a new row\n",
    "np.append(arr_3x3, [new_row], axis=0)"
   ]
  },
  {
   "cell_type": "code",
   "execution_count": 205,
   "id": "45f2ddb8-b469-47ee-9967-9a3c39b18eef",
   "metadata": {},
   "outputs": [
    {
     "data": {
      "text/plain": [
       "(3, 3)"
      ]
     },
     "execution_count": 205,
     "metadata": {},
     "output_type": "execute_result"
    }
   ],
   "source": [
    "arr_3x3.shape"
   ]
  },
  {
   "cell_type": "code",
   "execution_count": 206,
   "id": "a9551d94-9567-4805-9da1-0afff0dcd644",
   "metadata": {},
   "outputs": [
    {
     "data": {
      "text/plain": [
       "array([ 9, 10, 11])"
      ]
     },
     "execution_count": 206,
     "metadata": {},
     "output_type": "execute_result"
    }
   ],
   "source": [
    "new_col = np.array([9,10,11])\n",
    "new_col"
   ]
  },
  {
   "cell_type": "markdown",
   "id": "0cc63c6e-4fff-42a4-9574-fd76eb1ecef6",
   "metadata": {},
   "source": [
    "#### np.transpose([new_col]) is used to reshape the new_values array to match the shape of the arr_3x3 array before appending it as a new column."
   ]
  },
  {
   "cell_type": "code",
   "execution_count": 207,
   "id": "e95ba8d0-4165-4496-b141-5364e710ef52",
   "metadata": {},
   "outputs": [
    {
     "name": "stdout",
     "output_type": "stream",
     "text": [
      "(3, 3)\n"
     ]
    }
   ],
   "source": [
    "print(arr_3x3.shape)"
   ]
  },
  {
   "cell_type": "markdown",
   "id": "d09a00df-4d44-4d34-b306-3cb864d7a78e",
   "metadata": {},
   "source": [
    "##### \n",
    "By using np.transpose([new_col]), we create a new array where the new_values array is enclosed in square brackets [], which effectively adds an extra dimension to the array. The np.transpose function is then applied to transpose the array, swapping the dimensions. This reshaping operation changes the shape of new_values from (3,) to (1, 3) or (3, 1) based on the transposition.\n",
    "\n",
    "The transposed array np.transpose([new_col]) can now be appended as a new column to arr_3x3 using np.append with the axis option set to 1"
   ]
  },
  {
   "cell_type": "code",
   "execution_count": 209,
   "id": "7677a36c-e25f-463f-84a0-b9d6ad414943",
   "metadata": {},
   "outputs": [
    {
     "data": {
      "text/plain": [
       "array([[ 9],\n",
       "       [10],\n",
       "       [11]])"
      ]
     },
     "execution_count": 209,
     "metadata": {},
     "output_type": "execute_result"
    }
   ],
   "source": [
    "np.transpose([new_col])"
   ]
  },
  {
   "cell_type": "code",
   "execution_count": 210,
   "id": "486bd4ee-6a53-4d2b-be41-e5faaf35c3e0",
   "metadata": {},
   "outputs": [
    {
     "name": "stdout",
     "output_type": "stream",
     "text": [
      "(3, 1)\n"
     ]
    }
   ],
   "source": [
    "print( np.transpose([new_col]).shape )"
   ]
  },
  {
   "cell_type": "code",
   "execution_count": 211,
   "id": "f0689b6d-1158-46da-bc7c-c4863cf06f03",
   "metadata": {},
   "outputs": [
    {
     "data": {
      "text/plain": [
       "array([[ 0,  1,  2,  9],\n",
       "       [ 3,  4,  5, 10],\n",
       "       [ 6,  7,  8, 11]])"
      ]
     },
     "execution_count": 211,
     "metadata": {},
     "output_type": "execute_result"
    }
   ],
   "source": [
    "arr_appended_col = np.append(arr_3x3, np.transpose([new_values]), axis=1)\n",
    "np.append(arr_3x3, np.transpose([new_col]), axis=1)"
   ]
  },
  {
   "cell_type": "code",
   "execution_count": 213,
   "id": "cc051d1e-04d3-4c50-aa62-e0604c62c752",
   "metadata": {},
   "outputs": [
    {
     "data": {
      "text/plain": [
       "array([[1],\n",
       "       [2],\n",
       "       [3]])"
      ]
     },
     "execution_count": 213,
     "metadata": {},
     "output_type": "execute_result"
    }
   ],
   "source": [
    "np.transpose([[1,2,3]])"
   ]
  },
  {
   "cell_type": "markdown",
   "id": "a141c12e-3718-421b-a02a-7d9f8cb68455",
   "metadata": {},
   "source": [
    "# Aggregate Functions"
   ]
  },
  {
   "cell_type": "code",
   "execution_count": 53,
   "id": "be39ceff-f31f-4963-9685-f636a5df07cc",
   "metadata": {},
   "outputs": [
    {
     "name": "stdout",
     "output_type": "stream",
     "text": [
      "[[ 0  1  2  3]\n",
      " [ 4  5  6  7]\n",
      " [ 8  9 10 11]]\n"
     ]
    }
   ],
   "source": [
    "arr = np.arange(12).reshape(3,4)\n",
    "print(arr)"
   ]
  },
  {
   "cell_type": "code",
   "execution_count": 54,
   "id": "893456fb-c8a8-4f01-961f-d5d57652b1c4",
   "metadata": {},
   "outputs": [
    {
     "name": "stdout",
     "output_type": "stream",
     "text": [
      "66\n"
     ]
    }
   ],
   "source": [
    "print(arr.sum())  # Array-wise sum"
   ]
  },
  {
   "cell_type": "code",
   "execution_count": 55,
   "id": "791fc34e-ac3a-4ab9-8c1f-3b87eeeda19f",
   "metadata": {},
   "outputs": [
    {
     "name": "stdout",
     "output_type": "stream",
     "text": [
      "0\n"
     ]
    }
   ],
   "source": [
    "print(arr.min())  # Array-wise minimum value"
   ]
  },
  {
   "cell_type": "code",
   "execution_count": 56,
   "id": "43afa412-f8a8-44c5-9e96-b18f13617075",
   "metadata": {},
   "outputs": [
    {
     "name": "stdout",
     "output_type": "stream",
     "text": [
      "[ 8  9 10 11]\n"
     ]
    }
   ],
   "source": [
    "print(arr.max(axis=0))  # Maximum value of an array row"
   ]
  },
  {
   "cell_type": "code",
   "execution_count": 57,
   "id": "3ba25ad8-1b2d-4871-885d-5aab6c0bbbcc",
   "metadata": {},
   "outputs": [
    {
     "name": "stdout",
     "output_type": "stream",
     "text": [
      "[ 3  7 11]\n"
     ]
    }
   ],
   "source": [
    "print(arr.max(axis=1))  # Maximum value of an array col"
   ]
  },
  {
   "cell_type": "markdown",
   "id": "b9478cd5-2d24-46fd-babb-90c7a40e0e80",
   "metadata": {},
   "source": [
    "#### Returns the indices of the maximum values along an axis."
   ]
  },
  {
   "cell_type": "code",
   "execution_count": 58,
   "id": "37cb32fd-0be9-422d-9b43-de167c8e7a45",
   "metadata": {},
   "outputs": [
    {
     "data": {
      "text/plain": [
       "11"
      ]
     },
     "execution_count": 58,
     "metadata": {},
     "output_type": "execute_result"
    }
   ],
   "source": [
    "np.argmax(arr)"
   ]
  },
  {
   "cell_type": "markdown",
   "id": "9c476af0-a3e8-421f-ac67-53f67288937d",
   "metadata": {},
   "source": [
    "#### Returns the indices of the minimum values along an axis."
   ]
  },
  {
   "cell_type": "code",
   "execution_count": 59,
   "id": "5938f40a-fb18-4f65-af22-008684fac2e2",
   "metadata": {},
   "outputs": [
    {
     "data": {
      "text/plain": [
       "0"
      ]
     },
     "execution_count": 59,
     "metadata": {},
     "output_type": "execute_result"
    }
   ],
   "source": [
    "np.argmin(arr)"
   ]
  },
  {
   "cell_type": "code",
   "execution_count": 60,
   "id": "6da0e399-19ee-4585-a413-043bc920c714",
   "metadata": {},
   "outputs": [
    {
     "name": "stdout",
     "output_type": "stream",
     "text": [
      "5.5\n"
     ]
    }
   ],
   "source": [
    "print(arr.mean())  # Mean"
   ]
  },
  {
   "cell_type": "code",
   "execution_count": 61,
   "id": "9927adbd-f0dc-41c3-a152-b0dec95d8ec2",
   "metadata": {},
   "outputs": [
    {
     "name": "stdout",
     "output_type": "stream",
     "text": [
      "5.5\n"
     ]
    }
   ],
   "source": [
    "print(np.median(arr))  # Median"
   ]
  },
  {
   "cell_type": "markdown",
   "id": "f931ae9f-db36-4b9b-8c38-6ad27c798d83",
   "metadata": {},
   "source": [
    "#### Return the cumulative sum of the elements along the given axis."
   ]
  },
  {
   "cell_type": "code",
   "execution_count": 62,
   "id": "a90976db-1d65-47e7-baea-b3fa36357d67",
   "metadata": {},
   "outputs": [
    {
     "name": "stdout",
     "output_type": "stream",
     "text": [
      "[[ 0  1  3  6]\n",
      " [ 4  9 15 22]\n",
      " [ 8 17 27 38]]\n"
     ]
    }
   ],
   "source": [
    "print(arr.cumsum(axis=1))  # Cumulative sum of the elements"
   ]
  },
  {
   "cell_type": "code",
   "execution_count": 63,
   "id": "3ed6c349-2e47-424f-b399-77cb5bb3a7b6",
   "metadata": {},
   "outputs": [
    {
     "name": "stdout",
     "output_type": "stream",
     "text": [
      "[[1. 1. 1.]\n",
      " [1. 1. 1.]\n",
      " [1. 1. 1.]]\n"
     ]
    }
   ],
   "source": [
    "print(np.corrcoef(arr))  # Correlation coefficient"
   ]
  },
  {
   "cell_type": "code",
   "execution_count": 64,
   "id": "1705cb04-291f-4268-a51d-19f7e4c5bd02",
   "metadata": {},
   "outputs": [
    {
     "name": "stdout",
     "output_type": "stream",
     "text": [
      "3.452052529534663\n"
     ]
    }
   ],
   "source": [
    "print(np.std(arr))  # Standard deviation"
   ]
  },
  {
   "cell_type": "markdown",
   "id": "c7870f33-299f-4768-ae39-c5d99fda2829",
   "metadata": {},
   "source": [
    "# Array Mathematics"
   ]
  },
  {
   "cell_type": "code",
   "execution_count": 65,
   "id": "363dab8e-a127-4cdc-ac16-3d7cf8b1e3cc",
   "metadata": {},
   "outputs": [],
   "source": [
    "a = np.array([[1, 2, 3],\n",
    "              [4, 5, 6]])\n",
    "b = np.array([[1.5, 2, 3],\n",
    "              [7, 8, 9]])\n"
   ]
  },
  {
   "cell_type": "code",
   "execution_count": 66,
   "id": "cc19bf21-2f20-417e-9ee3-52cdbe918797",
   "metadata": {},
   "outputs": [
    {
     "name": "stdout",
     "output_type": "stream",
     "text": [
      "[[-0.5  0.   0. ]\n",
      " [-3.  -3.  -3. ]]\n"
     ]
    }
   ],
   "source": [
    "g = a - b  # Subtraction\n",
    "print(g)"
   ]
  },
  {
   "cell_type": "code",
   "execution_count": 67,
   "id": "7c267b7d-9a8f-4f4e-9fb8-4501d90acc55",
   "metadata": {},
   "outputs": [
    {
     "data": {
      "text/plain": [
       "array([[-0.5,  0. ,  0. ],\n",
       "       [-3. , -3. , -3. ]])"
      ]
     },
     "execution_count": 67,
     "metadata": {},
     "output_type": "execute_result"
    }
   ],
   "source": [
    "np.subtract(a, b)  # Subtraction"
   ]
  },
  {
   "cell_type": "code",
   "execution_count": 68,
   "id": "b4081294-f5d7-4d78-a8ba-31b9150b210d",
   "metadata": {},
   "outputs": [
    {
     "name": "stdout",
     "output_type": "stream",
     "text": [
      "[[ 2.5  4.   6. ]\n",
      " [11.  13.  15. ]]\n"
     ]
    }
   ],
   "source": [
    "addition = b + a  # Addition\n",
    "print(addition)"
   ]
  },
  {
   "cell_type": "code",
   "execution_count": 69,
   "id": "226ecfb6-c01e-460a-9aeb-17f7185e59a0",
   "metadata": {},
   "outputs": [
    {
     "data": {
      "text/plain": [
       "array([[ 2.5,  4. ,  6. ],\n",
       "       [11. , 13. , 15. ]])"
      ]
     },
     "execution_count": 69,
     "metadata": {},
     "output_type": "execute_result"
    }
   ],
   "source": [
    "np.add(b, a)  # Addition"
   ]
  },
  {
   "cell_type": "markdown",
   "id": "c792c39e-8009-4fd8-b790-0139220f367f",
   "metadata": {},
   "source": [
    "##### division"
   ]
  },
  {
   "cell_type": "code",
   "execution_count": 70,
   "id": "6dd4b15b-9756-4c38-83b8-31b7e7b667ac",
   "metadata": {
    "tags": []
   },
   "outputs": [
    {
     "name": "stdout",
     "output_type": "stream",
     "text": [
      "[[0.66666667 1.         1.        ]\n",
      " [0.57142857 0.625      0.66666667]]\n"
     ]
    }
   ],
   "source": [
    "division = a / b  # Division\n",
    "print(division)"
   ]
  },
  {
   "cell_type": "code",
   "execution_count": 71,
   "id": "6a2b73bf-bed1-4ca4-b4f1-0404b77c5201",
   "metadata": {},
   "outputs": [
    {
     "data": {
      "text/plain": [
       "array([[0.66666667, 1.        , 1.        ],\n",
       "       [0.57142857, 0.625     , 0.66666667]])"
      ]
     },
     "execution_count": 71,
     "metadata": {},
     "output_type": "execute_result"
    }
   ],
   "source": [
    "np.divide(a, b)  # Division"
   ]
  },
  {
   "cell_type": "code",
   "execution_count": 72,
   "id": "4f72cd6a-2c0c-410d-932d-81683847748e",
   "metadata": {},
   "outputs": [
    {
     "name": "stdout",
     "output_type": "stream",
     "text": [
      "[[ 1.5  4.   9. ]\n",
      " [28.  40.  54. ]]\n"
     ]
    }
   ],
   "source": [
    "multiplication = a * b  # Multiplication\n",
    "print(multiplication)"
   ]
  },
  {
   "cell_type": "code",
   "execution_count": 73,
   "id": "6a9d6e1e-4a90-4b02-87be-ee378a8ef5d3",
   "metadata": {},
   "outputs": [
    {
     "data": {
      "text/plain": [
       "array([[ 1.5,  4. ,  9. ],\n",
       "       [28. , 40. , 54. ]])"
      ]
     },
     "execution_count": 73,
     "metadata": {},
     "output_type": "execute_result"
    }
   ],
   "source": [
    "np.multiply(a, b)  # Multiplication"
   ]
  },
  {
   "cell_type": "code",
   "execution_count": 74,
   "id": "ac54a7fb-bd64-444d-a5be-849865b86cde",
   "metadata": {},
   "outputs": [
    {
     "name": "stdout",
     "output_type": "stream",
     "text": [
      "[[4.48168907e+00 7.38905610e+00 2.00855369e+01]\n",
      " [1.09663316e+03 2.98095799e+03 8.10308393e+03]]\n"
     ]
    }
   ],
   "source": [
    "exponentiation = np.exp(b)  # Exponentiation\n",
    "print(exponentiation)"
   ]
  },
  {
   "cell_type": "code",
   "execution_count": 75,
   "id": "85d86f5e-357d-4c33-8056-a1bb58a3e54b",
   "metadata": {},
   "outputs": [
    {
     "name": "stdout",
     "output_type": "stream",
     "text": [
      "[[1.22474487 1.41421356 1.73205081]\n",
      " [2.64575131 2.82842712 3.        ]]\n"
     ]
    }
   ],
   "source": [
    "square_root = np.sqrt(b)  # Square root\n",
    "print(square_root)"
   ]
  },
  {
   "cell_type": "code",
   "execution_count": 76,
   "id": "e6ebe05d-88c1-49ab-bdea-45c6616673cf",
   "metadata": {},
   "outputs": [
    {
     "name": "stdout",
     "output_type": "stream",
     "text": [
      "[[ 0.84147098  0.90929743  0.14112001]\n",
      " [-0.7568025  -0.95892427 -0.2794155 ]]\n"
     ]
    }
   ],
   "source": [
    "sines = np.sin(a)  # Print sines of an array\n",
    "print(sines)"
   ]
  },
  {
   "cell_type": "code",
   "execution_count": 77,
   "id": "6fdab80f-4c4b-4f30-9ec6-ad9608cdb6cb",
   "metadata": {},
   "outputs": [
    {
     "name": "stdout",
     "output_type": "stream",
     "text": [
      "[[ 0.0707372  -0.41614684 -0.9899925 ]\n",
      " [ 0.75390225 -0.14550003 -0.91113026]]\n"
     ]
    }
   ],
   "source": [
    "cosines = np.cos(b)  # Element-wise cosine\n",
    "print(cosines)"
   ]
  },
  {
   "cell_type": "code",
   "execution_count": 78,
   "id": "28f1d129-0cdf-4f23-ae57-1cae998d0860",
   "metadata": {},
   "outputs": [
    {
     "name": "stdout",
     "output_type": "stream",
     "text": [
      "[[0.         0.69314718 1.09861229]\n",
      " [1.38629436 1.60943791 1.79175947]]\n"
     ]
    }
   ],
   "source": [
    "logarithm = np.log(a)  # Element-wise natural logarithm\n",
    "print(logarithm)"
   ]
  },
  {
   "cell_type": "code",
   "execution_count": 79,
   "id": "8dac44d4-e17b-4757-a84a-e580eac055e1",
   "metadata": {},
   "outputs": [
    {
     "name": "stdout",
     "output_type": "stream",
     "text": [
      "[[2 2]\n",
      " [2 2]]\n"
     ]
    }
   ],
   "source": [
    "e = np.array([[1, 1],\n",
    "              [1, 1]])\n",
    "f = np.array([[1, 1],\n",
    "              [1, 1]])\n",
    "dot_product = np.dot(e, f)  # Dot product\n",
    "print(dot_product)"
   ]
  },
  {
   "cell_type": "markdown",
   "id": "ec807a71-e478-4f32-88f2-a57084188d44",
   "metadata": {},
   "source": [
    "# Indexing & Slicing Arrays"
   ]
  },
  {
   "cell_type": "code",
   "execution_count": 136,
   "id": "fa6f782c-680a-4e3b-9ff2-17a0d1c6d28d",
   "metadata": {},
   "outputs": [
    {
     "data": {
      "text/plain": [
       "array([['Argentina', 'Brazil', 'Canada', 'Denmark', 'Egypt'],\n",
       "       ['France', 'Germany', 'Hungary', 'India', 'Japan'],\n",
       "       ['Kenya', 'Mexico', 'Netherlands', 'Oman', 'Poland'],\n",
       "       ['Qatar', 'Russia', 'Spain', 'Thailand', 'United States'],\n",
       "       ['Vietnam', 'Wales', 'Xenobia', 'Yemen', 'Zimbabwe']], dtype='<U13')"
      ]
     },
     "execution_count": 136,
     "metadata": {},
     "output_type": "execute_result"
    }
   ],
   "source": [
    "countries = np.array([\n",
    "    ['Argentina', 'Brazil', 'Canada', 'Denmark', 'Egypt'],\n",
    "    ['France', 'Germany', 'Hungary', 'India', 'Japan'],\n",
    "    ['Kenya', 'Mexico', 'Netherlands', 'Oman', 'Poland'],\n",
    "    ['Qatar', 'Russia', 'Spain', 'Thailand', 'United States'],\n",
    "    ['Vietnam', 'Wales', 'Xenobia', 'Yemen', 'Zimbabwe']\n",
    "])\n",
    "countries"
   ]
  },
  {
   "cell_type": "code",
   "execution_count": 81,
   "id": "b1a8c765-7883-49c6-9e34-5eba6ff5b0ab",
   "metadata": {},
   "outputs": [
    {
     "data": {
      "text/plain": [
       "'United States'"
      ]
     },
     "execution_count": 81,
     "metadata": {},
     "output_type": "execute_result"
    }
   ],
   "source": [
    "countries[3,-1]"
   ]
  },
  {
   "cell_type": "code",
   "execution_count": 82,
   "id": "24c090af-e64b-4a6b-b1aa-79cdf11650c7",
   "metadata": {},
   "outputs": [
    {
     "data": {
      "text/plain": [
       "array(['Denmark', 'India', 'Oman', 'Thailand', 'Yemen'], dtype='<U13')"
      ]
     },
     "execution_count": 82,
     "metadata": {},
     "output_type": "execute_result"
    }
   ],
   "source": [
    "countries[:, 3] # all rows - column 3"
   ]
  },
  {
   "cell_type": "code",
   "execution_count": 144,
   "id": "3bc5574f-0ee1-4e5b-8102-0e698b3ad1df",
   "metadata": {},
   "outputs": [
    {
     "data": {
      "text/plain": [
       "array([['Brazil', 'Canada'],\n",
       "       ['Germany', 'Hungary'],\n",
       "       ['Mexico', 'Netherlands'],\n",
       "       ['Russia', 'Spain'],\n",
       "       ['Wales', 'Xenobia']], dtype='<U13')"
      ]
     },
     "execution_count": 144,
     "metadata": {},
     "output_type": "execute_result"
    }
   ],
   "source": [
    "countries[:, 1:3] # all rows - second and third columns - last column excluded"
   ]
  },
  {
   "cell_type": "code",
   "execution_count": 145,
   "id": "9ba1566a-08f1-4c72-acb0-2c397c890923",
   "metadata": {},
   "outputs": [
    {
     "data": {
      "text/plain": [
       "array([['Denmark', 'Egypt'],\n",
       "       ['India', 'Japan']], dtype='<U13')"
      ]
     },
     "execution_count": 145,
     "metadata": {},
     "output_type": "execute_result"
    }
   ],
   "source": [
    "countries[:2, 3:] # first 2 rows and columns 4 to the end"
   ]
  },
  {
   "cell_type": "code",
   "execution_count": 146,
   "id": "336d4175-45ed-4e72-8a9a-b2e713fcdecf",
   "metadata": {},
   "outputs": [
    {
     "data": {
      "text/plain": [
       "array([0, 1, 2, 3, 4, 5, 6, 7, 8, 9])"
      ]
     },
     "execution_count": 146,
     "metadata": {},
     "output_type": "execute_result"
    }
   ],
   "source": [
    "n1 = np.arange(10)\n",
    "n1"
   ]
  },
  {
   "cell_type": "code",
   "execution_count": 147,
   "id": "1bc33594-e9f9-4d6e-90a2-4fb88403a903",
   "metadata": {},
   "outputs": [],
   "source": [
    "isEven= lambda x: x%2 == 0\n",
    "isOdd = lambda n: n%2 != 0"
   ]
  },
  {
   "cell_type": "code",
   "execution_count": 148,
   "id": "e6a5e09d-fdde-408d-a86e-5882c88f887c",
   "metadata": {},
   "outputs": [
    {
     "data": {
      "text/plain": [
       "[0, 2, 4, 6, 8]"
      ]
     },
     "execution_count": 148,
     "metadata": {},
     "output_type": "execute_result"
    }
   ],
   "source": [
    "result =[]\n",
    "for x in range(n1.size):\n",
    "    if isEven(x):\n",
    "        result.append(x)\n",
    "\n",
    "result"
   ]
  },
  {
   "cell_type": "code",
   "execution_count": 88,
   "id": "46042dc0-b0e8-4043-a0bc-72ddb21aac00",
   "metadata": {},
   "outputs": [
    {
     "data": {
      "text/plain": [
       "array([40, 12, 98, 20, 88, 67, 59,  7, 77, 60])"
      ]
     },
     "execution_count": 88,
     "metadata": {},
     "output_type": "execute_result"
    }
   ],
   "source": [
    "n1 = rng.integers(1, 100, 10)\n",
    "n1"
   ]
  },
  {
   "cell_type": "code",
   "execution_count": 89,
   "id": "3caf752a-c175-4bbe-acc1-bd1700346ec7",
   "metadata": {},
   "outputs": [
    {
     "data": {
      "text/plain": [
       "array([False, False,  True, False,  True,  True,  True, False,  True,\n",
       "        True])"
      ]
     },
     "execution_count": 89,
     "metadata": {},
     "output_type": "execute_result"
    }
   ],
   "source": [
    "n1 > 50 # return numpy.ndarray"
   ]
  },
  {
   "cell_type": "code",
   "execution_count": 90,
   "id": "b2f0dc06-cbc9-467d-8cba-46757b9c1d83",
   "metadata": {},
   "outputs": [
    {
     "data": {
      "text/plain": [
       "array([ True,  True,  True,  True,  True, False, False, False, False,\n",
       "        True])"
      ]
     },
     "execution_count": 90,
     "metadata": {},
     "output_type": "execute_result"
    }
   ],
   "source": [
    "n1 % 2 == 0"
   ]
  },
  {
   "cell_type": "code",
   "execution_count": null,
   "id": "496873bb-e994-4169-a833-43a47cee05dd",
   "metadata": {},
   "outputs": [],
   "source": []
  },
  {
   "cell_type": "code",
   "execution_count": 91,
   "id": "87d49245-f090-4e9c-9895-b2798027504c",
   "metadata": {},
   "outputs": [
    {
     "data": {
      "text/plain": [
       "array([], dtype=int64)"
      ]
     },
     "execution_count": 91,
     "metadata": {},
     "output_type": "execute_result"
    }
   ],
   "source": [
    "mask_1 = np.in1d(n1, 83)\n",
    "n1[mask_1]"
   ]
  },
  {
   "cell_type": "code",
   "execution_count": 92,
   "id": "10ede957-3054-44ac-8554-ad9d675f71fd",
   "metadata": {},
   "outputs": [
    {
     "data": {
      "text/plain": [
       "array([ 1,  2,  3,  4,  5,  6,  7,  8,  9, 10, 11, 12, 13, 14, 15, 16, 17,\n",
       "       18, 19, 20])"
      ]
     },
     "execution_count": 92,
     "metadata": {},
     "output_type": "execute_result"
    }
   ],
   "source": [
    "ar1 = np.arange(1, 21)\n",
    "ar1"
   ]
  },
  {
   "cell_type": "code",
   "execution_count": 93,
   "id": "73f7078d-4d8c-487b-81ea-f9ce77a3c2d3",
   "metadata": {},
   "outputs": [
    {
     "data": {
      "text/plain": [
       "array([ 2,  4,  6,  8, 10, 12, 14, 16, 18, 20])"
      ]
     },
     "execution_count": 93,
     "metadata": {},
     "output_type": "execute_result"
    }
   ],
   "source": [
    "ar1[ar1 %2==0]"
   ]
  },
  {
   "cell_type": "code",
   "execution_count": 94,
   "id": "41f17a9b-3d59-4b9c-854c-eeaf350e57e0",
   "metadata": {},
   "outputs": [
    {
     "data": {
      "text/plain": [
       "array(['even', 'odd', 'even', 'odd', 'even', 'odd', 'even', 'odd', 'even',\n",
       "       'odd'], dtype='<U4')"
      ]
     },
     "execution_count": 94,
     "metadata": {},
     "output_type": "execute_result"
    }
   ],
   "source": [
    "even_odd = np.array(['even', 'odd'] * 5)\n",
    "even_odd"
   ]
  },
  {
   "cell_type": "code",
   "execution_count": 95,
   "id": "b0536b01-53a0-43b6-8046-c2e4c98b73a4",
   "metadata": {},
   "outputs": [
    {
     "data": {
      "text/plain": [
       "array([ True, False,  True, False,  True, False,  True, False,  True,\n",
       "       False])"
      ]
     },
     "execution_count": 95,
     "metadata": {},
     "output_type": "execute_result"
    }
   ],
   "source": [
    "even_odd != 'odd'"
   ]
  },
  {
   "cell_type": "code",
   "execution_count": 96,
   "id": "2af24ab2-05a7-4ebc-b3aa-cb1f6b3fee29",
   "metadata": {},
   "outputs": [
    {
     "data": {
      "text/plain": [
       "array([ 1,  2,  3,  4,  5,  6,  7,  8,  9, 10, 11, 12, 13, 14, 15, 16, 17,\n",
       "       18, 19, 20])"
      ]
     },
     "execution_count": 96,
     "metadata": {},
     "output_type": "execute_result"
    }
   ],
   "source": [
    "ar1"
   ]
  },
  {
   "cell_type": "code",
   "execution_count": 97,
   "id": "15f78cd2-b784-46b5-b856-f68befb02f83",
   "metadata": {},
   "outputs": [
    {
     "data": {
      "text/plain": [
       "array([ 0.33333333,  1.        ,  1.        ,  2.        ,  1.66666667,\n",
       "        3.        ,  2.33333333,  4.        ,  3.        ,  5.        ,\n",
       "        3.66666667,  6.        ,  4.33333333,  7.        ,  5.        ,\n",
       "        8.        ,  5.66666667,  9.        ,  6.33333333, 10.        ])"
      ]
     },
     "execution_count": 97,
     "metadata": {},
     "output_type": "execute_result"
    }
   ],
   "source": [
    "np.where(ar1 %2==0, ar1/2, ar1/3)"
   ]
  },
  {
   "cell_type": "code",
   "execution_count": null,
   "id": "4bc5d646-b9ea-4692-a0a6-5d1c532b3f56",
   "metadata": {},
   "outputs": [],
   "source": []
  },
  {
   "cell_type": "code",
   "execution_count": 98,
   "id": "43b43ff9-4b60-4abf-a268-b6e472975eda",
   "metadata": {},
   "outputs": [
    {
     "data": {
      "text/plain": [
       "array([ 1,  2,  3,  4,  5,  6,  7,  8,  9, 10, 11, 12, 13, 14, 15, 16, 17,\n",
       "       18, 19, 20])"
      ]
     },
     "execution_count": 98,
     "metadata": {},
     "output_type": "execute_result"
    }
   ],
   "source": [
    "ar1"
   ]
  },
  {
   "cell_type": "code",
   "execution_count": 99,
   "id": "653395a7-fd25-4244-b525-a4c279dc135d",
   "metadata": {},
   "outputs": [
    {
     "data": {
      "text/plain": [
       "array([19, 18, 17, 16, 15, 14, 13, 12, 11, 10,  9,  8,  7,  6,  5,  4,  3,\n",
       "        2,  1,  0])"
      ]
     },
     "execution_count": 99,
     "metadata": {},
     "output_type": "execute_result"
    }
   ],
   "source": [
    "ar2 = np.arange(19,-1, -1)\n",
    "ar2"
   ]
  },
  {
   "cell_type": "code",
   "execution_count": 100,
   "id": "43d3b3ba-8dfb-4e59-9926-654c0b93f22e",
   "metadata": {},
   "outputs": [
    {
     "data": {
      "text/plain": [
       "array([20, 20, 20, 20, 20, 20, 20, 20, 20, 20, 20, 20, 20, 20, 20, 20, 20,\n",
       "       20, 20, 20])"
      ]
     },
     "execution_count": 100,
     "metadata": {},
     "output_type": "execute_result"
    }
   ],
   "source": [
    "ar1 + ar2"
   ]
  },
  {
   "cell_type": "code",
   "execution_count": 101,
   "id": "628b322a-6cb4-4375-85c0-84a399d66eb2",
   "metadata": {},
   "outputs": [],
   "source": [
    "ar1.sort()"
   ]
  },
  {
   "cell_type": "code",
   "execution_count": null,
   "id": "3c6b0c24-829d-45f0-accb-dda6dff95199",
   "metadata": {},
   "outputs": [],
   "source": []
  },
  {
   "cell_type": "code",
   "execution_count": null,
   "id": "023c71d7-6533-4c97-8128-7b02fd1f3736",
   "metadata": {},
   "outputs": [],
   "source": []
  },
  {
   "cell_type": "code",
   "execution_count": 102,
   "id": "a426f077-94aa-44f7-9f19-1b473d5d5650",
   "metadata": {},
   "outputs": [
    {
     "name": "stdout",
     "output_type": "stream",
     "text": [
      "['apple' 10 list([1, 2, 3]) {'key': 'value'}]\n",
      "object\n"
     ]
    }
   ],
   "source": [
    "arr = np.array(['apple', 10, [1, 2, 3], {'key': 'value'}], dtype=object)\n",
    "\n",
    "print(arr)\n",
    "print(arr.dtype)"
   ]
  },
  {
   "cell_type": "code",
   "execution_count": 103,
   "id": "5da2184c-2e80-417a-81b1-13af6b8148e4",
   "metadata": {},
   "outputs": [
    {
     "data": {
      "text/plain": [
       "array([79, 86, 43, 13, 91, 43, 79, 56, 96, 91])"
      ]
     },
     "execution_count": 103,
     "metadata": {},
     "output_type": "execute_result"
    }
   ],
   "source": [
    "unorder_arr = np.random.randint(1, 101, 10)\n",
    "unorder_arr"
   ]
  },
  {
   "cell_type": "code",
   "execution_count": 104,
   "id": "b83677cc-07da-41dd-a493-375ee7e25f54",
   "metadata": {},
   "outputs": [
    {
     "data": {
      "text/plain": [
       "array([13, 43, 43, 56, 79, 79, 86, 91, 91, 96])"
      ]
     },
     "execution_count": 104,
     "metadata": {},
     "output_type": "execute_result"
    }
   ],
   "source": [
    "unorder_arr.sort()\n",
    "unorder_arr"
   ]
  },
  {
   "cell_type": "code",
   "execution_count": 105,
   "id": "503b230d-12d4-4fc4-ba00-a5974122dde6",
   "metadata": {},
   "outputs": [
    {
     "data": {
      "text/plain": [
       "array([96, 91, 91, 86, 79, 79, 56, 43, 43, 13])"
      ]
     },
     "execution_count": 105,
     "metadata": {},
     "output_type": "execute_result"
    }
   ],
   "source": [
    "desc_arr = np.flip(unorder_arr)\n",
    "desc_arr"
   ]
  },
  {
   "cell_type": "code",
   "execution_count": 106,
   "id": "86498466-cd54-4078-a983-1a855c3e0e52",
   "metadata": {},
   "outputs": [],
   "source": [
    "l1=[1,2,3,4,5]\n",
    "l2=[6,7,8]"
   ]
  },
  {
   "cell_type": "code",
   "execution_count": 107,
   "id": "442d9dd4-7b89-41db-b672-2971f5049a6c",
   "metadata": {},
   "outputs": [
    {
     "data": {
      "text/plain": [
       "[(1, 6), (2, 7), (3, 8)]"
      ]
     },
     "execution_count": 107,
     "metadata": {},
     "output_type": "execute_result"
    }
   ],
   "source": [
    "list(zip(l1,l2))"
   ]
  },
  {
   "cell_type": "markdown",
   "id": "e3be0e55-224a-46c6-9131-8db254d4aa75",
   "metadata": {},
   "source": [
    "### Vectorization"
   ]
  },
  {
   "cell_type": "code",
   "execution_count": 108,
   "id": "cb96ebb5-c264-40aa-a46c-37cf3e7195f6",
   "metadata": {},
   "outputs": [],
   "source": [
    "list1 = rng.integers(1, 1001, 1000)\n",
    "list2 = rng.integers(1, 1001, 1000)"
   ]
  },
  {
   "cell_type": "code",
   "execution_count": 109,
   "id": "095adefb-4d08-4c88-a7d8-ab11cfd9e598",
   "metadata": {},
   "outputs": [],
   "source": [
    "def for_loop_mutiply_arrays(array1, array2):\n",
    "    product_array = []\n",
    "    for n1, n2 in zip(array1, array2):\n",
    "        product_array.append(n1 * n2)\n",
    "    return product_array\n"
   ]
  },
  {
   "cell_type": "code",
   "execution_count": 110,
   "id": "fcfc9c1a-127b-4286-8553-a3a9d168c985",
   "metadata": {},
   "outputs": [],
   "source": [
    "def multiply_arrays(array1, array2):\n",
    "    return array1 * array2"
   ]
  },
  {
   "cell_type": "code",
   "execution_count": 111,
   "id": "c033f8fb-db3a-48cb-b4b3-71669fb8d0c1",
   "metadata": {},
   "outputs": [
    {
     "name": "stdout",
     "output_type": "stream",
     "text": [
      "83.1 µs ± 212 ns per loop (mean ± std. dev. of 5 runs, 10,000 loops each)\n"
     ]
    }
   ],
   "source": [
    "%%timeit -r 5 -n 10000\n",
    "for_loop_mutiply_arrays(list1, list2)"
   ]
  },
  {
   "cell_type": "code",
   "execution_count": 112,
   "id": "21c6f64d-cdb2-425c-826c-736717501c84",
   "metadata": {},
   "outputs": [
    {
     "name": "stdout",
     "output_type": "stream",
     "text": [
      "708 ns ± 40 ns per loop (mean ± std. dev. of 5 runs, 10,000 loops each)\n"
     ]
    }
   ],
   "source": [
    "%%timeit -r 5 -n 10000\n",
    "multiply_arrays(list1, list2)"
   ]
  },
  {
   "cell_type": "markdown",
   "id": "24bc8fd6-99da-4dab-af4b-79b67b73fcc9",
   "metadata": {},
   "source": [
    "### BroadCasting"
   ]
  },
  {
   "cell_type": "code",
   "execution_count": 113,
   "id": "822ff261-9765-4894-a293-788627d08d64",
   "metadata": {},
   "outputs": [
    {
     "data": {
      "text/plain": [
       "array([[1, 2, 3],\n",
       "       [1, 2, 3],\n",
       "       [1, 2, 3]])"
      ]
     },
     "execution_count": 113,
     "metadata": {},
     "output_type": "execute_result"
    }
   ],
   "source": [
    "test_array = np.array([[1,2,3], [1,2,3], [1,2,3]])\n",
    "test_array"
   ]
  },
  {
   "cell_type": "code",
   "execution_count": 114,
   "id": "a81a281f-3c9e-49f2-847e-6e1afb177bbc",
   "metadata": {},
   "outputs": [
    {
     "data": {
      "text/plain": [
       "array([1, 2, 3])"
      ]
     },
     "execution_count": 114,
     "metadata": {},
     "output_type": "execute_result"
    }
   ],
   "source": [
    "test_array[0,:] # first row"
   ]
  },
  {
   "cell_type": "code",
   "execution_count": 115,
   "id": "59af76a0-5204-49ee-b212-34a5a6639531",
   "metadata": {},
   "outputs": [
    {
     "data": {
      "text/plain": [
       "array([2, 2, 2])"
      ]
     },
     "execution_count": 115,
     "metadata": {},
     "output_type": "execute_result"
    }
   ],
   "source": [
    "test_array[:,1] # second column"
   ]
  },
  {
   "cell_type": "code",
   "execution_count": 116,
   "id": "c5ecc739-19d6-4700-b43f-e26b1b391579",
   "metadata": {},
   "outputs": [
    {
     "data": {
      "text/plain": [
       "array([3, 4, 5])"
      ]
     },
     "execution_count": 116,
     "metadata": {},
     "output_type": "execute_result"
    }
   ],
   "source": [
    "test_array[0,:] + test_array[:,1]"
   ]
  },
  {
   "cell_type": "code",
   "execution_count": 117,
   "id": "5e60ffcc-0c6f-4ca5-8fc5-fe82b197df8a",
   "metadata": {},
   "outputs": [
    {
     "data": {
      "text/plain": [
       "array([[3, 4, 5],\n",
       "       [3, 4, 5],\n",
       "       [3, 4, 5]])"
      ]
     },
     "execution_count": 117,
     "metadata": {},
     "output_type": "execute_result"
    }
   ],
   "source": [
    "test_array[0,:] + test_array[:,1].reshape(3,1)"
   ]
  },
  {
   "cell_type": "code",
   "execution_count": 118,
   "id": "8fb76661-97c8-4ff1-9671-aab59c6e54ab",
   "metadata": {},
   "outputs": [
    {
     "data": {
      "text/plain": [
       "array([[1],\n",
       "       [2],\n",
       "       [3]])"
      ]
     },
     "execution_count": 118,
     "metadata": {},
     "output_type": "execute_result"
    }
   ],
   "source": [
    "np.array([1,2,3]).reshape(3,1)"
   ]
  },
  {
   "cell_type": "markdown",
   "id": "909b04c8-e18a-432c-9651-f3307e0a5898",
   "metadata": {},
   "source": [
    "## Filtering"
   ]
  },
  {
   "cell_type": "code",
   "execution_count": null,
   "id": "a4bc15a7-ce66-4826-978c-b14c476d2190",
   "metadata": {},
   "outputs": [],
   "source": []
  },
  {
   "cell_type": "markdown",
   "id": "a66ea334-a648-489d-a26e-8eb57a7d107b",
   "metadata": {},
   "source": [
    "## Array Manipulation"
   ]
  },
  {
   "cell_type": "code",
   "execution_count": null,
   "id": "9f526469-24c9-4cf9-862c-9fe1163399a3",
   "metadata": {},
   "outputs": [],
   "source": []
  }
 ],
 "metadata": {
  "kernelspec": {
   "display_name": "Python 3 (ipykernel)",
   "language": "python",
   "name": "python3"
  },
  "language_info": {
   "codemirror_mode": {
    "name": "ipython",
    "version": 3
   },
   "file_extension": ".py",
   "mimetype": "text/x-python",
   "name": "python",
   "nbconvert_exporter": "python",
   "pygments_lexer": "ipython3",
   "version": "3.11.7"
  }
 },
 "nbformat": 4,
 "nbformat_minor": 5
}
