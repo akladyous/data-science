{
 "cells": [
  {
   "cell_type": "markdown",
   "id": "ffa916b9-3f52-41f2-b931-d0c2e01965a9",
   "metadata": {},
   "source": [
    "#### generate random data"
   ]
  },
  {
   "cell_type": "code",
   "execution_count": 1,
   "id": "9e5dd9ba-ab6c-44a2-8081-2a9af0d787d3",
   "metadata": {},
   "outputs": [],
   "source": [
    "import numpy as np\n",
    "import pandas as pd"
   ]
  },
  {
   "cell_type": "code",
   "execution_count": 3,
   "id": "72ada905-4ae7-4e30-b0a6-0d65915ceb5a",
   "metadata": {},
   "outputs": [
    {
     "data": {
      "text/html": [
       "<div>\n",
       "<style scoped>\n",
       "    .dataframe tbody tr th:only-of-type {\n",
       "        vertical-align: middle;\n",
       "    }\n",
       "\n",
       "    .dataframe tbody tr th {\n",
       "        vertical-align: top;\n",
       "    }\n",
       "\n",
       "    .dataframe thead th {\n",
       "        text-align: right;\n",
       "    }\n",
       "</style>\n",
       "<table border=\"1\" class=\"dataframe\">\n",
       "  <thead>\n",
       "    <tr style=\"text-align: right;\">\n",
       "      <th></th>\n",
       "      <th>A</th>\n",
       "      <th>B</th>\n",
       "      <th>C</th>\n",
       "      <th>D</th>\n",
       "    </tr>\n",
       "  </thead>\n",
       "  <tbody>\n",
       "    <tr>\n",
       "      <th>2023-05-27</th>\n",
       "      <td>-0.750640</td>\n",
       "      <td>-0.018801</td>\n",
       "      <td>-0.224152</td>\n",
       "      <td>-1.127068</td>\n",
       "    </tr>\n",
       "    <tr>\n",
       "      <th>2023-05-28</th>\n",
       "      <td>-0.287862</td>\n",
       "      <td>-0.065951</td>\n",
       "      <td>0.152961</td>\n",
       "      <td>-0.123665</td>\n",
       "    </tr>\n",
       "    <tr>\n",
       "      <th>2023-05-29</th>\n",
       "      <td>-1.035270</td>\n",
       "      <td>-0.125274</td>\n",
       "      <td>-0.811227</td>\n",
       "      <td>1.179696</td>\n",
       "    </tr>\n",
       "    <tr>\n",
       "      <th>2023-05-30</th>\n",
       "      <td>-1.750559</td>\n",
       "      <td>1.558652</td>\n",
       "      <td>-1.181132</td>\n",
       "      <td>0.819035</td>\n",
       "    </tr>\n",
       "    <tr>\n",
       "      <th>2023-05-31</th>\n",
       "      <td>-0.877456</td>\n",
       "      <td>0.148764</td>\n",
       "      <td>1.379552</td>\n",
       "      <td>1.052836</td>\n",
       "    </tr>\n",
       "    <tr>\n",
       "      <th>2023-06-01</th>\n",
       "      <td>-1.090665</td>\n",
       "      <td>0.713048</td>\n",
       "      <td>1.999213</td>\n",
       "      <td>1.408747</td>\n",
       "    </tr>\n",
       "    <tr>\n",
       "      <th>2023-06-02</th>\n",
       "      <td>-0.102619</td>\n",
       "      <td>-0.967520</td>\n",
       "      <td>1.040045</td>\n",
       "      <td>0.588300</td>\n",
       "    </tr>\n",
       "  </tbody>\n",
       "</table>\n",
       "</div>"
      ],
      "text/plain": [
       "                   A         B         C         D\n",
       "2023-05-27 -0.750640 -0.018801 -0.224152 -1.127068\n",
       "2023-05-28 -0.287862 -0.065951  0.152961 -0.123665\n",
       "2023-05-29 -1.035270 -0.125274 -0.811227  1.179696\n",
       "2023-05-30 -1.750559  1.558652 -1.181132  0.819035\n",
       "2023-05-31 -0.877456  0.148764  1.379552  1.052836\n",
       "2023-06-01 -1.090665  0.713048  1.999213  1.408747\n",
       "2023-06-02 -0.102619 -0.967520  1.040045  0.588300"
      ]
     },
     "execution_count": 3,
     "metadata": {},
     "output_type": "execute_result"
    }
   ],
   "source": [
    "data7x4 = np.random.randn(7,4)\n",
    "\n",
    "column_names = [chr(x+65) for x in range(data7x4.shape[1])]\n",
    "current_date = np.datetime64('today', 'D')\n",
    "date_range = pd.date_range(current_date,periods=7)\n",
    "\n",
    "db7x4 = pd.DataFrame(data=data7x4, columns=column_names, index=date_range)\n",
    "db7x4"
   ]
  },
  {
   "cell_type": "code",
   "execution_count": 4,
   "id": "19ee8e05-66b4-4d98-a22e-45067aca9a57",
   "metadata": {},
   "outputs": [
    {
     "data": {
      "text/html": [
       "<div>\n",
       "<style scoped>\n",
       "    .dataframe tbody tr th:only-of-type {\n",
       "        vertical-align: middle;\n",
       "    }\n",
       "\n",
       "    .dataframe tbody tr th {\n",
       "        vertical-align: top;\n",
       "    }\n",
       "\n",
       "    .dataframe thead th {\n",
       "        text-align: right;\n",
       "    }\n",
       "</style>\n",
       "<table border=\"1\" class=\"dataframe\">\n",
       "  <thead>\n",
       "    <tr style=\"text-align: right;\">\n",
       "      <th></th>\n",
       "      <th>A</th>\n",
       "      <th>B</th>\n",
       "      <th>C</th>\n",
       "      <th>D</th>\n",
       "    </tr>\n",
       "  </thead>\n",
       "  <tbody>\n",
       "    <tr>\n",
       "      <th>2023-05-28</th>\n",
       "      <td>-0.287862</td>\n",
       "      <td>-0.065951</td>\n",
       "      <td>0.152961</td>\n",
       "      <td>-0.123665</td>\n",
       "    </tr>\n",
       "    <tr>\n",
       "      <th>2023-05-29</th>\n",
       "      <td>-1.035270</td>\n",
       "      <td>-0.125274</td>\n",
       "      <td>-0.811227</td>\n",
       "      <td>1.179696</td>\n",
       "    </tr>\n",
       "    <tr>\n",
       "      <th>2023-05-30</th>\n",
       "      <td>-1.750559</td>\n",
       "      <td>1.558652</td>\n",
       "      <td>-1.181132</td>\n",
       "      <td>0.819035</td>\n",
       "    </tr>\n",
       "  </tbody>\n",
       "</table>\n",
       "</div>"
      ],
      "text/plain": [
       "                   A         B         C         D\n",
       "2023-05-28 -0.287862 -0.065951  0.152961 -0.123665\n",
       "2023-05-29 -1.035270 -0.125274 -0.811227  1.179696\n",
       "2023-05-30 -1.750559  1.558652 -1.181132  0.819035"
      ]
     },
     "execution_count": 4,
     "metadata": {},
     "output_type": "execute_result"
    }
   ],
   "source": [
    "db7x4.loc['2023-05-28': '2023-05-30']"
   ]
  },
  {
   "cell_type": "code",
   "execution_count": 16,
   "id": "09924311-a291-4b34-8d5c-03a070d64204",
   "metadata": {},
   "outputs": [
    {
     "data": {
      "text/plain": [
       "A   -0.750640\n",
       "B   -0.018801\n",
       "C   -0.224152\n",
       "D   -1.127068\n",
       "Name: 2023-05-27 00:00:00, dtype: float64"
      ]
     },
     "execution_count": 16,
     "metadata": {},
     "output_type": "execute_result"
    }
   ],
   "source": [
    "db7x4.iloc[0]"
   ]
  },
  {
   "cell_type": "code",
   "execution_count": null,
   "id": "b3cd8fea-2455-42f5-9135-e3e854bcc17e",
   "metadata": {},
   "outputs": [],
   "source": []
  }
 ],
 "metadata": {
  "kernelspec": {
   "display_name": "Python 3 (ipykernel)",
   "language": "python",
   "name": "python3"
  },
  "language_info": {
   "codemirror_mode": {
    "name": "ipython",
    "version": 3
   },
   "file_extension": ".py",
   "mimetype": "text/x-python",
   "name": "python",
   "nbconvert_exporter": "python",
   "pygments_lexer": "ipython3",
   "version": "3.10.8"
  }
 },
 "nbformat": 4,
 "nbformat_minor": 5
}
