{
 "cells": [
  {
   "cell_type": "code",
   "execution_count": 8,
   "metadata": {},
   "outputs": [],
   "source": [
    "import pandas as pd\n",
    "import numpy as np"
   ]
  },
  {
   "cell_type": "code",
   "execution_count": 7,
   "metadata": {},
   "outputs": [],
   "source": [
    "def isnull_any(df: 'DataFrame or Series') -> 'DataFrame':\n",
    "    \"\"\" returns an array (Series) of boolean indicating whether each\n",
    "    corresponding element is missing.\"\"\"\n",
    "    return df.isnull().any() #-> return boolean series\n",
    "\n",
    "def isnull_values_any(df: 'DataFrame or Series') -> 'DataFrame':\n",
    "    \"\"\" return True or False whtere given dataset contain missing values. \"\"\"\n",
    "    return df.isnull().values.any()\n",
    "\n",
    "def isnull_sum(df: 'DataFrame or Series') -> ' DataFrame or Series':\n",
    "    \"\"\" return True or False whtere given dataset contain missing values. \"\"\"\n",
    "    return df.isnull().values.sum() > 0\n",
    "\n",
    "def isnull_values_sum(df: 'DataFrame or Series') -> 'DataFrame':\n",
    "    \"\"\" Return (Series) the sum of the missing values over the requested axis. \"\"\"\n",
    "    return df.isnull().sum()"
   ]
  },
  {
   "cell_type": "code",
   "execution_count": null,
   "metadata": {},
   "outputs": [],
   "source": []
  },
  {
   "cell_type": "code",
   "execution_count": 1,
   "metadata": {},
   "outputs": [],
   "source": [
    "def df_info(df):\n",
    "    df_nans=df.isnull().values.sum()\n",
    "    #df_nans=df.isna().sum().sum()\n",
    "    df_rows = df.shape[0]\n",
    "    df_columns = df.shape[1]\n",
    "    df_total_items = df.shape[0] * df.shape[1]\n",
    "    \n",
    "    print(f\"DataFrame Shape   : {df.shape[0]} rows and {df.shape[1]} columns\")\n",
    "    print(f\"DataFrame items   : {df_total_items}\")\n",
    "    print(f\"DataFrame Null    : {df_nans}  Null values\")\n",
    "    print(f\"DataFrame contain : {round(df_nans / df_total_items * 100, 2)}% Null Values \\n\")\n",
    "    \n",
    "    for x in range(df.columns.size):\n",
    "        print(f\"{df.columns[x].ljust(30,' ')} total nan : {df[df.columns[x]].isnull().values.sum()} with {round(df[df.columns[x]].isnull().values.sum() / df_rows * 100, 2)}%\")\n"
   ]
  },
  {
   "cell_type": "code",
   "execution_count": 1,
   "metadata": {},
   "outputs": [],
   "source": [
    "def dropcol(df, percentage:'integer number 1-100'):\n",
    "    for col in df:\n",
    "        if df[col].isnull().mean() > (percentage/100):\n",
    "            df.drop([col], axis=1, inplace=True)"
   ]
  },
  {
   "cell_type": "code",
   "execution_count": null,
   "metadata": {},
   "outputs": [],
   "source": []
  }
 ],
 "metadata": {
  "kernelspec": {
   "display_name": "Python 3 (ipykernel)",
   "language": "python",
   "name": "python3"
  },
  "language_info": {
   "codemirror_mode": {
    "name": "ipython",
    "version": 3
   },
   "file_extension": ".py",
   "mimetype": "text/x-python",
   "name": "python",
   "nbconvert_exporter": "python",
   "pygments_lexer": "ipython3",
   "version": "3.10.8"
  }
 },
 "nbformat": 4,
 "nbformat_minor": 4
}
