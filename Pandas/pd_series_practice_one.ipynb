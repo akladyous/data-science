{
 "cells": [
  {
   "cell_type": "code",
   "execution_count": 2,
   "id": "488e0cfd-d554-4a69-b4c5-15f7f88a5a10",
   "metadata": {},
   "outputs": [],
   "source": [
    "import numpy as np\n",
    "import pandas as pd"
   ]
  },
  {
   "cell_type": "code",
   "execution_count": 7,
   "id": "de52e4f2-4bbb-48c2-a15c-a4382f9559a4",
   "metadata": {},
   "outputs": [
    {
     "data": {
      "text/html": [
       "<div>\n",
       "<style scoped>\n",
       "    .dataframe tbody tr th:only-of-type {\n",
       "        vertical-align: middle;\n",
       "    }\n",
       "\n",
       "    .dataframe tbody tr th {\n",
       "        vertical-align: top;\n",
       "    }\n",
       "\n",
       "    .dataframe thead th {\n",
       "        text-align: right;\n",
       "    }\n",
       "</style>\n",
       "<table border=\"1\" class=\"dataframe\">\n",
       "  <thead>\n",
       "    <tr style=\"text-align: right;\">\n",
       "      <th></th>\n",
       "      <th>Unnamed: 0</th>\n",
       "      <th>code</th>\n",
       "      <th>name</th>\n",
       "    </tr>\n",
       "  </thead>\n",
       "  <tbody>\n",
       "    <tr>\n",
       "      <th>0</th>\n",
       "      <td>0</td>\n",
       "      <td>AF</td>\n",
       "      <td>Afghanistan</td>\n",
       "    </tr>\n",
       "    <tr>\n",
       "      <th>1</th>\n",
       "      <td>1</td>\n",
       "      <td>AL</td>\n",
       "      <td>Albania</td>\n",
       "    </tr>\n",
       "    <tr>\n",
       "      <th>2</th>\n",
       "      <td>2</td>\n",
       "      <td>DZ</td>\n",
       "      <td>Algeria</td>\n",
       "    </tr>\n",
       "    <tr>\n",
       "      <th>3</th>\n",
       "      <td>3</td>\n",
       "      <td>AS</td>\n",
       "      <td>American Samoa</td>\n",
       "    </tr>\n",
       "    <tr>\n",
       "      <th>4</th>\n",
       "      <td>4</td>\n",
       "      <td>AD</td>\n",
       "      <td>Andorra</td>\n",
       "    </tr>\n",
       "    <tr>\n",
       "      <th>...</th>\n",
       "      <td>...</td>\n",
       "      <td>...</td>\n",
       "      <td>...</td>\n",
       "    </tr>\n",
       "    <tr>\n",
       "      <th>244</th>\n",
       "      <td>244</td>\n",
       "      <td>EH</td>\n",
       "      <td>Western Sahara</td>\n",
       "    </tr>\n",
       "    <tr>\n",
       "      <th>245</th>\n",
       "      <td>245</td>\n",
       "      <td>YE</td>\n",
       "      <td>Yemen</td>\n",
       "    </tr>\n",
       "    <tr>\n",
       "      <th>246</th>\n",
       "      <td>246</td>\n",
       "      <td>ZM</td>\n",
       "      <td>Zambia</td>\n",
       "    </tr>\n",
       "    <tr>\n",
       "      <th>247</th>\n",
       "      <td>247</td>\n",
       "      <td>ZW</td>\n",
       "      <td>Zimbabwe</td>\n",
       "    </tr>\n",
       "    <tr>\n",
       "      <th>248</th>\n",
       "      <td>248</td>\n",
       "      <td>AX</td>\n",
       "      <td>Åland Islands</td>\n",
       "    </tr>\n",
       "  </tbody>\n",
       "</table>\n",
       "<p>249 rows × 3 columns</p>\n",
       "</div>"
      ],
      "text/plain": [
       "     Unnamed: 0 code            name\n",
       "0             0   AF     Afghanistan\n",
       "1             1   AL         Albania\n",
       "2             2   DZ         Algeria\n",
       "3             3   AS  American Samoa\n",
       "4             4   AD         Andorra\n",
       "..          ...  ...             ...\n",
       "244         244   EH  Western Sahara\n",
       "245         245   YE           Yemen\n",
       "246         246   ZM          Zambia\n",
       "247         247   ZW        Zimbabwe\n",
       "248         248   AX   Åland Islands\n",
       "\n",
       "[249 rows x 3 columns]"
      ]
     },
     "execution_count": 7,
     "metadata": {},
     "output_type": "execute_result"
    }
   ],
   "source": [
    "countries_db = pd.read_csv(\"../data/countries.csv\")\n",
    "countries_db"
   ]
  },
  {
   "cell_type": "code",
   "execution_count": null,
   "id": "3ca2ff42-5b05-40fd-bfcd-24cd7daf8f4f",
   "metadata": {},
   "outputs": [],
   "source": [
    "countries_db.get('name').iloc[:5]"
   ]
  },
  {
   "cell_type": "code",
   "execution_count": 8,
   "id": "68e01f2e-3758-4827-886d-23af9e9eb60a",
   "metadata": {},
   "outputs": [
    {
     "data": {
      "text/plain": [
       "0           Albania\n",
       "1     Åland Islands\n",
       "2           Algeria\n",
       "3    American Samoa\n",
       "4           Andorra\n",
       "Name: name, dtype: object"
      ]
     },
     "execution_count": 8,
     "metadata": {},
     "output_type": "execute_result"
    }
   ],
   "source": [
    "countries_db['name'].iloc[:5]"
   ]
  },
  {
   "cell_type": "code",
   "execution_count": null,
   "id": "5efffaff-f808-4f7a-9700-71a7c00b6d65",
   "metadata": {},
   "outputs": [],
   "source": []
  },
  {
   "cell_type": "code",
   "execution_count": 2,
   "id": "c9401e7d-1398-4ddf-8cb3-45b50a9ceb6a",
   "metadata": {},
   "outputs": [
    {
     "data": {
      "text/html": [
       "<div>\n",
       "<style scoped>\n",
       "    .dataframe tbody tr th:only-of-type {\n",
       "        vertical-align: middle;\n",
       "    }\n",
       "\n",
       "    .dataframe tbody tr th {\n",
       "        vertical-align: top;\n",
       "    }\n",
       "\n",
       "    .dataframe thead th {\n",
       "        text-align: right;\n",
       "    }\n",
       "</style>\n",
       "<table border=\"1\" class=\"dataframe\">\n",
       "  <thead>\n",
       "    <tr style=\"text-align: right;\">\n",
       "      <th></th>\n",
       "      <th>a</th>\n",
       "      <th>b</th>\n",
       "      <th>c</th>\n",
       "    </tr>\n",
       "  </thead>\n",
       "  <tbody>\n",
       "    <tr>\n",
       "      <th>0</th>\n",
       "      <td>1</td>\n",
       "      <td>2</td>\n",
       "      <td>3</td>\n",
       "    </tr>\n",
       "    <tr>\n",
       "      <th>1</th>\n",
       "      <td>4</td>\n",
       "      <td>5</td>\n",
       "      <td>6</td>\n",
       "    </tr>\n",
       "    <tr>\n",
       "      <th>2</th>\n",
       "      <td>7</td>\n",
       "      <td>8</td>\n",
       "      <td>9</td>\n",
       "    </tr>\n",
       "  </tbody>\n",
       "</table>\n",
       "</div>"
      ],
      "text/plain": [
       "   a  b  c\n",
       "0  1  2  3\n",
       "1  4  5  6\n",
       "2  7  8  9"
      ]
     },
     "execution_count": 2,
     "metadata": {},
     "output_type": "execute_result"
    }
   ],
   "source": [
    "n1 = pd.DataFrame([[1,2,3], [4,5,6], [7,8,9]], columns=['a', 'b', 'c']).squeeze('columns')\n",
    "n1"
   ]
  },
  {
   "cell_type": "code",
   "execution_count": 3,
   "id": "85fe742b-6944-4050-9e59-8cf8aa57afa4",
   "metadata": {},
   "outputs": [
    {
     "data": {
      "text/plain": [
       "0                  Bulbasaur\n",
       "1                    Ivysaur\n",
       "2                   Venusaur\n",
       "3      VenusaurMega Venusaur\n",
       "4                 Charmander\n",
       "               ...          \n",
       "795                  Diancie\n",
       "796      DiancieMega Diancie\n",
       "797      HoopaHoopa Confined\n",
       "798       HoopaHoopa Unbound\n",
       "799                Volcanion\n",
       "Name: Name, Length: 800, dtype: object"
      ]
     },
     "execution_count": 3,
     "metadata": {},
     "output_type": "execute_result"
    }
   ],
   "source": [
    "pokemons_one = pd.read_csv(\"../data/pokemon.csv\", usecols=[\"Name\"]).squeeze(\"columns\")\n",
    "pokemons_one"
   ]
  },
  {
   "cell_type": "code",
   "execution_count": 4,
   "id": "739e774c-1d8c-4684-bc18-f18b9549f86d",
   "metadata": {},
   "outputs": [
    {
     "data": {
      "text/html": [
       "<div>\n",
       "<style scoped>\n",
       "    .dataframe tbody tr th:only-of-type {\n",
       "        vertical-align: middle;\n",
       "    }\n",
       "\n",
       "    .dataframe tbody tr th {\n",
       "        vertical-align: top;\n",
       "    }\n",
       "\n",
       "    .dataframe thead th {\n",
       "        text-align: right;\n",
       "    }\n",
       "</style>\n",
       "<table border=\"1\" class=\"dataframe\">\n",
       "  <thead>\n",
       "    <tr style=\"text-align: right;\">\n",
       "      <th></th>\n",
       "      <th>Stock Price</th>\n",
       "    </tr>\n",
       "  </thead>\n",
       "  <tbody>\n",
       "    <tr>\n",
       "      <th>0</th>\n",
       "      <td>50.12</td>\n",
       "    </tr>\n",
       "    <tr>\n",
       "      <th>1</th>\n",
       "      <td>54.10</td>\n",
       "    </tr>\n",
       "    <tr>\n",
       "      <th>2</th>\n",
       "      <td>54.65</td>\n",
       "    </tr>\n",
       "    <tr>\n",
       "      <th>3</th>\n",
       "      <td>52.38</td>\n",
       "    </tr>\n",
       "    <tr>\n",
       "      <th>4</th>\n",
       "      <td>52.95</td>\n",
       "    </tr>\n",
       "    <tr>\n",
       "      <th>...</th>\n",
       "      <td>...</td>\n",
       "    </tr>\n",
       "    <tr>\n",
       "      <th>3007</th>\n",
       "      <td>772.88</td>\n",
       "    </tr>\n",
       "    <tr>\n",
       "      <th>3008</th>\n",
       "      <td>771.07</td>\n",
       "    </tr>\n",
       "    <tr>\n",
       "      <th>3009</th>\n",
       "      <td>773.18</td>\n",
       "    </tr>\n",
       "    <tr>\n",
       "      <th>3010</th>\n",
       "      <td>771.61</td>\n",
       "    </tr>\n",
       "    <tr>\n",
       "      <th>3011</th>\n",
       "      <td>782.22</td>\n",
       "    </tr>\n",
       "  </tbody>\n",
       "</table>\n",
       "<p>3012 rows × 1 columns</p>\n",
       "</div>"
      ],
      "text/plain": [
       "      Stock Price\n",
       "0           50.12\n",
       "1           54.10\n",
       "2           54.65\n",
       "3           52.38\n",
       "4           52.95\n",
       "...           ...\n",
       "3007       772.88\n",
       "3008       771.07\n",
       "3009       773.18\n",
       "3010       771.61\n",
       "3011       782.22\n",
       "\n",
       "[3012 rows x 1 columns]"
      ]
     },
     "execution_count": 4,
     "metadata": {},
     "output_type": "execute_result"
    }
   ],
   "source": [
    "google_stock_db = pd.read_csv(\"../data/google_stock_price.csv\")\n",
    "google_stock_db"
   ]
  },
  {
   "cell_type": "code",
   "execution_count": 5,
   "id": "b469b08a-b2c9-4ee0-a810-b58a130ce6cc",
   "metadata": {},
   "outputs": [
    {
     "data": {
      "text/plain": [
       "0        50.12\n",
       "1        54.10\n",
       "2        54.65\n",
       "3        52.38\n",
       "4        52.95\n",
       "         ...  \n",
       "3007    772.88\n",
       "3008    771.07\n",
       "3009    773.18\n",
       "3010    771.61\n",
       "3011    782.22\n",
       "Name: Stock Price, Length: 3012, dtype: float64"
      ]
     },
     "execution_count": 5,
     "metadata": {},
     "output_type": "execute_result"
    }
   ],
   "source": [
    "google = pd.read_csv(\"../data/google_stock_price.csv\").squeeze(1)\n",
    "google"
   ]
  },
  {
   "cell_type": "code",
   "execution_count": 6,
   "id": "1dc3fd62-add6-437d-bc5d-c8214451ff38",
   "metadata": {},
   "outputs": [
    {
     "data": {
      "text/plain": [
       "0    50.12\n",
       "1    54.10\n",
       "2    54.65\n",
       "3    52.38\n",
       "4    52.95\n",
       "Name: Stock Price, dtype: float64"
      ]
     },
     "execution_count": 6,
     "metadata": {},
     "output_type": "execute_result"
    }
   ],
   "source": [
    "google.head()"
   ]
  },
  {
   "cell_type": "code",
   "execution_count": 7,
   "id": "7a4e0a21-4e6f-4b8b-8f01-c18dc0ec6b22",
   "metadata": {},
   "outputs": [
    {
     "data": {
      "text/plain": [
       "3007    772.88\n",
       "3008    771.07\n",
       "3009    773.18\n",
       "3010    771.61\n",
       "3011    782.22\n",
       "Name: Stock Price, dtype: float64"
      ]
     },
     "execution_count": 7,
     "metadata": {},
     "output_type": "execute_result"
    }
   ],
   "source": [
    "google.tail()"
   ]
  },
  {
   "cell_type": "code",
   "execution_count": 8,
   "id": "c0e3480b-fb76-468c-bfc3-75d51b9801a4",
   "metadata": {},
   "outputs": [
    {
     "data": {
      "text/plain": [
       "count    3012.000000\n",
       "mean      334.310093\n",
       "std       173.187205\n",
       "min        49.950000\n",
       "25%       218.045000\n",
       "50%       283.315000\n",
       "75%       443.000000\n",
       "max       782.220000\n",
       "Name: Stock Price, dtype: float64"
      ]
     },
     "execution_count": 8,
     "metadata": {},
     "output_type": "execute_result"
    }
   ],
   "source": [
    "google.describe()"
   ]
  },
  {
   "cell_type": "code",
   "execution_count": 9,
   "id": "854c123c-5b4b-4ad9-8944-db62a019fd54",
   "metadata": {},
   "outputs": [
    {
     "name": "stdout",
     "output_type": "stream",
     "text": [
      "<class 'pandas.core.series.Series'>\n",
      "RangeIndex: 3012 entries, 0 to 3011\n",
      "Series name: Stock Price\n",
      "Non-Null Count  Dtype  \n",
      "--------------  -----  \n",
      "3012 non-null   float64\n",
      "dtypes: float64(1)\n",
      "memory usage: 23.7 KB\n"
     ]
    }
   ],
   "source": [
    "google.info()"
   ]
  },
  {
   "cell_type": "code",
   "execution_count": null,
   "id": "47022025-4dcc-4f02-8809-d8c49f72689c",
   "metadata": {},
   "outputs": [],
   "source": []
  },
  {
   "cell_type": "code",
   "execution_count": 10,
   "id": "c2d35d9f-1ece-4e15-9bfc-504351b8a37c",
   "metadata": {},
   "outputs": [
    {
     "data": {
      "text/plain": [
       "False"
      ]
     },
     "execution_count": 10,
     "metadata": {},
     "output_type": "execute_result"
    }
   ],
   "source": [
    "google.is_monotonic_increasing"
   ]
  },
  {
   "cell_type": "code",
   "execution_count": 11,
   "id": "ce409a1b-519d-4c89-a002-4e4f52a51bc0",
   "metadata": {},
   "outputs": [
    {
     "data": {
      "text/plain": [
       "False"
      ]
     },
     "execution_count": 11,
     "metadata": {},
     "output_type": "execute_result"
    }
   ],
   "source": [
    "google.is_monotonic_decreasing"
   ]
  },
  {
   "cell_type": "code",
   "execution_count": 12,
   "id": "0b0eeb5c-cae0-4bd0-a732-0a65945716cc",
   "metadata": {},
   "outputs": [
    {
     "data": {
      "text/plain": [
       "{0: 1, 1: 4, 2: 7}"
      ]
     },
     "execution_count": 12,
     "metadata": {},
     "output_type": "execute_result"
    }
   ],
   "source": [
    "dict(n1[['a']].squeeze())"
   ]
  },
  {
   "cell_type": "code",
   "execution_count": 13,
   "id": "f25cdc23-a8e6-4967-bb50-d5c3f30c2845",
   "metadata": {},
   "outputs": [
    {
     "data": {
      "text/plain": [
       "11       49.95\n",
       "9        50.07\n",
       "0        50.12\n",
       "10       50.70\n",
       "12       50.74\n",
       "         ...  \n",
       "3010    771.61\n",
       "3007    772.88\n",
       "3009    773.18\n",
       "2859    776.60\n",
       "3011    782.22\n",
       "Name: Stock Price, Length: 3012, dtype: float64"
      ]
     },
     "execution_count": 13,
     "metadata": {},
     "output_type": "execute_result"
    }
   ],
   "source": [
    "google.sort_values(ascending=True)"
   ]
  },
  {
   "cell_type": "code",
   "execution_count": 14,
   "id": "f8b945a5-e7df-41b0-82c0-5c04d7ce41bb",
   "metadata": {},
   "outputs": [
    {
     "data": {
      "text/plain": [
       "0        49.95\n",
       "1        50.07\n",
       "2        50.12\n",
       "3        50.70\n",
       "4        50.74\n",
       "         ...  \n",
       "3007    771.61\n",
       "3008    772.88\n",
       "3009    773.18\n",
       "3010    776.60\n",
       "3011    782.22\n",
       "Name: Stock Price, Length: 3012, dtype: float64"
      ]
     },
     "execution_count": 14,
     "metadata": {},
     "output_type": "execute_result"
    }
   ],
   "source": [
    "google.sort_values(ascending=True, ignore_index=True)"
   ]
  },
  {
   "cell_type": "code",
   "execution_count": null,
   "id": "694f5147-494e-43c3-9e08-9326236e86b4",
   "metadata": {},
   "outputs": [],
   "source": []
  },
  {
   "cell_type": "code",
   "execution_count": 15,
   "id": "8422d317-2c77-4523-9e1b-32266822dad7",
   "metadata": {},
   "outputs": [
    {
     "data": {
      "text/plain": [
       "510                  Abomasnow\n",
       "511    AbomasnowMega Abomasnow\n",
       "68                        Abra\n",
       "392                      Absol\n",
       "393            AbsolMega Absol\n",
       "                ...           \n",
       "632                    Zoroark\n",
       "631                      Zorua\n",
       "46                       Zubat\n",
       "695                   Zweilous\n",
       "794           Zygarde50% Forme\n",
       "Name: Name, Length: 800, dtype: object"
      ]
     },
     "execution_count": 15,
     "metadata": {},
     "output_type": "execute_result"
    }
   ],
   "source": [
    "pokemons_one.sort_values()"
   ]
  },
  {
   "cell_type": "code",
   "execution_count": 16,
   "id": "97528e94-1b46-4a35-a84c-8951d198aa85",
   "metadata": {},
   "outputs": [
    {
     "data": {
      "text/plain": [
       "510                  Abomasnow\n",
       "511    AbomasnowMega Abomasnow\n",
       "68                        Abra\n",
       "392                      Absol\n",
       "393            AbsolMega Absol\n",
       "                ...           \n",
       "632                    Zoroark\n",
       "631                      Zorua\n",
       "46                       Zubat\n",
       "695                   Zweilous\n",
       "794           Zygarde50% Forme\n",
       "Name: Name, Length: 800, dtype: object"
      ]
     },
     "execution_count": 16,
     "metadata": {},
     "output_type": "execute_result"
    }
   ],
   "source": [
    "pokemons_one.sort_values(ascending=True, inplace=False)"
   ]
  },
  {
   "cell_type": "code",
   "execution_count": 17,
   "id": "57362e83-682c-458e-8894-2021f6aae368",
   "metadata": {},
   "outputs": [
    {
     "data": {
      "text/plain": [
       "True"
      ]
     },
     "execution_count": 17,
     "metadata": {},
     "output_type": "execute_result"
    }
   ],
   "source": [
    "\"Zorua\" in pokemons_one.values"
   ]
  },
  {
   "cell_type": "code",
   "execution_count": 18,
   "id": "c65a0c87-8e4c-4410-b29b-2501e56d76aa",
   "metadata": {},
   "outputs": [
    {
     "data": {
      "text/plain": [
       "0                Bulbasaur\n",
       "1                  Ivysaur\n",
       "2                 Venusaur\n",
       "3    VenusaurMega Venusaur\n",
       "4               Charmander\n",
       "Name: Name, dtype: object"
      ]
     },
     "execution_count": 18,
     "metadata": {},
     "output_type": "execute_result"
    }
   ],
   "source": [
    "pokemons_one[0:5]"
   ]
  },
  {
   "cell_type": "code",
   "execution_count": 19,
   "id": "235af73b-bb11-432b-a4cd-4f81d8e53de7",
   "metadata": {},
   "outputs": [
    {
     "data": {
      "text/plain": [
       "1                  Ivysaur\n",
       "3    VenusaurMega Venusaur\n",
       "5               Charmeleon\n",
       "Name: Name, dtype: object"
      ]
     },
     "execution_count": 19,
     "metadata": {},
     "output_type": "execute_result"
    }
   ],
   "source": [
    "pokemons_one[[1,3,5]]"
   ]
  },
  {
   "cell_type": "code",
   "execution_count": null,
   "id": "ec0aa36d-b246-41bf-854f-cc3e31a7ca03",
   "metadata": {},
   "outputs": [],
   "source": []
  },
  {
   "cell_type": "code",
   "execution_count": 20,
   "id": "54e98e04-03b9-4d23-9a8e-b93a94f7b161",
   "metadata": {},
   "outputs": [],
   "source": [
    "sa = pd.Series([1, 2, 3], index=list('abc'))\n",
    "dfa = sa.copy()"
   ]
  },
  {
   "cell_type": "code",
   "execution_count": 21,
   "id": "6ea2fc2f-24b4-4a79-93da-6078dd729c6e",
   "metadata": {},
   "outputs": [
    {
     "data": {
      "text/plain": [
       "2"
      ]
     },
     "execution_count": 21,
     "metadata": {},
     "output_type": "execute_result"
    }
   ],
   "source": [
    "sa.b"
   ]
  },
  {
   "cell_type": "code",
   "execution_count": 22,
   "id": "f391f868-dace-48f3-8e32-edd2bc92d3ba",
   "metadata": {},
   "outputs": [
    {
     "data": {
      "text/html": [
       "<div>\n",
       "<style scoped>\n",
       "    .dataframe tbody tr th:only-of-type {\n",
       "        vertical-align: middle;\n",
       "    }\n",
       "\n",
       "    .dataframe tbody tr th {\n",
       "        vertical-align: top;\n",
       "    }\n",
       "\n",
       "    .dataframe thead th {\n",
       "        text-align: right;\n",
       "    }\n",
       "</style>\n",
       "<table border=\"1\" class=\"dataframe\">\n",
       "  <thead>\n",
       "    <tr style=\"text-align: right;\">\n",
       "      <th></th>\n",
       "      <th>#</th>\n",
       "      <th>Type 1</th>\n",
       "      <th>Type 2</th>\n",
       "      <th>Total</th>\n",
       "      <th>HP</th>\n",
       "      <th>Attack</th>\n",
       "      <th>Defense</th>\n",
       "      <th>Sp. Atk</th>\n",
       "      <th>Sp. Def</th>\n",
       "      <th>Speed</th>\n",
       "      <th>Generation</th>\n",
       "      <th>Legendary</th>\n",
       "    </tr>\n",
       "    <tr>\n",
       "      <th>Name</th>\n",
       "      <th></th>\n",
       "      <th></th>\n",
       "      <th></th>\n",
       "      <th></th>\n",
       "      <th></th>\n",
       "      <th></th>\n",
       "      <th></th>\n",
       "      <th></th>\n",
       "      <th></th>\n",
       "      <th></th>\n",
       "      <th></th>\n",
       "      <th></th>\n",
       "    </tr>\n",
       "  </thead>\n",
       "  <tbody>\n",
       "    <tr>\n",
       "      <th>Bulbasaur</th>\n",
       "      <td>1</td>\n",
       "      <td>Grass</td>\n",
       "      <td>Poison</td>\n",
       "      <td>318</td>\n",
       "      <td>45</td>\n",
       "      <td>49</td>\n",
       "      <td>49</td>\n",
       "      <td>65</td>\n",
       "      <td>65</td>\n",
       "      <td>45</td>\n",
       "      <td>1</td>\n",
       "      <td>False</td>\n",
       "    </tr>\n",
       "    <tr>\n",
       "      <th>Ivysaur</th>\n",
       "      <td>2</td>\n",
       "      <td>Grass</td>\n",
       "      <td>Poison</td>\n",
       "      <td>405</td>\n",
       "      <td>60</td>\n",
       "      <td>62</td>\n",
       "      <td>63</td>\n",
       "      <td>80</td>\n",
       "      <td>80</td>\n",
       "      <td>60</td>\n",
       "      <td>1</td>\n",
       "      <td>False</td>\n",
       "    </tr>\n",
       "    <tr>\n",
       "      <th>Venusaur</th>\n",
       "      <td>3</td>\n",
       "      <td>Grass</td>\n",
       "      <td>Poison</td>\n",
       "      <td>525</td>\n",
       "      <td>80</td>\n",
       "      <td>82</td>\n",
       "      <td>83</td>\n",
       "      <td>100</td>\n",
       "      <td>100</td>\n",
       "      <td>80</td>\n",
       "      <td>1</td>\n",
       "      <td>False</td>\n",
       "    </tr>\n",
       "    <tr>\n",
       "      <th>VenusaurMega Venusaur</th>\n",
       "      <td>3</td>\n",
       "      <td>Grass</td>\n",
       "      <td>Poison</td>\n",
       "      <td>625</td>\n",
       "      <td>80</td>\n",
       "      <td>100</td>\n",
       "      <td>123</td>\n",
       "      <td>122</td>\n",
       "      <td>120</td>\n",
       "      <td>80</td>\n",
       "      <td>1</td>\n",
       "      <td>False</td>\n",
       "    </tr>\n",
       "    <tr>\n",
       "      <th>Charmander</th>\n",
       "      <td>4</td>\n",
       "      <td>Fire</td>\n",
       "      <td>NaN</td>\n",
       "      <td>309</td>\n",
       "      <td>39</td>\n",
       "      <td>52</td>\n",
       "      <td>43</td>\n",
       "      <td>60</td>\n",
       "      <td>50</td>\n",
       "      <td>65</td>\n",
       "      <td>1</td>\n",
       "      <td>False</td>\n",
       "    </tr>\n",
       "    <tr>\n",
       "      <th>...</th>\n",
       "      <td>...</td>\n",
       "      <td>...</td>\n",
       "      <td>...</td>\n",
       "      <td>...</td>\n",
       "      <td>...</td>\n",
       "      <td>...</td>\n",
       "      <td>...</td>\n",
       "      <td>...</td>\n",
       "      <td>...</td>\n",
       "      <td>...</td>\n",
       "      <td>...</td>\n",
       "      <td>...</td>\n",
       "    </tr>\n",
       "    <tr>\n",
       "      <th>Diancie</th>\n",
       "      <td>719</td>\n",
       "      <td>Rock</td>\n",
       "      <td>Fairy</td>\n",
       "      <td>600</td>\n",
       "      <td>50</td>\n",
       "      <td>100</td>\n",
       "      <td>150</td>\n",
       "      <td>100</td>\n",
       "      <td>150</td>\n",
       "      <td>50</td>\n",
       "      <td>6</td>\n",
       "      <td>True</td>\n",
       "    </tr>\n",
       "    <tr>\n",
       "      <th>DiancieMega Diancie</th>\n",
       "      <td>719</td>\n",
       "      <td>Rock</td>\n",
       "      <td>Fairy</td>\n",
       "      <td>700</td>\n",
       "      <td>50</td>\n",
       "      <td>160</td>\n",
       "      <td>110</td>\n",
       "      <td>160</td>\n",
       "      <td>110</td>\n",
       "      <td>110</td>\n",
       "      <td>6</td>\n",
       "      <td>True</td>\n",
       "    </tr>\n",
       "    <tr>\n",
       "      <th>HoopaHoopa Confined</th>\n",
       "      <td>720</td>\n",
       "      <td>Psychic</td>\n",
       "      <td>Ghost</td>\n",
       "      <td>600</td>\n",
       "      <td>80</td>\n",
       "      <td>110</td>\n",
       "      <td>60</td>\n",
       "      <td>150</td>\n",
       "      <td>130</td>\n",
       "      <td>70</td>\n",
       "      <td>6</td>\n",
       "      <td>True</td>\n",
       "    </tr>\n",
       "    <tr>\n",
       "      <th>HoopaHoopa Unbound</th>\n",
       "      <td>720</td>\n",
       "      <td>Psychic</td>\n",
       "      <td>Dark</td>\n",
       "      <td>680</td>\n",
       "      <td>80</td>\n",
       "      <td>160</td>\n",
       "      <td>60</td>\n",
       "      <td>170</td>\n",
       "      <td>130</td>\n",
       "      <td>80</td>\n",
       "      <td>6</td>\n",
       "      <td>True</td>\n",
       "    </tr>\n",
       "    <tr>\n",
       "      <th>Volcanion</th>\n",
       "      <td>721</td>\n",
       "      <td>Fire</td>\n",
       "      <td>Water</td>\n",
       "      <td>600</td>\n",
       "      <td>80</td>\n",
       "      <td>110</td>\n",
       "      <td>120</td>\n",
       "      <td>130</td>\n",
       "      <td>90</td>\n",
       "      <td>70</td>\n",
       "      <td>6</td>\n",
       "      <td>True</td>\n",
       "    </tr>\n",
       "  </tbody>\n",
       "</table>\n",
       "<p>800 rows × 12 columns</p>\n",
       "</div>"
      ],
      "text/plain": [
       "                         #   Type 1  Type 2  Total  HP  Attack  Defense  \\\n",
       "Name                                                                      \n",
       "Bulbasaur                1    Grass  Poison    318  45      49       49   \n",
       "Ivysaur                  2    Grass  Poison    405  60      62       63   \n",
       "Venusaur                 3    Grass  Poison    525  80      82       83   \n",
       "VenusaurMega Venusaur    3    Grass  Poison    625  80     100      123   \n",
       "Charmander               4     Fire     NaN    309  39      52       43   \n",
       "...                    ...      ...     ...    ...  ..     ...      ...   \n",
       "Diancie                719     Rock   Fairy    600  50     100      150   \n",
       "DiancieMega Diancie    719     Rock   Fairy    700  50     160      110   \n",
       "HoopaHoopa Confined    720  Psychic   Ghost    600  80     110       60   \n",
       "HoopaHoopa Unbound     720  Psychic    Dark    680  80     160       60   \n",
       "Volcanion              721     Fire   Water    600  80     110      120   \n",
       "\n",
       "                       Sp. Atk  Sp. Def  Speed  Generation  Legendary  \n",
       "Name                                                                   \n",
       "Bulbasaur                   65       65     45           1      False  \n",
       "Ivysaur                     80       80     60           1      False  \n",
       "Venusaur                   100      100     80           1      False  \n",
       "VenusaurMega Venusaur      122      120     80           1      False  \n",
       "Charmander                  60       50     65           1      False  \n",
       "...                        ...      ...    ...         ...        ...  \n",
       "Diancie                    100      150     50           6       True  \n",
       "DiancieMega Diancie        160      110    110           6       True  \n",
       "HoopaHoopa Confined        150      130     70           6       True  \n",
       "HoopaHoopa Unbound         170      130     80           6       True  \n",
       "Volcanion                  130       90     70           6       True  \n",
       "\n",
       "[800 rows x 12 columns]"
      ]
     },
     "execution_count": 22,
     "metadata": {},
     "output_type": "execute_result"
    }
   ],
   "source": [
    "pokemons_labeled = pd.read_csv(\"../data/pokemon.csv\", index_col='Name')\n",
    "pokemons_labeled"
   ]
  },
  {
   "cell_type": "code",
   "execution_count": 23,
   "id": "ea15118d-91ec-4bbd-8808-0fc5fe450e9b",
   "metadata": {},
   "outputs": [
    {
     "data": {
      "text/plain": [
       "Name\n",
       "Bulbasaur                  Grass\n",
       "Ivysaur                    Grass\n",
       "Venusaur                   Grass\n",
       "VenusaurMega Venusaur      Grass\n",
       "Charmander                  Fire\n",
       "                          ...   \n",
       "Diancie                     Rock\n",
       "DiancieMega Diancie         Rock\n",
       "HoopaHoopa Confined      Psychic\n",
       "HoopaHoopa Unbound       Psychic\n",
       "Volcanion                   Fire\n",
       "Name: Type 1, Length: 800, dtype: object"
      ]
     },
     "execution_count": 23,
     "metadata": {},
     "output_type": "execute_result"
    }
   ],
   "source": [
    "pokemons_type1 = pokemons_labeled['Type 1']\n",
    "pokemons_type1"
   ]
  },
  {
   "cell_type": "code",
   "execution_count": 24,
   "id": "2858caaf-60e8-436e-b77d-6a2cf4092a9f",
   "metadata": {},
   "outputs": [
    {
     "data": {
      "text/plain": [
       "'Grass'"
      ]
     },
     "execution_count": 24,
     "metadata": {},
     "output_type": "execute_result"
    }
   ],
   "source": [
    "pokemons_type1[0]"
   ]
  },
  {
   "cell_type": "code",
   "execution_count": 25,
   "id": "c6aa61e2-8730-4f64-b72f-9358f2c70290",
   "metadata": {},
   "outputs": [
    {
     "data": {
      "text/plain": [
       "Name\n",
       "Bulbasaur                Grass\n",
       "Ivysaur                  Grass\n",
       "Venusaur                 Grass\n",
       "VenusaurMega Venusaur    Grass\n",
       "Charmander                Fire\n",
       "Name: Type 1, dtype: object"
      ]
     },
     "execution_count": 25,
     "metadata": {},
     "output_type": "execute_result"
    }
   ],
   "source": [
    "pokemons_type1[0:5]"
   ]
  },
  {
   "cell_type": "code",
   "execution_count": 26,
   "id": "9b7a63d2-7fbf-4ed6-8bc3-39d683013491",
   "metadata": {},
   "outputs": [
    {
     "data": {
      "text/plain": [
       "'Grass'"
      ]
     },
     "execution_count": 26,
     "metadata": {},
     "output_type": "execute_result"
    }
   ],
   "source": [
    "pokemons_type1['Bulbasaur']"
   ]
  },
  {
   "cell_type": "code",
   "execution_count": 27,
   "id": "00f88709-dc38-4316-94a8-3143296f28c5",
   "metadata": {},
   "outputs": [
    {
     "data": {
      "text/plain": [
       "Name\n",
       "Charmander                    Fire\n",
       "Charmeleon                    Fire\n",
       "Charizard                     Fire\n",
       "CharizardMega Charizard X     Fire\n",
       "CharizardMega Charizard Y     Fire\n",
       "Squirtle                     Water\n",
       "Name: Type 1, dtype: object"
      ]
     },
     "execution_count": 27,
     "metadata": {},
     "output_type": "execute_result"
    }
   ],
   "source": [
    "pokemons_type1['Charmander':'Squirtle']"
   ]
  },
  {
   "cell_type": "code",
   "execution_count": 28,
   "id": "65db84f5-f793-4a71-884a-92576ef7c0d4",
   "metadata": {},
   "outputs": [
    {
     "data": {
      "text/plain": [
       "Name\n",
       "Pidgey                   Normal\n",
       "Pidgeotto                Normal\n",
       "Pidgeot                  Normal\n",
       "PidgeotMega Pidgeot      Normal\n",
       "Pikachu                Electric\n",
       "Pinsir                      Bug\n",
       "PinsirMega Pinsir           Bug\n",
       "Pichu                  Electric\n",
       "Pineco                      Bug\n",
       "Piloswine                   Ice\n",
       "Piplup                    Water\n",
       "Pignite                    Fire\n",
       "Pidove                   Normal\n",
       "Name: Type 1, dtype: object"
      ]
     },
     "execution_count": 28,
     "metadata": {},
     "output_type": "execute_result"
    }
   ],
   "source": [
    "pokemons_type1[pokemons_type1.index.str.startswith('Pi')]"
   ]
  },
  {
   "cell_type": "code",
   "execution_count": 29,
   "id": "f0a05f03-683e-44b3-b1da-73a1b891c460",
   "metadata": {},
   "outputs": [
    {
     "data": {
      "text/plain": [
       "Name\n",
       "Pikachu    Electric\n",
       "Name: Type 1, dtype: object"
      ]
     },
     "execution_count": 29,
     "metadata": {},
     "output_type": "execute_result"
    }
   ],
   "source": [
    "pokemons_type1[pokemons_type1.index == 'Pikachu']"
   ]
  },
  {
   "cell_type": "code",
   "execution_count": 30,
   "id": "1df03966-462f-4180-bebf-9ae4294d145b",
   "metadata": {},
   "outputs": [
    {
     "name": "stdout",
     "output_type": "stream",
     "text": [
      "Series.get: using get method return None in values doesn't exists\n"
     ]
    }
   ],
   "source": [
    "pokemons_type1_result = pokemons_type1.get('test')\n",
    "if isinstance(pokemons_type1_result, type(None)):\n",
    "    print('Series.get: using get method return None in values doesn\\'t exists')\n",
    "else:\n",
    "    print(pokemons_type1_result)"
   ]
  },
  {
   "cell_type": "code",
   "execution_count": 31,
   "id": "ef628ee1-7221-40d3-817b-2811fdce30fa",
   "metadata": {},
   "outputs": [
    {
     "data": {
      "text/plain": [
       "False"
      ]
     },
     "execution_count": 31,
     "metadata": {},
     "output_type": "execute_result"
    }
   ],
   "source": [
    "pokemons_type1.get('Pikachu1', False)"
   ]
  },
  {
   "cell_type": "code",
   "execution_count": 32,
   "id": "2afb26fa-60e1-4956-bb47-d02f8a9d4bef",
   "metadata": {},
   "outputs": [
    {
     "name": "stderr",
     "output_type": "stream",
     "text": [
      "/var/folders/hh/fmhx9f5n10d4zh36fyh5lzh80000gn/T/ipykernel_17972/1803849287.py:1: SettingWithCopyWarning: \n",
      "A value is trying to be set on a copy of a slice from a DataFrame\n",
      "\n",
      "See the caveats in the documentation: https://pandas.pydata.org/pandas-docs/stable/user_guide/indexing.html#returning-a-view-versus-a-copy\n",
      "  pokemons_type1[0] = 'Grass Copy'\n"
     ]
    }
   ],
   "source": [
    "pokemons_type1[0] = 'Grass Copy'"
   ]
  },
  {
   "cell_type": "code",
   "execution_count": 33,
   "id": "719f8b67-4061-46f9-9a45-14c05a414cb3",
   "metadata": {},
   "outputs": [
    {
     "data": {
      "text/plain": [
       "Name\n",
       "Bulbasaur                Grass Copy\n",
       "Ivysaur                       Grass\n",
       "Venusaur                      Grass\n",
       "VenusaurMega Venusaur         Grass\n",
       "Name: Type 1, dtype: object"
      ]
     },
     "execution_count": 33,
     "metadata": {},
     "output_type": "execute_result"
    }
   ],
   "source": [
    "pokemons_type1[:4]"
   ]
  },
  {
   "cell_type": "code",
   "execution_count": 34,
   "id": "b28ed6fe-fc4e-4f9d-a739-f38a5cf9a77f",
   "metadata": {},
   "outputs": [
    {
     "data": {
      "text/html": [
       "<div>\n",
       "<style scoped>\n",
       "    .dataframe tbody tr th:only-of-type {\n",
       "        vertical-align: middle;\n",
       "    }\n",
       "\n",
       "    .dataframe tbody tr th {\n",
       "        vertical-align: top;\n",
       "    }\n",
       "\n",
       "    .dataframe thead th {\n",
       "        text-align: right;\n",
       "    }\n",
       "</style>\n",
       "<table border=\"1\" class=\"dataframe\">\n",
       "  <thead>\n",
       "    <tr style=\"text-align: right;\">\n",
       "      <th></th>\n",
       "      <th>#</th>\n",
       "      <th>Type 1</th>\n",
       "      <th>Type 2</th>\n",
       "      <th>Total</th>\n",
       "      <th>HP</th>\n",
       "      <th>Attack</th>\n",
       "      <th>Defense</th>\n",
       "      <th>Sp. Atk</th>\n",
       "      <th>Sp. Def</th>\n",
       "      <th>Speed</th>\n",
       "      <th>Generation</th>\n",
       "      <th>Legendary</th>\n",
       "    </tr>\n",
       "    <tr>\n",
       "      <th>Name</th>\n",
       "      <th></th>\n",
       "      <th></th>\n",
       "      <th></th>\n",
       "      <th></th>\n",
       "      <th></th>\n",
       "      <th></th>\n",
       "      <th></th>\n",
       "      <th></th>\n",
       "      <th></th>\n",
       "      <th></th>\n",
       "      <th></th>\n",
       "      <th></th>\n",
       "    </tr>\n",
       "  </thead>\n",
       "  <tbody>\n",
       "    <tr>\n",
       "      <th>Bulbasaur</th>\n",
       "      <td>1</td>\n",
       "      <td>Grass Copy</td>\n",
       "      <td>Poison</td>\n",
       "      <td>318</td>\n",
       "      <td>45</td>\n",
       "      <td>49</td>\n",
       "      <td>49</td>\n",
       "      <td>65</td>\n",
       "      <td>65</td>\n",
       "      <td>45</td>\n",
       "      <td>1</td>\n",
       "      <td>False</td>\n",
       "    </tr>\n",
       "    <tr>\n",
       "      <th>Ivysaur</th>\n",
       "      <td>2</td>\n",
       "      <td>Grass</td>\n",
       "      <td>Poison</td>\n",
       "      <td>405</td>\n",
       "      <td>60</td>\n",
       "      <td>62</td>\n",
       "      <td>63</td>\n",
       "      <td>80</td>\n",
       "      <td>80</td>\n",
       "      <td>60</td>\n",
       "      <td>1</td>\n",
       "      <td>False</td>\n",
       "    </tr>\n",
       "    <tr>\n",
       "      <th>Venusaur</th>\n",
       "      <td>3</td>\n",
       "      <td>Grass</td>\n",
       "      <td>Poison</td>\n",
       "      <td>525</td>\n",
       "      <td>80</td>\n",
       "      <td>82</td>\n",
       "      <td>83</td>\n",
       "      <td>100</td>\n",
       "      <td>100</td>\n",
       "      <td>80</td>\n",
       "      <td>1</td>\n",
       "      <td>False</td>\n",
       "    </tr>\n",
       "    <tr>\n",
       "      <th>VenusaurMega Venusaur</th>\n",
       "      <td>3</td>\n",
       "      <td>Grass</td>\n",
       "      <td>Poison</td>\n",
       "      <td>625</td>\n",
       "      <td>80</td>\n",
       "      <td>100</td>\n",
       "      <td>123</td>\n",
       "      <td>122</td>\n",
       "      <td>120</td>\n",
       "      <td>80</td>\n",
       "      <td>1</td>\n",
       "      <td>False</td>\n",
       "    </tr>\n",
       "  </tbody>\n",
       "</table>\n",
       "</div>"
      ],
      "text/plain": [
       "                       #      Type 1  Type 2  Total  HP  Attack  Defense  \\\n",
       "Name                                                                       \n",
       "Bulbasaur              1  Grass Copy  Poison    318  45      49       49   \n",
       "Ivysaur                2       Grass  Poison    405  60      62       63   \n",
       "Venusaur               3       Grass  Poison    525  80      82       83   \n",
       "VenusaurMega Venusaur  3       Grass  Poison    625  80     100      123   \n",
       "\n",
       "                       Sp. Atk  Sp. Def  Speed  Generation  Legendary  \n",
       "Name                                                                   \n",
       "Bulbasaur                   65       65     45           1      False  \n",
       "Ivysaur                     80       80     60           1      False  \n",
       "Venusaur                   100      100     80           1      False  \n",
       "VenusaurMega Venusaur      122      120     80           1      False  "
      ]
     },
     "execution_count": 34,
     "metadata": {},
     "output_type": "execute_result"
    }
   ],
   "source": [
    "pokemons_labeled[:4]"
   ]
  },
  {
   "cell_type": "code",
   "execution_count": 35,
   "id": "46cbf4e8-a03f-460e-92c8-4c9f872206b4",
   "metadata": {},
   "outputs": [],
   "source": [
    "pokemons_labeled = pd.read_csv(\"../data/pokemon.csv\", index_col='Name')\n",
    "pokemons_type1_copy = pokemons_labeled['Type 1'].squeeze().copy()"
   ]
  },
  {
   "cell_type": "code",
   "execution_count": 36,
   "id": "a4fff554-6dfc-4ac3-93b0-6d5bc70dc7d4",
   "metadata": {},
   "outputs": [],
   "source": [
    "pokemons_type1_copy['Bulbasaur'] = 'Grass new Copy'"
   ]
  },
  {
   "cell_type": "code",
   "execution_count": 37,
   "id": "e3f84aac-2d6f-4d55-81d3-9f8d6c8b563a",
   "metadata": {},
   "outputs": [
    {
     "data": {
      "text/plain": [
       "Name\n",
       "Bulbasaur    Grass new Copy\n",
       "Ivysaur               Grass\n",
       "Venusaur              Grass\n",
       "Name: Type 1, dtype: object"
      ]
     },
     "execution_count": 37,
     "metadata": {},
     "output_type": "execute_result"
    }
   ],
   "source": [
    "pokemons_type1_copy[:3]"
   ]
  },
  {
   "cell_type": "code",
   "execution_count": 38,
   "id": "74295daa-bdab-4844-b504-857c0d355548",
   "metadata": {},
   "outputs": [
    {
     "data": {
      "text/plain": [
       "Name\n",
       "Bulbasaur    Grass\n",
       "Ivysaur      Grass\n",
       "Venusaur     Grass\n",
       "Name: Type 1, dtype: object"
      ]
     },
     "execution_count": 38,
     "metadata": {},
     "output_type": "execute_result"
    }
   ],
   "source": [
    "pokemons_labeled[:3].get('Type 1')"
   ]
  },
  {
   "cell_type": "code",
   "execution_count": 39,
   "id": "279f600e-42e1-4580-8d51-c10fcef8c013",
   "metadata": {},
   "outputs": [],
   "source": [
    "google_stock_price = pd.read_csv(\"../data/google_stock_price.csv\", usecols=['Stock Price']).squeeze()"
   ]
  },
  {
   "cell_type": "code",
   "execution_count": 40,
   "id": "4bb9fb3d-3b60-48c7-8f07-bbf7113154bd",
   "metadata": {},
   "outputs": [],
   "source": [
    "google_price1 = google_stock_price.copy()\n",
    "google_price2 = google_stock_price.copy()"
   ]
  },
  {
   "cell_type": "code",
   "execution_count": 41,
   "id": "4ce9b2ae-d007-4f3f-be8d-c54f83efe8a4",
   "metadata": {},
   "outputs": [
    {
     "data": {
      "text/plain": [
       "0    50.12\n",
       "1    54.10\n",
       "2    54.65\n",
       "3    52.38\n",
       "4    52.95\n",
       "Name: Stock Price, dtype: float64"
      ]
     },
     "execution_count": 41,
     "metadata": {},
     "output_type": "execute_result"
    }
   ],
   "source": [
    "google_price1[:5]"
   ]
  },
  {
   "cell_type": "code",
   "execution_count": 42,
   "id": "f3a58065-202f-4d91-81c7-0053bacf276f",
   "metadata": {},
   "outputs": [
    {
     "data": {
      "text/plain": [
       "11    49.95\n",
       "9     50.07\n",
       "0     50.12\n",
       "10    50.70\n",
       "12    50.74\n",
       "Name: Stock Price, dtype: float64"
      ]
     },
     "execution_count": 42,
     "metadata": {},
     "output_type": "execute_result"
    }
   ],
   "source": [
    "google_price1 = google_price1.sort_values()\n",
    "google_price1[:5]"
   ]
  },
  {
   "cell_type": "code",
   "execution_count": 43,
   "id": "6b426d1d-8512-41f6-8344-17afe9d22765",
   "metadata": {},
   "outputs": [
    {
     "data": {
      "text/plain": [
       "11    49.95\n",
       "9     50.07\n",
       "0     50.12\n",
       "10    50.70\n",
       "12    50.74\n",
       "Name: Stock Price, dtype: float64"
      ]
     },
     "execution_count": 43,
     "metadata": {},
     "output_type": "execute_result"
    }
   ],
   "source": [
    "google_price2.sort_values(inplace=True)\n",
    "google_price2[:5]"
   ]
  },
  {
   "cell_type": "code",
   "execution_count": 44,
   "id": "3d5362af-f03f-436d-87df-c37316ae43bd",
   "metadata": {},
   "outputs": [
    {
     "name": "stdout",
     "output_type": "stream",
     "text": [
      "Return int position of the smallest value in the Series. 0\n"
     ]
    }
   ],
   "source": [
    "min_value_at_index = google_price2.argmin()\n",
    "print(f\"Return int position of the smallest value in the Series. {min_value_at_index}\")"
   ]
  },
  {
   "cell_type": "code",
   "execution_count": 54,
   "id": "7ad57bcf-552b-4957-bd85-6ad1fb9b7ce9",
   "metadata": {},
   "outputs": [
    {
     "data": {
      "text/plain": [
       "count    3012.000000\n",
       "mean      334.310093\n",
       "std       173.187205\n",
       "min        49.950000\n",
       "25%       218.045000\n",
       "50%       283.315000\n",
       "75%       443.000000\n",
       "max       782.220000\n",
       "Name: Stock Price, dtype: float64"
      ]
     },
     "execution_count": 54,
     "metadata": {},
     "output_type": "execute_result"
    }
   ],
   "source": [
    "google_price1.describe()"
   ]
  },
  {
   "cell_type": "code",
   "execution_count": null,
   "id": "4051dbd4-7a45-468e-95ed-59efa6f72c8a",
   "metadata": {},
   "outputs": [],
   "source": []
  },
  {
   "cell_type": "code",
   "execution_count": 73,
   "id": "8738e7fa-df8f-4d0a-a728-1bbce3b19070",
   "metadata": {},
   "outputs": [
    {
     "data": {
      "text/plain": [
       "Pokemon\n",
       "Bulbasaur       Grass\n",
       "Ivysaur         Grass\n",
       "Venusaur        Grass\n",
       "Charmander       Fire\n",
       "Charmeleon       Fire\n",
       "               ...   \n",
       "Yveltal          Dark\n",
       "Zygarde        Dragon\n",
       "Diancie          Rock\n",
       "Hoopa         Psychic\n",
       "Volcanion        Fire\n",
       "Name: Type, Length: 721, dtype: object"
      ]
     },
     "execution_count": 73,
     "metadata": {},
     "output_type": "execute_result"
    }
   ],
   "source": [
    "pokemon = pd.read_csv(\"../data/pokemon_name_type.csv\", index_col=[\"Pokemon\"]).squeeze()\n",
    "pokemon"
   ]
  },
  {
   "cell_type": "code",
   "execution_count": 74,
   "id": "d83a66e4-5e75-4140-8674-cbfb7d4a5a1e",
   "metadata": {},
   "outputs": [
    {
     "data": {
      "text/plain": [
       "Water       105\n",
       "Normal       93\n",
       "Grass        66\n",
       "Bug          63\n",
       "Fire         47\n",
       "Psychic      47\n",
       "Rock         41\n",
       "Electric     36\n",
       "Ground       30\n",
       "Poison       28\n",
       "Dark         28\n",
       "Fighting     25\n",
       "Dragon       24\n",
       "Ghost        23\n",
       "Ice          23\n",
       "Steel        22\n",
       "Fairy        17\n",
       "Flying        3\n",
       "Name: Type, dtype: int64"
      ]
     },
     "execution_count": 74,
     "metadata": {},
     "output_type": "execute_result"
    }
   ],
   "source": [
    "pokemon.value_counts(sort=True)"
   ]
  },
  {
   "cell_type": "code",
   "execution_count": 75,
   "id": "773d2235-0bad-4393-b93d-1e1dad194540",
   "metadata": {},
   "outputs": [
    {
     "data": {
      "text/plain": [
       "Flying        3\n",
       "Fairy        17\n",
       "Steel        22\n",
       "Ghost        23\n",
       "Ice          23\n",
       "Dragon       24\n",
       "Fighting     25\n",
       "Poison       28\n",
       "Dark         28\n",
       "Ground       30\n",
       "Electric     36\n",
       "Rock         41\n",
       "Psychic      47\n",
       "Fire         47\n",
       "Bug          63\n",
       "Grass        66\n",
       "Normal       93\n",
       "Water       105\n",
       "Name: Type, dtype: int64"
      ]
     },
     "execution_count": 75,
     "metadata": {},
     "output_type": "execute_result"
    }
   ],
   "source": [
    "pokemon.value_counts(sort=True, ascending=True)"
   ]
  },
  {
   "cell_type": "code",
   "execution_count": 76,
   "id": "1a015480-4bd1-4af6-9ca9-83dec5afd1b2",
   "metadata": {},
   "outputs": [
    {
     "data": {
      "text/plain": [
       "Flying      0.004161\n",
       "Fairy       0.023578\n",
       "Steel       0.030513\n",
       "Ghost       0.031900\n",
       "Ice         0.031900\n",
       "Dragon      0.033287\n",
       "Fighting    0.034674\n",
       "Poison      0.038835\n",
       "Dark        0.038835\n",
       "Ground      0.041609\n",
       "Electric    0.049931\n",
       "Rock        0.056865\n",
       "Psychic     0.065187\n",
       "Fire        0.065187\n",
       "Bug         0.087379\n",
       "Grass       0.091540\n",
       "Normal      0.128988\n",
       "Water       0.145631\n",
       "Name: Type, dtype: float64"
      ]
     },
     "execution_count": 76,
     "metadata": {},
     "output_type": "execute_result"
    }
   ],
   "source": [
    "pokemon.value_counts(sort=True, ascending=True, normalize=True).apply()"
   ]
  },
  {
   "cell_type": "code",
   "execution_count": 84,
   "id": "2e3a1085-c7ef-4694-a7e8-c6477044b092",
   "metadata": {},
   "outputs": [
    {
     "data": {
      "text/plain": [
       "Pokemon\n",
       "Bulbasaur       grass\n",
       "Ivysaur         grass\n",
       "Venusaur        grass\n",
       "Charmander       fire\n",
       "Charmeleon       fire\n",
       "               ...   \n",
       "Yveltal          dark\n",
       "Zygarde        dragon\n",
       "Diancie          rock\n",
       "Hoopa         psychic\n",
       "Volcanion        fire\n",
       "Name: Type, Length: 721, dtype: object"
      ]
     },
     "execution_count": 84,
     "metadata": {},
     "output_type": "execute_result"
    }
   ],
   "source": [
    "pokemon.apply(lambda p: p.lower())"
   ]
  },
  {
   "cell_type": "code",
   "execution_count": null,
   "id": "dd145893-2173-4309-92b8-5d3598f13a8c",
   "metadata": {},
   "outputs": [],
   "source": []
  },
  {
   "cell_type": "code",
   "execution_count": null,
   "id": "9a3df41e-81dc-4ce4-b431-8fe87b521c24",
   "metadata": {},
   "outputs": [],
   "source": []
  },
  {
   "cell_type": "code",
   "execution_count": null,
   "id": "5b54ee2d-a36f-438b-928d-f0178ba2d81c",
   "metadata": {},
   "outputs": [],
   "source": []
  },
  {
   "cell_type": "code",
   "execution_count": null,
   "id": "43d507f2-6d91-4526-8a4c-fde54d171c81",
   "metadata": {},
   "outputs": [],
   "source": []
  },
  {
   "cell_type": "code",
   "execution_count": null,
   "id": "f9aa6a93-4b86-4c95-b06b-bf73cd38d6bd",
   "metadata": {},
   "outputs": [],
   "source": []
  },
  {
   "cell_type": "code",
   "execution_count": null,
   "id": "4cd1dacd-abb7-4f41-870b-41336d2932c0",
   "metadata": {},
   "outputs": [],
   "source": []
  }
 ],
 "metadata": {
  "kernelspec": {
   "display_name": "Python 3 (ipykernel)",
   "language": "python",
   "name": "python3"
  },
  "language_info": {
   "codemirror_mode": {
    "name": "ipython",
    "version": 3
   },
   "file_extension": ".py",
   "mimetype": "text/x-python",
   "name": "python",
   "nbconvert_exporter": "python",
   "pygments_lexer": "ipython3",
   "version": "3.10.8"
  }
 },
 "nbformat": 4,
 "nbformat_minor": 5
}
