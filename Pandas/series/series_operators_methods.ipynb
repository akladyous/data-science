{
 "cells": [
  {
   "cell_type": "code",
   "execution_count": 1,
   "id": "aa26786a-2615-46df-b25c-84d405c2148c",
   "metadata": {},
   "outputs": [],
   "source": [
    "import pandas as pd\n",
    "import numpy as np"
   ]
  },
  {
   "cell_type": "code",
   "execution_count": null,
   "id": "bbfefadf-de81-4bfe-8dbb-def32652b988",
   "metadata": {},
   "outputs": [],
   "source": [
    "# google_db = pd.read_csv(\"../../../data/google_stock_price.csv\")"
   ]
  },
  {
   "cell_type": "code",
   "execution_count": null,
   "id": "bd18ea13-04ff-407e-b7d5-754744334a69",
   "metadata": {},
   "outputs": [],
   "source": [
    "pokemon_db = pd.read_csv(\"../../../data/pokemon.csv\", index_col='Name')"
   ]
  },
  {
   "cell_type": "code",
   "execution_count": null,
   "id": "20821a14-5481-4d59-b80e-41a03127e204",
   "metadata": {},
   "outputs": [],
   "source": []
  },
  {
   "cell_type": "code",
   "execution_count": null,
   "id": "536d8bed-363a-4da7-9e03-18891a947ff5",
   "metadata": {},
   "outputs": [],
   "source": []
  },
  {
   "cell_type": "code",
   "execution_count": null,
   "id": "5ec43c60-415e-4080-bd33-9d6f4fbf3457",
   "metadata": {},
   "outputs": [],
   "source": []
  }
 ],
 "metadata": {
  "kernelspec": {
   "display_name": "Python 3 (ipykernel)",
   "language": "python",
   "name": "python3"
  },
  "language_info": {
   "codemirror_mode": {
    "name": "ipython",
    "version": 3
   },
   "file_extension": ".py",
   "mimetype": "text/x-python",
   "name": "python",
   "nbconvert_exporter": "python",
   "pygments_lexer": "ipython3",
   "version": "3.10.8"
  }
 },
 "nbformat": 4,
 "nbformat_minor": 5
}
