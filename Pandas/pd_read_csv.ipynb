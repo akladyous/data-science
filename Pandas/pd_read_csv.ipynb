{
 "cells": [
  {
   "cell_type": "code",
   "execution_count": 78,
   "id": "488e0cfd-d554-4a69-b4c5-15f7f88a5a10",
   "metadata": {},
   "outputs": [],
   "source": [
    "import numpy as np\n",
    "import pandas as pd"
   ]
  },
  {
   "cell_type": "code",
   "execution_count": 35,
   "id": "c9401e7d-1398-4ddf-8cb3-45b50a9ceb6a",
   "metadata": {},
   "outputs": [
    {
     "data": {
      "text/html": [
       "<div>\n",
       "<style scoped>\n",
       "    .dataframe tbody tr th:only-of-type {\n",
       "        vertical-align: middle;\n",
       "    }\n",
       "\n",
       "    .dataframe tbody tr th {\n",
       "        vertical-align: top;\n",
       "    }\n",
       "\n",
       "    .dataframe thead th {\n",
       "        text-align: right;\n",
       "    }\n",
       "</style>\n",
       "<table border=\"1\" class=\"dataframe\">\n",
       "  <thead>\n",
       "    <tr style=\"text-align: right;\">\n",
       "      <th></th>\n",
       "      <th>a</th>\n",
       "      <th>b</th>\n",
       "      <th>c</th>\n",
       "    </tr>\n",
       "  </thead>\n",
       "  <tbody>\n",
       "    <tr>\n",
       "      <th>0</th>\n",
       "      <td>1</td>\n",
       "      <td>2</td>\n",
       "      <td>3</td>\n",
       "    </tr>\n",
       "    <tr>\n",
       "      <th>1</th>\n",
       "      <td>4</td>\n",
       "      <td>5</td>\n",
       "      <td>6</td>\n",
       "    </tr>\n",
       "    <tr>\n",
       "      <th>2</th>\n",
       "      <td>7</td>\n",
       "      <td>8</td>\n",
       "      <td>9</td>\n",
       "    </tr>\n",
       "  </tbody>\n",
       "</table>\n",
       "</div>"
      ],
      "text/plain": [
       "   a  b  c\n",
       "0  1  2  3\n",
       "1  4  5  6\n",
       "2  7  8  9"
      ]
     },
     "execution_count": 35,
     "metadata": {},
     "output_type": "execute_result"
    }
   ],
   "source": [
    "n1 = pd.DataFrame([[1,2,3], [4,5,6], [7,8,9]], columns=['a', 'b', 'c']).squeeze('columns')\n",
    "n1"
   ]
  },
  {
   "cell_type": "code",
   "execution_count": 20,
   "id": "85fe742b-6944-4050-9e59-8cf8aa57afa4",
   "metadata": {},
   "outputs": [
    {
     "data": {
      "text/plain": [
       "0                  Bulbasaur\n",
       "1                    Ivysaur\n",
       "2                   Venusaur\n",
       "3      VenusaurMega Venusaur\n",
       "4                 Charmander\n",
       "               ...          \n",
       "795                  Diancie\n",
       "796      DiancieMega Diancie\n",
       "797      HoopaHoopa Confined\n",
       "798       HoopaHoopa Unbound\n",
       "799                Volcanion\n",
       "Name: Name, Length: 800, dtype: object"
      ]
     },
     "execution_count": 20,
     "metadata": {},
     "output_type": "execute_result"
    }
   ],
   "source": [
    "pokemons = pd.read_csv(\"../data/pokemon.csv\", usecols=[\"Name\"]).squeeze(\"columns\")\n",
    "pokemons"
   ]
  },
  {
   "cell_type": "code",
   "execution_count": 21,
   "id": "739e774c-1d8c-4684-bc18-f18b9549f86d",
   "metadata": {},
   "outputs": [
    {
     "data": {
      "text/html": [
       "<div>\n",
       "<style scoped>\n",
       "    .dataframe tbody tr th:only-of-type {\n",
       "        vertical-align: middle;\n",
       "    }\n",
       "\n",
       "    .dataframe tbody tr th {\n",
       "        vertical-align: top;\n",
       "    }\n",
       "\n",
       "    .dataframe thead th {\n",
       "        text-align: right;\n",
       "    }\n",
       "</style>\n",
       "<table border=\"1\" class=\"dataframe\">\n",
       "  <thead>\n",
       "    <tr style=\"text-align: right;\">\n",
       "      <th></th>\n",
       "      <th>Stock Price</th>\n",
       "    </tr>\n",
       "  </thead>\n",
       "  <tbody>\n",
       "    <tr>\n",
       "      <th>0</th>\n",
       "      <td>50.12</td>\n",
       "    </tr>\n",
       "    <tr>\n",
       "      <th>1</th>\n",
       "      <td>54.10</td>\n",
       "    </tr>\n",
       "    <tr>\n",
       "      <th>2</th>\n",
       "      <td>54.65</td>\n",
       "    </tr>\n",
       "    <tr>\n",
       "      <th>3</th>\n",
       "      <td>52.38</td>\n",
       "    </tr>\n",
       "    <tr>\n",
       "      <th>4</th>\n",
       "      <td>52.95</td>\n",
       "    </tr>\n",
       "    <tr>\n",
       "      <th>...</th>\n",
       "      <td>...</td>\n",
       "    </tr>\n",
       "    <tr>\n",
       "      <th>3007</th>\n",
       "      <td>772.88</td>\n",
       "    </tr>\n",
       "    <tr>\n",
       "      <th>3008</th>\n",
       "      <td>771.07</td>\n",
       "    </tr>\n",
       "    <tr>\n",
       "      <th>3009</th>\n",
       "      <td>773.18</td>\n",
       "    </tr>\n",
       "    <tr>\n",
       "      <th>3010</th>\n",
       "      <td>771.61</td>\n",
       "    </tr>\n",
       "    <tr>\n",
       "      <th>3011</th>\n",
       "      <td>782.22</td>\n",
       "    </tr>\n",
       "  </tbody>\n",
       "</table>\n",
       "<p>3012 rows × 1 columns</p>\n",
       "</div>"
      ],
      "text/plain": [
       "      Stock Price\n",
       "0           50.12\n",
       "1           54.10\n",
       "2           54.65\n",
       "3           52.38\n",
       "4           52.95\n",
       "...           ...\n",
       "3007       772.88\n",
       "3008       771.07\n",
       "3009       773.18\n",
       "3010       771.61\n",
       "3011       782.22\n",
       "\n",
       "[3012 rows x 1 columns]"
      ]
     },
     "execution_count": 21,
     "metadata": {},
     "output_type": "execute_result"
    }
   ],
   "source": [
    "google_stock_db = pd.read_csv(\"../data/google_stock_price.csv\")\n",
    "google_stock_db"
   ]
  },
  {
   "cell_type": "code",
   "execution_count": 24,
   "id": "b469b08a-b2c9-4ee0-a810-b58a130ce6cc",
   "metadata": {},
   "outputs": [
    {
     "data": {
      "text/plain": [
       "0        50.12\n",
       "1        54.10\n",
       "2        54.65\n",
       "3        52.38\n",
       "4        52.95\n",
       "         ...  \n",
       "3007    772.88\n",
       "3008    771.07\n",
       "3009    773.18\n",
       "3010    771.61\n",
       "3011    782.22\n",
       "Name: Stock Price, Length: 3012, dtype: float64"
      ]
     },
     "execution_count": 24,
     "metadata": {},
     "output_type": "execute_result"
    }
   ],
   "source": [
    "google = pd.read_csv(\"../data/google_stock_price.csv\").squeeze(1)\n",
    "google"
   ]
  },
  {
   "cell_type": "code",
   "execution_count": 25,
   "id": "1dc3fd62-add6-437d-bc5d-c8214451ff38",
   "metadata": {},
   "outputs": [
    {
     "data": {
      "text/plain": [
       "0    50.12\n",
       "1    54.10\n",
       "2    54.65\n",
       "3    52.38\n",
       "4    52.95\n",
       "Name: Stock Price, dtype: float64"
      ]
     },
     "execution_count": 25,
     "metadata": {},
     "output_type": "execute_result"
    }
   ],
   "source": [
    "google.head()"
   ]
  },
  {
   "cell_type": "code",
   "execution_count": 26,
   "id": "7a4e0a21-4e6f-4b8b-8f01-c18dc0ec6b22",
   "metadata": {},
   "outputs": [
    {
     "data": {
      "text/plain": [
       "3007    772.88\n",
       "3008    771.07\n",
       "3009    773.18\n",
       "3010    771.61\n",
       "3011    782.22\n",
       "Name: Stock Price, dtype: float64"
      ]
     },
     "execution_count": 26,
     "metadata": {},
     "output_type": "execute_result"
    }
   ],
   "source": [
    "google.tail()"
   ]
  },
  {
   "cell_type": "code",
   "execution_count": 27,
   "id": "c0e3480b-fb76-468c-bfc3-75d51b9801a4",
   "metadata": {},
   "outputs": [
    {
     "data": {
      "text/plain": [
       "count    3012.000000\n",
       "mean      334.310093\n",
       "std       173.187205\n",
       "min        49.950000\n",
       "25%       218.045000\n",
       "50%       283.315000\n",
       "75%       443.000000\n",
       "max       782.220000\n",
       "Name: Stock Price, dtype: float64"
      ]
     },
     "execution_count": 27,
     "metadata": {},
     "output_type": "execute_result"
    }
   ],
   "source": [
    "google.describe()"
   ]
  },
  {
   "cell_type": "code",
   "execution_count": 28,
   "id": "854c123c-5b4b-4ad9-8944-db62a019fd54",
   "metadata": {},
   "outputs": [
    {
     "name": "stdout",
     "output_type": "stream",
     "text": [
      "<class 'pandas.core.series.Series'>\n",
      "RangeIndex: 3012 entries, 0 to 3011\n",
      "Series name: Stock Price\n",
      "Non-Null Count  Dtype  \n",
      "--------------  -----  \n",
      "3012 non-null   float64\n",
      "dtypes: float64(1)\n",
      "memory usage: 23.7 KB\n"
     ]
    }
   ],
   "source": [
    "google.info()"
   ]
  },
  {
   "cell_type": "code",
   "execution_count": null,
   "id": "47022025-4dcc-4f02-8809-d8c49f72689c",
   "metadata": {},
   "outputs": [],
   "source": []
  },
  {
   "cell_type": "code",
   "execution_count": 32,
   "id": "c2d35d9f-1ece-4e15-9bfc-504351b8a37c",
   "metadata": {},
   "outputs": [
    {
     "data": {
      "text/plain": [
       "False"
      ]
     },
     "execution_count": 32,
     "metadata": {},
     "output_type": "execute_result"
    }
   ],
   "source": [
    "google.is_monotonic_increasing"
   ]
  },
  {
   "cell_type": "code",
   "execution_count": 33,
   "id": "ce409a1b-519d-4c89-a002-4e4f52a51bc0",
   "metadata": {},
   "outputs": [
    {
     "data": {
      "text/plain": [
       "False"
      ]
     },
     "execution_count": 33,
     "metadata": {},
     "output_type": "execute_result"
    }
   ],
   "source": [
    "google.is_monotonic_decreasing"
   ]
  },
  {
   "cell_type": "code",
   "execution_count": 41,
   "id": "0b0eeb5c-cae0-4bd0-a732-0a65945716cc",
   "metadata": {},
   "outputs": [
    {
     "data": {
      "text/plain": [
       "{0: 1, 1: 4, 2: 7}"
      ]
     },
     "execution_count": 41,
     "metadata": {},
     "output_type": "execute_result"
    }
   ],
   "source": [
    "dict(n1[['a']].squeeze())"
   ]
  },
  {
   "cell_type": "code",
   "execution_count": 50,
   "id": "f25cdc23-a8e6-4967-bb50-d5c3f30c2845",
   "metadata": {},
   "outputs": [
    {
     "data": {
      "text/plain": [
       "11       49.95\n",
       "9        50.07\n",
       "0        50.12\n",
       "10       50.70\n",
       "12       50.74\n",
       "         ...  \n",
       "3010    771.61\n",
       "3007    772.88\n",
       "3009    773.18\n",
       "2859    776.60\n",
       "3011    782.22\n",
       "Name: Stock Price, Length: 3012, dtype: float64"
      ]
     },
     "execution_count": 50,
     "metadata": {},
     "output_type": "execute_result"
    }
   ],
   "source": [
    "google.sort_values(ascending=True)"
   ]
  },
  {
   "cell_type": "code",
   "execution_count": 51,
   "id": "f8b945a5-e7df-41b0-82c0-5c04d7ce41bb",
   "metadata": {},
   "outputs": [
    {
     "data": {
      "text/plain": [
       "0        49.95\n",
       "1        50.07\n",
       "2        50.12\n",
       "3        50.70\n",
       "4        50.74\n",
       "         ...  \n",
       "3007    771.61\n",
       "3008    772.88\n",
       "3009    773.18\n",
       "3010    776.60\n",
       "3011    782.22\n",
       "Name: Stock Price, Length: 3012, dtype: float64"
      ]
     },
     "execution_count": 51,
     "metadata": {},
     "output_type": "execute_result"
    }
   ],
   "source": [
    "google.sort_values(ascending=True, ignore_index=True)"
   ]
  },
  {
   "cell_type": "code",
   "execution_count": null,
   "id": "694f5147-494e-43c3-9e08-9326236e86b4",
   "metadata": {},
   "outputs": [],
   "source": []
  },
  {
   "cell_type": "code",
   "execution_count": 44,
   "id": "8422d317-2c77-4523-9e1b-32266822dad7",
   "metadata": {},
   "outputs": [
    {
     "data": {
      "text/plain": [
       "510                  Abomasnow\n",
       "511    AbomasnowMega Abomasnow\n",
       "68                        Abra\n",
       "392                      Absol\n",
       "393            AbsolMega Absol\n",
       "                ...           \n",
       "632                    Zoroark\n",
       "631                      Zorua\n",
       "46                       Zubat\n",
       "695                   Zweilous\n",
       "794           Zygarde50% Forme\n",
       "Name: Name, Length: 800, dtype: object"
      ]
     },
     "execution_count": 44,
     "metadata": {},
     "output_type": "execute_result"
    }
   ],
   "source": [
    "pokemons.sort_values()"
   ]
  },
  {
   "cell_type": "code",
   "execution_count": 45,
   "id": "97528e94-1b46-4a35-a84c-8951d198aa85",
   "metadata": {},
   "outputs": [
    {
     "data": {
      "text/plain": [
       "510                  Abomasnow\n",
       "511    AbomasnowMega Abomasnow\n",
       "68                        Abra\n",
       "392                      Absol\n",
       "393            AbsolMega Absol\n",
       "                ...           \n",
       "632                    Zoroark\n",
       "631                      Zorua\n",
       "46                       Zubat\n",
       "695                   Zweilous\n",
       "794           Zygarde50% Forme\n",
       "Name: Name, Length: 800, dtype: object"
      ]
     },
     "execution_count": 45,
     "metadata": {},
     "output_type": "execute_result"
    }
   ],
   "source": [
    "pokemons.sort_values(ascending=True, inplace=False)"
   ]
  },
  {
   "cell_type": "code",
   "execution_count": 55,
   "id": "57362e83-682c-458e-8894-2021f6aae368",
   "metadata": {},
   "outputs": [
    {
     "data": {
      "text/plain": [
       "True"
      ]
     },
     "execution_count": 55,
     "metadata": {},
     "output_type": "execute_result"
    }
   ],
   "source": [
    "\"Zorua\" in pokemons.values"
   ]
  },
  {
   "cell_type": "code",
   "execution_count": 56,
   "id": "c65a0c87-8e4c-4410-b29b-2501e56d76aa",
   "metadata": {},
   "outputs": [
    {
     "data": {
      "text/plain": [
       "0                Bulbasaur\n",
       "1                  Ivysaur\n",
       "2                 Venusaur\n",
       "3    VenusaurMega Venusaur\n",
       "4               Charmander\n",
       "Name: Name, dtype: object"
      ]
     },
     "execution_count": 56,
     "metadata": {},
     "output_type": "execute_result"
    }
   ],
   "source": [
    "pokemons[0:5]"
   ]
  },
  {
   "cell_type": "code",
   "execution_count": 57,
   "id": "235af73b-bb11-432b-a4cd-4f81d8e53de7",
   "metadata": {},
   "outputs": [
    {
     "data": {
      "text/plain": [
       "1                  Ivysaur\n",
       "3    VenusaurMega Venusaur\n",
       "5               Charmeleon\n",
       "Name: Name, dtype: object"
      ]
     },
     "execution_count": 57,
     "metadata": {},
     "output_type": "execute_result"
    }
   ],
   "source": [
    "pokemons[[1,3,5]]"
   ]
  },
  {
   "cell_type": "code",
   "execution_count": null,
   "id": "ec0aa36d-b246-41bf-854f-cc3e31a7ca03",
   "metadata": {},
   "outputs": [],
   "source": []
  },
  {
   "cell_type": "code",
   "execution_count": 69,
   "id": "54e98e04-03b9-4d23-9a8e-b93a94f7b161",
   "metadata": {},
   "outputs": [],
   "source": [
    "sa = pd.Series([1, 2, 3], index=list('abc'))\n",
    "dfa = sa.copy()"
   ]
  },
  {
   "cell_type": "code",
   "execution_count": 70,
   "id": "6ea2fc2f-24b4-4a79-93da-6078dd729c6e",
   "metadata": {},
   "outputs": [
    {
     "data": {
      "text/plain": [
       "2"
      ]
     },
     "execution_count": 70,
     "metadata": {},
     "output_type": "execute_result"
    }
   ],
   "source": [
    "sa.b"
   ]
  },
  {
   "cell_type": "code",
   "execution_count": 71,
   "id": "85aec886-fc2b-43c1-90e1-babd50bd1f13",
   "metadata": {},
   "outputs": [
    {
     "data": {
      "text/html": [
       "<div>\n",
       "<style scoped>\n",
       "    .dataframe tbody tr th:only-of-type {\n",
       "        vertical-align: middle;\n",
       "    }\n",
       "\n",
       "    .dataframe tbody tr th {\n",
       "        vertical-align: top;\n",
       "    }\n",
       "\n",
       "    .dataframe thead th {\n",
       "        text-align: right;\n",
       "    }\n",
       "</style>\n",
       "<table border=\"1\" class=\"dataframe\">\n",
       "  <thead>\n",
       "    <tr style=\"text-align: right;\">\n",
       "      <th></th>\n",
       "      <th>a</th>\n",
       "      <th>b</th>\n",
       "      <th>c</th>\n",
       "    </tr>\n",
       "  </thead>\n",
       "  <tbody>\n",
       "    <tr>\n",
       "      <th>0</th>\n",
       "      <td>1</td>\n",
       "      <td>2</td>\n",
       "      <td>3</td>\n",
       "    </tr>\n",
       "    <tr>\n",
       "      <th>1</th>\n",
       "      <td>4</td>\n",
       "      <td>5</td>\n",
       "      <td>6</td>\n",
       "    </tr>\n",
       "    <tr>\n",
       "      <th>2</th>\n",
       "      <td>7</td>\n",
       "      <td>8</td>\n",
       "      <td>9</td>\n",
       "    </tr>\n",
       "  </tbody>\n",
       "</table>\n",
       "</div>"
      ],
      "text/plain": [
       "   a  b  c\n",
       "0  1  2  3\n",
       "1  4  5  6\n",
       "2  7  8  9"
      ]
     },
     "execution_count": 71,
     "metadata": {},
     "output_type": "execute_result"
    }
   ],
   "source": [
    "n1"
   ]
  },
  {
   "cell_type": "code",
   "execution_count": 74,
   "id": "4050b9e5-7476-4d99-9dcd-3aabf1cad625",
   "metadata": {},
   "outputs": [
    {
     "data": {
      "text/plain": [
       "pandas.core.frame.DataFrame"
      ]
     },
     "execution_count": 74,
     "metadata": {},
     "output_type": "execute_result"
    }
   ],
   "source": [
    "type(n1)"
   ]
  },
  {
   "cell_type": "code",
   "execution_count": 76,
   "id": "bcd36a8a-19f7-4a21-b066-db8299987dc5",
   "metadata": {},
   "outputs": [
    {
     "data": {
      "text/plain": [
       "0    1\n",
       "1    4\n",
       "2    7\n",
       "Name: a, dtype: int64"
      ]
     },
     "execution_count": 76,
     "metadata": {},
     "output_type": "execute_result"
    }
   ],
   "source": [
    "n1.a"
   ]
  },
  {
   "cell_type": "code",
   "execution_count": 77,
   "id": "74edd55c-ecd8-4e3b-a7b1-25c313070e12",
   "metadata": {},
   "outputs": [
    {
     "data": {
      "text/plain": [
       "0    1\n",
       "1    4\n",
       "2    7\n",
       "Name: a, dtype: int64"
      ]
     },
     "execution_count": 77,
     "metadata": {},
     "output_type": "execute_result"
    }
   ],
   "source": [
    "n1['a']"
   ]
  },
  {
   "cell_type": "code",
   "execution_count": 115,
   "id": "f391f868-dace-48f3-8e32-edd2bc92d3ba",
   "metadata": {},
   "outputs": [
    {
     "data": {
      "text/html": [
       "<div>\n",
       "<style scoped>\n",
       "    .dataframe tbody tr th:only-of-type {\n",
       "        vertical-align: middle;\n",
       "    }\n",
       "\n",
       "    .dataframe tbody tr th {\n",
       "        vertical-align: top;\n",
       "    }\n",
       "\n",
       "    .dataframe thead th {\n",
       "        text-align: right;\n",
       "    }\n",
       "</style>\n",
       "<table border=\"1\" class=\"dataframe\">\n",
       "  <thead>\n",
       "    <tr style=\"text-align: right;\">\n",
       "      <th></th>\n",
       "      <th>A</th>\n",
       "      <th>B</th>\n",
       "      <th>C</th>\n",
       "      <th>D</th>\n",
       "    </tr>\n",
       "  </thead>\n",
       "  <tbody>\n",
       "    <tr>\n",
       "      <th>2023-05-27</th>\n",
       "      <td>1.607620</td>\n",
       "      <td>0.359018</td>\n",
       "      <td>0.589125</td>\n",
       "      <td>-0.541757</td>\n",
       "    </tr>\n",
       "    <tr>\n",
       "      <th>2023-05-28</th>\n",
       "      <td>0.098110</td>\n",
       "      <td>1.275513</td>\n",
       "      <td>0.787182</td>\n",
       "      <td>0.709983</td>\n",
       "    </tr>\n",
       "    <tr>\n",
       "      <th>2023-05-29</th>\n",
       "      <td>0.572854</td>\n",
       "      <td>0.927947</td>\n",
       "      <td>-0.532496</td>\n",
       "      <td>2.212815</td>\n",
       "    </tr>\n",
       "    <tr>\n",
       "      <th>2023-05-30</th>\n",
       "      <td>0.888903</td>\n",
       "      <td>-0.087531</td>\n",
       "      <td>1.217614</td>\n",
       "      <td>-2.071722</td>\n",
       "    </tr>\n",
       "    <tr>\n",
       "      <th>2023-05-31</th>\n",
       "      <td>0.279443</td>\n",
       "      <td>0.469021</td>\n",
       "      <td>0.324826</td>\n",
       "      <td>-0.519620</td>\n",
       "    </tr>\n",
       "    <tr>\n",
       "      <th>2023-06-01</th>\n",
       "      <td>-1.205747</td>\n",
       "      <td>1.610779</td>\n",
       "      <td>-0.205284</td>\n",
       "      <td>0.503845</td>\n",
       "    </tr>\n",
       "    <tr>\n",
       "      <th>2023-06-02</th>\n",
       "      <td>-0.748365</td>\n",
       "      <td>-1.883617</td>\n",
       "      <td>-0.919047</td>\n",
       "      <td>-0.534953</td>\n",
       "    </tr>\n",
       "  </tbody>\n",
       "</table>\n",
       "</div>"
      ],
      "text/plain": [
       "                   A         B         C         D\n",
       "2023-05-27  1.607620  0.359018  0.589125 -0.541757\n",
       "2023-05-28  0.098110  1.275513  0.787182  0.709983\n",
       "2023-05-29  0.572854  0.927947 -0.532496  2.212815\n",
       "2023-05-30  0.888903 -0.087531  1.217614 -2.071722\n",
       "2023-05-31  0.279443  0.469021  0.324826 -0.519620\n",
       "2023-06-01 -1.205747  1.610779 -0.205284  0.503845\n",
       "2023-06-02 -0.748365 -1.883617 -0.919047 -0.534953"
      ]
     },
     "execution_count": 115,
     "metadata": {},
     "output_type": "execute_result"
    }
   ],
   "source": [
    "data7x4 = np.random.randn(7,4)\n",
    "\n",
    "column_names = [chr(x+65) for x in range(array2d_1.shape[1])]\n",
    "current_date = np.datetime64('today', 'D')\n",
    "date_range = pd.date_range(current_date,periods=7)\n",
    "\n",
    "db7x4 = pd.DataFrame(data=array2d_1, columns=column_names, index=date_range)\n",
    "db7x4"
   ]
  },
  {
   "cell_type": "code",
   "execution_count": 116,
   "id": "ea15118d-91ec-4bbd-8808-0fc5fe450e9b",
   "metadata": {},
   "outputs": [
    {
     "data": {
      "text/html": [
       "<div>\n",
       "<style scoped>\n",
       "    .dataframe tbody tr th:only-of-type {\n",
       "        vertical-align: middle;\n",
       "    }\n",
       "\n",
       "    .dataframe tbody tr th {\n",
       "        vertical-align: top;\n",
       "    }\n",
       "\n",
       "    .dataframe thead th {\n",
       "        text-align: right;\n",
       "    }\n",
       "</style>\n",
       "<table border=\"1\" class=\"dataframe\">\n",
       "  <thead>\n",
       "    <tr style=\"text-align: right;\">\n",
       "      <th></th>\n",
       "      <th>A</th>\n",
       "      <th>B</th>\n",
       "      <th>C</th>\n",
       "      <th>D</th>\n",
       "    </tr>\n",
       "  </thead>\n",
       "  <tbody>\n",
       "    <tr>\n",
       "      <th>2023-05-28</th>\n",
       "      <td>0.098110</td>\n",
       "      <td>1.275513</td>\n",
       "      <td>0.787182</td>\n",
       "      <td>0.709983</td>\n",
       "    </tr>\n",
       "    <tr>\n",
       "      <th>2023-05-29</th>\n",
       "      <td>0.572854</td>\n",
       "      <td>0.927947</td>\n",
       "      <td>-0.532496</td>\n",
       "      <td>2.212815</td>\n",
       "    </tr>\n",
       "    <tr>\n",
       "      <th>2023-05-30</th>\n",
       "      <td>0.888903</td>\n",
       "      <td>-0.087531</td>\n",
       "      <td>1.217614</td>\n",
       "      <td>-2.071722</td>\n",
       "    </tr>\n",
       "  </tbody>\n",
       "</table>\n",
       "</div>"
      ],
      "text/plain": [
       "                   A         B         C         D\n",
       "2023-05-28  0.098110  1.275513  0.787182  0.709983\n",
       "2023-05-29  0.572854  0.927947 -0.532496  2.212815\n",
       "2023-05-30  0.888903 -0.087531  1.217614 -2.071722"
      ]
     },
     "execution_count": 116,
     "metadata": {},
     "output_type": "execute_result"
    }
   ],
   "source": [
    "db7x4.loc['2023-05-28': '2023-05-30']"
   ]
  },
  {
   "cell_type": "code",
   "execution_count": null,
   "id": "00f88709-dc38-4316-94a8-3143296f28c5",
   "metadata": {},
   "outputs": [],
   "source": []
  },
  {
   "cell_type": "code",
   "execution_count": null,
   "id": "65db84f5-f793-4a71-884a-92576ef7c0d4",
   "metadata": {},
   "outputs": [],
   "source": []
  },
  {
   "cell_type": "code",
   "execution_count": null,
   "id": "ef628ee1-7221-40d3-817b-2811fdce30fa",
   "metadata": {},
   "outputs": [],
   "source": []
  },
  {
   "cell_type": "code",
   "execution_count": null,
   "id": "2af0817f-222b-4b23-adec-00019125af3f",
   "metadata": {},
   "outputs": [],
   "source": []
  }
 ],
 "metadata": {
  "kernelspec": {
   "display_name": "Python 3 (ipykernel)",
   "language": "python",
   "name": "python3"
  },
  "language_info": {
   "codemirror_mode": {
    "name": "ipython",
    "version": 3
   },
   "file_extension": ".py",
   "mimetype": "text/x-python",
   "name": "python",
   "nbconvert_exporter": "python",
   "pygments_lexer": "ipython3",
   "version": "3.10.8"
  }
 },
 "nbformat": 4,
 "nbformat_minor": 5
}
