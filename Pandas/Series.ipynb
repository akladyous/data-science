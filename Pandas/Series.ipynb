{
 "cells": [
  {
   "cell_type": "code",
   "execution_count": 17,
   "id": "10a00331-56ef-4f10-8558-897826b2383a",
   "metadata": {},
   "outputs": [],
   "source": [
    "import numpy as np\n",
    "import pandas as pd"
   ]
  },
  {
   "cell_type": "code",
   "execution_count": 18,
   "id": "ce18843d-cea8-42cf-a374-bc5ac37dffad",
   "metadata": {},
   "outputs": [],
   "source": [
    "nums = [\"one\", \"two\", \"three\", \"four\", \"five\"]"
   ]
  },
  {
   "cell_type": "code",
   "execution_count": 19,
   "id": "6712f7df-5ec2-459e-8dfa-9fa7bb4a4607",
   "metadata": {},
   "outputs": [
    {
     "data": {
      "text/plain": [
       "a      one\n",
       "b      two\n",
       "c    three\n",
       "d     four\n",
       "e     five\n",
       "dtype: object"
      ]
     },
     "execution_count": 19,
     "metadata": {},
     "output_type": "execute_result"
    }
   ],
   "source": [
    "pd.Series(nums, [chr(x + 97) for x in range(len(nums))])"
   ]
  },
  {
   "cell_type": "code",
   "execution_count": 20,
   "id": "e715e61f-f690-4361-af3f-274229957aa0",
   "metadata": {},
   "outputs": [],
   "source": [
    "nums_series = pd.Series(nums)"
   ]
  },
  {
   "cell_type": "code",
   "execution_count": 24,
   "id": "4ceb5005-0db5-4131-828f-e5d8767040f2",
   "metadata": {},
   "outputs": [],
   "source": [
    "nums1 = pd.Series([2,2,2])"
   ]
  },
  {
   "cell_type": "code",
   "execution_count": null,
   "id": "bd5c6467-ecb6-4548-afbc-0d5b846afb24",
   "metadata": {},
   "outputs": [],
   "source": []
  },
  {
   "cell_type": "code",
   "execution_count": 45,
   "id": "b56594dd-b899-4aa5-bf65-4bf1645c5fd5",
   "metadata": {},
   "outputs": [],
   "source": [
    "country_list = \"United States, France, Germany, Italy\".split(' ')\n",
    "country_list.append('Italy')\n",
    "countries = pd.Series(country_list)"
   ]
  },
  {
   "cell_type": "code",
   "execution_count": 48,
   "id": "1b676a43-12c0-4730-89ec-c6ab34c9107e",
   "metadata": {},
   "outputs": [
    {
     "data": {
      "text/plain": [
       "0      United\n",
       "1     States,\n",
       "2     France,\n",
       "3    Germany,\n",
       "4       Italy\n",
       "5       Italy\n",
       "dtype: object"
      ]
     },
     "execution_count": 48,
     "metadata": {},
     "output_type": "execute_result"
    }
   ],
   "source": [
    "countries"
   ]
  },
  {
   "cell_type": "code",
   "execution_count": 55,
   "id": "5db3fe1a-54b2-4cba-9413-f6dff968d3e4",
   "metadata": {},
   "outputs": [
    {
     "name": "stdout",
     "output_type": "stream",
     "text": [
      "RangeIndex(start=0, stop=6, step=1)\n"
     ]
    }
   ],
   "source": [
    "print(countries.index)"
   ]
  },
  {
   "cell_type": "code",
   "execution_count": 56,
   "id": "ecbc0aab-cc39-4a3d-88b3-9ed064c2a31b",
   "metadata": {},
   "outputs": [
    {
     "name": "stdout",
     "output_type": "stream",
     "text": [
      "<class 'pandas.core.indexes.range.RangeIndex'>\n"
     ]
    }
   ],
   "source": [
    "print(type(countries.index))"
   ]
  },
  {
   "cell_type": "code",
   "execution_count": 50,
   "id": "8eef8347-a96a-4d37-af37-96233708b2cb",
   "metadata": {},
   "outputs": [
    {
     "data": {
      "text/plain": [
       "6"
      ]
     },
     "execution_count": 50,
     "metadata": {},
     "output_type": "execute_result"
    }
   ],
   "source": [
    "countries.size"
   ]
  },
  {
   "cell_type": "code",
   "execution_count": 57,
   "id": "35d8e5fe-6fd7-4e5a-8fca-8b5a3a3edbbe",
   "metadata": {},
   "outputs": [
    {
     "data": {
      "text/plain": [
       "<PandasArray>\n",
       "['United', 'States,', 'France,', 'Germany,', 'Italy', 'Italy']\n",
       "Length: 6, dtype: object"
      ]
     },
     "execution_count": 57,
     "metadata": {},
     "output_type": "execute_result"
    }
   ],
   "source": [
    "countries.array"
   ]
  },
  {
   "cell_type": "code",
   "execution_count": 58,
   "id": "da2e96fd-2dab-4009-9887-74ca12906e0a",
   "metadata": {},
   "outputs": [
    {
     "data": {
      "text/plain": [
       "pandas.core.arrays.numpy_.PandasArray"
      ]
     },
     "execution_count": 58,
     "metadata": {},
     "output_type": "execute_result"
    }
   ],
   "source": [
    "type(countries.array)"
   ]
  },
  {
   "cell_type": "code",
   "execution_count": null,
   "id": "64027a61-dd48-4770-805d-2a66ad5fe217",
   "metadata": {},
   "outputs": [],
   "source": []
  }
 ],
 "metadata": {
  "kernelspec": {
   "display_name": "Python 3 (ipykernel)",
   "language": "python",
   "name": "python3"
  },
  "language_info": {
   "codemirror_mode": {
    "name": "ipython",
    "version": 3
   },
   "file_extension": ".py",
   "mimetype": "text/x-python",
   "name": "python",
   "nbconvert_exporter": "python",
   "pygments_lexer": "ipython3",
   "version": "3.10.8"
  }
 },
 "nbformat": 4,
 "nbformat_minor": 5
}
