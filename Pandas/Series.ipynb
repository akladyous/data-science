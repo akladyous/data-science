{
 "cells": [
  {
   "cell_type": "code",
   "execution_count": 17,
   "id": "10a00331-56ef-4f10-8558-897826b2383a",
   "metadata": {},
   "outputs": [],
   "source": [
    "import numpy as np\n",
    "import pandas as pd"
   ]
  },
  {
   "cell_type": "code",
   "execution_count": 27,
   "id": "b56594dd-b899-4aa5-bf65-4bf1645c5fd5",
   "metadata": {},
   "outputs": [],
   "source": [
    "country_list = \"United States, France, Germany, Italy\""
   ]
  },
  {
   "cell_type": "code",
   "execution_count": 18,
   "id": "ce18843d-cea8-42cf-a374-bc5ac37dffad",
   "metadata": {},
   "outputs": [],
   "source": [
    "nums = [\"one\", \"two\", \"three\", \"four\", \"five\"]"
   ]
  },
  {
   "cell_type": "code",
   "execution_count": 19,
   "id": "6712f7df-5ec2-459e-8dfa-9fa7bb4a4607",
   "metadata": {},
   "outputs": [
    {
     "data": {
      "text/plain": [
       "a      one\n",
       "b      two\n",
       "c    three\n",
       "d     four\n",
       "e     five\n",
       "dtype: object"
      ]
     },
     "execution_count": 19,
     "metadata": {},
     "output_type": "execute_result"
    }
   ],
   "source": [
    "pd.Series(nums, [chr(x + 97) for x in range(len(nums))])"
   ]
  },
  {
   "cell_type": "code",
   "execution_count": 20,
   "id": "e715e61f-f690-4361-af3f-274229957aa0",
   "metadata": {},
   "outputs": [],
   "source": [
    "nums_series = pd.Series(nums)"
   ]
  },
  {
   "cell_type": "code",
   "execution_count": 24,
   "id": "4ceb5005-0db5-4131-828f-e5d8767040f2",
   "metadata": {},
   "outputs": [],
   "source": [
    "nums1 = pd.Series([2,2,2])"
   ]
  },
  {
   "cell_type": "code",
   "execution_count": null,
   "id": "bd5c6467-ecb6-4548-afbc-0d5b846afb24",
   "metadata": {},
   "outputs": [],
   "source": []
  },
  {
   "cell_type": "code",
   "execution_count": null,
   "id": "1b676a43-12c0-4730-89ec-c6ab34c9107e",
   "metadata": {},
   "outputs": [],
   "source": []
  },
  {
   "cell_type": "code",
   "execution_count": null,
   "id": "5db3fe1a-54b2-4cba-9413-f6dff968d3e4",
   "metadata": {},
   "outputs": [],
   "source": []
  }
 ],
 "metadata": {
  "kernelspec": {
   "display_name": "Python 3 (ipykernel)",
   "language": "python",
   "name": "python3"
  },
  "language_info": {
   "codemirror_mode": {
    "name": "ipython",
    "version": 3
   },
   "file_extension": ".py",
   "mimetype": "text/x-python",
   "name": "python",
   "nbconvert_exporter": "python",
   "pygments_lexer": "ipython3",
   "version": "3.10.8"
  }
 },
 "nbformat": 4,
 "nbformat_minor": 5
}
