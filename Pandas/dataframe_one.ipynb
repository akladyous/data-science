{
 "cells": [
  {
   "cell_type": "code",
   "execution_count": 1,
   "id": "3614fa98-19a9-48dd-aa51-f5525b2f792e",
   "metadata": {},
   "outputs": [],
   "source": [
    "import numpy as np\n",
    "import pandas as pd"
   ]
  },
  {
   "cell_type": "code",
   "execution_count": 5,
   "id": "0d5305cb-2ca6-4861-8e12-227e3e3cd9a4",
   "metadata": {},
   "outputs": [
    {
     "data": {
      "text/html": [
       "<div>\n",
       "<style scoped>\n",
       "    .dataframe tbody tr th:only-of-type {\n",
       "        vertical-align: middle;\n",
       "    }\n",
       "\n",
       "    .dataframe tbody tr th {\n",
       "        vertical-align: top;\n",
       "    }\n",
       "\n",
       "    .dataframe thead th {\n",
       "        text-align: right;\n",
       "    }\n",
       "</style>\n",
       "<table border=\"1\" class=\"dataframe\">\n",
       "  <thead>\n",
       "    <tr style=\"text-align: right;\">\n",
       "      <th></th>\n",
       "      <th>New York</th>\n",
       "      <th>Los Angeles</th>\n",
       "      <th>Miami</th>\n",
       "    </tr>\n",
       "    <tr>\n",
       "      <th>Date</th>\n",
       "      <th></th>\n",
       "      <th></th>\n",
       "      <th></th>\n",
       "    </tr>\n",
       "  </thead>\n",
       "  <tbody>\n",
       "    <tr>\n",
       "      <th>1/1/16</th>\n",
       "      <td>985</td>\n",
       "      <td>122</td>\n",
       "      <td>499</td>\n",
       "    </tr>\n",
       "    <tr>\n",
       "      <th>1/2/16</th>\n",
       "      <td>738</td>\n",
       "      <td>788</td>\n",
       "      <td>534</td>\n",
       "    </tr>\n",
       "    <tr>\n",
       "      <th>1/3/16</th>\n",
       "      <td>14</td>\n",
       "      <td>20</td>\n",
       "      <td>933</td>\n",
       "    </tr>\n",
       "    <tr>\n",
       "      <th>1/4/16</th>\n",
       "      <td>730</td>\n",
       "      <td>904</td>\n",
       "      <td>885</td>\n",
       "    </tr>\n",
       "    <tr>\n",
       "      <th>1/5/16</th>\n",
       "      <td>114</td>\n",
       "      <td>71</td>\n",
       "      <td>253</td>\n",
       "    </tr>\n",
       "    <tr>\n",
       "      <th>1/6/16</th>\n",
       "      <td>936</td>\n",
       "      <td>502</td>\n",
       "      <td>497</td>\n",
       "    </tr>\n",
       "    <tr>\n",
       "      <th>1/7/16</th>\n",
       "      <td>123</td>\n",
       "      <td>996</td>\n",
       "      <td>115</td>\n",
       "    </tr>\n",
       "    <tr>\n",
       "      <th>1/8/16</th>\n",
       "      <td>935</td>\n",
       "      <td>492</td>\n",
       "      <td>886</td>\n",
       "    </tr>\n",
       "    <tr>\n",
       "      <th>1/9/16</th>\n",
       "      <td>846</td>\n",
       "      <td>954</td>\n",
       "      <td>823</td>\n",
       "    </tr>\n",
       "    <tr>\n",
       "      <th>1/10/16</th>\n",
       "      <td>54</td>\n",
       "      <td>285</td>\n",
       "      <td>216</td>\n",
       "    </tr>\n",
       "  </tbody>\n",
       "</table>\n",
       "</div>"
      ],
      "text/plain": [
       "         New York  Los Angeles  Miami\n",
       "Date                                 \n",
       "1/1/16        985          122    499\n",
       "1/2/16        738          788    534\n",
       "1/3/16         14           20    933\n",
       "1/4/16        730          904    885\n",
       "1/5/16        114           71    253\n",
       "1/6/16        936          502    497\n",
       "1/7/16        123          996    115\n",
       "1/8/16        935          492    886\n",
       "1/9/16        846          954    823\n",
       "1/10/16        54          285    216"
      ]
     },
     "execution_count": 5,
     "metadata": {},
     "output_type": "execute_result"
    }
   ],
   "source": [
    "revenue_db = pd.read_csv(\"../data/revenue.csv\", index_col=\"Date\")\n",
    "revenue_db"
   ]
  },
  {
   "cell_type": "code",
   "execution_count": 6,
   "id": "0ef01fb0-dc46-4963-a3b5-4a45d8e1ff33",
   "metadata": {},
   "outputs": [
    {
     "data": {
      "text/plain": [
       "New York       5475\n",
       "Los Angeles    5134\n",
       "Miami          5641\n",
       "dtype: int64"
      ]
     },
     "execution_count": 6,
     "metadata": {},
     "output_type": "execute_result"
    }
   ],
   "source": [
    "revenue_db.sum()"
   ]
  },
  {
   "cell_type": "code",
   "execution_count": 14,
   "id": "4eb8ebaa-d799-400a-af6c-695a284279de",
   "metadata": {},
   "outputs": [
    {
     "data": {
      "text/plain": [
       "Date\n",
       "1/1/16     1606\n",
       "1/2/16     2060\n",
       "1/3/16      967\n",
       "1/4/16     2519\n",
       "1/5/16      438\n",
       "1/6/16     1935\n",
       "1/7/16     1234\n",
       "1/8/16     2313\n",
       "1/9/16     2623\n",
       "1/10/16     555\n",
       "dtype: int64"
      ]
     },
     "execution_count": 14,
     "metadata": {},
     "output_type": "execute_result"
    }
   ],
   "source": [
    "revenue_db.sum(axis=1) #sum all value in column axis(1), means horizontally"
   ]
  },
  {
   "cell_type": "code",
   "execution_count": 13,
   "id": "2b65f7b6-bfee-4035-8c2c-057b21f41281",
   "metadata": {},
   "outputs": [
    {
     "data": {
      "text/plain": [
       "Date\n",
       "1/1/16     1606\n",
       "1/2/16     2060\n",
       "1/3/16      967\n",
       "1/4/16     2519\n",
       "1/5/16      438\n",
       "1/6/16     1935\n",
       "1/7/16     1234\n",
       "1/8/16     2313\n",
       "1/9/16     2623\n",
       "1/10/16     555\n",
       "dtype: int64"
      ]
     },
     "execution_count": 13,
     "metadata": {},
     "output_type": "execute_result"
    }
   ],
   "source": [
    "revenue_db.sum(axis=\"columns\")"
   ]
  },
  {
   "cell_type": "code",
   "execution_count": 15,
   "id": "40304acb-4e39-49b4-bccf-cce7345dba11",
   "metadata": {},
   "outputs": [
    {
     "data": {
      "text/plain": [
       "New York       5475\n",
       "Los Angeles    5134\n",
       "Miami          5641\n",
       "dtype: int64"
      ]
     },
     "execution_count": 15,
     "metadata": {},
     "output_type": "execute_result"
    }
   ],
   "source": [
    "revenue_db.sum(axis=0)"
   ]
  },
  {
   "cell_type": "code",
   "execution_count": 16,
   "id": "3ba0d184-3e84-4aa8-b5d3-7cd9df22517c",
   "metadata": {},
   "outputs": [
    {
     "data": {
      "text/plain": [
       "New York       5475\n",
       "Los Angeles    5134\n",
       "Miami          5641\n",
       "dtype: int64"
      ]
     },
     "execution_count": 16,
     "metadata": {},
     "output_type": "execute_result"
    }
   ],
   "source": [
    "revenue_db.sum(axis=\"index\")"
   ]
  },
  {
   "cell_type": "code",
   "execution_count": null,
   "id": "478bb8c3-1407-4165-8cf7-5ba4c44935bd",
   "metadata": {},
   "outputs": [],
   "source": []
  }
 ],
 "metadata": {
  "kernelspec": {
   "display_name": "Python 3 (ipykernel)",
   "language": "python",
   "name": "python3"
  },
  "language_info": {
   "codemirror_mode": {
    "name": "ipython",
    "version": 3
   },
   "file_extension": ".py",
   "mimetype": "text/x-python",
   "name": "python",
   "nbconvert_exporter": "python",
   "pygments_lexer": "ipython3",
   "version": "3.10.8"
  }
 },
 "nbformat": 4,
 "nbformat_minor": 5
}
