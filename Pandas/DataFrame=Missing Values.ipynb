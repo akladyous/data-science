{
 "cells": [
  {
   "cell_type": "code",
   "execution_count": 12,
   "metadata": {},
   "outputs": [],
   "source": [
    "import pandas as pd\n",
    "import numpy as np"
   ]
  },
  {
   "cell_type": "code",
   "execution_count": 13,
   "metadata": {},
   "outputs": [],
   "source": [
    "people_dic={'first mame':['marc', 'julia', 'alex','John', 'Thomas', 'david','Mary', 'Sarah', 'Margaret', 'betty',],\n",
    "            'last name': ['smith', 'johnson','williams', 'brown','miller','Harris','clark','campbell','Mitchell','carter',],\n",
    "           'date of birth':['01/10/1973','10/03/1977','07/01/1984','08/28/1968','12/11/1990','03/21/1985','07/06/1990','02/11/2001','06/19/1989','04/22/1993'],\n",
    "           'state':['fl','ca','ny','co','ga','hi',np.nan,'tx','or',np.nan],\n",
    "           'occupation': ['Engineer','Accountant','Healthcare worker','Surgeon','Dentist','Scientist','Journalist','Nurse','Lawyer','it prof.']}"
   ]
  },
  {
   "cell_type": "code",
   "execution_count": 14,
   "metadata": {},
   "outputs": [],
   "source": [
    "people = pd.DataFrame(people_dic)"
   ]
  },
  {
   "cell_type": "code",
   "execution_count": null,
   "metadata": {},
   "outputs": [],
   "source": [
    "people.isnull()  # checking missing values\n",
    "people.notnull()  # checking non-missing values\n",
    "people.isnull().any()  # checking non-missing values\n",
    "people.isnull().values.any()  # only want to know if there are any missing values\n",
    "people.notnull().sum()  # knowling number of non-missing values for each variable\n",
    "people.isnull().sum().sum()  # knowing how many missing values in the data\n",
    "people[\"state\"].isnull().values.any()  # only want to know if there are any missing values in CNN\n",
    "people[\"occupation\"].isnull().values.any()\n",
    "people[\"email\"].isnull().sum()  # return the number of missing values in TO_ST"
   ]
  },
  {
   "cell_type": "code",
   "execution_count": null,
   "metadata": {},
   "outputs": [],
   "source": []
  },
  {
   "cell_type": "code",
   "execution_count": 11,
   "metadata": {},
   "outputs": [
    {
     "data": {
      "text/plain": [
       "first mame       False\n",
       "last name        False\n",
       "date of birth    False\n",
       "state             True\n",
       "occupation       False\n",
       "dtype: bool"
      ]
     },
     "execution_count": 11,
     "metadata": {},
     "output_type": "execute_result"
    }
   ],
   "source": [
    "people.isnull().any()"
   ]
  },
  {
   "cell_type": "code",
   "execution_count": null,
   "metadata": {},
   "outputs": [],
   "source": []
  },
  {
   "cell_type": "code",
   "execution_count": 4,
   "metadata": {},
   "outputs": [],
   "source": [
    "people['email']=np.nan"
   ]
  },
  {
   "cell_type": "code",
   "execution_count": 5,
   "metadata": {},
   "outputs": [],
   "source": [
    "people['test']=np.nan"
   ]
  },
  {
   "cell_type": "code",
   "execution_count": 6,
   "metadata": {},
   "outputs": [
    {
     "data": {
      "text/html": [
       "<div>\n",
       "<style scoped>\n",
       "    .dataframe tbody tr th:only-of-type {\n",
       "        vertical-align: middle;\n",
       "    }\n",
       "\n",
       "    .dataframe tbody tr th {\n",
       "        vertical-align: top;\n",
       "    }\n",
       "\n",
       "    .dataframe thead th {\n",
       "        text-align: right;\n",
       "    }\n",
       "</style>\n",
       "<table border=\"1\" class=\"dataframe\">\n",
       "  <thead>\n",
       "    <tr style=\"text-align: right;\">\n",
       "      <th></th>\n",
       "      <th>first mame</th>\n",
       "      <th>last name</th>\n",
       "      <th>date of birth</th>\n",
       "      <th>state</th>\n",
       "      <th>occupation</th>\n",
       "      <th>email</th>\n",
       "      <th>test</th>\n",
       "    </tr>\n",
       "  </thead>\n",
       "  <tbody>\n",
       "    <tr>\n",
       "      <th>0</th>\n",
       "      <td>marc</td>\n",
       "      <td>smith</td>\n",
       "      <td>01/10/1973</td>\n",
       "      <td>fl</td>\n",
       "      <td>Engineer</td>\n",
       "      <td>NaN</td>\n",
       "      <td>NaN</td>\n",
       "    </tr>\n",
       "    <tr>\n",
       "      <th>1</th>\n",
       "      <td>julia</td>\n",
       "      <td>johnson</td>\n",
       "      <td>10/03/1977</td>\n",
       "      <td>ca</td>\n",
       "      <td>Accountant</td>\n",
       "      <td>NaN</td>\n",
       "      <td>NaN</td>\n",
       "    </tr>\n",
       "    <tr>\n",
       "      <th>2</th>\n",
       "      <td>alex</td>\n",
       "      <td>williams</td>\n",
       "      <td>07/01/1984</td>\n",
       "      <td>ny</td>\n",
       "      <td>Healthcare worker</td>\n",
       "      <td>NaN</td>\n",
       "      <td>NaN</td>\n",
       "    </tr>\n",
       "  </tbody>\n",
       "</table>\n",
       "</div>"
      ],
      "text/plain": [
       "  first mame last name date of birth state         occupation  email  test\n",
       "0       marc     smith    01/10/1973    fl           Engineer    NaN   NaN\n",
       "1      julia   johnson    10/03/1977    ca         Accountant    NaN   NaN\n",
       "2       alex  williams    07/01/1984    ny  Healthcare worker    NaN   NaN"
      ]
     },
     "execution_count": 6,
     "metadata": {},
     "output_type": "execute_result"
    }
   ],
   "source": [
    "people.head(3)"
   ]
  },
  {
   "cell_type": "code",
   "execution_count": 7,
   "metadata": {},
   "outputs": [],
   "source": [
    "people['test'].replace(np.nan, 0, inplace=True)"
   ]
  },
  {
   "cell_type": "code",
   "execution_count": 8,
   "metadata": {},
   "outputs": [
    {
     "data": {
      "text/html": [
       "<div>\n",
       "<style scoped>\n",
       "    .dataframe tbody tr th:only-of-type {\n",
       "        vertical-align: middle;\n",
       "    }\n",
       "\n",
       "    .dataframe tbody tr th {\n",
       "        vertical-align: top;\n",
       "    }\n",
       "\n",
       "    .dataframe thead th {\n",
       "        text-align: right;\n",
       "    }\n",
       "</style>\n",
       "<table border=\"1\" class=\"dataframe\">\n",
       "  <thead>\n",
       "    <tr style=\"text-align: right;\">\n",
       "      <th></th>\n",
       "      <th>first mame</th>\n",
       "      <th>last name</th>\n",
       "      <th>date of birth</th>\n",
       "      <th>state</th>\n",
       "      <th>occupation</th>\n",
       "      <th>email</th>\n",
       "      <th>test</th>\n",
       "    </tr>\n",
       "  </thead>\n",
       "  <tbody>\n",
       "    <tr>\n",
       "      <th>0</th>\n",
       "      <td>marc</td>\n",
       "      <td>smith</td>\n",
       "      <td>01/10/1973</td>\n",
       "      <td>fl</td>\n",
       "      <td>Engineer</td>\n",
       "      <td>NaN</td>\n",
       "      <td>0.0</td>\n",
       "    </tr>\n",
       "    <tr>\n",
       "      <th>1</th>\n",
       "      <td>julia</td>\n",
       "      <td>johnson</td>\n",
       "      <td>10/03/1977</td>\n",
       "      <td>ca</td>\n",
       "      <td>Accountant</td>\n",
       "      <td>NaN</td>\n",
       "      <td>0.0</td>\n",
       "    </tr>\n",
       "    <tr>\n",
       "      <th>2</th>\n",
       "      <td>alex</td>\n",
       "      <td>williams</td>\n",
       "      <td>07/01/1984</td>\n",
       "      <td>ny</td>\n",
       "      <td>Healthcare worker</td>\n",
       "      <td>NaN</td>\n",
       "      <td>0.0</td>\n",
       "    </tr>\n",
       "  </tbody>\n",
       "</table>\n",
       "</div>"
      ],
      "text/plain": [
       "  first mame last name date of birth state         occupation  email  test\n",
       "0       marc     smith    01/10/1973    fl           Engineer    NaN   0.0\n",
       "1      julia   johnson    10/03/1977    ca         Accountant    NaN   0.0\n",
       "2       alex  williams    07/01/1984    ny  Healthcare worker    NaN   0.0"
      ]
     },
     "execution_count": 8,
     "metadata": {},
     "output_type": "execute_result"
    }
   ],
   "source": [
    "people.head(3)"
   ]
  },
  {
   "cell_type": "code",
   "execution_count": 9,
   "metadata": {},
   "outputs": [],
   "source": [
    "people1=people['state'].dropna(how='all')"
   ]
  },
  {
   "cell_type": "code",
   "execution_count": 10,
   "metadata": {},
   "outputs": [
    {
     "data": {
      "text/plain": [
       "0    fl\n",
       "1    ca\n",
       "2    ny\n",
       "3    co\n",
       "4    ga\n",
       "5    hi\n",
       "7    tx\n",
       "8    or\n",
       "Name: state, dtype: object"
      ]
     },
     "execution_count": 10,
     "metadata": {},
     "output_type": "execute_result"
    }
   ],
   "source": [
    "people1"
   ]
  },
  {
   "cell_type": "code",
   "execution_count": 11,
   "metadata": {},
   "outputs": [
    {
     "data": {
      "text/html": [
       "<div>\n",
       "<style scoped>\n",
       "    .dataframe tbody tr th:only-of-type {\n",
       "        vertical-align: middle;\n",
       "    }\n",
       "\n",
       "    .dataframe tbody tr th {\n",
       "        vertical-align: top;\n",
       "    }\n",
       "\n",
       "    .dataframe thead th {\n",
       "        text-align: right;\n",
       "    }\n",
       "</style>\n",
       "<table border=\"1\" class=\"dataframe\">\n",
       "  <thead>\n",
       "    <tr style=\"text-align: right;\">\n",
       "      <th></th>\n",
       "      <th>first mame</th>\n",
       "      <th>last name</th>\n",
       "      <th>date of birth</th>\n",
       "      <th>occupation</th>\n",
       "      <th>test</th>\n",
       "    </tr>\n",
       "  </thead>\n",
       "  <tbody>\n",
       "    <tr>\n",
       "      <th>0</th>\n",
       "      <td>marc</td>\n",
       "      <td>smith</td>\n",
       "      <td>01/10/1973</td>\n",
       "      <td>Engineer</td>\n",
       "      <td>0.0</td>\n",
       "    </tr>\n",
       "    <tr>\n",
       "      <th>1</th>\n",
       "      <td>julia</td>\n",
       "      <td>johnson</td>\n",
       "      <td>10/03/1977</td>\n",
       "      <td>Accountant</td>\n",
       "      <td>0.0</td>\n",
       "    </tr>\n",
       "    <tr>\n",
       "      <th>2</th>\n",
       "      <td>alex</td>\n",
       "      <td>williams</td>\n",
       "      <td>07/01/1984</td>\n",
       "      <td>Healthcare worker</td>\n",
       "      <td>0.0</td>\n",
       "    </tr>\n",
       "    <tr>\n",
       "      <th>3</th>\n",
       "      <td>John</td>\n",
       "      <td>brown</td>\n",
       "      <td>08/28/1968</td>\n",
       "      <td>Surgeon</td>\n",
       "      <td>0.0</td>\n",
       "    </tr>\n",
       "    <tr>\n",
       "      <th>4</th>\n",
       "      <td>Thomas</td>\n",
       "      <td>miller</td>\n",
       "      <td>12/11/1990</td>\n",
       "      <td>Dentist</td>\n",
       "      <td>0.0</td>\n",
       "    </tr>\n",
       "    <tr>\n",
       "      <th>5</th>\n",
       "      <td>david</td>\n",
       "      <td>Harris</td>\n",
       "      <td>03/21/1985</td>\n",
       "      <td>Scientist</td>\n",
       "      <td>0.0</td>\n",
       "    </tr>\n",
       "    <tr>\n",
       "      <th>6</th>\n",
       "      <td>Mary</td>\n",
       "      <td>clark</td>\n",
       "      <td>07/06/1990</td>\n",
       "      <td>Journalist</td>\n",
       "      <td>0.0</td>\n",
       "    </tr>\n",
       "    <tr>\n",
       "      <th>7</th>\n",
       "      <td>Sarah</td>\n",
       "      <td>campbell</td>\n",
       "      <td>02/11/2001</td>\n",
       "      <td>Nurse</td>\n",
       "      <td>0.0</td>\n",
       "    </tr>\n",
       "    <tr>\n",
       "      <th>8</th>\n",
       "      <td>Margaret</td>\n",
       "      <td>Mitchell</td>\n",
       "      <td>06/19/1989</td>\n",
       "      <td>Lawyer</td>\n",
       "      <td>0.0</td>\n",
       "    </tr>\n",
       "    <tr>\n",
       "      <th>9</th>\n",
       "      <td>betty</td>\n",
       "      <td>carter</td>\n",
       "      <td>04/22/1993</td>\n",
       "      <td>it prof.</td>\n",
       "      <td>0.0</td>\n",
       "    </tr>\n",
       "  </tbody>\n",
       "</table>\n",
       "</div>"
      ],
      "text/plain": [
       "  first mame last name date of birth         occupation  test\n",
       "0       marc     smith    01/10/1973           Engineer   0.0\n",
       "1      julia   johnson    10/03/1977         Accountant   0.0\n",
       "2       alex  williams    07/01/1984  Healthcare worker   0.0\n",
       "3       John     brown    08/28/1968            Surgeon   0.0\n",
       "4     Thomas    miller    12/11/1990            Dentist   0.0\n",
       "5      david    Harris    03/21/1985          Scientist   0.0\n",
       "6       Mary     clark    07/06/1990         Journalist   0.0\n",
       "7      Sarah  campbell    02/11/2001              Nurse   0.0\n",
       "8   Margaret  Mitchell    06/19/1989             Lawyer   0.0\n",
       "9      betty    carter    04/22/1993           it prof.   0.0"
      ]
     },
     "execution_count": 11,
     "metadata": {},
     "output_type": "execute_result"
    }
   ],
   "source": [
    "people.dropna(axis=1)"
   ]
  },
  {
   "cell_type": "code",
   "execution_count": 12,
   "metadata": {},
   "outputs": [
    {
     "data": {
      "text/html": [
       "<div>\n",
       "<style scoped>\n",
       "    .dataframe tbody tr th:only-of-type {\n",
       "        vertical-align: middle;\n",
       "    }\n",
       "\n",
       "    .dataframe tbody tr th {\n",
       "        vertical-align: top;\n",
       "    }\n",
       "\n",
       "    .dataframe thead th {\n",
       "        text-align: right;\n",
       "    }\n",
       "</style>\n",
       "<table border=\"1\" class=\"dataframe\">\n",
       "  <thead>\n",
       "    <tr style=\"text-align: right;\">\n",
       "      <th></th>\n",
       "      <th>first mame</th>\n",
       "      <th>last name</th>\n",
       "      <th>date of birth</th>\n",
       "      <th>state</th>\n",
       "      <th>occupation</th>\n",
       "      <th>email</th>\n",
       "      <th>test</th>\n",
       "    </tr>\n",
       "  </thead>\n",
       "  <tbody>\n",
       "    <tr>\n",
       "      <th>0</th>\n",
       "      <td>marc</td>\n",
       "      <td>smith</td>\n",
       "      <td>01/10/1973</td>\n",
       "      <td>fl</td>\n",
       "      <td>Engineer</td>\n",
       "      <td>NaN</td>\n",
       "      <td>0.0</td>\n",
       "    </tr>\n",
       "    <tr>\n",
       "      <th>1</th>\n",
       "      <td>julia</td>\n",
       "      <td>johnson</td>\n",
       "      <td>10/03/1977</td>\n",
       "      <td>ca</td>\n",
       "      <td>Accountant</td>\n",
       "      <td>NaN</td>\n",
       "      <td>0.0</td>\n",
       "    </tr>\n",
       "    <tr>\n",
       "      <th>2</th>\n",
       "      <td>alex</td>\n",
       "      <td>williams</td>\n",
       "      <td>07/01/1984</td>\n",
       "      <td>ny</td>\n",
       "      <td>Healthcare worker</td>\n",
       "      <td>NaN</td>\n",
       "      <td>0.0</td>\n",
       "    </tr>\n",
       "    <tr>\n",
       "      <th>3</th>\n",
       "      <td>John</td>\n",
       "      <td>brown</td>\n",
       "      <td>08/28/1968</td>\n",
       "      <td>co</td>\n",
       "      <td>Surgeon</td>\n",
       "      <td>NaN</td>\n",
       "      <td>0.0</td>\n",
       "    </tr>\n",
       "    <tr>\n",
       "      <th>4</th>\n",
       "      <td>Thomas</td>\n",
       "      <td>miller</td>\n",
       "      <td>12/11/1990</td>\n",
       "      <td>ga</td>\n",
       "      <td>Dentist</td>\n",
       "      <td>NaN</td>\n",
       "      <td>0.0</td>\n",
       "    </tr>\n",
       "    <tr>\n",
       "      <th>5</th>\n",
       "      <td>david</td>\n",
       "      <td>Harris</td>\n",
       "      <td>03/21/1985</td>\n",
       "      <td>hi</td>\n",
       "      <td>Scientist</td>\n",
       "      <td>NaN</td>\n",
       "      <td>0.0</td>\n",
       "    </tr>\n",
       "    <tr>\n",
       "      <th>6</th>\n",
       "      <td>Mary</td>\n",
       "      <td>clark</td>\n",
       "      <td>07/06/1990</td>\n",
       "      <td>NaN</td>\n",
       "      <td>Journalist</td>\n",
       "      <td>NaN</td>\n",
       "      <td>0.0</td>\n",
       "    </tr>\n",
       "    <tr>\n",
       "      <th>7</th>\n",
       "      <td>Sarah</td>\n",
       "      <td>campbell</td>\n",
       "      <td>02/11/2001</td>\n",
       "      <td>tx</td>\n",
       "      <td>Nurse</td>\n",
       "      <td>NaN</td>\n",
       "      <td>0.0</td>\n",
       "    </tr>\n",
       "    <tr>\n",
       "      <th>8</th>\n",
       "      <td>Margaret</td>\n",
       "      <td>Mitchell</td>\n",
       "      <td>06/19/1989</td>\n",
       "      <td>or</td>\n",
       "      <td>Lawyer</td>\n",
       "      <td>NaN</td>\n",
       "      <td>0.0</td>\n",
       "    </tr>\n",
       "    <tr>\n",
       "      <th>9</th>\n",
       "      <td>betty</td>\n",
       "      <td>carter</td>\n",
       "      <td>04/22/1993</td>\n",
       "      <td>NaN</td>\n",
       "      <td>it prof.</td>\n",
       "      <td>NaN</td>\n",
       "      <td>0.0</td>\n",
       "    </tr>\n",
       "  </tbody>\n",
       "</table>\n",
       "</div>"
      ],
      "text/plain": [
       "  first mame last name date of birth state         occupation  email  test\n",
       "0       marc     smith    01/10/1973    fl           Engineer    NaN   0.0\n",
       "1      julia   johnson    10/03/1977    ca         Accountant    NaN   0.0\n",
       "2       alex  williams    07/01/1984    ny  Healthcare worker    NaN   0.0\n",
       "3       John     brown    08/28/1968    co            Surgeon    NaN   0.0\n",
       "4     Thomas    miller    12/11/1990    ga            Dentist    NaN   0.0\n",
       "5      david    Harris    03/21/1985    hi          Scientist    NaN   0.0\n",
       "6       Mary     clark    07/06/1990   NaN         Journalist    NaN   0.0\n",
       "7      Sarah  campbell    02/11/2001    tx              Nurse    NaN   0.0\n",
       "8   Margaret  Mitchell    06/19/1989    or             Lawyer    NaN   0.0\n",
       "9      betty    carter    04/22/1993   NaN           it prof.    NaN   0.0"
      ]
     },
     "execution_count": 12,
     "metadata": {},
     "output_type": "execute_result"
    }
   ],
   "source": [
    "people.dropna(subset=['test'], how='all')"
   ]
  },
  {
   "cell_type": "code",
   "execution_count": null,
   "metadata": {},
   "outputs": [],
   "source": []
  },
  {
   "cell_type": "code",
   "execution_count": null,
   "metadata": {},
   "outputs": [],
   "source": []
  },
  {
   "cell_type": "code",
   "execution_count": null,
   "metadata": {},
   "outputs": [],
   "source": []
  }
 ],
 "metadata": {
  "kernelspec": {
   "display_name": "Python 3",
   "language": "python",
   "name": "python3"
  },
  "language_info": {
   "codemirror_mode": {
    "name": "ipython",
    "version": 3
   },
   "file_extension": ".py",
   "mimetype": "text/x-python",
   "name": "python",
   "nbconvert_exporter": "python",
   "pygments_lexer": "ipython3",
   "version": "3.8.8"
  }
 },
 "nbformat": 4,
 "nbformat_minor": 4
}
