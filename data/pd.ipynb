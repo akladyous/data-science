{
 "cells": [
  {
   "cell_type": "code",
   "execution_count": 1,
   "metadata": {},
   "outputs": [],
   "source": [
    "from IPython.core.interactiveshell import InteractiveShell\n",
    "InteractiveShell.ast_node_interactivity = \"all\""
   ]
  },
  {
   "cell_type": "code",
   "execution_count": 4,
   "metadata": {},
   "outputs": [],
   "source": [
    "import pandas as pd\n",
    "import numpy as np\n",
    "from tempfile import TemporaryFile"
   ]
  },
  {
   "cell_type": "code",
   "execution_count": 5,
   "metadata": {},
   "outputs": [],
   "source": [
    "np.random.seed(0)\n",
    "rng= np.random.default_rng(123)"
   ]
  },
  {
   "cell_type": "code",
   "execution_count": 6,
   "metadata": {},
   "outputs": [
    {
     "name": "stdout",
     "output_type": "stream",
     "text": [
      "sales [45 48 65 68 68 10 84 22 37 88]\n"
     ]
    }
   ],
   "source": [
    "sales = np.random.randint(low=1, high=100, size=10)\n",
    "print(f\"sales {sales}\")\n"
   ]
  },
  {
   "cell_type": "code",
   "execution_count": 7,
   "metadata": {},
   "outputs": [
    {
     "data": {
      "text/plain": [
       "[array([False, False,  True,  True,  True, False,  True, False, False,\n",
       "         True]),\n",
       " array([45, 48, 65, 68, 68, 10, 84, 22, 37, 88])]"
      ]
     },
     "execution_count": 7,
     "metadata": {},
     "output_type": "execute_result"
    }
   ],
   "source": [
    "[sales > 50, sales]"
   ]
  },
  {
   "cell_type": "code",
   "execution_count": 15,
   "metadata": {},
   "outputs": [
    {
     "name": "stdout",
     "output_type": "stream",
     "text": [
      "high_sales [nan nan 65. 68. 68. nan 84. nan nan 88.]\n",
      "low_sales [45. 48. nan nan nan 10. nan 22. 37. nan]\n"
     ]
    }
   ],
   "source": [
    "high_sales = np.select([sales > 50], [sales], np.nan)\n",
    "low_sales  = np.select([sales < 50], [sales], np.nan)\n",
    "print(f\"high_sales {high_sales}\")\n",
    "print(f\"low_sales {low_sales}\")"
   ]
  },
  {
   "cell_type": "code",
   "execution_count": 9,
   "metadata": {},
   "outputs": [
    {
     "data": {
      "text/plain": [
       "array([65, 68, 68, 84, 88])"
      ]
     },
     "execution_count": 9,
     "metadata": {},
     "output_type": "execute_result"
    }
   ],
   "source": [
    "np.extract(sales > 50, sales)"
   ]
  },
  {
   "cell_type": "code",
   "execution_count": 23,
   "metadata": {},
   "outputs": [
    {
     "data": {
      "text/plain": [
       "array([4, 5, 6])"
      ]
     },
     "execution_count": 23,
     "metadata": {},
     "output_type": "execute_result"
    }
   ],
   "source": [
    "arr1 = np.array([1, 2, 3, 4, 5, 6])\n",
    "np.extract([arr1 > 3] , arr1)"
   ]
  },
  {
   "cell_type": "code",
   "execution_count": null,
   "metadata": {},
   "outputs": [],
   "source": []
  },
  {
   "cell_type": "code",
   "execution_count": 25,
   "metadata": {},
   "outputs": [],
   "source": [
    "names = [\"Mary\",\n",
    "\"Anna\",\n",
    "\"Emma\",\n",
    "\"Elizabeth\",\n",
    "\"Minnie\",\n",
    "\"Margaret\",\n",
    "\"Ida\",\n",
    "\"Alice\",\n",
    "\"Bertha\",\n",
    "\"Sarah\",\n",
    "\"Annie\",\n",
    "\"Clara\",\n",
    "\"Ella\",\n",
    "\"Florence\",\n",
    "\"Cora\",\n",
    "\"Martha\",\n",
    "\"Laura\",\n",
    "\"Nellie\",\n",
    "\"Grace\",\n",
    "\"Carrie\",\n",
    "\"Maude\",\n",
    "\"Mabel\",\n",
    "\"Bessie\",\n",
    "\"Jennie\",\n",
    "\"Gertrude\",\n",
    "\"Julia\",\n",
    "\"Hattie\",\n",
    "\"Edith\",\n",
    "\"Mattie\",\n",
    "\"Rose\",\n",
    "\"Catherine\",\n",
    "\"Lillian\",\n",
    "\"Ada\",\n",
    "\"Lillie\",\n",
    "\"Helen\",\n",
    "\"Jessie\",\n",
    "\"Louise\",\n",
    "\"Ethel\",\n",
    "\"Lula\",\n",
    "\"Myrtle\",\n",
    "\"Eva\",\n",
    "\"Frances\",\n",
    "\"Lena\",\n",
    "\"Lucy\",\n",
    "\"Edna\",\n",
    "\"Maggie\",\n",
    "\"Pearl\",\n",
    "\"Daisy\",\n",
    "\"Fannie\",\n",
    "\"Josephine\",\n",
    "\"Dora\",\n",
    "\"Rosa\",\n",
    "\"Katherine\",\n",
    "\"Agnes\",\n",
    "\"Marie\",\n",
    "\"Nora\",\n",
    "\"May\",\n",
    "\"Mamie\",\n",
    "\"Blanche\",\n",
    "\"Stella\",\n",
    "\"Ellen\",\n",
    "\"Nancy\",\n",
    "\"Effie\",\n",
    "\"Sallie\",\n",
    "\"Nettie\",\n",
    "\"Della\",\n",
    "\"Lizzie\",\n",
    "\"Flora\",\n",
    "\"Susie\",\n",
    "\"Maud\",\n",
    "\"Mae\",\n",
    "\"Etta\",\n",
    "\"Harriet\",\n",
    "\"Sadie\",\n",
    "\"Caroline\",\n",
    "\"Katie\",\n",
    "\"Lydia\",\n",
    "\"Elsie\",\n",
    "\"Kate\",\n",
    "\"Susan\",\n",
    "\"Mollie\",\n",
    "\"Alma\",\n",
    "\"Addie\",\n",
    "\"Georgia\",\n",
    "\"Eliza\",\n",
    "\"Lulu\",\n",
    "\"Nannie\",\n",
    "\"Lottie\",\n",
    "\"Amanda\",\n",
    "\"Belle\",\n",
    "\"Charlotte\",\n",
    "\"Rebecca\",\n",
    "\"Ruth\",\n",
    "\"Viola\",\n",
    "\"Olive\",\n",
    "\"Amelia\",\n",
    "\"Hannah\",\n",
    "\"Jane\",\n",
    "\"Virginia\",\n",
    "\"Emily\"]"
   ]
  },
  {
   "cell_type": "code",
   "execution_count": 26,
   "metadata": {},
   "outputs": [
    {
     "data": {
      "text/plain": [
       "100"
      ]
     },
     "execution_count": 26,
     "metadata": {},
     "output_type": "execute_result"
    }
   ],
   "source": [
    "len(names)"
   ]
  },
  {
   "cell_type": "code",
   "execution_count": null,
   "metadata": {},
   "outputs": [],
   "source": []
  }
 ],
 "metadata": {
  "kernelspec": {
   "display_name": "Python 3 (ipykernel)",
   "language": "python",
   "name": "python3"
  },
  "language_info": {
   "codemirror_mode": {
    "name": "ipython",
    "version": 3
   },
   "file_extension": ".py",
   "mimetype": "text/x-python",
   "name": "python",
   "nbconvert_exporter": "python",
   "pygments_lexer": "ipython3",
   "version": "3.12.2"
  }
 },
 "nbformat": 4,
 "nbformat_minor": 4
}
