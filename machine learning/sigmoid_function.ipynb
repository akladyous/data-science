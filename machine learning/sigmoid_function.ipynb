{
 "cells": [
  {
   "cell_type": "code",
   "execution_count": 1,
   "metadata": {},
   "outputs": [],
   "source": [
    "import numpy as np\n",
    "import matplotlib.pyplot as plt"
   ]
  },
  {
   "cell_type": "code",
   "execution_count": null,
   "metadata": {},
   "outputs": [],
   "source": [
    "x = np.linspace(-10, 10, 100)\n",
    "\n",
    "\n",
    "def modified_sigmoid(x, c):\n",
    "    return 1 / (1 + c ** (-x))\n",
    "\n",
    "\n",
    "def sigmoid(x):\n",
    "    return 1 / (1 + np.exp(-x))\n",
    "\n",
    "\n",
    "y = sigmoid(x)\n",
    "y_modified_20 = modified_sigmoid(x, 20)\n",
    "\n",
    "# Plot the sigmoid functions and label them\n",
    "plt.plot(x, y, label=\"Original Sigmoid (e^(-x))\")\n",
    "plt.plot(x, y_modified_20, label=\"Modified Sigmoid (20^(-x))\")\n",
    "\n",
    "# Add legend to upper right corner\n",
    "plt.legend(loc=\"upper right\")\n",
    "\n",
    "plt.title(\"Comparison of Sigmoid Functions\")\n",
    "plt.xlabel(\"x\")\n",
    "plt.ylabel(\"Sigmoid(x)\")\n",
    "plt.grid(True)\n",
    "plt.show()"
   ]
  }
 ],
 "metadata": {
  "kernelspec": {
   "display_name": ".env",
   "language": "python",
   "name": "python3"
  },
  "language_info": {
   "codemirror_mode": {
    "name": "ipython",
    "version": 3
   },
   "file_extension": ".py",
   "mimetype": "text/x-python",
   "name": "python",
   "nbconvert_exporter": "python",
   "pygments_lexer": "ipython3",
   "version": "3.12.1"
  }
 },
 "nbformat": 4,
 "nbformat_minor": 2
}
