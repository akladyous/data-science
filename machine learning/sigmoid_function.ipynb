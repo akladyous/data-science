{
 "cells": [
  {
   "cell_type": "code",
   "execution_count": null,
   "metadata": {},
   "outputs": [],
   "source": [
    "x = np.linspace(-10, 10, 100)\n",
    "\n",
    "\n",
    "def modified_sigmoid(x, c):\n",
    "    return 1 / (1 + c ** (-x))\n",
    "\n",
    "\n",
    "def sigmoid(x):\n",
    "    return 1 / (1 + np.exp(-x))\n",
    "\n",
    "\n",
    "y = sigmoid(x)\n",
    "y_modified_20 = modified_sigmoid(x, 20)\n",
    "\n",
    "# Plot the sigmoid functions and label them\n",
    "plt.plot(x, y, label=\"Original Sigmoid (e^(-x))\")\n",
    "plt.plot(x, y_modified_20, label=\"Modified Sigmoid (20^(-x))\")\n",
    "\n",
    "# Add legend to upper right corner\n",
    "plt.legend(loc=\"upper right\")\n",
    "\n",
    "plt.title(\"Comparison of Sigmoid Functions\")\n",
    "plt.xlabel(\"x\")\n",
    "plt.ylabel(\"Sigmoid(x)\")\n",
    "plt.grid(True)\n",
    "plt.show()"
   ]
  }
 ],
 "metadata": {
  "language_info": {
   "name": "python"
  }
 },
 "nbformat": 4,
 "nbformat_minor": 2
}
