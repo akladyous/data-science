{
 "cells": [
  {
   "cell_type": "code",
   "execution_count": 2,
   "metadata": {},
   "outputs": [],
   "source": [
    "import numpy as np"
   ]
  },
  {
   "cell_type": "code",
   "execution_count": 3,
   "metadata": {},
   "outputs": [],
   "source": [
    "# Generate categorical data (0 for male, 1 for female)\n",
    "np.random.seed(0)  # for reproducibility\n",
    "gender = np.random.choice([0, 1], size=100)"
   ]
  },
  {
   "cell_type": "code",
   "execution_count": 1,
   "metadata": {},
   "outputs": [
    {
     "name": "stdout",
     "output_type": "stream",
     "text": [
      "Probability of Female: 0.56\n",
      "Log-Odds: 0.24116205681688824\n"
     ]
    }
   ],
   "source": [
    "\n",
    "\n",
    "# Calculate the probabilities\n",
    "probabilities = np.mean(\n",
    "    gender\n",
    ")  # since we have binary categories, probability of female (1) is the mean of the array\n",
    "print(\"Probability of Female:\", probabilities)\n",
    "\n",
    "# Calculate the log-odds\n",
    "log_odds = np.log(probabilities / (1 - probabilities))\n",
    "print(\"Log-Odds:\", log_odds)"
   ]
  },
  {
   "cell_type": "code",
   "execution_count": null,
   "metadata": {},
   "outputs": [],
   "source": []
  }
 ],
 "metadata": {
  "kernelspec": {
   "display_name": ".env",
   "language": "python",
   "name": "python3"
  },
  "language_info": {
   "codemirror_mode": {
    "name": "ipython",
    "version": 3
   },
   "file_extension": ".py",
   "mimetype": "text/x-python",
   "name": "python",
   "nbconvert_exporter": "python",
   "pygments_lexer": "ipython3",
   "version": "3.12.1"
  }
 },
 "nbformat": 4,
 "nbformat_minor": 2
}
