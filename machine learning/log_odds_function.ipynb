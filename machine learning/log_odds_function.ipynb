{
 "cells": [
  {
   "cell_type": "code",
   "execution_count": 10,
   "metadata": {},
   "outputs": [],
   "source": [
    "import numpy as np"
   ]
  },
  {
   "cell_type": "code",
   "execution_count": 11,
   "metadata": {},
   "outputs": [],
   "source": [
    "# Generate categorical data (0 for male, 1 for female)\n",
    "np.random.seed(0)  # for reproducibility\n",
    "gender = np.random.choice([0, 1], size=100)"
   ]
  },
  {
   "cell_type": "code",
   "execution_count": 14,
   "metadata": {},
   "outputs": [
    {
     "name": "stdout",
     "output_type": "stream",
     "text": [
      "Probability of Male: 0.44\n",
      "Probability of Female: 0.56\n"
     ]
    }
   ],
   "source": [
    "probability_male = np.sum(gender == 0) / np.size(gender)\n",
    "probability_female = np.sum(gender == 1) / np.size(gender)\n",
    "print(\"Probability of Male:\", probability_male)\n",
    "print(\"Probability of Female:\", probability_female)"
   ]
  },
  {
   "cell_type": "code",
   "execution_count": 19,
   "metadata": {},
   "outputs": [
    {
     "name": "stdout",
     "output_type": "stream",
     "text": [
      "Log-Odds of Male: -0.2411620568168881\n",
      "Log-Odds of Female: 0.24116205681688824\n"
     ]
    }
   ],
   "source": [
    "# Calculate the log-odds\n",
    "log_odds_male = np.log(probability_male / (1 - probability_male))\n",
    "log_odds_female = np.log(probability_female / (1 - probability_female))\n",
    "\n",
    "print(\"Log-Odds of Male:\",   log_odds_male)\n",
    "print(\"Log-Odds of Female:\", log_odds_female)"
   ]
  },
  {
   "cell_type": "code",
   "execution_count": null,
   "metadata": {},
   "outputs": [],
   "source": []
  }
 ],
 "metadata": {
  "kernelspec": {
   "display_name": ".env",
   "language": "python",
   "name": "python3"
  },
  "language_info": {
   "codemirror_mode": {
    "name": "ipython",
    "version": 3
   },
   "file_extension": ".py",
   "mimetype": "text/x-python",
   "name": "python",
   "nbconvert_exporter": "python",
   "pygments_lexer": "ipython3",
   "version": "3.12.1"
  }
 },
 "nbformat": 4,
 "nbformat_minor": 2
}
