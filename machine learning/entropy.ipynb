{
 "cells": [
  {
   "cell_type": "code",
   "execution_count": 1,
   "metadata": {},
   "outputs": [],
   "source": [
    "import math\n",
    "from collections import Counter"
   ]
  },
  {
   "cell_type": "code",
   "execution_count": 2,
   "metadata": {},
   "outputs": [],
   "source": [
    "def entropy(outcomes):\n",
    "    outcome_counts = Counter(outcomes)\n",
    "    total_outcomes = len(outcomes)\n",
    "\n",
    "    probabilities = [count / total_outcomes for count in outcome_counts.values()]\n",
    "\n",
    "    entropy = -sum(p * math.log2(p) for p in probabilities)\n",
    "\n",
    "    print(outcome_counts)\n",
    "    print(probabilities)\n",
    "    return"
   ]
  },
  {
   "cell_type": "code",
   "execution_count": 3,
   "metadata": {},
   "outputs": [],
   "source": [
    "outcomes = [3, 2, 5, 1, 4, 6, 3, 3, 2, 1]"
   ]
  },
  {
   "cell_type": "code",
   "execution_count": 4,
   "metadata": {},
   "outputs": [
    {
     "name": "stdout",
     "output_type": "stream",
     "text": [
      "Counter({3: 3, 2: 2, 1: 2, 5: 1, 4: 1, 6: 1})\n",
      "[0.3, 0.2, 0.1, 0.2, 0.1, 0.1]\n"
     ]
    }
   ],
   "source": [
    "outcomes_entropy = entropy(outcomes)"
   ]
  },
  {
   "cell_type": "code",
   "execution_count": null,
   "metadata": {},
   "outputs": [],
   "source": []
  }
 ],
 "metadata": {
  "kernelspec": {
   "display_name": ".env",
   "language": "python",
   "name": "python3"
  },
  "language_info": {
   "codemirror_mode": {
    "name": "ipython",
    "version": 3
   },
   "file_extension": ".py",
   "mimetype": "text/x-python",
   "name": "python",
   "nbconvert_exporter": "python",
   "pygments_lexer": "ipython3",
   "version": "3.12.1"
  }
 },
 "nbformat": 4,
 "nbformat_minor": 2
}
