{
 "cells": [
  {
   "cell_type": "code",
   "execution_count": 3,
   "id": "239879df-1ecd-4a8e-9195-050d7263fddd",
   "metadata": {},
   "outputs": [],
   "source": [
    "import numpy as np\n",
    "import pandas as pd\n",
    "import matplotlib.pyplot as plt"
   ]
  },
  {
   "cell_type": "code",
   "execution_count": 87,
   "id": "d83ce00f-2e76-43a5-b6f5-ee39c814ca87",
   "metadata": {},
   "outputs": [],
   "source": [
    "np.random.seed(42)"
   ]
  },
  {
   "cell_type": "code",
   "execution_count": null,
   "id": "1e088b77-540b-46ee-b35c-8881657d9ff3",
   "metadata": {},
   "outputs": [],
   "source": []
  },
  {
   "cell_type": "raw",
   "id": "a06ee012-d7c3-4fc9-b2fc-fa5b68eee7c4",
   "metadata": {},
   "source": [
    "np.random.randint(1,100, 20)\n",
    "np.random.normal(1,100, 20)\n",
    "np.random.normal(25, 3, size=20)\n",
    "np.random.randint(1, 100, (10,10))"
   ]
  },
  {
   "cell_type": "code",
   "execution_count": 90,
   "id": "6378b04f-34b3-4445-a7ae-09755046f064",
   "metadata": {},
   "outputs": [
    {
     "data": {
      "text/html": [
       "<div>\n",
       "<style scoped>\n",
       "    .dataframe tbody tr th:only-of-type {\n",
       "        vertical-align: middle;\n",
       "    }\n",
       "\n",
       "    .dataframe tbody tr th {\n",
       "        vertical-align: top;\n",
       "    }\n",
       "\n",
       "    .dataframe thead th {\n",
       "        text-align: right;\n",
       "    }\n",
       "</style>\n",
       "<table border=\"1\" class=\"dataframe\">\n",
       "  <thead>\n",
       "    <tr style=\"text-align: right;\">\n",
       "      <th></th>\n",
       "      <th>Age</th>\n",
       "      <th>Salary</th>\n",
       "    </tr>\n",
       "  </thead>\n",
       "  <tbody>\n",
       "    <tr>\n",
       "      <th>0</th>\n",
       "      <td>47</td>\n",
       "      <td>68074</td>\n",
       "    </tr>\n",
       "    <tr>\n",
       "      <th>1</th>\n",
       "      <td>25</td>\n",
       "      <td>108297</td>\n",
       "    </tr>\n",
       "    <tr>\n",
       "      <th>2</th>\n",
       "      <td>27</td>\n",
       "      <td>76678</td>\n",
       "    </tr>\n",
       "    <tr>\n",
       "      <th>3</th>\n",
       "      <td>42</td>\n",
       "      <td>79724</td>\n",
       "    </tr>\n",
       "    <tr>\n",
       "      <th>4</th>\n",
       "      <td>49</td>\n",
       "      <td>96026</td>\n",
       "    </tr>\n",
       "    <tr>\n",
       "      <th>...</th>\n",
       "      <td>...</td>\n",
       "      <td>...</td>\n",
       "    </tr>\n",
       "    <tr>\n",
       "      <th>95</th>\n",
       "      <td>27</td>\n",
       "      <td>51115</td>\n",
       "    </tr>\n",
       "    <tr>\n",
       "      <th>96</th>\n",
       "      <td>47</td>\n",
       "      <td>96727</td>\n",
       "    </tr>\n",
       "    <tr>\n",
       "      <th>97</th>\n",
       "      <td>32</td>\n",
       "      <td>91012</td>\n",
       "    </tr>\n",
       "    <tr>\n",
       "      <th>98</th>\n",
       "      <td>44</td>\n",
       "      <td>85650</td>\n",
       "    </tr>\n",
       "    <tr>\n",
       "      <th>99</th>\n",
       "      <td>40</td>\n",
       "      <td>80494</td>\n",
       "    </tr>\n",
       "  </tbody>\n",
       "</table>\n",
       "<p>100 rows × 2 columns</p>\n",
       "</div>"
      ],
      "text/plain": [
       "    Age  Salary\n",
       "0    47   68074\n",
       "1    25  108297\n",
       "2    27   76678\n",
       "3    42   79724\n",
       "4    49   96026\n",
       "..  ...     ...\n",
       "95   27   51115\n",
       "96   47   96727\n",
       "97   32   91012\n",
       "98   44   85650\n",
       "99   40   80494\n",
       "\n",
       "[100 rows x 2 columns]"
      ]
     },
     "execution_count": 90,
     "metadata": {},
     "output_type": "execute_result"
    }
   ],
   "source": [
    "\n",
    "# Set the random seed for reproducibility\n",
    "\n",
    "\n",
    "# Define the desired range for salaries and ages\n",
    "minimum_salary = 50000\n",
    "maximum_salary = 130000\n",
    "minimum_age = 25\n",
    "maximum_age = 55\n",
    "\n",
    "# Generate random salaries from a normal distribution\n",
    "salaries = np.random.normal(loc=90000, scale=20000, size=100)\n",
    "scaled_salaries = np.clip(salaries, minimum_salary, maximum_salary).astype(int)\n",
    "\n",
    "# Generate random ages\n",
    "ages = np.random.randint(low=minimum_age, high=maximum_age+1, size=100)\n",
    "\n",
    "# Create a DataFrame with ages and salaries\n",
    "employees = pd.DataFrame({'Age': ages, 'Salary': scaled_salaries})\n",
    "employees"
   ]
  },
  {
   "cell_type": "code",
   "execution_count": null,
   "id": "9bdacebe-ca1c-4a27-bf95-c73df553ffb7",
   "metadata": {},
   "outputs": [],
   "source": []
  },
  {
   "cell_type": "code",
   "execution_count": 107,
   "id": "5cb63ad7-a838-4d52-9015-219279b34bac",
   "metadata": {},
   "outputs": [],
   "source": [
    "range_of_10 = [x for x in range(1, 100, 10)]\n",
    "range_of_10_labels = [f'{x}!' for x in range(10)]"
   ]
  },
  {
   "cell_type": "code",
   "execution_count": 108,
   "id": "e406774e-3793-47a4-bb03-b88975bb274f",
   "metadata": {},
   "outputs": [
    {
     "data": {
      "text/plain": [
       "[<matplotlib.lines.Line2D at 0x1680bdcc0>]"
      ]
     },
     "execution_count": 108,
     "metadata": {},
     "output_type": "execute_result"
    },
    {
     "data": {
      "image/png": "[encoded data removed]",
      "text/plain": [
       "<Figure size 640x480 with 1 Axes>"
      ]
     },
     "metadata": {},
     "output_type": "display_data"
    }
   ],
   "source": [
    "plt.plot(range_of_10_labels, range_of_10)"
   ]
  },
  {
   "cell_type": "code",
   "execution_count": 110,
   "id": "93e38df9-b120-495b-ac3a-70af5b837a7a",
   "metadata": {},
   "outputs": [
    {
     "data": {
      "text/html": [
       "<div>\n",
       "<style scoped>\n",
       "    .dataframe tbody tr th:only-of-type {\n",
       "        vertical-align: middle;\n",
       "    }\n",
       "\n",
       "    .dataframe tbody tr th {\n",
       "        vertical-align: top;\n",
       "    }\n",
       "\n",
       "    .dataframe thead th {\n",
       "        text-align: right;\n",
       "    }\n",
       "</style>\n",
       "<table border=\"1\" class=\"dataframe\">\n",
       "  <thead>\n",
       "    <tr style=\"text-align: right;\">\n",
       "      <th></th>\n",
       "      <th>0</th>\n",
       "      <th>series2</th>\n",
       "    </tr>\n",
       "  </thead>\n",
       "  <tbody>\n",
       "    <tr>\n",
       "      <th>0!</th>\n",
       "      <td>1</td>\n",
       "      <td>0.5</td>\n",
       "    </tr>\n",
       "    <tr>\n",
       "      <th>1!</th>\n",
       "      <td>11</td>\n",
       "      <td>5.5</td>\n",
       "    </tr>\n",
       "    <tr>\n",
       "      <th>2!</th>\n",
       "      <td>21</td>\n",
       "      <td>10.5</td>\n",
       "    </tr>\n",
       "    <tr>\n",
       "      <th>3!</th>\n",
       "      <td>31</td>\n",
       "      <td>15.5</td>\n",
       "    </tr>\n",
       "    <tr>\n",
       "      <th>4!</th>\n",
       "      <td>41</td>\n",
       "      <td>20.5</td>\n",
       "    </tr>\n",
       "    <tr>\n",
       "      <th>5!</th>\n",
       "      <td>51</td>\n",
       "      <td>25.5</td>\n",
       "    </tr>\n",
       "    <tr>\n",
       "      <th>6!</th>\n",
       "      <td>61</td>\n",
       "      <td>30.5</td>\n",
       "    </tr>\n",
       "    <tr>\n",
       "      <th>7!</th>\n",
       "      <td>71</td>\n",
       "      <td>35.5</td>\n",
       "    </tr>\n",
       "    <tr>\n",
       "      <th>8!</th>\n",
       "      <td>81</td>\n",
       "      <td>40.5</td>\n",
       "    </tr>\n",
       "    <tr>\n",
       "      <th>9!</th>\n",
       "      <td>91</td>\n",
       "      <td>45.5</td>\n",
       "    </tr>\n",
       "  </tbody>\n",
       "</table>\n",
       "</div>"
      ],
      "text/plain": [
       "     0  series2\n",
       "0!   1      0.5\n",
       "1!  11      5.5\n",
       "2!  21     10.5\n",
       "3!  31     15.5\n",
       "4!  41     20.5\n",
       "5!  51     25.5\n",
       "6!  61     30.5\n",
       "7!  71     35.5\n",
       "8!  81     40.5\n",
       "9!  91     45.5"
      ]
     },
     "execution_count": 110,
     "metadata": {},
     "output_type": "execute_result"
    }
   ],
   "source": [
    "range_of_10_db = pd.DataFrame(range_of_10, range_of_10_labels).assign(series2 = lambda x: x[0] / 2)\n",
    "range_of_10_db"
   ]
  },
  {
   "cell_type": "code",
   "execution_count": 112,
   "id": "7248f5ad-aa41-491c-8e42-a5c0644d2c2d",
   "metadata": {},
   "outputs": [
    {
     "data": {
      "image/png": "[encoded data removed]",
      "text/plain": [
       "<Figure size 640x480 with 1 Axes>"
      ]
     },
     "metadata": {},
     "output_type": "display_data"
    }
   ],
   "source": [
    "plt.plot(range_of_10_db);"
   ]
  },
  {
   "cell_type": "code",
   "execution_count": null,
   "id": "aa89a9f3-ae95-4053-bf23-e46a10baf202",
   "metadata": {},
   "outputs": [],
   "source": []
  }
 ],
 "metadata": {
  "kernelspec": {
   "display_name": "Python 3 (ipykernel)",
   "language": "python",
   "name": "python3"
  },
  "language_info": {
   "codemirror_mode": {
    "name": "ipython",
    "version": 3
   },
   "file_extension": ".py",
   "mimetype": "text/x-python",
   "name": "python",
   "nbconvert_exporter": "python",
   "pygments_lexer": "ipython3",
   "version": "3.10.8"
  }
 },
 "nbformat": 4,
 "nbformat_minor": 5
}
