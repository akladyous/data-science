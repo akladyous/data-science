{
 "cells": [
  {
   "cell_type": "markdown",
   "metadata": {},
   "source": [
    "Let's perform a hypothesis test for a known population mean. We'll use a z-test for this example. Assume you have a sample and want to test if its mean is significantly different from a known population mean. We'll use matplotlib to visualize the results."
   ]
  },
  {
   "cell_type": "code",
   "execution_count": null,
   "metadata": {},
   "outputs": [],
   "source": [
    "import numpy as np\n",
    "import matplotlib.pyplot as plt\n",
    "from statsmodels.stats.weightstats import ztest\n",
    "\n",
    "# Set seed for reproducibility\n",
    "np.random.seed(42)\n",
    "\n",
    "# Known population parameters\n",
    "population_mean = 30\n",
    "population_std_dev = 5\n",
    "\n",
    "# Generate sample data\n",
    "sample_size = 100\n",
    "sample_ages = np.random.normal(population_mean, population_std_dev, sample_size)\n",
    "\n",
    "# Set the null hypothesis (H0) - Let's say the population mean is 30\n",
    "null_hypothesis_mean = 30\n",
    "\n",
    "# Perform one-sample z-test\n",
    "z_stat, p_value = ztest(sample_ages, value=null_hypothesis_mean)\n",
    "\n",
    "# Set significance level (alpha)\n",
    "alpha = 0.05\n",
    "\n",
    "# Check if the null hypothesis can be rejected\n",
    "reject_null_hypothesis = p_value < alpha\n",
    "\n",
    "# Plot the sample distribution and the null hypothesis mean\n",
    "plt.hist(sample_ages, bins=20, density=True, alpha=0.7, color='blue', label='Sample Distribution')\n",
    "\n",
    "plt.axvline(null_hypothesis_mean, color='red', linestyle='dashed', linewidth=2, label='Population Mean (H0)')\n",
    "\n",
    "# Set labels and legend\n",
    "plt.title('Hypothesis Test for Known Population Mean')\n",
    "plt.xlabel('Age')\n",
    "plt.ylabel('Probability Density')\n",
    "plt.legend()\n",
    "\n",
    "# Show the plot\n",
    "plt.show()\n",
    "\n",
    "# Display the results\n",
    "print(f\"Z-statistic: {z_stat:.4f}\")\n",
    "print(f\"P-value: {p_value:.4f}\")\n",
    "print(f\"Null Hypothesis Rejected: {reject_null_hypothesis}\")\n"
   ]
  },
  {
   "cell_type": "code",
   "execution_count": null,
   "metadata": {},
   "outputs": [],
   "source": []
  }
 ],
 "metadata": {
  "kernelspec": {
   "display_name": ".venv",
   "language": "python",
   "name": "python3"
  },
  "language_info": {
   "codemirror_mode": {
    "name": "ipython",
    "version": 3
   },
   "file_extension": ".py",
   "mimetype": "text/x-python",
   "name": "python",
   "nbconvert_exporter": "python",
   "pygments_lexer": "ipython3",
   "version": "3.12.1"
  }
 },
 "nbformat": 4,
 "nbformat_minor": 2
}
