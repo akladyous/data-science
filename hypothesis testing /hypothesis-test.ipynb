{
 "cells": [
  {
   "cell_type": "markdown",
   "metadata": {},
   "source": [
    "Let's perform a hypothesis test for a known population mean. We'll use a z-test for this example. Assume you have a sample and want to test if its mean is significantly different from a known population mean. We'll use matplotlib to visualize the results."
   ]
  },
  {
   "cell_type": "markdown",
   "metadata": {},
   "source": [
    "#### Hypothesis Testing Steps (One-Sample)\n",
    "\n",
    "1. **State the Null and Alternative Hypothesis (H0):** \n",
    "    - This is the hypothesis that there is no significant difference or effect. It often includes an equal sign (=).\n",
    "\n",
    "2. **Set the Significance Level (α):** This is the probability of rejecting the null hypothesis when it is true. Common choices are 0.05, 0.01, or 0.10.\n",
    "   - the significance level (α) represents the probability of making a Type I error, which is the probability of rejecting a true null hypothesis.\n",
    "   - It is explicitly chosen by the researcher before conducting the test. Common choices are 0.05, 0.01, etc.\n",
    "\n",
    "3. **Collect and Analyze Data:**\n",
    "   - Collect a sample of data relevant to the hypothesis.\n",
    "   - Summarize the data using appropriate descriptive statistics (mean, standard deviation, etc.).\n",
    "   - Choose the Appropriate Test Statistic, For a one-sample test, if you know the population standard deviation, you might use a z-test. If not, a t-test is more common.\n",
    "\n",
    "\n",
    "4. **Choose the Appropriate Statistical Test**\n",
    "    - The choice of statistical test depends on the nature of the data and the hypothesis being tested. Common tests include t-tests, chi-square tests, ANOVA, regression, etc.\n",
    "    - calculating the test statistic involves determining how many standard deviations the sample mean ($\\bar{x}$) is away from the hypothesized population mean ($\\mu$) in a standard normal distribution. This is done using the formula:\n",
    "    $[ Z = \\frac{\\bar{X} - \\mu}{\\frac{\\sigma}{\\sqrt{n}}}]$\n",
    "\n",
    "5. **Determine the Critical Region**\n",
    "   - Based on the chosen significance level (α), determine the critical region (the range of values that would lead to rejecting the null hypothesis).\n",
    "   - The critical value is used to define the rejection region(s) in a hypothesis test.\n",
    "   - It represents the boundary beyond which you would reject the null hypothesis.\n",
    "   - For a two-tailed test with a significance level of α, it corresponds to the z-score that leaves α/2 in the upper tail and α/2 in the lower tail of the standard normal distribution.\n",
    "\n",
    "6. **Draw a Conclusion:**\n",
    "    - Compare the calculated test statistic with the critical value(s) or use p-values to make a decision.\n",
    "    - If the test statistic falls into the critical region, reject the null hypothesis in favor of the alternative hypothesis. If not, fail to reject the null hypothesis.\n",
    "    - Based on the decision in step 8, conclude whether there is enough evidence to reject the null hypothesis or not.\n",
    "\n",
    "**Note:** The steps may vary slightly based on the specific hypothesis test being used (z-test, t-test, etc.) and the characteristics of the data.\n"
   ]
  },
  {
   "cell_type": "code",
   "execution_count": 2,
   "metadata": {},
   "outputs": [],
   "source": [
    "import numpy as np\n",
    "import seaborn as sns\n",
    "import matplotlib.pyplot as plt\n",
    "from scipy import stats\n",
    "from statsmodels.stats.weightstats import ztest"
   ]
  },
  {
   "cell_type": "code",
   "execution_count": 1,
   "metadata": {},
   "outputs": [
    {
     "ename": "NameError",
     "evalue": "name 'np' is not defined",
     "output_type": "error",
     "traceback": [
      "\u001b[0;31m---------------------------------------------------------------------------\u001b[0m",
      "\u001b[0;31mNameError\u001b[0m                                 Traceback (most recent call last)",
      "Cell \u001b[0;32mIn[1], line 1\u001b[0m\n\u001b[0;32m----> 1\u001b[0m \u001b[43mnp\u001b[49m\u001b[38;5;241m.\u001b[39mrandom\u001b[38;5;241m.\u001b[39mseed(\u001b[38;5;241m42\u001b[39m)\n\u001b[1;32m      3\u001b[0m \u001b[38;5;66;03m# Population parameters for female height\u001b[39;00m\n\u001b[1;32m      4\u001b[0m population_mean \u001b[38;5;241m=\u001b[39m \u001b[38;5;241m64\u001b[39m\n",
      "\u001b[0;31mNameError\u001b[0m: name 'np' is not defined"
     ]
    }
   ],
   "source": [
    "np.random.seed(42)\n",
    "\n",
    "# Population parameters for female height\n",
    "population_mean = 64\n",
    "population_std = 3\n",
    "\n",
    "# Step 1: Define null and alternative hypotheses\n",
    "null_hypothesis_mean = 64\n",
    "\n",
    "# Step 2: Choose significance level\n",
    "alpha = 0.05  # significance level = (1 - confidence_interval 0.95)\n",
    "\n",
    "# Step 3: Collect a sample of data\n",
    "sample_size = 500\n",
    "sample = stats.norm.rvs(loc=population_mean, scale=population_std, size=sample_size)\n",
    "sample_mean = np.mean(sample)\n",
    "sample_std = np.std(sample, ddof=1)     # Use ddof=1 for sample standard deviation\n",
    "\n",
    "# Step 4: Compute test statistic - determining how many STD the sample mean is away from the hypothesized population mean\n",
    "z_statistics = (sample_mean - population_mean) / (population_std / np.sqrt(sample_size))\n",
    "\n",
    "# Step 5: Determine the Critical Region\n",
    "critical_value = stats.norm.ppf(1 - alpha / 2)  # Use ppf for inverse CDF\n",
    "p_value = 2 * (1 - stats.norm.cdf(np.abs(z_statistics)))  # Multiply by 2 for a two-tailed test\n",
    "\n",
    "# Step 6: Make a Decision\n",
    "if p_value < alpha:\n",
    "    decision = \"Reject the null hypothesis\"\n",
    "else:\n",
    "    decision = \"Fail to reject the null hypothesis\"\n",
    "\n",
    "x_values   = np.linspace(sample_mean - 3 * sample_std, sample_mean + 3 * sample_std, 1000)\n",
    "pdf_values = stats.norm.pdf(x_values, loc=sample_mean, scale=sample_std)\n",
    "cdf_values = stats.norm.cdf(x_values, loc=sample_mean, scale=sample_std)\n",
    "\n",
    "\n",
    "# Find the cumulative probabilities corresponding to the z-scores\n",
    "cdf_lower_bound = cdf_values <= alpha / 2\n",
    "cdf_upper_bound = cdf_values >= 1 - alpha / 2\n",
    "\n",
    "# Plot the sample distribution\n",
    "plt.figure(figsize=(10, 6))\n",
    "plt.hist(sample, bins=25, density=True, color='skyblue', alpha=0.7, label=\"Female Heights Distribution\")\n",
    "plt.title('Sample Distribution of Female Heights')\n",
    "plt.xlabel('Height (inches)')\n",
    "plt.ylabel('Density')\n",
    "\n",
    "# Plot PDF using np.linspace and stats.norm.pdf\n",
    "plt.plot(x_values, pdf_values, color='orange', label='PDF')\n",
    "\n",
    "# draw the two tails\n",
    "plt.fill_between(x_values, pdf_values, where=cdf_lower_bound, color='green', alpha=0.4, label=\"lower bound (0.05)\")\n",
    "plt.fill_between(x_values, pdf_values, where=cdf_upper_bound, color='green', alpha=0.4, label=\"Shaded Area (0.95)\")\n",
    "\n",
    "# Highlight the sample mean\n",
    "plt.axvline(sample_mean, color='green', linestyle='dashed', linewidth=2, label='Sample Mean')\n",
    "\n",
    "plt.legend()\n",
    "plt.show()\n",
    "\n",
    "print(f\"Critical value: {critical_value:.4f}\")\n",
    "print(f\"Test Statistic (z): {z_statistics:.4f}\")\n",
    "print(f\"P-value: {p_value:.4f}\")\n",
    "print(f\"Decision: {decision}\")\n"
   ]
  },
  {
   "cell_type": "code",
   "execution_count": 21,
   "metadata": {},
   "outputs": [
    {
     "name": "stdout",
     "output_type": "stream",
     "text": [
      "Critical Value (Left): -1.9600\n",
      "Critical Value (Right): 1.9600\n",
      "Absolute Value of z_statistics: 0.1529\n",
      "Fail to reject the null hypothesis.\n"
     ]
    }
   ],
   "source": [
    "# Step 5: Determine the Critical Region\n",
    "critical_value_left  = stats.norm.ppf(alpha / 2)\n",
    "critical_value_right = stats.norm.ppf(1 - alpha / 2)\n",
    "\n",
    "# Step 6: Make a Decision\n",
    "absolute_z_statistics = np.abs(z_statistics)\n",
    "\n",
    "reject_null_hypothesis = absolute_z_statistics > critical_value_right or absolute_z_statistics < critical_value_left\n",
    "\n",
    "print(f\"Critical Value (Left): {critical_value_left:.4f}\")\n",
    "print(f\"Critical Value (Right): {critical_value_right:.4f}\")\n",
    "print(f\"Absolute Value of z_statistics: {absolute_z_statistics:.4f}\")\n",
    "\n",
    "if reject_null_hypothesis:\n",
    "    print(\"Reject the null hypothesis.\")\n",
    "else:\n",
    "    print(\"Fail to reject the null hypothesis.\")"
   ]
  },
  {
   "cell_type": "markdown",
   "metadata": {},
   "source": [
    "#### Hypothesis Test using statsmodels"
   ]
  },
  {
   "cell_type": "code",
   "execution_count": 23,
   "metadata": {},
   "outputs": [
    {
     "data": {
      "image/png": "[encoded data removed]",
      "text/plain": [
       "<Figure size 640x480 with 1 Axes>"
      ]
     },
     "metadata": {},
     "output_type": "display_data"
    },
    {
     "name": "stdout",
     "output_type": "stream",
     "text": [
      "Z-statistic: 0.1558\n",
      "P-value: 0.8762\n",
      "Null Hypothesis Rejected: False\n"
     ]
    }
   ],
   "source": [
    "# Set seed for reproducibility\n",
    "np.random.seed(42)\n",
    "\n",
    "# Known population parameters\n",
    "population_mean = 64\n",
    "population_std  = 2.5\n",
    "\n",
    "# Generate sample data\n",
    "sample_size = 500\n",
    "sample_ages = np.random.normal(population_mean, population_std, sample_size)\n",
    "\n",
    "# Set the null hypothesis (H0) - Let's say the population mean is 30\n",
    "null_hypothesis_mean = 64\n",
    "\n",
    "# Perform one-sample z-test\n",
    "z_stat, p_value = ztest(sample_ages, value=null_hypothesis_mean)\n",
    "\n",
    "# Set significance level (alpha)\n",
    "alpha = 0.05\n",
    "\n",
    "# Check if the null hypothesis can be rejected\n",
    "reject_null_hypothesis = p_value < alpha\n",
    "\n",
    "# Plot the sample distribution and the null hypothesis mean\n",
    "plt.hist(sample_ages, bins=20, density=True, alpha=0.7, color='blue', label='Sample Distribution')\n",
    "\n",
    "plt.axvline(null_hypothesis_mean, color='red', linestyle='dashed', linewidth=2, label='Population Mean (H0)')\n",
    "\n",
    "# Set labels and legend\n",
    "plt.title('Hypothesis Test for Known Population Mean')\n",
    "plt.xlabel('Age')\n",
    "plt.ylabel('Probability Density')\n",
    "plt.legend()\n",
    "\n",
    "# Show the plot\n",
    "plt.show()\n",
    "\n",
    "# Display the results\n",
    "print(f\"Z-statistic: {z_stat:.4f}\")\n",
    "print(f\"P-value: {p_value:.4f}\")\n",
    "print(f\"Null Hypothesis Rejected: {reject_null_hypothesis}\")\n"
   ]
  }
 ],
 "metadata": {
  "kernelspec": {
   "display_name": ".venv",
   "language": "python",
   "name": "python3"
  },
  "language_info": {
   "codemirror_mode": {
    "name": "ipython",
    "version": 3
   },
   "file_extension": ".py",
   "mimetype": "text/x-python",
   "name": "python",
   "nbconvert_exporter": "python",
   "pygments_lexer": "ipython3",
   "version": "3.12.1"
  }
 },
 "nbformat": 4,
 "nbformat_minor": 2
}
