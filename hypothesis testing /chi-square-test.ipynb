{
 "cells": [
  {
   "cell_type": "markdown",
   "metadata": {},
   "source": [
    "### Chi-square test\n",
    "\n",
    "The chi-square test is a statistical test used to determine whether there is a significant association between two categorical variables. It is a non-parametric test that compares the observed frequencies in a contingency table with the frequencies that would be expected if the variables were independent.\n",
    "\n",
    "The chi-squared test statistic, denoted as $(X^2)$, is calculated using the following formula:\n",
    "\n",
    "$[ X^2 = \\sum \\frac{(O_i - E_i)^2}{E_i} ]$\n",
    "\n",
    "Where:\n",
    "- Observed Frequencies $(O_i)$.\n",
    "  - These are the actual counts or occurrences observed in the data. In the chi-squared test, you compare these observed counts to what you would expect based on a theoretical distribution.\n",
    "\n",
    "- Expected Frequencies $(E_i)$.\n",
    "  - For a continuous distribution, the expected frequencies are often calculated based on a theoretical distribution. In this example, since we're dealing with the sum of squares of standard normal \n",
    "  variables, we expect the resulting distribution to follow a chi-squared distribution.\n",
    "- Calculation of the Statistic:\n",
    "  - For each category or bin, you take the square of the difference between the observed and expected counts.\n",
    "  - You then divide this squared difference by the expected count for that category.\n",
    "  - This process is done for each category, and the results are summed up.\n",
    "  \n",
    "This formula is often used in the context of contingency tables where we compare observed frequencies ($O_i$) with expected frequencies ($E_i$) under a specific hypothesis. The test assesses whether there is a significant difference between the observed and expected frequencies, considering the variability."
   ]
  }
 ],
 "metadata": {
  "language_info": {
   "name": "python"
  }
 },
 "nbformat": 4,
 "nbformat_minor": 2
}
