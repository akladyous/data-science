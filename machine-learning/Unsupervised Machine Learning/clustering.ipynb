{
 "cells": [
  {
   "cell_type": "code",
   "execution_count": 122,
   "id": "initial-replication",
   "metadata": {
    "execution": {
     "iopub.execute_input": "2021-04-26T03:04:13.522053Z",
     "iopub.status.busy": "2021-04-26T03:04:13.521546Z",
     "iopub.status.idle": "2021-04-26T03:04:13.529802Z",
     "shell.execute_reply": "2021-04-26T03:04:13.528647Z",
     "shell.execute_reply.started": "2021-04-26T03:04:13.521986Z"
    },
    "tags": []
   },
   "outputs": [],
   "source": [
    "import numpy as np\n",
    "import pandas as pd\n",
    "import seaborn as sns\n",
    "import matplotlib.pyplot as plt\n",
    "\n",
    "from sklearn.preprocessing import StandardScaler\n",
    "from sklearn.metrics import calinski_harabasz_score, adjusted_rand_score\n",
    "from sklearn.cluster import KMeans, AgglomerativeClustering"
   ]
  },
  {
   "cell_type": "code",
   "execution_count": 123,
   "id": "fancy-fundamentals",
   "metadata": {
    "execution": {
     "iopub.execute_input": "2021-04-26T03:04:13.701044Z",
     "iopub.status.busy": "2021-04-26T03:04:13.700352Z",
     "iopub.status.idle": "2021-04-26T03:04:13.726029Z",
     "shell.execute_reply": "2021-04-26T03:04:13.725323Z",
     "shell.execute_reply.started": "2021-04-26T03:04:13.700979Z"
    },
    "tags": []
   },
   "outputs": [
    {
     "data": {
      "text/html": [
       "<div>\n",
       "<style scoped>\n",
       "    .dataframe tbody tr th:only-of-type {\n",
       "        vertical-align: middle;\n",
       "    }\n",
       "\n",
       "    .dataframe tbody tr th {\n",
       "        vertical-align: top;\n",
       "    }\n",
       "\n",
       "    .dataframe thead th {\n",
       "        text-align: right;\n",
       "    }\n",
       "</style>\n",
       "<table border=\"1\" class=\"dataframe\">\n",
       "  <thead>\n",
       "    <tr style=\"text-align: right;\">\n",
       "      <th></th>\n",
       "      <th>Channel</th>\n",
       "      <th>Region</th>\n",
       "      <th>Fresh</th>\n",
       "      <th>Milk</th>\n",
       "      <th>Grocery</th>\n",
       "      <th>Frozen</th>\n",
       "      <th>Detergents_Paper</th>\n",
       "      <th>Delicassen</th>\n",
       "    </tr>\n",
       "  </thead>\n",
       "  <tbody>\n",
       "    <tr>\n",
       "      <th>0</th>\n",
       "      <td>2</td>\n",
       "      <td>3</td>\n",
       "      <td>12669</td>\n",
       "      <td>9656</td>\n",
       "      <td>7561</td>\n",
       "      <td>214</td>\n",
       "      <td>2674</td>\n",
       "      <td>1338</td>\n",
       "    </tr>\n",
       "    <tr>\n",
       "      <th>1</th>\n",
       "      <td>2</td>\n",
       "      <td>3</td>\n",
       "      <td>7057</td>\n",
       "      <td>9810</td>\n",
       "      <td>9568</td>\n",
       "      <td>1762</td>\n",
       "      <td>3293</td>\n",
       "      <td>1776</td>\n",
       "    </tr>\n",
       "    <tr>\n",
       "      <th>2</th>\n",
       "      <td>2</td>\n",
       "      <td>3</td>\n",
       "      <td>6353</td>\n",
       "      <td>8808</td>\n",
       "      <td>7684</td>\n",
       "      <td>2405</td>\n",
       "      <td>3516</td>\n",
       "      <td>7844</td>\n",
       "    </tr>\n",
       "    <tr>\n",
       "      <th>3</th>\n",
       "      <td>1</td>\n",
       "      <td>3</td>\n",
       "      <td>13265</td>\n",
       "      <td>1196</td>\n",
       "      <td>4221</td>\n",
       "      <td>6404</td>\n",
       "      <td>507</td>\n",
       "      <td>1788</td>\n",
       "    </tr>\n",
       "    <tr>\n",
       "      <th>4</th>\n",
       "      <td>2</td>\n",
       "      <td>3</td>\n",
       "      <td>22615</td>\n",
       "      <td>5410</td>\n",
       "      <td>7198</td>\n",
       "      <td>3915</td>\n",
       "      <td>1777</td>\n",
       "      <td>5185</td>\n",
       "    </tr>\n",
       "    <tr>\n",
       "      <th>...</th>\n",
       "      <td>...</td>\n",
       "      <td>...</td>\n",
       "      <td>...</td>\n",
       "      <td>...</td>\n",
       "      <td>...</td>\n",
       "      <td>...</td>\n",
       "      <td>...</td>\n",
       "      <td>...</td>\n",
       "    </tr>\n",
       "    <tr>\n",
       "      <th>435</th>\n",
       "      <td>1</td>\n",
       "      <td>3</td>\n",
       "      <td>29703</td>\n",
       "      <td>12051</td>\n",
       "      <td>16027</td>\n",
       "      <td>13135</td>\n",
       "      <td>182</td>\n",
       "      <td>2204</td>\n",
       "    </tr>\n",
       "    <tr>\n",
       "      <th>436</th>\n",
       "      <td>1</td>\n",
       "      <td>3</td>\n",
       "      <td>39228</td>\n",
       "      <td>1431</td>\n",
       "      <td>764</td>\n",
       "      <td>4510</td>\n",
       "      <td>93</td>\n",
       "      <td>2346</td>\n",
       "    </tr>\n",
       "    <tr>\n",
       "      <th>437</th>\n",
       "      <td>2</td>\n",
       "      <td>3</td>\n",
       "      <td>14531</td>\n",
       "      <td>15488</td>\n",
       "      <td>30243</td>\n",
       "      <td>437</td>\n",
       "      <td>14841</td>\n",
       "      <td>1867</td>\n",
       "    </tr>\n",
       "    <tr>\n",
       "      <th>438</th>\n",
       "      <td>1</td>\n",
       "      <td>3</td>\n",
       "      <td>10290</td>\n",
       "      <td>1981</td>\n",
       "      <td>2232</td>\n",
       "      <td>1038</td>\n",
       "      <td>168</td>\n",
       "      <td>2125</td>\n",
       "    </tr>\n",
       "    <tr>\n",
       "      <th>439</th>\n",
       "      <td>1</td>\n",
       "      <td>3</td>\n",
       "      <td>2787</td>\n",
       "      <td>1698</td>\n",
       "      <td>2510</td>\n",
       "      <td>65</td>\n",
       "      <td>477</td>\n",
       "      <td>52</td>\n",
       "    </tr>\n",
       "  </tbody>\n",
       "</table>\n",
       "<p>440 rows × 8 columns</p>\n",
       "</div>"
      ],
      "text/plain": [
       "     Channel  Region  Fresh   Milk  Grocery  Frozen  Detergents_Paper  \\\n",
       "0          2       3  12669   9656     7561     214              2674   \n",
       "1          2       3   7057   9810     9568    1762              3293   \n",
       "2          2       3   6353   8808     7684    2405              3516   \n",
       "3          1       3  13265   1196     4221    6404               507   \n",
       "4          2       3  22615   5410     7198    3915              1777   \n",
       "..       ...     ...    ...    ...      ...     ...               ...   \n",
       "435        1       3  29703  12051    16027   13135               182   \n",
       "436        1       3  39228   1431      764    4510                93   \n",
       "437        2       3  14531  15488    30243     437             14841   \n",
       "438        1       3  10290   1981     2232    1038               168   \n",
       "439        1       3   2787   1698     2510      65               477   \n",
       "\n",
       "     Delicassen  \n",
       "0          1338  \n",
       "1          1776  \n",
       "2          7844  \n",
       "3          1788  \n",
       "4          5185  \n",
       "..          ...  \n",
       "435        2204  \n",
       "436        2346  \n",
       "437        1867  \n",
       "438        2125  \n",
       "439          52  \n",
       "\n",
       "[440 rows x 8 columns]"
      ]
     },
     "execution_count": 123,
     "metadata": {},
     "output_type": "execute_result"
    }
   ],
   "source": [
    "df = pd.read_csv('../data/wholesale_customers_data.csv', index_col=[0])\n",
    "df"
   ]
  },
  {
   "cell_type": "code",
   "execution_count": 88,
   "id": "designing-restriction",
   "metadata": {
    "execution": {
     "iopub.execute_input": "2021-04-26T02:20:23.560044Z",
     "iopub.status.busy": "2021-04-26T02:20:23.559665Z",
     "iopub.status.idle": "2021-04-26T02:20:23.568550Z",
     "shell.execute_reply": "2021-04-26T02:20:23.567307Z",
     "shell.execute_reply.started": "2021-04-26T02:20:23.560009Z"
    }
   },
   "outputs": [
    {
     "data": {
      "text/plain": [
       "1    298\n",
       "2    142\n",
       "Name: Channel, dtype: int64"
      ]
     },
     "execution_count": 88,
     "metadata": {},
     "output_type": "execute_result"
    }
   ],
   "source": [
    "channel = df.Channel.copy()\n",
    "channel.value_counts()"
   ]
  },
  {
   "cell_type": "code",
   "execution_count": 89,
   "id": "technological-lingerie",
   "metadata": {
    "execution": {
     "iopub.execute_input": "2021-04-26T02:20:23.722062Z",
     "iopub.status.busy": "2021-04-26T02:20:23.721682Z",
     "iopub.status.idle": "2021-04-26T02:20:23.736620Z",
     "shell.execute_reply": "2021-04-26T02:20:23.735734Z",
     "shell.execute_reply.started": "2021-04-26T02:20:23.722027Z"
    }
   },
   "outputs": [
    {
     "data": {
      "text/html": [
       "<div>\n",
       "<style scoped>\n",
       "    .dataframe tbody tr th:only-of-type {\n",
       "        vertical-align: middle;\n",
       "    }\n",
       "\n",
       "    .dataframe tbody tr th {\n",
       "        vertical-align: top;\n",
       "    }\n",
       "\n",
       "    .dataframe thead th {\n",
       "        text-align: right;\n",
       "    }\n",
       "</style>\n",
       "<table border=\"1\" class=\"dataframe\">\n",
       "  <thead>\n",
       "    <tr style=\"text-align: right;\">\n",
       "      <th></th>\n",
       "      <th>Fresh</th>\n",
       "      <th>Milk</th>\n",
       "      <th>Grocery</th>\n",
       "      <th>Frozen</th>\n",
       "      <th>Detergents_Paper</th>\n",
       "      <th>Delicassen</th>\n",
       "    </tr>\n",
       "  </thead>\n",
       "  <tbody>\n",
       "    <tr>\n",
       "      <th>0</th>\n",
       "      <td>12669</td>\n",
       "      <td>9656</td>\n",
       "      <td>7561</td>\n",
       "      <td>214</td>\n",
       "      <td>2674</td>\n",
       "      <td>1338</td>\n",
       "    </tr>\n",
       "    <tr>\n",
       "      <th>1</th>\n",
       "      <td>7057</td>\n",
       "      <td>9810</td>\n",
       "      <td>9568</td>\n",
       "      <td>1762</td>\n",
       "      <td>3293</td>\n",
       "      <td>1776</td>\n",
       "    </tr>\n",
       "    <tr>\n",
       "      <th>2</th>\n",
       "      <td>6353</td>\n",
       "      <td>8808</td>\n",
       "      <td>7684</td>\n",
       "      <td>2405</td>\n",
       "      <td>3516</td>\n",
       "      <td>7844</td>\n",
       "    </tr>\n",
       "    <tr>\n",
       "      <th>3</th>\n",
       "      <td>13265</td>\n",
       "      <td>1196</td>\n",
       "      <td>4221</td>\n",
       "      <td>6404</td>\n",
       "      <td>507</td>\n",
       "      <td>1788</td>\n",
       "    </tr>\n",
       "    <tr>\n",
       "      <th>4</th>\n",
       "      <td>22615</td>\n",
       "      <td>5410</td>\n",
       "      <td>7198</td>\n",
       "      <td>3915</td>\n",
       "      <td>1777</td>\n",
       "      <td>5185</td>\n",
       "    </tr>\n",
       "  </tbody>\n",
       "</table>\n",
       "</div>"
      ],
      "text/plain": [
       "   Fresh  Milk  Grocery  Frozen  Detergents_Paper  Delicassen\n",
       "0  12669  9656     7561     214              2674        1338\n",
       "1   7057  9810     9568    1762              3293        1776\n",
       "2   6353  8808     7684    2405              3516        7844\n",
       "3  13265  1196     4221    6404               507        1788\n",
       "4  22615  5410     7198    3915              1777        5185"
      ]
     },
     "execution_count": 89,
     "metadata": {},
     "output_type": "execute_result"
    }
   ],
   "source": [
    "df.drop(labels=['Channel', 'Region'], inplace=True, axis=1)\n",
    "df.head()"
   ]
  },
  {
   "cell_type": "code",
   "execution_count": null,
   "id": "armed-chorus",
   "metadata": {},
   "outputs": [],
   "source": []
  },
  {
   "cell_type": "code",
   "execution_count": 148,
   "id": "convenient-evans",
   "metadata": {
    "execution": {
     "iopub.execute_input": "2021-04-26T03:06:35.834709Z",
     "iopub.status.busy": "2021-04-26T03:06:35.834328Z",
     "iopub.status.idle": "2021-04-26T03:06:35.846046Z",
     "shell.execute_reply": "2021-04-26T03:06:35.845094Z",
     "shell.execute_reply.started": "2021-04-26T03:06:35.834675Z"
    }
   },
   "outputs": [],
   "source": [
    "scaler = StandardScaler()\n",
    "x = scaler.fit_transform(df)"
   ]
  },
  {
   "cell_type": "code",
   "execution_count": 149,
   "id": "improved-insider",
   "metadata": {
    "execution": {
     "iopub.execute_input": "2021-04-26T03:06:36.307715Z",
     "iopub.status.busy": "2021-04-26T03:06:36.307294Z",
     "iopub.status.idle": "2021-04-26T03:06:36.312101Z",
     "shell.execute_reply": "2021-04-26T03:06:36.310936Z",
     "shell.execute_reply.started": "2021-04-26T03:06:36.307677Z"
    }
   },
   "outputs": [],
   "source": [
    "km_params = {\n",
    "    'init': 'random', #'k-means++'\n",
    "    'n_init': 10,\n",
    "    'max_iter': 300,\n",
    "    'random_state': 0\n",
    "}"
   ]
  },
  {
   "cell_type": "code",
   "execution_count": 150,
   "id": "identified-algorithm",
   "metadata": {
    "execution": {
     "iopub.execute_input": "2021-04-26T03:06:38.198785Z",
     "iopub.status.busy": "2021-04-26T03:06:38.198370Z",
     "iopub.status.idle": "2021-04-26T03:06:38.235451Z",
     "shell.execute_reply": "2021-04-26T03:06:38.234783Z",
     "shell.execute_reply.started": "2021-04-26T03:06:38.198745Z"
    }
   },
   "outputs": [],
   "source": [
    "km   = KMeans(n_clusters=2, **km_params)\n",
    "yhat = km.fit_predict(x)"
   ]
  },
  {
   "cell_type": "code",
   "execution_count": 151,
   "id": "sapphire-platinum",
   "metadata": {
    "execution": {
     "iopub.execute_input": "2021-04-26T03:06:38.659349Z",
     "iopub.status.busy": "2021-04-26T03:06:38.658680Z",
     "iopub.status.idle": "2021-04-26T03:06:38.667831Z",
     "shell.execute_reply": "2021-04-26T03:06:38.666902Z",
     "shell.execute_reply.started": "2021-04-26T03:06:38.659280Z"
    }
   },
   "outputs": [
    {
     "name": "stdout",
     "output_type": "stream",
     "text": [
      "The number of iterations required to converge 6\n",
      "The lowest SSE value                          2599.3855593561393\n",
      "Custers Labels                                [0 1]\n",
      "Y KMeans Predicted                            (array([0, 1], dtype=int32), array([136, 304]))\n"
     ]
    }
   ],
   "source": [
    "print(f\"{'The number of iterations required to converge':45} {km.n_iter_}\")\n",
    "print(f\"{'The lowest SSE value':45} {km.inertia_}\")\n",
    "print(f\"{'Custers Labels':45} {np.unique(km.labels_)}\")\n",
    "print(f\"{'Y KMeans Predicted':45} {np.unique(yhat, return_counts=True)}\")"
   ]
  },
  {
   "cell_type": "code",
   "execution_count": 152,
   "id": "unique-investing",
   "metadata": {
    "execution": {
     "iopub.execute_input": "2021-04-26T03:06:39.040530Z",
     "iopub.status.busy": "2021-04-26T03:06:39.039939Z",
     "iopub.status.idle": "2021-04-26T03:06:39.052357Z",
     "shell.execute_reply": "2021-04-26T03:06:39.051557Z",
     "shell.execute_reply.started": "2021-04-26T03:06:39.040463Z"
    },
    "tags": []
   },
   "outputs": [
    {
     "name": "stdout",
     "output_type": "stream",
     "text": [
      "Variance Ration:          155.12478460559345\n",
      "WCSS :10                  2599.3855593561393\n",
      "Rand Index (-1.0 : 1.0)   0.9271358063704594\n"
     ]
    }
   ],
   "source": [
    "print(f\"{'Variance Ration:':25} {calinski_harabasz_score(x, km.labels_)}\")\n",
    "print(f\"{'WCSS :10':25} {km.inertia_}\")\n",
    "print(f\"{'Rand Index (-1.0 : 1.0)':25} {adjusted_rand_score(channel, km.labels_)}\")"
   ]
  },
  {
   "cell_type": "code",
   "execution_count": 157,
   "id": "competent-dividend",
   "metadata": {
    "execution": {
     "iopub.execute_input": "2021-04-26T03:08:02.151382Z",
     "iopub.status.busy": "2021-04-26T03:08:02.150998Z",
     "iopub.status.idle": "2021-04-26T03:08:02.156937Z",
     "shell.execute_reply": "2021-04-26T03:08:02.154551Z",
     "shell.execute_reply.started": "2021-04-26T03:08:02.151347Z"
    }
   },
   "outputs": [],
   "source": [
    "clusters = np.unique(yhat)"
   ]
  },
  {
   "cell_type": "code",
   "execution_count": 158,
   "id": "running-stone",
   "metadata": {
    "execution": {
     "iopub.execute_input": "2021-04-26T03:08:02.329886Z",
     "iopub.status.busy": "2021-04-26T03:08:02.329265Z",
     "iopub.status.idle": "2021-04-26T03:08:02.338926Z",
     "shell.execute_reply": "2021-04-26T03:08:02.337866Z",
     "shell.execute_reply.started": "2021-04-26T03:08:02.329818Z"
    }
   },
   "outputs": [
    {
     "data": {
      "text/plain": [
       "(array([  0,   1,   2,   4,   5,   6,   7,   9,  10,  12,  13,  14,  16,\n",
       "         18,  20,  23,  24,  25,  28,  35,  37,  38,  42,  43,  44,  45,\n",
       "         46,  47,  48,  49,  53,  56,  57,  60,  61,  62,  63,  65,  67,\n",
       "         74,  77,  81,  82,  84,  85,  86,  92,  94,  96, 100, 101, 102,\n",
       "        106, 107, 108, 109, 111, 123, 127, 145, 155, 156, 158, 159, 160,\n",
       "        163, 164, 165, 166, 170, 171, 173, 175, 183, 188, 189, 193, 197,\n",
       "        200, 201, 205, 207, 209, 211, 214, 216, 218, 226, 245, 251, 264,\n",
       "        266, 268, 279, 281, 293, 295, 297, 298, 300, 301, 302, 303, 304,\n",
       "        305, 306, 309, 312, 315, 319, 331, 333, 335, 340, 341, 343, 346,\n",
       "        347, 349, 351, 353, 357, 365, 373, 376, 379, 396, 407, 408, 415,\n",
       "        416, 418, 421, 423, 424, 437]),)"
      ]
     },
     "execution_count": 158,
     "metadata": {},
     "output_type": "execute_result"
    }
   ],
   "source": [
    "np.where(yhat == 0)"
   ]
  },
  {
   "cell_type": "code",
   "execution_count": 159,
   "id": "consistent-sheet",
   "metadata": {
    "execution": {
     "iopub.execute_input": "2021-04-26T03:08:02.769439Z",
     "iopub.status.busy": "2021-04-26T03:08:02.769073Z",
     "iopub.status.idle": "2021-04-26T03:08:02.878999Z",
     "shell.execute_reply": "2021-04-26T03:08:02.878642Z",
     "shell.execute_reply.started": "2021-04-26T03:08:02.769405Z"
    }
   },
   "outputs": [
    {
     "data": {
      "image/png": "[encoded data removed]",
      "text/plain": [
       "<Figure size 432x288 with 1 Axes>"
      ]
     },
     "metadata": {},
     "output_type": "display_data"
    }
   ],
   "source": [
    "for cluster in clusters:\n",
    "\t# get row indexes for samples with this cluster\n",
    "\trow_ix = np.where(yhat == cluster)\n",
    "\t# create scatter of these samples\n",
    "\tplt.scatter(x[row_ix, 0], x[row_ix, 1])"
   ]
  },
  {
   "cell_type": "code",
   "execution_count": null,
   "id": "soviet-destiny",
   "metadata": {},
   "outputs": [],
   "source": []
  },
  {
   "cell_type": "code",
   "execution_count": null,
   "id": "numerical-aruba",
   "metadata": {},
   "outputs": [],
   "source": []
  },
  {
   "cell_type": "code",
   "execution_count": null,
   "id": "existing-malta",
   "metadata": {},
   "outputs": [],
   "source": []
  },
  {
   "cell_type": "code",
   "execution_count": 160,
   "id": "naked-mobility",
   "metadata": {
    "execution": {
     "iopub.execute_input": "2021-04-26T03:09:01.987233Z",
     "iopub.status.busy": "2021-04-26T03:09:01.986755Z",
     "iopub.status.idle": "2021-04-26T03:09:01.994983Z",
     "shell.execute_reply": "2021-04-26T03:09:01.993089Z",
     "shell.execute_reply.started": "2021-04-26T03:09:01.987194Z"
    }
   },
   "outputs": [
    {
     "data": {
      "text/plain": [
       "array([ 1.43292407,  0.11529873, -0.27641856,  0.75169392,  0.94422034,\n",
       "       -0.27827435,  0.97905944,  0.20336194])"
      ]
     },
     "execution_count": 160,
     "metadata": {},
     "output_type": "execute_result"
    }
   ],
   "source": [
    "km.cluster_centers_[0]"
   ]
  },
  {
   "cell_type": "code",
   "execution_count": 161,
   "id": "ready-trick",
   "metadata": {
    "execution": {
     "iopub.execute_input": "2021-04-26T03:09:02.999029Z",
     "iopub.status.busy": "2021-04-26T03:09:02.998606Z",
     "iopub.status.idle": "2021-04-26T03:09:03.007460Z",
     "shell.execute_reply": "2021-04-26T03:09:03.005924Z",
     "shell.execute_reply.started": "2021-04-26T03:09:02.998993Z"
    }
   },
   "outputs": [],
   "source": [
    "def km_sse(X, N_cluster):\n",
    "    sse = list()\n",
    "    for K in range(1, N_cluster+1):\n",
    "        kmeans = KMeans(n_clusters=K, **km_params)\n",
    "        kmeans.fit(X)\n",
    "        sse.append(kmeans.inertia_)\n",
    "    \n",
    "    plt.style.use(\"fivethirtyeight\")\n",
    "    plt.plot(range(1,N_cluster+1), sse, marker='o')\n",
    "    plt.xlabel('Number of clusters')\n",
    "    plt.ylabel('sum of the squared error')"
   ]
  },
  {
   "cell_type": "code",
   "execution_count": 162,
   "id": "operating-pilot",
   "metadata": {
    "execution": {
     "iopub.execute_input": "2021-04-26T03:09:13.046339Z",
     "iopub.status.busy": "2021-04-26T03:09:13.045687Z",
     "iopub.status.idle": "2021-04-26T03:09:13.341345Z",
     "shell.execute_reply": "2021-04-26T03:09:13.341024Z",
     "shell.execute_reply.started": "2021-04-26T03:09:13.046272Z"
    }
   },
   "outputs": [
    {
     "data": {
      "image/png": "[encoded data removed]",
      "text/plain": [
       "<Figure size 432x288 with 1 Axes>"
      ]
     },
     "metadata": {},
     "output_type": "display_data"
    }
   ],
   "source": [
    "km_sse(x,10)"
   ]
  },
  {
   "cell_type": "code",
   "execution_count": 163,
   "id": "assigned-player",
   "metadata": {
    "execution": {
     "iopub.execute_input": "2021-04-26T03:09:19.252260Z",
     "iopub.status.busy": "2021-04-26T03:09:19.251595Z",
     "iopub.status.idle": "2021-04-26T03:09:19.593641Z",
     "shell.execute_reply": "2021-04-26T03:09:19.593279Z",
     "shell.execute_reply.started": "2021-04-26T03:09:19.252191Z"
    },
    "tags": []
   },
   "outputs": [
    {
     "data": {
      "image/png": "[encoded data removed]",
      "text/plain": [
       "<Figure size 720x360 with 3 Axes>"
      ]
     },
     "metadata": {},
     "output_type": "display_data"
    }
   ],
   "source": [
    "k_vals = range(2,10)\n",
    "\n",
    "variance_ration = list()\n",
    "wcss_score = list()\n",
    "rand_score = list()\n",
    "\n",
    "for k in k_vals:\n",
    "    km = KMeans(n_clusters=k, **km_params)\n",
    "    km.fit(x)\n",
    "    \n",
    "    variance_ration.append(calinski_harabasz_score(x, km.labels_))\n",
    "    wcss_score.append(km.inertia_)\n",
    "    rand_score.append(adjusted_rand_score(channel, km.labels_))\n",
    "\n",
    "plt.style.use(\"fivethirtyeight\")\n",
    "fig, (ax1, ax2, ax3) = plt.subplots(figsize=(10,5), nrows=3, sharex=True)\n",
    "ax1.plot(k_vals, variance_ration, 'o-', c='r')\n",
    "ax2.plot(k_vals, wcss_score, 'o-', c='b')\n",
    "ax3.plot(k_vals, rand_score, 'o-', c='g')\n",
    "ax1.set(title='Variance Ratio')\n",
    "ax2.set(title='WCSS Score')\n",
    "ax3.set(title='Rand Score', xlabel='k-Clusters')\n",
    "plt.show()"
   ]
  },
  {
   "cell_type": "markdown",
   "id": "attached-demonstration",
   "metadata": {},
   "source": [
    "## Agglomerative Clustering"
   ]
  },
  {
   "cell_type": "code",
   "execution_count": 98,
   "id": "automatic-multimedia",
   "metadata": {
    "execution": {
     "iopub.execute_input": "2021-04-26T02:24:47.903353Z",
     "iopub.status.busy": "2021-04-26T02:24:47.902663Z",
     "iopub.status.idle": "2021-04-26T02:24:47.949054Z",
     "shell.execute_reply": "2021-04-26T02:24:47.948615Z",
     "shell.execute_reply.started": "2021-04-26T02:24:47.903276Z"
    },
    "tags": []
   },
   "outputs": [
    {
     "data": {
      "text/html": [
       "<div>\n",
       "<style scoped>\n",
       "    .dataframe tbody tr th:only-of-type {\n",
       "        vertical-align: middle;\n",
       "    }\n",
       "\n",
       "    .dataframe tbody tr th {\n",
       "        vertical-align: top;\n",
       "    }\n",
       "\n",
       "    .dataframe thead th {\n",
       "        text-align: right;\n",
       "    }\n",
       "</style>\n",
       "<table border=\"1\" class=\"dataframe\">\n",
       "  <thead>\n",
       "    <tr style=\"text-align: right;\">\n",
       "      <th></th>\n",
       "      <th>linkage</th>\n",
       "      <th>variance_ratio</th>\n",
       "      <th>rand_score</th>\n",
       "    </tr>\n",
       "  </thead>\n",
       "  <tbody>\n",
       "    <tr>\n",
       "      <th>0</th>\n",
       "      <td>Ward</td>\n",
       "      <td>105.441815</td>\n",
       "      <td>0.022565</td>\n",
       "    </tr>\n",
       "    <tr>\n",
       "      <th>1</th>\n",
       "      <td>Complete</td>\n",
       "      <td>67.512280</td>\n",
       "      <td>-0.002376</td>\n",
       "    </tr>\n",
       "    <tr>\n",
       "      <th>2</th>\n",
       "      <td>Average</td>\n",
       "      <td>67.512280</td>\n",
       "      <td>-0.002376</td>\n",
       "    </tr>\n",
       "    <tr>\n",
       "      <th>3</th>\n",
       "      <td>Single</td>\n",
       "      <td>67.512280</td>\n",
       "      <td>-0.002376</td>\n",
       "    </tr>\n",
       "  </tbody>\n",
       "</table>\n",
       "</div>"
      ],
      "text/plain": [
       "    linkage  variance_ratio  rand_score\n",
       "0      Ward      105.441815    0.022565\n",
       "1  Complete       67.512280   -0.002376\n",
       "2   Average       67.512280   -0.002376\n",
       "3    Single       67.512280   -0.002376"
      ]
     },
     "execution_count": 98,
     "metadata": {},
     "output_type": "execute_result"
    }
   ],
   "source": [
    "\n",
    "# Trying out the different linkages.\n",
    "linkage_dct = {\n",
    "    'ward': dict(), \n",
    "    'complete': dict(), \n",
    "    'average': dict(), \n",
    "    'single': dict()\n",
    "}\n",
    "\n",
    "\n",
    "for linkage in linkage_dct:\n",
    "    hac = AgglomerativeClustering(n_clusters=2, linkage=linkage)\n",
    "    hac.fit(x)\n",
    "    linkage_dct[linkage] = {\n",
    "        'variance_ratio': calinski_harabasz_score(x, hac.labels_),\n",
    "        'rand_score': adjusted_rand_score(channel, hac.labels_)\n",
    "    }\n",
    "    \n",
    "hac_df = pd.DataFrame(linkage_dct).T.reset_index()\n",
    "hac_df.columns = ['linkage', 'variance_ratio', 'rand_score']\n",
    "hac_df['linkage'] = hac_df['linkage'].apply(lambda x: x.title())\n",
    "hac_df"
   ]
  },
  {
   "cell_type": "code",
   "execution_count": 99,
   "id": "searching-greeting",
   "metadata": {
    "execution": {
     "iopub.execute_input": "2021-04-26T02:24:48.188632Z",
     "iopub.status.busy": "2021-04-26T02:24:48.188004Z",
     "iopub.status.idle": "2021-04-26T02:24:48.337076Z",
     "shell.execute_reply": "2021-04-26T02:24:48.336784Z",
     "shell.execute_reply.started": "2021-04-26T02:24:48.188565Z"
    }
   },
   "outputs": [
    {
     "data": {
      "image/png": "[encoded data removed]",
      "text/plain": [
       "<Figure size 720x288 with 2 Axes>"
      ]
     },
     "metadata": {},
     "output_type": "display_data"
    }
   ],
   "source": [
    "fig, (ax1, ax2) = plt.subplots(ncols=2, sharey=True, figsize=(10,4))\n",
    "sns.barplot(\n",
    "    x='variance_ratio', y='linkage', data=hac_df, ax=ax1, color='tab:blue')\n",
    "ax1.set(title='Variance Ratio')\n",
    "sns.barplot(\n",
    "    x='rand_score', y='linkage', data=hac_df, ax=ax2, color='tab:blue')\n",
    "ax2.set(title='Rand Score')\n",
    "\n",
    "for ax in (ax1, ax2):\n",
    "    ax.set(ylabel='', xlabel='')"
   ]
  },
  {
   "cell_type": "markdown",
   "id": "recognized-conducting",
   "metadata": {},
   "source": [
    "𓂀"
   ]
  }
 ],
 "metadata": {
  "kernelspec": {
   "display_name": "Python 3",
   "language": "python",
   "name": "python3"
  },
  "language_info": {
   "codemirror_mode": {
    "name": "ipython",
    "version": 3
   },
   "file_extension": ".py",
   "mimetype": "text/x-python",
   "name": "python",
   "nbconvert_exporter": "python",
   "pygments_lexer": "ipython3",
   "version": "3.8.5"
  }
 },
 "nbformat": 4,
 "nbformat_minor": 5
}
