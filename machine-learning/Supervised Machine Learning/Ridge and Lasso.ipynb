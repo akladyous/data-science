{
 "cells": [
  {
   "cell_type": "code",
   "execution_count": 1,
   "id": "humanitarian-witch",
   "metadata": {
    "execution": {
     "iopub.execute_input": "2021-04-19T04:23:39.523501Z",
     "iopub.status.busy": "2021-04-19T04:23:39.522041Z",
     "iopub.status.idle": "2021-04-19T04:23:40.343811Z",
     "shell.execute_reply": "2021-04-19T04:23:40.343415Z",
     "shell.execute_reply.started": "2021-04-19T04:23:39.523187Z"
    },
    "tags": []
   },
   "outputs": [],
   "source": [
    "import numpy as np\n",
    "import matplotlib.pyplot as plt\n",
    "import pandas as pd\n",
    "import seaborn as sns"
   ]
  },
  {
   "cell_type": "code",
   "execution_count": 2,
   "id": "electrical-bottom",
   "metadata": {
    "execution": {
     "iopub.execute_input": "2021-04-19T04:23:40.344764Z",
     "iopub.status.busy": "2021-04-19T04:23:40.344673Z",
     "iopub.status.idle": "2021-04-19T04:23:40.347490Z",
     "shell.execute_reply": "2021-04-19T04:23:40.347163Z",
     "shell.execute_reply.started": "2021-04-19T04:23:40.344752Z"
    },
    "tags": []
   },
   "outputs": [],
   "source": [
    "%matplotlib inline"
   ]
  },
  {
   "cell_type": "code",
   "execution_count": 3,
   "id": "dietary-tunisia",
   "metadata": {
    "execution": {
     "iopub.execute_input": "2021-04-19T04:23:40.348514Z",
     "iopub.status.busy": "2021-04-19T04:23:40.348422Z",
     "iopub.status.idle": "2021-04-19T04:23:40.350440Z",
     "shell.execute_reply": "2021-04-19T04:23:40.350152Z",
     "shell.execute_reply.started": "2021-04-19T04:23:40.348501Z"
    },
    "tags": []
   },
   "outputs": [],
   "source": [
    "plt.style.use(['ggplot', 'seaborn-talk'])"
   ]
  },
  {
   "cell_type": "markdown",
   "id": "crucial-patrol",
   "metadata": {},
   "source": [
    "## Loading DataSet"
   ]
  },
  {
   "cell_type": "code",
   "execution_count": 4,
   "id": "ranking-worst",
   "metadata": {
    "execution": {
     "iopub.execute_input": "2021-04-19T04:23:40.351102Z",
     "iopub.status.busy": "2021-04-19T04:23:40.351018Z",
     "iopub.status.idle": "2021-04-19T04:23:40.357159Z",
     "shell.execute_reply": "2021-04-19T04:23:40.356585Z",
     "shell.execute_reply.started": "2021-04-19T04:23:40.351091Z"
    },
    "tags": []
   },
   "outputs": [],
   "source": [
    "df = sns.load_dataset('mpg')"
   ]
  },
  {
   "cell_type": "code",
   "execution_count": 5,
   "id": "complete-distance",
   "metadata": {
    "execution": {
     "iopub.execute_input": "2021-04-19T04:23:40.518319Z",
     "iopub.status.busy": "2021-04-19T04:23:40.518013Z",
     "iopub.status.idle": "2021-04-19T04:23:40.537691Z",
     "shell.execute_reply": "2021-04-19T04:23:40.537090Z",
     "shell.execute_reply.started": "2021-04-19T04:23:40.518282Z"
    },
    "tags": []
   },
   "outputs": [
    {
     "data": {
      "text/html": [
       "<div>\n",
       "<style scoped>\n",
       "    .dataframe tbody tr th:only-of-type {\n",
       "        vertical-align: middle;\n",
       "    }\n",
       "\n",
       "    .dataframe tbody tr th {\n",
       "        vertical-align: top;\n",
       "    }\n",
       "\n",
       "    .dataframe thead th {\n",
       "        text-align: right;\n",
       "    }\n",
       "</style>\n",
       "<table border=\"1\" class=\"dataframe\">\n",
       "  <thead>\n",
       "    <tr style=\"text-align: right;\">\n",
       "      <th></th>\n",
       "      <th>mpg</th>\n",
       "      <th>cylinders</th>\n",
       "      <th>displacement</th>\n",
       "      <th>horsepower</th>\n",
       "      <th>weight</th>\n",
       "      <th>acceleration</th>\n",
       "      <th>model_year</th>\n",
       "      <th>origin</th>\n",
       "      <th>name</th>\n",
       "    </tr>\n",
       "  </thead>\n",
       "  <tbody>\n",
       "    <tr>\n",
       "      <th>0</th>\n",
       "      <td>18.0</td>\n",
       "      <td>8</td>\n",
       "      <td>307.0</td>\n",
       "      <td>130.0</td>\n",
       "      <td>3504</td>\n",
       "      <td>12.0</td>\n",
       "      <td>70</td>\n",
       "      <td>usa</td>\n",
       "      <td>chevrolet chevelle malibu</td>\n",
       "    </tr>\n",
       "    <tr>\n",
       "      <th>1</th>\n",
       "      <td>15.0</td>\n",
       "      <td>8</td>\n",
       "      <td>350.0</td>\n",
       "      <td>165.0</td>\n",
       "      <td>3693</td>\n",
       "      <td>11.5</td>\n",
       "      <td>70</td>\n",
       "      <td>usa</td>\n",
       "      <td>buick skylark 320</td>\n",
       "    </tr>\n",
       "    <tr>\n",
       "      <th>2</th>\n",
       "      <td>18.0</td>\n",
       "      <td>8</td>\n",
       "      <td>318.0</td>\n",
       "      <td>150.0</td>\n",
       "      <td>3436</td>\n",
       "      <td>11.0</td>\n",
       "      <td>70</td>\n",
       "      <td>usa</td>\n",
       "      <td>plymouth satellite</td>\n",
       "    </tr>\n",
       "    <tr>\n",
       "      <th>3</th>\n",
       "      <td>16.0</td>\n",
       "      <td>8</td>\n",
       "      <td>304.0</td>\n",
       "      <td>150.0</td>\n",
       "      <td>3433</td>\n",
       "      <td>12.0</td>\n",
       "      <td>70</td>\n",
       "      <td>usa</td>\n",
       "      <td>amc rebel sst</td>\n",
       "    </tr>\n",
       "    <tr>\n",
       "      <th>4</th>\n",
       "      <td>17.0</td>\n",
       "      <td>8</td>\n",
       "      <td>302.0</td>\n",
       "      <td>140.0</td>\n",
       "      <td>3449</td>\n",
       "      <td>10.5</td>\n",
       "      <td>70</td>\n",
       "      <td>usa</td>\n",
       "      <td>ford torino</td>\n",
       "    </tr>\n",
       "  </tbody>\n",
       "</table>\n",
       "</div>"
      ],
      "text/plain": [
       "    mpg  cylinders  displacement  horsepower  weight  acceleration  \\\n",
       "0  18.0          8         307.0       130.0    3504          12.0   \n",
       "1  15.0          8         350.0       165.0    3693          11.5   \n",
       "2  18.0          8         318.0       150.0    3436          11.0   \n",
       "3  16.0          8         304.0       150.0    3433          12.0   \n",
       "4  17.0          8         302.0       140.0    3449          10.5   \n",
       "\n",
       "   model_year origin                       name  \n",
       "0          70    usa  chevrolet chevelle malibu  \n",
       "1          70    usa          buick skylark 320  \n",
       "2          70    usa         plymouth satellite  \n",
       "3          70    usa              amc rebel sst  \n",
       "4          70    usa                ford torino  "
      ]
     },
     "execution_count": 5,
     "metadata": {},
     "output_type": "execute_result"
    }
   ],
   "source": [
    "df.head()"
   ]
  },
  {
   "cell_type": "code",
   "execution_count": 6,
   "id": "dense-arcade",
   "metadata": {
    "execution": {
     "iopub.execute_input": "2021-04-19T04:23:40.771355Z",
     "iopub.status.busy": "2021-04-19T04:23:40.771011Z",
     "iopub.status.idle": "2021-04-19T04:23:40.779552Z",
     "shell.execute_reply": "2021-04-19T04:23:40.778207Z",
     "shell.execute_reply.started": "2021-04-19T04:23:40.771318Z"
    },
    "tags": []
   },
   "outputs": [],
   "source": [
    "df.drop(labels=['origin', 'name'], axis=1, inplace=True)"
   ]
  },
  {
   "cell_type": "code",
   "execution_count": 7,
   "id": "ready-speed",
   "metadata": {
    "execution": {
     "iopub.execute_input": "2021-04-19T04:23:40.997711Z",
     "iopub.status.busy": "2021-04-19T04:23:40.997371Z",
     "iopub.status.idle": "2021-04-19T04:23:41.019575Z",
     "shell.execute_reply": "2021-04-19T04:23:41.018324Z",
     "shell.execute_reply.started": "2021-04-19T04:23:40.997678Z"
    },
    "tags": []
   },
   "outputs": [
    {
     "data": {
      "text/html": [
       "<div>\n",
       "<style scoped>\n",
       "    .dataframe tbody tr th:only-of-type {\n",
       "        vertical-align: middle;\n",
       "    }\n",
       "\n",
       "    .dataframe tbody tr th {\n",
       "        vertical-align: top;\n",
       "    }\n",
       "\n",
       "    .dataframe thead th {\n",
       "        text-align: right;\n",
       "    }\n",
       "</style>\n",
       "<table border=\"1\" class=\"dataframe\">\n",
       "  <thead>\n",
       "    <tr style=\"text-align: right;\">\n",
       "      <th></th>\n",
       "      <th>mpg</th>\n",
       "      <th>cylinders</th>\n",
       "      <th>displacement</th>\n",
       "      <th>horsepower</th>\n",
       "      <th>weight</th>\n",
       "      <th>acceleration</th>\n",
       "      <th>model_year</th>\n",
       "    </tr>\n",
       "  </thead>\n",
       "  <tbody>\n",
       "    <tr>\n",
       "      <th>0</th>\n",
       "      <td>18.0</td>\n",
       "      <td>8</td>\n",
       "      <td>307.0</td>\n",
       "      <td>130.0</td>\n",
       "      <td>3504</td>\n",
       "      <td>12.0</td>\n",
       "      <td>70</td>\n",
       "    </tr>\n",
       "    <tr>\n",
       "      <th>1</th>\n",
       "      <td>15.0</td>\n",
       "      <td>8</td>\n",
       "      <td>350.0</td>\n",
       "      <td>165.0</td>\n",
       "      <td>3693</td>\n",
       "      <td>11.5</td>\n",
       "      <td>70</td>\n",
       "    </tr>\n",
       "    <tr>\n",
       "      <th>2</th>\n",
       "      <td>18.0</td>\n",
       "      <td>8</td>\n",
       "      <td>318.0</td>\n",
       "      <td>150.0</td>\n",
       "      <td>3436</td>\n",
       "      <td>11.0</td>\n",
       "      <td>70</td>\n",
       "    </tr>\n",
       "    <tr>\n",
       "      <th>3</th>\n",
       "      <td>16.0</td>\n",
       "      <td>8</td>\n",
       "      <td>304.0</td>\n",
       "      <td>150.0</td>\n",
       "      <td>3433</td>\n",
       "      <td>12.0</td>\n",
       "      <td>70</td>\n",
       "    </tr>\n",
       "    <tr>\n",
       "      <th>4</th>\n",
       "      <td>17.0</td>\n",
       "      <td>8</td>\n",
       "      <td>302.0</td>\n",
       "      <td>140.0</td>\n",
       "      <td>3449</td>\n",
       "      <td>10.5</td>\n",
       "      <td>70</td>\n",
       "    </tr>\n",
       "  </tbody>\n",
       "</table>\n",
       "</div>"
      ],
      "text/plain": [
       "    mpg  cylinders  displacement  horsepower  weight  acceleration  model_year\n",
       "0  18.0          8         307.0       130.0    3504          12.0          70\n",
       "1  15.0          8         350.0       165.0    3693          11.5          70\n",
       "2  18.0          8         318.0       150.0    3436          11.0          70\n",
       "3  16.0          8         304.0       150.0    3433          12.0          70\n",
       "4  17.0          8         302.0       140.0    3449          10.5          70"
      ]
     },
     "execution_count": 7,
     "metadata": {},
     "output_type": "execute_result"
    }
   ],
   "source": [
    "df.head()"
   ]
  },
  {
   "cell_type": "code",
   "execution_count": 8,
   "id": "outer-retreat",
   "metadata": {
    "execution": {
     "iopub.execute_input": "2021-04-19T04:23:41.146928Z",
     "iopub.status.busy": "2021-04-19T04:23:41.146610Z",
     "iopub.status.idle": "2021-04-19T04:23:41.154163Z",
     "shell.execute_reply": "2021-04-19T04:23:41.152758Z",
     "shell.execute_reply.started": "2021-04-19T04:23:41.146895Z"
    },
    "tags": []
   },
   "outputs": [],
   "source": [
    "x=df.drop(labels='mpg', axis=1)\n",
    "y=df['mpg']"
   ]
  },
  {
   "cell_type": "code",
   "execution_count": 9,
   "id": "paperback-mountain",
   "metadata": {
    "execution": {
     "iopub.execute_input": "2021-04-19T04:23:41.618138Z",
     "iopub.status.busy": "2021-04-19T04:23:41.617503Z",
     "iopub.status.idle": "2021-04-19T04:23:41.788113Z",
     "shell.execute_reply": "2021-04-19T04:23:41.787741Z",
     "shell.execute_reply.started": "2021-04-19T04:23:41.618068Z"
    },
    "tags": []
   },
   "outputs": [],
   "source": [
    "from sklearn.model_selection import train_test_split"
   ]
  },
  {
   "cell_type": "code",
   "execution_count": 10,
   "id": "particular-masters",
   "metadata": {
    "execution": {
     "iopub.execute_input": "2021-04-19T04:23:41.788948Z",
     "iopub.status.busy": "2021-04-19T04:23:41.788843Z",
     "iopub.status.idle": "2021-04-19T04:23:41.793867Z",
     "shell.execute_reply": "2021-04-19T04:23:41.793432Z",
     "shell.execute_reply.started": "2021-04-19T04:23:41.788935Z"
    },
    "tags": []
   },
   "outputs": [],
   "source": [
    "X_train, X_test, y_train, y_test = train_test_split( df.drop('mpg', axis=1), df['mpg'],random_state=2021)"
   ]
  },
  {
   "cell_type": "code",
   "execution_count": 11,
   "id": "desirable-conditions",
   "metadata": {
    "execution": {
     "iopub.execute_input": "2021-04-19T04:23:41.938281Z",
     "iopub.status.busy": "2021-04-19T04:23:41.938078Z",
     "iopub.status.idle": "2021-04-19T04:23:41.942582Z",
     "shell.execute_reply": "2021-04-19T04:23:41.942045Z",
     "shell.execute_reply.started": "2021-04-19T04:23:41.938260Z"
    },
    "tags": []
   },
   "outputs": [
    {
     "data": {
      "text/plain": [
       "((298, 6), (100, 6), (298,), (100,))"
      ]
     },
     "execution_count": 11,
     "metadata": {},
     "output_type": "execute_result"
    }
   ],
   "source": [
    "X_train.shape, X_test.shape, y_train.shape, y_test.shape"
   ]
  },
  {
   "cell_type": "code",
   "execution_count": 12,
   "id": "mature-craft",
   "metadata": {
    "execution": {
     "iopub.execute_input": "2021-04-19T04:23:43.113483Z",
     "iopub.status.busy": "2021-04-19T04:23:43.113031Z",
     "iopub.status.idle": "2021-04-19T04:23:43.180156Z",
     "shell.execute_reply": "2021-04-19T04:23:43.179764Z",
     "shell.execute_reply.started": "2021-04-19T04:23:43.113435Z"
    },
    "tags": []
   },
   "outputs": [],
   "source": [
    "from sklearn.impute import SimpleImputer"
   ]
  },
  {
   "cell_type": "code",
   "execution_count": 13,
   "id": "stylish-fluid",
   "metadata": {
    "execution": {
     "iopub.execute_input": "2021-04-19T04:23:43.249689Z",
     "iopub.status.busy": "2021-04-19T04:23:43.249526Z",
     "iopub.status.idle": "2021-04-19T04:23:43.251824Z",
     "shell.execute_reply": "2021-04-19T04:23:43.251432Z",
     "shell.execute_reply.started": "2021-04-19T04:23:43.249673Z"
    },
    "tags": []
   },
   "outputs": [],
   "source": [
    "imputer = SimpleImputer(missing_values=np.nan)"
   ]
  },
  {
   "cell_type": "code",
   "execution_count": 14,
   "id": "controlling-sullivan",
   "metadata": {
    "execution": {
     "iopub.execute_input": "2021-04-19T04:23:43.402689Z",
     "iopub.status.busy": "2021-04-19T04:23:43.402095Z",
     "iopub.status.idle": "2021-04-19T04:23:43.421396Z",
     "shell.execute_reply": "2021-04-19T04:23:43.420542Z",
     "shell.execute_reply.started": "2021-04-19T04:23:43.402622Z"
    },
    "tags": []
   },
   "outputs": [],
   "source": [
    "x_train_processed = imputer.fit_transform(X_train)\n",
    "x_test_processed = imputer.transform(X_test)"
   ]
  },
  {
   "cell_type": "markdown",
   "id": "stretch-algebra",
   "metadata": {},
   "source": [
    "### Scaling Data"
   ]
  },
  {
   "cell_type": "code",
   "execution_count": 15,
   "id": "brilliant-blond",
   "metadata": {
    "execution": {
     "iopub.execute_input": "2021-04-19T04:23:43.677720Z",
     "iopub.status.busy": "2021-04-19T04:23:43.677342Z",
     "iopub.status.idle": "2021-04-19T04:23:43.681468Z",
     "shell.execute_reply": "2021-04-19T04:23:43.680461Z",
     "shell.execute_reply.started": "2021-04-19T04:23:43.677684Z"
    },
    "tags": []
   },
   "outputs": [],
   "source": [
    "from sklearn.preprocessing import StandardScaler"
   ]
  },
  {
   "cell_type": "code",
   "execution_count": 16,
   "id": "outdoor-blake",
   "metadata": {
    "execution": {
     "iopub.execute_input": "2021-04-19T04:23:43.835772Z",
     "iopub.status.busy": "2021-04-19T04:23:43.835127Z",
     "iopub.status.idle": "2021-04-19T04:23:43.844303Z",
     "shell.execute_reply": "2021-04-19T04:23:43.843199Z",
     "shell.execute_reply.started": "2021-04-19T04:23:43.835697Z"
    },
    "tags": []
   },
   "outputs": [],
   "source": [
    "scaler = StandardScaler()\n",
    "\n",
    "x_train_processed = scaler.fit_transform(x_train_processed)\n",
    "x_test_processed = scaler.transform(x_test_processed)"
   ]
  },
  {
   "cell_type": "code",
   "execution_count": 17,
   "id": "equipped-affiliation",
   "metadata": {
    "execution": {
     "iopub.execute_input": "2021-04-19T04:23:43.971304Z",
     "iopub.status.busy": "2021-04-19T04:23:43.970676Z",
     "iopub.status.idle": "2021-04-19T04:23:43.977852Z",
     "shell.execute_reply": "2021-04-19T04:23:43.976430Z",
     "shell.execute_reply.started": "2021-04-19T04:23:43.971203Z"
    },
    "tags": []
   },
   "outputs": [],
   "source": [
    "from sklearn.linear_model import LinearRegression, RidgeCV, LassoCV\n",
    "from sklearn.metrics import mean_squared_error, r2_score"
   ]
  },
  {
   "cell_type": "code",
   "execution_count": 18,
   "id": "naval-parallel",
   "metadata": {
    "execution": {
     "iopub.execute_input": "2021-04-19T04:23:44.896801Z",
     "iopub.status.busy": "2021-04-19T04:23:44.896410Z",
     "iopub.status.idle": "2021-04-19T04:23:44.902677Z",
     "shell.execute_reply": "2021-04-19T04:23:44.901250Z",
     "shell.execute_reply.started": "2021-04-19T04:23:44.896766Z"
    },
    "tags": []
   },
   "outputs": [],
   "source": [
    "linreg = LinearRegression()\n",
    "ridge = RidgeCV()\n",
    "lasso = LassoCV()"
   ]
  },
  {
   "cell_type": "code",
   "execution_count": 19,
   "id": "coordinate-craft",
   "metadata": {
    "execution": {
     "iopub.execute_input": "2021-04-19T04:23:45.038298Z",
     "iopub.status.busy": "2021-04-19T04:23:45.037690Z",
     "iopub.status.idle": "2021-04-19T04:23:45.098116Z",
     "shell.execute_reply": "2021-04-19T04:23:45.097583Z",
     "shell.execute_reply.started": "2021-04-19T04:23:45.038230Z"
    },
    "tags": []
   },
   "outputs": [
    {
     "data": {
      "text/plain": [
       "LassoCV()"
      ]
     },
     "execution_count": 19,
     "metadata": {},
     "output_type": "execute_result"
    }
   ],
   "source": [
    "linreg.fit(x_train_processed, y_train)\n",
    "ridge.fit(x_train_processed, y_train)\n",
    "lasso.fit(x_train_processed, y_train)"
   ]
  },
  {
   "cell_type": "code",
   "execution_count": 20,
   "id": "sharing-grave",
   "metadata": {
    "execution": {
     "iopub.execute_input": "2021-04-19T04:23:45.191061Z",
     "iopub.status.busy": "2021-04-19T04:23:45.190846Z",
     "iopub.status.idle": "2021-04-19T04:23:45.198052Z",
     "shell.execute_reply": "2021-04-19T04:23:45.197300Z",
     "shell.execute_reply.started": "2021-04-19T04:23:45.191041Z"
    }
   },
   "outputs": [],
   "source": [
    "# Helper function\n",
    "def show_as_title(s):\n",
    "    \"\"\"Print a title.\"\"\"\n",
    "    \n",
    "    stars = '*'*10\n",
    "    print(f'{stars}{s}{stars}')\n",
    "\n",
    "\n",
    "# Evaluation function.\n",
    "def show_evaluation(\n",
    "    y_train_true, \n",
    "    y_train_pred, \n",
    "    y_test_true, \n",
    "    y_test_pred,\n",
    "    title=''):\n",
    "    \"\"\"\n",
    "    Print metrics for predicted values.\n",
    "    r_2, mse, rmse\n",
    "    \n",
    "    Parameters:\n",
    "    -----------\n",
    "    y_train_true: ground truth data (pd.DataFrame)\n",
    "    y_train_pred: predicted values (pd.DataFrame)\n",
    "    y_test_true: ground truth data (pd.DataFrame)\n",
    "    y_test_pred: predicted values (pd.DataFrame)\n",
    "    title: str (Default: '')\n",
    "        If provided, the printout will include a title.\n",
    "    \"\"\"\n",
    "    \n",
    "    if title:\n",
    "        show_as_title(title)\n",
    "        \n",
    "    r2_train = r2_score(y_train_true, y_train_pred)\n",
    "    r2_test = r2_score(y_test_true, y_test_pred)\n",
    "    mse_train = mean_squared_error(y_train_true, y_train_pred)\n",
    "    mse_test = mean_squared_error(y_test_true, y_test_pred)\n",
    "    rmse_train = np.sqrt(mse_train)\n",
    "    rmse_test = np.sqrt(mse_test)\n",
    "    \n",
    "    print('R2')\n",
    "    print(f'\\tTrain:\\t{round(r2_train, 3)}\\n\\tTest:\\t{round(r2_test, 3)}')\n",
    "    print('MSE')\n",
    "    print(f'\\tTrain:\\t{round(mse_train, 3)}\\n\\tTest:\\t{round(mse_test, 3)}')\n",
    "    print('RMSE')\n",
    "    print(f'\\tTrain:\\t{round(rmse_train, 3)}\\n\\tTest:\\t{round(rmse_test, 3)}')\n",
    "    print()\n",
    "    \n",
    "    \n",
    "# Showing coefficients.\n",
    "def check_coefficients(model, title=''):\n",
    "    \"\"\"\n",
    "    Prints information about the fit models' coefficients.\n",
    "    \n",
    "    Parameters:\n",
    "    -----------\n",
    "    model: fit sklearn linear_model\n",
    "    title: str (Default: '')\n",
    "        If provided, the printout will include a title.\n",
    "    \"\"\"\n",
    "    \n",
    "    if title:\n",
    "        show_as_title(title)\n",
    "    \n",
    "    coef_array = model.coef_.reshape(-1,)\n",
    "    num_coef = len(coef_array)\n",
    "    close_to_zero = sum(abs(coef_array) < 10**(-10))\n",
    "    \n",
    "    print(f'Number of coefficients:              \\t{num_coef}')\n",
    "    print(f'Number of coefficients close to zero:\\t{close_to_zero}')\n",
    "    print()"
   ]
  },
  {
   "cell_type": "code",
   "execution_count": 21,
   "id": "changing-throat",
   "metadata": {
    "execution": {
     "iopub.execute_input": "2021-04-19T04:23:46.469722Z",
     "iopub.status.busy": "2021-04-19T04:23:46.469217Z",
     "iopub.status.idle": "2021-04-19T04:23:46.476543Z",
     "shell.execute_reply": "2021-04-19T04:23:46.475413Z",
     "shell.execute_reply.started": "2021-04-19T04:23:46.469672Z"
    }
   },
   "outputs": [
    {
     "name": "stdout",
     "output_type": "stream",
     "text": [
      "Number of coefficients:              \t6\n",
      "Number of coefficients close to zero:\t0\n",
      "\n",
      "Number of coefficients:              \t6\n",
      "Number of coefficients close to zero:\t0\n",
      "\n",
      "Number of coefficients:              \t6\n",
      "Number of coefficients close to zero:\t2\n",
      "\n"
     ]
    }
   ],
   "source": [
    "check_coefficients(linreg)\n",
    "check_coefficients(ridge)\n",
    "check_coefficients(lasso)"
   ]
  },
  {
   "cell_type": "code",
   "execution_count": 22,
   "id": "otherwise-canal",
   "metadata": {
    "execution": {
     "iopub.execute_input": "2021-04-19T04:23:46.593130Z",
     "iopub.status.busy": "2021-04-19T04:23:46.592770Z",
     "iopub.status.idle": "2021-04-19T04:23:46.599023Z",
     "shell.execute_reply": "2021-04-19T04:23:46.598167Z",
     "shell.execute_reply.started": "2021-04-19T04:23:46.593093Z"
    }
   },
   "outputs": [],
   "source": [
    "linreg_predicted_train = linreg.predict(x_train_processed)\n",
    "ridge_predicted_train  = ridge.predict(x_train_processed)\n",
    "lasso_predicted_train  = lasso.predict(x_train_processed)\n",
    "\n",
    "linreg_predicted_test = linreg.predict(x_test_processed)\n",
    "ridge_predicted_test  = ridge.predict(x_test_processed)\n",
    "lasso_predicted_test  = lasso.predict(x_test_processed)"
   ]
  },
  {
   "cell_type": "code",
   "execution_count": 23,
   "id": "embedded-break",
   "metadata": {
    "execution": {
     "iopub.execute_input": "2021-04-19T04:23:46.724177Z",
     "iopub.status.busy": "2021-04-19T04:23:46.723496Z",
     "iopub.status.idle": "2021-04-19T04:23:46.731577Z",
     "shell.execute_reply": "2021-04-19T04:23:46.730460Z",
     "shell.execute_reply.started": "2021-04-19T04:23:46.724105Z"
    }
   },
   "outputs": [
    {
     "name": "stdout",
     "output_type": "stream",
     "text": [
      "R2\n",
      "\tTrain:\t0.81\n",
      "\tTest:\t0.791\n",
      "MSE\n",
      "\tTrain:\t11.812\n",
      "\tTest:\t11.711\n",
      "RMSE\n",
      "\tTrain:\t3.437\n",
      "\tTest:\t3.422\n",
      "\n"
     ]
    }
   ],
   "source": [
    "show_evaluation(y_train, linreg_predicted_train, y_test, linreg_predicted_test)"
   ]
  },
  {
   "cell_type": "code",
   "execution_count": 24,
   "id": "previous-maple",
   "metadata": {
    "execution": {
     "iopub.execute_input": "2021-04-19T04:23:46.920857Z",
     "iopub.status.busy": "2021-04-19T04:23:46.920245Z",
     "iopub.status.idle": "2021-04-19T04:23:46.930387Z",
     "shell.execute_reply": "2021-04-19T04:23:46.929558Z",
     "shell.execute_reply.started": "2021-04-19T04:23:46.920788Z"
    }
   },
   "outputs": [
    {
     "name": "stdout",
     "output_type": "stream",
     "text": [
      "R2\n",
      "\tTrain:\t0.81\n",
      "\tTest:\t0.795\n",
      "MSE\n",
      "\tTrain:\t11.819\n",
      "\tTest:\t11.52\n",
      "RMSE\n",
      "\tTrain:\t3.438\n",
      "\tTest:\t3.394\n",
      "\n"
     ]
    }
   ],
   "source": [
    "show_evaluation(y_train, ridge_predicted_train, y_test, ridge_predicted_test)"
   ]
  },
  {
   "cell_type": "code",
   "execution_count": 25,
   "id": "otherwise-framing",
   "metadata": {
    "execution": {
     "iopub.execute_input": "2021-04-19T04:23:48.113326Z",
     "iopub.status.busy": "2021-04-19T04:23:48.112999Z",
     "iopub.status.idle": "2021-04-19T04:23:48.120512Z",
     "shell.execute_reply": "2021-04-19T04:23:48.119712Z",
     "shell.execute_reply.started": "2021-04-19T04:23:48.113293Z"
    }
   },
   "outputs": [
    {
     "name": "stdout",
     "output_type": "stream",
     "text": [
      "R2\n",
      "\tTrain:\t0.808\n",
      "\tTest:\t0.803\n",
      "MSE\n",
      "\tTrain:\t11.959\n",
      "\tTest:\t11.036\n",
      "RMSE\n",
      "\tTrain:\t3.458\n",
      "\tTest:\t3.322\n",
      "\n"
     ]
    }
   ],
   "source": [
    "show_evaluation(y_train, lasso_predicted_train, y_test, lasso_predicted_test)"
   ]
  },
  {
   "cell_type": "markdown",
   "id": "human-island",
   "metadata": {},
   "source": [
    "## Create DataFrame with coefficient"
   ]
  },
  {
   "cell_type": "code",
   "execution_count": 26,
   "id": "statewide-plate",
   "metadata": {
    "execution": {
     "iopub.execute_input": "2021-04-19T04:23:48.403522Z",
     "iopub.status.busy": "2021-04-19T04:23:48.403211Z",
     "iopub.status.idle": "2021-04-19T04:23:48.410536Z",
     "shell.execute_reply": "2021-04-19T04:23:48.409119Z",
     "shell.execute_reply.started": "2021-04-19T04:23:48.403489Z"
    }
   },
   "outputs": [],
   "source": [
    "df_coef = pd.DataFrame()"
   ]
  },
  {
   "cell_type": "code",
   "execution_count": 27,
   "id": "serial-canada",
   "metadata": {
    "execution": {
     "iopub.execute_input": "2021-04-19T04:23:48.903920Z",
     "iopub.status.busy": "2021-04-19T04:23:48.903538Z",
     "iopub.status.idle": "2021-04-19T04:23:48.926828Z",
     "shell.execute_reply": "2021-04-19T04:23:48.925912Z",
     "shell.execute_reply.started": "2021-04-19T04:23:48.903884Z"
    }
   },
   "outputs": [
    {
     "data": {
      "text/html": [
       "<div>\n",
       "<style scoped>\n",
       "    .dataframe tbody tr th:only-of-type {\n",
       "        vertical-align: middle;\n",
       "    }\n",
       "\n",
       "    .dataframe tbody tr th {\n",
       "        vertical-align: top;\n",
       "    }\n",
       "\n",
       "    .dataframe thead th {\n",
       "        text-align: right;\n",
       "    }\n",
       "</style>\n",
       "<table border=\"1\" class=\"dataframe\">\n",
       "  <thead>\n",
       "    <tr style=\"text-align: right;\">\n",
       "      <th></th>\n",
       "      <th>linreg</th>\n",
       "      <th>ridge</th>\n",
       "      <th>lasso</th>\n",
       "      <th>feature</th>\n",
       "    </tr>\n",
       "  </thead>\n",
       "  <tbody>\n",
       "    <tr>\n",
       "      <th>0</th>\n",
       "      <td>-0.607733</td>\n",
       "      <td>-0.581693</td>\n",
       "      <td>-0.018285</td>\n",
       "      <td>cylinders</td>\n",
       "    </tr>\n",
       "    <tr>\n",
       "      <th>1</th>\n",
       "      <td>1.156869</td>\n",
       "      <td>0.920962</td>\n",
       "      <td>-0.000000</td>\n",
       "      <td>displacement</td>\n",
       "    </tr>\n",
       "    <tr>\n",
       "      <th>2</th>\n",
       "      <td>0.645830</td>\n",
       "      <td>0.520822</td>\n",
       "      <td>0.000000</td>\n",
       "      <td>horsepower</td>\n",
       "    </tr>\n",
       "    <tr>\n",
       "      <th>3</th>\n",
       "      <td>-6.640960</td>\n",
       "      <td>-6.352750</td>\n",
       "      <td>-5.661313</td>\n",
       "      <td>weight</td>\n",
       "    </tr>\n",
       "    <tr>\n",
       "      <th>4</th>\n",
       "      <td>0.541586</td>\n",
       "      <td>0.470407</td>\n",
       "      <td>0.150214</td>\n",
       "      <td>acceleration</td>\n",
       "    </tr>\n",
       "    <tr>\n",
       "      <th>5</th>\n",
       "      <td>2.867409</td>\n",
       "      <td>2.836947</td>\n",
       "      <td>2.718031</td>\n",
       "      <td>model_year</td>\n",
       "    </tr>\n",
       "  </tbody>\n",
       "</table>\n",
       "</div>"
      ],
      "text/plain": [
       "     linreg     ridge     lasso       feature\n",
       "0 -0.607733 -0.581693 -0.018285     cylinders\n",
       "1  1.156869  0.920962 -0.000000  displacement\n",
       "2  0.645830  0.520822  0.000000    horsepower\n",
       "3 -6.640960 -6.352750 -5.661313        weight\n",
       "4  0.541586  0.470407  0.150214  acceleration\n",
       "5  2.867409  2.836947  2.718031    model_year"
      ]
     },
     "execution_count": 27,
     "metadata": {},
     "output_type": "execute_result"
    }
   ],
   "source": [
    "df_coef['linreg'] = linreg.coef_\n",
    "df_coef['ridge'] = ridge.coef_\n",
    "df_coef['lasso'] = lasso.coef_\n",
    "\n",
    "df_coef['feature'] = X_train.columns\n",
    "\n",
    "df_coef"
   ]
  },
  {
   "cell_type": "code",
   "execution_count": 28,
   "id": "patent-recipient",
   "metadata": {
    "execution": {
     "iopub.execute_input": "2021-04-19T04:23:49.155830Z",
     "iopub.status.busy": "2021-04-19T04:23:49.155194Z",
     "iopub.status.idle": "2021-04-19T04:23:49.178096Z",
     "shell.execute_reply": "2021-04-19T04:23:49.177179Z",
     "shell.execute_reply.started": "2021-04-19T04:23:49.155761Z"
    }
   },
   "outputs": [
    {
     "data": {
      "text/html": [
       "<div>\n",
       "<style scoped>\n",
       "    .dataframe tbody tr th:only-of-type {\n",
       "        vertical-align: middle;\n",
       "    }\n",
       "\n",
       "    .dataframe tbody tr th {\n",
       "        vertical-align: top;\n",
       "    }\n",
       "\n",
       "    .dataframe thead th {\n",
       "        text-align: right;\n",
       "    }\n",
       "</style>\n",
       "<table border=\"1\" class=\"dataframe\">\n",
       "  <thead>\n",
       "    <tr style=\"text-align: right;\">\n",
       "      <th></th>\n",
       "      <th>feature</th>\n",
       "      <th>variable</th>\n",
       "      <th>value</th>\n",
       "    </tr>\n",
       "  </thead>\n",
       "  <tbody>\n",
       "    <tr>\n",
       "      <th>0</th>\n",
       "      <td>cylinders</td>\n",
       "      <td>linreg</td>\n",
       "      <td>-0.607733</td>\n",
       "    </tr>\n",
       "    <tr>\n",
       "      <th>1</th>\n",
       "      <td>displacement</td>\n",
       "      <td>linreg</td>\n",
       "      <td>1.156869</td>\n",
       "    </tr>\n",
       "    <tr>\n",
       "      <th>2</th>\n",
       "      <td>horsepower</td>\n",
       "      <td>linreg</td>\n",
       "      <td>0.645830</td>\n",
       "    </tr>\n",
       "    <tr>\n",
       "      <th>3</th>\n",
       "      <td>weight</td>\n",
       "      <td>linreg</td>\n",
       "      <td>-6.640960</td>\n",
       "    </tr>\n",
       "    <tr>\n",
       "      <th>4</th>\n",
       "      <td>acceleration</td>\n",
       "      <td>linreg</td>\n",
       "      <td>0.541586</td>\n",
       "    </tr>\n",
       "    <tr>\n",
       "      <th>5</th>\n",
       "      <td>model_year</td>\n",
       "      <td>linreg</td>\n",
       "      <td>2.867409</td>\n",
       "    </tr>\n",
       "    <tr>\n",
       "      <th>6</th>\n",
       "      <td>cylinders</td>\n",
       "      <td>ridge</td>\n",
       "      <td>-0.581693</td>\n",
       "    </tr>\n",
       "    <tr>\n",
       "      <th>7</th>\n",
       "      <td>displacement</td>\n",
       "      <td>ridge</td>\n",
       "      <td>0.920962</td>\n",
       "    </tr>\n",
       "    <tr>\n",
       "      <th>8</th>\n",
       "      <td>horsepower</td>\n",
       "      <td>ridge</td>\n",
       "      <td>0.520822</td>\n",
       "    </tr>\n",
       "    <tr>\n",
       "      <th>9</th>\n",
       "      <td>weight</td>\n",
       "      <td>ridge</td>\n",
       "      <td>-6.352750</td>\n",
       "    </tr>\n",
       "    <tr>\n",
       "      <th>10</th>\n",
       "      <td>acceleration</td>\n",
       "      <td>ridge</td>\n",
       "      <td>0.470407</td>\n",
       "    </tr>\n",
       "    <tr>\n",
       "      <th>11</th>\n",
       "      <td>model_year</td>\n",
       "      <td>ridge</td>\n",
       "      <td>2.836947</td>\n",
       "    </tr>\n",
       "    <tr>\n",
       "      <th>12</th>\n",
       "      <td>cylinders</td>\n",
       "      <td>lasso</td>\n",
       "      <td>-0.018285</td>\n",
       "    </tr>\n",
       "    <tr>\n",
       "      <th>13</th>\n",
       "      <td>displacement</td>\n",
       "      <td>lasso</td>\n",
       "      <td>-0.000000</td>\n",
       "    </tr>\n",
       "    <tr>\n",
       "      <th>14</th>\n",
       "      <td>horsepower</td>\n",
       "      <td>lasso</td>\n",
       "      <td>0.000000</td>\n",
       "    </tr>\n",
       "    <tr>\n",
       "      <th>15</th>\n",
       "      <td>weight</td>\n",
       "      <td>lasso</td>\n",
       "      <td>-5.661313</td>\n",
       "    </tr>\n",
       "    <tr>\n",
       "      <th>16</th>\n",
       "      <td>acceleration</td>\n",
       "      <td>lasso</td>\n",
       "      <td>0.150214</td>\n",
       "    </tr>\n",
       "    <tr>\n",
       "      <th>17</th>\n",
       "      <td>model_year</td>\n",
       "      <td>lasso</td>\n",
       "      <td>2.718031</td>\n",
       "    </tr>\n",
       "  </tbody>\n",
       "</table>\n",
       "</div>"
      ],
      "text/plain": [
       "         feature variable     value\n",
       "0      cylinders   linreg -0.607733\n",
       "1   displacement   linreg  1.156869\n",
       "2     horsepower   linreg  0.645830\n",
       "3         weight   linreg -6.640960\n",
       "4   acceleration   linreg  0.541586\n",
       "5     model_year   linreg  2.867409\n",
       "6      cylinders    ridge -0.581693\n",
       "7   displacement    ridge  0.920962\n",
       "8     horsepower    ridge  0.520822\n",
       "9         weight    ridge -6.352750\n",
       "10  acceleration    ridge  0.470407\n",
       "11    model_year    ridge  2.836947\n",
       "12     cylinders    lasso -0.018285\n",
       "13  displacement    lasso -0.000000\n",
       "14    horsepower    lasso  0.000000\n",
       "15        weight    lasso -5.661313\n",
       "16  acceleration    lasso  0.150214\n",
       "17    model_year    lasso  2.718031"
      ]
     },
     "execution_count": 28,
     "metadata": {},
     "output_type": "execute_result"
    }
   ],
   "source": [
    "melted = df_coef.melt(id_vars='feature')\n",
    "melted"
   ]
  },
  {
   "cell_type": "code",
   "execution_count": 29,
   "id": "muslim-texture",
   "metadata": {
    "execution": {
     "iopub.execute_input": "2021-04-19T04:23:50.619989Z",
     "iopub.status.busy": "2021-04-19T04:23:50.619542Z",
     "iopub.status.idle": "2021-04-19T04:23:50.799646Z",
     "shell.execute_reply": "2021-04-19T04:23:50.799351Z",
     "shell.execute_reply.started": "2021-04-19T04:23:50.619946Z"
    }
   },
   "outputs": [
    {
     "data": {
      "text/plain": [
       "<AxesSubplot:xlabel='feature', ylabel='value'>"
      ]
     },
     "execution_count": 29,
     "metadata": {},
     "output_type": "execute_result"
    },
    {
     "data": {
      "image/png": "[encoded data removed]",
      "text/plain": [
       "<Figure size 1080x720 with 1 Axes>"
      ]
     },
     "metadata": {},
     "output_type": "display_data"
    }
   ],
   "source": [
    "fig, ax = plt.subplots(figsize=(15,10))\n",
    "sns.barplot(x='feature', y='value', hue='variable', data=melted, ax=ax)"
   ]
  },
  {
   "cell_type": "code",
   "execution_count": null,
   "id": "connected-latitude",
   "metadata": {},
   "outputs": [],
   "source": []
  },
  {
   "cell_type": "code",
   "execution_count": null,
   "id": "boring-filename",
   "metadata": {},
   "outputs": [],
   "source": []
  },
  {
   "cell_type": "code",
   "execution_count": 30,
   "id": "artistic-fabric",
   "metadata": {
    "execution": {
     "iopub.execute_input": "2021-04-19T04:23:53.280851Z",
     "iopub.status.busy": "2021-04-19T04:23:53.280181Z",
     "iopub.status.idle": "2021-04-19T04:23:53.352901Z",
     "shell.execute_reply": "2021-04-19T04:23:53.352427Z",
     "shell.execute_reply.started": "2021-04-19T04:23:53.280782Z"
    },
    "tags": []
   },
   "outputs": [],
   "source": [
    "from yellowbrick.regressor import AlphaSelection\n",
    "from yellowbrick.regressor.alphas import alphas"
   ]
  },
  {
   "cell_type": "code",
   "execution_count": 32,
   "id": "substantial-andorra",
   "metadata": {
    "execution": {
     "iopub.execute_input": "2021-04-19T04:24:21.888740Z",
     "iopub.status.busy": "2021-04-19T04:24:21.888093Z",
     "iopub.status.idle": "2021-04-19T04:24:22.162373Z",
     "shell.execute_reply": "2021-04-19T04:24:22.162051Z",
     "shell.execute_reply.started": "2021-04-19T04:24:21.888672Z"
    },
    "tags": []
   },
   "outputs": [
    {
     "data": {
      "image/png": "[encoded data removed]",
      "text/plain": [
       "<Figure size 576x396 with 1 Axes>"
      ]
     },
     "metadata": {},
     "output_type": "display_data"
    },
    {
     "name": "stdout",
     "output_type": "stream",
     "text": [
      "dict_keys(['ax', 'estimator', 'is_fitted']) \n",
      "\n",
      "\n",
      "dict_keys(['ax', 'estimator', 'is_fitted']) \n",
      "\n",
      "\n"
     ]
    },
    {
     "data": {
      "text/plain": [
       "AlphaSelection(ax=<AxesSubplot:title={'center':'LassoCV Alpha Error'}, xlabel='alpha', ylabel='error (or score)'>,\n",
       "               estimator=LassoCV(random_state=0))"
      ]
     },
     "execution_count": 32,
     "metadata": {},
     "output_type": "execute_result"
    }
   ],
   "source": [
    "alphas(LassoCV(random_state=0), x_train_processed, y_train)"
   ]
  },
  {
   "cell_type": "code",
   "execution_count": null,
   "id": "absent-newport",
   "metadata": {},
   "outputs": [],
   "source": []
  },
  {
   "cell_type": "code",
   "execution_count": 33,
   "id": "relative-reach",
   "metadata": {
    "execution": {
     "iopub.execute_input": "2021-04-19T04:24:28.683241Z",
     "iopub.status.busy": "2021-04-19T04:24:28.682500Z",
     "iopub.status.idle": "2021-04-19T04:24:28.976498Z",
     "shell.execute_reply": "2021-04-19T04:24:28.976113Z",
     "shell.execute_reply.started": "2021-04-19T04:24:28.683168Z"
    }
   },
   "outputs": [
    {
     "data": {
      "image/png": "[encoded data removed]",
      "text/plain": [
       "<Figure size 576x396 with 1 Axes>"
      ]
     },
     "metadata": {},
     "output_type": "display_data"
    },
    {
     "data": {
      "text/plain": [
       "<AxesSubplot:title={'center':'LassoCV Alpha Error'}, xlabel='alpha', ylabel='error (or score)'>"
      ]
     },
     "execution_count": 33,
     "metadata": {},
     "output_type": "execute_result"
    }
   ],
   "source": [
    "alphas = np.logspace(-3, -1, 400)\n",
    "# Instantiate the linear model and visualizer\n",
    "model = LassoCV(alphas=alphas, max_iter=100000, n_jobs=6, random_state=264)\n",
    "visualizer = AlphaSelection(model)\n",
    "visualizer.fit(x_train_processed, y_train)\n",
    "visualizer.show()\n"
   ]
  },
  {
   "cell_type": "code",
   "execution_count": null,
   "id": "postal-democrat",
   "metadata": {},
   "outputs": [],
   "source": []
  }
 ],
 "metadata": {
  "kernelspec": {
   "display_name": "Python 3",
   "language": "python",
   "name": "python3"
  },
  "language_info": {
   "codemirror_mode": {
    "name": "ipython",
    "version": 3
   },
   "file_extension": ".py",
   "mimetype": "text/x-python",
   "name": "python",
   "nbconvert_exporter": "python",
   "pygments_lexer": "ipython3",
   "version": "3.8.8"
  }
 },
 "nbformat": 4,
 "nbformat_minor": 5
}
