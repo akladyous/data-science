{
 "cells": [
  {
   "cell_type": "code",
   "execution_count": 17,
   "id": "leading-conclusion",
   "metadata": {},
   "outputs": [],
   "source": [
    "import matplotlib.pyplot as plt\n",
    "import numpy as np"
   ]
  },
  {
   "cell_type": "code",
   "execution_count": 1,
   "id": "existing-brand",
   "metadata": {},
   "outputs": [],
   "source": [
    "from sklearn.datasets import make_regression"
   ]
  },
  {
   "cell_type": "code",
   "execution_count": 105,
   "id": "advised-penny",
   "metadata": {},
   "outputs": [],
   "source": [
    "x, y = make_regression(n_samples=25, n_features=2, noise=5, random_state=67)"
   ]
  },
  {
   "cell_type": "code",
   "execution_count": 99,
   "id": "amber-ordering",
   "metadata": {},
   "outputs": [
    {
     "name": "stdout",
     "output_type": "stream",
     "text": [
      "<class 'numpy.ndarray'> (25, 2)\n"
     ]
    }
   ],
   "source": [
    "print(type(x), x.shape)"
   ]
  },
  {
   "cell_type": "code",
   "execution_count": 100,
   "id": "comic-demand",
   "metadata": {},
   "outputs": [
    {
     "name": "stdout",
     "output_type": "stream",
     "text": [
      "<class 'numpy.ndarray'> (25,)\n"
     ]
    }
   ],
   "source": [
    "print(type(y), y.shape)"
   ]
  },
  {
   "cell_type": "code",
   "execution_count": 101,
   "id": "whole-movie",
   "metadata": {},
   "outputs": [],
   "source": [
    "xi1, xi2 = x.transpose()"
   ]
  },
  {
   "cell_type": "code",
   "execution_count": 102,
   "id": "covered-caution",
   "metadata": {},
   "outputs": [
    {
     "data": {
      "text/plain": [
       "[Text(0.5, 1.0, 'SKlearn MakeRegression : Noise = 5'),\n",
       " Text(0.5, 0, 'Features'),\n",
       " Text(0, 0.5, 'Target')]"
      ]
     },
     "execution_count": 102,
     "metadata": {},
     "output_type": "execute_result"
    },
    {
     "data": {
      "image/png": "[encoded data removed]",
      "text/plain": [
       "<Figure size 432x288 with 1 Axes>"
      ]
     },
     "metadata": {
      "needs_background": "light"
     },
     "output_type": "display_data"
    }
   ],
   "source": [
    "fig,ax = plt.subplots()\n",
    "ax.scatter(xi1,y, color='red')\n",
    "ax.scatter(xi2,y, color='green')\n",
    "ax.set(title='SKlearn MakeRegression : Noise = 5',\n",
    "    xlabel='Features',\n",
    "    ylabel='Target')"
   ]
  },
  {
   "cell_type": "code",
   "execution_count": null,
   "id": "beginning-aggregate",
   "metadata": {},
   "outputs": [],
   "source": []
  }
 ],
 "metadata": {
  "kernelspec": {
   "display_name": "Python 3",
   "language": "python",
   "name": "python3"
  },
  "language_info": {
   "codemirror_mode": {
    "name": "ipython",
    "version": 3
   },
   "file_extension": ".py",
   "mimetype": "text/x-python",
   "name": "python",
   "nbconvert_exporter": "python",
   "pygments_lexer": "ipython3",
   "version": "3.8.8"
  }
 },
 "nbformat": 4,
 "nbformat_minor": 5
}
