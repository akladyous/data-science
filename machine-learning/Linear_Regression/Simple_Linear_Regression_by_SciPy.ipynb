{
 "cells": [
  {
   "cell_type": "code",
   "execution_count": 1,
   "id": "direct-flash",
   "metadata": {},
   "outputs": [],
   "source": [
    "import numpy as np\n",
    "import pandas as pd\n",
    "import matplotlib.pyplot as plt\n",
    "from scipy import stats\n",
    "%matplotlib inline"
   ]
  },
  {
   "cell_type": "code",
   "execution_count": 2,
   "id": "quiet-delicious",
   "metadata": {},
   "outputs": [],
   "source": [
    "np.random.seed(5)\n",
    "x = np.arange(20, 60) # AGEs \n",
    "y = np.sort(np.random.randint(25000, 35000, size=40))# INCOMEs"
   ]
  },
  {
   "cell_type": "code",
   "execution_count": 3,
   "id": "loved-grill",
   "metadata": {},
   "outputs": [],
   "source": [
    "result = stats.linregress(x,y)"
   ]
  },
  {
   "cell_type": "code",
   "execution_count": 9,
   "id": "naval-transfer",
   "metadata": {},
   "outputs": [],
   "source": [
    "r_squared, p_value = stats.pearsonr(x,y)"
   ]
  },
  {
   "cell_type": "code",
   "execution_count": 12,
   "id": "bright-consumer",
   "metadata": {},
   "outputs": [
    {
     "name": "stdout",
     "output_type": "stream",
     "text": [
      "intercept\t 19356.832926829265\n",
      "Slope\t\t 258.02195121951223\n",
      "R Squared\t 0.975034175199893\n"
     ]
    }
   ],
   "source": [
    "print(f\"intercept\\t {result.intercept}\\nSlope\\t\\t {result.slope}\\nR Squared\\t {r_squared}\")"
   ]
  },
  {
   "cell_type": "markdown",
   "id": "random-float",
   "metadata": {},
   "source": [
    "$$income = \\beta_0 + \\beta_1 * \\text{age}$$"
   ]
  },
  {
   "cell_type": "markdown",
   "id": "through-guess",
   "metadata": {},
   "source": [
    "$$\\hat{y}=\\hat m x+ \\hat{c}$$ or $$\\hat y = \\hat \\beta_0+ \\hat \\beta_1 x $$"
   ]
  },
  {
   "cell_type": "code",
   "execution_count": 13,
   "id": "hydraulic-aspect",
   "metadata": {},
   "outputs": [],
   "source": [
    "y_hat = result.intercept + result.slope * x"
   ]
  },
  {
   "cell_type": "code",
   "execution_count": 14,
   "id": "ultimate-frontier",
   "metadata": {},
   "outputs": [
    {
     "data": {
      "image/png": "[encoded data removed]",
      "text/plain": [
       "<Figure size 432x288 with 1 Axes>"
      ]
     },
     "metadata": {
      "needs_background": "light"
     },
     "output_type": "display_data"
    }
   ],
   "source": [
    "plt.plot(x, y, 'o', label='original data')\n",
    "plt.plot(x, y_hat, 'r', label='fitted line')\n",
    "plt.legend()\n",
    "plt.show()"
   ]
  },
  {
   "cell_type": "code",
   "execution_count": null,
   "id": "bacterial-delivery",
   "metadata": {},
   "outputs": [],
   "source": []
  }
 ],
 "metadata": {
  "kernelspec": {
   "display_name": "Python 3",
   "language": "python",
   "name": "python3"
  },
  "language_info": {
   "codemirror_mode": {
    "name": "ipython",
    "version": 3
   },
   "file_extension": ".py",
   "mimetype": "text/x-python",
   "name": "python",
   "nbconvert_exporter": "python",
   "pygments_lexer": "ipython3",
   "version": "3.8.8"
  }
 },
 "nbformat": 4,
 "nbformat_minor": 5
}
