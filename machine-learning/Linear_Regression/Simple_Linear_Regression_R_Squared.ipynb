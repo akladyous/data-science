{
 "cells": [
  {
   "cell_type": "code",
   "execution_count": 64,
   "id": "reduced-melissa",
   "metadata": {},
   "outputs": [],
   "source": [
    "import numpy as np\n",
    "from scipy import stats"
   ]
  },
  {
   "cell_type": "code",
   "execution_count": 12,
   "id": "vietnamese-holmes",
   "metadata": {},
   "outputs": [],
   "source": [
    "np.random.seed(5)\n",
    "x = np.arange(20, 60) # AGEs \n",
    "y = np.sort(np.random.randint(25000, 35000, size=40))# INCOMEs"
   ]
  },
  {
   "cell_type": "code",
   "execution_count": 63,
   "id": "velvet-alignment",
   "metadata": {},
   "outputs": [],
   "source": [
    "result = stats.linregress(x,y)\n",
    "y_hat = result.intercept + result.slope * x"
   ]
  },
  {
   "cell_type": "markdown",
   "id": "interior-network",
   "metadata": {},
   "source": [
    "$$ \\small SSE = \\sum_i(y_i - \\hat y_i)^2 $$\n"
   ]
  },
  {
   "cell_type": "code",
   "execution_count": 56,
   "id": "nonprofit-pursuit",
   "metadata": {},
   "outputs": [],
   "source": [
    "sse=np.sum((y-y_hat)**2)"
   ]
  },
  {
   "cell_type": "markdown",
   "id": "straight-cookbook",
   "metadata": {},
   "source": [
    "$$ \\small SST = \\sum_i(y_i - \\overline y_i)^2 $$"
   ]
  },
  {
   "cell_type": "code",
   "execution_count": 57,
   "id": "faced-fountain",
   "metadata": {},
   "outputs": [],
   "source": [
    "sst=np.sum((y-np.mean(y))**2)"
   ]
  },
  {
   "cell_type": "markdown",
   "id": "indie-salad",
   "metadata": {},
   "source": [
    "$$ \\large R^2 = 1- \\dfrac{SS_{RES}}{SS_{TOT}} = 1 - \\dfrac{\\sum_i(y_i - \\hat y_i)^2}{\\sum_i(y_i - \\overline y_i)^2} $$"
   ]
  },
  {
   "cell_type": "code",
   "execution_count": 60,
   "id": "aerial-criterion",
   "metadata": {},
   "outputs": [
    {
     "data": {
      "text/plain": [
       "0.950691642807735"
      ]
     },
     "execution_count": 60,
     "metadata": {},
     "output_type": "execute_result"
    }
   ],
   "source": [
    "r_squared = 1-sse/sst\n",
    "r_squared"
   ]
  },
  {
   "cell_type": "code",
   "execution_count": 62,
   "id": "ordinary-prayer",
   "metadata": {},
   "outputs": [
    {
     "data": {
      "text/plain": [
       "True"
      ]
     },
     "execution_count": 62,
     "metadata": {},
     "output_type": "execute_result"
    }
   ],
   "source": [
    "r_squared == (result.rvalue)**2"
   ]
  },
  {
   "cell_type": "code",
   "execution_count": null,
   "id": "muslim-crossing",
   "metadata": {},
   "outputs": [],
   "source": []
  }
 ],
 "metadata": {
  "kernelspec": {
   "display_name": "Python 3",
   "language": "python",
   "name": "python3"
  },
  "language_info": {
   "codemirror_mode": {
    "name": "ipython",
    "version": 3
   },
   "file_extension": ".py",
   "mimetype": "text/x-python",
   "name": "python",
   "nbconvert_exporter": "python",
   "pygments_lexer": "ipython3",
   "version": "3.8.8"
  }
 },
 "nbformat": 4,
 "nbformat_minor": 5
}
