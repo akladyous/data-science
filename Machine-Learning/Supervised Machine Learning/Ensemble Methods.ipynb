{
 "cells": [
  {
   "cell_type": "code",
   "execution_count": 1,
   "id": "western-pacific",
   "metadata": {
    "execution": {
     "iopub.execute_input": "2021-04-19T05:18:04.559060Z",
     "iopub.status.busy": "2021-04-19T05:18:04.558321Z",
     "iopub.status.idle": "2021-04-19T05:18:05.487365Z",
     "shell.execute_reply": "2021-04-19T05:18:05.486993Z",
     "shell.execute_reply.started": "2021-04-19T05:18:04.558885Z"
    },
    "tags": []
   },
   "outputs": [],
   "source": [
    "# import sys; sys.path.insert(0, '..')\n",
    "# import lib.functions\n",
    "#del sys.modules['functions']\n",
    "\n",
    "import pandas as pd\n",
    "import numpy as np\n",
    "from numpy.testing import assert_equal\n",
    "import matplotlib.pyplot as plt\n",
    "\n",
    "from xgboost import XGBClassifier\n",
    "\n",
    "from sklearn.utils import check_X_y\n",
    "from sklearn.model_selection import train_test_split, GridSearchCV, RepeatedStratifiedKFold\n",
    "from sklearn.preprocessing import OneHotEncoder, LabelEncoder\n",
    "from sklearn.tree import DecisionTreeClassifier\n",
    "from sklearn.svm import SVC\n",
    "from sklearn.ensemble import BaggingClassifier, RandomForestClassifier,StackingClassifier,\\\n",
    "                             VotingClassifier, AdaBoostClassifier, GradientBoostingClassifier\n",
    "\n",
    "from sklearn.metrics import confusion_matrix, plot_confusion_matrix, classification_report, \\\n",
    "                            accuracy_score, f1_score, log_loss,\\\n",
    "                            precision_recall_curve, roc_auc_score, auc\n",
    "\n",
    "from sklearn.naive_bayes import GaussianNB\n",
    "from sklearn.neighbors import KNeighborsClassifier\n",
    "from sklearn.linear_model import LogisticRegression, LinearRegression, RidgeCV, LassoCV\n"
   ]
  },
  {
   "cell_type": "code",
   "execution_count": 2,
   "id": "secondary-damages",
   "metadata": {
    "execution": {
     "iopub.execute_input": "2021-04-19T05:18:05.488432Z",
     "iopub.status.busy": "2021-04-19T05:18:05.488321Z",
     "iopub.status.idle": "2021-04-19T05:18:05.526284Z",
     "shell.execute_reply": "2021-04-19T05:18:05.525959Z",
     "shell.execute_reply.started": "2021-04-19T05:18:05.488419Z"
    },
    "tags": []
   },
   "outputs": [],
   "source": [
    "salaries = pd.read_csv('../../DataScience/data/salaries_final.csv.gz')"
   ]
  },
  {
   "cell_type": "code",
   "execution_count": 3,
   "id": "duplicate-function",
   "metadata": {
    "execution": {
     "iopub.execute_input": "2021-04-19T05:18:05.527466Z",
     "iopub.status.busy": "2021-04-19T05:18:05.527368Z",
     "iopub.status.idle": "2021-04-19T05:18:05.540120Z",
     "shell.execute_reply": "2021-04-19T05:18:05.539680Z",
     "shell.execute_reply.started": "2021-04-19T05:18:05.527453Z"
    },
    "tags": []
   },
   "outputs": [
    {
     "data": {
      "text/html": [
       "<div>\n",
       "<style scoped>\n",
       "    .dataframe tbody tr th:only-of-type {\n",
       "        vertical-align: middle;\n",
       "    }\n",
       "\n",
       "    .dataframe tbody tr th {\n",
       "        vertical-align: top;\n",
       "    }\n",
       "\n",
       "    .dataframe thead th {\n",
       "        text-align: right;\n",
       "    }\n",
       "</style>\n",
       "<table border=\"1\" class=\"dataframe\">\n",
       "  <thead>\n",
       "    <tr style=\"text-align: right;\">\n",
       "      <th></th>\n",
       "      <th>Age</th>\n",
       "      <th>Education</th>\n",
       "      <th>Occupation</th>\n",
       "      <th>Relationship</th>\n",
       "      <th>Race</th>\n",
       "      <th>Sex</th>\n",
       "      <th>Target</th>\n",
       "    </tr>\n",
       "  </thead>\n",
       "  <tbody>\n",
       "    <tr>\n",
       "      <th>0</th>\n",
       "      <td>39</td>\n",
       "      <td>Bachelors</td>\n",
       "      <td>Adm-clerical</td>\n",
       "      <td>Not-in-family</td>\n",
       "      <td>White</td>\n",
       "      <td>Male</td>\n",
       "      <td>&lt;=50K</td>\n",
       "    </tr>\n",
       "    <tr>\n",
       "      <th>1</th>\n",
       "      <td>50</td>\n",
       "      <td>Bachelors</td>\n",
       "      <td>Exec-managerial</td>\n",
       "      <td>Husband</td>\n",
       "      <td>White</td>\n",
       "      <td>Male</td>\n",
       "      <td>&lt;=50K</td>\n",
       "    </tr>\n",
       "    <tr>\n",
       "      <th>2</th>\n",
       "      <td>38</td>\n",
       "      <td>HS-grad</td>\n",
       "      <td>Handlers-cleaners</td>\n",
       "      <td>Not-in-family</td>\n",
       "      <td>White</td>\n",
       "      <td>Male</td>\n",
       "      <td>&lt;=50K</td>\n",
       "    </tr>\n",
       "    <tr>\n",
       "      <th>3</th>\n",
       "      <td>53</td>\n",
       "      <td>11th</td>\n",
       "      <td>Handlers-cleaners</td>\n",
       "      <td>Husband</td>\n",
       "      <td>Black</td>\n",
       "      <td>Male</td>\n",
       "      <td>&lt;=50K</td>\n",
       "    </tr>\n",
       "    <tr>\n",
       "      <th>4</th>\n",
       "      <td>28</td>\n",
       "      <td>Bachelors</td>\n",
       "      <td>Prof-specialty</td>\n",
       "      <td>Wife</td>\n",
       "      <td>Black</td>\n",
       "      <td>Female</td>\n",
       "      <td>&lt;=50K</td>\n",
       "    </tr>\n",
       "    <tr>\n",
       "      <th>...</th>\n",
       "      <td>...</td>\n",
       "      <td>...</td>\n",
       "      <td>...</td>\n",
       "      <td>...</td>\n",
       "      <td>...</td>\n",
       "      <td>...</td>\n",
       "      <td>...</td>\n",
       "    </tr>\n",
       "    <tr>\n",
       "      <th>32556</th>\n",
       "      <td>27</td>\n",
       "      <td>Assoc-acdm</td>\n",
       "      <td>Tech-support</td>\n",
       "      <td>Wife</td>\n",
       "      <td>White</td>\n",
       "      <td>Female</td>\n",
       "      <td>&lt;=50K</td>\n",
       "    </tr>\n",
       "    <tr>\n",
       "      <th>32557</th>\n",
       "      <td>40</td>\n",
       "      <td>HS-grad</td>\n",
       "      <td>Machine-op-inspct</td>\n",
       "      <td>Husband</td>\n",
       "      <td>White</td>\n",
       "      <td>Male</td>\n",
       "      <td>&gt;50K</td>\n",
       "    </tr>\n",
       "    <tr>\n",
       "      <th>32558</th>\n",
       "      <td>58</td>\n",
       "      <td>HS-grad</td>\n",
       "      <td>Adm-clerical</td>\n",
       "      <td>Unmarried</td>\n",
       "      <td>White</td>\n",
       "      <td>Female</td>\n",
       "      <td>&lt;=50K</td>\n",
       "    </tr>\n",
       "    <tr>\n",
       "      <th>32559</th>\n",
       "      <td>22</td>\n",
       "      <td>HS-grad</td>\n",
       "      <td>Adm-clerical</td>\n",
       "      <td>Own-child</td>\n",
       "      <td>White</td>\n",
       "      <td>Male</td>\n",
       "      <td>&lt;=50K</td>\n",
       "    </tr>\n",
       "    <tr>\n",
       "      <th>32560</th>\n",
       "      <td>52</td>\n",
       "      <td>HS-grad</td>\n",
       "      <td>Exec-managerial</td>\n",
       "      <td>Wife</td>\n",
       "      <td>White</td>\n",
       "      <td>Female</td>\n",
       "      <td>&gt;50K</td>\n",
       "    </tr>\n",
       "  </tbody>\n",
       "</table>\n",
       "<p>32561 rows × 7 columns</p>\n",
       "</div>"
      ],
      "text/plain": [
       "       Age   Education         Occupation   Relationship   Race     Sex Target\n",
       "0       39   Bachelors       Adm-clerical  Not-in-family  White    Male  <=50K\n",
       "1       50   Bachelors    Exec-managerial        Husband  White    Male  <=50K\n",
       "2       38     HS-grad  Handlers-cleaners  Not-in-family  White    Male  <=50K\n",
       "3       53        11th  Handlers-cleaners        Husband  Black    Male  <=50K\n",
       "4       28   Bachelors     Prof-specialty           Wife  Black  Female  <=50K\n",
       "...    ...         ...                ...            ...    ...     ...    ...\n",
       "32556   27  Assoc-acdm       Tech-support           Wife  White  Female  <=50K\n",
       "32557   40     HS-grad  Machine-op-inspct        Husband  White    Male   >50K\n",
       "32558   58     HS-grad       Adm-clerical      Unmarried  White  Female  <=50K\n",
       "32559   22     HS-grad       Adm-clerical      Own-child  White    Male  <=50K\n",
       "32560   52     HS-grad    Exec-managerial           Wife  White  Female   >50K\n",
       "\n",
       "[32561 rows x 7 columns]"
      ]
     },
     "execution_count": 3,
     "metadata": {},
     "output_type": "execute_result"
    }
   ],
   "source": [
    "salaries"
   ]
  },
  {
   "cell_type": "code",
   "execution_count": 4,
   "id": "agricultural-limitation",
   "metadata": {
    "execution": {
     "iopub.execute_input": "2021-04-19T05:18:05.541757Z",
     "iopub.status.busy": "2021-04-19T05:18:05.541499Z",
     "iopub.status.idle": "2021-04-19T05:18:05.553681Z",
     "shell.execute_reply": "2021-04-19T05:18:05.553324Z",
     "shell.execute_reply.started": "2021-04-19T05:18:05.541731Z"
    },
    "tags": []
   },
   "outputs": [
    {
     "data": {
      "text/plain": [
       "array(['<=50K', '>50K'], dtype=object)"
      ]
     },
     "execution_count": 4,
     "metadata": {},
     "output_type": "execute_result"
    }
   ],
   "source": [
    "salaries.Target.unique()"
   ]
  },
  {
   "cell_type": "code",
   "execution_count": 5,
   "id": "linear-grain",
   "metadata": {
    "execution": {
     "iopub.execute_input": "2021-04-19T05:18:05.554423Z",
     "iopub.status.busy": "2021-04-19T05:18:05.554325Z",
     "iopub.status.idle": "2021-04-19T05:18:05.590003Z",
     "shell.execute_reply": "2021-04-19T05:18:05.589308Z",
     "shell.execute_reply.started": "2021-04-19T05:18:05.554410Z"
    },
    "tags": []
   },
   "outputs": [],
   "source": [
    "salaries_cat = salaries[['Education', 'Occupation', 'Relationship','Race', 'Sex']]"
   ]
  },
  {
   "cell_type": "code",
   "execution_count": 6,
   "id": "awful-nightlife",
   "metadata": {
    "execution": {
     "iopub.execute_input": "2021-04-19T05:18:05.591460Z",
     "iopub.status.busy": "2021-04-19T05:18:05.591003Z",
     "iopub.status.idle": "2021-04-19T05:18:05.628189Z",
     "shell.execute_reply": "2021-04-19T05:18:05.627499Z",
     "shell.execute_reply.started": "2021-04-19T05:18:05.591439Z"
    },
    "tags": []
   },
   "outputs": [],
   "source": [
    "ohe = OneHotEncoder(handle_unknown='ignore')\n",
    "\n",
    "encoded = ohe.fit_transform(salaries_cat).toarray()"
   ]
  },
  {
   "cell_type": "code",
   "execution_count": 7,
   "id": "outer-jacket",
   "metadata": {
    "execution": {
     "iopub.execute_input": "2021-04-19T05:18:05.628997Z",
     "iopub.status.busy": "2021-04-19T05:18:05.628862Z",
     "iopub.status.idle": "2021-04-19T05:18:05.641736Z",
     "shell.execute_reply": "2021-04-19T05:18:05.641324Z",
     "shell.execute_reply.started": "2021-04-19T05:18:05.628983Z"
    },
    "tags": []
   },
   "outputs": [],
   "source": [
    "dummy = pd.DataFrame(encoded, columns=ohe.get_feature_names(salaries_cat.columns))\n",
    "df = pd.concat([salaries['Age'], dummy, salaries['Target']], axis=1)\n",
    "del dummy, salaries_cat, salaries"
   ]
  },
  {
   "cell_type": "code",
   "execution_count": 8,
   "id": "tired-sheep",
   "metadata": {
    "execution": {
     "iopub.execute_input": "2021-04-19T05:18:05.644018Z",
     "iopub.status.busy": "2021-04-19T05:18:05.643618Z",
     "iopub.status.idle": "2021-04-19T05:18:05.652940Z",
     "shell.execute_reply": "2021-04-19T05:18:05.652204Z",
     "shell.execute_reply.started": "2021-04-19T05:18:05.643962Z"
    },
    "tags": []
   },
   "outputs": [
    {
     "data": {
      "text/plain": [
       "array(['<=50K', '>50K'], dtype=object)"
      ]
     },
     "execution_count": 8,
     "metadata": {},
     "output_type": "execute_result"
    }
   ],
   "source": [
    "le = LabelEncoder()\n",
    "\n",
    "target_encoded = le.fit_transform(df.Target)\n",
    "le.classes_"
   ]
  },
  {
   "cell_type": "code",
   "execution_count": 9,
   "id": "meaning-cricket",
   "metadata": {
    "execution": {
     "iopub.execute_input": "2021-04-19T05:18:05.736904Z",
     "iopub.status.busy": "2021-04-19T05:18:05.736746Z",
     "iopub.status.idle": "2021-04-19T05:18:05.753934Z",
     "shell.execute_reply": "2021-04-19T05:18:05.753534Z",
     "shell.execute_reply.started": "2021-04-19T05:18:05.736889Z"
    },
    "tags": []
   },
   "outputs": [
    {
     "data": {
      "text/html": [
       "<div>\n",
       "<style scoped>\n",
       "    .dataframe tbody tr th:only-of-type {\n",
       "        vertical-align: middle;\n",
       "    }\n",
       "\n",
       "    .dataframe tbody tr th {\n",
       "        vertical-align: top;\n",
       "    }\n",
       "\n",
       "    .dataframe thead th {\n",
       "        text-align: right;\n",
       "    }\n",
       "</style>\n",
       "<table border=\"1\" class=\"dataframe\">\n",
       "  <thead>\n",
       "    <tr style=\"text-align: right;\">\n",
       "      <th></th>\n",
       "      <th>Age</th>\n",
       "      <th>Education_10th</th>\n",
       "      <th>Education_11th</th>\n",
       "      <th>Education_12th</th>\n",
       "      <th>Education_1st-4th</th>\n",
       "      <th>Education_5th-6th</th>\n",
       "      <th>Education_7th-8th</th>\n",
       "      <th>Education_9th</th>\n",
       "      <th>Education_Assoc-acdm</th>\n",
       "      <th>Education_Assoc-voc</th>\n",
       "      <th>...</th>\n",
       "      <th>Relationship_Unmarried</th>\n",
       "      <th>Relationship_Wife</th>\n",
       "      <th>Race_Amer-Indian-Eskimo</th>\n",
       "      <th>Race_Asian-Pac-Islander</th>\n",
       "      <th>Race_Black</th>\n",
       "      <th>Race_Other</th>\n",
       "      <th>Race_White</th>\n",
       "      <th>Sex_Female</th>\n",
       "      <th>Sex_Male</th>\n",
       "      <th>Target</th>\n",
       "    </tr>\n",
       "  </thead>\n",
       "  <tbody>\n",
       "    <tr>\n",
       "      <th>0</th>\n",
       "      <td>39</td>\n",
       "      <td>0.0</td>\n",
       "      <td>0.0</td>\n",
       "      <td>0.0</td>\n",
       "      <td>0.0</td>\n",
       "      <td>0.0</td>\n",
       "      <td>0.0</td>\n",
       "      <td>0.0</td>\n",
       "      <td>0.0</td>\n",
       "      <td>0.0</td>\n",
       "      <td>...</td>\n",
       "      <td>0.0</td>\n",
       "      <td>0.0</td>\n",
       "      <td>0.0</td>\n",
       "      <td>0.0</td>\n",
       "      <td>0.0</td>\n",
       "      <td>0.0</td>\n",
       "      <td>1.0</td>\n",
       "      <td>0.0</td>\n",
       "      <td>1.0</td>\n",
       "      <td>&lt;=50K</td>\n",
       "    </tr>\n",
       "    <tr>\n",
       "      <th>1</th>\n",
       "      <td>50</td>\n",
       "      <td>0.0</td>\n",
       "      <td>0.0</td>\n",
       "      <td>0.0</td>\n",
       "      <td>0.0</td>\n",
       "      <td>0.0</td>\n",
       "      <td>0.0</td>\n",
       "      <td>0.0</td>\n",
       "      <td>0.0</td>\n",
       "      <td>0.0</td>\n",
       "      <td>...</td>\n",
       "      <td>0.0</td>\n",
       "      <td>0.0</td>\n",
       "      <td>0.0</td>\n",
       "      <td>0.0</td>\n",
       "      <td>0.0</td>\n",
       "      <td>0.0</td>\n",
       "      <td>1.0</td>\n",
       "      <td>0.0</td>\n",
       "      <td>1.0</td>\n",
       "      <td>&lt;=50K</td>\n",
       "    </tr>\n",
       "    <tr>\n",
       "      <th>2</th>\n",
       "      <td>38</td>\n",
       "      <td>0.0</td>\n",
       "      <td>0.0</td>\n",
       "      <td>0.0</td>\n",
       "      <td>0.0</td>\n",
       "      <td>0.0</td>\n",
       "      <td>0.0</td>\n",
       "      <td>0.0</td>\n",
       "      <td>0.0</td>\n",
       "      <td>0.0</td>\n",
       "      <td>...</td>\n",
       "      <td>0.0</td>\n",
       "      <td>0.0</td>\n",
       "      <td>0.0</td>\n",
       "      <td>0.0</td>\n",
       "      <td>0.0</td>\n",
       "      <td>0.0</td>\n",
       "      <td>1.0</td>\n",
       "      <td>0.0</td>\n",
       "      <td>1.0</td>\n",
       "      <td>&lt;=50K</td>\n",
       "    </tr>\n",
       "    <tr>\n",
       "      <th>3</th>\n",
       "      <td>53</td>\n",
       "      <td>0.0</td>\n",
       "      <td>1.0</td>\n",
       "      <td>0.0</td>\n",
       "      <td>0.0</td>\n",
       "      <td>0.0</td>\n",
       "      <td>0.0</td>\n",
       "      <td>0.0</td>\n",
       "      <td>0.0</td>\n",
       "      <td>0.0</td>\n",
       "      <td>...</td>\n",
       "      <td>0.0</td>\n",
       "      <td>0.0</td>\n",
       "      <td>0.0</td>\n",
       "      <td>0.0</td>\n",
       "      <td>1.0</td>\n",
       "      <td>0.0</td>\n",
       "      <td>0.0</td>\n",
       "      <td>0.0</td>\n",
       "      <td>1.0</td>\n",
       "      <td>&lt;=50K</td>\n",
       "    </tr>\n",
       "    <tr>\n",
       "      <th>4</th>\n",
       "      <td>28</td>\n",
       "      <td>0.0</td>\n",
       "      <td>0.0</td>\n",
       "      <td>0.0</td>\n",
       "      <td>0.0</td>\n",
       "      <td>0.0</td>\n",
       "      <td>0.0</td>\n",
       "      <td>0.0</td>\n",
       "      <td>0.0</td>\n",
       "      <td>0.0</td>\n",
       "      <td>...</td>\n",
       "      <td>0.0</td>\n",
       "      <td>1.0</td>\n",
       "      <td>0.0</td>\n",
       "      <td>0.0</td>\n",
       "      <td>1.0</td>\n",
       "      <td>0.0</td>\n",
       "      <td>0.0</td>\n",
       "      <td>1.0</td>\n",
       "      <td>0.0</td>\n",
       "      <td>&lt;=50K</td>\n",
       "    </tr>\n",
       "  </tbody>\n",
       "</table>\n",
       "<p>5 rows × 46 columns</p>\n",
       "</div>"
      ],
      "text/plain": [
       "   Age  Education_10th  Education_11th  Education_12th  Education_1st-4th  \\\n",
       "0   39             0.0             0.0             0.0                0.0   \n",
       "1   50             0.0             0.0             0.0                0.0   \n",
       "2   38             0.0             0.0             0.0                0.0   \n",
       "3   53             0.0             1.0             0.0                0.0   \n",
       "4   28             0.0             0.0             0.0                0.0   \n",
       "\n",
       "   Education_5th-6th  Education_7th-8th  Education_9th  Education_Assoc-acdm  \\\n",
       "0                0.0                0.0            0.0                   0.0   \n",
       "1                0.0                0.0            0.0                   0.0   \n",
       "2                0.0                0.0            0.0                   0.0   \n",
       "3                0.0                0.0            0.0                   0.0   \n",
       "4                0.0                0.0            0.0                   0.0   \n",
       "\n",
       "   Education_Assoc-voc  ...  Relationship_Unmarried  Relationship_Wife  \\\n",
       "0                  0.0  ...                     0.0                0.0   \n",
       "1                  0.0  ...                     0.0                0.0   \n",
       "2                  0.0  ...                     0.0                0.0   \n",
       "3                  0.0  ...                     0.0                0.0   \n",
       "4                  0.0  ...                     0.0                1.0   \n",
       "\n",
       "   Race_Amer-Indian-Eskimo  Race_Asian-Pac-Islander  Race_Black  Race_Other  \\\n",
       "0                      0.0                      0.0         0.0         0.0   \n",
       "1                      0.0                      0.0         0.0         0.0   \n",
       "2                      0.0                      0.0         0.0         0.0   \n",
       "3                      0.0                      0.0         1.0         0.0   \n",
       "4                      0.0                      0.0         1.0         0.0   \n",
       "\n",
       "   Race_White  Sex_Female  Sex_Male  Target  \n",
       "0         1.0         0.0       1.0   <=50K  \n",
       "1         1.0         0.0       1.0   <=50K  \n",
       "2         1.0         0.0       1.0   <=50K  \n",
       "3         0.0         0.0       1.0   <=50K  \n",
       "4         0.0         1.0       0.0   <=50K  \n",
       "\n",
       "[5 rows x 46 columns]"
      ]
     },
     "execution_count": 9,
     "metadata": {},
     "output_type": "execute_result"
    }
   ],
   "source": [
    "df.head()"
   ]
  },
  {
   "cell_type": "code",
   "execution_count": 10,
   "id": "bearing-pendant",
   "metadata": {
    "execution": {
     "iopub.execute_input": "2021-04-19T05:18:07.360786Z",
     "iopub.status.busy": "2021-04-19T05:18:07.360221Z",
     "iopub.status.idle": "2021-04-19T05:18:07.395764Z",
     "shell.execute_reply": "2021-04-19T05:18:07.395367Z",
     "shell.execute_reply.started": "2021-04-19T05:18:07.360721Z"
    },
    "tags": []
   },
   "outputs": [],
   "source": [
    "x_train, x_test, y_train, y_test = train_test_split(df.iloc[:,:-1], \n",
    "                                                    target_encoded, #df.iloc[:,-1]\n",
    "                                                    test_size=.3,\n",
    "                                                    stratify=target_encoded,\n",
    "                                                    random_state=3103)"
   ]
  },
  {
   "cell_type": "code",
   "execution_count": 11,
   "id": "instructional-stevens",
   "metadata": {
    "execution": {
     "iopub.execute_input": "2021-04-19T05:18:07.534216Z",
     "iopub.status.busy": "2021-04-19T05:18:07.533628Z",
     "iopub.status.idle": "2021-04-19T05:18:07.542150Z",
     "shell.execute_reply": "2021-04-19T05:18:07.540961Z",
     "shell.execute_reply.started": "2021-04-19T05:18:07.534151Z"
    },
    "tags": []
   },
   "outputs": [
    {
     "data": {
      "text/plain": [
       "((22792, 45), (9769, 45), (22792,), (9769,))"
      ]
     },
     "execution_count": 11,
     "metadata": {},
     "output_type": "execute_result"
    }
   ],
   "source": [
    "x_train.shape, x_test.shape, y_train.shape, y_test.shape"
   ]
  },
  {
   "cell_type": "code",
   "execution_count": 12,
   "id": "aggregate-heater",
   "metadata": {
    "execution": {
     "iopub.execute_input": "2021-04-19T05:18:07.663761Z",
     "iopub.status.busy": "2021-04-19T05:18:07.663195Z",
     "iopub.status.idle": "2021-04-19T05:18:07.682562Z",
     "shell.execute_reply": "2021-04-19T05:18:07.681766Z",
     "shell.execute_reply.started": "2021-04-19T05:18:07.663697Z"
    },
    "tags": []
   },
   "outputs": [
    {
     "data": {
      "text/plain": [
       "(array([[31.,  1.,  0., ...,  1.,  0.,  1.],\n",
       "        [45.,  0.,  0., ...,  0.,  0.,  1.],\n",
       "        [19.,  0.,  0., ...,  0.,  0.,  1.],\n",
       "        ...,\n",
       "        [50.,  0.,  0., ...,  1.,  1.,  0.],\n",
       "        [50.,  0.,  0., ...,  1.,  0.,  1.],\n",
       "        [41.,  0.,  0., ...,  1.,  0.,  1.]]),\n",
       " array([0, 1, 0, ..., 0, 1, 0]))"
      ]
     },
     "execution_count": 12,
     "metadata": {},
     "output_type": "execute_result"
    }
   ],
   "source": [
    "check_X_y(x_train, y_train)"
   ]
  },
  {
   "cell_type": "code",
   "execution_count": null,
   "id": "frank-judge",
   "metadata": {},
   "outputs": [],
   "source": []
  },
  {
   "cell_type": "code",
   "execution_count": null,
   "id": "voluntary-military",
   "metadata": {},
   "outputs": [],
   "source": []
  },
  {
   "cell_type": "markdown",
   "id": "electoral-oxide",
   "metadata": {},
   "source": [
    "## Voting Classifier using Sklearn"
   ]
  },
  {
   "cell_type": "code",
   "execution_count": 13,
   "id": "egyptian-forge",
   "metadata": {
    "execution": {
     "iopub.execute_input": "2021-04-19T05:18:08.236947Z",
     "iopub.status.busy": "2021-04-19T05:18:08.236293Z",
     "iopub.status.idle": "2021-04-19T05:18:08.241135Z",
     "shell.execute_reply": "2021-04-19T05:18:08.240226Z",
     "shell.execute_reply.started": "2021-04-19T05:18:08.236878Z"
    },
    "tags": []
   },
   "outputs": [],
   "source": [
    "classifiers = list()"
   ]
  },
  {
   "cell_type": "code",
   "execution_count": 14,
   "id": "average-grain",
   "metadata": {
    "execution": {
     "iopub.execute_input": "2021-04-19T05:18:09.256709Z",
     "iopub.status.busy": "2021-04-19T05:18:09.256382Z",
     "iopub.status.idle": "2021-04-19T05:18:09.261487Z",
     "shell.execute_reply": "2021-04-19T05:18:09.260672Z",
     "shell.execute_reply.started": "2021-04-19T05:18:09.256677Z"
    },
    "tags": []
   },
   "outputs": [],
   "source": [
    "classifiers.append(('DTC', DecisionTreeClassifier()))\n",
    "# classifiers.append(('svm', SVC(probability=True)))\n",
    "classifiers.append(('GNB', GaussianNB()))\n",
    "classifiers.append(('KNN', KNeighborsClassifier()))"
   ]
  },
  {
   "cell_type": "code",
   "execution_count": 15,
   "id": "biological-chorus",
   "metadata": {
    "execution": {
     "iopub.execute_input": "2021-04-19T05:18:09.400162Z",
     "iopub.status.busy": "2021-04-19T05:18:09.399847Z",
     "iopub.status.idle": "2021-04-19T05:18:09.404134Z",
     "shell.execute_reply": "2021-04-19T05:18:09.403140Z",
     "shell.execute_reply.started": "2021-04-19T05:18:09.400130Z"
    },
    "tags": []
   },
   "outputs": [],
   "source": [
    "vote = VotingClassifier(estimators=classifiers, voting='hard')"
   ]
  },
  {
   "cell_type": "code",
   "execution_count": 16,
   "id": "organic-projection",
   "metadata": {
    "execution": {
     "iopub.execute_input": "2021-04-19T05:18:09.535764Z",
     "iopub.status.busy": "2021-04-19T05:18:09.535455Z",
     "iopub.status.idle": "2021-04-19T05:18:09.645521Z",
     "shell.execute_reply": "2021-04-19T05:18:09.645159Z",
     "shell.execute_reply.started": "2021-04-19T05:18:09.535732Z"
    },
    "tags": []
   },
   "outputs": [
    {
     "data": {
      "text/plain": [
       "VotingClassifier(estimators=[('DTC', DecisionTreeClassifier()),\n",
       "                             ('GNB', GaussianNB()),\n",
       "                             ('KNN', KNeighborsClassifier())])"
      ]
     },
     "execution_count": 16,
     "metadata": {},
     "output_type": "execute_result"
    }
   ],
   "source": [
    "vote.fit(x_train, y_train)"
   ]
  },
  {
   "cell_type": "code",
   "execution_count": 17,
   "id": "spread-stuart",
   "metadata": {
    "execution": {
     "iopub.execute_input": "2021-04-19T05:18:09.646430Z",
     "iopub.status.busy": "2021-04-19T05:18:09.646330Z",
     "iopub.status.idle": "2021-04-19T05:18:13.671525Z",
     "shell.execute_reply": "2021-04-19T05:18:13.670961Z",
     "shell.execute_reply.started": "2021-04-19T05:18:09.646417Z"
    },
    "tags": []
   },
   "outputs": [],
   "source": [
    "y_pred_voting = vote.predict(x_test)"
   ]
  },
  {
   "cell_type": "code",
   "execution_count": 18,
   "id": "falling-commitment",
   "metadata": {
    "execution": {
     "iopub.execute_input": "2021-04-19T05:18:13.672845Z",
     "iopub.status.busy": "2021-04-19T05:18:13.672732Z",
     "iopub.status.idle": "2021-04-19T05:18:13.679901Z",
     "shell.execute_reply": "2021-04-19T05:18:13.679600Z",
     "shell.execute_reply.started": "2021-04-19T05:18:13.672832Z"
    },
    "tags": []
   },
   "outputs": [
    {
     "name": "stdout",
     "output_type": "stream",
     "text": [
      "Accuracy is 0.8034599242501791\n",
      "Log Loss is 6.788335333899725\n",
      "F1 Score is 6.788335333899725\n"
     ]
    }
   ],
   "source": [
    "print(f\"{'Accuracy is'} {accuracy_score(y_test, y_pred_voting)}\")\n",
    "print(f\"{'Log Loss is'} {log_loss(y_test, y_pred_voting)}\")\n",
    "print(f\"{'F1 Score is'} {log_loss(y_test, y_pred_voting)}\")"
   ]
  },
  {
   "cell_type": "code",
   "execution_count": 19,
   "id": "quantitative-blake",
   "metadata": {
    "execution": {
     "iopub.execute_input": "2021-04-19T05:18:13.680818Z",
     "iopub.status.busy": "2021-04-19T05:18:13.680717Z",
     "iopub.status.idle": "2021-04-19T05:18:17.426569Z",
     "shell.execute_reply": "2021-04-19T05:18:17.426239Z",
     "shell.execute_reply.started": "2021-04-19T05:18:13.680805Z"
    },
    "tags": []
   },
   "outputs": [
    {
     "data": {
      "text/plain": [
       "1.0"
      ]
     },
     "execution_count": 19,
     "metadata": {},
     "output_type": "execute_result"
    }
   ],
   "source": [
    "vote.score(x_test, y_pred_voting)"
   ]
  },
  {
   "cell_type": "markdown",
   "id": "institutional-differential",
   "metadata": {},
   "source": [
    "## Boosting Algorithms"
   ]
  },
  {
   "cell_type": "markdown",
   "id": "retired-equality",
   "metadata": {},
   "source": [
    "## AdaBoost (Adaptive Boosting)"
   ]
  },
  {
   "cell_type": "code",
   "execution_count": 20,
   "id": "underlying-stream",
   "metadata": {
    "execution": {
     "iopub.execute_input": "2021-04-19T05:18:17.427289Z",
     "iopub.status.busy": "2021-04-19T05:18:17.427201Z",
     "iopub.status.idle": "2021-04-19T05:18:17.869754Z",
     "shell.execute_reply": "2021-04-19T05:18:17.869459Z",
     "shell.execute_reply.started": "2021-04-19T05:18:17.427277Z"
    },
    "tags": []
   },
   "outputs": [
    {
     "name": "stdout",
     "output_type": "stream",
     "text": [
      "0.8316101955164296\n"
     ]
    }
   ],
   "source": [
    "ada = AdaBoostClassifier(n_estimators=45, random_state=2021)\n",
    "ada.fit(x_train, y_train)\n",
    "\n",
    "y_pred_ada = ada.predict(x_test)\n",
    "\n",
    "print(accuracy_score(y_test, y_pred_ada))"
   ]
  },
  {
   "cell_type": "markdown",
   "id": "tender-agreement",
   "metadata": {},
   "source": [
    "## Gradient Boosting Classifier"
   ]
  },
  {
   "cell_type": "code",
   "execution_count": 21,
   "id": "latter-beginning",
   "metadata": {
    "execution": {
     "iopub.execute_input": "2021-04-19T05:18:17.870451Z",
     "iopub.status.busy": "2021-04-19T05:18:17.870359Z",
     "iopub.status.idle": "2021-04-19T05:18:18.982505Z",
     "shell.execute_reply": "2021-04-19T05:18:18.982170Z",
     "shell.execute_reply.started": "2021-04-19T05:18:17.870438Z"
    },
    "tags": []
   },
   "outputs": [
    {
     "name": "stdout",
     "output_type": "stream",
     "text": [
      "Learning rate:  0.05\n",
      "Accuracy score (training): 0.761\n",
      "Accuracy score (validation): 0.760\n",
      "Learning rate:  0.075\n",
      "Accuracy score (training): 0.787\n",
      "Accuracy score (validation): 0.787\n",
      "Learning rate:  0.1\n",
      "Accuracy score (training): 0.807\n",
      "Accuracy score (validation): 0.805\n",
      "Learning rate:  0.25\n",
      "Accuracy score (training): 0.831\n",
      "Accuracy score (validation): 0.828\n",
      "Learning rate:  0.5\n",
      "Accuracy score (training): 0.836\n",
      "Accuracy score (validation): 0.829\n",
      "Learning rate:  0.75\n",
      "Accuracy score (training): 0.838\n",
      "Accuracy score (validation): 0.830\n",
      "Learning rate:  1\n",
      "Accuracy score (training): 0.838\n",
      "Accuracy score (validation): 0.828\n"
     ]
    }
   ],
   "source": [
    "learning_rate = [0.05, 0.075, 0.1, 0.25, 0.5, 0.75, 1]\n",
    "for rate in learning_rate:\n",
    "    gbc1 = GradientBoostingClassifier(learning_rate=rate, n_estimators=45, max_features=2, random_state=2021)\n",
    "    gbc1.fit(x_train, y_train)\n",
    "    \n",
    "    print(\"Learning rate: \", rate)\n",
    "    print(\"Accuracy score (training): {0:.3f}\".format(gbc1.score(x_train, y_train)))\n",
    "    print(\"Accuracy score (validation): {0:.3f}\".format(gbc1.score(x_test, y_test)))"
   ]
  },
  {
   "cell_type": "code",
   "execution_count": 22,
   "id": "planned-still",
   "metadata": {
    "execution": {
     "iopub.execute_input": "2021-04-19T05:18:18.983937Z",
     "iopub.status.busy": "2021-04-19T05:18:18.983842Z",
     "iopub.status.idle": "2021-04-19T05:18:19.142983Z",
     "shell.execute_reply": "2021-04-19T05:18:19.142672Z",
     "shell.execute_reply.started": "2021-04-19T05:18:18.983926Z"
    },
    "tags": []
   },
   "outputs": [
    {
     "name": "stdout",
     "output_type": "stream",
     "text": [
      "              precision    recall  f1-score   support\n",
      "\n",
      "           0       0.87      0.92      0.89      7417\n",
      "           1       0.68      0.56      0.61      2352\n",
      "\n",
      "    accuracy                           0.83      9769\n",
      "   macro avg       0.77      0.74      0.75      9769\n",
      "weighted avg       0.82      0.83      0.82      9769\n",
      "\n"
     ]
    }
   ],
   "source": [
    "gbc2 = GradientBoostingClassifier(learning_rate=0.75, n_estimators=45, max_features=2, random_state=2021)\n",
    "\n",
    "gbc2.fit(x_train, y_train)\n",
    "y_pred_gbc2 = gbc2.predict(x_test)\n",
    "\n",
    "print(classification_report(y_test,y_pred_gbc2))"
   ]
  },
  {
   "cell_type": "markdown",
   "id": "chemical-upper",
   "metadata": {},
   "source": [
    "## XGBoost"
   ]
  },
  {
   "cell_type": "code",
   "execution_count": null,
   "id": "political-recorder",
   "metadata": {},
   "outputs": [],
   "source": []
  },
  {
   "cell_type": "code",
   "execution_count": null,
   "id": "discrete-emergency",
   "metadata": {},
   "outputs": [],
   "source": []
  },
  {
   "cell_type": "markdown",
   "id": "grave-share",
   "metadata": {},
   "source": [
    "## Stacking Classifier"
   ]
  },
  {
   "cell_type": "code",
   "execution_count": 32,
   "id": "continent-playback",
   "metadata": {
    "execution": {
     "iopub.execute_input": "2021-04-19T05:25:07.241726Z",
     "iopub.status.busy": "2021-04-19T05:25:07.241106Z",
     "iopub.status.idle": "2021-04-19T05:25:07.248204Z",
     "shell.execute_reply": "2021-04-19T05:25:07.246401Z",
     "shell.execute_reply.started": "2021-04-19T05:25:07.241658Z"
    },
    "tags": []
   },
   "outputs": [
    {
     "ename": "SyntaxError",
     "evalue": "positional argument follows keyword argument (<ipython-input-32-735afced2491>, line 5)",
     "output_type": "error",
     "traceback": [
      "\u001b[0;36m  File \u001b[0;32m\"<ipython-input-32-735afced2491>\"\u001b[0;36m, line \u001b[0;32m5\u001b[0m\n\u001b[0;31m    sclf = StackingClassifier(estimators=[clf1, clf2, clf3], final_estimator==lr)\u001b[0m\n\u001b[0m                                                             ^\u001b[0m\n\u001b[0;31mSyntaxError\u001b[0m\u001b[0;31m:\u001b[0m positional argument follows keyword argument\n"
     ]
    }
   ],
   "source": [
    "level0 = list()\n",
    "# level0.append(('lr', LogisticRegression()))\n",
    "# level0.append(('knn', KNeighborsClassifier()))\n",
    "# level0.append(('cart', DecisionTreeClassifier()))\n",
    "level0.append(('svm', SVC()))\n",
    "level0.append(('bayes', GaussianNB()))"
   ]
  },
  {
   "cell_type": "code",
   "execution_count": 24,
   "id": "severe-currency",
   "metadata": {
    "execution": {
     "iopub.execute_input": "2021-04-19T05:18:40.752759Z",
     "iopub.status.busy": "2021-04-19T05:18:40.752053Z",
     "iopub.status.idle": "2021-04-19T05:18:40.757788Z",
     "shell.execute_reply": "2021-04-19T05:18:40.756800Z",
     "shell.execute_reply.started": "2021-04-19T05:18:40.752628Z"
    },
    "tags": []
   },
   "outputs": [],
   "source": [
    "level1 = LogisticRegression()"
   ]
  },
  {
   "cell_type": "code",
   "execution_count": 25,
   "id": "finite-financing",
   "metadata": {
    "execution": {
     "iopub.execute_input": "2021-04-19T05:18:41.289988Z",
     "iopub.status.busy": "2021-04-19T05:18:41.289491Z",
     "iopub.status.idle": "2021-04-19T05:18:41.294575Z",
     "shell.execute_reply": "2021-04-19T05:18:41.293661Z",
     "shell.execute_reply.started": "2021-04-19T05:18:41.289950Z"
    },
    "tags": []
   },
   "outputs": [],
   "source": [
    "sc_model = StackingClassifier(estimators=level0, final_estimator=level1, stack_method='auto', cv=10, n_jobs=3)"
   ]
  },
  {
   "cell_type": "code",
   "execution_count": 26,
   "id": "otherwise-notification",
   "metadata": {
    "execution": {
     "iopub.execute_input": "2021-04-19T05:18:43.637533Z",
     "iopub.status.busy": "2021-04-19T05:18:43.636865Z",
     "iopub.status.idle": "2021-04-19T05:20:24.995380Z",
     "shell.execute_reply": "2021-04-19T05:20:24.994968Z",
     "shell.execute_reply.started": "2021-04-19T05:18:43.637462Z"
    },
    "tags": []
   },
   "outputs": [
    {
     "name": "stdout",
     "output_type": "stream",
     "text": [
      "CPU times: user 148 ms, sys: 117 ms, total: 265 ms\n",
      "Wall time: 1min 41s\n"
     ]
    },
    {
     "data": {
      "text/plain": [
       "StackingClassifier(cv=10, estimators=[('svm', SVC()), ('bayes', GaussianNB())],\n",
       "                   final_estimator=LogisticRegression(), n_jobs=3)"
      ]
     },
     "execution_count": 26,
     "metadata": {},
     "output_type": "execute_result"
    }
   ],
   "source": [
    "sc_model.fit(x_train, y_train)"
   ]
  },
  {
   "cell_type": "code",
   "execution_count": 27,
   "id": "weekly-affiliation",
   "metadata": {
    "execution": {
     "iopub.execute_input": "2021-04-19T05:22:08.640404Z",
     "iopub.status.busy": "2021-04-19T05:22:08.640016Z",
     "iopub.status.idle": "2021-04-19T05:22:24.586605Z",
     "shell.execute_reply": "2021-04-19T05:22:24.586205Z",
     "shell.execute_reply.started": "2021-04-19T05:22:08.640366Z"
    },
    "tags": []
   },
   "outputs": [],
   "source": [
    "y_pred_sc_model = sc_model.predict(x_test)"
   ]
  },
  {
   "cell_type": "code",
   "execution_count": 28,
   "id": "perceived-enclosure",
   "metadata": {
    "execution": {
     "iopub.execute_input": "2021-04-19T05:22:24.587457Z",
     "iopub.status.busy": "2021-04-19T05:22:24.587355Z",
     "iopub.status.idle": "2021-04-19T05:22:39.320137Z",
     "shell.execute_reply": "2021-04-19T05:22:39.319805Z",
     "shell.execute_reply.started": "2021-04-19T05:22:24.587444Z"
    },
    "tags": []
   },
   "outputs": [
    {
     "data": {
      "text/plain": [
       "1.0"
      ]
     },
     "execution_count": 28,
     "metadata": {},
     "output_type": "execute_result"
    }
   ],
   "source": [
    "sc_model.score(x_test, y_pred_sc_model)"
   ]
  },
  {
   "cell_type": "code",
   "execution_count": 29,
   "id": "acoustic-prior",
   "metadata": {
    "execution": {
     "iopub.execute_input": "2021-04-19T05:22:39.321192Z",
     "iopub.status.busy": "2021-04-19T05:22:39.321086Z",
     "iopub.status.idle": "2021-04-19T05:22:39.333394Z",
     "shell.execute_reply": "2021-04-19T05:22:39.333019Z",
     "shell.execute_reply.started": "2021-04-19T05:22:39.321179Z"
    },
    "tags": []
   },
   "outputs": [
    {
     "name": "stdout",
     "output_type": "stream",
     "text": [
      "              precision    recall  f1-score   support\n",
      "\n",
      "           0       0.86      0.92      0.89      7417\n",
      "           1       0.68      0.53      0.59      2352\n",
      "\n",
      "    accuracy                           0.83      9769\n",
      "   macro avg       0.77      0.73      0.74      9769\n",
      "weighted avg       0.82      0.83      0.82      9769\n",
      "\n"
     ]
    }
   ],
   "source": [
    "print(classification_report(y_test, y_pred_sc_model))"
   ]
  },
  {
   "cell_type": "code",
   "execution_count": null,
   "id": "smooth-replica",
   "metadata": {},
   "outputs": [],
   "source": []
  },
  {
   "cell_type": "markdown",
   "id": "bacterial-elimination",
   "metadata": {},
   "source": [
    "## Bagging with default parameters"
   ]
  },
  {
   "cell_type": "code",
   "execution_count": 58,
   "id": "arranged-singer",
   "metadata": {},
   "outputs": [],
   "source": [
    "bagging1 = BaggingClassifier(base_estimator=KNeighborsClassifier(), random_state=3103)"
   ]
  },
  {
   "cell_type": "code",
   "execution_count": null,
   "id": "broken-cleaning",
   "metadata": {},
   "outputs": [],
   "source": [
    "bagging1.fit(x_train, y_train)"
   ]
  },
  {
   "cell_type": "code",
   "execution_count": null,
   "id": "final-tower",
   "metadata": {},
   "outputs": [],
   "source": [
    "bagging1_y_pred = bagging1.predict(x_train)"
   ]
  },
  {
   "cell_type": "code",
   "execution_count": 59,
   "id": "excited-intro",
   "metadata": {},
   "outputs": [
    {
     "name": "stdout",
     "output_type": "stream",
     "text": [
      "0.8644261144261144\n"
     ]
    }
   ],
   "source": [
    "print(accuracy_score(y_train, bagging1_y_pred))"
   ]
  },
  {
   "cell_type": "code",
   "execution_count": 84,
   "id": "unlimited-dover",
   "metadata": {},
   "outputs": [],
   "source": [
    "bagging2 = BaggingClassifier(base_estimator=DecisionTreeClassifier(),\n",
    "                            n_estimators=20,\n",
    "                            max_samples=.67,\n",
    "                            max_features=.67,\n",
    "                            bootstrap=True,\n",
    "                            oob_score=True,\n",
    "                            n_jobs=4,\n",
    "                            random_state=3104)"
   ]
  },
  {
   "cell_type": "code",
   "execution_count": 85,
   "id": "satellite-newspaper",
   "metadata": {},
   "outputs": [
    {
     "data": {
      "text/plain": [
       "BaggingClassifier(base_estimator=DecisionTreeClassifier(), max_features=0.67,\n",
       "                  max_samples=0.67, n_estimators=20, n_jobs=4, oob_score=True,\n",
       "                  random_state=3104)"
      ]
     },
     "execution_count": 85,
     "metadata": {},
     "output_type": "execute_result"
    }
   ],
   "source": [
    "bagging2.fit(x_train, y_train)"
   ]
  },
  {
   "cell_type": "code",
   "execution_count": 86,
   "id": "embedded-insulin",
   "metadata": {},
   "outputs": [],
   "source": [
    "bagging2_y_pred = bagging2.predict(x_train)"
   ]
  },
  {
   "cell_type": "code",
   "execution_count": 87,
   "id": "expressed-stone",
   "metadata": {},
   "outputs": [
    {
     "name": "stdout",
     "output_type": "stream",
     "text": [
      "0.8858810108810109\n"
     ]
    }
   ],
   "source": [
    "print(accuracy_score(y_train, bagging2_y_pred))"
   ]
  },
  {
   "cell_type": "code",
   "execution_count": null,
   "id": "seventh-angola",
   "metadata": {},
   "outputs": [],
   "source": []
  },
  {
   "cell_type": "code",
   "execution_count": null,
   "id": "earned-tanzania",
   "metadata": {},
   "outputs": [],
   "source": []
  },
  {
   "cell_type": "code",
   "execution_count": null,
   "id": "mobile-intersection",
   "metadata": {},
   "outputs": [],
   "source": []
  },
  {
   "cell_type": "code",
   "execution_count": null,
   "id": "universal-implementation",
   "metadata": {},
   "outputs": [],
   "source": []
  },
  {
   "cell_type": "code",
   "execution_count": null,
   "id": "noted-lottery",
   "metadata": {},
   "outputs": [],
   "source": []
  }
 ],
 "metadata": {
  "kernelspec": {
   "display_name": "Python 3",
   "language": "python",
   "name": "python3"
  },
  "language_info": {
   "codemirror_mode": {
    "name": "ipython",
    "version": 3
   },
   "file_extension": ".py",
   "mimetype": "text/x-python",
   "name": "python",
   "nbconvert_exporter": "python",
   "pygments_lexer": "ipython3",
   "version": "3.8.8"
  }
 },
 "nbformat": 4,
 "nbformat_minor": 5
}
