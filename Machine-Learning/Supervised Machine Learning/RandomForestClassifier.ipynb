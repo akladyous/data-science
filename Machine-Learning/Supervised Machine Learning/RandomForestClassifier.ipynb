{
 "cells": [
  {
   "cell_type": "code",
   "execution_count": 29,
   "id": "disciplinary-premises",
   "metadata": {
    "execution": {
     "iopub.execute_input": "2021-04-14T01:52:54.709488Z",
     "iopub.status.busy": "2021-04-14T01:52:54.709118Z",
     "iopub.status.idle": "2021-04-14T01:52:54.716731Z",
     "shell.execute_reply": "2021-04-14T01:52:54.715365Z",
     "shell.execute_reply.started": "2021-04-14T01:52:54.709453Z"
    },
    "tags": []
   },
   "outputs": [],
   "source": [
    "import pandas as pd\n",
    "import matplotlib.pyplot as plt\n",
    "import numpy as np\n",
    "\n",
    "from sklearn.model_selection import train_test_split, GridSearchCV\n",
    "\n",
    "from sklearn.metrics import (confusion_matrix, plot_confusion_matrix,classification_report,\n",
    "                             accuracy_score, precision_score, recall_score, f1_score, log_loss,\n",
    "                             roc_auc_score, precision_recall_curve)\n",
    "\n",
    "from sklearn.ensemble import RandomForestClassifier\n",
    "from xgboost import XGBClassifier"
   ]
  },
  {
   "cell_type": "code",
   "execution_count": 2,
   "id": "direct-victim",
   "metadata": {
    "execution": {
     "iopub.execute_input": "2021-04-14T01:48:52.681620Z",
     "iopub.status.busy": "2021-04-14T01:48:52.681530Z",
     "iopub.status.idle": "2021-04-14T01:48:52.687775Z",
     "shell.execute_reply": "2021-04-14T01:48:52.687458Z",
     "shell.execute_reply.started": "2021-04-14T01:48:52.681607Z"
    }
   },
   "outputs": [],
   "source": [
    "df = pd.read_csv('../../DataScience/data/winequality-red.csv.gz')"
   ]
  },
  {
   "cell_type": "code",
   "execution_count": 3,
   "id": "strong-graphics",
   "metadata": {
    "execution": {
     "iopub.execute_input": "2021-04-14T01:48:52.688862Z",
     "iopub.status.busy": "2021-04-14T01:48:52.688760Z",
     "iopub.status.idle": "2021-04-14T01:48:52.708866Z",
     "shell.execute_reply": "2021-04-14T01:48:52.708454Z",
     "shell.execute_reply.started": "2021-04-14T01:48:52.688849Z"
    }
   },
   "outputs": [
    {
     "data": {
      "text/html": [
       "<div>\n",
       "<style scoped>\n",
       "    .dataframe tbody tr th:only-of-type {\n",
       "        vertical-align: middle;\n",
       "    }\n",
       "\n",
       "    .dataframe tbody tr th {\n",
       "        vertical-align: top;\n",
       "    }\n",
       "\n",
       "    .dataframe thead th {\n",
       "        text-align: right;\n",
       "    }\n",
       "</style>\n",
       "<table border=\"1\" class=\"dataframe\">\n",
       "  <thead>\n",
       "    <tr style=\"text-align: right;\">\n",
       "      <th></th>\n",
       "      <th>fixed acidity</th>\n",
       "      <th>volatile acidity</th>\n",
       "      <th>citric acid</th>\n",
       "      <th>residual sugar</th>\n",
       "      <th>chlorides</th>\n",
       "      <th>free sulfur dioxide</th>\n",
       "      <th>total sulfur dioxide</th>\n",
       "      <th>density</th>\n",
       "      <th>pH</th>\n",
       "      <th>sulphates</th>\n",
       "      <th>alcohol</th>\n",
       "      <th>quality</th>\n",
       "    </tr>\n",
       "  </thead>\n",
       "  <tbody>\n",
       "    <tr>\n",
       "      <th>0</th>\n",
       "      <td>7.4</td>\n",
       "      <td>0.700</td>\n",
       "      <td>0.00</td>\n",
       "      <td>1.9</td>\n",
       "      <td>0.076</td>\n",
       "      <td>11.0</td>\n",
       "      <td>34.0</td>\n",
       "      <td>0.99780</td>\n",
       "      <td>3.51</td>\n",
       "      <td>0.56</td>\n",
       "      <td>9.4</td>\n",
       "      <td>5</td>\n",
       "    </tr>\n",
       "    <tr>\n",
       "      <th>1</th>\n",
       "      <td>7.8</td>\n",
       "      <td>0.880</td>\n",
       "      <td>0.00</td>\n",
       "      <td>2.6</td>\n",
       "      <td>0.098</td>\n",
       "      <td>25.0</td>\n",
       "      <td>67.0</td>\n",
       "      <td>0.99680</td>\n",
       "      <td>3.20</td>\n",
       "      <td>0.68</td>\n",
       "      <td>9.8</td>\n",
       "      <td>5</td>\n",
       "    </tr>\n",
       "    <tr>\n",
       "      <th>2</th>\n",
       "      <td>7.8</td>\n",
       "      <td>0.760</td>\n",
       "      <td>0.04</td>\n",
       "      <td>2.3</td>\n",
       "      <td>0.092</td>\n",
       "      <td>15.0</td>\n",
       "      <td>54.0</td>\n",
       "      <td>0.99700</td>\n",
       "      <td>3.26</td>\n",
       "      <td>0.65</td>\n",
       "      <td>9.8</td>\n",
       "      <td>5</td>\n",
       "    </tr>\n",
       "    <tr>\n",
       "      <th>3</th>\n",
       "      <td>11.2</td>\n",
       "      <td>0.280</td>\n",
       "      <td>0.56</td>\n",
       "      <td>1.9</td>\n",
       "      <td>0.075</td>\n",
       "      <td>17.0</td>\n",
       "      <td>60.0</td>\n",
       "      <td>0.99800</td>\n",
       "      <td>3.16</td>\n",
       "      <td>0.58</td>\n",
       "      <td>9.8</td>\n",
       "      <td>6</td>\n",
       "    </tr>\n",
       "    <tr>\n",
       "      <th>4</th>\n",
       "      <td>7.4</td>\n",
       "      <td>0.700</td>\n",
       "      <td>0.00</td>\n",
       "      <td>1.9</td>\n",
       "      <td>0.076</td>\n",
       "      <td>11.0</td>\n",
       "      <td>34.0</td>\n",
       "      <td>0.99780</td>\n",
       "      <td>3.51</td>\n",
       "      <td>0.56</td>\n",
       "      <td>9.4</td>\n",
       "      <td>5</td>\n",
       "    </tr>\n",
       "    <tr>\n",
       "      <th>...</th>\n",
       "      <td>...</td>\n",
       "      <td>...</td>\n",
       "      <td>...</td>\n",
       "      <td>...</td>\n",
       "      <td>...</td>\n",
       "      <td>...</td>\n",
       "      <td>...</td>\n",
       "      <td>...</td>\n",
       "      <td>...</td>\n",
       "      <td>...</td>\n",
       "      <td>...</td>\n",
       "      <td>...</td>\n",
       "    </tr>\n",
       "    <tr>\n",
       "      <th>1594</th>\n",
       "      <td>6.2</td>\n",
       "      <td>0.600</td>\n",
       "      <td>0.08</td>\n",
       "      <td>2.0</td>\n",
       "      <td>0.090</td>\n",
       "      <td>32.0</td>\n",
       "      <td>44.0</td>\n",
       "      <td>0.99490</td>\n",
       "      <td>3.45</td>\n",
       "      <td>0.58</td>\n",
       "      <td>10.5</td>\n",
       "      <td>5</td>\n",
       "    </tr>\n",
       "    <tr>\n",
       "      <th>1595</th>\n",
       "      <td>5.9</td>\n",
       "      <td>0.550</td>\n",
       "      <td>0.10</td>\n",
       "      <td>2.2</td>\n",
       "      <td>0.062</td>\n",
       "      <td>39.0</td>\n",
       "      <td>51.0</td>\n",
       "      <td>0.99512</td>\n",
       "      <td>3.52</td>\n",
       "      <td>0.76</td>\n",
       "      <td>11.2</td>\n",
       "      <td>6</td>\n",
       "    </tr>\n",
       "    <tr>\n",
       "      <th>1596</th>\n",
       "      <td>6.3</td>\n",
       "      <td>0.510</td>\n",
       "      <td>0.13</td>\n",
       "      <td>2.3</td>\n",
       "      <td>0.076</td>\n",
       "      <td>29.0</td>\n",
       "      <td>40.0</td>\n",
       "      <td>0.99574</td>\n",
       "      <td>3.42</td>\n",
       "      <td>0.75</td>\n",
       "      <td>11.0</td>\n",
       "      <td>6</td>\n",
       "    </tr>\n",
       "    <tr>\n",
       "      <th>1597</th>\n",
       "      <td>5.9</td>\n",
       "      <td>0.645</td>\n",
       "      <td>0.12</td>\n",
       "      <td>2.0</td>\n",
       "      <td>0.075</td>\n",
       "      <td>32.0</td>\n",
       "      <td>44.0</td>\n",
       "      <td>0.99547</td>\n",
       "      <td>3.57</td>\n",
       "      <td>0.71</td>\n",
       "      <td>10.2</td>\n",
       "      <td>5</td>\n",
       "    </tr>\n",
       "    <tr>\n",
       "      <th>1598</th>\n",
       "      <td>6.0</td>\n",
       "      <td>0.310</td>\n",
       "      <td>0.47</td>\n",
       "      <td>3.6</td>\n",
       "      <td>0.067</td>\n",
       "      <td>18.0</td>\n",
       "      <td>42.0</td>\n",
       "      <td>0.99549</td>\n",
       "      <td>3.39</td>\n",
       "      <td>0.66</td>\n",
       "      <td>11.0</td>\n",
       "      <td>6</td>\n",
       "    </tr>\n",
       "  </tbody>\n",
       "</table>\n",
       "<p>1599 rows × 12 columns</p>\n",
       "</div>"
      ],
      "text/plain": [
       "      fixed acidity  volatile acidity  citric acid  residual sugar  chlorides  \\\n",
       "0               7.4             0.700         0.00             1.9      0.076   \n",
       "1               7.8             0.880         0.00             2.6      0.098   \n",
       "2               7.8             0.760         0.04             2.3      0.092   \n",
       "3              11.2             0.280         0.56             1.9      0.075   \n",
       "4               7.4             0.700         0.00             1.9      0.076   \n",
       "...             ...               ...          ...             ...        ...   \n",
       "1594            6.2             0.600         0.08             2.0      0.090   \n",
       "1595            5.9             0.550         0.10             2.2      0.062   \n",
       "1596            6.3             0.510         0.13             2.3      0.076   \n",
       "1597            5.9             0.645         0.12             2.0      0.075   \n",
       "1598            6.0             0.310         0.47             3.6      0.067   \n",
       "\n",
       "      free sulfur dioxide  total sulfur dioxide  density    pH  sulphates  \\\n",
       "0                    11.0                  34.0  0.99780  3.51       0.56   \n",
       "1                    25.0                  67.0  0.99680  3.20       0.68   \n",
       "2                    15.0                  54.0  0.99700  3.26       0.65   \n",
       "3                    17.0                  60.0  0.99800  3.16       0.58   \n",
       "4                    11.0                  34.0  0.99780  3.51       0.56   \n",
       "...                   ...                   ...      ...   ...        ...   \n",
       "1594                 32.0                  44.0  0.99490  3.45       0.58   \n",
       "1595                 39.0                  51.0  0.99512  3.52       0.76   \n",
       "1596                 29.0                  40.0  0.99574  3.42       0.75   \n",
       "1597                 32.0                  44.0  0.99547  3.57       0.71   \n",
       "1598                 18.0                  42.0  0.99549  3.39       0.66   \n",
       "\n",
       "      alcohol  quality  \n",
       "0         9.4        5  \n",
       "1         9.8        5  \n",
       "2         9.8        5  \n",
       "3         9.8        6  \n",
       "4         9.4        5  \n",
       "...       ...      ...  \n",
       "1594     10.5        5  \n",
       "1595     11.2        6  \n",
       "1596     11.0        6  \n",
       "1597     10.2        5  \n",
       "1598     11.0        6  \n",
       "\n",
       "[1599 rows x 12 columns]"
      ]
     },
     "execution_count": 3,
     "metadata": {},
     "output_type": "execute_result"
    }
   ],
   "source": [
    "df"
   ]
  },
  {
   "cell_type": "code",
   "execution_count": 4,
   "id": "absent-jimmy",
   "metadata": {
    "execution": {
     "iopub.execute_input": "2021-04-14T01:48:52.709876Z",
     "iopub.status.busy": "2021-04-14T01:48:52.709765Z",
     "iopub.status.idle": "2021-04-14T01:48:52.717311Z",
     "shell.execute_reply": "2021-04-14T01:48:52.716880Z",
     "shell.execute_reply.started": "2021-04-14T01:48:52.709862Z"
    }
   },
   "outputs": [],
   "source": [
    "x_train, x_test, y_train, y_test = train_test_split(df.iloc[:,:-1],\n",
    "                                                    df.iloc[:,-1],\n",
    "                                                    random_state=3003,\n",
    "                                                    test_size=.25,\n",
    "                                                    stratify=df.iloc[:,-1])"
   ]
  },
  {
   "cell_type": "code",
   "execution_count": 5,
   "id": "amateur-contemporary",
   "metadata": {
    "execution": {
     "iopub.execute_input": "2021-04-14T01:48:52.718179Z",
     "iopub.status.busy": "2021-04-14T01:48:52.718065Z",
     "iopub.status.idle": "2021-04-14T01:48:52.722877Z",
     "shell.execute_reply": "2021-04-14T01:48:52.722145Z",
     "shell.execute_reply.started": "2021-04-14T01:48:52.718166Z"
    }
   },
   "outputs": [
    {
     "data": {
      "text/plain": [
       "((1199, 11), (400, 11), (1199,), (400,))"
      ]
     },
     "execution_count": 5,
     "metadata": {},
     "output_type": "execute_result"
    }
   ],
   "source": [
    "x_train.shape, x_test.shape, y_train.shape, y_test.shape"
   ]
  },
  {
   "cell_type": "markdown",
   "id": "checked-generator",
   "metadata": {},
   "source": [
    "## Random Forest Classifier"
   ]
  },
  {
   "cell_type": "code",
   "execution_count": 6,
   "id": "hollow-listening",
   "metadata": {
    "execution": {
     "iopub.execute_input": "2021-04-14T01:48:52.723759Z",
     "iopub.status.busy": "2021-04-14T01:48:52.723644Z",
     "iopub.status.idle": "2021-04-14T01:48:52.944506Z",
     "shell.execute_reply": "2021-04-14T01:48:52.943995Z",
     "shell.execute_reply.started": "2021-04-14T01:48:52.723745Z"
    }
   },
   "outputs": [
    {
     "data": {
      "text/plain": [
       "RandomForestClassifier(random_state=10)"
      ]
     },
     "execution_count": 6,
     "metadata": {},
     "output_type": "execute_result"
    }
   ],
   "source": [
    "forest = RandomForestClassifier(random_state=10)\n",
    "\n",
    "forest.fit(x_train, y_train)"
   ]
  },
  {
   "cell_type": "code",
   "execution_count": 7,
   "id": "flush-thesis",
   "metadata": {
    "execution": {
     "iopub.execute_input": "2021-04-14T01:48:52.945739Z",
     "iopub.status.busy": "2021-04-14T01:48:52.945560Z",
     "iopub.status.idle": "2021-04-14T01:48:52.955401Z",
     "shell.execute_reply": "2021-04-14T01:48:52.955060Z",
     "shell.execute_reply.started": "2021-04-14T01:48:52.945722Z"
    }
   },
   "outputs": [
    {
     "data": {
      "text/plain": [
       "array([0.07797648, 0.10224944, 0.07332744, 0.07066614, 0.08216546,\n",
       "       0.06700029, 0.10204979, 0.09701203, 0.07728033, 0.1073102 ,\n",
       "       0.14296241])"
      ]
     },
     "execution_count": 7,
     "metadata": {},
     "output_type": "execute_result"
    }
   ],
   "source": [
    "forest.feature_importances_"
   ]
  },
  {
   "cell_type": "code",
   "execution_count": 8,
   "id": "sufficient-backup",
   "metadata": {
    "execution": {
     "iopub.execute_input": "2021-04-14T01:48:52.957528Z",
     "iopub.status.busy": "2021-04-14T01:48:52.957354Z",
     "iopub.status.idle": "2021-04-14T01:48:53.073121Z",
     "shell.execute_reply": "2021-04-14T01:48:53.072764Z",
     "shell.execute_reply.started": "2021-04-14T01:48:52.957510Z"
    }
   },
   "outputs": [
    {
     "data": {
      "image/png": "[encoded data removed]",
      "text/plain": [
       "<Figure size 432x288 with 1 Axes>"
      ]
     },
     "metadata": {
      "needs_background": "light"
     },
     "output_type": "display_data"
    }
   ],
   "source": [
    "fig, ax = plt.subplots()\n",
    "\n",
    "ax.barh(width=forest.feature_importances_, y=x_train.columns)\n",
    "fig.tight_layout()"
   ]
  },
  {
   "cell_type": "code",
   "execution_count": 9,
   "id": "norwegian-clothing",
   "metadata": {
    "execution": {
     "iopub.execute_input": "2021-04-14T01:48:53.074046Z",
     "iopub.status.busy": "2021-04-14T01:48:53.073922Z",
     "iopub.status.idle": "2021-04-14T01:48:53.107704Z",
     "shell.execute_reply": "2021-04-14T01:48:53.107293Z",
     "shell.execute_reply.started": "2021-04-14T01:48:53.074032Z"
    }
   },
   "outputs": [],
   "source": [
    "y_train_pred = forest.predict(x_train)\n",
    "y_test_pred = forest.predict(x_test)"
   ]
  },
  {
   "cell_type": "code",
   "execution_count": 10,
   "id": "eligible-theta",
   "metadata": {
    "execution": {
     "iopub.execute_input": "2021-04-14T01:48:53.108771Z",
     "iopub.status.busy": "2021-04-14T01:48:53.108666Z",
     "iopub.status.idle": "2021-04-14T01:48:53.114306Z",
     "shell.execute_reply": "2021-04-14T01:48:53.113959Z",
     "shell.execute_reply.started": "2021-04-14T01:48:53.108758Z"
    }
   },
   "outputs": [
    {
     "name": "stdout",
     "output_type": "stream",
     "text": [
      "              precision    recall  f1-score   support\n",
      "\n",
      "           3       1.00      1.00      1.00         8\n",
      "           4       1.00      1.00      1.00        40\n",
      "           5       1.00      1.00      1.00       511\n",
      "           6       1.00      1.00      1.00       478\n",
      "           7       1.00      1.00      1.00       149\n",
      "           8       1.00      1.00      1.00        13\n",
      "\n",
      "    accuracy                           1.00      1199\n",
      "   macro avg       1.00      1.00      1.00      1199\n",
      "weighted avg       1.00      1.00      1.00      1199\n",
      "\n"
     ]
    }
   ],
   "source": [
    "print(classification_report(y_train, y_train_pred))"
   ]
  },
  {
   "cell_type": "code",
   "execution_count": 11,
   "id": "proper-radical",
   "metadata": {
    "execution": {
     "iopub.execute_input": "2021-04-14T01:49:16.370144Z",
     "iopub.status.busy": "2021-04-14T01:49:16.369752Z",
     "iopub.status.idle": "2021-04-14T01:49:16.384120Z",
     "shell.execute_reply": "2021-04-14T01:49:16.383396Z",
     "shell.execute_reply.started": "2021-04-14T01:49:16.370110Z"
    }
   },
   "outputs": [
    {
     "name": "stdout",
     "output_type": "stream",
     "text": [
      "              precision    recall  f1-score   support\n",
      "\n",
      "           3       0.00      0.00      0.00         2\n",
      "           4       0.00      0.00      0.00        13\n",
      "           5       0.74      0.86      0.80       170\n",
      "           6       0.72      0.71      0.72       160\n",
      "           7       0.73      0.60      0.66        50\n",
      "           8       1.00      0.20      0.33         5\n",
      "\n",
      "    accuracy                           0.73       400\n",
      "   macro avg       0.53      0.40      0.42       400\n",
      "weighted avg       0.71      0.73      0.71       400\n",
      "\n"
     ]
    }
   ],
   "source": [
    "print(classification_report(y_test, y_test_pred, zero_division=0))"
   ]
  },
  {
   "cell_type": "code",
   "execution_count": 12,
   "id": "lightweight-jimmy",
   "metadata": {
    "execution": {
     "iopub.execute_input": "2021-04-14T01:49:16.534044Z",
     "iopub.status.busy": "2021-04-14T01:49:16.533627Z",
     "iopub.status.idle": "2021-04-14T01:49:16.576773Z",
     "shell.execute_reply": "2021-04-14T01:49:16.576089Z",
     "shell.execute_reply.started": "2021-04-14T01:49:16.534003Z"
    }
   },
   "outputs": [],
   "source": [
    "y_pred = forest.predict(x_train)"
   ]
  },
  {
   "cell_type": "code",
   "execution_count": 15,
   "id": "missing-understanding",
   "metadata": {
    "execution": {
     "iopub.execute_input": "2021-04-14T01:49:55.227184Z",
     "iopub.status.busy": "2021-04-14T01:49:55.226811Z",
     "iopub.status.idle": "2021-04-14T01:49:55.231068Z",
     "shell.execute_reply": "2021-04-14T01:49:55.230155Z",
     "shell.execute_reply.started": "2021-04-14T01:49:55.227148Z"
    },
    "tags": []
   },
   "outputs": [],
   "source": [
    "rfc = RandomForestClassifier()"
   ]
  },
  {
   "cell_type": "code",
   "execution_count": 16,
   "id": "united-passenger",
   "metadata": {
    "execution": {
     "iopub.execute_input": "2021-04-14T01:49:55.516268Z",
     "iopub.status.busy": "2021-04-14T01:49:55.515892Z",
     "iopub.status.idle": "2021-04-14T01:49:55.527777Z",
     "shell.execute_reply": "2021-04-14T01:49:55.526085Z",
     "shell.execute_reply.started": "2021-04-14T01:49:55.516233Z"
    }
   },
   "outputs": [],
   "source": [
    "rfc_param = {\n",
    "    'n_estimators': [100],\n",
    "    'criterion': ['gini', 'entropy'],\n",
    "    'max_depth': [None], #\n",
    "    'min_samples_split': [3,5,8],\n",
    "    'min_samples_leaf': [3,6],\n",
    "    'min_weight_fraction_leaf': [0.0],\n",
    "    'max_features': ['auto', 'sqrt', 'log2'],\n",
    "    'max_leaf_nodes': [None],\n",
    "    'min_impurity_decrease': [0.0],\n",
    "    'min_impurity_split': [None],\n",
    "    'bootstrap': [True],\n",
    "    'oob_score': [True],\n",
    "    'n_jobs': [3],\n",
    "    'random_state': [2021],\n",
    "    'verbose': [0],\n",
    "    'warm_start': [False],\n",
    "    'class_weight': ['balanced'],\n",
    "    'ccp_alpha': [0.0],\n",
    "    'max_samples': [None]\n",
    "}"
   ]
  },
  {
   "cell_type": "code",
   "execution_count": 17,
   "id": "heavy-advocate",
   "metadata": {
    "execution": {
     "iopub.execute_input": "2021-04-14T01:50:02.800981Z",
     "iopub.status.busy": "2021-04-14T01:50:02.800601Z",
     "iopub.status.idle": "2021-04-14T01:50:02.806948Z",
     "shell.execute_reply": "2021-04-14T01:50:02.805478Z",
     "shell.execute_reply.started": "2021-04-14T01:50:02.800947Z"
    }
   },
   "outputs": [],
   "source": [
    "tree_grid = GridSearchCV(estimator=rfc, param_grid=rfc_param)"
   ]
  },
  {
   "cell_type": "code",
   "execution_count": 18,
   "id": "opposed-bahamas",
   "metadata": {
    "execution": {
     "iopub.execute_input": "2021-04-14T01:50:02.941099Z",
     "iopub.status.busy": "2021-04-14T01:50:02.940470Z",
     "iopub.status.idle": "2021-04-14T01:50:25.788881Z",
     "shell.execute_reply": "2021-04-14T01:50:25.788510Z",
     "shell.execute_reply.started": "2021-04-14T01:50:02.941033Z"
    }
   },
   "outputs": [
    {
     "data": {
      "text/plain": [
       "GridSearchCV(estimator=RandomForestClassifier(),\n",
       "             param_grid={'bootstrap': [True], 'ccp_alpha': [0.0],\n",
       "                         'class_weight': ['balanced'],\n",
       "                         'criterion': ['gini', 'entropy'], 'max_depth': [None],\n",
       "                         'max_features': ['auto', 'sqrt', 'log2'],\n",
       "                         'max_leaf_nodes': [None], 'max_samples': [None],\n",
       "                         'min_impurity_decrease': [0.0],\n",
       "                         'min_impurity_split': [None],\n",
       "                         'min_samples_leaf': [3, 6],\n",
       "                         'min_samples_split': [3, 5, 8],\n",
       "                         'min_weight_fraction_leaf': [0.0],\n",
       "                         'n_estimators': [100], 'n_jobs': [3],\n",
       "                         'oob_score': [True], 'random_state': [2021],\n",
       "                         'verbose': [0], 'warm_start': [False]})"
      ]
     },
     "execution_count": 18,
     "metadata": {},
     "output_type": "execute_result"
    }
   ],
   "source": [
    "tree_grid.fit(x_train, y_train)"
   ]
  },
  {
   "cell_type": "code",
   "execution_count": 19,
   "id": "unsigned-selling",
   "metadata": {
    "execution": {
     "iopub.execute_input": "2021-04-14T01:50:33.751756Z",
     "iopub.status.busy": "2021-04-14T01:50:33.751132Z",
     "iopub.status.idle": "2021-04-14T01:50:33.787683Z",
     "shell.execute_reply": "2021-04-14T01:50:33.787190Z",
     "shell.execute_reply.started": "2021-04-14T01:50:33.751716Z"
    }
   },
   "outputs": [],
   "source": [
    "tree_y_pred = tree_grid.predict(x_train)"
   ]
  },
  {
   "cell_type": "code",
   "execution_count": 20,
   "id": "straight-andorra",
   "metadata": {
    "execution": {
     "iopub.execute_input": "2021-04-14T01:50:33.936115Z",
     "iopub.status.busy": "2021-04-14T01:50:33.935492Z",
     "iopub.status.idle": "2021-04-14T01:50:33.945035Z",
     "shell.execute_reply": "2021-04-14T01:50:33.943523Z",
     "shell.execute_reply.started": "2021-04-14T01:50:33.936049Z"
    }
   },
   "outputs": [
    {
     "data": {
      "text/plain": [
       "0.6597245467224547"
      ]
     },
     "execution_count": 20,
     "metadata": {},
     "output_type": "execute_result"
    }
   ],
   "source": [
    "tree_grid.best_score_"
   ]
  },
  {
   "cell_type": "code",
   "execution_count": 21,
   "id": "humanitarian-revolution",
   "metadata": {
    "execution": {
     "iopub.execute_input": "2021-04-14T01:50:34.111646Z",
     "iopub.status.busy": "2021-04-14T01:50:34.111213Z",
     "iopub.status.idle": "2021-04-14T01:50:34.127607Z",
     "shell.execute_reply": "2021-04-14T01:50:34.126546Z",
     "shell.execute_reply.started": "2021-04-14T01:50:34.111605Z"
    }
   },
   "outputs": [
    {
     "name": "stdout",
     "output_type": "stream",
     "text": [
      "              precision    recall  f1-score   support\n",
      "\n",
      "           3       0.73      1.00      0.84         8\n",
      "           4       0.95      1.00      0.98        40\n",
      "           5       0.97      0.96      0.96       511\n",
      "           6       0.97      0.96      0.97       478\n",
      "           7       0.94      0.99      0.96       149\n",
      "           8       1.00      1.00      1.00        13\n",
      "\n",
      "    accuracy                           0.97      1199\n",
      "   macro avg       0.93      0.98      0.95      1199\n",
      "weighted avg       0.97      0.97      0.97      1199\n",
      "\n"
     ]
    }
   ],
   "source": [
    "print(classification_report(y_train, tree_y_pred))"
   ]
  },
  {
   "cell_type": "code",
   "execution_count": null,
   "id": "lonely-float",
   "metadata": {},
   "outputs": [],
   "source": []
  },
  {
   "cell_type": "code",
   "execution_count": null,
   "id": "practical-recommendation",
   "metadata": {},
   "outputs": [],
   "source": []
  },
  {
   "cell_type": "code",
   "execution_count": null,
   "id": "radical-dublin",
   "metadata": {},
   "outputs": [],
   "source": []
  },
  {
   "cell_type": "code",
   "execution_count": 26,
   "id": "opponent-boring",
   "metadata": {
    "execution": {
     "iopub.execute_input": "2021-04-14T01:52:39.860216Z",
     "iopub.status.busy": "2021-04-14T01:52:39.859562Z",
     "iopub.status.idle": "2021-04-14T01:52:39.866515Z",
     "shell.execute_reply": "2021-04-14T01:52:39.865063Z",
     "shell.execute_reply.started": "2021-04-14T01:52:39.860149Z"
    },
    "tags": []
   },
   "outputs": [],
   "source": [
    "cls_rf = RandomForestClassifier(class_weight='balanced', random_state=264)"
   ]
  },
  {
   "cell_type": "code",
   "execution_count": 30,
   "id": "verified-inflation",
   "metadata": {
    "execution": {
     "iopub.execute_input": "2021-04-14T01:53:00.212735Z",
     "iopub.status.busy": "2021-04-14T01:53:00.212268Z",
     "iopub.status.idle": "2021-04-14T01:53:00.445051Z",
     "shell.execute_reply": "2021-04-14T01:53:00.444694Z",
     "shell.execute_reply.started": "2021-04-14T01:53:00.212698Z"
    },
    "tags": []
   },
   "outputs": [],
   "source": [
    "model2 = cls_rf.fit(x_train, np.ravel(np.array(y_train)))"
   ]
  },
  {
   "cell_type": "code",
   "execution_count": 31,
   "id": "general-siemens",
   "metadata": {
    "execution": {
     "iopub.execute_input": "2021-04-14T01:53:02.609626Z",
     "iopub.status.busy": "2021-04-14T01:53:02.609056Z",
     "iopub.status.idle": "2021-04-14T01:53:02.654633Z",
     "shell.execute_reply": "2021-04-14T01:53:02.653721Z",
     "shell.execute_reply.started": "2021-04-14T01:53:02.609575Z"
    },
    "tags": []
   },
   "outputs": [],
   "source": [
    "model2_y_train_pred = cls_rf.predict(x_train)"
   ]
  },
  {
   "cell_type": "code",
   "execution_count": null,
   "id": "systematic-zoning",
   "metadata": {
    "tags": []
   },
   "outputs": [],
   "source": [
    "[(est.get_depth(), est.tree_.max_depth, est.max_depth) for est in cls_rf.estimators_]"
   ]
  },
  {
   "cell_type": "code",
   "execution_count": 62,
   "id": "double-pension",
   "metadata": {
    "execution": {
     "iopub.execute_input": "2021-04-14T02:00:28.338656Z",
     "iopub.status.busy": "2021-04-14T02:00:28.338225Z",
     "iopub.status.idle": "2021-04-14T02:00:28.345697Z",
     "shell.execute_reply": "2021-04-14T02:00:28.344472Z",
     "shell.execute_reply.started": "2021-04-14T02:00:28.338623Z"
    },
    "tags": []
   },
   "outputs": [],
   "source": [
    "def rd_estimator_(cls):\n",
    "    max_depth = np.array([est.get_depth() for est in cls.estimators_])\n",
    "    print(f\"Classifier Parameters\\n\")\n",
    "    print(f\"{'max_depth':15} {'Min Value':10}{np.min(max_depth)} {'Max Value':10} {np.max(max_depth)}\")\n",
    "    print(f\"{'N. Leaves':15} {cls.estimators_[0].tree_.n_leaves}\")\n",
    "    print(f\"{'Max n Classes':15} {cls_rf.estimators_[0].tree_.max_n_classes}\")\n",
    "    print(f\"{'CCP Alpha':15} {cls.estimators_[0].ccp_alpha}\")\n",
    "    "
   ]
  },
  {
   "cell_type": "code",
   "execution_count": null,
   "id": "lesbian-republican",
   "metadata": {},
   "outputs": [],
   "source": []
  }
 ],
 "metadata": {
  "kernelspec": {
   "display_name": "Python 3",
   "language": "python",
   "name": "python3"
  },
  "language_info": {
   "codemirror_mode": {
    "name": "ipython",
    "version": 3
   },
   "file_extension": ".py",
   "mimetype": "text/x-python",
   "name": "python",
   "nbconvert_exporter": "python",
   "pygments_lexer": "ipython3",
   "version": "3.8.8"
  }
 },
 "nbformat": 4,
 "nbformat_minor": 5
}
