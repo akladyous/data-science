{
 "cells": [
  {
   "cell_type": "markdown",
   "id": "french-pollution",
   "metadata": {},
   "source": [
    "# Scikit-learn\n",
    ">this notebook illustrates how to draw a simple regression line using the SciKit library.\n",
    "\n",
    ">For Scikit-learn to work correctly, you’ll need a 64-bit version of Python 3, and the NumPy and SciPy libraries. For visual data plots, you’ll also need matplotlib.\n",
    "\n"
   ]
  },
  {
   "cell_type": "markdown",
   "id": "private-survivor",
   "metadata": {},
   "source": [
    "#### Import Scikit-learn - Matplolib - Sklearn"
   ]
  },
  {
   "cell_type": "code",
   "execution_count": 1,
   "id": "junior-vanilla",
   "metadata": {},
   "outputs": [],
   "source": [
    "import numpy as np\n",
    "import matplotlib.pyplot as plt\n",
    "from sklearn.linear_model import LinearRegression\n",
    "%matplotlib inline"
   ]
  },
  {
   "cell_type": "markdown",
   "id": "orange-chrome",
   "metadata": {},
   "source": [
    "#### Generate synthetic regression data\n",
    "\n",
    "just for the sake of testing we're going to generate synthetic variable to define our 2 our variables (regressors, X) and (predictor, Y).\n",
    "\n",
    "first we need to reshape X into 2d array as required by SciKit library, for more info refer to  :\n",
    "https://scikit-learn.org/stable/modules/generated/sklearn.linear_model.LinearRegression.html#sklearn.linear_model.LinearRegression.fit"
   ]
  },
  {
   "cell_type": "code",
   "execution_count": 2,
   "id": "bacterial-wheat",
   "metadata": {},
   "outputs": [],
   "source": [
    "np.random.seed(5)\n",
    "x = np.arange(20, 60).reshape((-1, 1))                       # AGEs \n",
    "y = np.sort(np.random.randint(25000, 35000, size=40))        # INCOMEs"
   ]
  },
  {
   "cell_type": "code",
   "execution_count": 3,
   "id": "north-painting",
   "metadata": {},
   "outputs": [],
   "source": [
    "model = LinearRegression()"
   ]
  },
  {
   "cell_type": "code",
   "execution_count": 7,
   "id": "bigger-howard",
   "metadata": {},
   "outputs": [
    {
     "data": {
      "text/plain": [
       "LinearRegression()"
      ]
     },
     "execution_count": 7,
     "metadata": {},
     "output_type": "execute_result"
    }
   ],
   "source": [
    "model.fit(x.reshape(-1,1),y.reshape(-1,1))"
   ]
  },
  {
   "cell_type": "code",
   "execution_count": 8,
   "id": "built-taste",
   "metadata": {},
   "outputs": [
    {
     "name": "stdout",
     "output_type": "stream",
     "text": [
      "intercept\t 19356.83292682927\n",
      "Slope\t\t 258.0219512195122\n",
      "R Squared\t 0.950691642807735\n"
     ]
    }
   ],
   "source": [
    "print(f\"intercept\\t {model.intercept_[0]}\\nSlope\\t\\t {model.coef_[0,0]}\\nR Squared\\t {model.score(x,y)}\")"
   ]
  },
  {
   "cell_type": "code",
   "execution_count": 9,
   "id": "included-pollution",
   "metadata": {},
   "outputs": [],
   "source": [
    "y_hat = model.predict(x.reshape(-1,1))"
   ]
  },
  {
   "cell_type": "code",
   "execution_count": 14,
   "id": "professional-convention",
   "metadata": {},
   "outputs": [
    {
     "data": {
      "image/png": "[encoded data removed]",
      "text/plain": [
       "<Figure size 432x288 with 1 Axes>"
      ]
     },
     "metadata": {
      "needs_background": "light"
     },
     "output_type": "display_data"
    }
   ],
   "source": [
    "plt.plot(x, y, 'o', label='original data')\n",
    "plt.plot(x, y_hat, 'r', label='fitted line')\n",
    "plt.legend()\n",
    "plt.show()"
   ]
  },
  {
   "cell_type": "code",
   "execution_count": null,
   "id": "advanced-sociology",
   "metadata": {},
   "outputs": [],
   "source": []
  }
 ],
 "metadata": {
  "kernelspec": {
   "display_name": "Python 3",
   "language": "python",
   "name": "python3"
  },
  "language_info": {
   "codemirror_mode": {
    "name": "ipython",
    "version": 3
   },
   "file_extension": ".py",
   "mimetype": "text/x-python",
   "name": "python",
   "nbconvert_exporter": "python",
   "pygments_lexer": "ipython3",
   "version": "3.8.8"
  }
 },
 "nbformat": 4,
 "nbformat_minor": 5
}
