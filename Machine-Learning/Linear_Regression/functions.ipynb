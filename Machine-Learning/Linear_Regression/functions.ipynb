{
 "cells": [
  {
   "cell_type": "code",
   "execution_count": 4,
   "id": "employed-afghanistan",
   "metadata": {},
   "outputs": [],
   "source": [
    "class Stat:\n",
    "    def __init__(self, x, y, model):\n",
    "        self.independent = x\n",
    "        self.dependent = y\n",
    "    \n",
    "    \n",
    "    def sse(self):\n",
    "        \"\"\"\n",
    "        Residual sum of squared errors of our regression model\n",
    "        $$ \\large SSE = \\sum_i(y_i - \\hat y_i)^2 $$\n",
    "        \"\"\"\n",
    "        return np.sum((y-model)**2)\n",
    "    \n",
    "    def sst(self):\n",
    "        y_mean = np.mean(y)\n",
    "        return np.sum((y-y_mean)**2)\n",
    "    \n",
    "    def r_squared(self):\n",
    "        \"\"\"Coefficient of Determination\"\"\"        \n",
    "    \n",
    "    def ols(self):\n",
    "        \"\"\" \n",
    "        Ordinary Least Squares (OLS)\n",
    "        \"\"\"\n",
    "        nominator   = 0\n",
    "        denominator = 0\n",
    "\n",
    "        for i in range(X.size):\n",
    "            nominator   += (X[i] - X_mean) * (Y[i] - Y_mean)\n",
    "            denominator += (X[i] - X_mean)**2\n",
    "        #calculate the slope\n",
    "        M = nominator / denominator\n",
    "        C = Y_mean - M * X_mean\n",
    "        return M, C\n",
    "    \n",
    "    \n",
    "    \n",
    "        "
   ]
  },
  {
   "cell_type": "code",
   "execution_count": null,
   "id": "neutral-friday",
   "metadata": {},
   "outputs": [],
   "source": []
  }
 ],
 "metadata": {
  "kernelspec": {
   "display_name": "Python 3",
   "language": "python",
   "name": "python3"
  },
  "language_info": {
   "codemirror_mode": {
    "name": "ipython",
    "version": 3
   },
   "file_extension": ".py",
   "mimetype": "text/x-python",
   "name": "python",
   "nbconvert_exporter": "python",
   "pygments_lexer": "ipython3",
   "version": "3.8.8"
  }
 },
 "nbformat": 4,
 "nbformat_minor": 5
}
