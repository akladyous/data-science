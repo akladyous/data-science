{
 "cells": [
  {
   "cell_type": "code",
   "execution_count": 22,
   "id": "limited-stable",
   "metadata": {
    "execution": {
     "iopub.execute_input": "2021-04-25T01:48:54.285708Z",
     "iopub.status.busy": "2021-04-25T01:48:54.285062Z",
     "iopub.status.idle": "2021-04-25T01:48:54.294805Z",
     "shell.execute_reply": "2021-04-25T01:48:54.293431Z",
     "shell.execute_reply.started": "2021-04-25T01:48:54.285640Z"
    },
    "executionInfo": {
     "elapsed": 322,
     "status": "ok",
     "timestamp": 1618537410367,
     "user": {
      "displayName": "Akladyous Boula",
      "photoUrl": "https://lh3.googleusercontent.com/a-/AOh14GgRvdWOpMzZWtSqmmrKKNtVuDN9sMbX2uKQKcmZRg=s64",
      "userId": "01803971212279379512"
     },
     "user_tz": 240
    },
    "id": "armed-participant",
    "tags": []
   },
   "outputs": [],
   "source": [
    "import numpy as np\n",
    "import matplotlib.pyplot as plt\n",
    "import seaborn as sns\n",
    "import pandas as pd\n",
    "\n",
    "from sklearn.preprocessing import StandardScaler, OneHotEncoder\n",
    "from sklearn.datasets import load_iris\n",
    "from sklearn.decomposition import PCA"
   ]
  },
  {
   "cell_type": "code",
   "execution_count": 23,
   "id": "undefined-legislation",
   "metadata": {
    "execution": {
     "iopub.execute_input": "2021-04-25T01:48:54.540012Z",
     "iopub.status.busy": "2021-04-25T01:48:54.539607Z",
     "iopub.status.idle": "2021-04-25T01:48:54.551379Z",
     "shell.execute_reply": "2021-04-25T01:48:54.550307Z",
     "shell.execute_reply.started": "2021-04-25T01:48:54.539974Z"
    },
    "executionInfo": {
     "elapsed": 214,
     "status": "ok",
     "timestamp": 1618537410577,
     "user": {
      "displayName": "Akladyous Boula",
      "photoUrl": "https://lh3.googleusercontent.com/a-/AOh14GgRvdWOpMzZWtSqmmrKKNtVuDN9sMbX2uKQKcmZRg=s64",
      "userId": "01803971212279379512"
     },
     "user_tz": 240
    },
    "id": "particular-western",
    "tags": []
   },
   "outputs": [],
   "source": [
    "iris = load_iris()"
   ]
  },
  {
   "cell_type": "code",
   "execution_count": 24,
   "id": "heated-southeast",
   "metadata": {
    "execution": {
     "iopub.execute_input": "2021-04-25T01:48:54.951532Z",
     "iopub.status.busy": "2021-04-25T01:48:54.951143Z",
     "iopub.status.idle": "2021-04-25T01:48:54.957656Z",
     "shell.execute_reply": "2021-04-25T01:48:54.956394Z",
     "shell.execute_reply.started": "2021-04-25T01:48:54.951497Z"
    },
    "executionInfo": {
     "elapsed": 213,
     "status": "ok",
     "timestamp": 1618537410890,
     "user": {
      "displayName": "Akladyous Boula",
      "photoUrl": "https://lh3.googleusercontent.com/a-/AOh14GgRvdWOpMzZWtSqmmrKKNtVuDN9sMbX2uKQKcmZRg=s64",
      "userId": "01803971212279379512"
     },
     "user_tz": 240
    },
    "id": "bulgarian-clause",
    "tags": []
   },
   "outputs": [],
   "source": [
    "x, y = iris.data, iris.target"
   ]
  },
  {
   "cell_type": "code",
   "execution_count": 25,
   "id": "breathing-tanzania",
   "metadata": {
    "execution": {
     "iopub.execute_input": "2021-04-25T01:48:55.123437Z",
     "iopub.status.busy": "2021-04-25T01:48:55.123015Z",
     "iopub.status.idle": "2021-04-25T01:48:55.132720Z",
     "shell.execute_reply": "2021-04-25T01:48:55.131259Z",
     "shell.execute_reply.started": "2021-04-25T01:48:55.123399Z"
    },
    "executionInfo": {
     "elapsed": 242,
     "status": "ok",
     "timestamp": 1618537411337,
     "user": {
      "displayName": "Akladyous Boula",
      "photoUrl": "https://lh3.googleusercontent.com/a-/AOh14GgRvdWOpMzZWtSqmmrKKNtVuDN9sMbX2uKQKcmZRg=s64",
      "userId": "01803971212279379512"
     },
     "user_tz": 240
    },
    "id": "hybrid-infrared",
    "tags": []
   },
   "outputs": [],
   "source": [
    "df = pd.DataFrame(np.concatenate((x,y.reshape(-1,1)), axis=1), columns=iris.feature_names+['target'])"
   ]
  },
  {
   "cell_type": "code",
   "execution_count": 26,
   "id": "confirmed-terrorist",
   "metadata": {
    "colab": {
     "base_uri": "https://localhost:8080/"
    },
    "execution": {
     "iopub.execute_input": "2021-04-25T01:48:55.329785Z",
     "iopub.status.busy": "2021-04-25T01:48:55.329065Z",
     "iopub.status.idle": "2021-04-25T01:48:55.338562Z",
     "shell.execute_reply": "2021-04-25T01:48:55.337359Z",
     "shell.execute_reply.started": "2021-04-25T01:48:55.329714Z"
    },
    "executionInfo": {
     "elapsed": 367,
     "status": "ok",
     "timestamp": 1618537411828,
     "user": {
      "displayName": "Akladyous Boula",
      "photoUrl": "https://lh3.googleusercontent.com/a-/AOh14GgRvdWOpMzZWtSqmmrKKNtVuDN9sMbX2uKQKcmZRg=s64",
      "userId": "01803971212279379512"
     },
     "user_tz": 240
    },
    "id": "gentle-producer",
    "outputId": "9fc96c6c-cd08-48c4-f20b-d2cf035df716",
    "tags": []
   },
   "outputs": [
    {
     "data": {
      "text/plain": [
       "(150, 5)"
      ]
     },
     "execution_count": 26,
     "metadata": {},
     "output_type": "execute_result"
    }
   ],
   "source": [
    "df.shape"
   ]
  },
  {
   "cell_type": "code",
   "execution_count": 27,
   "id": "better-coupon",
   "metadata": {
    "colab": {
     "base_uri": "https://localhost:8080/",
     "height": 204
    },
    "execution": {
     "iopub.execute_input": "2021-04-25T01:48:55.736545Z",
     "iopub.status.busy": "2021-04-25T01:48:55.735911Z",
     "iopub.status.idle": "2021-04-25T01:48:55.757912Z",
     "shell.execute_reply": "2021-04-25T01:48:55.757100Z",
     "shell.execute_reply.started": "2021-04-25T01:48:55.736479Z"
    },
    "executionInfo": {
     "elapsed": 313,
     "status": "ok",
     "timestamp": 1618537414514,
     "user": {
      "displayName": "Akladyous Boula",
      "photoUrl": "https://lh3.googleusercontent.com/a-/AOh14GgRvdWOpMzZWtSqmmrKKNtVuDN9sMbX2uKQKcmZRg=s64",
      "userId": "01803971212279379512"
     },
     "user_tz": 240
    },
    "id": "wired-purchase",
    "outputId": "ad163f4a-3a0f-4a21-dcda-39336e5f6541",
    "tags": []
   },
   "outputs": [
    {
     "data": {
      "text/html": [
       "<div>\n",
       "<style scoped>\n",
       "    .dataframe tbody tr th:only-of-type {\n",
       "        vertical-align: middle;\n",
       "    }\n",
       "\n",
       "    .dataframe tbody tr th {\n",
       "        vertical-align: top;\n",
       "    }\n",
       "\n",
       "    .dataframe thead th {\n",
       "        text-align: right;\n",
       "    }\n",
       "</style>\n",
       "<table border=\"1\" class=\"dataframe\">\n",
       "  <thead>\n",
       "    <tr style=\"text-align: right;\">\n",
       "      <th></th>\n",
       "      <th>sepal length (cm)</th>\n",
       "      <th>sepal width (cm)</th>\n",
       "      <th>petal length (cm)</th>\n",
       "      <th>petal width (cm)</th>\n",
       "      <th>target</th>\n",
       "    </tr>\n",
       "  </thead>\n",
       "  <tbody>\n",
       "    <tr>\n",
       "      <th>0</th>\n",
       "      <td>5.1</td>\n",
       "      <td>3.5</td>\n",
       "      <td>1.4</td>\n",
       "      <td>0.2</td>\n",
       "      <td>0.0</td>\n",
       "    </tr>\n",
       "    <tr>\n",
       "      <th>1</th>\n",
       "      <td>4.9</td>\n",
       "      <td>3.0</td>\n",
       "      <td>1.4</td>\n",
       "      <td>0.2</td>\n",
       "      <td>0.0</td>\n",
       "    </tr>\n",
       "    <tr>\n",
       "      <th>2</th>\n",
       "      <td>4.7</td>\n",
       "      <td>3.2</td>\n",
       "      <td>1.3</td>\n",
       "      <td>0.2</td>\n",
       "      <td>0.0</td>\n",
       "    </tr>\n",
       "    <tr>\n",
       "      <th>3</th>\n",
       "      <td>4.6</td>\n",
       "      <td>3.1</td>\n",
       "      <td>1.5</td>\n",
       "      <td>0.2</td>\n",
       "      <td>0.0</td>\n",
       "    </tr>\n",
       "    <tr>\n",
       "      <th>4</th>\n",
       "      <td>5.0</td>\n",
       "      <td>3.6</td>\n",
       "      <td>1.4</td>\n",
       "      <td>0.2</td>\n",
       "      <td>0.0</td>\n",
       "    </tr>\n",
       "  </tbody>\n",
       "</table>\n",
       "</div>"
      ],
      "text/plain": [
       "   sepal length (cm)  sepal width (cm)  petal length (cm)  petal width (cm)  \\\n",
       "0                5.1               3.5                1.4               0.2   \n",
       "1                4.9               3.0                1.4               0.2   \n",
       "2                4.7               3.2                1.3               0.2   \n",
       "3                4.6               3.1                1.5               0.2   \n",
       "4                5.0               3.6                1.4               0.2   \n",
       "\n",
       "   target  \n",
       "0     0.0  \n",
       "1     0.0  \n",
       "2     0.0  \n",
       "3     0.0  \n",
       "4     0.0  "
      ]
     },
     "execution_count": 27,
     "metadata": {},
     "output_type": "execute_result"
    }
   ],
   "source": [
    "df.head()"
   ]
  },
  {
   "cell_type": "code",
   "execution_count": 28,
   "id": "gothic-jones",
   "metadata": {
    "execution": {
     "iopub.execute_input": "2021-04-25T01:48:55.938070Z",
     "iopub.status.busy": "2021-04-25T01:48:55.937489Z",
     "iopub.status.idle": "2021-04-25T01:48:55.943611Z",
     "shell.execute_reply": "2021-04-25T01:48:55.942323Z",
     "shell.execute_reply.started": "2021-04-25T01:48:55.938006Z"
    },
    "executionInfo": {
     "elapsed": 324,
     "status": "ok",
     "timestamp": 1618537465029,
     "user": {
      "displayName": "Akladyous Boula",
      "photoUrl": "https://lh3.googleusercontent.com/a-/AOh14GgRvdWOpMzZWtSqmmrKKNtVuDN9sMbX2uKQKcmZRg=s64",
      "userId": "01803971212279379512"
     },
     "user_tz": 240
    },
    "id": "vocal-administration",
    "tags": []
   },
   "outputs": [],
   "source": [
    "scaler = StandardScaler()"
   ]
  },
  {
   "cell_type": "code",
   "execution_count": 51,
   "id": "worthy-wrist",
   "metadata": {
    "execution": {
     "iopub.execute_input": "2021-04-25T03:55:52.320772Z",
     "iopub.status.busy": "2021-04-25T03:55:52.320411Z",
     "iopub.status.idle": "2021-04-25T03:55:52.330463Z",
     "shell.execute_reply": "2021-04-25T03:55:52.329642Z",
     "shell.execute_reply.started": "2021-04-25T03:55:52.320737Z"
    },
    "executionInfo": {
     "elapsed": 452,
     "status": "ok",
     "timestamp": 1618537467366,
     "user": {
      "displayName": "Akladyous Boula",
      "photoUrl": "https://lh3.googleusercontent.com/a-/AOh14GgRvdWOpMzZWtSqmmrKKNtVuDN9sMbX2uKQKcmZRg=s64",
      "userId": "01803971212279379512"
     },
     "user_tz": 240
    },
    "id": "confidential-desktop",
    "tags": []
   },
   "outputs": [
    {
     "data": {
      "text/plain": [
       "(150, 4)"
      ]
     },
     "execution_count": 51,
     "metadata": {},
     "output_type": "execute_result"
    }
   ],
   "source": [
    "x_scaled = scaler.fit_transform(x)\n",
    "x_scaled.shape"
   ]
  },
  {
   "cell_type": "markdown",
   "id": "casual-swift",
   "metadata": {
    "id": "contemporary-natural"
   },
   "source": [
    "## Principal Component Analysis (PCA)"
   ]
  },
  {
   "cell_type": "code",
   "execution_count": 100,
   "id": "running-midwest",
   "metadata": {
    "execution": {
     "iopub.execute_input": "2021-04-25T04:08:19.661227Z",
     "iopub.status.busy": "2021-04-25T04:08:19.660595Z",
     "iopub.status.idle": "2021-04-25T04:08:19.667531Z",
     "shell.execute_reply": "2021-04-25T04:08:19.666111Z",
     "shell.execute_reply.started": "2021-04-25T04:08:19.661160Z"
    },
    "executionInfo": {
     "elapsed": 211,
     "status": "ok",
     "timestamp": 1618537467559,
     "user": {
      "displayName": "Akladyous Boula",
      "photoUrl": "https://lh3.googleusercontent.com/a-/AOh14GgRvdWOpMzZWtSqmmrKKNtVuDN9sMbX2uKQKcmZRg=s64",
      "userId": "01803971212279379512"
     },
     "user_tz": 240
    },
    "id": "choice-shooting",
    "tags": []
   },
   "outputs": [],
   "source": [
    "pca = PCA(n_components=2)"
   ]
  },
  {
   "cell_type": "code",
   "execution_count": 111,
   "id": "vulnerable-housing",
   "metadata": {
    "execution": {
     "iopub.execute_input": "2021-04-25T04:10:05.531271Z",
     "iopub.status.busy": "2021-04-25T04:10:05.530636Z",
     "iopub.status.idle": "2021-04-25T04:10:05.538133Z",
     "shell.execute_reply": "2021-04-25T04:10:05.536491Z",
     "shell.execute_reply.started": "2021-04-25T04:10:05.531201Z"
    },
    "executionInfo": {
     "elapsed": 323,
     "status": "ok",
     "timestamp": 1618537468452,
     "user": {
      "displayName": "Akladyous Boula",
      "photoUrl": "https://lh3.googleusercontent.com/a-/AOh14GgRvdWOpMzZWtSqmmrKKNtVuDN9sMbX2uKQKcmZRg=s64",
      "userId": "01803971212279379512"
     },
     "user_tz": 240
    },
    "id": "authentic-belief",
    "tags": []
   },
   "outputs": [],
   "source": [
    "x1=x_scaled[:,0:2]"
   ]
  },
  {
   "cell_type": "code",
   "execution_count": 112,
   "id": "touched-surprise",
   "metadata": {
    "execution": {
     "iopub.execute_input": "2021-04-25T04:10:06.044936Z",
     "iopub.status.busy": "2021-04-25T04:10:06.044260Z",
     "iopub.status.idle": "2021-04-25T04:10:06.052813Z",
     "shell.execute_reply": "2021-04-25T04:10:06.051899Z",
     "shell.execute_reply.started": "2021-04-25T04:10:06.044866Z"
    },
    "executionInfo": {
     "elapsed": 262,
     "status": "ok",
     "timestamp": 1618522998138,
     "user": {
      "displayName": "Akladyous Boula",
      "photoUrl": "https://lh3.googleusercontent.com/a-/AOh14GgRvdWOpMzZWtSqmmrKKNtVuDN9sMbX2uKQKcmZRg=s64",
      "userId": "01803971212279379512"
     },
     "user_tz": 240
    },
    "id": "cathedral-madness",
    "tags": []
   },
   "outputs": [],
   "source": [
    "pca_recast = pca.fit_transform(x1)"
   ]
  },
  {
   "cell_type": "code",
   "execution_count": 113,
   "id": "placed-norway",
   "metadata": {
    "execution": {
     "iopub.execute_input": "2021-04-25T04:10:06.443727Z",
     "iopub.status.busy": "2021-04-25T04:10:06.443306Z",
     "iopub.status.idle": "2021-04-25T04:10:06.449490Z",
     "shell.execute_reply": "2021-04-25T04:10:06.448334Z",
     "shell.execute_reply.started": "2021-04-25T04:10:06.443686Z"
    }
   },
   "outputs": [
    {
     "name": "stdout",
     "output_type": "stream",
     "text": [
      "Explained Variance Ratio:\n",
      "\t[0.55878489 0.44121511]\n",
      "Sum of Variance Ratio: 0.9999999999999999\n"
     ]
    }
   ],
   "source": [
    "print(f'Explained Variance Ratio:\\n\\t{pca.explained_variance_ratio_}')\n",
    "print(f'Sum of Variance Ratio:', sum(pca.explained_variance_ratio_))"
   ]
  },
  {
   "cell_type": "code",
   "execution_count": 114,
   "id": "blank-president",
   "metadata": {
    "colab": {
     "base_uri": "https://localhost:8080/",
     "height": 282
    },
    "execution": {
     "iopub.execute_input": "2021-04-25T04:10:08.234325Z",
     "iopub.status.busy": "2021-04-25T04:10:08.233899Z",
     "iopub.status.idle": "2021-04-25T04:10:08.337573Z",
     "shell.execute_reply": "2021-04-25T04:10:08.337243Z",
     "shell.execute_reply.started": "2021-04-25T04:10:08.234285Z"
    },
    "executionInfo": {
     "elapsed": 546,
     "status": "ok",
     "timestamp": 1618522998661,
     "user": {
      "displayName": "Akladyous Boula",
      "photoUrl": "https://lh3.googleusercontent.com/a-/AOh14GgRvdWOpMzZWtSqmmrKKNtVuDN9sMbX2uKQKcmZRg=s64",
      "userId": "01803971212279379512"
     },
     "user_tz": 240
    },
    "id": "assumed-sleep",
    "outputId": "81d7e26f-4374-4005-8126-b07323211c3e",
    "tags": []
   },
   "outputs": [
    {
     "data": {
      "text/plain": [
       "<matplotlib.collections.PathCollection at 0x7ff79800d130>"
      ]
     },
     "execution_count": 114,
     "metadata": {},
     "output_type": "execute_result"
    },
    {
     "data": {
      "image/png": "[encoded data removed]",
      "text/plain": [
       "<Figure size 432x288 with 1 Axes>"
      ]
     },
     "metadata": {
      "needs_background": "light"
     },
     "output_type": "display_data"
    }
   ],
   "source": [
    "plt.scatter(pca_recast[:,0], pca_recast[:,1], c=y)"
   ]
  },
  {
   "cell_type": "code",
   "execution_count": 115,
   "id": "yellow-radiation",
   "metadata": {
    "colab": {
     "base_uri": "https://localhost:8080/",
     "height": 299
    },
    "execution": {
     "iopub.execute_input": "2021-04-25T04:10:11.535261Z",
     "iopub.status.busy": "2021-04-25T04:10:11.534626Z",
     "iopub.status.idle": "2021-04-25T04:10:11.624876Z",
     "shell.execute_reply": "2021-04-25T04:10:11.624504Z",
     "shell.execute_reply.started": "2021-04-25T04:10:11.535192Z"
    },
    "executionInfo": {
     "elapsed": 499,
     "status": "ok",
     "timestamp": 1618522998788,
     "user": {
      "displayName": "Akladyous Boula",
      "photoUrl": "https://lh3.googleusercontent.com/a-/AOh14GgRvdWOpMzZWtSqmmrKKNtVuDN9sMbX2uKQKcmZRg=s64",
      "userId": "01803971212279379512"
     },
     "user_tz": 240
    },
    "id": "bizarre-excellence",
    "outputId": "9f535a0d-41f6-418b-e4e6-2522867387d4",
    "tags": []
   },
   "outputs": [
    {
     "data": {
      "image/png": "[encoded data removed]",
      "text/plain": [
       "<Figure size 432x288 with 1 Axes>"
      ]
     },
     "metadata": {
      "needs_background": "light"
     },
     "output_type": "display_data"
    }
   ],
   "source": [
    "plt.bar(['f0', 'f1'], pca.explained_variance_ratio_);"
   ]
  },
  {
   "cell_type": "code",
   "execution_count": 116,
   "id": "drawn-sunset",
   "metadata": {
    "colab": {
     "base_uri": "https://localhost:8080/"
    },
    "execution": {
     "iopub.execute_input": "2021-04-25T04:10:12.937001Z",
     "iopub.status.busy": "2021-04-25T04:10:12.936171Z",
     "iopub.status.idle": "2021-04-25T04:10:12.945610Z",
     "shell.execute_reply": "2021-04-25T04:10:12.944035Z",
     "shell.execute_reply.started": "2021-04-25T04:10:12.936925Z"
    },
    "executionInfo": {
     "elapsed": 335,
     "status": "ok",
     "timestamp": 1618523000606,
     "user": {
      "displayName": "Akladyous Boula",
      "photoUrl": "https://lh3.googleusercontent.com/a-/AOh14GgRvdWOpMzZWtSqmmrKKNtVuDN9sMbX2uKQKcmZRg=s64",
      "userId": "01803971212279379512"
     },
     "user_tz": 240
    },
    "id": "minute-sapphire",
    "outputId": "f44e6531-7d18-41f1-fd6b-5a5281f80f60",
    "tags": []
   },
   "outputs": [
    {
     "data": {
      "text/plain": [
       "array([0.55878489, 1.        ])"
      ]
     },
     "execution_count": 116,
     "metadata": {},
     "output_type": "execute_result"
    }
   ],
   "source": [
    "pca.explained_variance_ratio_.cumsum()"
   ]
  },
  {
   "cell_type": "code",
   "execution_count": 117,
   "id": "southern-jenny",
   "metadata": {
    "colab": {
     "base_uri": "https://localhost:8080/"
    },
    "execution": {
     "iopub.execute_input": "2021-04-25T04:10:30.927303Z",
     "iopub.status.busy": "2021-04-25T04:10:30.926599Z",
     "iopub.status.idle": "2021-04-25T04:10:30.936751Z",
     "shell.execute_reply": "2021-04-25T04:10:30.935680Z",
     "shell.execute_reply.started": "2021-04-25T04:10:30.927225Z"
    },
    "executionInfo": {
     "elapsed": 187,
     "status": "ok",
     "timestamp": 1618523000606,
     "user": {
      "displayName": "Akladyous Boula",
      "photoUrl": "https://lh3.googleusercontent.com/a-/AOh14GgRvdWOpMzZWtSqmmrKKNtVuDN9sMbX2uKQKcmZRg=s64",
      "userId": "01803971212279379512"
     },
     "user_tz": 240
    },
    "id": "later-secret",
    "outputId": "68e3ead5-7d13-46b3-f12d-d37bdb95c84b",
    "tags": []
   },
   "outputs": [
    {
     "data": {
      "text/plain": [
       "array([[1.00725629, 0.1184229 ],\n",
       "       [0.1184229 , 1.00725629]])"
      ]
     },
     "execution_count": 117,
     "metadata": {},
     "output_type": "execute_result"
    }
   ],
   "source": [
    "pca.get_precision()"
   ]
  },
  {
   "cell_type": "code",
   "execution_count": 118,
   "id": "affiliated-intermediate",
   "metadata": {
    "colab": {
     "base_uri": "https://localhost:8080/"
    },
    "execution": {
     "iopub.execute_input": "2021-04-25T04:10:43.811062Z",
     "iopub.status.busy": "2021-04-25T04:10:43.810631Z",
     "iopub.status.idle": "2021-04-25T04:10:43.816824Z",
     "shell.execute_reply": "2021-04-25T04:10:43.816091Z",
     "shell.execute_reply.started": "2021-04-25T04:10:43.811024Z"
    },
    "executionInfo": {
     "elapsed": 178,
     "status": "ok",
     "timestamp": 1618523000752,
     "user": {
      "displayName": "Akladyous Boula",
      "photoUrl": "https://lh3.googleusercontent.com/a-/AOh14GgRvdWOpMzZWtSqmmrKKNtVuDN9sMbX2uKQKcmZRg=s64",
      "userId": "01803971212279379512"
     },
     "user_tz": 240
    },
    "id": "comparative-tackle",
    "outputId": "d3d4e2c7-ab4c-401c-b1d2-811012258d2f",
    "tags": []
   },
   "outputs": [
    {
     "data": {
      "text/plain": [
       "array([[ 1.00671141, -0.11835884],\n",
       "       [-0.11835884,  1.00671141]])"
      ]
     },
     "execution_count": 118,
     "metadata": {},
     "output_type": "execute_result"
    }
   ],
   "source": [
    "pca.get_covariance()"
   ]
  },
  {
   "cell_type": "code",
   "execution_count": 120,
   "id": "photographic-rebound",
   "metadata": {
    "colab": {
     "base_uri": "https://localhost:8080/"
    },
    "execution": {
     "iopub.execute_input": "2021-04-25T04:10:51.434908Z",
     "iopub.status.busy": "2021-04-25T04:10:51.434288Z",
     "iopub.status.idle": "2021-04-25T04:10:51.444794Z",
     "shell.execute_reply": "2021-04-25T04:10:51.443575Z",
     "shell.execute_reply.started": "2021-04-25T04:10:51.434840Z"
    },
    "executionInfo": {
     "elapsed": 233,
     "status": "ok",
     "timestamp": 1618523001008,
     "user": {
      "displayName": "Akladyous Boula",
      "photoUrl": "https://lh3.googleusercontent.com/a-/AOh14GgRvdWOpMzZWtSqmmrKKNtVuDN9sMbX2uKQKcmZRg=s64",
      "userId": "01803971212279379512"
     },
     "user_tz": 240
    },
    "id": "prospective-supervisor",
    "outputId": "5f147bd1-c11f-4642-ec75-81d74872951d",
    "tags": []
   },
   "outputs": [
    {
     "data": {
      "text/plain": [
       "-2.830939849594074"
      ]
     },
     "execution_count": 120,
     "metadata": {},
     "output_type": "execute_result"
    }
   ],
   "source": [
    "pca.score(x_scaled[:,:2])"
   ]
  },
  {
   "cell_type": "code",
   "execution_count": 20,
   "id": "studied-reflection",
   "metadata": {
    "colab": {
     "base_uri": "https://localhost:8080/"
    },
    "execution": {
     "iopub.execute_input": "2021-04-15T20:52:11.908970Z",
     "iopub.status.busy": "2021-04-15T20:52:11.908331Z",
     "iopub.status.idle": "2021-04-15T20:52:11.925499Z",
     "shell.execute_reply": "2021-04-15T20:52:11.924699Z",
     "shell.execute_reply.started": "2021-04-15T20:52:11.908934Z"
    },
    "executionInfo": {
     "elapsed": 321,
     "status": "ok",
     "timestamp": 1618523002554,
     "user": {
      "displayName": "Akladyous Boula",
      "photoUrl": "https://lh3.googleusercontent.com/a-/AOh14GgRvdWOpMzZWtSqmmrKKNtVuDN9sMbX2uKQKcmZRg=s64",
      "userId": "01803971212279379512"
     },
     "user_tz": 240
    },
    "id": "finite-fisher",
    "outputId": "01c76d37-576a-44a4-f911-b2c11b30f4dd",
    "tags": []
   },
   "outputs": [
    {
     "name": "stdout",
     "output_type": "stream",
     "text": [
      "N features: 2\n",
      "Variance Ratio: [0.78716571 0.21283429]\n",
      "Score: -1.8051688297690944\n",
      "\n",
      "\n",
      "N features: 3\n",
      "Variance Ratio: [0.92464061 0.06046599 0.0148934 ]\n",
      "Score: -2.7778049459974623\n",
      "\n",
      "\n",
      "N features: 4\n",
      "Variance Ratio: [0.92461872 0.05306648 0.01710261 0.00521218]\n",
      "Score: -2.532808843783388\n",
      "\n",
      "\n"
     ]
    }
   ],
   "source": [
    "for n in range(2, x.shape[1]+1):\n",
    "    pca = PCA(n_components=n, )\n",
    "    pca.fit_transform(x[:,0:n])\n",
    "    print(f\"{'N features:':10} {n}\")\n",
    "    print(f\"{'Variance Ratio:':10} {pca.explained_variance_ratio_}\")\n",
    "    print(f\"{'Score:':5} {pca.score(x[:,0:n])}\")\n",
    "#     print(f\"{'Precision:'}\\n {pca.get_precision()}\")\n",
    "    print('\\n')"
   ]
  },
  {
   "cell_type": "markdown",
   "id": "mounted-baseline",
   "metadata": {
    "id": "neural-career",
    "tags": []
   },
   "source": [
    "## Multiple Correspondence Analysis (MCA): Categorical Variables"
   ]
  },
  {
   "cell_type": "code",
   "execution_count": 75,
   "id": "informational-mayor",
   "metadata": {
    "execution": {
     "iopub.execute_input": "2021-04-15T21:29:53.305279Z",
     "iopub.status.busy": "2021-04-15T21:29:53.304902Z",
     "iopub.status.idle": "2021-04-15T21:29:53.323236Z",
     "shell.execute_reply": "2021-04-15T21:29:53.322013Z",
     "shell.execute_reply.started": "2021-04-15T21:29:53.305244Z"
    },
    "executionInfo": {
     "elapsed": 344,
     "status": "ok",
     "timestamp": 1618531513254,
     "user": {
      "displayName": "Akladyous Boula",
      "photoUrl": "https://lh3.googleusercontent.com/a-/AOh14GgRvdWOpMzZWtSqmmrKKNtVuDN9sMbX2uKQKcmZRg=s64",
      "userId": "01803971212279379512"
     },
     "user_tz": 240
    },
    "id": "collect-penguin"
   },
   "outputs": [],
   "source": [
    "import mca"
   ]
  },
  {
   "cell_type": "code",
   "execution_count": 76,
   "id": "elder-carol",
   "metadata": {
    "executionInfo": {
     "elapsed": 361,
     "status": "ok",
     "timestamp": 1618531514119,
     "user": {
      "displayName": "Akladyous Boula",
      "photoUrl": "https://lh3.googleusercontent.com/a-/AOh14GgRvdWOpMzZWtSqmmrKKNtVuDN9sMbX2uKQKcmZRg=s64",
      "userId": "01803971212279379512"
     },
     "user_tz": 240
    },
    "id": "southwest-dealing"
   },
   "outputs": [],
   "source": [
    "ohe = OneHotEncoder(handle_unknown='ignore', sparse=False)"
   ]
  },
  {
   "cell_type": "code",
   "execution_count": 77,
   "id": "driven-weight",
   "metadata": {
    "executionInfo": {
     "elapsed": 326,
     "status": "ok",
     "timestamp": 1618531519632,
     "user": {
      "displayName": "Akladyous Boula",
      "photoUrl": "https://lh3.googleusercontent.com/a-/AOh14GgRvdWOpMzZWtSqmmrKKNtVuDN9sMbX2uKQKcmZRg=s64",
      "userId": "01803971212279379512"
     },
     "user_tz": 240
    },
    "id": "iVbLhv36gCl7"
   },
   "outputs": [],
   "source": [
    "x = df.drop(labels=['target'], axis=1)"
   ]
  },
  {
   "cell_type": "code",
   "execution_count": 78,
   "id": "particular-newsletter",
   "metadata": {
    "executionInfo": {
     "elapsed": 318,
     "status": "ok",
     "timestamp": 1618531526665,
     "user": {
      "displayName": "Akladyous Boula",
      "photoUrl": "https://lh3.googleusercontent.com/a-/AOh14GgRvdWOpMzZWtSqmmrKKNtVuDN9sMbX2uKQKcmZRg=s64",
      "userId": "01803971212279379512"
     },
     "user_tz": 240
    },
    "id": "rTRHWCQflU4d"
   },
   "outputs": [],
   "source": [
    "x_ohe = ohe.fit_transform(x)"
   ]
  },
  {
   "cell_type": "code",
   "execution_count": 79,
   "id": "regional-library",
   "metadata": {
    "executionInfo": {
     "elapsed": 358,
     "status": "ok",
     "timestamp": 1618531527076,
     "user": {
      "displayName": "Akladyous Boula",
      "photoUrl": "https://lh3.googleusercontent.com/a-/AOh14GgRvdWOpMzZWtSqmmrKKNtVuDN9sMbX2uKQKcmZRg=s64",
      "userId": "01803971212279379512"
     },
     "user_tz": 240
    },
    "id": "3Njpt2RolZqi"
   },
   "outputs": [],
   "source": [
    "df_ohe = pd.DataFrame(x_ohe, columns=ohe.get_feature_names(list(x.columns)))"
   ]
  },
  {
   "cell_type": "code",
   "execution_count": 80,
   "id": "expired-movie",
   "metadata": {
    "colab": {
     "base_uri": "https://localhost:8080/",
     "height": 287
    },
    "executionInfo": {
     "elapsed": 508,
     "status": "ok",
     "timestamp": 1618531527983,
     "user": {
      "displayName": "Akladyous Boula",
      "photoUrl": "https://lh3.googleusercontent.com/a-/AOh14GgRvdWOpMzZWtSqmmrKKNtVuDN9sMbX2uKQKcmZRg=s64",
      "userId": "01803971212279379512"
     },
     "user_tz": 240
    },
    "id": "ZOoYRVqHla5N",
    "outputId": "76040836-d246-498b-c480-eb464594cb96"
   },
   "outputs": [
    {
     "data": {
      "text/html": [
       "<div>\n",
       "<style scoped>\n",
       "    .dataframe tbody tr th:only-of-type {\n",
       "        vertical-align: middle;\n",
       "    }\n",
       "\n",
       "    .dataframe tbody tr th {\n",
       "        vertical-align: top;\n",
       "    }\n",
       "\n",
       "    .dataframe thead th {\n",
       "        text-align: right;\n",
       "    }\n",
       "</style>\n",
       "<table border=\"1\" class=\"dataframe\">\n",
       "  <thead>\n",
       "    <tr style=\"text-align: right;\">\n",
       "      <th></th>\n",
       "      <th>sepal length (cm)_4.3</th>\n",
       "      <th>sepal length (cm)_4.4</th>\n",
       "      <th>sepal length (cm)_4.5</th>\n",
       "      <th>sepal length (cm)_4.6</th>\n",
       "      <th>sepal length (cm)_4.7</th>\n",
       "      <th>sepal length (cm)_4.8</th>\n",
       "      <th>sepal length (cm)_4.9</th>\n",
       "      <th>sepal length (cm)_5.0</th>\n",
       "      <th>sepal length (cm)_5.1</th>\n",
       "      <th>sepal length (cm)_5.2</th>\n",
       "      <th>sepal length (cm)_5.3</th>\n",
       "      <th>sepal length (cm)_5.4</th>\n",
       "      <th>sepal length (cm)_5.5</th>\n",
       "      <th>sepal length (cm)_5.6</th>\n",
       "      <th>sepal length (cm)_5.7</th>\n",
       "      <th>sepal length (cm)_5.8</th>\n",
       "      <th>sepal length (cm)_5.9</th>\n",
       "      <th>sepal length (cm)_6.0</th>\n",
       "      <th>sepal length (cm)_6.1</th>\n",
       "      <th>sepal length (cm)_6.2</th>\n",
       "      <th>sepal length (cm)_6.3</th>\n",
       "      <th>sepal length (cm)_6.4</th>\n",
       "      <th>sepal length (cm)_6.5</th>\n",
       "      <th>sepal length (cm)_6.6</th>\n",
       "      <th>sepal length (cm)_6.7</th>\n",
       "      <th>sepal length (cm)_6.8</th>\n",
       "      <th>sepal length (cm)_6.9</th>\n",
       "      <th>sepal length (cm)_7.0</th>\n",
       "      <th>sepal length (cm)_7.1</th>\n",
       "      <th>sepal length (cm)_7.2</th>\n",
       "      <th>sepal length (cm)_7.3</th>\n",
       "      <th>sepal length (cm)_7.4</th>\n",
       "      <th>sepal length (cm)_7.6</th>\n",
       "      <th>sepal length (cm)_7.7</th>\n",
       "      <th>sepal length (cm)_7.9</th>\n",
       "      <th>sepal width (cm)_2.0</th>\n",
       "      <th>sepal width (cm)_2.2</th>\n",
       "      <th>sepal width (cm)_2.3</th>\n",
       "      <th>sepal width (cm)_2.4</th>\n",
       "      <th>sepal width (cm)_2.5</th>\n",
       "      <th>...</th>\n",
       "      <th>petal length (cm)_4.9</th>\n",
       "      <th>petal length (cm)_5.0</th>\n",
       "      <th>petal length (cm)_5.1</th>\n",
       "      <th>petal length (cm)_5.2</th>\n",
       "      <th>petal length (cm)_5.3</th>\n",
       "      <th>petal length (cm)_5.4</th>\n",
       "      <th>petal length (cm)_5.5</th>\n",
       "      <th>petal length (cm)_5.6</th>\n",
       "      <th>petal length (cm)_5.7</th>\n",
       "      <th>petal length (cm)_5.8</th>\n",
       "      <th>petal length (cm)_5.9</th>\n",
       "      <th>petal length (cm)_6.0</th>\n",
       "      <th>petal length (cm)_6.1</th>\n",
       "      <th>petal length (cm)_6.3</th>\n",
       "      <th>petal length (cm)_6.4</th>\n",
       "      <th>petal length (cm)_6.6</th>\n",
       "      <th>petal length (cm)_6.7</th>\n",
       "      <th>petal length (cm)_6.9</th>\n",
       "      <th>petal width (cm)_0.1</th>\n",
       "      <th>petal width (cm)_0.2</th>\n",
       "      <th>petal width (cm)_0.3</th>\n",
       "      <th>petal width (cm)_0.4</th>\n",
       "      <th>petal width (cm)_0.5</th>\n",
       "      <th>petal width (cm)_0.6</th>\n",
       "      <th>petal width (cm)_1.0</th>\n",
       "      <th>petal width (cm)_1.1</th>\n",
       "      <th>petal width (cm)_1.2</th>\n",
       "      <th>petal width (cm)_1.3</th>\n",
       "      <th>petal width (cm)_1.4</th>\n",
       "      <th>petal width (cm)_1.5</th>\n",
       "      <th>petal width (cm)_1.6</th>\n",
       "      <th>petal width (cm)_1.7</th>\n",
       "      <th>petal width (cm)_1.8</th>\n",
       "      <th>petal width (cm)_1.9</th>\n",
       "      <th>petal width (cm)_2.0</th>\n",
       "      <th>petal width (cm)_2.1</th>\n",
       "      <th>petal width (cm)_2.2</th>\n",
       "      <th>petal width (cm)_2.3</th>\n",
       "      <th>petal width (cm)_2.4</th>\n",
       "      <th>petal width (cm)_2.5</th>\n",
       "    </tr>\n",
       "  </thead>\n",
       "  <tbody>\n",
       "    <tr>\n",
       "      <th>0</th>\n",
       "      <td>0.0</td>\n",
       "      <td>0.0</td>\n",
       "      <td>0.0</td>\n",
       "      <td>0.0</td>\n",
       "      <td>0.0</td>\n",
       "      <td>0.0</td>\n",
       "      <td>0.0</td>\n",
       "      <td>0.0</td>\n",
       "      <td>1.0</td>\n",
       "      <td>0.0</td>\n",
       "      <td>0.0</td>\n",
       "      <td>0.0</td>\n",
       "      <td>0.0</td>\n",
       "      <td>0.0</td>\n",
       "      <td>0.0</td>\n",
       "      <td>0.0</td>\n",
       "      <td>0.0</td>\n",
       "      <td>0.0</td>\n",
       "      <td>0.0</td>\n",
       "      <td>0.0</td>\n",
       "      <td>0.0</td>\n",
       "      <td>0.0</td>\n",
       "      <td>0.0</td>\n",
       "      <td>0.0</td>\n",
       "      <td>0.0</td>\n",
       "      <td>0.0</td>\n",
       "      <td>0.0</td>\n",
       "      <td>0.0</td>\n",
       "      <td>0.0</td>\n",
       "      <td>0.0</td>\n",
       "      <td>0.0</td>\n",
       "      <td>0.0</td>\n",
       "      <td>0.0</td>\n",
       "      <td>0.0</td>\n",
       "      <td>0.0</td>\n",
       "      <td>0.0</td>\n",
       "      <td>0.0</td>\n",
       "      <td>0.0</td>\n",
       "      <td>0.0</td>\n",
       "      <td>0.0</td>\n",
       "      <td>...</td>\n",
       "      <td>0.0</td>\n",
       "      <td>0.0</td>\n",
       "      <td>0.0</td>\n",
       "      <td>0.0</td>\n",
       "      <td>0.0</td>\n",
       "      <td>0.0</td>\n",
       "      <td>0.0</td>\n",
       "      <td>0.0</td>\n",
       "      <td>0.0</td>\n",
       "      <td>0.0</td>\n",
       "      <td>0.0</td>\n",
       "      <td>0.0</td>\n",
       "      <td>0.0</td>\n",
       "      <td>0.0</td>\n",
       "      <td>0.0</td>\n",
       "      <td>0.0</td>\n",
       "      <td>0.0</td>\n",
       "      <td>0.0</td>\n",
       "      <td>0.0</td>\n",
       "      <td>1.0</td>\n",
       "      <td>0.0</td>\n",
       "      <td>0.0</td>\n",
       "      <td>0.0</td>\n",
       "      <td>0.0</td>\n",
       "      <td>0.0</td>\n",
       "      <td>0.0</td>\n",
       "      <td>0.0</td>\n",
       "      <td>0.0</td>\n",
       "      <td>0.0</td>\n",
       "      <td>0.0</td>\n",
       "      <td>0.0</td>\n",
       "      <td>0.0</td>\n",
       "      <td>0.0</td>\n",
       "      <td>0.0</td>\n",
       "      <td>0.0</td>\n",
       "      <td>0.0</td>\n",
       "      <td>0.0</td>\n",
       "      <td>0.0</td>\n",
       "      <td>0.0</td>\n",
       "      <td>0.0</td>\n",
       "    </tr>\n",
       "    <tr>\n",
       "      <th>1</th>\n",
       "      <td>0.0</td>\n",
       "      <td>0.0</td>\n",
       "      <td>0.0</td>\n",
       "      <td>0.0</td>\n",
       "      <td>0.0</td>\n",
       "      <td>0.0</td>\n",
       "      <td>1.0</td>\n",
       "      <td>0.0</td>\n",
       "      <td>0.0</td>\n",
       "      <td>0.0</td>\n",
       "      <td>0.0</td>\n",
       "      <td>0.0</td>\n",
       "      <td>0.0</td>\n",
       "      <td>0.0</td>\n",
       "      <td>0.0</td>\n",
       "      <td>0.0</td>\n",
       "      <td>0.0</td>\n",
       "      <td>0.0</td>\n",
       "      <td>0.0</td>\n",
       "      <td>0.0</td>\n",
       "      <td>0.0</td>\n",
       "      <td>0.0</td>\n",
       "      <td>0.0</td>\n",
       "      <td>0.0</td>\n",
       "      <td>0.0</td>\n",
       "      <td>0.0</td>\n",
       "      <td>0.0</td>\n",
       "      <td>0.0</td>\n",
       "      <td>0.0</td>\n",
       "      <td>0.0</td>\n",
       "      <td>0.0</td>\n",
       "      <td>0.0</td>\n",
       "      <td>0.0</td>\n",
       "      <td>0.0</td>\n",
       "      <td>0.0</td>\n",
       "      <td>0.0</td>\n",
       "      <td>0.0</td>\n",
       "      <td>0.0</td>\n",
       "      <td>0.0</td>\n",
       "      <td>0.0</td>\n",
       "      <td>...</td>\n",
       "      <td>0.0</td>\n",
       "      <td>0.0</td>\n",
       "      <td>0.0</td>\n",
       "      <td>0.0</td>\n",
       "      <td>0.0</td>\n",
       "      <td>0.0</td>\n",
       "      <td>0.0</td>\n",
       "      <td>0.0</td>\n",
       "      <td>0.0</td>\n",
       "      <td>0.0</td>\n",
       "      <td>0.0</td>\n",
       "      <td>0.0</td>\n",
       "      <td>0.0</td>\n",
       "      <td>0.0</td>\n",
       "      <td>0.0</td>\n",
       "      <td>0.0</td>\n",
       "      <td>0.0</td>\n",
       "      <td>0.0</td>\n",
       "      <td>0.0</td>\n",
       "      <td>1.0</td>\n",
       "      <td>0.0</td>\n",
       "      <td>0.0</td>\n",
       "      <td>0.0</td>\n",
       "      <td>0.0</td>\n",
       "      <td>0.0</td>\n",
       "      <td>0.0</td>\n",
       "      <td>0.0</td>\n",
       "      <td>0.0</td>\n",
       "      <td>0.0</td>\n",
       "      <td>0.0</td>\n",
       "      <td>0.0</td>\n",
       "      <td>0.0</td>\n",
       "      <td>0.0</td>\n",
       "      <td>0.0</td>\n",
       "      <td>0.0</td>\n",
       "      <td>0.0</td>\n",
       "      <td>0.0</td>\n",
       "      <td>0.0</td>\n",
       "      <td>0.0</td>\n",
       "      <td>0.0</td>\n",
       "    </tr>\n",
       "    <tr>\n",
       "      <th>2</th>\n",
       "      <td>0.0</td>\n",
       "      <td>0.0</td>\n",
       "      <td>0.0</td>\n",
       "      <td>0.0</td>\n",
       "      <td>1.0</td>\n",
       "      <td>0.0</td>\n",
       "      <td>0.0</td>\n",
       "      <td>0.0</td>\n",
       "      <td>0.0</td>\n",
       "      <td>0.0</td>\n",
       "      <td>0.0</td>\n",
       "      <td>0.0</td>\n",
       "      <td>0.0</td>\n",
       "      <td>0.0</td>\n",
       "      <td>0.0</td>\n",
       "      <td>0.0</td>\n",
       "      <td>0.0</td>\n",
       "      <td>0.0</td>\n",
       "      <td>0.0</td>\n",
       "      <td>0.0</td>\n",
       "      <td>0.0</td>\n",
       "      <td>0.0</td>\n",
       "      <td>0.0</td>\n",
       "      <td>0.0</td>\n",
       "      <td>0.0</td>\n",
       "      <td>0.0</td>\n",
       "      <td>0.0</td>\n",
       "      <td>0.0</td>\n",
       "      <td>0.0</td>\n",
       "      <td>0.0</td>\n",
       "      <td>0.0</td>\n",
       "      <td>0.0</td>\n",
       "      <td>0.0</td>\n",
       "      <td>0.0</td>\n",
       "      <td>0.0</td>\n",
       "      <td>0.0</td>\n",
       "      <td>0.0</td>\n",
       "      <td>0.0</td>\n",
       "      <td>0.0</td>\n",
       "      <td>0.0</td>\n",
       "      <td>...</td>\n",
       "      <td>0.0</td>\n",
       "      <td>0.0</td>\n",
       "      <td>0.0</td>\n",
       "      <td>0.0</td>\n",
       "      <td>0.0</td>\n",
       "      <td>0.0</td>\n",
       "      <td>0.0</td>\n",
       "      <td>0.0</td>\n",
       "      <td>0.0</td>\n",
       "      <td>0.0</td>\n",
       "      <td>0.0</td>\n",
       "      <td>0.0</td>\n",
       "      <td>0.0</td>\n",
       "      <td>0.0</td>\n",
       "      <td>0.0</td>\n",
       "      <td>0.0</td>\n",
       "      <td>0.0</td>\n",
       "      <td>0.0</td>\n",
       "      <td>0.0</td>\n",
       "      <td>1.0</td>\n",
       "      <td>0.0</td>\n",
       "      <td>0.0</td>\n",
       "      <td>0.0</td>\n",
       "      <td>0.0</td>\n",
       "      <td>0.0</td>\n",
       "      <td>0.0</td>\n",
       "      <td>0.0</td>\n",
       "      <td>0.0</td>\n",
       "      <td>0.0</td>\n",
       "      <td>0.0</td>\n",
       "      <td>0.0</td>\n",
       "      <td>0.0</td>\n",
       "      <td>0.0</td>\n",
       "      <td>0.0</td>\n",
       "      <td>0.0</td>\n",
       "      <td>0.0</td>\n",
       "      <td>0.0</td>\n",
       "      <td>0.0</td>\n",
       "      <td>0.0</td>\n",
       "      <td>0.0</td>\n",
       "    </tr>\n",
       "    <tr>\n",
       "      <th>3</th>\n",
       "      <td>0.0</td>\n",
       "      <td>0.0</td>\n",
       "      <td>0.0</td>\n",
       "      <td>1.0</td>\n",
       "      <td>0.0</td>\n",
       "      <td>0.0</td>\n",
       "      <td>0.0</td>\n",
       "      <td>0.0</td>\n",
       "      <td>0.0</td>\n",
       "      <td>0.0</td>\n",
       "      <td>0.0</td>\n",
       "      <td>0.0</td>\n",
       "      <td>0.0</td>\n",
       "      <td>0.0</td>\n",
       "      <td>0.0</td>\n",
       "      <td>0.0</td>\n",
       "      <td>0.0</td>\n",
       "      <td>0.0</td>\n",
       "      <td>0.0</td>\n",
       "      <td>0.0</td>\n",
       "      <td>0.0</td>\n",
       "      <td>0.0</td>\n",
       "      <td>0.0</td>\n",
       "      <td>0.0</td>\n",
       "      <td>0.0</td>\n",
       "      <td>0.0</td>\n",
       "      <td>0.0</td>\n",
       "      <td>0.0</td>\n",
       "      <td>0.0</td>\n",
       "      <td>0.0</td>\n",
       "      <td>0.0</td>\n",
       "      <td>0.0</td>\n",
       "      <td>0.0</td>\n",
       "      <td>0.0</td>\n",
       "      <td>0.0</td>\n",
       "      <td>0.0</td>\n",
       "      <td>0.0</td>\n",
       "      <td>0.0</td>\n",
       "      <td>0.0</td>\n",
       "      <td>0.0</td>\n",
       "      <td>...</td>\n",
       "      <td>0.0</td>\n",
       "      <td>0.0</td>\n",
       "      <td>0.0</td>\n",
       "      <td>0.0</td>\n",
       "      <td>0.0</td>\n",
       "      <td>0.0</td>\n",
       "      <td>0.0</td>\n",
       "      <td>0.0</td>\n",
       "      <td>0.0</td>\n",
       "      <td>0.0</td>\n",
       "      <td>0.0</td>\n",
       "      <td>0.0</td>\n",
       "      <td>0.0</td>\n",
       "      <td>0.0</td>\n",
       "      <td>0.0</td>\n",
       "      <td>0.0</td>\n",
       "      <td>0.0</td>\n",
       "      <td>0.0</td>\n",
       "      <td>0.0</td>\n",
       "      <td>1.0</td>\n",
       "      <td>0.0</td>\n",
       "      <td>0.0</td>\n",
       "      <td>0.0</td>\n",
       "      <td>0.0</td>\n",
       "      <td>0.0</td>\n",
       "      <td>0.0</td>\n",
       "      <td>0.0</td>\n",
       "      <td>0.0</td>\n",
       "      <td>0.0</td>\n",
       "      <td>0.0</td>\n",
       "      <td>0.0</td>\n",
       "      <td>0.0</td>\n",
       "      <td>0.0</td>\n",
       "      <td>0.0</td>\n",
       "      <td>0.0</td>\n",
       "      <td>0.0</td>\n",
       "      <td>0.0</td>\n",
       "      <td>0.0</td>\n",
       "      <td>0.0</td>\n",
       "      <td>0.0</td>\n",
       "    </tr>\n",
       "    <tr>\n",
       "      <th>4</th>\n",
       "      <td>0.0</td>\n",
       "      <td>0.0</td>\n",
       "      <td>0.0</td>\n",
       "      <td>0.0</td>\n",
       "      <td>0.0</td>\n",
       "      <td>0.0</td>\n",
       "      <td>0.0</td>\n",
       "      <td>1.0</td>\n",
       "      <td>0.0</td>\n",
       "      <td>0.0</td>\n",
       "      <td>0.0</td>\n",
       "      <td>0.0</td>\n",
       "      <td>0.0</td>\n",
       "      <td>0.0</td>\n",
       "      <td>0.0</td>\n",
       "      <td>0.0</td>\n",
       "      <td>0.0</td>\n",
       "      <td>0.0</td>\n",
       "      <td>0.0</td>\n",
       "      <td>0.0</td>\n",
       "      <td>0.0</td>\n",
       "      <td>0.0</td>\n",
       "      <td>0.0</td>\n",
       "      <td>0.0</td>\n",
       "      <td>0.0</td>\n",
       "      <td>0.0</td>\n",
       "      <td>0.0</td>\n",
       "      <td>0.0</td>\n",
       "      <td>0.0</td>\n",
       "      <td>0.0</td>\n",
       "      <td>0.0</td>\n",
       "      <td>0.0</td>\n",
       "      <td>0.0</td>\n",
       "      <td>0.0</td>\n",
       "      <td>0.0</td>\n",
       "      <td>0.0</td>\n",
       "      <td>0.0</td>\n",
       "      <td>0.0</td>\n",
       "      <td>0.0</td>\n",
       "      <td>0.0</td>\n",
       "      <td>...</td>\n",
       "      <td>0.0</td>\n",
       "      <td>0.0</td>\n",
       "      <td>0.0</td>\n",
       "      <td>0.0</td>\n",
       "      <td>0.0</td>\n",
       "      <td>0.0</td>\n",
       "      <td>0.0</td>\n",
       "      <td>0.0</td>\n",
       "      <td>0.0</td>\n",
       "      <td>0.0</td>\n",
       "      <td>0.0</td>\n",
       "      <td>0.0</td>\n",
       "      <td>0.0</td>\n",
       "      <td>0.0</td>\n",
       "      <td>0.0</td>\n",
       "      <td>0.0</td>\n",
       "      <td>0.0</td>\n",
       "      <td>0.0</td>\n",
       "      <td>0.0</td>\n",
       "      <td>1.0</td>\n",
       "      <td>0.0</td>\n",
       "      <td>0.0</td>\n",
       "      <td>0.0</td>\n",
       "      <td>0.0</td>\n",
       "      <td>0.0</td>\n",
       "      <td>0.0</td>\n",
       "      <td>0.0</td>\n",
       "      <td>0.0</td>\n",
       "      <td>0.0</td>\n",
       "      <td>0.0</td>\n",
       "      <td>0.0</td>\n",
       "      <td>0.0</td>\n",
       "      <td>0.0</td>\n",
       "      <td>0.0</td>\n",
       "      <td>0.0</td>\n",
       "      <td>0.0</td>\n",
       "      <td>0.0</td>\n",
       "      <td>0.0</td>\n",
       "      <td>0.0</td>\n",
       "      <td>0.0</td>\n",
       "    </tr>\n",
       "  </tbody>\n",
       "</table>\n",
       "<p>5 rows × 123 columns</p>\n",
       "</div>"
      ],
      "text/plain": [
       "   sepal length (cm)_4.3  ...  petal width (cm)_2.5\n",
       "0                    0.0  ...                   0.0\n",
       "1                    0.0  ...                   0.0\n",
       "2                    0.0  ...                   0.0\n",
       "3                    0.0  ...                   0.0\n",
       "4                    0.0  ...                   0.0\n",
       "\n",
       "[5 rows x 123 columns]"
      ]
     },
     "execution_count": 80,
     "metadata": {
      "tags": []
     },
     "output_type": "execute_result"
    }
   ],
   "source": [
    "df_ohe.head()"
   ]
  },
  {
   "cell_type": "code",
   "execution_count": 99,
   "id": "working-senegal",
   "metadata": {
    "executionInfo": {
     "elapsed": 312,
     "status": "ok",
     "timestamp": 1618532544152,
     "user": {
      "displayName": "Akladyous Boula",
      "photoUrl": "https://lh3.googleusercontent.com/a-/AOh14GgRvdWOpMzZWtSqmmrKKNtVuDN9sMbX2uKQKcmZRg=s64",
      "userId": "01803971212279379512"
     },
     "user_tz": 240
    },
    "id": "5xmDflGloazj"
   },
   "outputs": [],
   "source": [
    "mca_df = mca.MCA(df_ohe)"
   ]
  },
  {
   "cell_type": "code",
   "execution_count": 100,
   "id": "comic-positive",
   "metadata": {
    "colab": {
     "base_uri": "https://localhost:8080/"
    },
    "executionInfo": {
     "elapsed": 253,
     "status": "ok",
     "timestamp": 1618532544637,
     "user": {
      "displayName": "Akladyous Boula",
      "photoUrl": "https://lh3.googleusercontent.com/a-/AOh14GgRvdWOpMzZWtSqmmrKKNtVuDN9sMbX2uKQKcmZRg=s64",
      "userId": "01803971212279379512"
     },
     "user_tz": 240
    },
    "id": "1h8ro7hWovab",
    "outputId": "d87b761d-0e4b-4252-8664-b176716d89d1"
   },
   "outputs": [
    {
     "data": {
      "text/plain": [
       "array([[-1.36145598,  0.03798011, -0.06571672, ...,  0.10794551,\n",
       "        -0.06583705,  0.07389289],\n",
       "       [-0.67942647,  0.06893237, -0.52032463, ...,  0.12394019,\n",
       "         0.11615165,  0.06139176],\n",
       "       [-0.90511485,  0.28665654, -0.37065077, ..., -0.0799417 ,\n",
       "         0.01855144, -0.30198742],\n",
       "       ...,\n",
       "       [ 0.60947233,  0.66448705,  0.82190793, ..., -0.01065067,\n",
       "         0.00217423,  0.04699201],\n",
       "       [ 0.14774425,  0.62352724, -0.23881355, ..., -0.16551325,\n",
       "         0.07710524, -0.01449257],\n",
       "       [ 0.73682906,  0.41585724, -0.16481564, ...,  0.10546052,\n",
       "         0.29165735,  0.17862823]])"
      ]
     },
     "execution_count": 100,
     "metadata": {
      "tags": []
     },
     "output_type": "execute_result"
    }
   ],
   "source": [
    "mca_df.fs_r(N=70)"
   ]
  },
  {
   "cell_type": "code",
   "execution_count": 101,
   "id": "destroyed-venture",
   "metadata": {
    "executionInfo": {
     "elapsed": 307,
     "status": "ok",
     "timestamp": 1618532546070,
     "user": {
      "displayName": "Akladyous Boula",
      "photoUrl": "https://lh3.googleusercontent.com/a-/AOh14GgRvdWOpMzZWtSqmmrKKNtVuDN9sMbX2uKQKcmZRg=s64",
      "userId": "01803971212279379512"
     },
     "user_tz": 240
    },
    "id": "W7-cxztcAlvy"
   },
   "outputs": [],
   "source": [
    "mca_df1 = mca.MCA(df_ohe)"
   ]
  },
  {
   "cell_type": "code",
   "execution_count": 119,
   "id": "passing-express",
   "metadata": {
    "colab": {
     "base_uri": "https://localhost:8080/",
     "height": 377
    },
    "executionInfo": {
     "elapsed": 323,
     "status": "ok",
     "timestamp": 1618536095232,
     "user": {
      "displayName": "Akladyous Boula",
      "photoUrl": "https://lh3.googleusercontent.com/a-/AOh14GgRvdWOpMzZWtSqmmrKKNtVuDN9sMbX2uKQKcmZRg=s64",
      "userId": "01803971212279379512"
     },
     "user_tz": 240
    },
    "id": "PZmEtexwDKOG",
    "outputId": "a095b70d-6aac-474c-bf48-e9326b65eeab"
   },
   "outputs": [
    {
     "data": {
      "application/vnd.google.colaboratory.intrinsic+json": {
       "type": "string"
      },
      "text/plain": [
       "'Percentage 1.0 N of columns 106'"
      ]
     },
     "metadata": {
      "tags": []
     },
     "output_type": "display_data"
    },
    {
     "data": {
      "application/vnd.google.colaboratory.intrinsic+json": {
       "type": "string"
      },
      "text/plain": [
       "'Percentage 0.95 N of columns 57'"
      ]
     },
     "metadata": {
      "tags": []
     },
     "output_type": "display_data"
    },
    {
     "data": {
      "application/vnd.google.colaboratory.intrinsic+json": {
       "type": "string"
      },
      "text/plain": [
       "'Percentage 0.9 N of columns 47'"
      ]
     },
     "metadata": {
      "tags": []
     },
     "output_type": "display_data"
    },
    {
     "data": {
      "application/vnd.google.colaboratory.intrinsic+json": {
       "type": "string"
      },
      "text/plain": [
       "'Percentage 0.85 N of columns 41'"
      ]
     },
     "metadata": {
      "tags": []
     },
     "output_type": "display_data"
    },
    {
     "data": {
      "application/vnd.google.colaboratory.intrinsic+json": {
       "type": "string"
      },
      "text/plain": [
       "'Percentage 0.8 N of columns 35'"
      ]
     },
     "metadata": {
      "tags": []
     },
     "output_type": "display_data"
    },
    {
     "data": {
      "application/vnd.google.colaboratory.intrinsic+json": {
       "type": "string"
      },
      "text/plain": [
       "'Percentage 0.75 N of columns 31'"
      ]
     },
     "metadata": {
      "tags": []
     },
     "output_type": "display_data"
    },
    {
     "data": {
      "application/vnd.google.colaboratory.intrinsic+json": {
       "type": "string"
      },
      "text/plain": [
       "'Percentage 0.7 N of columns 27'"
      ]
     },
     "metadata": {
      "tags": []
     },
     "output_type": "display_data"
    },
    {
     "data": {
      "application/vnd.google.colaboratory.intrinsic+json": {
       "type": "string"
      },
      "text/plain": [
       "'Percentage 0.65 N of columns 24'"
      ]
     },
     "metadata": {
      "tags": []
     },
     "output_type": "display_data"
    },
    {
     "data": {
      "application/vnd.google.colaboratory.intrinsic+json": {
       "type": "string"
      },
      "text/plain": [
       "'Percentage 0.6 N of columns 21'"
      ]
     },
     "metadata": {
      "tags": []
     },
     "output_type": "display_data"
    },
    {
     "data": {
      "application/vnd.google.colaboratory.intrinsic+json": {
       "type": "string"
      },
      "text/plain": [
       "'Percentage 0.55 N of columns 18'"
      ]
     },
     "metadata": {
      "tags": []
     },
     "output_type": "display_data"
    },
    {
     "data": {
      "application/vnd.google.colaboratory.intrinsic+json": {
       "type": "string"
      },
      "text/plain": [
       "'Percentage 0.5 N of columns 16'"
      ]
     },
     "metadata": {
      "tags": []
     },
     "output_type": "display_data"
    },
    {
     "data": {
      "application/vnd.google.colaboratory.intrinsic+json": {
       "type": "string"
      },
      "text/plain": [
       "'Percentage 0.45 N of columns 14'"
      ]
     },
     "metadata": {
      "tags": []
     },
     "output_type": "display_data"
    },
    {
     "data": {
      "application/vnd.google.colaboratory.intrinsic+json": {
       "type": "string"
      },
      "text/plain": [
       "'Percentage 0.4 N of columns 12'"
      ]
     },
     "metadata": {
      "tags": []
     },
     "output_type": "display_data"
    },
    {
     "data": {
      "application/vnd.google.colaboratory.intrinsic+json": {
       "type": "string"
      },
      "text/plain": [
       "'Percentage 0.35 N of columns 10'"
      ]
     },
     "metadata": {
      "tags": []
     },
     "output_type": "display_data"
    },
    {
     "data": {
      "application/vnd.google.colaboratory.intrinsic+json": {
       "type": "string"
      },
      "text/plain": [
       "'Percentage 0.3 N of columns 8'"
      ]
     },
     "metadata": {
      "tags": []
     },
     "output_type": "display_data"
    },
    {
     "data": {
      "application/vnd.google.colaboratory.intrinsic+json": {
       "type": "string"
      },
      "text/plain": [
       "'Percentage 0.25 N of columns 7'"
      ]
     },
     "metadata": {
      "tags": []
     },
     "output_type": "display_data"
    },
    {
     "data": {
      "application/vnd.google.colaboratory.intrinsic+json": {
       "type": "string"
      },
      "text/plain": [
       "'Percentage 0.2 N of columns 5'"
      ]
     },
     "metadata": {
      "tags": []
     },
     "output_type": "display_data"
    },
    {
     "data": {
      "application/vnd.google.colaboratory.intrinsic+json": {
       "type": "string"
      },
      "text/plain": [
       "'Percentage 0.15 N of columns 4'"
      ]
     },
     "metadata": {
      "tags": []
     },
     "output_type": "display_data"
    },
    {
     "data": {
      "application/vnd.google.colaboratory.intrinsic+json": {
       "type": "string"
      },
      "text/plain": [
       "'Percentage 0.1 N of columns 2'"
      ]
     },
     "metadata": {
      "tags": []
     },
     "output_type": "display_data"
    },
    {
     "data": {
      "application/vnd.google.colaboratory.intrinsic+json": {
       "type": "string"
      },
      "text/plain": [
       "'Percentage 0.05 N of columns 1'"
      ]
     },
     "metadata": {
      "tags": []
     },
     "output_type": "display_data"
    }
   ],
   "source": [
    "for n in np.arange(1, 0, -0.05):\n",
    "  display(f\"{'Percentage'} {np.round(n, decimals=2)} {'N of columns'} {mca_df1.fs_r(percent=n).shape[1]}\")"
   ]
  },
  {
   "cell_type": "code",
   "execution_count": 104,
   "id": "floating-courage",
   "metadata": {
    "executionInfo": {
     "elapsed": 326,
     "status": "ok",
     "timestamp": 1618532588735,
     "user": {
      "displayName": "Akladyous Boula",
      "photoUrl": "https://lh3.googleusercontent.com/a-/AOh14GgRvdWOpMzZWtSqmmrKKNtVuDN9sMbX2uKQKcmZRg=s64",
      "userId": "01803971212279379512"
     },
     "user_tz": 240
    },
    "id": "i0zKzxRDDKwp"
   },
   "outputs": [],
   "source": []
  },
  {
   "cell_type": "code",
   "execution_count": null,
   "id": "flying-impact",
   "metadata": {
    "id": "rOu9MrkXDLCK"
   },
   "outputs": [],
   "source": []
  }
 ],
 "metadata": {
  "colab": {
   "collapsed_sections": [],
   "name": "PCA MCA.ipynb",
   "provenance": []
  },
  "kernelspec": {
   "display_name": "Python 3",
   "language": "python",
   "name": "python3"
  },
  "language_info": {
   "codemirror_mode": {
    "name": "ipython",
    "version": 3
   },
   "file_extension": ".py",
   "mimetype": "text/x-python",
   "name": "python",
   "nbconvert_exporter": "python",
   "pygments_lexer": "ipython3",
   "version": "3.8.5"
  }
 },
 "nbformat": 4,
 "nbformat_minor": 5
}
