{
 "cells": [
  {
   "cell_type": "markdown",
   "metadata": {},
   "source": [
    "### Multiplication rule probability (General)\n",
    "\n",
    "\n",
    "The multiplication rule is a way to find the probability of two events happening at the same time (this is also one of the AP Statistics formulas).  \n",
    "\n",
    "\n",
    "##### Probability of Not Mutually Exclusive Events:\n",
    "\n",
    "- **Characteristics of Not Mutually Exclusive Events**\n",
    "    - Not mutually exclusive events, also known as non-exclusive or overlapping events, are events that can occur at the same time or share common outcomes. In other words, the occurrence of one event does not preclude the occurrence of the other. In contrast to mutually exclusive events, where the events cannot happen simultaneously, non-mutually exclusive events have overlapping outcomes.\n",
    "\n",
    "\n",
    "1. **Overlap of Outcomes:**\n",
    "   - Not mutually exclusive events share common outcomes. It's possible for both events to occur simultaneously or for the occurrence of one event to include the occurrence of the other.\n",
    "\n",
    "2. **Intersection is Non-Empty:**\n",
    "   - The intersection of non-mutually exclusive events $ A (\\cap B)$ is non-empty, meaning there are outcomes that belong to both events."
   ]
  },
  {
   "cell_type": "code",
   "execution_count": 21,
   "metadata": {},
   "outputs": [
    {
     "name": "stdout",
     "output_type": "stream",
     "text": [
      "Probability of drawing the first card being a Heart: 0.0000\n",
      "Probability of drawing the second card being a Diamond given the first card is a Heart: 0.0000\n"
     ]
    }
   ],
   "source": [
    "import itertools\n",
    "import numpy as np\n",
    "import pandas as pd\n",
    "\n",
    "# Define the deck of cards\n",
    "suits = ['Hearts', 'Diamonds', 'Clubs', 'Spades']\n",
    "ranks = ['2', '3', '4', '5', '6', '7', '8', '9', '10', 'Jack', 'Queen', 'King', 'Ace']\n",
    "\n",
    "# Create a deck using a Cartesian product of suits and ranks\n",
    "deck = list(itertools.product(ranks, suits))\n",
    "\n",
    "# Convert the deck to a DataFrame for better visualization\n",
    "deck_df = pd.DataFrame(deck, columns=['Rank', 'Suit'])\n",
    "\n",
    "# Function to simulate drawing a card from the deck\n",
    "def draw_card(deck):\n",
    "    card_index = np.random.randint(0, len(deck))\n",
    "    return deck.pop(card_index)\n",
    "\n",
    "# Simulate drawing two cards\n",
    "first_card = draw_card(deck)\n",
    "second_card = draw_card(deck)\n",
    "\n",
    "# Calculate probabilities\n",
    "prob_first_heart = deck_df[deck_df['Suit'] == 'Hearts'].shape[0] / len(deck_df)\n",
    "prob_second_diamond_given_first_heart = deck_df[(deck_df['Suit'] == 'Diamonds') & (deck_df['Rank'] == second_card[0])].shape[0] / len(deck_df)\n",
    "\n",
    "# Display results\n",
    "print(f\"Probability of drawing the first card being a Heart: {prob_first_heart:.4f}\")\n",
    "print(f\"Probability of drawing the second card being a Diamond given the first card is a Heart: {prob_second_diamond_given_first_heart:.4f}\")\n"
   ]
  },
  {
   "cell_type": "code",
   "execution_count": 22,
   "metadata": {},
   "outputs": [
    {
     "data": {
      "text/plain": [
       "[('Hearts', '3'),\n",
       " ('Hearts', '4'),\n",
       " ('Hearts', '5'),\n",
       " ('Hearts', '6'),\n",
       " ('Hearts', '7'),\n",
       " ('Hearts', '8'),\n",
       " ('Hearts', '9'),\n",
       " ('Hearts', '10'),\n",
       " ('Hearts', 'Jack'),\n",
       " ('Hearts', 'Queen'),\n",
       " ('Hearts', 'King'),\n",
       " ('Hearts', 'Ace'),\n",
       " ('Diamonds', '2'),\n",
       " ('Diamonds', '3'),\n",
       " ('Diamonds', '4'),\n",
       " ('Diamonds', '5'),\n",
       " ('Diamonds', '6'),\n",
       " ('Diamonds', '7'),\n",
       " ('Diamonds', '8'),\n",
       " ('Diamonds', '9'),\n",
       " ('Diamonds', '10'),\n",
       " ('Diamonds', 'Jack'),\n",
       " ('Diamonds', 'Queen'),\n",
       " ('Diamonds', 'King'),\n",
       " ('Diamonds', 'Ace'),\n",
       " ('Clubs', '2'),\n",
       " ('Clubs', '3'),\n",
       " ('Clubs', '4'),\n",
       " ('Clubs', '5'),\n",
       " ('Clubs', '6'),\n",
       " ('Clubs', '7'),\n",
       " ('Clubs', '8'),\n",
       " ('Clubs', '9'),\n",
       " ('Clubs', 'Jack'),\n",
       " ('Clubs', 'Queen'),\n",
       " ('Clubs', 'King'),\n",
       " ('Clubs', 'Ace'),\n",
       " ('Spades', '2'),\n",
       " ('Spades', '3'),\n",
       " ('Spades', '4'),\n",
       " ('Spades', '5'),\n",
       " ('Spades', '6'),\n",
       " ('Spades', '7'),\n",
       " ('Spades', '8'),\n",
       " ('Spades', '9'),\n",
       " ('Spades', '10'),\n",
       " ('Spades', 'Jack'),\n",
       " ('Spades', 'Queen'),\n",
       " ('Spades', 'King'),\n",
       " ('Spades', 'Ace')]"
      ]
     },
     "execution_count": 22,
     "metadata": {},
     "output_type": "execute_result"
    }
   ],
   "source": [
    "deck"
   ]
  },
  {
   "cell_type": "code",
   "execution_count": null,
   "metadata": {},
   "outputs": [],
   "source": []
  },
  {
   "cell_type": "code",
   "execution_count": 5,
   "metadata": {},
   "outputs": [
    {
     "name": "stdout",
     "output_type": "stream",
     "text": [
      "Probability of the first roll being even: 0.5000\n",
      "Probability of the second roll being odd given the first roll is even: 0.5000\n"
     ]
    }
   ],
   "source": [
    "# Function to simulate rolling a fair six-sided die\n",
    "def roll_die():\n",
    "    return np.random.randint(1, 7)\n",
    "\n",
    "# Simulate rolling the die twice\n",
    "first_roll = roll_die()\n",
    "second_roll = roll_die()\n",
    "\n",
    "# Calculate probabilities\n",
    "prob_first_even = 3 / 6  # There are 3 even numbers (2, 4, 6) on a six-sided die\n",
    "prob_second_odd_given_first_even = 3 / 6  # There are 3 odd numbers (1, 3, 5) on a six-sided die\n",
    "\n",
    "# Display results\n",
    "print(f\"Probability of the first roll being even: {prob_first_even:.4f}\")\n",
    "print(f\"Probability of the second roll being odd given the first roll is even: {prob_second_odd_given_first_even:.4f}\")\n"
   ]
  },
  {
   "cell_type": "code",
   "execution_count": null,
   "metadata": {},
   "outputs": [],
   "source": []
  }
 ],
 "metadata": {
  "kernelspec": {
   "display_name": "base",
   "language": "python",
   "name": "python3"
  },
  "language_info": {
   "codemirror_mode": {
    "name": "ipython",
    "version": 3
   },
   "file_extension": ".py",
   "mimetype": "text/x-python",
   "name": "python",
   "nbconvert_exporter": "python",
   "pygments_lexer": "ipython3",
   "version": "3.11.0"
  }
 },
 "nbformat": 4,
 "nbformat_minor": 2
}
