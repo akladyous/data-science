{
 "cells": [
  {
   "cell_type": "markdown",
   "metadata": {},
   "source": [
    "## Probability"
   ]
  },
  {
   "cell_type": "markdown",
   "metadata": {},
   "source": [
    "# Probability\n",
    "\n",
    "[Probability and Statistics Topics Index](https://www.statisticshowto.com/probability-and-statistics/)\n",
    "\n",
    "### Probability Rules\n",
    "\n",
    "1. **Addition Rule:**\n",
    "    - **Formula for Mutually Exclusive Events:**\n",
    "    $[ P(A \\cup B) = P(A) + P(B) ]$\n",
    "    - **Formula for A and B are Not Mutually Exclusive Events:**\n",
    "    $[ P(A \\cup B) = P(A) + P(B) - P(A \\cap B) ]$\n",
    "    - **Summary:** The Addition Rule calculates the probability of the union of events and depends on whether the events are mutually exclusive.\n",
    "2. **Multiplication Rule:**\n",
    "    - **Formula for Independent Events A and B:**\n",
    "    $P(A \\cap B) = P(A) \\times P(B)$\n",
    "    - **Summary:** The Multiplication Rule calculates the probability of the intersection of independent events by multiplying their individual probabilities.\n",
    "3. **Conditional Probability:**\n",
    "    - **Formula:**\n",
    "    $P(A|B) = \\frac{P(A \\cap B)}{P(B)}$\n",
    "        \n",
    "        By rearranging this equation, you get:\n",
    "        \n",
    "    - $P(A \\cap B) = P(A | B) \\cdot P(B)$\n",
    "    - **Summary:** Conditional Probability assesses the likelihood of event A occurring given that event B has occurred.\n",
    "4. **Complement Rule:**\n",
    "    - **Formula:**\n",
    "    $P(A') = 1 - P(A)$\n",
    "    - **Summary:** The Complement Rule calculates the probability of the complement of event A (not A).\n",
    "5. **Law of Total Probability:**\n",
    "    - **Formula for a Partition {B₁, B₂, ..., Bₖ}:**\n",
    "    $P(A) = P(A|B₁)P(B₁) + P(A|B₂)P(B₂) + \\ldots + P(A|Bₖ)P(Bₖ)$\n",
    "    - **Summary:** The Law of Total Probability calculates the probability of event A using the probabilities of its possible ways of occurring.\n",
    "6. **Bayes' Theorem:**\n",
    "    - **Formula:**\n",
    "        \n",
    "        $[P(B|A) = \\frac{P(A|B)P(B)}{P(A)}]$\n",
    "        \n",
    "    \n",
    "    **Summary:** Bayes' Theorem updates the probability of event B given new evidence provided by event A."
   ]
  },
  {
   "cell_type": "code",
   "execution_count": null,
   "metadata": {
    "vscode": {
     "languageId": "plaintext"
    }
   },
   "outputs": [],
   "source": []
  }
 ],
 "metadata": {
  "language_info": {
   "name": "python"
  }
 },
 "nbformat": 4,
 "nbformat_minor": 2
}
