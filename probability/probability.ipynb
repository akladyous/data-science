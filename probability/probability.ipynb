{
 "cells": [
  {
   "cell_type": "markdown",
   "metadata": {},
   "source": [
    "## Probability\n",
    "\n",
    "[Probability and Statistics Topics Index](https://www.statisticshowto.com/probability-and-statistics/)\n",
    "\n",
    "#### Probability Rules\n",
    "\n",
    "  $ [ P(\\text{Event}) = \\frac{\\text{Number of ways it can happen}}{\\text{Total number of outcomes}} ] $\n",
    "\n",
    "1. **Addition Rule:**\n",
    "    - **Formula for Mutually Exclusive Events:**\n",
    "    $[ P(A \\cup B) = P(A) + P(B) ]$\n",
    "    - **Formula for A and B are Not Mutually Exclusive Events:**\n",
    "    $[ P(A \\cup B) = P(A) + P(B) - P(A \\cap B) ]$\n",
    "    - **Summary:** The Addition Rule calculates the probability of the union of events and depends on whether the events are mutually exclusive.\n",
    "2. **Multiplication Rule:**\n",
    "    - **Formula for Independent Events A and B:**\n",
    "    $P(A \\cap B) = P(A) \\times P(B)$\n",
    "    - **Summary:** The Multiplication Rule calculates the probability of the intersection of independent events by multiplying their individual probabilities.\n",
    "3. **Conditional Probability:**\n",
    "    - **Formula:**\n",
    "    $P(A|B) = \\frac{P(A \\cap B)}{P(B)}$\n",
    "        \n",
    "        By rearranging this equation, you get:\n",
    "        \n",
    "    - $P(A \\cap B) = P(A | B) \\cdot P(B)$\n",
    "    - **Summary:** Conditional Probability assesses the likelihood of event A occurring given that event B has occurred.\n",
    "4. **Complement Rule:**\n",
    "    - **Formula:**\n",
    "    $P(A') = 1 - P(A)$\n",
    "    - **Summary:** The Complement Rule calculates the probability of the complement of event A (not A).\n",
    "5. **Law of Total Probability:**\n",
    "    - **Formula for a Partition {B₁, B₂, ..., Bₖ}:**\n",
    "    $P(A) = P(A|B₁)P(B₁) + P(A|B₂)P(B₂) + \\ldots + P(A|Bₖ)P(Bₖ)$\n",
    "    - **Summary:** The Law of Total Probability calculates the probability of event A using the probabilities of its possible ways of occurring.\n",
    "6. **Bayes' Theorem:**\n",
    "    - **Formula:**\n",
    "        \n",
    "        $[P(B|A) = \\frac{P(A|B)P(B)}{P(A)}]$\n",
    "        \n",
    "    \n",
    "    **Summary:** Bayes' Theorem updates the probability of event B given new evidence provided by event A."
   ]
  },
  {
   "cell_type": "code",
   "execution_count": null,
   "metadata": {},
   "outputs": [],
   "source": []
  },
  {
   "cell_type": "code",
   "execution_count": null,
   "metadata": {},
   "outputs": [],
   "source": []
  },
  {
   "cell_type": "markdown",
   "metadata": {},
   "source": []
  },
  {
   "cell_type": "code",
   "execution_count": 33,
   "metadata": {},
   "outputs": [
    {
     "name": "stdout",
     "output_type": "stream",
     "text": [
      "P(1): 0.1666\n",
      "P(2): 0.1666\n",
      "P(3): 0.1668\n",
      "P(4): 0.1667\n",
      "P(5): 0.1666\n",
      "P(6): 0.1667\n"
     ]
    }
   ],
   "source": [
    "import numpy as np\n",
    "import matplotlib.pyplot as plt\n",
    "\n",
    "\n",
    "def simulate_fair_die(rolls):\n",
    "    # Simulate rolling a fair six-sided die 'rolls' times\n",
    "    outcomes = np.random.randint(1, 7, rolls)\n",
    "    return outcomes\n",
    "if not rolls:\n",
    "    Rolls = 1_000_000\n",
    "\n",
    "# Simulate fair die rolls\n",
    "die_outcomes = simulate_fair_die()\n",
    "\n",
    "# Calculate probabilities for each outcome\n",
    "for outcome in range(1, 7):\n",
    "    prob = np.mean(die_outcomes == outcome)\n",
    "    print(f\"P({outcome}): {prob:.4f}\")"
   ]
  },
  {
   "cell_type": "code",
   "execution_count": 41,
   "metadata": {},
   "outputs": [
    {
     "data": {
      "text/plain": [
       "(array([1, 2, 3, 4, 5, 6]),\n",
       " array([166629, 166561, 166798, 166663, 166648, 166701]))"
      ]
     },
     "execution_count": 41,
     "metadata": {},
     "output_type": "execute_result"
    }
   ],
   "source": [
    "np.unique(die_outcomes, return_counts=True)"
   ]
  },
  {
   "cell_type": "code",
   "execution_count": 44,
   "metadata": {},
   "outputs": [
    {
     "data": {
      "text/plain": [
       "array([166629, 166561, 166798, 166663, 166648, 166701])"
      ]
     },
     "execution_count": 44,
     "metadata": {},
     "output_type": "execute_result"
    }
   ],
   "source": [
    "unique_outcomes, counts = np.unique(die_outcomes, return_counts=True)\n"
   ]
  },
  {
   "cell_type": "code",
   "execution_count": 34,
   "metadata": {},
   "outputs": [
    {
     "data": {
      "image/png": "[encoded data removed]",
      "text/plain": [
       "<Figure size 640x480 with 1 Axes>"
      ]
     },
     "metadata": {},
     "output_type": "display_data"
    }
   ],
   "source": [
    "# Plot the probability mass function (PMF) with space between bins\n",
    "plt.hist(\n",
    "    die_outcomes,\n",
    "    bins=np.arange(1, 8) - 0.5,\n",
    "    density=True,\n",
    "    rwidth=0.9,\n",
    "    edgecolor=\"black\",\n",
    "    alpha=0.7,\n",
    ")\n",
    "plt.xticks(np.arange(1, 7))\n",
    "plt.xlabel(\"Die Outcome\")\n",
    "plt.ylabel(\"Probability\")\n",
    "plt.title(\"Probability Mass Function (PMF) \\n Six-Sided Die\")\n",
    "plt.show()"
   ]
  },
  {
   "cell_type": "code",
   "execution_count": null,
   "metadata": {},
   "outputs": [],
   "source": []
  }
 ],
 "metadata": {
  "kernelspec": {
   "display_name": "base",
   "language": "python",
   "name": "python3"
  },
  "language_info": {
   "codemirror_mode": {
    "name": "ipython",
    "version": 3
   },
   "file_extension": ".py",
   "mimetype": "text/x-python",
   "name": "python",
   "nbconvert_exporter": "python",
   "pygments_lexer": "ipython3",
   "version": "3.11.7"
  }
 },
 "nbformat": 4,
 "nbformat_minor": 2
}
