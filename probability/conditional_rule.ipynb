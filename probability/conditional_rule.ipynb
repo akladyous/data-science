{
 "cells": [
  {
   "cell_type": "markdown",
   "metadata": {},
   "source": [
    "# Conditional Probability\n",
    "\n",
    "Conditional probability is a concept in probability theory that deals with the likelihood of one event occurring given that another event has already occurred. It is denoted as \\(P(A|B)\\) and is calculated as:\n",
    "\n",
    "$ P(A|B) = \\frac{P(A \\cap B)}{P(B)} $\n",
    "\n",
    "By rearranging this equation, you get:\n",
    "\n",
    "$ P(A \\cap B) = P(A | B) \\cdot P(B) $\n",
    "\n",
    "Here:\n",
    "- \\(P(A|B)\\) is the conditional probability of event A given event B.\n",
    "- \\(P(A \\cap B)\\) is the probability of the intersection of events A and B.\n",
    "- \\(P(B)\\) is the probability of event B.\n",
    "\n",
    "The concept of conditional probability assumes a dependence between the two events. If events A and B are independent, then \\(P(A|B) = P(A)\\), indicating that the occurrence of event B does not provide additional information about the occurrence of event A.\n",
    "\n",
    "Conditional probability is a fundamental concept in probability theory and has applications in various fields, including statistics, machine learning, and data analysis.\n"
   ]
  },
  {
   "cell_type": "code",
   "execution_count": 1,
   "metadata": {},
   "outputs": [
    {
     "name": "stdout",
     "output_type": "stream",
     "text": [
      "Random Numbers: {2, 10, 43, 12, 16, 83, 55, 54, 86, 26}\n",
      "Event A (even numbers): [2, 10, 12, 16, 54, 86, 26]\n",
      "Event B (odd numbers): [43, 83, 55]\n",
      "Probability of A given B: 0.00\n",
      "Probability of B: 0.30\n",
      "Probability of A and B: 0.00\n"
     ]
    }
   ],
   "source": [
    "import numpy as np\n",
    "\n",
    "# Generate a small set of 10 unique random numbers\n",
    "random_numbers = set(np.random.choice(np.arange(1, 101), 10))\n",
    "print(f\"Random Numbers: {random_numbers}\")\n",
    "\n",
    "# Define events A and B\n",
    "event_A = [num for num in random_numbers if num % 2 == 0]  # Even numbers\n",
    "event_B = [num for num in random_numbers if num % 2 != 0]  # Odd numbers\n",
    "\n",
    "# Calculate probabilities\n",
    "P_A_given_B = sum(x in event_B for x in event_A) / len(event_B)  # P(A | B)\n",
    "P_B = len(event_B) / len(random_numbers)  # P(B)\n",
    "P_A_and_B = P_A_given_B * P_B  # P(A ∩ B)\n",
    "\n",
    "# Display the results\n",
    "print(f\"Event A (even numbers): {event_A}\")\n",
    "print(f\"Event B (odd numbers): {event_B}\")\n",
    "print(f\"Probability of A given B: {P_A_given_B:.2f}\")\n",
    "print(f\"Probability of B: {P_B:.2f}\")\n",
    "print(f\"Probability of A and B: {P_A_and_B:.2f}\")\n"
   ]
  },
  {
   "cell_type": "code",
   "execution_count": 2,
   "metadata": {},
   "outputs": [
    {
     "name": "stdout",
     "output_type": "stream",
     "text": [
      "Simulated Conditional Probability: 0.5000\n"
     ]
    }
   ],
   "source": [
    "import numpy as np\n",
    "\n",
    "# np.random.seed(1234)\n",
    "# Number of simulations\n",
    "num_simulations = 1000\n",
    "\n",
    "# Simulate two coin flips\n",
    "coin_flips = np.random.choice([\"Heads\", \"Tails\"], size=(num_simulations, 2))\n",
    "\n",
    "first_flip_outcomes = coin_flips[:, 0]\n",
    "second_flip_outcomes = coin_flips[:, 1]\n",
    "\n",
    "# Count the occurrences of at least one Tails given the first flip is Heads\n",
    "first_flip_heads = first_flip_outcomes == \"Heads\"\n",
    "second_flip_tails = second_flip_outcomes == \"Tails\"\n",
    "\n",
    "# (A ∩ B)\n",
    "A_intersect_B = np.sum(np.logical_and(first_flip_heads, second_flip_tails))\n",
    "# P(A ∩ B)\n",
    "prob_A_intersect_B = A_intersect_B / num_simulations\n",
    "\n",
    "prob_B = np.sum(second_flip_tails) / num_simulations\n",
    "\n",
    "prob_B_given_A = prob_A_intersect_B / prob_B\n",
    "\n",
    "print(f\"Simulated Conditional Probability: {prob_B_given_A:.4f}\")\n"
   ]
  },
  {
   "cell_type": "code",
   "execution_count": 97,
   "metadata": {},
   "outputs": [
    {
     "name": "stdout",
     "output_type": "stream",
     "text": [
      "Probability of rolling a 3 on the first die given rolling a 4 on the second die:\n",
      "16.64%\n"
     ]
    }
   ],
   "source": [
    "import numpy as np\n",
    "\n",
    "# Number of trials (rolling the dice 1000 times)\n",
    "num_trials = 1_000\n",
    "\n",
    "# Simulate rolling two fair six-sided dice\n",
    "dice_rolls = np.random.randint(1, 7, size=(num_trials, 2))\n",
    "\n",
    "# Event A: Rolling a 3 on the first die\n",
    "event_A = dice_rolls[:, 0] == 1\n",
    "\n",
    "# Event B: Rolling a 4 on the second die\n",
    "event_B = dice_rolls[:, 1] == 4\n",
    "\n",
    "# Calculate the probability of A and B occurring\n",
    "prob_A_and_B = np.sum(event_A & event_B) / num_trials\n",
    "\n",
    "# Calculate the probability of B occurring\n",
    "prob_B = np.sum(event_B) / num_trials\n",
    "\n",
    "# Calculate the conditional probability of A given B\n",
    "prob_A_given_B = prob_A_and_B / prob_B\n",
    "\n",
    "# Print the results in percentage format\n",
    "print(\"Probability of rolling a 3 on the first die given rolling a 4 on the second die:\")\n",
    "print(f\"{prob_A_given_B * 100:.2f}%\")\n"
   ]
  }
 ],
 "metadata": {
  "kernelspec": {
   "display_name": "base",
   "language": "python",
   "name": "python3"
  },
  "language_info": {
   "codemirror_mode": {
    "name": "ipython",
    "version": 3
   },
   "file_extension": ".py",
   "mimetype": "text/x-python",
   "name": "python",
   "nbconvert_exporter": "python",
   "pygments_lexer": "ipython3",
   "version": "3.12.1"
  }
 },
 "nbformat": 4,
 "nbformat_minor": 2
}
