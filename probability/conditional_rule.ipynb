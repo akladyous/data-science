{
 "cells": [
  {
   "cell_type": "markdown",
   "metadata": {},
   "source": [
    "# Conditional Probability\n",
    "\n",
    "Conditional probability is a concept in probability theory that deals with the likelihood of one event occurring given that another event has already occurred. It is denoted as \\(P(A|B)\\) and is calculated as:\n",
    "\n",
    "$ P(A|B) = \\frac{P(A \\cap B)}{P(B)} $\n",
    "\n",
    "By rearranging this equation, you get:\n",
    "\n",
    "$ P(A \\cap B) = P(A | B) \\cdot P(B) $\n",
    "\n",
    "Here:\n",
    "- \\(P(A|B)\\) is the conditional probability of event A given event B.\n",
    "- \\(P(A \\cap B)\\) is the probability of the intersection of events A and B.\n",
    "- \\(P(B)\\) is the probability of event B.\n",
    "\n",
    "The concept of conditional probability assumes a dependence between the two events. If events A and B are independent, then \\(P(A|B) = P(A)\\), indicating that the occurrence of event B does not provide additional information about the occurrence of event A.\n",
    "\n",
    "Conditional probability is a fundamental concept in probability theory and has applications in various fields, including statistics, machine learning, and data analysis.\n"
   ]
  },
  {
   "cell_type": "code",
   "execution_count": 2,
   "metadata": {},
   "outputs": [
    {
     "name": "stdout",
     "output_type": "stream",
     "text": [
      "Random Numbers: {6, 71, 27, 42, 81, 18, 52, 21, 87, 59}\n",
      "Event A (even numbers): [6, 42, 18, 52]\n",
      "Event B (odd numbers): [71, 27, 81, 21, 87, 59]\n",
      "Probability of A given B: 0.00\n",
      "Probability of B: 0.60\n",
      "Probability of A and B: 0.00\n"
     ]
    }
   ],
   "source": [
    "import numpy as np\n",
    "\n",
    "# Generate a small set of 10 unique random numbers\n",
    "random_numbers = set(np.random.choice(np.arange(1, 101), 10))\n",
    "print(f\"Random Numbers: {random_numbers}\")\n",
    "\n",
    "# Define events A and B\n",
    "event_A = [num for num in random_numbers if num % 2 == 0]  # Even numbers\n",
    "event_B = [num for num in random_numbers if num % 2 != 0]  # Odd numbers\n",
    "\n",
    "# Calculate probabilities\n",
    "P_A_given_B = sum(x in event_B for x in event_A) / len(event_B)  # P(A | B)\n",
    "P_B = len(event_B) / len(random_numbers)  # P(B)\n",
    "P_A_and_B = P_A_given_B * P_B  # P(A ∩ B)\n",
    "\n",
    "# Display the results\n",
    "print(f\"Event A (even numbers): {event_A}\")\n",
    "print(f\"Event B (odd numbers): {event_B}\")\n",
    "print(f\"Probability of A given B: {P_A_given_B:.2f}\")\n",
    "print(f\"Probability of B: {P_B:.2f}\")\n",
    "print(f\"Probability of A and B: {P_A_and_B:.2f}\")\n"
   ]
  },
  {
   "cell_type": "code",
   "execution_count": 49,
   "metadata": {},
   "outputs": [
    {
     "name": "stdout",
     "output_type": "stream",
     "text": [
      "Simulated Conditional Probability: 0.4849\n"
     ]
    }
   ],
   "source": [
    "import numpy as np\n",
    "\n",
    "# np.random.seed(1234)\n",
    "# Number of simulations\n",
    "num_simulations = 1000\n",
    "\n",
    "# Simulate two coin flips\n",
    "coin_flips = np.random.choice([\"Heads\", \"Tails\"], size=(num_simulations, 2))\n",
    "\n",
    "first_flip_outcomes = coin_flips[:, 0]\n",
    "second_flip_outcomes = coin_flips[:, 1]\n",
    "\n",
    "# Count the occurrences of at least one Tails given the first flip is Heads\n",
    "first_flip_heads = first_flip_outcomes == \"Heads\"\n",
    "second_flip_tails = second_flip_outcomes == \"Tails\"\n",
    "\n",
    "# (A ∩ B)\n",
    "A_intersect_B = np.sum(np.logical_and(first_flip_heads, second_flip_tails))\n",
    "# P(A ∩ B)\n",
    "prob_A_intersect_B = A_intersect_B / num_simulations\n",
    "\n",
    "prob_B = np.sum(second_flip_tails) / num_simulations\n",
    "\n",
    "prob_B_given_A = prob_A_intersect_B / prob_B\n",
    "\n",
    "print(f\"Simulated Conditional Probability: {prob_B_given_A:.4f}\")\n"
   ]
  },
  {
   "cell_type": "code",
   "execution_count": 90,
   "metadata": {},
   "outputs": [
    {
     "ename": "SyntaxError",
     "evalue": "f-string: invalid syntax. Perhaps you forgot a comma? (2690964144.py, line 26)",
     "output_type": "error",
     "traceback": [
      "\u001b[0;36m  Cell \u001b[0;32mIn[90], line 26\u001b[0;36m\u001b[0m\n\u001b[0;31m    print(f\"{conditional probability of A given B: {prob_A_given_B * 100:.2f}%\")\u001b[0m\n\u001b[0m     ^\u001b[0m\n\u001b[0;31mSyntaxError\u001b[0m\u001b[0;31m:\u001b[0m f-string: invalid syntax. Perhaps you forgot a comma?\n"
     ]
    }
   ],
   "source": [
    "import numpy as np\n",
    "\n",
    "# Number of trials (rolling the dice 1000 times)\n",
    "num_trials = 1_000_000\n",
    "\n",
    "# Simulate rolling two fair six-sided dice\n",
    "dice_rolls = np.random.randint(1, 7, size=(num_trials, 2))\n",
    "\n",
    "# Event A: Rolling a 3 on the first die\n",
    "event_A = dice_rolls[:, 0] == 1\n",
    "\n",
    "# Event B: Rolling a 4 on the second die\n",
    "event_B = dice_rolls[:, 1] == 4\n",
    "\n",
    "# Calculate the probability of A and B occurring\n",
    "prob_A_and_B = np.sum(event_A & event_B) / num_trials\n",
    "\n",
    "# Calculate the probability of B occurring\n",
    "prob_B = np.sum(event_B) / num_trials\n",
    "\n",
    "# Calculate the conditional probability of A given B\n",
    "prob_A_given_B = prob_A_and_B / prob_B\n",
    "\n",
    "# Print the results in percentage format\n",
    "print(\"Probability of rolling a 3 on the first die given rolling a 4 on the second die:\")\n",
    "print(f\"{conditional_prob_A_given_B * 100:.2f}%\")\n"
   ]
  },
  {
   "cell_type": "code",
   "execution_count": 63,
   "metadata": {},
   "outputs": [
    {
     "data": {
      "text/plain": [
       "14.743589743589745"
      ]
     },
     "execution_count": 63,
     "metadata": {},
     "output_type": "execute_result"
    }
   ],
   "source": [
    "0.14743589743589744 * 100"
   ]
  },
  {
   "cell_type": "code",
   "execution_count": 60,
   "metadata": {},
   "outputs": [
    {
     "data": {
      "text/plain": [
       "array([[1, 5],\n",
       "       [1, 1],\n",
       "       [3, 3],\n",
       "       ...,\n",
       "       [4, 1],\n",
       "       [2, 6],\n",
       "       [5, 6]])"
      ]
     },
     "execution_count": 60,
     "metadata": {},
     "output_type": "execute_result"
    }
   ],
   "source": [
    "dice_rolls"
   ]
  },
  {
   "cell_type": "code",
   "execution_count": null,
   "metadata": {},
   "outputs": [],
   "source": []
  },
  {
   "cell_type": "code",
   "execution_count": 59,
   "metadata": {},
   "outputs": [
    {
     "data": {
      "text/plain": [
       "array([ 6,  2,  6,  5,  6,  4,  5,  7,  8,  4,  5, 12, 11,  7,  9,  8,  7,\n",
       "        4,  8, 10, 11, 11,  5,  7,  6,  6,  9,  4, 10,  7, 11,  7,  6,  7,\n",
       "       10,  4,  6, 10,  8,  6, 11,  8,  8, 10,  8,  7,  7, 11,  6,  3, 11,\n",
       "        8,  5,  3, 11,  8, 11,  7, 10, 11,  5,  7,  7,  4, 12,  4,  7,  6,\n",
       "        8,  9,  9,  7, 12,  7, 11,  3,  7,  5,  4,  9,  8,  6,  5,  6,  5,\n",
       "        8,  7, 12, 10,  7, 10,  5,  8,  7,  6,  5,  7, 10,  3,  8,  6,  8,\n",
       "        8, 10,  9,  6,  7,  5,  7,  6,  6,  6,  5,  8,  9,  6,  4,  7,  3,\n",
       "        9,  6, 10,  9, 10,  6,  5,  9,  6,  8,  9,  7,  8,  7,  8,  6,  6,\n",
       "        7,  5,  4,  3,  6,  5,  6,  5,  3, 10,  4,  8,  8,  6, 11,  4,  9,\n",
       "        6,  4,  5,  5,  9,  6,  9,  4,  4, 10,  9,  5,  6,  9,  5,  7,  3,\n",
       "        9,  3,  6,  3,  6,  6, 10,  2,  9,  3,  6,  5,  6,  6,  5,  5,  3,\n",
       "        9,  9,  6, 10,  6, 11,  3,  4,  7,  6,  5, 10, 10,  9,  6,  6,  4,\n",
       "        4, 11,  7,  5,  9,  9,  9,  9,  9,  6,  6,  5,  7, 12,  7,  5,  9,\n",
       "        2,  3,  8,  6,  9,  8, 10,  8,  7, 11, 10,  4,  9,  4,  3,  8,  5,\n",
       "        5,  9,  6,  8,  8,  8, 10, 10,  8,  5,  5,  9,  8,  7, 11,  6,  7,\n",
       "        3,  4,  8,  6, 10,  8, 12,  9,  5,  4,  6,  7, 10,  7,  4,  6,  6,\n",
       "        7,  7,  9,  9,  7,  9,  5,  3,  6,  4,  9,  4,  7,  8,  9,  2,  9,\n",
       "       11,  7,  8,  6,  6,  7,  8,  5,  5,  7,  6,  6,  9, 11,  7, 12,  3,\n",
       "        4,  5, 10,  6,  7,  6,  6, 12, 10,  7, 11, 10,  2,  5, 10, 10,  9,\n",
       "        8,  6,  7,  9,  9,  9, 11,  4,  7,  4,  4,  3, 12,  4,  8,  7,  7,\n",
       "       10,  9,  2, 11,  6,  7,  9, 12,  8,  7,  6,  4,  4,  8,  9,  4,  5,\n",
       "        5,  7,  5,  9,  7,  6,  3,  8,  9, 10,  6,  3,  6,  7,  6,  9, 10,\n",
       "        6,  5, 10, 12,  6,  7,  6,  8,  5,  6,  6, 11,  6,  4,  5, 11,  8,\n",
       "        5,  7,  5,  6,  8, 10,  8,  3,  9,  8, 10,  7,  6,  9,  6, 12,  9,\n",
       "        7,  9,  5,  7,  5,  7,  8,  8,  6,  7,  9,  7,  6,  5,  4,  7,  6,\n",
       "        4, 11,  9,  5,  5, 10,  6,  5,  8,  7,  6,  8,  3,  7,  5,  5,  4,\n",
       "        3,  5,  8, 10,  9,  8,  9,  5, 10,  4,  8, 10,  6,  8,  6, 11,  7,\n",
       "        7,  6,  9,  6,  7,  2,  6,  7,  2,  6,  9,  5,  7,  7,  5,  7,  9,\n",
       "        7,  7, 11,  5, 11,  9,  7,  9,  7,  8,  5,  8,  2,  7,  9, 12,  7,\n",
       "        8,  7,  7,  5,  6,  7,  9,  3, 12,  9,  8,  9,  6,  3,  4, 10, 12,\n",
       "        6,  5,  7,  7,  6,  6,  4, 12,  6,  9, 11,  9,  6,  8,  5,  5, 10,\n",
       "        8, 11,  7,  4,  6,  7,  9,  9,  5,  7,  5,  7,  8, 12,  8,  9,  7,\n",
       "        7,  6,  7,  9,  6,  5,  9,  2,  5,  6,  8,  9,  3,  5,  3,  7,  6,\n",
       "        8,  8,  3,  7,  5, 10,  7,  5,  7,  9,  4,  3,  9,  6,  3, 12,  5,\n",
       "       11,  4, 10,  8,  6, 11,  7,  3, 10,  8,  7,  9,  6,  8,  4,  6,  7,\n",
       "        7,  7, 11,  6,  8,  7,  5,  5,  6, 11,  7,  5,  5,  3,  7,  9,  9,\n",
       "        2,  2,  4,  8,  8,  7,  5,  8,  6, 10,  8, 11,  2,  2,  5,  6,  8,\n",
       "       11,  8, 11,  6, 11,  3,  8,  4,  6,  8,  4,  9,  7,  4,  4, 10,  6,\n",
       "        7,  5,  4,  3,  6,  3,  2,  4,  9,  2,  4,  8,  6, 12,  7,  5,  5,\n",
       "        5, 10,  6,  7,  5,  8, 10,  7, 11,  5,  8,  5,  7,  3,  9,  5, 10,\n",
       "       10,  7,  6,  9,  4,  5,  6,  5,  8, 11,  8, 10,  7,  7,  6, 12, 10,\n",
       "        3,  3,  7,  3,  5,  5,  7,  3,  5,  6,  9,  4,  5,  8,  4,  7, 10,\n",
       "        5, 12,  6, 10,  6,  2,  4,  9,  3,  6,  7, 10,  6,  7,  5,  8,  7,\n",
       "        7,  7, 10,  4, 10,  6,  8,  7,  6,  6, 12,  6,  7, 11,  8,  6,  6,\n",
       "       10,  6,  5,  7,  9, 12,  4,  5,  4,  3,  6,  6,  4,  5,  5,  8, 11,\n",
       "        6, 11, 11,  8,  6,  8,  8,  9,  6,  7,  4,  2,  4,  9,  6,  7,  2,\n",
       "        7,  5,  5,  6,  4,  8,  9,  9,  2, 11,  4,  9,  5,  7,  6,  6,  4,\n",
       "        6,  4,  6,  6,  5, 11,  5,  6,  8,  5,  3,  7,  8,  9, 12,  5,  5,\n",
       "        6,  7,  7,  7,  9,  7,  9,  9,  5,  9, 10, 10, 11,  2,  5,  4,  7,\n",
       "        8,  4,  5,  8,  7, 10,  5,  4, 11,  8,  6,  9,  7, 10,  6,  6,  6,\n",
       "        9,  8,  4,  6,  7,  6,  7,  9,  3,  8,  8,  9,  9, 11,  9,  9,  7,\n",
       "        5,  3,  3,  7,  8,  3,  8, 10,  5,  9, 12,  8, 12,  6,  7,  7,  8,\n",
       "        7, 11,  6,  4, 12, 10,  4,  8, 10, 10,  7,  5,  4, 11,  9,  5,  8,\n",
       "       10,  4,  8,  3,  9,  7,  6,  7,  7,  5,  8,  7,  7,  7,  8,  8,  8,\n",
       "        8, 10,  9,  7,  9,  6,  5,  6, 11,  8,  8, 12, 10,  9, 11,  4,  4,\n",
       "        7, 11,  8,  5,  8,  2,  7,  6,  4,  4,  7,  3,  7,  3,  5,  3, 10,\n",
       "       10,  6, 12,  6, 10,  8, 11,  6,  9,  8,  2,  7,  7,  4,  5,  8, 10,\n",
       "        6,  6,  8,  6,  5,  6,  5,  3,  7,  8,  2,  4,  4,  6,  8,  9,  9,\n",
       "        6,  3,  9,  9, 10,  2,  4, 11, 10,  6,  9,  5,  8, 11])"
      ]
     },
     "execution_count": 59,
     "metadata": {},
     "output_type": "execute_result"
    }
   ],
   "source": [
    " np.sum(dice_rolls, axis=1)"
   ]
  },
  {
   "cell_type": "code",
   "execution_count": null,
   "metadata": {},
   "outputs": [],
   "source": []
  }
 ],
 "metadata": {
  "kernelspec": {
   "display_name": "base",
   "language": "python",
   "name": "python3"
  },
  "language_info": {
   "codemirror_mode": {
    "name": "ipython",
    "version": 3
   },
   "file_extension": ".py",
   "mimetype": "text/x-python",
   "name": "python",
   "nbconvert_exporter": "python",
   "pygments_lexer": "ipython3",
   "version": "3.11.0"
  }
 },
 "nbformat": 4,
 "nbformat_minor": 2
}
