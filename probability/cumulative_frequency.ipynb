{
 "cells": [
  {
   "cell_type": "code",
   "execution_count": 4,
   "id": "2fcfb4c8",
   "metadata": {},
   "outputs": [],
   "source": [
    "s1 = {}"
   ]
  },
  {
   "cell_type": "code",
   "execution_count": 5,
   "id": "41622f55",
   "metadata": {},
   "outputs": [
    {
     "data": {
      "text/plain": [
       "dict"
      ]
     },
     "execution_count": 5,
     "metadata": {},
     "output_type": "execute_result"
    }
   ],
   "source": [
    "type(s1)"
   ]
  },
  {
   "cell_type": "code",
   "execution_count": 2,
   "id": "educational-schema",
   "metadata": {},
   "outputs": [],
   "source": [
    "import numpy as np\n",
    "import matplotlib.pyplot as plt"
   ]
  },
  {
   "cell_type": "code",
   "execution_count": 42,
   "id": "involved-envelope",
   "metadata": {},
   "outputs": [],
   "source": [
    "\n",
    "# scores=np.array([x for x in range(15,56)]).repeat(np.random.randint(1,6,size=1))\n",
    "scores=[5,2,2,3,3,3,3,2,3,6,9,1,3,4,9,5,10,1,1,5,6,1,1,1,10,3,4,2,9,8,6,10,9,7,7,4,2,6,7,8,9,4]\n",
    "# print(scores)\n",
    "\n",
    "data,frequency = np.unique(scores, return_counts=True)\n",
    "# # relative_frequency = list(map(lambda x: x/frequency.sum(), frequency))\n",
    "relative_frequency = np.array(list(map(lambda x: x/frequency.sum(), frequency)))\n",
    "cumulative_frequency = np.cumsum(frequency)\n"
   ]
  },
  {
   "cell_type": "code",
   "execution_count": 17,
   "id": "driving-microwave",
   "metadata": {},
   "outputs": [
    {
     "name": "stdout",
     "output_type": "stream",
     "text": [
      "[5, 2, 2, 3, 3, 3, 3, 2, 3, 6, 9, 1, 3, 4, 9, 5, 10, 1, 1, 5, 6, 1, 1, 1, 10, 3, 4, 2, 9, 8, 6, 10, 9, 7, 7, 4, 2, 6, 7, 8, 9, 4]\n"
     ]
    }
   ],
   "source": [
    "print(scores)"
   ]
  },
  {
   "cell_type": "code",
   "execution_count": 19,
   "id": "indian-romantic",
   "metadata": {},
   "outputs": [
    {
     "name": "stdout",
     "output_type": "stream",
     "text": [
      "[6 5 7 4 3 4 3 2 5 3]\n"
     ]
    }
   ],
   "source": [
    "print(frequency)"
   ]
  },
  {
   "cell_type": "code",
   "execution_count": 20,
   "id": "settled-novel",
   "metadata": {},
   "outputs": [
    {
     "name": "stdout",
     "output_type": "stream",
     "text": [
      "[0.14285714 0.11904762 0.16666667 0.0952381  0.07142857 0.0952381\n",
      " 0.07142857 0.04761905 0.11904762 0.07142857]\n"
     ]
    }
   ],
   "source": [
    "print(relative_frequency)"
   ]
  },
  {
   "cell_type": "code",
   "execution_count": 45,
   "id": "roman-miniature",
   "metadata": {},
   "outputs": [
    {
     "name": "stdout",
     "output_type": "stream",
     "text": [
      "[ 6 11 18 22 25 29 32 34 39 42]\n"
     ]
    }
   ],
   "source": [
    "print(cumulative_frequency)"
   ]
  },
  {
   "cell_type": "code",
   "execution_count": 46,
   "id": "mighty-patient",
   "metadata": {},
   "outputs": [
    {
     "name": "stdout",
     "output_type": "stream",
     "text": [
      "0.9999999999999999\n"
     ]
    }
   ],
   "source": [
    "print(np.sum(relative_frequency))"
   ]
  },
  {
   "cell_type": "code",
   "execution_count": 47,
   "id": "related-reliance",
   "metadata": {},
   "outputs": [],
   "source": [
    "# np.bincount(scores) #weights=scores"
   ]
  },
  {
   "cell_type": "code",
   "execution_count": 55,
   "id": "historical-liverpool",
   "metadata": {},
   "outputs": [
    {
     "data": {
      "text/plain": [
       "(array([1., 0., 1., 0., 0., 0., 1., 0., 1., 0., 1., 0., 1., 0., 1., 1., 0.,\n",
       "        0., 1., 1.]),\n",
       " array([ 6. ,  7.8,  9.6, 11.4, 13.2, 15. , 16.8, 18.6, 20.4, 22.2, 24. ,\n",
       "        25.8, 27.6, 29.4, 31.2, 33. , 34.8, 36.6, 38.4, 40.2, 42. ]),\n",
       " <BarContainer object of 20 artists>)"
      ]
     },
     "execution_count": 55,
     "metadata": {},
     "output_type": "execute_result"
    },
    {
     "data": {
      "image/png": "[encoded data removed]",
      "text/plain": [
       "<Figure size 432x288 with 1 Axes>"
      ]
     },
     "metadata": {
      "needs_background": "light"
     },
     "output_type": "display_data"
    }
   ],
   "source": [
    "plt.hist(cumulative_frequency, bins=20)"
   ]
  },
  {
   "cell_type": "code",
   "execution_count": null,
   "id": "alive-original",
   "metadata": {},
   "outputs": [],
   "source": []
  },
  {
   "cell_type": "code",
   "execution_count": null,
   "id": "painful-trade",
   "metadata": {},
   "outputs": [],
   "source": []
  }
 ],
 "metadata": {
  "kernelspec": {
   "display_name": "Python 3 (ipykernel)",
   "language": "python",
   "name": "python3"
  },
  "language_info": {
   "codemirror_mode": {
    "name": "ipython",
    "version": 3
   },
   "file_extension": ".py",
   "mimetype": "text/x-python",
   "name": "python",
   "nbconvert_exporter": "python",
   "pygments_lexer": "ipython3",
   "version": "3.11.7"
  }
 },
 "nbformat": 4,
 "nbformat_minor": 5
}
