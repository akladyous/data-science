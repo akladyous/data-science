{
 "cells": [
  {
   "cell_type": "markdown",
   "id": "658d4b48-6c5b-4081-baa4-5e9cdca81884",
   "metadata": {},
   "source": [
    "## One Sample Hypothesis Testing Example: One Tailed Z Test"
   ]
  },
  {
   "cell_type": "markdown",
   "id": "569be368-d1a0-41ff-983d-a5b78649e995",
   "metadata": {},
   "source": [
    "\n",
    "A principal at a certain school claims that the students in his school are above average intelligence. A random sample of thirty students IQ scores have a mean score of 112.5. Is there sufficient evidence to support the principal’s claim? The mean population IQ is 100 with a standard deviation of 15.\n",
    "\n",
    "Step 1: State the Null hypothesis. The accepted fact is that the population mean is 100, so: H0: μ = 100.\n",
    "\n",
    "Step 2: State the Alternate Hypothesis. The claim is that the students have above average IQ scores, so:\n",
    "H1: μ > 100.\n",
    "The fact that we are looking for scores “greater than” a certain point means that this is a one-tailed test.\n",
    "\n",
    "Step 3: Draw a picture to help you visualize the problem.\n",
    "\n",
    "\n",
    "hypothesis testing examples\n",
    "\n",
    "Step 4: State the alpha level. If you aren’t given an alpha level, use 5% (0.05).\n",
    "\n",
    "Step 5: Find the rejection region area (given by your alpha level above) from the z-table. An area of .05 is equal to a z-score of 1.645.\n",
    "\n",
    "Step 6: Find the test statistic using this formula: z score formula\n",
    "For this set of data: z= (112.5 – 100) / (15/√30) = 4.56\n",
    "\n",
    "Step 6: If Step 6 is greater than Step 5, reject the null hypothesis. If it’s less than Step 5, you cannot reject the null hypothesis. In this case, it is more (4.56 > 1.645), so you can reject the null."
   ]
  },
  {
   "cell_type": "code",
   "execution_count": 1,
   "id": "7718110f",
   "metadata": {},
   "outputs": [
    {
     "ename": "ModuleNotFoundError",
     "evalue": "No module named 'numpy'",
     "output_type": "error",
     "traceback": [
      "\u001b[0;31m---------------------------------------------------------------------------\u001b[0m",
      "\u001b[0;31mModuleNotFoundError\u001b[0m                       Traceback (most recent call last)",
      "Cell \u001b[0;32mIn[1], line 1\u001b[0m\n\u001b[0;32m----> 1\u001b[0m \u001b[38;5;28;01mimport\u001b[39;00m \u001b[38;5;21;01mnumpy\u001b[39;00m \u001b[38;5;28;01mas\u001b[39;00m \u001b[38;5;21;01mnp\u001b[39;00m\n",
      "\u001b[0;31mModuleNotFoundError\u001b[0m: No module named 'numpy'"
     ]
    }
   ],
   "source": [
    "import numpy as np"
   ]
  },
  {
   "cell_type": "code",
   "execution_count": 4,
   "id": "6f34102f-f559-4929-adb8-ad23ef3e5a6d",
   "metadata": {},
   "outputs": [
    {
     "ename": "ModuleNotFoundError",
     "evalue": "No module named 'numpy'",
     "output_type": "error",
     "traceback": [
      "\u001b[0;31m---------------------------------------------------------------------------\u001b[0m",
      "\u001b[0;31mModuleNotFoundError\u001b[0m                       Traceback (most recent call last)",
      "Cell \u001b[0;32mIn[4], line 1\u001b[0m\n\u001b[0;32m----> 1\u001b[0m \u001b[38;5;28;01mimport\u001b[39;00m \u001b[38;5;21;01mnumpy\u001b[39;00m \u001b[38;5;28;01mas\u001b[39;00m \u001b[38;5;21;01mnp\u001b[39;00m\n\u001b[1;32m      2\u001b[0m \u001b[38;5;28;01mfrom\u001b[39;00m \u001b[38;5;21;01mscipy\u001b[39;00m\u001b[38;5;21;01m.\u001b[39;00m\u001b[38;5;21;01mstats\u001b[39;00m \u001b[38;5;28;01mimport\u001b[39;00m norm\n\u001b[1;32m      4\u001b[0m \u001b[38;5;66;03m# Given data\u001b[39;00m\n",
      "\u001b[0;31mModuleNotFoundError\u001b[0m: No module named 'numpy'"
     ]
    }
   ],
   "source": [
    "import numpy as np\n",
    "from scipy.stats import norm\n",
    "\n",
    "# Given data\n",
    "sample_mean = 112.5\n",
    "population_mean = 100\n",
    "population_std_dev = 15\n",
    "sample_size = 30\n",
    "\n",
    "# Step 1: State the Null hypothesis (H0: μ = 100)\n",
    "# Step 2: State the Alternate Hypothesis (H1: μ > 100)\n",
    "# This is a one-tailed test, so we are interested in scores greater than 100.\n",
    "\n",
    "# Step 3: Draw a picture (not applicable in code)\n",
    "# Step 4: State the alpha level (use 5% or 0.05)\n",
    "alpha = 0.05\n",
    "\n",
    "# Step 5: Find the rejection region area from the Z-table\n",
    "# For a one-tailed test, an area of 0.05 corresponds to a Z-score of approximately 1.645.\n",
    "critical_value = norm.ppf(1 - alpha)\n",
    "\n",
    "# Step 6: Find the test statistic using the formula\n",
    "z_score = (sample_mean - population_mean) / (population_std_dev / np.sqrt(sample_size))\n",
    "\n",
    "# Step 7: If the test statistic is greater than the critical value, reject the null hypothesis\n",
    "if z_score > critical_value:\n",
    "    print(\"Reject the null hypothesis\")\n",
    "else:\n",
    "    print(\"Cannot reject the null hypothesis\")"
   ]
  },
  {
   "cell_type": "code",
   "execution_count": null,
   "id": "1db7da91-4b27-4da8-8780-de6e0db41984",
   "metadata": {},
   "outputs": [],
   "source": []
  }
 ],
 "metadata": {
  "kernelspec": {
   "display_name": "Python 3 (ipykernel)",
   "language": "python",
   "name": "python3"
  },
  "language_info": {
   "codemirror_mode": {
    "name": "ipython",
    "version": 3
   },
   "file_extension": ".py",
   "mimetype": "text/x-python",
   "name": "python",
   "nbconvert_exporter": "python",
   "pygments_lexer": "ipython3",
   "version": "3.12.1"
  }
 },
 "nbformat": 4,
 "nbformat_minor": 5
}
