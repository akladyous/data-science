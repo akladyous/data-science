{
 "cells": [
  {
   "cell_type": "markdown",
   "metadata": {},
   "source": [
    "# Probability Density Function (PDF)\n",
    "\n",
    "A Probability Density Function (PDF) is a statistical concept used in probability theory and statistics to describe the likelihood of a continuous random variable falling within a particular range. It provides a way to model the distribution of a continuous random variable and is often associated with probability distributions such as the normal distribution.\n",
    "\n",
    "## Key Points about PDFs:\n",
    "\n",
    "1. **Continuous Random Variables:**\n",
    "   - PDFs are primarily used for continuous random variables (as opposed to discrete random variables, which have Probability Mass Functions, or PMFs).\n",
    "\n",
    "2. **Function Form:**\n",
    "   - A PDF is a function that describes the relative likelihood of different outcomes for a continuous random variable.\n",
    "   - The PDF for a normal distribution with mean \\( \\mu \\) and standard deviation \\( \\sigma \\) is given by:\n",
    "     $ [ f(x) = \\frac{1}{\\sqrt{2\\pi\\sigma^2}} e^{-\\frac{(x - \\mu)^2}{2\\sigma^2}} ] $\n",
    "\n",
    "3. **Non-Negative Values:**\n",
    "   - The values of the PDF are non-negative for all possible values of the random variable.\n",
    "   - The integral (area under the curve) of the PDF over the entire range of possible values is equal to 1.\n",
    "\n",
    "4. **Probability Interpretation:**\n",
    "   - While the PDF itself does not give the probability of a specific outcome (as the probability at a single point is zero for a continuous variable), the probability of the variable falling within a specific interval is given by the integral of the PDF over that interval.\n",
    "\n",
    "5. **Example:**\n",
    "   - For example, in the case of a standard normal distribution, the PDF describes the shape of the bell curve and provides information about the likelihood of observing values within different ranges.\n",
    "\n",
    "Mathematically, the probability that a continuous random variable $(X)$ falls within the interval $(a, b)$ is given by the integral of the PDF over that interval:\n",
    "\n",
    "$ [ P(a \\leq X \\leq b) = \\int_{a}^{b} f(x) \\,dx ] $\n",
    "\n",
    "The concept of PDF is fundamental in probability and statistics, and it plays a crucial role in understanding and modeling the behavior of continuous random variables.\n"
   ]
  },
  {
   "cell_type": "markdown",
   "metadata": {},
   "source": []
  }
 ],
 "metadata": {
  "language_info": {
   "name": "python"
  }
 },
 "nbformat": 4,
 "nbformat_minor": 2
}
