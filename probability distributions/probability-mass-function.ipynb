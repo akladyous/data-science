{
 "cells": [
  {
   "cell_type": "code",
   "execution_count": 3,
   "metadata": {},
   "outputs": [
    {
     "name": "stdout",
     "output_type": "stream",
     "text": [
      "PMF: {1: 0.1, 2: 0.2, 3: 0.3, 4: 0.2, 5: 0.2}\n"
     ]
    }
   ],
   "source": [
    "# Example usage:\n",
    "values = [1, 2, 3, 4, 5, 6]\n",
    "probabilities = [0.1, 0.2, 0.3, 0.2, 0.2]\n",
    "pmf_dict = pmf(values, probabilities)\n",
    "print(\"PMF:\", pmf_dict)"
   ]
  },
  {
   "cell_type": "code",
   "execution_count": null,
   "metadata": {},
   "outputs": [],
   "source": []
  }
 ],
 "metadata": {
  "kernelspec": {
   "display_name": ".env",
   "language": "python",
   "name": "python3"
  },
  "language_info": {
   "codemirror_mode": {
    "name": "ipython",
    "version": 3
   },
   "file_extension": ".py",
   "mimetype": "text/x-python",
   "name": "python",
   "nbconvert_exporter": "python",
   "pygments_lexer": "ipython3",
   "version": "3.12.1"
  }
 },
 "nbformat": 4,
 "nbformat_minor": 2
}
