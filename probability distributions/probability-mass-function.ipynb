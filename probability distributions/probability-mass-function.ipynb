{
 "cells": [
  {
   "cell_type": "code",
   "execution_count": 2,
   "metadata": {},
   "outputs": [],
   "source": [
    "def pmf(values, probabilities):\n",
    "    \"\"\"\n",
    "    Simulate a Probability Mass Function (PMF) for discrete values and their corresponding probabilities.\n",
    "\n",
    "    Args:\n",
    "        values (list): A list of discrete values.\n",
    "        probabilities (list): A list of probabilities corresponding to each value.\n",
    "\n",
    "    Returns:\n",
    "        dict: A dictionary representing the PMF with values as keys and their probabilities as values.\n",
    "    \"\"\"\n",
    "    if len(values) != len(probabilities):\n",
    "        raise ValueError(\"Lengths of 'values' and 'probabilities' lists must be equal.\")\n",
    "\n",
    "    pmf_dict = {}\n",
    "    for val, prob in zip(values, probabilities):\n",
    "        if val in pmf_dict:\n",
    "            raise ValueError(\"Duplicate values found in 'values' list.\")\n",
    "        if prob < 0 or prob > 1:\n",
    "            raise ValueError(\"Probabilities must be between 0 and 1.\")\n",
    "        pmf_dict[val] = prob\n",
    "\n",
    "    # Check if probabilities sum up to approximately 1\n",
    "    sum_prob = sum(probabilities)\n",
    "    if abs(sum_prob - 1) > 1e-6:\n",
    "        raise ValueError(\"Probabilities must sum up to approximately 1.\")\n",
    "\n",
    "    return pmf_dict"
   ]
  },
  {
   "cell_type": "code",
   "execution_count": null,
   "metadata": {},
   "outputs": [],
   "source": []
  }
 ],
 "metadata": {
  "kernelspec": {
   "display_name": ".env",
   "language": "python",
   "name": "python3"
  },
  "language_info": {
   "codemirror_mode": {
    "name": "ipython",
    "version": 3
   },
   "file_extension": ".py",
   "mimetype": "text/x-python",
   "name": "python",
   "nbconvert_exporter": "python",
   "pygments_lexer": "ipython3",
   "version": "3.12.1"
  }
 },
 "nbformat": 4,
 "nbformat_minor": 2
}
