{
 "cells": [
  {
   "cell_type": "markdown",
   "metadata": {},
   "source": [
    "# Z-Distribution\n",
    "\n",
    "The Z-distribution, also known as the standard normal distribution, is a probability distribution that is often used in statistical analysis. It is a continuous distribution with a mean of 0 and a standard deviation of 1. The Z-distribution is useful in hypothesis testing, confidence interval estimation, and determining probabilities associated with specific values or ranges of values."
   ]
  },
  {
   "cell_type": "code",
   "execution_count": null,
   "metadata": {},
   "outputs": [],
   "source": [
    "import numpy as np\n",
    "import matplotlib.pyplot as plt\n",
    "from scipy.stats import norm\n",
    "\n",
    "# Set the mean and standard deviation\n",
    "mu = 0\n",
    "sigma = 1\n",
    "\n",
    "# Create a range of values\n",
    "x = np.linspace(mu - 4 * sigma, mu + 4 * sigma, 1000)\n",
    "\n",
    "# Calculate the probability density function (PDF) for each value\n",
    "pdf = norm.pdf(x, mu, sigma)\n",
    "\n",
    "# Plot the normal distribution\n",
    "plt.plot(x, pdf, label=\"Normal Distribution\")\n",
    "plt.title(\"Z-Distribution (Standard Normal Distribution)\")\n",
    "plt.xlabel(\"Z-Score\")\n",
    "plt.ylabel(\"Probability Density Function (PDF)\")\n",
    "plt.legend()\n",
    "plt.show()"
   ]
  },
  {
   "cell_type": "code",
   "execution_count": null,
   "metadata": {},
   "outputs": [],
   "source": []
  }
 ],
 "metadata": {
  "language_info": {
   "name": "python"
  }
 },
 "nbformat": 4,
 "nbformat_minor": 2
}
