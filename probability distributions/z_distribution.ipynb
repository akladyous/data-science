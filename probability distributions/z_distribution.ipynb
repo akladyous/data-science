{
 "cells": [
  {
   "cell_type": "markdown",
   "metadata": {},
   "source": [
    "# Z-Distribution\n",
    "\n",
    "The Z-distribution, also known as the standard normal distribution, is a probability distribution that is often used in statistical analysis. It is a continuous distribution with a mean of 0 and a standard deviation of 1. The Z-distribution is useful in hypothesis testing, confidence interval estimation, and determining probabilities associated with specific values or ranges of values."
   ]
  },
  {
   "cell_type": "markdown",
   "metadata": {},
   "source": [
    "1. Z-Score formula with known population parameter:\n",
    "    \n",
    "    The Z-score is indeed used to assess the relative position of a single data point (value) within a distribution, typically a sample.\n",
    "    \n",
    "    The formula for calculating the Z-score when the population parameter is known is\n",
    "    \n",
    "     $[ Z = \\frac{{X} - \\mu}{\\sigma}]$\n",
    "    \n",
    "    Where:\n",
    "    \n",
    "    - Z is the Z-score\n",
    "    - X is the value we want to calculate the Z-score for\n",
    "    - μ is the population mean\n",
    "    - σ is the population standard deviation\n",
    "2. Z-Statistics formula with unknown population parameter:\n",
    "    \n",
    "    z-statistics are used to test hypotheses about population means when the population standard deviation is known.\n",
    "    \n",
    "    They are calculated as the difference between the sample mean and the population mean, divided by the standard deviation of the sampling distribution. Z-statistics are based on the normal distribution and are used to calculate p-values for hypothesis tests.\n",
    "    \n",
    "    When the population parameter is unknown, we use the sample mean and sample standard deviation as estimates. The formula for calculating the Z-score in this case is:\n",
    "    \n",
    "    $[ Z = \\frac{\\bar{X} - \\mu}{\\frac{\\sigma}{\\sqrt{n}}}]$\n",
    "    \n",
    "    Where:\n",
    "    \n",
    "    - Z is the Z-score\n",
    "    - X is the value we want to calculate the Z-score for\n",
    "    - 𝑥̄ is the sample mean\n",
    "    - s is the sample standard deviation\n",
    "    - n is the sample size"
   ]
  },
  {
   "cell_type": "code",
   "execution_count": null,
   "metadata": {},
   "outputs": [],
   "source": [
    "import numpy as np\n",
    "import matplotlib.pyplot as plt\n",
    "from scipy.stats import norm\n",
    "\n",
    "# Set the mean and standard deviation\n",
    "mu = 0\n",
    "sigma = 1\n",
    "\n",
    "# Create a range of values\n",
    "x = np.linspace(mu - 4 * sigma, mu + 4 * sigma, 1000)\n",
    "\n",
    "# Calculate the probability density function (PDF) for each value\n",
    "pdf = norm.pdf(x, mu, sigma)\n",
    "\n",
    "# Plot the normal distribution\n",
    "plt.plot(x, pdf, label=\"Normal Distribution\")\n",
    "plt.title(\"Z-Distribution (Standard Normal Distribution)\")\n",
    "plt.xlabel(\"Z-Score\")\n",
    "plt.ylabel(\"Probability Density Function (PDF)\")\n",
    "plt.legend()\n",
    "plt.show()"
   ]
  },
  {
   "cell_type": "code",
   "execution_count": null,
   "metadata": {},
   "outputs": [],
   "source": []
  }
 ],
 "metadata": {
  "language_info": {
   "name": "python"
  }
 },
 "nbformat": 4,
 "nbformat_minor": 2
}
