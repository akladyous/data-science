{
 "cells": [
  {
   "cell_type": "markdown",
   "metadata": {},
   "source": [
    "# **Discrete Uniform Distribution**\n",
    "\n",
    "The discrete uniform distribution is a probability distribution that models an experiment where there are a finite number of equally likely outcomes. Each outcome has the same probability of occurring, making it a uniform distribution.\n",
    "\n",
    "For a discrete uniform distribution defined over the integers from $a$ to $b$ (inclusive), where each integer in the range has an equal probability, the probability mass function (PMF) is given by:\n",
    "\n",
    "\\[ P(X=k) = \\frac{1}{b-a+1} \\]\n",
    "\n",
    "where:\n",
    "- \\(X\\) is a random variable representing the outcome.\n",
    "- \\(k\\) is an integer in the range \\([a, b]\\).\n",
    "- \\(a\\) is the minimum value in the range.\n",
    "- \\(b\\) is the maximum value in the range.\n",
    "\n",
    "The mean (\\(\\mu\\)) and variance (\\(\\sigma^2\\)) of a discrete uniform distribution are given by:\n",
    "\n",
    "\\[ \\mu = \\frac{a+b}{2} \\]\n",
    "\n",
    "\\[ \\sigma^2 = \\frac{(b-a+1)^2 - 1}{12} \\]\n",
    "\n",
    "In summary, the discrete uniform distribution provides an equal probability for each possible outcome within a specified range.\n",
    "\n"
   ]
  },
  {
   "cell_type": "code",
   "execution_count": 1,
   "metadata": {},
   "outputs": [],
   "source": [
    "import pandas as pd\n",
    "import numpy as np\n",
    "from scipy import stats\n",
    "from matplotlib import pyplot as plt\n",
    "\n",
    "%matplotlib inline"
   ]
  },
  {
   "cell_type": "markdown",
   "metadata": {},
   "source": [
    "# **Discrete Uniform Distribution**\n",
    "\n",
    "The discrete uniform distribution is a probability distribution that models an experiment where there are a finite number of equally likely outcomes. Each outcome has the same probability of occurring, making it a uniform distribution.\n",
    "\n",
    "For a discrete uniform distribution defined over the integers from \\(a\\) to \\(b\\) (inclusive), where each integer in the range has an equal probability, the probability mass function (PMF) is given by:\n",
    "\n",
    "$[ P(X=k) = \\frac{1}{b-a+1} ]$\n",
    "\n",
    "where:\n",
    "- $(X)$ is a random variable representing the outcome.\n",
    "- $(k)$ is an integer in the range $([a, b])$.\n",
    "- $(a)$ is the minimum value in the range.\n",
    "- $(b)$ is the maximum value in the range.\n",
    "\n",
    "The mean $(\\mu)$ and variance $(\\sigma^2)$ of a discrete uniform distribution are given by:\n",
    "\n",
    "$[ \\mu = \\frac{a+b}{2} ]$\n",
    "\n",
    "$[ \\sigma^2 = \\frac{(b-a+1)^2 - 1}{12} ]$\n",
    "\n",
    "In summary, the discrete uniform distribution provides an equal probability for each possible outcome within a specified range.\n",
    "\n"
   ]
  },
  {
   "cell_type": "code",
   "execution_count": null,
   "metadata": {},
   "outputs": [],
   "source": []
  }
 ],
 "metadata": {
  "kernelspec": {
   "display_name": ".venv",
   "language": "python",
   "name": "python3"
  },
  "language_info": {
   "codemirror_mode": {
    "name": "ipython",
    "version": 3
   },
   "file_extension": ".py",
   "mimetype": "text/x-python",
   "name": "python",
   "nbconvert_exporter": "python",
   "pygments_lexer": "ipython3",
   "version": "3.12.1"
  }
 },
 "nbformat": 4,
 "nbformat_minor": 2
}
