{
 "cells": [
  {
   "cell_type": "code",
   "execution_count": null,
   "id": "manual-residence",
   "metadata": {},
   "outputs": [],
   "source": [
    "#df.columns=[col.lower() for col in df.columns]"
   ]
  },
  {
   "cell_type": "code",
   "execution_count": null,
   "id": "swiss-hungary",
   "metadata": {},
   "outputs": [],
   "source": [
    "#convert dataframe column to data type\n",
    "df.CRASH_DATE = pd.to_datetime(df.CRASH_DATE)"
   ]
  },
  {
   "cell_type": "code",
   "execution_count": null,
   "id": "monetary-passenger",
   "metadata": {},
   "outputs": [],
   "source": [
    "#and select range of dates from the dataframe\n",
    "df = df[(df.CRASH_DATE.dt.year >= 2019) & (df.CRASH_DATE.dt.year <= 2020)].copy()"
   ]
  },
  {
   "cell_type": "code",
   "execution_count": null,
   "id": "constitutional-texas",
   "metadata": {},
   "outputs": [],
   "source": [
    "#clist of columns with missing values with percentage\n",
    "df.loc[:,df.isnull().any()].sum()*100/df.shape[0]"
   ]
  },
  {
   "cell_type": "code",
   "execution_count": null,
   "id": "pharmaceutical-berkeley",
   "metadata": {},
   "outputs": [],
   "source": []
  },
  {
   "cell_type": "code",
   "execution_count": null,
   "id": "conventional-bracket",
   "metadata": {},
   "outputs": [],
   "source": []
  }
 ],
 "metadata": {
  "kernelspec": {
   "display_name": "Python 3",
   "language": "python",
   "name": "python3"
  },
  "language_info": {
   "codemirror_mode": {
    "name": "ipython",
    "version": 3
   },
   "file_extension": ".py",
   "mimetype": "text/x-python",
   "name": "python",
   "nbconvert_exporter": "python",
   "pygments_lexer": "ipython3",
   "version": "3.8.8"
  }
 },
 "nbformat": 4,
 "nbformat_minor": 5
}
