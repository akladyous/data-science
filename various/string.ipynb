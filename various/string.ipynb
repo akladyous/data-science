{
 "cells": [
  {
   "cell_type": "code",
   "execution_count": 2,
   "metadata": {},
   "outputs": [
    {
     "output_type": "display_data",
     "data": {
      "text/plain": "'name'"
     },
     "metadata": {}
    },
    {
     "output_type": "execute_result",
     "data": {
      "text/plain": [
       "':11111:22222:33333:'"
      ]
     },
     "metadata": {},
     "execution_count": 2
    }
   ],
   "source": [
    "s='name:11111:22222:33333:'\n",
    "\n",
    "':' in s\n",
    "\n",
    "s.find(':')\n",
    "s.index(':')\n",
    "\n",
    "author = s[0:int(s.index(':'))]\n",
    "display(author)\n",
    "\n",
    "text= s.split(s[0:s.find(':')])[1]\n",
    "text"
   ]
  },
  {
   "cell_type": "code",
   "execution_count": null,
   "metadata": {},
   "outputs": [],
   "source": []
  },
  {
   "cell_type": "code",
   "execution_count": null,
   "metadata": {},
   "outputs": [],
   "source": []
  },
  {
   "cell_type": "code",
   "execution_count": null,
   "metadata": {},
   "outputs": [],
   "source": []
  }
 ],
 "metadata": {
  "kernelspec": {
   "name": "python3",
   "display_name": "Python 3.8.5 64-bit ('python_env': conda)",
   "metadata": {
    "interpreter": {
     "hash": "c06d8e1b1669891c3984b93706210caa3676ed7802d5b18583ac85f035b50cd2"
    }
   }
  },
  "language_info": {
   "codemirror_mode": {
    "name": "ipython",
    "version": 3
   },
   "file_extension": ".py",
   "mimetype": "text/x-python",
   "name": "python",
   "nbconvert_exporter": "python",
   "pygments_lexer": "ipython3",
   "version": "3.8.5-final"
  }
 },
 "nbformat": 4,
 "nbformat_minor": 4
}